{
 "cells": [
  {
   "cell_type": "markdown",
   "metadata": {},
   "source": [
    "# Código de um SVM\n",
    "\n",
    "Este é o código e o conjunto de anotações de estudo sobre SVM\n",
    "\n",
    "Links interessantes:\n",
    "* http://tullo.ch/articles/svm-py/\n",
    "* http://blog.hackerearth.com/simple-tutorial-svm-parameter-tuning-python-r\n",
    "* https://github.com/ajtulloch/svmpy/blob/master/svmpy/svm.py\n",
    "* https://github.com/llSourcell/Classifying_Data_Using_a_Support_Vector_Machine/blob/master/support_vector_machine_lesson.ipynb\n",
    "* https://sadanand-singh.github.io/posts/svmpython/"
   ]
  },
  {
   "cell_type": "code",
   "execution_count": 1,
   "metadata": {
    "collapsed": true
   },
   "outputs": [],
   "source": [
    "import numpy as np\n",
    "from matplotlib import pyplot as plt\n",
    "%matplotlib inline"
   ]
  },
  {
   "cell_type": "code",
   "execution_count": 42,
   "metadata": {
    "collapsed": true
   },
   "outputs": [],
   "source": [
    "# Estes são nossos pontos de teste\n",
    "X = np.array([\n",
    "    [-2, 4, -1],\n",
    "    [4, 1, -1],\n",
    "    [1, 6, -1],\n",
    "    [2, 4, -1],\n",
    "    [6, 2, -1]\n",
    "])\n",
    "\n",
    "# Estas são as classes \n",
    "y = np.array([-1, -1, 1, 1, 1])"
   ]
  },
  {
   "cell_type": "code",
   "execution_count": 43,
   "metadata": {},
   "outputs": [
    {
     "data": {
      "text/plain": [
       "[<matplotlib.lines.Line2D at 0x28c770c6a58>]"
      ]
     },
     "execution_count": 43,
     "metadata": {},
     "output_type": "execute_result"
    },
    {
     "data": {
      "image/png": "[encoded data removed]",
      "text/plain": [
       "<matplotlib.figure.Figure at 0x28c770c6710>"
      ]
     },
     "metadata": {},
     "output_type": "display_data"
    }
   ],
   "source": [
    "for d, sample in enumerate(X):\n",
    "    marker = '+'\n",
    "    if y[d] == -1:\n",
    "        marker = '_'\n",
    "    plt.scatter(sample[0], sample[1], s=120, marker=marker, lw=2)\n",
    "\n",
    "# Vamos Tentar um hiper-plano que separe os pontos\n",
    "plt.plot([-2,6], [6, 0.5])"
   ]
  },
  {
   "cell_type": "code",
   "execution_count": 47,
   "metadata": {},
   "outputs": [],
   "source": [
    "# Otimizando uma função que é combinação de um regularizador + Hinge Loss Function \n",
    "\n",
    "# parâmatros\n",
    "eta = 1 # learning rate\n",
    "epochs = 1000\n",
    "\n",
    "\n",
    "def svm_sgd_plot(X, Y):\n",
    "    # inicializa os pesos do svg com 0\n",
    "    w = np.zeros(len(X[0]))\n",
    "\n",
    "    # armazenando os dados classificados de forma errada para plotarmos depois!\n",
    "    errors = []\n",
    "    for epoch in range (1, epochs):\n",
    "        error = 0\n",
    "        for i, x in enumerate(X):\n",
    "            # se está classificado errado\n",
    "            if (Y[i]*np.dot(X[1], w)) < 1:\n",
    "                w = w + eta * ((X[i] * Y[i]) * (-2 * 1/epoch) * w)\n",
    "                error = 1\n",
    "            else:\n",
    "                w = w + eta * (-2 * 1/epoch) * w  \n",
    "        errors.append(error)\n",
    "\n",
    "    #lets plot the rate of classification errors during training for our SVM\n",
    "    plt.plot(errors, '|')\n",
    "    plt.ylim(0.5,1.5)\n",
    "    plt.axes().set_yticklabels([])\n",
    "    plt.xlabel('Epoch')\n",
    "    plt.ylabel('Misclassified')\n",
    "    plt.show()\n",
    "    \n",
    "    return w"
   ]
  },
  {
   "cell_type": "code",
   "execution_count": 48,
   "metadata": {},
   "outputs": [
    {
     "data": {
      "text/plain": [
       "[<matplotlib.lines.Line2D at 0x28c772f78d0>]"
      ]
     },
     "execution_count": 48,
     "metadata": {},
     "output_type": "execute_result"
    },
    {
     "data": {
      "image/png": "[encoded data removed]",
      "text/plain": [
       "<matplotlib.figure.Figure at 0x28c771a2eb8>"
      ]
     },
     "metadata": {},
     "output_type": "display_data"
    }
   ],
   "source": [
    "for d, sample in enumerate(X):\n",
    "    marker = '+'\n",
    "    if y[d] == -1:\n",
    "        marker = '_'\n",
    "    plt.scatter(sample[0], sample[1], s=120, marker=marker, lw=2)\n",
    "\n",
    "#Samples de test\n",
    "plt.scatter(2, 2, s=120, marker='_', lw=2, color='yellow')\n",
    "plt.scatter(4, 3, s=120, marker='+', lw=2, color='blue')\n",
    "\n",
    "x2 = [w[0], w[1], -w[1], w[0]]\n",
    "x3 = [w[0], w[1], w[1], -w[0]]\n",
    "\n",
    "x2x3 = np.array([x2, x3])\n",
    "XX, YY, UU, VV = zip(*x2x3)\n",
    "ax = plt.gca()\n",
    "\n",
    "ax.quiver(XX, YY, UU, VV, scale=1, color='blue')\n",
    "\n",
    "# Vamos Tentar um hiper-plano que separe os pontos\n",
    "plt.plot([-2,6], [6, 0.5])"
   ]
  },
  {
   "cell_type": "code",
   "execution_count": 49,
   "metadata": {},
   "outputs": [
    {
     "data": {
      "image/png": "[encoded data removed]",
      "text/plain": [
       "<matplotlib.figure.Figure at 0x28c770aeb00>"
      ]
     },
     "metadata": {},
     "output_type": "display_data"
    }
   ],
   "source": [
    "w = svm_sgd_plot(X,y)"
   ]
  },
  {
   "cell_type": "code",
   "execution_count": null,
   "metadata": {
    "collapsed": true
   },
   "outputs": [],
   "source": []
  }
 ],
 "metadata": {
  "kernelspec": {
   "display_name": "Python 3",
   "language": "python",
   "name": "python3"
  },
  "language_info": {
   "codemirror_mode": {
    "name": "ipython",
    "version": 3
   },
   "file_extension": ".py",
   "mimetype": "text/x-python",
   "name": "python",
   "nbconvert_exporter": "python",
   "pygments_lexer": "ipython3",
   "version": "3.5.3"
  }
 },
 "nbformat": 4,
 "nbformat_minor": 2
}
