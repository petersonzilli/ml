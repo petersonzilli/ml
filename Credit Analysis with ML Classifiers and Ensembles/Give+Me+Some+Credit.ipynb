{
 "cells": [
  {
   "cell_type": "markdown",
   "metadata": {},
   "source": [
    "# Dê-me algum crédito!\n",
    "### Por Peterson Katagiri Zilli ([peterson.zilli@gmail.com](mailto:peterson.zilli@gmail.com))\n",
    "\n",
    "A palavra _crédito_ está relacionada a _fé_ e significa [confiança na reputação de alguém](http://www.priberam.pt/dlpo/cr%C3%A9dito) segundo o dicionário.\n",
    "\n",
    "Na Economia, também usamos esta palavra a fim de nos referimos à _concessão de crédito_, que é quando 'deixamos um valor à disposição de alguém' -- geralmente com a _fé_ de que este valor retorne para nossos bolsos com juros e correção monetária. \n",
    "\n",
    "A concessão de crédito é um instrumento necessário para a manutenção e crescimento da nossa economia e está muito presente no nosso dia-a-dia: seja quando o governo busca recursos para seu custeio e investimentos lançando papéis no mercado com a promessa de pagar valores nos prazos definidos (Crédito Público), ou quando as empresas ou pessoas físicas buscam dinheiro para antecipar as necessidades de consumo, investimento ou para cobrir capital de giro (Crédito Privado), com a promessa de pagar um valor ajustado, no futuro.\n",
    "\n",
    "Conceder crédito é uma função extremamente importante -- tanto para quem recebe o crédito e a partir daí é capaz de realizações ainda maiores, quanto para quem empresta e é remunerado por isso. Contudo, emprestar é uma tarefa que deve ser realizada com muito cuidado...\n",
    "\n",
    "Afinal, o que acontece quando quem emprestou não consegue reaver o valor corrigido de volta?\n",
    "\n",
    "O objetivo neste ensaio é apresentar métodos para auxílio à tomada de decisão para concessão de crédito através de algorithmos baseados em aprendizado de máquina, mas este certamente [não é a única forma da tecnologia ajudar o processo de empréstimo](https://techcrunch.com/2016/06/23/how-new-tech-can-improve-the-loan-process/).\n",
    "\n",
    "Limitei o assunto a métodos de análise de crédito pulverizado e de pouco valor e para pessoas físicas, assumindo a visão de uma instituição financeira que cede empréstimos no varejo - como um banco, financeira ou fintechs. Naturalmente, análise de crédido para valores maiores necessitam de atenção individual -- o que não quer dizer que os métodos apresentados aqui não possoam agregar como mais uma das informações para se levar em consideração "
   ]
  },
  {
   "cell_type": "markdown",
   "metadata": {},
   "source": [
    "> ## Resultados Principais\n",
    "> * Desenvolvemos modelos computacionais de aprendizagem de máquina para análise de crédito para pessoa física\n",
    "> * Comparamos estes modelos ao método tradicional de _Credit Scoring_ apresentados no livro \"Análise e Avaliação de Crédito\" de J. R. Securato\n",
    "> * Mostramos que o conhecimento do domínio do problema na preparação dos dados e escolha dosd métodos faz diferença no resultado final\n",
    "> * Métodos que combinam modelos - mesmo que fracos - trazem os melhores resultados"
   ]
  },
  {
   "cell_type": "markdown",
   "metadata": {},
   "source": [
    "# Métodos\n",
    "\n",
    "## Modelos Utilizados\n",
    "\n",
    "Há uma série de métodos de classificação discutidos na literatura de Machine Learning quando se trata de problemas de classificação. Trouxemos alguns para esta avaliação:\n",
    "\n",
    "* **_Nearest Neighbor_**: prediz a classe de uma instância qualquer (aqui, \"instância\" significa o registro dos dados da pessoa que você quer classificar para conceder crédito ou não) a partir da instância mais próxima dela no conjunto de instâncias de treinamento (aquele conjunto de instâncias que usamos para criar o modelo, que além dos dados da pessoa também tem a classe a que ela pertence). Chamamos esta instância mais próxima de \"vizinha\". Instâncias são \"vizinhas\" da instância consultada são aquelas do conjunto do treinamento cujas características mais se assemelham aos da consulta por alguma métrica de distância. \n",
    "* **Regressão Logística (Logistic Regression)**: Prediz a classe da instância a partir do resultado de uma regressão logística:  \"Se o resultado da regressão sobre os dados da instância for maior que um número limite então é de uma classe, caso contrário, pertence à outra.\"\n",
    "* **Árvores de Classificação e Regressão (CART)**: Método baseado em árvores de decisão no qual cada nó interno representa uma decisão sobre uma variável e cada nó folha define a previsão da classe da consulta. Mais detalhes [aqui](https://en.wikipedia.org/wiki/Decision_tree_learning) e [aqui](https://ocw.mit.edu/courses/sloan-school-of-management/15-097-prediction-machine-learning-and-statistics-spring-2012/lecture-notes/MIT15_097S12_lec08.pdf)\n",
    "* **Florestas Aleatórias sobre sobre Árvores de Classificação**: Classificam uma instância de acordo com a [moda](https://pt.wikipedia.org/wiki/Moda_(estat%C3%ADstica)) dos resultados de um conjunto de árvores de decisão cuidadosamente treinadas em diferentes partes do conjunto de treinamento, a fim de construir árvores de decisão com variância controlada. Mais detalhes [aqui](https://www.stat.berkeley.edu/~breiman/randomforest2001.pdf) e [aqui](https://en.wikipedia.org/wiki/Random_forest).\n",
    "* **Gradient Boosting Tree (GBT ou Algoritmos de _Boosting_ sobre Árvores de Classificação)**: este algorithmo melhora a acurácia de uma função preditiva através da minimização incremental do erro residual. Parece grego? [aqui(em inglês)](http://blog.kaggle.com/2017/01/23/a-kaggle-master-explains-gradient-boosting/) está a explicação intuitiva de como este método funciona.\n",
    "* **_Support Vector Machines_**: prediz a classe de uma variável binária dependendo de que lado de que lado de um hiperplano a amostra cai. Há um tutorial simples com implementação [aqui](http://blog.hackerearth.com/simple-tutorial-svm-parameter-tuning-python-r), mas neste artigo vamos usar uma outra implementação do pacote GraphLab.\n",
    "* **Neural Networks**: Utiliza [redes neurais artificiais](https://pt.wikipedia.org/wiki/Rede_neural_artificial) inspiradas nas redes neurais naturais para classificar instâncias.\n",
    "* **Bagging de Métodos de Classificação **: Neste caso, a cada instância que queremos testar, juntamos todas as respostas de um conjunto de classificadores criados a partir dos métodos acima. A classe que a maioria dos classificadores respondeu será a classe final da instância. Este tipo de _ensemble_ é chamado de bagging, entretanto há uma série de outros modos de combinar classificadores fracos para se chegar a uma performance melhor. Dá uma olhadela [aqui](https://en.wikipedia.org/wiki/Ensemble_learning#Common_types_of_ensembles). Ah! Tem mais... _Florestas Aleatórias_ e _Gradient Boosting Trees_ são por si mesmas métodos de _ensemble_ de modelos mais fracos. "
   ]
  },
  {
   "cell_type": "markdown",
   "metadata": {},
   "source": [
    "## Dados\n",
    "\n",
    "### Estrutura dos dados utilizados neste ensaio\n",
    "\n",
    "Usamos aqui o conjunto de dados de empréstimos disponibilizados na competição \"Give me some credit\" (veja [website da Kaggle](https://www.kaggle.com/c/GiveMeSomeCredit/data)).\n",
    "\n",
    "A base de dados é dividida em dois grupos: o de treinamento (com 150000 registros) e o de testes (com 101503 registros)\n",
    "\n",
    "Cada registro desta base traz as 10 características abaixo:\n",
    "\n",
    "* idade do mutuário (o tomador do empréstimo)\n",
    "* renda mensal\n",
    "* percentual dos gastos mensais em relação à renda mensal\n",
    "* número de dependentes\n",
    "* número de hipotecas e empréstimos imobiliários\n",
    "* número de linhas de crédito e empréstimos abertos (sem contar hipotecas ou empréstimos imobiliários)\n",
    "* saldo total no cartão de crédito dividido pela soma dos limites de crédito\n",
    "* número de vezes que o mutuário atrasou pagamentos entre 30 a 59 dias nos últimos 2 anos  \n",
    "* número de vezes que o mutuário atrasou pagamentos entre 60 a 89 dias nos últimos 2 anos  \n",
    "* número de vezes que o mutuário atrasou pagamentos 90 dias.  \n",
    "\n",
    "O objetivo é saber se a pessoa atrasou pagamentos de 90 dias ou mais nos últimos dois anos (1 se sim, 0 se não).\n",
    "\n",
    "### Análise exploratória e transformação dos dados de aprovação de crédito (ou melhor, Que dados são estes?!)\n",
    "\n",
    "*árvores de classificação tem dificuldade de tratar de relacões não lineares entre os dados\n",
    "\n",
    "* O que fazer com o DebtRatio? Dados muito distantes da média \n",
    "\n",
    "* DTI: http://www.moneycrashers.com/how-to-calculate-debt-to-income-ratio-mortgage-loan/\n",
    "\n",
    "* Idade acima dos 60 anos pode receber aposentadoria\n",
    "\n",
    "* Número real (e não percentual) de quanto sobra no final do mês\n",
    "\n",
    "Os dados São bastante desbalanceados, como fazer para aumentar a proporção para 30%? através de selecionar aleatoriamente uma saída positiva e adicionar no conjunto de dados de treinamento.\n"
   ]
  },
  {
   "cell_type": "code",
   "execution_count": 81,
   "metadata": {
    "collapsed": true
   },
   "outputs": [],
   "source": [
    "import graphlab\n",
    "from graphlab import SFrame\n",
    "graphlab.canvas.set_target('ipynb')"
   ]
  },
  {
   "cell_type": "code",
   "execution_count": 71,
   "metadata": {},
   "outputs": [
    {
     "data": {
      "text/html": [
       "<pre>Finished parsing file C:\\Users\\peter\\Developer\\ML\\Kaggle_GiveMeSomeCredit\\data\\cs-training.csv</pre>"
      ],
      "text/plain": [
       "Finished parsing file C:\\Users\\peter\\Developer\\ML\\Kaggle_GiveMeSomeCredit\\data\\cs-training.csv"
      ]
     },
     "metadata": {},
     "output_type": "display_data"
    },
    {
     "data": {
      "text/html": [
       "<pre>Parsing completed. Parsed 100 lines in 0.195001 secs.</pre>"
      ],
      "text/plain": [
       "Parsing completed. Parsed 100 lines in 0.195001 secs."
      ]
     },
     "metadata": {},
     "output_type": "display_data"
    },
    {
     "name": "stdout",
     "output_type": "stream",
     "text": [
      "------------------------------------------------------\n",
      "Inferred types from first 100 line(s) of file as \n",
      "column_type_hints=[long,long,float,long,long,float,long,long,long,long,long,long]\n",
      "If parsing fails due to incorrect types, you can correct\n",
      "the inferred type list above and pass it to read_csv in\n",
      "the column_type_hints argument\n",
      "------------------------------------------------------\n"
     ]
    },
    {
     "data": {
      "text/html": [
       "<pre>Finished parsing file C:\\Users\\peter\\Developer\\ML\\Kaggle_GiveMeSomeCredit\\data\\cs-training.csv</pre>"
      ],
      "text/plain": [
       "Finished parsing file C:\\Users\\peter\\Developer\\ML\\Kaggle_GiveMeSomeCredit\\data\\cs-training.csv"
      ]
     },
     "metadata": {},
     "output_type": "display_data"
    },
    {
     "data": {
      "text/html": [
       "<pre>Parsing completed. Parsed 150000 lines in 0.185502 secs.</pre>"
      ],
      "text/plain": [
       "Parsing completed. Parsed 150000 lines in 0.185502 secs."
      ]
     },
     "metadata": {},
     "output_type": "display_data"
    }
   ],
   "source": [
    "sf = SFrame(data=\"C:\\\\Users\\\\peter\\\\Developer\\\\ML\\\\Kaggle_GiveMeSomeCredit\\\\data\\\\cs-training.csv\")"
   ]
  },
  {
   "cell_type": "code",
   "execution_count": 83,
   "metadata": {},
   "outputs": [
    {
     "data": {
      "text/html": [
       "<div style=\"max-height:1000px;max-width:1500px;overflow:auto;\"><table frame=\"box\" rules=\"cols\">\n",
       "    <tr>\n",
       "        <th style=\"padding-left: 1em; padding-right: 1em; text-align: center\">X1</th>\n",
       "        <th style=\"padding-left: 1em; padding-right: 1em; text-align: center\">SeriousDlqin2yrs</th>\n",
       "        <th style=\"padding-left: 1em; padding-right: 1em; text-align: center\">RevolvingUtilizationOfUns<br>ecuredLines ...</th>\n",
       "        <th style=\"padding-left: 1em; padding-right: 1em; text-align: center\">age</th>\n",
       "        <th style=\"padding-left: 1em; padding-right: 1em; text-align: center\">NumberOfTime30-59DaysPast<br>DueNotWorse ...</th>\n",
       "        <th style=\"padding-left: 1em; padding-right: 1em; text-align: center\">DebtRatio</th>\n",
       "        <th style=\"padding-left: 1em; padding-right: 1em; text-align: center\">MonthlyIncome</th>\n",
       "        <th style=\"padding-left: 1em; padding-right: 1em; text-align: center\">NumberOfOpenCreditLinesAn<br>dLoans ...</th>\n",
       "    </tr>\n",
       "    <tr>\n",
       "        <td style=\"padding-left: 1em; padding-right: 1em; text-align: center; vertical-align: top\">1</td>\n",
       "        <td style=\"padding-left: 1em; padding-right: 1em; text-align: center; vertical-align: top\">1</td>\n",
       "        <td style=\"padding-left: 1em; padding-right: 1em; text-align: center; vertical-align: top\">0.766126609</td>\n",
       "        <td style=\"padding-left: 1em; padding-right: 1em; text-align: center; vertical-align: top\">45</td>\n",
       "        <td style=\"padding-left: 1em; padding-right: 1em; text-align: center; vertical-align: top\">2</td>\n",
       "        <td style=\"padding-left: 1em; padding-right: 1em; text-align: center; vertical-align: top\">0.802982129</td>\n",
       "        <td style=\"padding-left: 1em; padding-right: 1em; text-align: center; vertical-align: top\">9120</td>\n",
       "        <td style=\"padding-left: 1em; padding-right: 1em; text-align: center; vertical-align: top\">13</td>\n",
       "    </tr>\n",
       "    <tr>\n",
       "        <td style=\"padding-left: 1em; padding-right: 1em; text-align: center; vertical-align: top\">2</td>\n",
       "        <td style=\"padding-left: 1em; padding-right: 1em; text-align: center; vertical-align: top\">0</td>\n",
       "        <td style=\"padding-left: 1em; padding-right: 1em; text-align: center; vertical-align: top\">0.957151019</td>\n",
       "        <td style=\"padding-left: 1em; padding-right: 1em; text-align: center; vertical-align: top\">40</td>\n",
       "        <td style=\"padding-left: 1em; padding-right: 1em; text-align: center; vertical-align: top\">0</td>\n",
       "        <td style=\"padding-left: 1em; padding-right: 1em; text-align: center; vertical-align: top\">0.121876201</td>\n",
       "        <td style=\"padding-left: 1em; padding-right: 1em; text-align: center; vertical-align: top\">2600</td>\n",
       "        <td style=\"padding-left: 1em; padding-right: 1em; text-align: center; vertical-align: top\">4</td>\n",
       "    </tr>\n",
       "    <tr>\n",
       "        <td style=\"padding-left: 1em; padding-right: 1em; text-align: center; vertical-align: top\">3</td>\n",
       "        <td style=\"padding-left: 1em; padding-right: 1em; text-align: center; vertical-align: top\">0</td>\n",
       "        <td style=\"padding-left: 1em; padding-right: 1em; text-align: center; vertical-align: top\">0.65818014</td>\n",
       "        <td style=\"padding-left: 1em; padding-right: 1em; text-align: center; vertical-align: top\">38</td>\n",
       "        <td style=\"padding-left: 1em; padding-right: 1em; text-align: center; vertical-align: top\">1</td>\n",
       "        <td style=\"padding-left: 1em; padding-right: 1em; text-align: center; vertical-align: top\">0.085113375</td>\n",
       "        <td style=\"padding-left: 1em; padding-right: 1em; text-align: center; vertical-align: top\">3042</td>\n",
       "        <td style=\"padding-left: 1em; padding-right: 1em; text-align: center; vertical-align: top\">2</td>\n",
       "    </tr>\n",
       "    <tr>\n",
       "        <td style=\"padding-left: 1em; padding-right: 1em; text-align: center; vertical-align: top\">4</td>\n",
       "        <td style=\"padding-left: 1em; padding-right: 1em; text-align: center; vertical-align: top\">0</td>\n",
       "        <td style=\"padding-left: 1em; padding-right: 1em; text-align: center; vertical-align: top\">0.233809776</td>\n",
       "        <td style=\"padding-left: 1em; padding-right: 1em; text-align: center; vertical-align: top\">30</td>\n",
       "        <td style=\"padding-left: 1em; padding-right: 1em; text-align: center; vertical-align: top\">0</td>\n",
       "        <td style=\"padding-left: 1em; padding-right: 1em; text-align: center; vertical-align: top\">0.036049682</td>\n",
       "        <td style=\"padding-left: 1em; padding-right: 1em; text-align: center; vertical-align: top\">3300</td>\n",
       "        <td style=\"padding-left: 1em; padding-right: 1em; text-align: center; vertical-align: top\">5</td>\n",
       "    </tr>\n",
       "    <tr>\n",
       "        <td style=\"padding-left: 1em; padding-right: 1em; text-align: center; vertical-align: top\">5</td>\n",
       "        <td style=\"padding-left: 1em; padding-right: 1em; text-align: center; vertical-align: top\">0</td>\n",
       "        <td style=\"padding-left: 1em; padding-right: 1em; text-align: center; vertical-align: top\">0.9072394</td>\n",
       "        <td style=\"padding-left: 1em; padding-right: 1em; text-align: center; vertical-align: top\">49</td>\n",
       "        <td style=\"padding-left: 1em; padding-right: 1em; text-align: center; vertical-align: top\">1</td>\n",
       "        <td style=\"padding-left: 1em; padding-right: 1em; text-align: center; vertical-align: top\">0.024925695</td>\n",
       "        <td style=\"padding-left: 1em; padding-right: 1em; text-align: center; vertical-align: top\">63588</td>\n",
       "        <td style=\"padding-left: 1em; padding-right: 1em; text-align: center; vertical-align: top\">7</td>\n",
       "    </tr>\n",
       "    <tr>\n",
       "        <td style=\"padding-left: 1em; padding-right: 1em; text-align: center; vertical-align: top\">6</td>\n",
       "        <td style=\"padding-left: 1em; padding-right: 1em; text-align: center; vertical-align: top\">0</td>\n",
       "        <td style=\"padding-left: 1em; padding-right: 1em; text-align: center; vertical-align: top\">0.213178682</td>\n",
       "        <td style=\"padding-left: 1em; padding-right: 1em; text-align: center; vertical-align: top\">74</td>\n",
       "        <td style=\"padding-left: 1em; padding-right: 1em; text-align: center; vertical-align: top\">0</td>\n",
       "        <td style=\"padding-left: 1em; padding-right: 1em; text-align: center; vertical-align: top\">0.375606969</td>\n",
       "        <td style=\"padding-left: 1em; padding-right: 1em; text-align: center; vertical-align: top\">3500</td>\n",
       "        <td style=\"padding-left: 1em; padding-right: 1em; text-align: center; vertical-align: top\">3</td>\n",
       "    </tr>\n",
       "    <tr>\n",
       "        <td style=\"padding-left: 1em; padding-right: 1em; text-align: center; vertical-align: top\">7</td>\n",
       "        <td style=\"padding-left: 1em; padding-right: 1em; text-align: center; vertical-align: top\">0</td>\n",
       "        <td style=\"padding-left: 1em; padding-right: 1em; text-align: center; vertical-align: top\">0.305682465</td>\n",
       "        <td style=\"padding-left: 1em; padding-right: 1em; text-align: center; vertical-align: top\">57</td>\n",
       "        <td style=\"padding-left: 1em; padding-right: 1em; text-align: center; vertical-align: top\">0</td>\n",
       "        <td style=\"padding-left: 1em; padding-right: 1em; text-align: center; vertical-align: top\">5710.0</td>\n",
       "        <td style=\"padding-left: 1em; padding-right: 1em; text-align: center; vertical-align: top\">None</td>\n",
       "        <td style=\"padding-left: 1em; padding-right: 1em; text-align: center; vertical-align: top\">8</td>\n",
       "    </tr>\n",
       "    <tr>\n",
       "        <td style=\"padding-left: 1em; padding-right: 1em; text-align: center; vertical-align: top\">8</td>\n",
       "        <td style=\"padding-left: 1em; padding-right: 1em; text-align: center; vertical-align: top\">0</td>\n",
       "        <td style=\"padding-left: 1em; padding-right: 1em; text-align: center; vertical-align: top\">0.754463648</td>\n",
       "        <td style=\"padding-left: 1em; padding-right: 1em; text-align: center; vertical-align: top\">39</td>\n",
       "        <td style=\"padding-left: 1em; padding-right: 1em; text-align: center; vertical-align: top\">0</td>\n",
       "        <td style=\"padding-left: 1em; padding-right: 1em; text-align: center; vertical-align: top\">0.209940017</td>\n",
       "        <td style=\"padding-left: 1em; padding-right: 1em; text-align: center; vertical-align: top\">3500</td>\n",
       "        <td style=\"padding-left: 1em; padding-right: 1em; text-align: center; vertical-align: top\">8</td>\n",
       "    </tr>\n",
       "    <tr>\n",
       "        <td style=\"padding-left: 1em; padding-right: 1em; text-align: center; vertical-align: top\">9</td>\n",
       "        <td style=\"padding-left: 1em; padding-right: 1em; text-align: center; vertical-align: top\">0</td>\n",
       "        <td style=\"padding-left: 1em; padding-right: 1em; text-align: center; vertical-align: top\">0.116950644</td>\n",
       "        <td style=\"padding-left: 1em; padding-right: 1em; text-align: center; vertical-align: top\">27</td>\n",
       "        <td style=\"padding-left: 1em; padding-right: 1em; text-align: center; vertical-align: top\">0</td>\n",
       "        <td style=\"padding-left: 1em; padding-right: 1em; text-align: center; vertical-align: top\">46.0</td>\n",
       "        <td style=\"padding-left: 1em; padding-right: 1em; text-align: center; vertical-align: top\">None</td>\n",
       "        <td style=\"padding-left: 1em; padding-right: 1em; text-align: center; vertical-align: top\">2</td>\n",
       "    </tr>\n",
       "    <tr>\n",
       "        <td style=\"padding-left: 1em; padding-right: 1em; text-align: center; vertical-align: top\">10</td>\n",
       "        <td style=\"padding-left: 1em; padding-right: 1em; text-align: center; vertical-align: top\">0</td>\n",
       "        <td style=\"padding-left: 1em; padding-right: 1em; text-align: center; vertical-align: top\">0.189169052</td>\n",
       "        <td style=\"padding-left: 1em; padding-right: 1em; text-align: center; vertical-align: top\">57</td>\n",
       "        <td style=\"padding-left: 1em; padding-right: 1em; text-align: center; vertical-align: top\">0</td>\n",
       "        <td style=\"padding-left: 1em; padding-right: 1em; text-align: center; vertical-align: top\">0.606290901</td>\n",
       "        <td style=\"padding-left: 1em; padding-right: 1em; text-align: center; vertical-align: top\">23684</td>\n",
       "        <td style=\"padding-left: 1em; padding-right: 1em; text-align: center; vertical-align: top\">9</td>\n",
       "    </tr>\n",
       "</table>\n",
       "<table frame=\"box\" rules=\"cols\">\n",
       "    <tr>\n",
       "        <th style=\"padding-left: 1em; padding-right: 1em; text-align: center\">NumberOfTimes90DaysLate</th>\n",
       "        <th style=\"padding-left: 1em; padding-right: 1em; text-align: center\">NumberRealEstateLoansOrLi<br>nes ...</th>\n",
       "        <th style=\"padding-left: 1em; padding-right: 1em; text-align: center\">NumberOfTime60-89DaysPast<br>DueNotWorse ...</th>\n",
       "        <th style=\"padding-left: 1em; padding-right: 1em; text-align: center\">NumberOfDependents</th>\n",
       "        <th style=\"padding-left: 1em; padding-right: 1em; text-align: center\">Is60orMoreYearsOld</th>\n",
       "    </tr>\n",
       "    <tr>\n",
       "        <td style=\"padding-left: 1em; padding-right: 1em; text-align: center; vertical-align: top\">0</td>\n",
       "        <td style=\"padding-left: 1em; padding-right: 1em; text-align: center; vertical-align: top\">6</td>\n",
       "        <td style=\"padding-left: 1em; padding-right: 1em; text-align: center; vertical-align: top\">0</td>\n",
       "        <td style=\"padding-left: 1em; padding-right: 1em; text-align: center; vertical-align: top\">2</td>\n",
       "        <td style=\"padding-left: 1em; padding-right: 1em; text-align: center; vertical-align: top\">0</td>\n",
       "    </tr>\n",
       "    <tr>\n",
       "        <td style=\"padding-left: 1em; padding-right: 1em; text-align: center; vertical-align: top\">0</td>\n",
       "        <td style=\"padding-left: 1em; padding-right: 1em; text-align: center; vertical-align: top\">0</td>\n",
       "        <td style=\"padding-left: 1em; padding-right: 1em; text-align: center; vertical-align: top\">0</td>\n",
       "        <td style=\"padding-left: 1em; padding-right: 1em; text-align: center; vertical-align: top\">1</td>\n",
       "        <td style=\"padding-left: 1em; padding-right: 1em; text-align: center; vertical-align: top\">0</td>\n",
       "    </tr>\n",
       "    <tr>\n",
       "        <td style=\"padding-left: 1em; padding-right: 1em; text-align: center; vertical-align: top\">1</td>\n",
       "        <td style=\"padding-left: 1em; padding-right: 1em; text-align: center; vertical-align: top\">0</td>\n",
       "        <td style=\"padding-left: 1em; padding-right: 1em; text-align: center; vertical-align: top\">0</td>\n",
       "        <td style=\"padding-left: 1em; padding-right: 1em; text-align: center; vertical-align: top\">0</td>\n",
       "        <td style=\"padding-left: 1em; padding-right: 1em; text-align: center; vertical-align: top\">0</td>\n",
       "    </tr>\n",
       "    <tr>\n",
       "        <td style=\"padding-left: 1em; padding-right: 1em; text-align: center; vertical-align: top\">0</td>\n",
       "        <td style=\"padding-left: 1em; padding-right: 1em; text-align: center; vertical-align: top\">0</td>\n",
       "        <td style=\"padding-left: 1em; padding-right: 1em; text-align: center; vertical-align: top\">0</td>\n",
       "        <td style=\"padding-left: 1em; padding-right: 1em; text-align: center; vertical-align: top\">0</td>\n",
       "        <td style=\"padding-left: 1em; padding-right: 1em; text-align: center; vertical-align: top\">0</td>\n",
       "    </tr>\n",
       "    <tr>\n",
       "        <td style=\"padding-left: 1em; padding-right: 1em; text-align: center; vertical-align: top\">0</td>\n",
       "        <td style=\"padding-left: 1em; padding-right: 1em; text-align: center; vertical-align: top\">1</td>\n",
       "        <td style=\"padding-left: 1em; padding-right: 1em; text-align: center; vertical-align: top\">0</td>\n",
       "        <td style=\"padding-left: 1em; padding-right: 1em; text-align: center; vertical-align: top\">0</td>\n",
       "        <td style=\"padding-left: 1em; padding-right: 1em; text-align: center; vertical-align: top\">0</td>\n",
       "    </tr>\n",
       "    <tr>\n",
       "        <td style=\"padding-left: 1em; padding-right: 1em; text-align: center; vertical-align: top\">0</td>\n",
       "        <td style=\"padding-left: 1em; padding-right: 1em; text-align: center; vertical-align: top\">1</td>\n",
       "        <td style=\"padding-left: 1em; padding-right: 1em; text-align: center; vertical-align: top\">0</td>\n",
       "        <td style=\"padding-left: 1em; padding-right: 1em; text-align: center; vertical-align: top\">1</td>\n",
       "        <td style=\"padding-left: 1em; padding-right: 1em; text-align: center; vertical-align: top\">1</td>\n",
       "    </tr>\n",
       "    <tr>\n",
       "        <td style=\"padding-left: 1em; padding-right: 1em; text-align: center; vertical-align: top\">0</td>\n",
       "        <td style=\"padding-left: 1em; padding-right: 1em; text-align: center; vertical-align: top\">3</td>\n",
       "        <td style=\"padding-left: 1em; padding-right: 1em; text-align: center; vertical-align: top\">0</td>\n",
       "        <td style=\"padding-left: 1em; padding-right: 1em; text-align: center; vertical-align: top\">0</td>\n",
       "        <td style=\"padding-left: 1em; padding-right: 1em; text-align: center; vertical-align: top\">0</td>\n",
       "    </tr>\n",
       "    <tr>\n",
       "        <td style=\"padding-left: 1em; padding-right: 1em; text-align: center; vertical-align: top\">0</td>\n",
       "        <td style=\"padding-left: 1em; padding-right: 1em; text-align: center; vertical-align: top\">0</td>\n",
       "        <td style=\"padding-left: 1em; padding-right: 1em; text-align: center; vertical-align: top\">0</td>\n",
       "        <td style=\"padding-left: 1em; padding-right: 1em; text-align: center; vertical-align: top\">0</td>\n",
       "        <td style=\"padding-left: 1em; padding-right: 1em; text-align: center; vertical-align: top\">0</td>\n",
       "    </tr>\n",
       "    <tr>\n",
       "        <td style=\"padding-left: 1em; padding-right: 1em; text-align: center; vertical-align: top\">0</td>\n",
       "        <td style=\"padding-left: 1em; padding-right: 1em; text-align: center; vertical-align: top\">0</td>\n",
       "        <td style=\"padding-left: 1em; padding-right: 1em; text-align: center; vertical-align: top\">0</td>\n",
       "        <td style=\"padding-left: 1em; padding-right: 1em; text-align: center; vertical-align: top\">None</td>\n",
       "        <td style=\"padding-left: 1em; padding-right: 1em; text-align: center; vertical-align: top\">0</td>\n",
       "    </tr>\n",
       "    <tr>\n",
       "        <td style=\"padding-left: 1em; padding-right: 1em; text-align: center; vertical-align: top\">0</td>\n",
       "        <td style=\"padding-left: 1em; padding-right: 1em; text-align: center; vertical-align: top\">4</td>\n",
       "        <td style=\"padding-left: 1em; padding-right: 1em; text-align: center; vertical-align: top\">0</td>\n",
       "        <td style=\"padding-left: 1em; padding-right: 1em; text-align: center; vertical-align: top\">2</td>\n",
       "        <td style=\"padding-left: 1em; padding-right: 1em; text-align: center; vertical-align: top\">0</td>\n",
       "    </tr>\n",
       "</table>\n",
       "<table frame=\"box\" rules=\"cols\">\n",
       "    <tr>\n",
       "        <th style=\"padding-left: 1em; padding-right: 1em; text-align: center\">DTI</th>\n",
       "        <th style=\"padding-left: 1em; padding-right: 1em; text-align: center\">TotalResidualMothlyIncome</th>\n",
       "    </tr>\n",
       "    <tr>\n",
       "        <td style=\"padding-left: 1em; padding-right: 1em; text-align: center; vertical-align: top\">1</td>\n",
       "        <td style=\"padding-left: 1em; padding-right: 1em; text-align: center; vertical-align: top\">1796.80298352</td>\n",
       "    </tr>\n",
       "    <tr>\n",
       "        <td style=\"padding-left: 1em; padding-right: 1em; text-align: center; vertical-align: top\">0</td>\n",
       "        <td style=\"padding-left: 1em; padding-right: 1em; text-align: center; vertical-align: top\">2283.1218774</td>\n",
       "    </tr>\n",
       "    <tr>\n",
       "        <td style=\"padding-left: 1em; padding-right: 1em; text-align: center; vertical-align: top\">0</td>\n",
       "        <td style=\"padding-left: 1em; padding-right: 1em; text-align: center; vertical-align: top\">2783.08511325</td>\n",
       "    </tr>\n",
       "    <tr>\n",
       "        <td style=\"padding-left: 1em; padding-right: 1em; text-align: center; vertical-align: top\">0</td>\n",
       "        <td style=\"padding-left: 1em; padding-right: 1em; text-align: center; vertical-align: top\">3181.0360494</td>\n",
       "    </tr>\n",
       "    <tr>\n",
       "        <td style=\"padding-left: 1em; padding-right: 1em; text-align: center; vertical-align: top\">0</td>\n",
       "        <td style=\"padding-left: 1em; padding-right: 1em; text-align: center; vertical-align: top\">62003.0249063</td>\n",
       "    </tr>\n",
       "    <tr>\n",
       "        <td style=\"padding-left: 1em; padding-right: 1em; text-align: center; vertical-align: top\">0</td>\n",
       "        <td style=\"padding-left: 1em; padding-right: 1em; text-align: center; vertical-align: top\">2185.3756085</td>\n",
       "    </tr>\n",
       "    <tr>\n",
       "        <td style=\"padding-left: 1em; padding-right: 1em; text-align: center; vertical-align: top\">1</td>\n",
       "        <td style=\"padding-left: 1em; padding-right: 1em; text-align: center; vertical-align: top\">None</td>\n",
       "    </tr>\n",
       "    <tr>\n",
       "        <td style=\"padding-left: 1em; padding-right: 1em; text-align: center; vertical-align: top\">0</td>\n",
       "        <td style=\"padding-left: 1em; padding-right: 1em; text-align: center; vertical-align: top\">2765.2099405</td>\n",
       "    </tr>\n",
       "    <tr>\n",
       "        <td style=\"padding-left: 1em; padding-right: 1em; text-align: center; vertical-align: top\">1</td>\n",
       "        <td style=\"padding-left: 1em; padding-right: 1em; text-align: center; vertical-align: top\">None</td>\n",
       "    </tr>\n",
       "    <tr>\n",
       "        <td style=\"padding-left: 1em; padding-right: 1em; text-align: center; vertical-align: top\">0</td>\n",
       "        <td style=\"padding-left: 1em; padding-right: 1em; text-align: center; vertical-align: top\">9324.60630072</td>\n",
       "    </tr>\n",
       "</table>\n",
       "[10 rows x 15 columns]<br/>\n",
       "</div>"
      ],
      "text/plain": [
       "Columns:\n",
       "\tX1\tint\n",
       "\tSeriousDlqin2yrs\tint\n",
       "\tRevolvingUtilizationOfUnsecuredLines\tfloat\n",
       "\tage\tint\n",
       "\tNumberOfTime30-59DaysPastDueNotWorse\tint\n",
       "\tDebtRatio\tfloat\n",
       "\tMonthlyIncome\tint\n",
       "\tNumberOfOpenCreditLinesAndLoans\tint\n",
       "\tNumberOfTimes90DaysLate\tint\n",
       "\tNumberRealEstateLoansOrLines\tint\n",
       "\tNumberOfTime60-89DaysPastDueNotWorse\tint\n",
       "\tNumberOfDependents\tint\n",
       "\tIs60orMoreYearsOld\tint\n",
       "\tDTI\tint\n",
       "\tTotalResidualMothlyIncome\tfloat\n",
       "\n",
       "Rows: 10\n",
       "\n",
       "Data:\n",
       "+----+------------------+-------------------------------+-----+-------------------------------+\n",
       "| X1 | SeriousDlqin2yrs | RevolvingUtilizationOfUnse... | age | NumberOfTime30-59DaysPastD... |\n",
       "+----+------------------+-------------------------------+-----+-------------------------------+\n",
       "| 1  |        1         |          0.766126609          |  45 |               2               |\n",
       "| 2  |        0         |          0.957151019          |  40 |               0               |\n",
       "| 3  |        0         |           0.65818014          |  38 |               1               |\n",
       "| 4  |        0         |          0.233809776          |  30 |               0               |\n",
       "| 5  |        0         |           0.9072394           |  49 |               1               |\n",
       "| 6  |        0         |          0.213178682          |  74 |               0               |\n",
       "| 7  |        0         |          0.305682465          |  57 |               0               |\n",
       "| 8  |        0         |          0.754463648          |  39 |               0               |\n",
       "| 9  |        0         |          0.116950644          |  27 |               0               |\n",
       "| 10 |        0         |          0.189169052          |  57 |               0               |\n",
       "+----+------------------+-------------------------------+-----+-------------------------------+\n",
       "+-------------+---------------+-------------------------------+-------------------------+\n",
       "|  DebtRatio  | MonthlyIncome | NumberOfOpenCreditLinesAnd... | NumberOfTimes90DaysLate |\n",
       "+-------------+---------------+-------------------------------+-------------------------+\n",
       "| 0.802982129 |      9120     |               13              |            0            |\n",
       "| 0.121876201 |      2600     |               4               |            0            |\n",
       "| 0.085113375 |      3042     |               2               |            1            |\n",
       "| 0.036049682 |      3300     |               5               |            0            |\n",
       "| 0.024925695 |     63588     |               7               |            0            |\n",
       "| 0.375606969 |      3500     |               3               |            0            |\n",
       "|    5710.0   |      None     |               8               |            0            |\n",
       "| 0.209940017 |      3500     |               8               |            0            |\n",
       "|     46.0    |      None     |               2               |            0            |\n",
       "| 0.606290901 |     23684     |               9               |            0            |\n",
       "+-------------+---------------+-------------------------------+-------------------------+\n",
       "+------------------------------+-------------------------------+--------------------+\n",
       "| NumberRealEstateLoansOrLines | NumberOfTime60-89DaysPastD... | NumberOfDependents |\n",
       "+------------------------------+-------------------------------+--------------------+\n",
       "|              6               |               0               |         2          |\n",
       "|              0               |               0               |         1          |\n",
       "|              0               |               0               |         0          |\n",
       "|              0               |               0               |         0          |\n",
       "|              1               |               0               |         0          |\n",
       "|              1               |               0               |         1          |\n",
       "|              3               |               0               |         0          |\n",
       "|              0               |               0               |         0          |\n",
       "|              0               |               0               |        None        |\n",
       "|              4               |               0               |         2          |\n",
       "+------------------------------+-------------------------------+--------------------+\n",
       "+--------------------+-----+---------------------------+\n",
       "| Is60orMoreYearsOld | DTI | TotalResidualMothlyIncome |\n",
       "+--------------------+-----+---------------------------+\n",
       "|         0          |  1  |       1796.80298352       |\n",
       "|         0          |  0  |        2283.1218774       |\n",
       "|         0          |  0  |       2783.08511325       |\n",
       "|         0          |  0  |        3181.0360494       |\n",
       "|         0          |  0  |       62003.0249063       |\n",
       "|         1          |  0  |        2185.3756085       |\n",
       "|         0          |  1  |            None           |\n",
       "|         0          |  0  |        2765.2099405       |\n",
       "|         0          |  1  |            None           |\n",
       "|         0          |  0  |       9324.60630072       |\n",
       "+--------------------+-----+---------------------------+\n",
       "[10 rows x 15 columns]"
      ]
     },
     "execution_count": 83,
     "metadata": {},
     "output_type": "execute_result"
    }
   ],
   "source": [
    "sf.head()"
   ]
  },
  {
   "cell_type": "code",
   "execution_count": 84,
   "metadata": {
    "collapsed": true
   },
   "outputs": [],
   "source": [
    "sf['Is60orMoreYearsOld'] = sf['age'] >= 60\n",
    "sf['DTI'] = (1 - sf['DebtRatio']) <= .36\n",
    "sf['TotalResidualMothlyIncome'] = (1-sf['DebtRatio']) * sf['MonthlyIncome']b"
   ]
  },
  {
   "cell_type": "code",
   "execution_count": 85,
   "metadata": {},
   "outputs": [
    {
     "data": {
      "text/html": [
       "<div style=\"max-height:1000px;max-width:1500px;overflow:auto;\"><table frame=\"box\" rules=\"cols\">\n",
       "    <tr>\n",
       "        <th style=\"padding-left: 1em; padding-right: 1em; text-align: center\">X1</th>\n",
       "        <th style=\"padding-left: 1em; padding-right: 1em; text-align: center\">SeriousDlqin2yrs</th>\n",
       "        <th style=\"padding-left: 1em; padding-right: 1em; text-align: center\">RevolvingUtilizationOfUns<br>ecuredLines ...</th>\n",
       "        <th style=\"padding-left: 1em; padding-right: 1em; text-align: center\">age</th>\n",
       "        <th style=\"padding-left: 1em; padding-right: 1em; text-align: center\">NumberOfTime30-59DaysPast<br>DueNotWorse ...</th>\n",
       "        <th style=\"padding-left: 1em; padding-right: 1em; text-align: center\">DebtRatio</th>\n",
       "        <th style=\"padding-left: 1em; padding-right: 1em; text-align: center\">MonthlyIncome</th>\n",
       "        <th style=\"padding-left: 1em; padding-right: 1em; text-align: center\">NumberOfOpenCreditLinesAn<br>dLoans ...</th>\n",
       "    </tr>\n",
       "    <tr>\n",
       "        <td style=\"padding-left: 1em; padding-right: 1em; text-align: center; vertical-align: top\">1</td>\n",
       "        <td style=\"padding-left: 1em; padding-right: 1em; text-align: center; vertical-align: top\">1</td>\n",
       "        <td style=\"padding-left: 1em; padding-right: 1em; text-align: center; vertical-align: top\">0.766126609</td>\n",
       "        <td style=\"padding-left: 1em; padding-right: 1em; text-align: center; vertical-align: top\">45</td>\n",
       "        <td style=\"padding-left: 1em; padding-right: 1em; text-align: center; vertical-align: top\">2</td>\n",
       "        <td style=\"padding-left: 1em; padding-right: 1em; text-align: center; vertical-align: top\">0.802982129</td>\n",
       "        <td style=\"padding-left: 1em; padding-right: 1em; text-align: center; vertical-align: top\">9120</td>\n",
       "        <td style=\"padding-left: 1em; padding-right: 1em; text-align: center; vertical-align: top\">13</td>\n",
       "    </tr>\n",
       "    <tr>\n",
       "        <td style=\"padding-left: 1em; padding-right: 1em; text-align: center; vertical-align: top\">2</td>\n",
       "        <td style=\"padding-left: 1em; padding-right: 1em; text-align: center; vertical-align: top\">0</td>\n",
       "        <td style=\"padding-left: 1em; padding-right: 1em; text-align: center; vertical-align: top\">0.957151019</td>\n",
       "        <td style=\"padding-left: 1em; padding-right: 1em; text-align: center; vertical-align: top\">40</td>\n",
       "        <td style=\"padding-left: 1em; padding-right: 1em; text-align: center; vertical-align: top\">0</td>\n",
       "        <td style=\"padding-left: 1em; padding-right: 1em; text-align: center; vertical-align: top\">0.121876201</td>\n",
       "        <td style=\"padding-left: 1em; padding-right: 1em; text-align: center; vertical-align: top\">2600</td>\n",
       "        <td style=\"padding-left: 1em; padding-right: 1em; text-align: center; vertical-align: top\">4</td>\n",
       "    </tr>\n",
       "    <tr>\n",
       "        <td style=\"padding-left: 1em; padding-right: 1em; text-align: center; vertical-align: top\">3</td>\n",
       "        <td style=\"padding-left: 1em; padding-right: 1em; text-align: center; vertical-align: top\">0</td>\n",
       "        <td style=\"padding-left: 1em; padding-right: 1em; text-align: center; vertical-align: top\">0.65818014</td>\n",
       "        <td style=\"padding-left: 1em; padding-right: 1em; text-align: center; vertical-align: top\">38</td>\n",
       "        <td style=\"padding-left: 1em; padding-right: 1em; text-align: center; vertical-align: top\">1</td>\n",
       "        <td style=\"padding-left: 1em; padding-right: 1em; text-align: center; vertical-align: top\">0.085113375</td>\n",
       "        <td style=\"padding-left: 1em; padding-right: 1em; text-align: center; vertical-align: top\">3042</td>\n",
       "        <td style=\"padding-left: 1em; padding-right: 1em; text-align: center; vertical-align: top\">2</td>\n",
       "    </tr>\n",
       "    <tr>\n",
       "        <td style=\"padding-left: 1em; padding-right: 1em; text-align: center; vertical-align: top\">4</td>\n",
       "        <td style=\"padding-left: 1em; padding-right: 1em; text-align: center; vertical-align: top\">0</td>\n",
       "        <td style=\"padding-left: 1em; padding-right: 1em; text-align: center; vertical-align: top\">0.233809776</td>\n",
       "        <td style=\"padding-left: 1em; padding-right: 1em; text-align: center; vertical-align: top\">30</td>\n",
       "        <td style=\"padding-left: 1em; padding-right: 1em; text-align: center; vertical-align: top\">0</td>\n",
       "        <td style=\"padding-left: 1em; padding-right: 1em; text-align: center; vertical-align: top\">0.036049682</td>\n",
       "        <td style=\"padding-left: 1em; padding-right: 1em; text-align: center; vertical-align: top\">3300</td>\n",
       "        <td style=\"padding-left: 1em; padding-right: 1em; text-align: center; vertical-align: top\">5</td>\n",
       "    </tr>\n",
       "    <tr>\n",
       "        <td style=\"padding-left: 1em; padding-right: 1em; text-align: center; vertical-align: top\">5</td>\n",
       "        <td style=\"padding-left: 1em; padding-right: 1em; text-align: center; vertical-align: top\">0</td>\n",
       "        <td style=\"padding-left: 1em; padding-right: 1em; text-align: center; vertical-align: top\">0.9072394</td>\n",
       "        <td style=\"padding-left: 1em; padding-right: 1em; text-align: center; vertical-align: top\">49</td>\n",
       "        <td style=\"padding-left: 1em; padding-right: 1em; text-align: center; vertical-align: top\">1</td>\n",
       "        <td style=\"padding-left: 1em; padding-right: 1em; text-align: center; vertical-align: top\">0.024925695</td>\n",
       "        <td style=\"padding-left: 1em; padding-right: 1em; text-align: center; vertical-align: top\">63588</td>\n",
       "        <td style=\"padding-left: 1em; padding-right: 1em; text-align: center; vertical-align: top\">7</td>\n",
       "    </tr>\n",
       "    <tr>\n",
       "        <td style=\"padding-left: 1em; padding-right: 1em; text-align: center; vertical-align: top\">6</td>\n",
       "        <td style=\"padding-left: 1em; padding-right: 1em; text-align: center; vertical-align: top\">0</td>\n",
       "        <td style=\"padding-left: 1em; padding-right: 1em; text-align: center; vertical-align: top\">0.213178682</td>\n",
       "        <td style=\"padding-left: 1em; padding-right: 1em; text-align: center; vertical-align: top\">74</td>\n",
       "        <td style=\"padding-left: 1em; padding-right: 1em; text-align: center; vertical-align: top\">0</td>\n",
       "        <td style=\"padding-left: 1em; padding-right: 1em; text-align: center; vertical-align: top\">0.375606969</td>\n",
       "        <td style=\"padding-left: 1em; padding-right: 1em; text-align: center; vertical-align: top\">3500</td>\n",
       "        <td style=\"padding-left: 1em; padding-right: 1em; text-align: center; vertical-align: top\">3</td>\n",
       "    </tr>\n",
       "    <tr>\n",
       "        <td style=\"padding-left: 1em; padding-right: 1em; text-align: center; vertical-align: top\">7</td>\n",
       "        <td style=\"padding-left: 1em; padding-right: 1em; text-align: center; vertical-align: top\">0</td>\n",
       "        <td style=\"padding-left: 1em; padding-right: 1em; text-align: center; vertical-align: top\">0.305682465</td>\n",
       "        <td style=\"padding-left: 1em; padding-right: 1em; text-align: center; vertical-align: top\">57</td>\n",
       "        <td style=\"padding-left: 1em; padding-right: 1em; text-align: center; vertical-align: top\">0</td>\n",
       "        <td style=\"padding-left: 1em; padding-right: 1em; text-align: center; vertical-align: top\">5710.0</td>\n",
       "        <td style=\"padding-left: 1em; padding-right: 1em; text-align: center; vertical-align: top\">None</td>\n",
       "        <td style=\"padding-left: 1em; padding-right: 1em; text-align: center; vertical-align: top\">8</td>\n",
       "    </tr>\n",
       "    <tr>\n",
       "        <td style=\"padding-left: 1em; padding-right: 1em; text-align: center; vertical-align: top\">8</td>\n",
       "        <td style=\"padding-left: 1em; padding-right: 1em; text-align: center; vertical-align: top\">0</td>\n",
       "        <td style=\"padding-left: 1em; padding-right: 1em; text-align: center; vertical-align: top\">0.754463648</td>\n",
       "        <td style=\"padding-left: 1em; padding-right: 1em; text-align: center; vertical-align: top\">39</td>\n",
       "        <td style=\"padding-left: 1em; padding-right: 1em; text-align: center; vertical-align: top\">0</td>\n",
       "        <td style=\"padding-left: 1em; padding-right: 1em; text-align: center; vertical-align: top\">0.209940017</td>\n",
       "        <td style=\"padding-left: 1em; padding-right: 1em; text-align: center; vertical-align: top\">3500</td>\n",
       "        <td style=\"padding-left: 1em; padding-right: 1em; text-align: center; vertical-align: top\">8</td>\n",
       "    </tr>\n",
       "    <tr>\n",
       "        <td style=\"padding-left: 1em; padding-right: 1em; text-align: center; vertical-align: top\">9</td>\n",
       "        <td style=\"padding-left: 1em; padding-right: 1em; text-align: center; vertical-align: top\">0</td>\n",
       "        <td style=\"padding-left: 1em; padding-right: 1em; text-align: center; vertical-align: top\">0.116950644</td>\n",
       "        <td style=\"padding-left: 1em; padding-right: 1em; text-align: center; vertical-align: top\">27</td>\n",
       "        <td style=\"padding-left: 1em; padding-right: 1em; text-align: center; vertical-align: top\">0</td>\n",
       "        <td style=\"padding-left: 1em; padding-right: 1em; text-align: center; vertical-align: top\">46.0</td>\n",
       "        <td style=\"padding-left: 1em; padding-right: 1em; text-align: center; vertical-align: top\">None</td>\n",
       "        <td style=\"padding-left: 1em; padding-right: 1em; text-align: center; vertical-align: top\">2</td>\n",
       "    </tr>\n",
       "    <tr>\n",
       "        <td style=\"padding-left: 1em; padding-right: 1em; text-align: center; vertical-align: top\">10</td>\n",
       "        <td style=\"padding-left: 1em; padding-right: 1em; text-align: center; vertical-align: top\">0</td>\n",
       "        <td style=\"padding-left: 1em; padding-right: 1em; text-align: center; vertical-align: top\">0.189169052</td>\n",
       "        <td style=\"padding-left: 1em; padding-right: 1em; text-align: center; vertical-align: top\">57</td>\n",
       "        <td style=\"padding-left: 1em; padding-right: 1em; text-align: center; vertical-align: top\">0</td>\n",
       "        <td style=\"padding-left: 1em; padding-right: 1em; text-align: center; vertical-align: top\">0.606290901</td>\n",
       "        <td style=\"padding-left: 1em; padding-right: 1em; text-align: center; vertical-align: top\">23684</td>\n",
       "        <td style=\"padding-left: 1em; padding-right: 1em; text-align: center; vertical-align: top\">9</td>\n",
       "    </tr>\n",
       "</table>\n",
       "<table frame=\"box\" rules=\"cols\">\n",
       "    <tr>\n",
       "        <th style=\"padding-left: 1em; padding-right: 1em; text-align: center\">NumberOfTimes90DaysLate</th>\n",
       "        <th style=\"padding-left: 1em; padding-right: 1em; text-align: center\">NumberRealEstateLoansOrLi<br>nes ...</th>\n",
       "        <th style=\"padding-left: 1em; padding-right: 1em; text-align: center\">NumberOfTime60-89DaysPast<br>DueNotWorse ...</th>\n",
       "        <th style=\"padding-left: 1em; padding-right: 1em; text-align: center\">NumberOfDependents</th>\n",
       "        <th style=\"padding-left: 1em; padding-right: 1em; text-align: center\">Is60orMoreYearsOld</th>\n",
       "    </tr>\n",
       "    <tr>\n",
       "        <td style=\"padding-left: 1em; padding-right: 1em; text-align: center; vertical-align: top\">0</td>\n",
       "        <td style=\"padding-left: 1em; padding-right: 1em; text-align: center; vertical-align: top\">6</td>\n",
       "        <td style=\"padding-left: 1em; padding-right: 1em; text-align: center; vertical-align: top\">0</td>\n",
       "        <td style=\"padding-left: 1em; padding-right: 1em; text-align: center; vertical-align: top\">2</td>\n",
       "        <td style=\"padding-left: 1em; padding-right: 1em; text-align: center; vertical-align: top\">0</td>\n",
       "    </tr>\n",
       "    <tr>\n",
       "        <td style=\"padding-left: 1em; padding-right: 1em; text-align: center; vertical-align: top\">0</td>\n",
       "        <td style=\"padding-left: 1em; padding-right: 1em; text-align: center; vertical-align: top\">0</td>\n",
       "        <td style=\"padding-left: 1em; padding-right: 1em; text-align: center; vertical-align: top\">0</td>\n",
       "        <td style=\"padding-left: 1em; padding-right: 1em; text-align: center; vertical-align: top\">1</td>\n",
       "        <td style=\"padding-left: 1em; padding-right: 1em; text-align: center; vertical-align: top\">0</td>\n",
       "    </tr>\n",
       "    <tr>\n",
       "        <td style=\"padding-left: 1em; padding-right: 1em; text-align: center; vertical-align: top\">1</td>\n",
       "        <td style=\"padding-left: 1em; padding-right: 1em; text-align: center; vertical-align: top\">0</td>\n",
       "        <td style=\"padding-left: 1em; padding-right: 1em; text-align: center; vertical-align: top\">0</td>\n",
       "        <td style=\"padding-left: 1em; padding-right: 1em; text-align: center; vertical-align: top\">0</td>\n",
       "        <td style=\"padding-left: 1em; padding-right: 1em; text-align: center; vertical-align: top\">0</td>\n",
       "    </tr>\n",
       "    <tr>\n",
       "        <td style=\"padding-left: 1em; padding-right: 1em; text-align: center; vertical-align: top\">0</td>\n",
       "        <td style=\"padding-left: 1em; padding-right: 1em; text-align: center; vertical-align: top\">0</td>\n",
       "        <td style=\"padding-left: 1em; padding-right: 1em; text-align: center; vertical-align: top\">0</td>\n",
       "        <td style=\"padding-left: 1em; padding-right: 1em; text-align: center; vertical-align: top\">0</td>\n",
       "        <td style=\"padding-left: 1em; padding-right: 1em; text-align: center; vertical-align: top\">0</td>\n",
       "    </tr>\n",
       "    <tr>\n",
       "        <td style=\"padding-left: 1em; padding-right: 1em; text-align: center; vertical-align: top\">0</td>\n",
       "        <td style=\"padding-left: 1em; padding-right: 1em; text-align: center; vertical-align: top\">1</td>\n",
       "        <td style=\"padding-left: 1em; padding-right: 1em; text-align: center; vertical-align: top\">0</td>\n",
       "        <td style=\"padding-left: 1em; padding-right: 1em; text-align: center; vertical-align: top\">0</td>\n",
       "        <td style=\"padding-left: 1em; padding-right: 1em; text-align: center; vertical-align: top\">0</td>\n",
       "    </tr>\n",
       "    <tr>\n",
       "        <td style=\"padding-left: 1em; padding-right: 1em; text-align: center; vertical-align: top\">0</td>\n",
       "        <td style=\"padding-left: 1em; padding-right: 1em; text-align: center; vertical-align: top\">1</td>\n",
       "        <td style=\"padding-left: 1em; padding-right: 1em; text-align: center; vertical-align: top\">0</td>\n",
       "        <td style=\"padding-left: 1em; padding-right: 1em; text-align: center; vertical-align: top\">1</td>\n",
       "        <td style=\"padding-left: 1em; padding-right: 1em; text-align: center; vertical-align: top\">1</td>\n",
       "    </tr>\n",
       "    <tr>\n",
       "        <td style=\"padding-left: 1em; padding-right: 1em; text-align: center; vertical-align: top\">0</td>\n",
       "        <td style=\"padding-left: 1em; padding-right: 1em; text-align: center; vertical-align: top\">3</td>\n",
       "        <td style=\"padding-left: 1em; padding-right: 1em; text-align: center; vertical-align: top\">0</td>\n",
       "        <td style=\"padding-left: 1em; padding-right: 1em; text-align: center; vertical-align: top\">0</td>\n",
       "        <td style=\"padding-left: 1em; padding-right: 1em; text-align: center; vertical-align: top\">0</td>\n",
       "    </tr>\n",
       "    <tr>\n",
       "        <td style=\"padding-left: 1em; padding-right: 1em; text-align: center; vertical-align: top\">0</td>\n",
       "        <td style=\"padding-left: 1em; padding-right: 1em; text-align: center; vertical-align: top\">0</td>\n",
       "        <td style=\"padding-left: 1em; padding-right: 1em; text-align: center; vertical-align: top\">0</td>\n",
       "        <td style=\"padding-left: 1em; padding-right: 1em; text-align: center; vertical-align: top\">0</td>\n",
       "        <td style=\"padding-left: 1em; padding-right: 1em; text-align: center; vertical-align: top\">0</td>\n",
       "    </tr>\n",
       "    <tr>\n",
       "        <td style=\"padding-left: 1em; padding-right: 1em; text-align: center; vertical-align: top\">0</td>\n",
       "        <td style=\"padding-left: 1em; padding-right: 1em; text-align: center; vertical-align: top\">0</td>\n",
       "        <td style=\"padding-left: 1em; padding-right: 1em; text-align: center; vertical-align: top\">0</td>\n",
       "        <td style=\"padding-left: 1em; padding-right: 1em; text-align: center; vertical-align: top\">None</td>\n",
       "        <td style=\"padding-left: 1em; padding-right: 1em; text-align: center; vertical-align: top\">0</td>\n",
       "    </tr>\n",
       "    <tr>\n",
       "        <td style=\"padding-left: 1em; padding-right: 1em; text-align: center; vertical-align: top\">0</td>\n",
       "        <td style=\"padding-left: 1em; padding-right: 1em; text-align: center; vertical-align: top\">4</td>\n",
       "        <td style=\"padding-left: 1em; padding-right: 1em; text-align: center; vertical-align: top\">0</td>\n",
       "        <td style=\"padding-left: 1em; padding-right: 1em; text-align: center; vertical-align: top\">2</td>\n",
       "        <td style=\"padding-left: 1em; padding-right: 1em; text-align: center; vertical-align: top\">0</td>\n",
       "    </tr>\n",
       "</table>\n",
       "<table frame=\"box\" rules=\"cols\">\n",
       "    <tr>\n",
       "        <th style=\"padding-left: 1em; padding-right: 1em; text-align: center\">DTI</th>\n",
       "        <th style=\"padding-left: 1em; padding-right: 1em; text-align: center\">TotalResidualMothlyIncome</th>\n",
       "    </tr>\n",
       "    <tr>\n",
       "        <td style=\"padding-left: 1em; padding-right: 1em; text-align: center; vertical-align: top\">1</td>\n",
       "        <td style=\"padding-left: 1em; padding-right: 1em; text-align: center; vertical-align: top\">1796.80298352</td>\n",
       "    </tr>\n",
       "    <tr>\n",
       "        <td style=\"padding-left: 1em; padding-right: 1em; text-align: center; vertical-align: top\">0</td>\n",
       "        <td style=\"padding-left: 1em; padding-right: 1em; text-align: center; vertical-align: top\">2283.1218774</td>\n",
       "    </tr>\n",
       "    <tr>\n",
       "        <td style=\"padding-left: 1em; padding-right: 1em; text-align: center; vertical-align: top\">0</td>\n",
       "        <td style=\"padding-left: 1em; padding-right: 1em; text-align: center; vertical-align: top\">2783.08511325</td>\n",
       "    </tr>\n",
       "    <tr>\n",
       "        <td style=\"padding-left: 1em; padding-right: 1em; text-align: center; vertical-align: top\">0</td>\n",
       "        <td style=\"padding-left: 1em; padding-right: 1em; text-align: center; vertical-align: top\">3181.0360494</td>\n",
       "    </tr>\n",
       "    <tr>\n",
       "        <td style=\"padding-left: 1em; padding-right: 1em; text-align: center; vertical-align: top\">0</td>\n",
       "        <td style=\"padding-left: 1em; padding-right: 1em; text-align: center; vertical-align: top\">62003.0249063</td>\n",
       "    </tr>\n",
       "    <tr>\n",
       "        <td style=\"padding-left: 1em; padding-right: 1em; text-align: center; vertical-align: top\">0</td>\n",
       "        <td style=\"padding-left: 1em; padding-right: 1em; text-align: center; vertical-align: top\">2185.3756085</td>\n",
       "    </tr>\n",
       "    <tr>\n",
       "        <td style=\"padding-left: 1em; padding-right: 1em; text-align: center; vertical-align: top\">1</td>\n",
       "        <td style=\"padding-left: 1em; padding-right: 1em; text-align: center; vertical-align: top\">None</td>\n",
       "    </tr>\n",
       "    <tr>\n",
       "        <td style=\"padding-left: 1em; padding-right: 1em; text-align: center; vertical-align: top\">0</td>\n",
       "        <td style=\"padding-left: 1em; padding-right: 1em; text-align: center; vertical-align: top\">2765.2099405</td>\n",
       "    </tr>\n",
       "    <tr>\n",
       "        <td style=\"padding-left: 1em; padding-right: 1em; text-align: center; vertical-align: top\">1</td>\n",
       "        <td style=\"padding-left: 1em; padding-right: 1em; text-align: center; vertical-align: top\">None</td>\n",
       "    </tr>\n",
       "    <tr>\n",
       "        <td style=\"padding-left: 1em; padding-right: 1em; text-align: center; vertical-align: top\">0</td>\n",
       "        <td style=\"padding-left: 1em; padding-right: 1em; text-align: center; vertical-align: top\">9324.60630072</td>\n",
       "    </tr>\n",
       "</table>\n",
       "[10 rows x 15 columns]<br/>\n",
       "</div>"
      ],
      "text/plain": [
       "Columns:\n",
       "\tX1\tint\n",
       "\tSeriousDlqin2yrs\tint\n",
       "\tRevolvingUtilizationOfUnsecuredLines\tfloat\n",
       "\tage\tint\n",
       "\tNumberOfTime30-59DaysPastDueNotWorse\tint\n",
       "\tDebtRatio\tfloat\n",
       "\tMonthlyIncome\tint\n",
       "\tNumberOfOpenCreditLinesAndLoans\tint\n",
       "\tNumberOfTimes90DaysLate\tint\n",
       "\tNumberRealEstateLoansOrLines\tint\n",
       "\tNumberOfTime60-89DaysPastDueNotWorse\tint\n",
       "\tNumberOfDependents\tint\n",
       "\tIs60orMoreYearsOld\tint\n",
       "\tDTI\tint\n",
       "\tTotalResidualMothlyIncome\tfloat\n",
       "\n",
       "Rows: 10\n",
       "\n",
       "Data:\n",
       "+----+------------------+-------------------------------+-----+-------------------------------+\n",
       "| X1 | SeriousDlqin2yrs | RevolvingUtilizationOfUnse... | age | NumberOfTime30-59DaysPastD... |\n",
       "+----+------------------+-------------------------------+-----+-------------------------------+\n",
       "| 1  |        1         |          0.766126609          |  45 |               2               |\n",
       "| 2  |        0         |          0.957151019          |  40 |               0               |\n",
       "| 3  |        0         |           0.65818014          |  38 |               1               |\n",
       "| 4  |        0         |          0.233809776          |  30 |               0               |\n",
       "| 5  |        0         |           0.9072394           |  49 |               1               |\n",
       "| 6  |        0         |          0.213178682          |  74 |               0               |\n",
       "| 7  |        0         |          0.305682465          |  57 |               0               |\n",
       "| 8  |        0         |          0.754463648          |  39 |               0               |\n",
       "| 9  |        0         |          0.116950644          |  27 |               0               |\n",
       "| 10 |        0         |          0.189169052          |  57 |               0               |\n",
       "+----+------------------+-------------------------------+-----+-------------------------------+\n",
       "+-------------+---------------+-------------------------------+-------------------------+\n",
       "|  DebtRatio  | MonthlyIncome | NumberOfOpenCreditLinesAnd... | NumberOfTimes90DaysLate |\n",
       "+-------------+---------------+-------------------------------+-------------------------+\n",
       "| 0.802982129 |      9120     |               13              |            0            |\n",
       "| 0.121876201 |      2600     |               4               |            0            |\n",
       "| 0.085113375 |      3042     |               2               |            1            |\n",
       "| 0.036049682 |      3300     |               5               |            0            |\n",
       "| 0.024925695 |     63588     |               7               |            0            |\n",
       "| 0.375606969 |      3500     |               3               |            0            |\n",
       "|    5710.0   |      None     |               8               |            0            |\n",
       "| 0.209940017 |      3500     |               8               |            0            |\n",
       "|     46.0    |      None     |               2               |            0            |\n",
       "| 0.606290901 |     23684     |               9               |            0            |\n",
       "+-------------+---------------+-------------------------------+-------------------------+\n",
       "+------------------------------+-------------------------------+--------------------+\n",
       "| NumberRealEstateLoansOrLines | NumberOfTime60-89DaysPastD... | NumberOfDependents |\n",
       "+------------------------------+-------------------------------+--------------------+\n",
       "|              6               |               0               |         2          |\n",
       "|              0               |               0               |         1          |\n",
       "|              0               |               0               |         0          |\n",
       "|              0               |               0               |         0          |\n",
       "|              1               |               0               |         0          |\n",
       "|              1               |               0               |         1          |\n",
       "|              3               |               0               |         0          |\n",
       "|              0               |               0               |         0          |\n",
       "|              0               |               0               |        None        |\n",
       "|              4               |               0               |         2          |\n",
       "+------------------------------+-------------------------------+--------------------+\n",
       "+--------------------+-----+---------------------------+\n",
       "| Is60orMoreYearsOld | DTI | TotalResidualMothlyIncome |\n",
       "+--------------------+-----+---------------------------+\n",
       "|         0          |  1  |       1796.80298352       |\n",
       "|         0          |  0  |        2283.1218774       |\n",
       "|         0          |  0  |       2783.08511325       |\n",
       "|         0          |  0  |        3181.0360494       |\n",
       "|         0          |  0  |       62003.0249063       |\n",
       "|         1          |  0  |        2185.3756085       |\n",
       "|         0          |  1  |            None           |\n",
       "|         0          |  0  |        2765.2099405       |\n",
       "|         0          |  1  |            None           |\n",
       "|         0          |  0  |       9324.60630072       |\n",
       "+--------------------+-----+---------------------------+\n",
       "[10 rows x 15 columns]"
      ]
     },
     "execution_count": 85,
     "metadata": {},
     "output_type": "execute_result"
    }
   ],
   "source": [
    "sf.head()"
   ]
  },
  {
   "cell_type": "code",
   "execution_count": 91,
   "metadata": {
    "collapsed": true
   },
   "outputs": [],
   "source": [
    "target = 'SeriousDlqin2yrs'\n",
    "\n",
    "features = ['RevolvingUtilizationOfUnsecuredLines',\n",
    " 'age',\n",
    " 'MonthlyIncome',\n",
    " 'DebtRatio',\n",
    " 'NumberOfDependents',\n",
    " 'NumberRealEstateLoansOrLines',\n",
    " 'NumberOfOpenCreditLinesAndLoans',\n",
    " 'NumberOfTime30-59DaysPastDueNotWorse',\n",
    " 'NumberOfTime60-89DaysPastDueNotWorse',\n",
    " 'NumberOfTimes90DaysLate']\n",
    "\n",
    "features_ext = [x for x in features]\n",
    "features_ext.extend(['Is60orMoreYearsOld','DTI','TotalResidualMothlyIncome'])\n",
    "\n",
    "features_ext_cat = [x for x in features_ext if x not in ['RevolvingUtilizationOfUnsecuredLines', 'DebtRatio']]"
   ]
  },
  {
   "cell_type": "code",
   "execution_count": 87,
   "metadata": {},
   "outputs": [
    {
     "data": {
      "text/plain": [
       "[int,\n",
       " int,\n",
       " float,\n",
       " int,\n",
       " int,\n",
       " float,\n",
       " int,\n",
       " int,\n",
       " int,\n",
       " int,\n",
       " int,\n",
       " int,\n",
       " int,\n",
       " int,\n",
       " float]"
      ]
     },
     "execution_count": 87,
     "metadata": {},
     "output_type": "execute_result"
    }
   ],
   "source": [
    "graphlab.canvas.set_target('ipynb')\n",
    "sf.head()\n",
    "sf.column_types()"
   ]
  },
  {
   "cell_type": "code",
   "execution_count": 93,
   "metadata": {},
   "outputs": [
    {
     "data": {
      "application/javascript": [
       "$(\"head\").append($(\"<link/>\").attr({\n",
       "  rel:  \"stylesheet\",\n",
       "  type: \"text/css\",\n",
       "  href: \"//cdnjs.cloudflare.com/ajax/libs/font-awesome/4.1.0/css/font-awesome.min.css\"\n",
       "}));\n",
       "$(\"head\").append($(\"<link/>\").attr({\n",
       "  rel:  \"stylesheet\",\n",
       "  type: \"text/css\",\n",
       "  href: \"https://static.turi.com/products/graphlab-create/2.1/canvas/css/canvas.css\"\n",
       "}));\n",
       "\n",
       "            (function(){\n",
       "\n",
       "                var e = null;\n",
       "                if (typeof element == 'undefined') {\n",
       "                    var scripts = document.getElementsByTagName('script');\n",
       "                    var thisScriptTag = scripts[scripts.length-1];\n",
       "                    var parentDiv = thisScriptTag.parentNode;\n",
       "                    e = document.createElement('div');\n",
       "                    parentDiv.appendChild(e);\n",
       "                } else {\n",
       "                    e = element[0];\n",
       "                }\n",
       "\n",
       "                if (typeof requirejs !== 'undefined') {\n",
       "                    // disable load timeout; ipython_app.js is large and can take a while to load.\n",
       "                    requirejs.config({waitSeconds: 0});\n",
       "                }\n",
       "\n",
       "                require(['https://static.turi.com/products/graphlab-create/2.1/canvas/js/ipython_app.js'], function(IPythonApp){\n",
       "                    var app = new IPythonApp();\n",
       "                    app.attachView('sarray','Numeric', {\"ipython\": true, \"sketch\": {\"std\": 14.77181662346539, \"complete\": true, \"min\": 0.0, \"max\": 109.0, \"quantile\": [0.0, 24.0, 26.0, 27.0, 28.0, 29.0, 30.0, 30.0, 31.0, 32.0, 33.0, 33.0, 34.0, 35.0, 35.0, 36.0, 37.0, 37.0, 38.0, 38.0, 39.0, 39.0, 40.0, 40.0, 41.0, 41.0, 42.0, 42.0, 43.0, 43.0, 44.0, 44.0, 45.0, 45.0, 45.0, 46.0, 46.0, 47.0, 47.0, 47.0, 48.0, 48.0, 49.0, 49.0, 49.0, 50.0, 50.0, 51.0, 51.0, 51.0, 52.0, 52.0, 53.0, 53.0, 54.0, 54.0, 54.0, 55.0, 55.0, 56.0, 56.0, 56.0, 57.0, 57.0, 58.0, 58.0, 59.0, 59.0, 60.0, 60.0, 61.0, 61.0, 61.0, 62.0, 62.0, 63.0, 63.0, 63.0, 64.0, 64.0, 65.0, 66.0, 66.0, 67.0, 67.0, 68.0, 69.0, 70.0, 70.0, 71.0, 72.0, 73.0, 74.0, 75.0, 77.0, 78.0, 79.0, 81.0, 84.0, 87.0, 109.0], \"median\": 52.0, \"numeric\": true, \"num_unique\": 86, \"num_undefined\": 0, \"var\": 218.20656635728847, \"progress\": 1.0, \"size\": 150000, \"frequent_items\": {\"0\": {\"frequency\": 1, \"value\": 0}, \"21\": {\"frequency\": 183, \"value\": 21}, \"22\": {\"frequency\": 434, \"value\": 22}, \"23\": {\"frequency\": 641, \"value\": 23}, \"24\": {\"frequency\": 816, \"value\": 24}, \"25\": {\"frequency\": 953, \"value\": 25}, \"26\": {\"frequency\": 1193, \"value\": 26}, \"27\": {\"frequency\": 1338, \"value\": 27}, \"28\": {\"frequency\": 1560, \"value\": 28}, \"29\": {\"frequency\": 1702, \"value\": 29}, \"30\": {\"frequency\": 1937, \"value\": 30}, \"31\": {\"frequency\": 2038, \"value\": 31}, \"32\": {\"frequency\": 2050, \"value\": 32}, \"33\": {\"frequency\": 2239, \"value\": 33}, \"34\": {\"frequency\": 2155, \"value\": 34}, \"35\": {\"frequency\": 2246, \"value\": 35}, \"36\": {\"frequency\": 2379, \"value\": 36}, \"37\": {\"frequency\": 2521, \"value\": 37}, \"38\": {\"frequency\": 2631, \"value\": 38}, \"39\": {\"frequency\": 2987, \"value\": 39}, \"40\": {\"frequency\": 3093, \"value\": 40}, \"41\": {\"frequency\": 3122, \"value\": 41}, \"42\": {\"frequency\": 3082, \"value\": 42}, \"43\": {\"frequency\": 3208, \"value\": 43}, \"44\": {\"frequency\": 3294, \"value\": 44}, \"45\": {\"frequency\": 3502, \"value\": 45}, \"46\": {\"frequency\": 3714, \"value\": 46}, \"47\": {\"frequency\": 3719, \"value\": 47}, \"48\": {\"frequency\": 3806, \"value\": 48}, \"49\": {\"frequency\": 3837, \"value\": 49}, \"50\": {\"frequency\": 3753, \"value\": 50}, \"51\": {\"frequency\": 3627, \"value\": 51}, \"52\": {\"frequency\": 3609, \"value\": 52}, \"53\": {\"frequency\": 3648, \"value\": 53}, \"54\": {\"frequency\": 3561, \"value\": 54}, \"55\": {\"frequency\": 3416, \"value\": 55}, \"56\": {\"frequency\": 3589, \"value\": 56}, \"57\": {\"frequency\": 3375, \"value\": 57}, \"58\": {\"frequency\": 3443, \"value\": 58}, \"59\": {\"frequency\": 3280, \"value\": 59}, \"60\": {\"frequency\": 3258, \"value\": 60}, \"61\": {\"frequency\": 3522, \"value\": 61}, \"62\": {\"frequency\": 3568, \"value\": 62}, \"63\": {\"frequency\": 3719, \"value\": 63}, \"64\": {\"frequency\": 3058, \"value\": 64}, \"65\": {\"frequency\": 2594, \"value\": 65}, \"66\": {\"frequency\": 2494, \"value\": 66}, \"67\": {\"frequency\": 2503, \"value\": 67}, \"68\": {\"frequency\": 2235, \"value\": 68}, \"69\": {\"frequency\": 1954, \"value\": 69}, \"70\": {\"frequency\": 1777, \"value\": 70}, \"71\": {\"frequency\": 1646, \"value\": 71}, \"72\": {\"frequency\": 1649, \"value\": 72}, \"73\": {\"frequency\": 1520, \"value\": 73}, \"74\": {\"frequency\": 1451, \"value\": 74}, \"75\": {\"frequency\": 1241, \"value\": 75}, \"76\": {\"frequency\": 1183, \"value\": 76}, \"77\": {\"frequency\": 1099, \"value\": 77}, \"78\": {\"frequency\": 1054, \"value\": 78}, \"79\": {\"frequency\": 981, \"value\": 79}, \"80\": {\"frequency\": 876, \"value\": 80}, \"81\": {\"frequency\": 774, \"value\": 81}, \"82\": {\"frequency\": 647, \"value\": 82}, \"83\": {\"frequency\": 512, \"value\": 83}, \"84\": {\"frequency\": 480, \"value\": 84}, \"85\": {\"frequency\": 483, \"value\": 85}, \"86\": {\"frequency\": 407, \"value\": 86}, \"87\": {\"frequency\": 357, \"value\": 87}, \"88\": {\"frequency\": 313, \"value\": 88}, \"89\": {\"frequency\": 276, \"value\": 89}, \"90\": {\"frequency\": 198, \"value\": 90}, \"91\": {\"frequency\": 154, \"value\": 91}, \"92\": {\"frequency\": 93, \"value\": 92}, \"93\": {\"frequency\": 87, \"value\": 93}, \"94\": {\"frequency\": 47, \"value\": 94}, \"95\": {\"frequency\": 45, \"value\": 95}, \"96\": {\"frequency\": 18, \"value\": 96}, \"97\": {\"frequency\": 17, \"value\": 97}, \"98\": {\"frequency\": 6, \"value\": 98}, \"99\": {\"frequency\": 9, \"value\": 99}, \"101\": {\"frequency\": 3, \"value\": 101}, \"102\": {\"frequency\": 3, \"value\": 102}, \"103\": {\"frequency\": 3, \"value\": 103}, \"105\": {\"frequency\": 1, \"value\": 105}, \"107\": {\"frequency\": 1, \"value\": 107}, \"109\": {\"frequency\": 2, \"value\": 109}}, \"mean\": 52.295206666666694}, \"selected_variable\": {\"name\": [\"<SArray>\"], \"dtype\": \"int\", \"view_component\": \"Numeric\", \"view_file\": \"sarray\", \"descriptives\": {\"rows\": 150000}, \"type\": \"SArray\", \"view_components\": [\"Numeric\", \"Categorical\"]}, \"histogram\": {\"progress\": 1.0, \"histogram\": {\"max\": 109.22, \"bins\": [1, 0, 5558, 18306, 27440, 33274, 31170, 19910, 10179, 3673, 476, 13], \"min\": -0.21999999999999886}, \"min\": 0, \"complete\": 1, \"max\": 109}}, e);\n",
       "                });\n",
       "            })();\n",
       "        "
      ]
     },
     "metadata": {},
     "output_type": "display_data"
    },
    {
     "data": {
      "application/javascript": [
       "$(\"head\").append($(\"<link/>\").attr({\n",
       "  rel:  \"stylesheet\",\n",
       "  type: \"text/css\",\n",
       "  href: \"//cdnjs.cloudflare.com/ajax/libs/font-awesome/4.1.0/css/font-awesome.min.css\"\n",
       "}));\n",
       "$(\"head\").append($(\"<link/>\").attr({\n",
       "  rel:  \"stylesheet\",\n",
       "  type: \"text/css\",\n",
       "  href: \"https://static.turi.com/products/graphlab-create/2.1/canvas/css/canvas.css\"\n",
       "}));\n",
       "\n",
       "            (function(){\n",
       "\n",
       "                var e = null;\n",
       "                if (typeof element == 'undefined') {\n",
       "                    var scripts = document.getElementsByTagName('script');\n",
       "                    var thisScriptTag = scripts[scripts.length-1];\n",
       "                    var parentDiv = thisScriptTag.parentNode;\n",
       "                    e = document.createElement('div');\n",
       "                    parentDiv.appendChild(e);\n",
       "                } else {\n",
       "                    e = element[0];\n",
       "                }\n",
       "\n",
       "                if (typeof requirejs !== 'undefined') {\n",
       "                    // disable load timeout; ipython_app.js is large and can take a while to load.\n",
       "                    requirejs.config({waitSeconds: 0});\n",
       "                }\n",
       "\n",
       "                require(['https://static.turi.com/products/graphlab-create/2.1/canvas/js/ipython_app.js'], function(IPythonApp){\n",
       "                    var app = new IPythonApp();\n",
       "                    app.attachView('sarray','Numeric', {\"ipython\": true, \"sketch\": {\"std\": 2037.8117304046389, \"complete\": true, \"min\": 0.0, \"max\": 329664.0, \"quantile\": [0.0, 0.0, 0.0, 0.000441209, 0.002223756, 0.004403948, 0.00684438, 0.009996298, 0.014677728, 0.021296961, 0.030774358, 0.042793196, 0.054625829, 0.066158307, 0.076487252, 0.086226852, 0.096700471, 0.106563422, 0.115864968, 0.124489101, 0.133408578, 0.142039317, 0.150855365, 0.158997955, 0.166696964, 0.174826014, 0.1829398, 0.190560839, 0.198412698, 0.206057468, 0.213412289, 0.221194159, 0.228438578, 0.235769416, 0.243130724, 0.25059984, 0.257872953, 0.264824892, 0.272372592, 0.279715619, 0.287581699, 0.294510386, 0.302480563, 0.310047847, 0.317468253, 0.32504486, 0.333256723, 0.341407151, 0.349766888, 0.358060418, 0.366666667, 0.374850012, 0.383894333, 0.393151712, 0.403243724, 0.41240539, 0.422681092, 0.4332118, 0.444315276, 0.456043517, 0.467673605, 0.480311191, 0.493835388, 0.507880458, 0.52218909, 0.538461538, 0.556510459, 0.576745047, 0.598489057, 0.623420221, 0.650215916, 0.678018576, 0.711840228, 0.753591541, 0.800876644, 0.866426715, 0.951016328, 1.056647399, 1.259891712, 1.729459499, 4.0, 13.0, 32.5, 60.0, 125.0, 275.0, 459.0, 628.0, 844.0, 1050.0, 1258.0, 1461.0, 1682.0, 1917.0, 2176.0, 2446.0, 2781.0, 3216.0, 3830.0, 5051.0, 329664.0], \"median\": 0.366666667, \"numeric\": true, \"num_unique\": 113923, \"num_undefined\": 0, \"var\": 4152676.6485747485, \"progress\": 1.0, \"size\": 150000, \"frequent_items\": {\"0.0\": {\"frequency\": 4112, \"value\": 0.0}, \"1.0\": {\"frequency\": 228, \"value\": 1.0}, \"2.0\": {\"frequency\": 169, \"value\": 2.0}, \"3.0\": {\"frequency\": 162, \"value\": 3.0}, \"4.0\": {\"frequency\": 174, \"value\": 4.0}, \"5.0\": {\"frequency\": 143, \"value\": 5.0}, \"6.0\": {\"frequency\": 110, \"value\": 6.0}, \"7.0\": {\"frequency\": 115, \"value\": 7.0}, \"8.0\": {\"frequency\": 107, \"value\": 8.0}, \"9.0\": {\"frequency\": 125, \"value\": 9.0}, \"10.0\": {\"frequency\": 117, \"value\": 10.0}, \"11.0\": {\"frequency\": 108, \"value\": 11.0}, \"12.0\": {\"frequency\": 102, \"value\": 12.0}, \"13.0\": {\"frequency\": 115, \"value\": 13.0}, \"526.0\": {\"frequency\": 13, \"value\": 526.0}, \"15.0\": {\"frequency\": 98, \"value\": 15.0}, \"16.0\": {\"frequency\": 86, \"value\": 16.0}, \"17.0\": {\"frequency\": 66, \"value\": 17.0}, \"18.0\": {\"frequency\": 83, \"value\": 18.0}, \"19.0\": {\"frequency\": 90, \"value\": 19.0}, \"20.0\": {\"frequency\": 83, \"value\": 20.0}, \"21.0\": {\"frequency\": 99, \"value\": 21.0}, \"22.0\": {\"frequency\": 78, \"value\": 22.0}, \"23.0\": {\"frequency\": 69, \"value\": 23.0}, \"24.0\": {\"frequency\": 79, \"value\": 24.0}, \"25.0\": {\"frequency\": 79, \"value\": 25.0}, \"26.0\": {\"frequency\": 69, \"value\": 26.0}, \"27.0\": {\"frequency\": 77, \"value\": 27.0}, \"28.0\": {\"frequency\": 80, \"value\": 28.0}, \"29.0\": {\"frequency\": 78, \"value\": 29.0}, \"1054.0\": {\"frequency\": 9, \"value\": 1054.0}, \"31.0\": {\"frequency\": 61, \"value\": 31.0}, \"32.0\": {\"frequency\": 57, \"value\": 32.0}, \"33.0\": {\"frequency\": 57, \"value\": 33.0}, \"34.0\": {\"frequency\": 58, \"value\": 34.0}, \"35.0\": {\"frequency\": 66, \"value\": 35.0}, \"36.0\": {\"frequency\": 61, \"value\": 36.0}, \"37.0\": {\"frequency\": 68, \"value\": 37.0}, \"550.0\": {\"frequency\": 11, \"value\": 550.0}, \"39.0\": {\"frequency\": 47, \"value\": 39.0}, \"40.0\": {\"frequency\": 50, \"value\": 40.0}, \"41.0\": {\"frequency\": 59, \"value\": 41.0}, \"42.0\": {\"frequency\": 54, \"value\": 42.0}, \"43.0\": {\"frequency\": 61, \"value\": 43.0}, \"44.0\": {\"frequency\": 57, \"value\": 44.0}, \"45.0\": {\"frequency\": 62, \"value\": 45.0}, \"46.0\": {\"frequency\": 36, \"value\": 46.0}, \"47.0\": {\"frequency\": 52, \"value\": 47.0}, \"48.0\": {\"frequency\": 41, \"value\": 48.0}, \"520.0\": {\"frequency\": 25, \"value\": 520.0}, \"562.0\": {\"frequency\": 11, \"value\": 562.0}, \"51.0\": {\"frequency\": 37, \"value\": 51.0}, \"52.0\": {\"frequency\": 46, \"value\": 52.0}, \"53.0\": {\"frequency\": 35, \"value\": 53.0}, \"54.0\": {\"frequency\": 59, \"value\": 54.0}, \"521.0\": {\"frequency\": 13, \"value\": 521.0}, \"56.0\": {\"frequency\": 36, \"value\": 56.0}, \"57.0\": {\"frequency\": 41, \"value\": 57.0}, \"570.0\": {\"frequency\": 11, \"value\": 570.0}, \"59.0\": {\"frequency\": 37, \"value\": 59.0}, \"60.0\": {\"frequency\": 37, \"value\": 60.0}, \"61.0\": {\"frequency\": 35, \"value\": 61.0}, \"62.0\": {\"frequency\": 36, \"value\": 62.0}, \"63.0\": {\"frequency\": 31, \"value\": 63.0}, \"64.0\": {\"frequency\": 44, \"value\": 64.0}, \"65.0\": {\"frequency\": 36, \"value\": 65.0}, \"66.0\": {\"frequency\": 35, \"value\": 66.0}, \"67.0\": {\"frequency\": 28, \"value\": 67.0}, \"68.0\": {\"frequency\": 31, \"value\": 68.0}, \"69.0\": {\"frequency\": 31, \"value\": 69.0}, \"70.0\": {\"frequency\": 41, \"value\": 70.0}, \"71.0\": {\"frequency\": 39, \"value\": 71.0}, \"72.0\": {\"frequency\": 38, \"value\": 72.0}, \"73.0\": {\"frequency\": 21, \"value\": 73.0}, \"75.0\": {\"frequency\": 31, \"value\": 75.0}, \"76.0\": {\"frequency\": 36, \"value\": 76.0}, \"77.0\": {\"frequency\": 32, \"value\": 77.0}, \"78.0\": {\"frequency\": 27, \"value\": 78.0}, \"79.0\": {\"frequency\": 26, \"value\": 79.0}, \"80.0\": {\"frequency\": 27, \"value\": 80.0}, \"81.0\": {\"frequency\": 29, \"value\": 81.0}, \"82.0\": {\"frequency\": 31, \"value\": 82.0}, \"83.0\": {\"frequency\": 24, \"value\": 83.0}, \"84.0\": {\"frequency\": 30, \"value\": 84.0}, \"85.0\": {\"frequency\": 19, \"value\": 85.0}, \"86.0\": {\"frequency\": 18, \"value\": 86.0}, \"87.0\": {\"frequency\": 27, \"value\": 87.0}, \"88.0\": {\"frequency\": 22, \"value\": 88.0}, \"89.0\": {\"frequency\": 33, \"value\": 89.0}, \"90.0\": {\"frequency\": 25, \"value\": 90.0}, \"91.0\": {\"frequency\": 18, \"value\": 91.0}, \"92.0\": {\"frequency\": 12, \"value\": 92.0}, \"93.0\": {\"frequency\": 22, \"value\": 93.0}, \"94.0\": {\"frequency\": 34, \"value\": 94.0}, \"613.0\": {\"frequency\": 18, \"value\": 613.0}, \"96.0\": {\"frequency\": 23, \"value\": 96.0}, \"97.0\": {\"frequency\": 25, \"value\": 97.0}, \"98.0\": {\"frequency\": 22, \"value\": 98.0}, \"99.0\": {\"frequency\": 28, \"value\": 99.0}, \"612.0\": {\"frequency\": 13, \"value\": 612.0}, \"101.0\": {\"frequency\": 24, \"value\": 101.0}, \"102.0\": {\"frequency\": 20, \"value\": 102.0}, \"103.0\": {\"frequency\": 20, \"value\": 103.0}, \"104.0\": {\"frequency\": 26, \"value\": 104.0}, \"105.0\": {\"frequency\": 14, \"value\": 105.0}, \"1131.0\": {\"frequency\": 12, \"value\": 1131.0}, \"108.0\": {\"frequency\": 16, \"value\": 108.0}, \"110.0\": {\"frequency\": 16, \"value\": 110.0}, \"111.0\": {\"frequency\": 22, \"value\": 111.0}, \"112.0\": {\"frequency\": 19, \"value\": 112.0}, \"113.0\": {\"frequency\": 21, \"value\": 113.0}, \"114.0\": {\"frequency\": 16, \"value\": 114.0}, \"115.0\": {\"frequency\": 19, \"value\": 115.0}, \"116.0\": {\"frequency\": 13, \"value\": 116.0}, \"117.0\": {\"frequency\": 15, \"value\": 117.0}, \"118.0\": {\"frequency\": 13, \"value\": 118.0}, \"119.0\": {\"frequency\": 18, \"value\": 119.0}, \"120.0\": {\"frequency\": 14, \"value\": 120.0}, \"121.0\": {\"frequency\": 18, \"value\": 121.0}, \"122.0\": {\"frequency\": 20, \"value\": 122.0}, \"123.0\": {\"frequency\": 24, \"value\": 123.0}, \"636.0\": {\"frequency\": 11, \"value\": 636.0}, \"125.0\": {\"frequency\": 19, \"value\": 125.0}, \"126.0\": {\"frequency\": 20, \"value\": 126.0}, \"127.0\": {\"frequency\": 14, \"value\": 127.0}, \"128.0\": {\"frequency\": 11, \"value\": 128.0}, \"107.0\": {\"frequency\": 27, \"value\": 107.0}, \"132.0\": {\"frequency\": 13, \"value\": 132.0}, \"133.0\": {\"frequency\": 16, \"value\": 133.0}, \"136.0\": {\"frequency\": 14, \"value\": 136.0}, \"139.0\": {\"frequency\": 13, \"value\": 139.0}, \"140.0\": {\"frequency\": 16, \"value\": 140.0}, \"2097.0\": {\"frequency\": 12, \"value\": 2097.0}, \"49.0\": {\"frequency\": 48, \"value\": 49.0}, \"147.0\": {\"frequency\": 19, \"value\": 147.0}, \"150.0\": {\"frequency\": 15, \"value\": 150.0}, \"151.0\": {\"frequency\": 17, \"value\": 151.0}, \"152.0\": {\"frequency\": 16, \"value\": 152.0}, \"1689.0\": {\"frequency\": 7, \"value\": 1689.0}, \"154.0\": {\"frequency\": 12, \"value\": 154.0}, \"1045.0\": {\"frequency\": 9, \"value\": 1045.0}, \"157.0\": {\"frequency\": 13, \"value\": 157.0}, \"1182.0\": {\"frequency\": 8, \"value\": 1182.0}, \"160.0\": {\"frequency\": 18, \"value\": 160.0}, \"619.0\": {\"frequency\": 10, \"value\": 619.0}, \"165.0\": {\"frequency\": 13, \"value\": 165.0}, \"685.0\": {\"frequency\": 16, \"value\": 685.0}, \"175.0\": {\"frequency\": 8, \"value\": 175.0}, \"688.0\": {\"frequency\": 12, \"value\": 688.0}, \"181.0\": {\"frequency\": 12, \"value\": 181.0}, \"1207.0\": {\"frequency\": 12, \"value\": 1207.0}, \"187.0\": {\"frequency\": 17, \"value\": 187.0}, \"2165.0\": {\"frequency\": 9, \"value\": 2165.0}, \"193.0\": {\"frequency\": 16, \"value\": 193.0}, \"1398.0\": {\"frequency\": 10, \"value\": 1398.0}, \"200.0\": {\"frequency\": 13, \"value\": 200.0}, \"2521.0\": {\"frequency\": 7, \"value\": 2521.0}, \"209.0\": {\"frequency\": 13, \"value\": 209.0}, \"2263.0\": {\"frequency\": 6, \"value\": 2263.0}, \"1753.0\": {\"frequency\": 17, \"value\": 1753.0}, \"1754.0\": {\"frequency\": 12, \"value\": 1754.0}, \"219.0\": {\"frequency\": 12, \"value\": 219.0}, \"598.0\": {\"frequency\": 9, \"value\": 598.0}, \"38.0\": {\"frequency\": 61, \"value\": 38.0}, \"742.0\": {\"frequency\": 16, \"value\": 742.0}, \"124.0\": {\"frequency\": 16, \"value\": 124.0}, \"2224.0\": {\"frequency\": 12, \"value\": 2224.0}, \"0.00359928\": {\"frequency\": 10, \"value\": 0.00359928}, \"1269.0\": {\"frequency\": 12, \"value\": 1269.0}, \"349.0\": {\"frequency\": 12, \"value\": 349.0}, \"1273.0\": {\"frequency\": 11, \"value\": 1273.0}, \"811.0\": {\"frequency\": 10, \"value\": 811.0}, \"264.0\": {\"frequency\": 15, \"value\": 264.0}, \"1068.0\": {\"frequency\": 19, \"value\": 1068.0}, \"1290.0\": {\"frequency\": 12, \"value\": 1290.0}, \"528.0\": {\"frequency\": 11, \"value\": 528.0}, \"1807.0\": {\"frequency\": 10, \"value\": 1807.0}, \"274.0\": {\"frequency\": 15, \"value\": 274.0}, \"1303.0\": {\"frequency\": 15, \"value\": 1303.0}, \"1816.0\": {\"frequency\": 17, \"value\": 1816.0}, \"560.0\": {\"frequency\": 15, \"value\": 560.0}, \"807.0\": {\"frequency\": 11, \"value\": 807.0}, \"95.0\": {\"frequency\": 18, \"value\": 95.0}, \"0.00119952\": {\"frequency\": 15, \"value\": 0.00119952}, \"50.0\": {\"frequency\": 45, \"value\": 50.0}, \"1842.0\": {\"frequency\": 10, \"value\": 1842.0}, \"309.0\": {\"frequency\": 13, \"value\": 309.0}, \"323.0\": {\"frequency\": 17, \"value\": 323.0}, \"1354.0\": {\"frequency\": 13, \"value\": 1354.0}, \"55.0\": {\"frequency\": 30, \"value\": 55.0}, \"848.0\": {\"frequency\": 10, \"value\": 848.0}, \"568.0\": {\"frequency\": 13, \"value\": 568.0}, \"0.333333333\": {\"frequency\": 16, \"value\": 0.333333333}, \"344.0\": {\"frequency\": 12, \"value\": 344.0}, \"1371.0\": {\"frequency\": 6, \"value\": 1371.0}, \"58.0\": {\"frequency\": 48, \"value\": 58.0}, \"1890.0\": {\"frequency\": 15, \"value\": 1890.0}, \"1254.0\": {\"frequency\": 7, \"value\": 1254.0}, \"358.0\": {\"frequency\": 15, \"value\": 358.0}, \"363.0\": {\"frequency\": 7, \"value\": 363.0}, \"1723.0\": {\"frequency\": 11, \"value\": 1723.0}, \"1903.0\": {\"frequency\": 9, \"value\": 1903.0}, \"1392.0\": {\"frequency\": 12, \"value\": 1392.0}, \"1906.0\": {\"frequency\": 10, \"value\": 1906.0}, \"374.0\": {\"frequency\": 12, \"value\": 374.0}, \"524.0\": {\"frequency\": 14, \"value\": 524.0}, \"1586.0\": {\"frequency\": 15, \"value\": 1586.0}, \"576.0\": {\"frequency\": 11, \"value\": 576.0}, \"1925.0\": {\"frequency\": 14, \"value\": 1925.0}, \"577.0\": {\"frequency\": 12, \"value\": 577.0}, \"905.0\": {\"frequency\": 14, \"value\": 905.0}, \"30.0\": {\"frequency\": 77, \"value\": 30.0}, \"354.0\": {\"frequency\": 12, \"value\": 354.0}, \"1425.0\": {\"frequency\": 11, \"value\": 1425.0}, \"1426.0\": {\"frequency\": 11, \"value\": 1426.0}, \"1428.0\": {\"frequency\": 13, \"value\": 1428.0}, \"1650.0\": {\"frequency\": 11, \"value\": 1650.0}, \"173.0\": {\"frequency\": 13, \"value\": 173.0}, \"1943.0\": {\"frequency\": 10, \"value\": 1943.0}, \"408.0\": {\"frequency\": 8, \"value\": 408.0}, \"1433.0\": {\"frequency\": 15, \"value\": 1433.0}, \"925.0\": {\"frequency\": 10, \"value\": 925.0}, \"414.0\": {\"frequency\": 11, \"value\": 414.0}, \"928.0\": {\"frequency\": 9, \"value\": 928.0}, \"1956.0\": {\"frequency\": 11, \"value\": 1956.0}, \"2470.0\": {\"frequency\": 8, \"value\": 2470.0}, \"2577.0\": {\"frequency\": 12, \"value\": 2577.0}, \"424.0\": {\"frequency\": 15, \"value\": 424.0}, \"14.0\": {\"frequency\": 101, \"value\": 14.0}, \"1970.0\": {\"frequency\": 11, \"value\": 1970.0}, \"439.0\": {\"frequency\": 10, \"value\": 439.0}, \"543.0\": {\"frequency\": 11, \"value\": 543.0}, \"954.0\": {\"frequency\": 10, \"value\": 954.0}, \"1471.0\": {\"frequency\": 10, \"value\": 1471.0}, \"100.0\": {\"frequency\": 23, \"value\": 100.0}, \"3010.0\": {\"frequency\": 8, \"value\": 3010.0}, \"331.0\": {\"frequency\": 14, \"value\": 331.0}, \"964.0\": {\"frequency\": 10, \"value\": 964.0}, \"1526.0\": {\"frequency\": 11, \"value\": 1526.0}, \"459.0\": {\"frequency\": 8, \"value\": 459.0}, \"973.0\": {\"frequency\": 10, \"value\": 973.0}, \"974.0\": {\"frequency\": 12, \"value\": 974.0}, \"975.0\": {\"frequency\": 10, \"value\": 975.0}, \"466.0\": {\"frequency\": 12, \"value\": 466.0}, \"675.0\": {\"frequency\": 12, \"value\": 675.0}, \"3175.0\": {\"frequency\": 5, \"value\": 3175.0}, \"1497.0\": {\"frequency\": 7, \"value\": 1497.0}, \"1502.0\": {\"frequency\": 8, \"value\": 1502.0}, \"484.0\": {\"frequency\": 13, \"value\": 484.0}, \"2022.0\": {\"frequency\": 15, \"value\": 2022.0}, \"1514.0\": {\"frequency\": 11, \"value\": 1514.0}, \"1959.0\": {\"frequency\": 9, \"value\": 1959.0}, \"936.0\": {\"frequency\": 14, \"value\": 936.0}, \"500.0\": {\"frequency\": 12, \"value\": 500.0}, \"502.0\": {\"frequency\": 10, \"value\": 502.0}, \"509.0\": {\"frequency\": 11, \"value\": 509.0}, \"1466.0\": {\"frequency\": 12, \"value\": 1466.0}}, \"mean\": 353.0050757638671}, \"selected_variable\": {\"name\": [\"<SArray>\"], \"dtype\": \"float\", \"view_component\": \"Numeric\", \"view_file\": \"sarray\", \"descriptives\": {\"rows\": 150000}, \"type\": \"SArray\", \"view_components\": [\"Numeric\", \"Categorical\"]}, \"histogram\": {\"progress\": 1.0, \"histogram\": {\"max\": 332099.4306738805, \"bins\": [149972, 17, 3, 2, 1, 0, 1, 1, 0, 0, 0, 3], \"min\": -2142.1115595105803}, \"min\": 0.0, \"complete\": 1, \"max\": 329664.0}}, e);\n",
       "                });\n",
       "            })();\n",
       "        "
      ]
     },
     "metadata": {},
     "output_type": "display_data"
    },
    {
     "data": {
      "application/javascript": [
       "$(\"head\").append($(\"<link/>\").attr({\n",
       "  rel:  \"stylesheet\",\n",
       "  type: \"text/css\",\n",
       "  href: \"//cdnjs.cloudflare.com/ajax/libs/font-awesome/4.1.0/css/font-awesome.min.css\"\n",
       "}));\n",
       "$(\"head\").append($(\"<link/>\").attr({\n",
       "  rel:  \"stylesheet\",\n",
       "  type: \"text/css\",\n",
       "  href: \"https://static.turi.com/products/graphlab-create/2.1/canvas/css/canvas.css\"\n",
       "}));\n",
       "\n",
       "            (function(){\n",
       "\n",
       "                var e = null;\n",
       "                if (typeof element == 'undefined') {\n",
       "                    var scripts = document.getElementsByTagName('script');\n",
       "                    var thisScriptTag = scripts[scripts.length-1];\n",
       "                    var parentDiv = thisScriptTag.parentNode;\n",
       "                    e = document.createElement('div');\n",
       "                    parentDiv.appendChild(e);\n",
       "                } else {\n",
       "                    e = element[0];\n",
       "                }\n",
       "\n",
       "                if (typeof requirejs !== 'undefined') {\n",
       "                    // disable load timeout; ipython_app.js is large and can take a while to load.\n",
       "                    requirejs.config({waitSeconds: 0});\n",
       "                }\n",
       "\n",
       "                require(['https://static.turi.com/products/graphlab-create/2.1/canvas/js/ipython_app.js'], function(IPythonApp){\n",
       "                    var app = new IPythonApp();\n",
       "                    app.attachView('sframe','Summary', {\"ipython\": true, \"sketch\": {\"DTI\": {\"std\": 0.4597378868684003, \"complete\": true, \"min\": 0.0, \"max\": 1.0, \"quantile\": [0.0, 0.0, 0.0, 0.0, 0.0, 0.0, 0.0, 0.0, 0.0, 0.0, 0.0, 0.0, 0.0, 0.0, 0.0, 0.0, 0.0, 0.0, 0.0, 0.0, 0.0, 0.0, 0.0, 0.0, 0.0, 0.0, 0.0, 0.0, 0.0, 0.0, 0.0, 0.0, 0.0, 0.0, 0.0, 0.0, 0.0, 0.0, 0.0, 0.0, 0.0, 0.0, 0.0, 0.0, 0.0, 0.0, 0.0, 0.0, 0.0, 0.0, 0.0, 0.0, 0.0, 0.0, 0.0, 0.0, 0.0, 0.0, 0.0, 0.0, 0.0, 0.0, 0.0, 0.0, 0.0, 0.0, 0.0, 0.0, 0.0, 0.0, 1.0, 1.0, 1.0, 1.0, 1.0, 1.0, 1.0, 1.0, 1.0, 1.0, 1.0, 1.0, 1.0, 1.0, 1.0, 1.0, 1.0, 1.0, 1.0, 1.0, 1.0, 1.0, 1.0, 1.0, 1.0, 1.0, 1.0, 1.0, 1.0, 1.0, 1.0], \"median\": 0.0, \"numeric\": true, \"num_unique\": 2, \"num_undefined\": 0, \"var\": 0.21135892462222203, \"progress\": 1.0, \"size\": 150000, \"frequent_items\": {\"0\": {\"frequency\": 104486, \"value\": 0}, \"1\": {\"frequency\": 45514, \"value\": 1}}, \"mean\": 0.30342666666666707}, \"NumberOfOpenCreditLinesAndLoans\": {\"std\": 5.145933836444722, \"complete\": true, \"min\": 0.0, \"max\": 58.0, \"quantile\": [0.0, 0.0, 1.0, 1.0, 1.0, 2.0, 2.0, 2.0, 2.0, 3.0, 3.0, 3.0, 3.0, 3.0, 3.0, 4.0, 4.0, 4.0, 4.0, 4.0, 4.0, 4.0, 4.0, 5.0, 5.0, 5.0, 5.0, 5.0, 5.0, 5.0, 5.0, 5.0, 6.0, 6.0, 6.0, 6.0, 6.0, 6.0, 6.0, 6.0, 6.0, 7.0, 7.0, 7.0, 7.0, 7.0, 7.0, 7.0, 7.0, 8.0, 8.0, 8.0, 8.0, 8.0, 8.0, 8.0, 8.0, 8.0, 9.0, 9.0, 9.0, 9.0, 9.0, 9.0, 9.0, 10.0, 10.0, 10.0, 10.0, 10.0, 10.0, 10.0, 11.0, 11.0, 11.0, 11.0, 11.0, 12.0, 12.0, 12.0, 12.0, 12.0, 13.0, 13.0, 13.0, 13.0, 14.0, 14.0, 14.0, 15.0, 15.0, 16.0, 16.0, 17.0, 17.0, 18.0, 19.0, 20.0, 22.0, 25.0, 58.0], \"median\": 8.0, \"numeric\": true, \"num_unique\": 58, \"num_undefined\": 0, \"var\": 26.48063504906669, \"progress\": 1.0, \"size\": 150000, \"frequent_items\": {\"0\": {\"frequency\": 1888, \"value\": 0}, \"1\": {\"frequency\": 4438, \"value\": 1}, \"2\": {\"frequency\": 6666, \"value\": 2}, \"3\": {\"frequency\": 9058, \"value\": 3}, \"4\": {\"frequency\": 11609, \"value\": 4}, \"5\": {\"frequency\": 12931, \"value\": 5}, \"6\": {\"frequency\": 13614, \"value\": 6}, \"7\": {\"frequency\": 13245, \"value\": 7}, \"8\": {\"frequency\": 12562, \"value\": 8}, \"9\": {\"frequency\": 11355, \"value\": 9}, \"10\": {\"frequency\": 9624, \"value\": 10}, \"11\": {\"frequency\": 8321, \"value\": 11}, \"12\": {\"frequency\": 7005, \"value\": 12}, \"13\": {\"frequency\": 5667, \"value\": 13}, \"14\": {\"frequency\": 4546, \"value\": 14}, \"15\": {\"frequency\": 3645, \"value\": 15}, \"16\": {\"frequency\": 3000, \"value\": 16}, \"17\": {\"frequency\": 2370, \"value\": 17}, \"18\": {\"frequency\": 1874, \"value\": 18}, \"19\": {\"frequency\": 1433, \"value\": 19}, \"20\": {\"frequency\": 1169, \"value\": 20}, \"21\": {\"frequency\": 864, \"value\": 21}, \"22\": {\"frequency\": 685, \"value\": 22}, \"23\": {\"frequency\": 533, \"value\": 23}, \"24\": {\"frequency\": 422, \"value\": 24}, \"25\": {\"frequency\": 337, \"value\": 25}, \"26\": {\"frequency\": 239, \"value\": 26}, \"27\": {\"frequency\": 194, \"value\": 27}, \"28\": {\"frequency\": 150, \"value\": 28}, \"29\": {\"frequency\": 114, \"value\": 29}, \"30\": {\"frequency\": 88, \"value\": 30}, \"31\": {\"frequency\": 74, \"value\": 31}, \"32\": {\"frequency\": 52, \"value\": 32}, \"33\": {\"frequency\": 47, \"value\": 33}, \"34\": {\"frequency\": 35, \"value\": 34}, \"35\": {\"frequency\": 27, \"value\": 35}, \"36\": {\"frequency\": 18, \"value\": 36}, \"37\": {\"frequency\": 7, \"value\": 37}, \"38\": {\"frequency\": 13, \"value\": 38}, \"39\": {\"frequency\": 9, \"value\": 39}, \"40\": {\"frequency\": 10, \"value\": 40}, \"41\": {\"frequency\": 4, \"value\": 41}, \"42\": {\"frequency\": 8, \"value\": 42}, \"43\": {\"frequency\": 8, \"value\": 43}, \"44\": {\"frequency\": 2, \"value\": 44}, \"45\": {\"frequency\": 8, \"value\": 45}, \"46\": {\"frequency\": 3, \"value\": 46}, \"47\": {\"frequency\": 2, \"value\": 47}, \"48\": {\"frequency\": 6, \"value\": 48}, \"49\": {\"frequency\": 4, \"value\": 49}, \"50\": {\"frequency\": 2, \"value\": 50}, \"51\": {\"frequency\": 2, \"value\": 51}, \"52\": {\"frequency\": 3, \"value\": 52}, \"53\": {\"frequency\": 1, \"value\": 53}, \"54\": {\"frequency\": 4, \"value\": 54}, \"56\": {\"frequency\": 2, \"value\": 56}, \"57\": {\"frequency\": 2, \"value\": 57}, \"58\": {\"frequency\": 1, \"value\": 58}}, \"mean\": 8.452759999999968}, \"NumberRealEstateLoansOrLines\": {\"std\": 1.1297672189733001, \"complete\": true, \"min\": 0.0, \"max\": 54.0, \"quantile\": [0.0, 0.0, 0.0, 0.0, 0.0, 0.0, 0.0, 0.0, 0.0, 0.0, 0.0, 0.0, 0.0, 0.0, 0.0, 0.0, 0.0, 0.0, 0.0, 0.0, 0.0, 0.0, 0.0, 0.0, 0.0, 0.0, 0.0, 0.0, 0.0, 0.0, 0.0, 0.0, 0.0, 0.0, 0.0, 0.0, 0.0, 0.0, 1.0, 1.0, 1.0, 1.0, 1.0, 1.0, 1.0, 1.0, 1.0, 1.0, 1.0, 1.0, 1.0, 1.0, 1.0, 1.0, 1.0, 1.0, 1.0, 1.0, 1.0, 1.0, 1.0, 1.0, 1.0, 1.0, 1.0, 1.0, 1.0, 1.0, 1.0, 1.0, 1.0, 1.0, 1.0, 2.0, 2.0, 2.0, 2.0, 2.0, 2.0, 2.0, 2.0, 2.0, 2.0, 2.0, 2.0, 2.0, 2.0, 2.0, 2.0, 2.0, 2.0, 2.0, 2.0, 2.0, 3.0, 3.0, 3.0, 3.0, 4.0, 5.0, 54.0], \"median\": 1.0, \"numeric\": true, \"num_unique\": 28, \"num_undefined\": 0, \"var\": 1.276373969066665, \"progress\": 1.0, \"size\": 150000, \"frequent_items\": {\"0\": {\"frequency\": 56188, \"value\": 0}, \"1\": {\"frequency\": 52338, \"value\": 1}, \"2\": {\"frequency\": 31522, \"value\": 2}, \"3\": {\"frequency\": 6300, \"value\": 3}, \"4\": {\"frequency\": 2170, \"value\": 4}, \"5\": {\"frequency\": 689, \"value\": 5}, \"6\": {\"frequency\": 320, \"value\": 6}, \"7\": {\"frequency\": 171, \"value\": 7}, \"8\": {\"frequency\": 93, \"value\": 8}, \"9\": {\"frequency\": 78, \"value\": 9}, \"10\": {\"frequency\": 37, \"value\": 10}, \"11\": {\"frequency\": 23, \"value\": 11}, \"12\": {\"frequency\": 18, \"value\": 12}, \"13\": {\"frequency\": 15, \"value\": 13}, \"14\": {\"frequency\": 7, \"value\": 14}, \"15\": {\"frequency\": 7, \"value\": 15}, \"16\": {\"frequency\": 4, \"value\": 16}, \"17\": {\"frequency\": 4, \"value\": 17}, \"18\": {\"frequency\": 2, \"value\": 18}, \"19\": {\"frequency\": 2, \"value\": 19}, \"20\": {\"frequency\": 2, \"value\": 20}, \"21\": {\"frequency\": 1, \"value\": 21}, \"23\": {\"frequency\": 2, \"value\": 23}, \"25\": {\"frequency\": 3, \"value\": 25}, \"26\": {\"frequency\": 1, \"value\": 26}, \"29\": {\"frequency\": 1, \"value\": 29}, \"32\": {\"frequency\": 1, \"value\": 32}, \"54\": {\"frequency\": 1, \"value\": 54}}, \"mean\": 1.0182399999999934}, \"age\": {\"std\": 14.77181662346539, \"complete\": true, \"min\": 0.0, \"max\": 109.0, \"quantile\": [0.0, 24.0, 26.0, 27.0, 28.0, 29.0, 30.0, 30.0, 31.0, 32.0, 33.0, 33.0, 34.0, 35.0, 35.0, 36.0, 37.0, 37.0, 38.0, 38.0, 39.0, 39.0, 40.0, 40.0, 41.0, 41.0, 42.0, 42.0, 43.0, 43.0, 44.0, 44.0, 45.0, 45.0, 45.0, 46.0, 46.0, 47.0, 47.0, 47.0, 48.0, 48.0, 49.0, 49.0, 49.0, 50.0, 50.0, 51.0, 51.0, 51.0, 52.0, 52.0, 53.0, 53.0, 54.0, 54.0, 54.0, 55.0, 55.0, 56.0, 56.0, 56.0, 57.0, 57.0, 58.0, 58.0, 59.0, 59.0, 60.0, 60.0, 61.0, 61.0, 61.0, 62.0, 62.0, 63.0, 63.0, 63.0, 64.0, 64.0, 65.0, 66.0, 66.0, 67.0, 67.0, 68.0, 69.0, 70.0, 70.0, 71.0, 72.0, 73.0, 74.0, 75.0, 77.0, 78.0, 79.0, 81.0, 84.0, 87.0, 109.0], \"median\": 52.0, \"numeric\": true, \"num_unique\": 86, \"num_undefined\": 0, \"var\": 218.20656635728847, \"progress\": 1.0, \"size\": 150000, \"frequent_items\": {\"0\": {\"frequency\": 1, \"value\": 0}, \"21\": {\"frequency\": 183, \"value\": 21}, \"22\": {\"frequency\": 434, \"value\": 22}, \"23\": {\"frequency\": 641, \"value\": 23}, \"24\": {\"frequency\": 816, \"value\": 24}, \"25\": {\"frequency\": 953, \"value\": 25}, \"26\": {\"frequency\": 1193, \"value\": 26}, \"27\": {\"frequency\": 1338, \"value\": 27}, \"28\": {\"frequency\": 1560, \"value\": 28}, \"29\": {\"frequency\": 1702, \"value\": 29}, \"30\": {\"frequency\": 1937, \"value\": 30}, \"31\": {\"frequency\": 2038, \"value\": 31}, \"32\": {\"frequency\": 2050, \"value\": 32}, \"33\": {\"frequency\": 2239, \"value\": 33}, \"34\": {\"frequency\": 2155, \"value\": 34}, \"35\": {\"frequency\": 2246, \"value\": 35}, \"36\": {\"frequency\": 2379, \"value\": 36}, \"37\": {\"frequency\": 2521, \"value\": 37}, \"38\": {\"frequency\": 2631, \"value\": 38}, \"39\": {\"frequency\": 2987, \"value\": 39}, \"40\": {\"frequency\": 3093, \"value\": 40}, \"41\": {\"frequency\": 3122, \"value\": 41}, \"42\": {\"frequency\": 3082, \"value\": 42}, \"43\": {\"frequency\": 3208, \"value\": 43}, \"44\": {\"frequency\": 3294, \"value\": 44}, \"45\": {\"frequency\": 3502, \"value\": 45}, \"46\": {\"frequency\": 3714, \"value\": 46}, \"47\": {\"frequency\": 3719, \"value\": 47}, \"48\": {\"frequency\": 3806, \"value\": 48}, \"49\": {\"frequency\": 3837, \"value\": 49}, \"50\": {\"frequency\": 3753, \"value\": 50}, \"51\": {\"frequency\": 3627, \"value\": 51}, \"52\": {\"frequency\": 3609, \"value\": 52}, \"53\": {\"frequency\": 3648, \"value\": 53}, \"54\": {\"frequency\": 3561, \"value\": 54}, \"55\": {\"frequency\": 3416, \"value\": 55}, \"56\": {\"frequency\": 3589, \"value\": 56}, \"57\": {\"frequency\": 3375, \"value\": 57}, \"58\": {\"frequency\": 3443, \"value\": 58}, \"59\": {\"frequency\": 3280, \"value\": 59}, \"60\": {\"frequency\": 3258, \"value\": 60}, \"61\": {\"frequency\": 3522, \"value\": 61}, \"62\": {\"frequency\": 3568, \"value\": 62}, \"63\": {\"frequency\": 3719, \"value\": 63}, \"64\": {\"frequency\": 3058, \"value\": 64}, \"65\": {\"frequency\": 2594, \"value\": 65}, \"66\": {\"frequency\": 2494, \"value\": 66}, \"67\": {\"frequency\": 2503, \"value\": 67}, \"68\": {\"frequency\": 2235, \"value\": 68}, \"69\": {\"frequency\": 1954, \"value\": 69}, \"70\": {\"frequency\": 1777, \"value\": 70}, \"71\": {\"frequency\": 1646, \"value\": 71}, \"72\": {\"frequency\": 1649, \"value\": 72}, \"73\": {\"frequency\": 1520, \"value\": 73}, \"74\": {\"frequency\": 1451, \"value\": 74}, \"75\": {\"frequency\": 1241, \"value\": 75}, \"76\": {\"frequency\": 1183, \"value\": 76}, \"77\": {\"frequency\": 1099, \"value\": 77}, \"78\": {\"frequency\": 1054, \"value\": 78}, \"79\": {\"frequency\": 981, \"value\": 79}, \"80\": {\"frequency\": 876, \"value\": 80}, \"81\": {\"frequency\": 774, \"value\": 81}, \"82\": {\"frequency\": 647, \"value\": 82}, \"83\": {\"frequency\": 512, \"value\": 83}, \"84\": {\"frequency\": 480, \"value\": 84}, \"85\": {\"frequency\": 483, \"value\": 85}, \"86\": {\"frequency\": 407, \"value\": 86}, \"87\": {\"frequency\": 357, \"value\": 87}, \"88\": {\"frequency\": 313, \"value\": 88}, \"89\": {\"frequency\": 276, \"value\": 89}, \"90\": {\"frequency\": 198, \"value\": 90}, \"91\": {\"frequency\": 154, \"value\": 91}, \"92\": {\"frequency\": 93, \"value\": 92}, \"93\": {\"frequency\": 87, \"value\": 93}, \"94\": {\"frequency\": 47, \"value\": 94}, \"95\": {\"frequency\": 45, \"value\": 95}, \"96\": {\"frequency\": 18, \"value\": 96}, \"97\": {\"frequency\": 17, \"value\": 97}, \"98\": {\"frequency\": 6, \"value\": 98}, \"99\": {\"frequency\": 9, \"value\": 99}, \"101\": {\"frequency\": 3, \"value\": 101}, \"102\": {\"frequency\": 3, \"value\": 102}, \"103\": {\"frequency\": 3, \"value\": 103}, \"105\": {\"frequency\": 1, \"value\": 105}, \"107\": {\"frequency\": 1, \"value\": 107}, \"109\": {\"frequency\": 2, \"value\": 109}}, \"mean\": 52.295206666666694}, \"Is60orMoreYearsOld\": {\"std\": 0.46728867480391667, \"complete\": true, \"min\": 0.0, \"max\": 1.0, \"quantile\": [0.0, 0.0, 0.0, 0.0, 0.0, 0.0, 0.0, 0.0, 0.0, 0.0, 0.0, 0.0, 0.0, 0.0, 0.0, 0.0, 0.0, 0.0, 0.0, 0.0, 0.0, 0.0, 0.0, 0.0, 0.0, 0.0, 0.0, 0.0, 0.0, 0.0, 0.0, 0.0, 0.0, 0.0, 0.0, 0.0, 0.0, 0.0, 0.0, 0.0, 0.0, 0.0, 0.0, 0.0, 0.0, 0.0, 0.0, 0.0, 0.0, 0.0, 0.0, 0.0, 0.0, 0.0, 0.0, 0.0, 0.0, 0.0, 0.0, 0.0, 0.0, 0.0, 0.0, 0.0, 0.0, 0.0, 0.0, 0.0, 1.0, 1.0, 1.0, 1.0, 1.0, 1.0, 1.0, 1.0, 1.0, 1.0, 1.0, 1.0, 1.0, 1.0, 1.0, 1.0, 1.0, 1.0, 1.0, 1.0, 1.0, 1.0, 1.0, 1.0, 1.0, 1.0, 1.0, 1.0, 1.0, 1.0, 1.0, 1.0, 1.0], \"median\": 0.0, \"numeric\": true, \"num_unique\": 2, \"num_undefined\": 0, \"var\": 0.2183587056000006, \"progress\": 1.0, \"size\": 150000, \"frequent_items\": {\"0\": {\"frequency\": 101682, \"value\": 0}, \"1\": {\"frequency\": 48318, \"value\": 1}}, \"mean\": 0.3221199999999999}, \"NumberOfDependents\": {\"std\": 1.1150822546795214, \"complete\": true, \"min\": 0.0, \"max\": 20.0, \"quantile\": [0.0, 0.0, 0.0, 0.0, 0.0, 0.0, 0.0, 0.0, 0.0, 0.0, 0.0, 0.0, 0.0, 0.0, 0.0, 0.0, 0.0, 0.0, 0.0, 0.0, 0.0, 0.0, 0.0, 0.0, 0.0, 0.0, 0.0, 0.0, 0.0, 0.0, 0.0, 0.0, 0.0, 0.0, 0.0, 0.0, 0.0, 0.0, 0.0, 0.0, 0.0, 0.0, 0.0, 0.0, 0.0, 0.0, 0.0, 0.0, 0.0, 0.0, 0.0, 0.0, 0.0, 0.0, 0.0, 0.0, 0.0, 0.0, 0.0, 0.0, 1.0, 1.0, 1.0, 1.0, 1.0, 1.0, 1.0, 1.0, 1.0, 1.0, 1.0, 1.0, 1.0, 1.0, 1.0, 1.0, 1.0, 1.0, 2.0, 2.0, 2.0, 2.0, 2.0, 2.0, 2.0, 2.0, 2.0, 2.0, 2.0, 2.0, 2.0, 3.0, 3.0, 3.0, 3.0, 3.0, 3.0, 3.0, 4.0, 4.0, 20.0], \"median\": 0.0, \"numeric\": true, \"num_unique\": 13, \"num_undefined\": 3924, \"var\": 1.243408434701165, \"progress\": 1.0, \"size\": 150000, \"frequent_items\": {\"0\": {\"frequency\": 86902, \"value\": 0}, \"1\": {\"frequency\": 26316, \"value\": 1}, \"2\": {\"frequency\": 19522, \"value\": 2}, \"3\": {\"frequency\": 9483, \"value\": 3}, \"4\": {\"frequency\": 2862, \"value\": 4}, \"5\": {\"frequency\": 746, \"value\": 5}, \"6\": {\"frequency\": 158, \"value\": 6}, \"7\": {\"frequency\": 51, \"value\": 7}, \"8\": {\"frequency\": 24, \"value\": 8}, \"9\": {\"frequency\": 5, \"value\": 9}, \"10\": {\"frequency\": 5, \"value\": 10}, \"13\": {\"frequency\": 1, \"value\": 13}, \"20\": {\"frequency\": 1, \"value\": 20}}, \"mean\": 0.7572222678605708}, \"MonthlyIncome\": {\"std\": 14384.614413071584, \"complete\": true, \"min\": 0.0, \"max\": 3008750.0, \"quantile\": [0.0, 0.0, 300.0, 802.0, 1002.0, 1300.0, 1500.0, 1622.0, 1800.0, 1975.0, 2003.0, 2166.0, 2274.0, 2400.0, 2500.0, 2500.0, 2605.0, 2727.0, 2833.0, 2925.0, 3000.0, 3020.0, 3141.0, 3211.0, 3326.0, 3400.0, 3500.0, 3507.0, 3600.0, 3705.0, 3800.0, 3900.0, 4000.0, 4000.0, 4072.0, 4166.0, 4200.0, 4300.0, 4400.0, 4500.0, 4542.0, 4618.0, 4735.0, 4833.0, 4965.0, 5000.0, 5000.0, 5100.0, 5200.0, 5300.0, 5400.0, 5491.0, 5546.0, 5666.0, 5800.0, 5856.0, 6000.0, 6000.0, 6100.0, 6212.0, 6300.0, 6458.0, 6535.0, 6666.0, 6776.0, 6916.0, 7000.0, 7100.0, 7250.0, 7416.0, 7500.0, 7660.0, 7818.0, 8000.0, 8055.0, 8250.0, 8350.0, 8510.0, 8750.0, 8942.0, 9083.0, 9300.0, 9518.0, 9803.0, 10000.0, 10109.0, 10420.0, 10532.0, 10900.0, 11200.0, 11666.0, 12000.0, 12500.0, 13000.0, 13750.0, 14651.0, 15700.0, 17000.0, 19800.0, 25000.0, 3008750.0], \"median\": 5400.0, \"numeric\": true, \"num_unique\": 13583, \"num_undefined\": 29731, \"var\": 206917131.81274676, \"progress\": 1.0, \"size\": 150000, \"frequent_items\": {\"0\": {\"frequency\": 1634, \"value\": 0}, \"1\": {\"frequency\": 605, \"value\": 1}, \"2\": {\"frequency\": 6, \"value\": 2}, \"71000\": {\"frequency\": 2, \"value\": 71000}, \"21\": {\"frequency\": 2, \"value\": 21}, \"25\": {\"frequency\": 1, \"value\": 25}, \"27\": {\"frequency\": 2, \"value\": 27}, \"40\": {\"frequency\": 3, \"value\": 40}, \"50\": {\"frequency\": 4, \"value\": 50}, \"72\": {\"frequency\": 1, \"value\": 72}, \"100\": {\"frequency\": 24, \"value\": 100}, \"140\": {\"frequency\": 2, \"value\": 140}, \"150\": {\"frequency\": 6, \"value\": 150}, \"151\": {\"frequency\": 3, \"value\": 151}, \"179\": {\"frequency\": 2, \"value\": 179}, \"200\": {\"frequency\": 44, \"value\": 200}, \"201\": {\"frequency\": 4, \"value\": 201}, \"33000\": {\"frequency\": 7, \"value\": 33000}, \"240\": {\"frequency\": 2, \"value\": 240}, \"249\": {\"frequency\": 2, \"value\": 249}, \"250\": {\"frequency\": 17, \"value\": 250}, \"251\": {\"frequency\": 1, \"value\": 251}, \"260\": {\"frequency\": 3, \"value\": 260}, \"280\": {\"frequency\": 2, \"value\": 280}, \"300\": {\"frequency\": 50, \"value\": 300}, \"303\": {\"frequency\": 1, \"value\": 303}, \"325\": {\"frequency\": 3, \"value\": 325}, \"333\": {\"frequency\": 6, \"value\": 333}, \"334\": {\"frequency\": 3, \"value\": 334}, \"350\": {\"frequency\": 9, \"value\": 350}, \"372\": {\"frequency\": 1, \"value\": 372}, \"375\": {\"frequency\": 4, \"value\": 375}, \"400\": {\"frequency\": 72, \"value\": 400}, \"416\": {\"frequency\": 5, \"value\": 416}, \"417\": {\"frequency\": 4, \"value\": 417}, \"420\": {\"frequency\": 3, \"value\": 420}, \"425\": {\"frequency\": 2, \"value\": 425}, \"430\": {\"frequency\": 2, \"value\": 430}, \"438\": {\"frequency\": 2, \"value\": 438}, \"450\": {\"frequency\": 16, \"value\": 450}, \"451\": {\"frequency\": 2, \"value\": 451}, \"466\": {\"frequency\": 1, \"value\": 466}, \"470\": {\"frequency\": 2, \"value\": 470}, \"480\": {\"frequency\": 2, \"value\": 480}, \"498\": {\"frequency\": 2, \"value\": 498}, \"500\": {\"frequency\": 135, \"value\": 500}, \"501\": {\"frequency\": 10, \"value\": 501}, \"505\": {\"frequency\": 3, \"value\": 505}, \"511\": {\"frequency\": 1, \"value\": 511}, \"519\": {\"frequency\": 3, \"value\": 519}, \"520\": {\"frequency\": 3, \"value\": 520}, \"522\": {\"frequency\": 2, \"value\": 522}, \"524\": {\"frequency\": 1, \"value\": 524}, \"527\": {\"frequency\": 3, \"value\": 527}, \"533\": {\"frequency\": 2, \"value\": 533}, \"540\": {\"frequency\": 6, \"value\": 540}, \"541\": {\"frequency\": 3, \"value\": 541}, \"547\": {\"frequency\": 2, \"value\": 547}, \"550\": {\"frequency\": 22, \"value\": 550}, \"558\": {\"frequency\": 1, \"value\": 558}, \"560\": {\"frequency\": 7, \"value\": 560}, \"33333\": {\"frequency\": 23, \"value\": 33333}, \"583\": {\"frequency\": 6, \"value\": 583}, \"600\": {\"frequency\": 102, \"value\": 600}, \"601\": {\"frequency\": 3, \"value\": 601}, \"611\": {\"frequency\": 1, \"value\": 611}, \"615\": {\"frequency\": 2, \"value\": 615}, \"620\": {\"frequency\": 3, \"value\": 620}, \"623\": {\"frequency\": 1, \"value\": 623}, \"625\": {\"frequency\": 5, \"value\": 625}, \"627\": {\"frequency\": 2, \"value\": 627}, \"640\": {\"frequency\": 4, \"value\": 640}, \"643\": {\"frequency\": 2, \"value\": 643}, \"650\": {\"frequency\": 23, \"value\": 650}, \"661\": {\"frequency\": 2, \"value\": 661}, \"664\": {\"frequency\": 2, \"value\": 664}, \"666\": {\"frequency\": 10, \"value\": 666}, \"667\": {\"frequency\": 4, \"value\": 667}, \"671\": {\"frequency\": 3, \"value\": 671}, \"674\": {\"frequency\": 3, \"value\": 674}, \"675\": {\"frequency\": 4, \"value\": 675}, \"698\": {\"frequency\": 2, \"value\": 698}, \"700\": {\"frequency\": 65, \"value\": 700}, \"701\": {\"frequency\": 8, \"value\": 701}, \"707\": {\"frequency\": 1, \"value\": 707}, \"716\": {\"frequency\": 3, \"value\": 716}, \"718\": {\"frequency\": 2, \"value\": 718}, \"720\": {\"frequency\": 7, \"value\": 720}, \"725\": {\"frequency\": 2, \"value\": 725}, \"726\": {\"frequency\": 1, \"value\": 726}, \"734\": {\"frequency\": 12, \"value\": 734}, \"737\": {\"frequency\": 1, \"value\": 737}, \"740\": {\"frequency\": 4, \"value\": 740}, \"742\": {\"frequency\": 6, \"value\": 742}, \"750\": {\"frequency\": 44, \"value\": 750}, \"751\": {\"frequency\": 2, \"value\": 751}, \"758\": {\"frequency\": 2, \"value\": 758}, \"760\": {\"frequency\": 8, \"value\": 760}, \"764\": {\"frequency\": 56, \"value\": 764}, \"770\": {\"frequency\": 5, \"value\": 770}, \"782\": {\"frequency\": 1, \"value\": 782}, \"784\": {\"frequency\": 5, \"value\": 784}, \"790\": {\"frequency\": 7, \"value\": 790}, \"792\": {\"frequency\": 9, \"value\": 792}, \"800\": {\"frequency\": 163, \"value\": 800}, \"801\": {\"frequency\": 4, \"value\": 801}, \"803\": {\"frequency\": 2, \"value\": 803}, \"820\": {\"frequency\": 247, \"value\": 820}, \"823\": {\"frequency\": 2, \"value\": 823}, \"825\": {\"frequency\": 3, \"value\": 825}, \"830\": {\"frequency\": 3, \"value\": 830}, \"833\": {\"frequency\": 26, \"value\": 833}, \"835\": {\"frequency\": 3, \"value\": 835}, \"836\": {\"frequency\": 3, \"value\": 836}, \"840\": {\"frequency\": 3, \"value\": 840}, \"841\": {\"frequency\": 2, \"value\": 841}, \"847\": {\"frequency\": 1, \"value\": 847}, \"850\": {\"frequency\": 25, \"value\": 850}, \"851\": {\"frequency\": 2, \"value\": 851}, \"854\": {\"frequency\": 2, \"value\": 854}, \"857\": {\"frequency\": 4, \"value\": 857}, \"858\": {\"frequency\": 2, \"value\": 858}, \"860\": {\"frequency\": 3, \"value\": 860}, \"861\": {\"frequency\": 2, \"value\": 861}, \"862\": {\"frequency\": 1, \"value\": 862}, \"864\": {\"frequency\": 25, \"value\": 864}, \"865\": {\"frequency\": 7, \"value\": 865}, \"867\": {\"frequency\": 3, \"value\": 867}, \"869\": {\"frequency\": 1, \"value\": 869}, \"875\": {\"frequency\": 3, \"value\": 875}, \"880\": {\"frequency\": 4, \"value\": 880}, \"885\": {\"frequency\": 2, \"value\": 885}, \"887\": {\"frequency\": 3, \"value\": 887}, \"890\": {\"frequency\": 6, \"value\": 890}, \"893\": {\"frequency\": 1, \"value\": 893}, \"894\": {\"frequency\": 3, \"value\": 894}, \"897\": {\"frequency\": 3, \"value\": 897}, \"898\": {\"frequency\": 39, \"value\": 898}, \"900\": {\"frequency\": 80, \"value\": 900}, \"902\": {\"frequency\": 1, \"value\": 902}, \"910\": {\"frequency\": 3, \"value\": 910}, \"913\": {\"frequency\": 3, \"value\": 913}, \"916\": {\"frequency\": 4, \"value\": 916}, \"917\": {\"frequency\": 3, \"value\": 917}, \"920\": {\"frequency\": 5, \"value\": 920}, \"925\": {\"frequency\": 7, \"value\": 925}, \"926\": {\"frequency\": 2, \"value\": 926}, \"928\": {\"frequency\": 2, \"value\": 928}, \"929\": {\"frequency\": 64, \"value\": 929}, \"932\": {\"frequency\": 2, \"value\": 932}, \"936\": {\"frequency\": 4, \"value\": 936}, \"939\": {\"frequency\": 3, \"value\": 939}, \"941\": {\"frequency\": 2, \"value\": 941}, \"945\": {\"frequency\": 3, \"value\": 945}, \"949\": {\"frequency\": 3, \"value\": 949}, \"950\": {\"frequency\": 20, \"value\": 950}, \"958\": {\"frequency\": 3, \"value\": 958}, \"960\": {\"frequency\": 10, \"value\": 960}, \"966\": {\"frequency\": 3, \"value\": 966}, \"970\": {\"frequency\": 5, \"value\": 970}, \"980\": {\"frequency\": 3, \"value\": 980}, \"981\": {\"frequency\": 2, \"value\": 981}, \"984\": {\"frequency\": 3, \"value\": 984}, \"986\": {\"frequency\": 4, \"value\": 986}, \"987\": {\"frequency\": 2, \"value\": 987}, \"990\": {\"frequency\": 5, \"value\": 990}, \"1000\": {\"frequency\": 367, \"value\": 1000}, \"1001\": {\"frequency\": 10, \"value\": 1001}, \"1002\": {\"frequency\": 1, \"value\": 1002}, \"1015\": {\"frequency\": 2, \"value\": 1015}, \"1016\": {\"frequency\": 2, \"value\": 1016}, \"1020\": {\"frequency\": 7, \"value\": 1020}, \"1023\": {\"frequency\": 1, \"value\": 1023}, \"1024\": {\"frequency\": 3, \"value\": 1024}, \"1027\": {\"frequency\": 2, \"value\": 1027}, \"1031\": {\"frequency\": 2, \"value\": 1031}, \"1033\": {\"frequency\": 2, \"value\": 1033}, \"1036\": {\"frequency\": 2, \"value\": 1036}, \"1039\": {\"frequency\": 5, \"value\": 1039}, \"1040\": {\"frequency\": 13, \"value\": 1040}, \"1042\": {\"frequency\": 3, \"value\": 1042}, \"1044\": {\"frequency\": 3, \"value\": 1044}, \"1047\": {\"frequency\": 4, \"value\": 1047}, \"1049\": {\"frequency\": 3, \"value\": 1049}, \"1050\": {\"frequency\": 14, \"value\": 1050}, \"1052\": {\"frequency\": 2, \"value\": 1052}, \"1056\": {\"frequency\": 3, \"value\": 1056}, \"1067\": {\"frequency\": 2, \"value\": 1067}, \"1070\": {\"frequency\": 3, \"value\": 1070}, \"1072\": {\"frequency\": 2, \"value\": 1072}, \"1080\": {\"frequency\": 9, \"value\": 1080}, \"1081\": {\"frequency\": 4, \"value\": 1081}, \"1082\": {\"frequency\": 2, \"value\": 1082}, \"1083\": {\"frequency\": 10, \"value\": 1083}, \"1084\": {\"frequency\": 4, \"value\": 1084}, \"1089\": {\"frequency\": 2, \"value\": 1089}, \"1096\": {\"frequency\": 2, \"value\": 1096}, \"1098\": {\"frequency\": 2, \"value\": 1098}, \"33867\": {\"frequency\": 1, \"value\": 33867}, \"1100\": {\"frequency\": 126, \"value\": 1100}, \"1101\": {\"frequency\": 6, \"value\": 1101}, \"1104\": {\"frequency\": 3, \"value\": 1104}, \"1105\": {\"frequency\": 3, \"value\": 1105}, \"1107\": {\"frequency\": 2, \"value\": 1107}, \"1109\": {\"frequency\": 4, \"value\": 1109}, \"1111\": {\"frequency\": 4, \"value\": 1111}, \"1112\": {\"frequency\": 1, \"value\": 1112}, \"1113\": {\"frequency\": 2, \"value\": 1113}, \"1114\": {\"frequency\": 2, \"value\": 1114}, \"1115\": {\"frequency\": 3, \"value\": 1115}, \"1117\": {\"frequency\": 3, \"value\": 1117}, \"1118\": {\"frequency\": 2, \"value\": 1118}, \"1119\": {\"frequency\": 2, \"value\": 1119}, \"1120\": {\"frequency\": 13, \"value\": 1120}, \"1121\": {\"frequency\": 2, \"value\": 1121}, \"1122\": {\"frequency\": 3, \"value\": 1122}, \"1125\": {\"frequency\": 6, \"value\": 1125}, \"1126\": {\"frequency\": 1, \"value\": 1126}, \"1130\": {\"frequency\": 4, \"value\": 1130}, \"1133\": {\"frequency\": 3, \"value\": 1133}, \"1137\": {\"frequency\": 2, \"value\": 1137}, \"1140\": {\"frequency\": 4, \"value\": 1140}, \"1142\": {\"frequency\": 3, \"value\": 1142}, \"1148\": {\"frequency\": 2, \"value\": 1148}, \"1150\": {\"frequency\": 17, \"value\": 1150}, \"1152\": {\"frequency\": 1, \"value\": 1152}, \"1153\": {\"frequency\": 3, \"value\": 1153}, \"1154\": {\"frequency\": 3, \"value\": 1154}, \"1160\": {\"frequency\": 10, \"value\": 1160}, \"1162\": {\"frequency\": 3, \"value\": 1162}, \"1166\": {\"frequency\": 14, \"value\": 1166}, \"1167\": {\"frequency\": 5, \"value\": 1167}, \"1168\": {\"frequency\": 1, \"value\": 1168}, \"1169\": {\"frequency\": 1, \"value\": 1169}, \"1170\": {\"frequency\": 4, \"value\": 1170}, \"1178\": {\"frequency\": 3, \"value\": 1178}, \"1180\": {\"frequency\": 4, \"value\": 1180}, \"1181\": {\"frequency\": 2, \"value\": 1181}, \"1182\": {\"frequency\": 2, \"value\": 1182}, \"1184\": {\"frequency\": 2, \"value\": 1184}, \"1187\": {\"frequency\": 2, \"value\": 1187}, \"1196\": {\"frequency\": 3, \"value\": 1196}, \"1198\": {\"frequency\": 3, \"value\": 1198}, \"1199\": {\"frequency\": 2, \"value\": 1199}, \"1200\": {\"frequency\": 364, \"value\": 1200}, \"1201\": {\"frequency\": 11, \"value\": 1201}, \"1202\": {\"frequency\": 2, \"value\": 1202}, \"1206\": {\"frequency\": 1, \"value\": 1206}, \"1208\": {\"frequency\": 5, \"value\": 1208}, \"1211\": {\"frequency\": 2, \"value\": 1211}, \"1212\": {\"frequency\": 3, \"value\": 1212}, \"1213\": {\"frequency\": 5, \"value\": 1213}, \"1216\": {\"frequency\": 3, \"value\": 1216}, \"1220\": {\"frequency\": 4, \"value\": 1220}, \"1223\": {\"frequency\": 3, \"value\": 1223}, \"1224\": {\"frequency\": 5, \"value\": 1224}, \"1225\": {\"frequency\": 6, \"value\": 1225}, \"1228\": {\"frequency\": 2, \"value\": 1228}, \"1229\": {\"frequency\": 2, \"value\": 1229}, \"1230\": {\"frequency\": 3, \"value\": 1230}, \"34000\": {\"frequency\": 10, \"value\": 34000}, \"1240\": {\"frequency\": 4, \"value\": 1240}, \"1241\": {\"frequency\": 4, \"value\": 1241}, \"1243\": {\"frequency\": 3, \"value\": 1243}, \"1244\": {\"frequency\": 3, \"value\": 1244}, \"1245\": {\"frequency\": 5, \"value\": 1245}, \"1246\": {\"frequency\": 2, \"value\": 1246}, \"1247\": {\"frequency\": 2, \"value\": 1247}, \"1248\": {\"frequency\": 3, \"value\": 1248}, \"1250\": {\"frequency\": 87, \"value\": 1250}, \"1254\": {\"frequency\": 2, \"value\": 1254}, \"1255\": {\"frequency\": 5, \"value\": 1255}, \"1258\": {\"frequency\": 2, \"value\": 1258}, \"1260\": {\"frequency\": 3, \"value\": 1260}, \"1262\": {\"frequency\": 3, \"value\": 1262}, \"1266\": {\"frequency\": 4, \"value\": 1266}, \"1268\": {\"frequency\": 2, \"value\": 1268}, \"1269\": {\"frequency\": 3, \"value\": 1269}, \"1270\": {\"frequency\": 4, \"value\": 1270}, \"1272\": {\"frequency\": 2, \"value\": 1272}, \"1273\": {\"frequency\": 3, \"value\": 1273}, \"1274\": {\"frequency\": 1, \"value\": 1274}, \"1275\": {\"frequency\": 6, \"value\": 1275}, \"1279\": {\"frequency\": 3, \"value\": 1279}, \"1280\": {\"frequency\": 16, \"value\": 1280}, \"1282\": {\"frequency\": 3, \"value\": 1282}, \"1285\": {\"frequency\": 2, \"value\": 1285}, \"1289\": {\"frequency\": 2, \"value\": 1289}, \"1290\": {\"frequency\": 5, \"value\": 1290}, \"1291\": {\"frequency\": 3, \"value\": 1291}, \"1295\": {\"frequency\": 2, \"value\": 1295}, \"1300\": {\"frequency\": 207, \"value\": 1300}, \"1301\": {\"frequency\": 5, \"value\": 1301}, \"1304\": {\"frequency\": 2, \"value\": 1304}, \"1309\": {\"frequency\": 3, \"value\": 1309}, \"1311\": {\"frequency\": 2, \"value\": 1311}, \"1316\": {\"frequency\": 2, \"value\": 1316}, \"1320\": {\"frequency\": 9, \"value\": 1320}, \"1321\": {\"frequency\": 2, \"value\": 1321}, \"1325\": {\"frequency\": 8, \"value\": 1325}, \"1328\": {\"frequency\": 3, \"value\": 1328}, \"1330\": {\"frequency\": 5, \"value\": 1330}, \"1331\": {\"frequency\": 2, \"value\": 1331}, \"1332\": {\"frequency\": 1, \"value\": 1332}, \"1333\": {\"frequency\": 25, \"value\": 1333}, \"1334\": {\"frequency\": 3, \"value\": 1334}, \"1336\": {\"frequency\": 3, \"value\": 1336}, \"1337\": {\"frequency\": 3, \"value\": 1337}, \"1342\": {\"frequency\": 7, \"value\": 1342}, \"1344\": {\"frequency\": 7, \"value\": 1344}, \"1345\": {\"frequency\": 7, \"value\": 1345}, \"1348\": {\"frequency\": 2, \"value\": 1348}, \"1350\": {\"frequency\": 44, \"value\": 1350}, \"1351\": {\"frequency\": 3, \"value\": 1351}, \"1352\": {\"frequency\": 5, \"value\": 1352}, \"1355\": {\"frequency\": 2, \"value\": 1355}, \"1360\": {\"frequency\": 10, \"value\": 1360}, \"1363\": {\"frequency\": 1, \"value\": 1363}, \"1365\": {\"frequency\": 5, \"value\": 1365}, \"1368\": {\"frequency\": 1, \"value\": 1368}, \"1371\": {\"frequency\": 3, \"value\": 1371}, \"1372\": {\"frequency\": 3, \"value\": 1372}, \"1374\": {\"frequency\": 3, \"value\": 1374}, \"1375\": {\"frequency\": 11, \"value\": 1375}, \"1380\": {\"frequency\": 4, \"value\": 1380}, \"1382\": {\"frequency\": 4, \"value\": 1382}, \"1384\": {\"frequency\": 2, \"value\": 1384}, \"1386\": {\"frequency\": 4, \"value\": 1386}, \"1390\": {\"frequency\": 3, \"value\": 1390}, \"1395\": {\"frequency\": 3, \"value\": 1395}, \"34167\": {\"frequency\": 2, \"value\": 34167}, \"1400\": {\"frequency\": 244, \"value\": 1400}, \"1401\": {\"frequency\": 6, \"value\": 1401}, \"1407\": {\"frequency\": 2, \"value\": 1407}, \"1408\": {\"frequency\": 3, \"value\": 1408}, \"1409\": {\"frequency\": 4, \"value\": 1409}, \"1410\": {\"frequency\": 4, \"value\": 1410}, \"1411\": {\"frequency\": 2, \"value\": 1411}, \"1412\": {\"frequency\": 3, \"value\": 1412}, \"1414\": {\"frequency\": 3, \"value\": 1414}, \"1416\": {\"frequency\": 18, \"value\": 1416}, \"1417\": {\"frequency\": 6, \"value\": 1417}, \"1418\": {\"frequency\": 3, \"value\": 1418}, \"1419\": {\"frequency\": 2, \"value\": 1419}, \"1420\": {\"frequency\": 6, \"value\": 1420}, \"1425\": {\"frequency\": 3, \"value\": 1425}, \"1426\": {\"frequency\": 5, \"value\": 1426}, \"1427\": {\"frequency\": 3, \"value\": 1427}, \"1428\": {\"frequency\": 4, \"value\": 1428}, \"1430\": {\"frequency\": 3, \"value\": 1430}, \"1432\": {\"frequency\": 2, \"value\": 1432}, \"1436\": {\"frequency\": 3, \"value\": 1436}, \"1438\": {\"frequency\": 4, \"value\": 1438}, \"1440\": {\"frequency\": 23, \"value\": 1440}, \"1446\": {\"frequency\": 3, \"value\": 1446}, \"1450\": {\"frequency\": 45, \"value\": 1450}, \"1451\": {\"frequency\": 4, \"value\": 1451}, \"1453\": {\"frequency\": 3, \"value\": 1453}, \"1455\": {\"frequency\": 2, \"value\": 1455}, \"1458\": {\"frequency\": 6, \"value\": 1458}, \"1460\": {\"frequency\": 6, \"value\": 1460}, \"1462\": {\"frequency\": 3, \"value\": 1462}, \"1463\": {\"frequency\": 3, \"value\": 1463}, \"67000\": {\"frequency\": 2, \"value\": 67000}, \"1465\": {\"frequency\": 5, \"value\": 1465}, \"1466\": {\"frequency\": 3, \"value\": 1466}, \"1469\": {\"frequency\": 2, \"value\": 1469}, \"1470\": {\"frequency\": 9, \"value\": 1470}, \"1472\": {\"frequency\": 3, \"value\": 1472}, \"1473\": {\"frequency\": 7, \"value\": 1473}, \"1475\": {\"frequency\": 5, \"value\": 1475}, \"1477\": {\"frequency\": 3, \"value\": 1477}, \"1479\": {\"frequency\": 5, \"value\": 1479}, \"1480\": {\"frequency\": 13, \"value\": 1480}, \"1482\": {\"frequency\": 3, \"value\": 1482}, \"1485\": {\"frequency\": 2, \"value\": 1485}, \"1487\": {\"frequency\": 2, \"value\": 1487}, \"1488\": {\"frequency\": 3, \"value\": 1488}, \"1490\": {\"frequency\": 7, \"value\": 1490}, \"1494\": {\"frequency\": 3, \"value\": 1494}, \"1499\": {\"frequency\": 3, \"value\": 1499}, \"1500\": {\"frequency\": 553, \"value\": 1500}, \"1501\": {\"frequency\": 16, \"value\": 1501}, \"1504\": {\"frequency\": 2, \"value\": 1504}, \"1505\": {\"frequency\": 3, \"value\": 1505}, \"1506\": {\"frequency\": 2, \"value\": 1506}, \"1508\": {\"frequency\": 4, \"value\": 1508}, \"1509\": {\"frequency\": 2, \"value\": 1509}, \"1516\": {\"frequency\": 4, \"value\": 1516}, \"1517\": {\"frequency\": 5, \"value\": 1517}, \"1519\": {\"frequency\": 2, \"value\": 1519}, \"1520\": {\"frequency\": 12, \"value\": 1520}, \"1525\": {\"frequency\": 5, \"value\": 1525}, \"1527\": {\"frequency\": 4, \"value\": 1527}, \"1528\": {\"frequency\": 3, \"value\": 1528}, \"1529\": {\"frequency\": 2, \"value\": 1529}, \"1530\": {\"frequency\": 7, \"value\": 1530}, \"1534\": {\"frequency\": 10, \"value\": 1534}, \"1535\": {\"frequency\": 7, \"value\": 1535}, \"1537\": {\"frequency\": 3, \"value\": 1537}, \"1538\": {\"frequency\": 3, \"value\": 1538}, \"1540\": {\"frequency\": 9, \"value\": 1540}, \"1542\": {\"frequency\": 4, \"value\": 1542}, \"1545\": {\"frequency\": 2, \"value\": 1545}, \"1546\": {\"frequency\": 4, \"value\": 1546}, \"1547\": {\"frequency\": 3, \"value\": 1547}, \"1548\": {\"frequency\": 2, \"value\": 1548}, \"1550\": {\"frequency\": 21, \"value\": 1550}, \"1552\": {\"frequency\": 6, \"value\": 1552}, \"1553\": {\"frequency\": 4, \"value\": 1553}, \"1554\": {\"frequency\": 2, \"value\": 1554}, \"1555\": {\"frequency\": 3, \"value\": 1555}, \"1558\": {\"frequency\": 2, \"value\": 1558}, \"1560\": {\"frequency\": 19, \"value\": 1560}, \"1561\": {\"frequency\": 3, \"value\": 1561}, \"1563\": {\"frequency\": 2, \"value\": 1563}, \"1567\": {\"frequency\": 4, \"value\": 1567}, \"1568\": {\"frequency\": 4, \"value\": 1568}, \"1573\": {\"frequency\": 2, \"value\": 1573}, \"1575\": {\"frequency\": 3, \"value\": 1575}, \"1577\": {\"frequency\": 3, \"value\": 1577}, \"1580\": {\"frequency\": 13, \"value\": 1580}, \"1583\": {\"frequency\": 14, \"value\": 1583}, \"1584\": {\"frequency\": 4, \"value\": 1584}, \"1585\": {\"frequency\": 6, \"value\": 1585}, \"1586\": {\"frequency\": 3, \"value\": 1586}, \"1587\": {\"frequency\": 2, \"value\": 1587}, \"1589\": {\"frequency\": 3, \"value\": 1589}, \"1592\": {\"frequency\": 4, \"value\": 1592}, \"1595\": {\"frequency\": 2, \"value\": 1595}, \"1596\": {\"frequency\": 4, \"value\": 1596}, \"1600\": {\"frequency\": 387, \"value\": 1600}, \"1601\": {\"frequency\": 8, \"value\": 1601}, \"1606\": {\"frequency\": 2, \"value\": 1606}, \"1608\": {\"frequency\": 3, \"value\": 1608}, \"1612\": {\"frequency\": 8, \"value\": 1612}, \"1614\": {\"frequency\": 6, \"value\": 1614}, \"1616\": {\"frequency\": 3, \"value\": 1616}, \"1618\": {\"frequency\": 2, \"value\": 1618}, \"1620\": {\"frequency\": 9, \"value\": 1620}, \"1624\": {\"frequency\": 2, \"value\": 1624}, \"1625\": {\"frequency\": 8, \"value\": 1625}, \"1627\": {\"frequency\": 3, \"value\": 1627}, \"1629\": {\"frequency\": 3, \"value\": 1629}, \"1630\": {\"frequency\": 8, \"value\": 1630}, \"1634\": {\"frequency\": 2, \"value\": 1634}, \"1635\": {\"frequency\": 3, \"value\": 1635}, \"1636\": {\"frequency\": 6, \"value\": 1636}, \"1638\": {\"frequency\": 3, \"value\": 1638}, \"1640\": {\"frequency\": 11, \"value\": 1640}, \"1641\": {\"frequency\": 6, \"value\": 1641}, \"1642\": {\"frequency\": 6, \"value\": 1642}, \"1644\": {\"frequency\": 3, \"value\": 1644}, \"1646\": {\"frequency\": 4, \"value\": 1646}, \"1647\": {\"frequency\": 4, \"value\": 1647}, \"1648\": {\"frequency\": 2, \"value\": 1648}, \"1649\": {\"frequency\": 3, \"value\": 1649}, \"1650\": {\"frequency\": 40, \"value\": 1650}, \"1652\": {\"frequency\": 2, \"value\": 1652}, \"1655\": {\"frequency\": 5, \"value\": 1655}, \"1656\": {\"frequency\": 4, \"value\": 1656}, \"1657\": {\"frequency\": 2, \"value\": 1657}, \"1658\": {\"frequency\": 1, \"value\": 1658}, \"1659\": {\"frequency\": 2, \"value\": 1659}, \"1660\": {\"frequency\": 6, \"value\": 1660}, \"1663\": {\"frequency\": 3, \"value\": 1663}, \"1664\": {\"frequency\": 5, \"value\": 1664}, \"1665\": {\"frequency\": 3, \"value\": 1665}, \"1666\": {\"frequency\": 84, \"value\": 1666}, \"1667\": {\"frequency\": 22, \"value\": 1667}, \"1668\": {\"frequency\": 5, \"value\": 1668}, \"1669\": {\"frequency\": 4, \"value\": 1669}, \"1670\": {\"frequency\": 4, \"value\": 1670}, \"1672\": {\"frequency\": 2, \"value\": 1672}, \"1673\": {\"frequency\": 4, \"value\": 1673}, \"1674\": {\"frequency\": 3, \"value\": 1674}, \"1675\": {\"frequency\": 7, \"value\": 1675}, \"1676\": {\"frequency\": 6, \"value\": 1676}, \"1677\": {\"frequency\": 5, \"value\": 1677}, \"1680\": {\"frequency\": 18, \"value\": 1680}, \"1681\": {\"frequency\": 4, \"value\": 1681}, \"1683\": {\"frequency\": 3, \"value\": 1683}, \"1685\": {\"frequency\": 3, \"value\": 1685}, \"1686\": {\"frequency\": 1, \"value\": 1686}, \"1688\": {\"frequency\": 6, \"value\": 1688}, \"1690\": {\"frequency\": 9, \"value\": 1690}, \"1691\": {\"frequency\": 2, \"value\": 1691}, \"1692\": {\"frequency\": 5, \"value\": 1692}, \"1694\": {\"frequency\": 4, \"value\": 1694}, \"1695\": {\"frequency\": 5, \"value\": 1695}, \"100000\": {\"frequency\": 7, \"value\": 100000}, \"1698\": {\"frequency\": 4, \"value\": 1698}, \"1699\": {\"frequency\": 3, \"value\": 1699}, \"1700\": {\"frequency\": 230, \"value\": 1700}, \"1701\": {\"frequency\": 5, \"value\": 1701}, \"1704\": {\"frequency\": 5, \"value\": 1704}, \"1705\": {\"frequency\": 3, \"value\": 1705}, \"1706\": {\"frequency\": 5, \"value\": 1706}, \"1708\": {\"frequency\": 3, \"value\": 1708}, \"1710\": {\"frequency\": 6, \"value\": 1710}, \"1712\": {\"frequency\": 3, \"value\": 1712}, \"1713\": {\"frequency\": 3, \"value\": 1713}, \"1715\": {\"frequency\": 3, \"value\": 1715}, \"1716\": {\"frequency\": 4, \"value\": 1716}, \"1718\": {\"frequency\": 3, \"value\": 1718}, \"1719\": {\"frequency\": 1, \"value\": 1719}, \"1720\": {\"frequency\": 8, \"value\": 1720}, \"1721\": {\"frequency\": 4, \"value\": 1721}, \"1723\": {\"frequency\": 3, \"value\": 1723}, \"1725\": {\"frequency\": 6, \"value\": 1725}, \"1728\": {\"frequency\": 2, \"value\": 1728}, \"1730\": {\"frequency\": 8, \"value\": 1730}, \"1731\": {\"frequency\": 5, \"value\": 1731}, \"1732\": {\"frequency\": 4, \"value\": 1732}, \"1733\": {\"frequency\": 19, \"value\": 1733}, \"1734\": {\"frequency\": 6, \"value\": 1734}, \"1735\": {\"frequency\": 4, \"value\": 1735}, \"1736\": {\"frequency\": 6, \"value\": 1736}, \"1738\": {\"frequency\": 2, \"value\": 1738}, \"1739\": {\"frequency\": 3, \"value\": 1739}, \"1740\": {\"frequency\": 11, \"value\": 1740}, \"1742\": {\"frequency\": 3, \"value\": 1742}, \"1744\": {\"frequency\": 4, \"value\": 1744}, \"1745\": {\"frequency\": 5, \"value\": 1745}, \"1746\": {\"frequency\": 2, \"value\": 1746}, \"1748\": {\"frequency\": 5, \"value\": 1748}, \"1750\": {\"frequency\": 70, \"value\": 1750}, \"1751\": {\"frequency\": 3, \"value\": 1751}, \"1752\": {\"frequency\": 8, \"value\": 1752}, \"1755\": {\"frequency\": 2, \"value\": 1755}, \"1758\": {\"frequency\": 2, \"value\": 1758}, \"1760\": {\"frequency\": 17, \"value\": 1760}, \"1762\": {\"frequency\": 7, \"value\": 1762}, \"1766\": {\"frequency\": 3, \"value\": 1766}, \"1767\": {\"frequency\": 4, \"value\": 1767}, \"1770\": {\"frequency\": 8, \"value\": 1770}, \"1773\": {\"frequency\": 3, \"value\": 1773}, \"1775\": {\"frequency\": 7, \"value\": 1775}, \"1776\": {\"frequency\": 5, \"value\": 1776}, \"1778\": {\"frequency\": 4, \"value\": 1778}, \"1780\": {\"frequency\": 7, \"value\": 1780}, \"1781\": {\"frequency\": 5, \"value\": 1781}, \"1785\": {\"frequency\": 5, \"value\": 1785}, \"1786\": {\"frequency\": 3, \"value\": 1786}, \"1787\": {\"frequency\": 4, \"value\": 1787}, \"1790\": {\"frequency\": 7, \"value\": 1790}, \"1792\": {\"frequency\": 2, \"value\": 1792}, \"1794\": {\"frequency\": 3, \"value\": 1794}, \"1795\": {\"frequency\": 3, \"value\": 1795}, \"1797\": {\"frequency\": 4, \"value\": 1797}, \"1798\": {\"frequency\": 4, \"value\": 1798}, \"1800\": {\"frequency\": 376, \"value\": 1800}, \"1801\": {\"frequency\": 9, \"value\": 1801}, \"1802\": {\"frequency\": 2, \"value\": 1802}, \"1804\": {\"frequency\": 4, \"value\": 1804}, \"1805\": {\"frequency\": 4, \"value\": 1805}, \"1806\": {\"frequency\": 4, \"value\": 1806}, \"1807\": {\"frequency\": 2, \"value\": 1807}, \"1808\": {\"frequency\": 3, \"value\": 1808}, \"1809\": {\"frequency\": 3, \"value\": 1809}, \"1810\": {\"frequency\": 3, \"value\": 1810}, \"1812\": {\"frequency\": 5, \"value\": 1812}, \"1813\": {\"frequency\": 3, \"value\": 1813}, \"1815\": {\"frequency\": 3, \"value\": 1815}, \"1817\": {\"frequency\": 5, \"value\": 1817}, \"1819\": {\"frequency\": 4, \"value\": 1819}, \"1820\": {\"frequency\": 6, \"value\": 1820}, \"1824\": {\"frequency\": 5, \"value\": 1824}, \"1825\": {\"frequency\": 9, \"value\": 1825}, \"1826\": {\"frequency\": 4, \"value\": 1826}, \"1829\": {\"frequency\": 4, \"value\": 1829}, \"1830\": {\"frequency\": 7, \"value\": 1830}, \"1831\": {\"frequency\": 4, \"value\": 1831}, \"1832\": {\"frequency\": 4, \"value\": 1832}, \"1833\": {\"frequency\": 42, \"value\": 1833}, \"1834\": {\"frequency\": 7, \"value\": 1834}, \"1835\": {\"frequency\": 7, \"value\": 1835}, \"1836\": {\"frequency\": 4, \"value\": 1836}, \"1838\": {\"frequency\": 3, \"value\": 1838}, \"1839\": {\"frequency\": 3, \"value\": 1839}, \"1840\": {\"frequency\": 13, \"value\": 1840}, \"1841\": {\"frequency\": 7, \"value\": 1841}, \"1842\": {\"frequency\": 6, \"value\": 1842}, \"1845\": {\"frequency\": 4, \"value\": 1845}, \"1846\": {\"frequency\": 4, \"value\": 1846}, \"1848\": {\"frequency\": 3, \"value\": 1848}, \"1849\": {\"frequency\": 3, \"value\": 1849}, \"1850\": {\"frequency\": 51, \"value\": 1850}, \"1852\": {\"frequency\": 6, \"value\": 1852}, \"1853\": {\"frequency\": 2, \"value\": 1853}, \"1854\": {\"frequency\": 5, \"value\": 1854}, \"1855\": {\"frequency\": 2, \"value\": 1855}, \"1858\": {\"frequency\": 4, \"value\": 1858}, \"1860\": {\"frequency\": 10, \"value\": 1860}, \"1861\": {\"frequency\": 3, \"value\": 1861}, \"1863\": {\"frequency\": 9, \"value\": 1863}, \"1864\": {\"frequency\": 3, \"value\": 1864}, \"1865\": {\"frequency\": 5, \"value\": 1865}, \"1866\": {\"frequency\": 3, \"value\": 1866}, \"1869\": {\"frequency\": 3, \"value\": 1869}, \"1870\": {\"frequency\": 2, \"value\": 1870}, \"1871\": {\"frequency\": 2, \"value\": 1871}, \"1872\": {\"frequency\": 3, \"value\": 1872}, \"1875\": {\"frequency\": 17, \"value\": 1875}, \"1876\": {\"frequency\": 5, \"value\": 1876}, \"1877\": {\"frequency\": 5, \"value\": 1877}, \"1878\": {\"frequency\": 4, \"value\": 1878}, \"1879\": {\"frequency\": 5, \"value\": 1879}, \"1880\": {\"frequency\": 12, \"value\": 1880}, \"1881\": {\"frequency\": 2, \"value\": 1881}, \"1883\": {\"frequency\": 5, \"value\": 1883}, \"1886\": {\"frequency\": 6, \"value\": 1886}, \"1888\": {\"frequency\": 3, \"value\": 1888}, \"1889\": {\"frequency\": 4, \"value\": 1889}, \"1890\": {\"frequency\": 5, \"value\": 1890}, \"1891\": {\"frequency\": 3, \"value\": 1891}, \"1892\": {\"frequency\": 5, \"value\": 1892}, \"1893\": {\"frequency\": 6, \"value\": 1893}, \"1895\": {\"frequency\": 4, \"value\": 1895}, \"1900\": {\"frequency\": 181, \"value\": 1900}, \"1901\": {\"frequency\": 2, \"value\": 1901}, \"1902\": {\"frequency\": 4, \"value\": 1902}, \"1903\": {\"frequency\": 2, \"value\": 1903}, \"1906\": {\"frequency\": 9, \"value\": 1906}, \"1907\": {\"frequency\": 3, \"value\": 1907}, \"1908\": {\"frequency\": 3, \"value\": 1908}, \"1910\": {\"frequency\": 7, \"value\": 1910}, \"1912\": {\"frequency\": 6, \"value\": 1912}, \"1914\": {\"frequency\": 2, \"value\": 1914}, \"1916\": {\"frequency\": 42, \"value\": 1916}, \"1917\": {\"frequency\": 8, \"value\": 1917}, \"1918\": {\"frequency\": 5, \"value\": 1918}, \"1920\": {\"frequency\": 50, \"value\": 1920}, \"1921\": {\"frequency\": 3, \"value\": 1921}, \"1922\": {\"frequency\": 4, \"value\": 1922}, \"1923\": {\"frequency\": 3, \"value\": 1923}, \"1924\": {\"frequency\": 6, \"value\": 1924}, \"1925\": {\"frequency\": 6, \"value\": 1925}, \"1927\": {\"frequency\": 5, \"value\": 1927}, \"1928\": {\"frequency\": 3, \"value\": 1928}, \"1930\": {\"frequency\": 5, \"value\": 1930}, \"1932\": {\"frequency\": 3, \"value\": 1932}, \"1934\": {\"frequency\": 2, \"value\": 1934}, \"1935\": {\"frequency\": 6, \"value\": 1935}, \"1937\": {\"frequency\": 4, \"value\": 1937}, \"1940\": {\"frequency\": 8, \"value\": 1940}, \"1942\": {\"frequency\": 5, \"value\": 1942}, \"1943\": {\"frequency\": 3, \"value\": 1943}, \"1945\": {\"frequency\": 4, \"value\": 1945}, \"1946\": {\"frequency\": 3, \"value\": 1946}, \"1950\": {\"frequency\": 40, \"value\": 1950}, \"1952\": {\"frequency\": 2, \"value\": 1952}, \"1953\": {\"frequency\": 3, \"value\": 1953}, \"1956\": {\"frequency\": 2, \"value\": 1956}, \"1957\": {\"frequency\": 3, \"value\": 1957}, \"1958\": {\"frequency\": 7, \"value\": 1958}, \"1959\": {\"frequency\": 4, \"value\": 1959}, \"1960\": {\"frequency\": 8, \"value\": 1960}, \"1966\": {\"frequency\": 5, \"value\": 1966}, \"1968\": {\"frequency\": 3, \"value\": 1968}, \"1970\": {\"frequency\": 7, \"value\": 1970}, \"1971\": {\"frequency\": 7, \"value\": 1971}, \"1972\": {\"frequency\": 11, \"value\": 1972}, \"1973\": {\"frequency\": 3, \"value\": 1973}, \"1974\": {\"frequency\": 3, \"value\": 1974}, \"1975\": {\"frequency\": 14, \"value\": 1975}, \"1976\": {\"frequency\": 3, \"value\": 1976}, \"1977\": {\"frequency\": 5, \"value\": 1977}, \"1979\": {\"frequency\": 6, \"value\": 1979}, \"1980\": {\"frequency\": 10, \"value\": 1980}, \"1981\": {\"frequency\": 5, \"value\": 1981}, \"1982\": {\"frequency\": 3, \"value\": 1982}, \"1983\": {\"frequency\": 3, \"value\": 1983}, \"1984\": {\"frequency\": 5, \"value\": 1984}, \"1986\": {\"frequency\": 3, \"value\": 1986}, \"1988\": {\"frequency\": 3, \"value\": 1988}, \"1989\": {\"frequency\": 4, \"value\": 1989}, \"1990\": {\"frequency\": 4, \"value\": 1990}, \"1991\": {\"frequency\": 4, \"value\": 1991}, \"1992\": {\"frequency\": 5, \"value\": 1992}, \"1993\": {\"frequency\": 6, \"value\": 1993}, \"1994\": {\"frequency\": 4, \"value\": 1994}, \"1995\": {\"frequency\": 3, \"value\": 1995}, \"1996\": {\"frequency\": 5, \"value\": 1996}, \"2000\": {\"frequency\": 1116, \"value\": 2000}, \"2001\": {\"frequency\": 13, \"value\": 2001}, \"2002\": {\"frequency\": 5, \"value\": 2002}, \"2004\": {\"frequency\": 4, \"value\": 2004}, \"2005\": {\"frequency\": 2, \"value\": 2005}, \"2006\": {\"frequency\": 3, \"value\": 2006}, \"2008\": {\"frequency\": 7, \"value\": 2008}, \"2009\": {\"frequency\": 7, \"value\": 2009}, \"2010\": {\"frequency\": 7, \"value\": 2010}, \"2011\": {\"frequency\": 2, \"value\": 2011}, \"2012\": {\"frequency\": 2, \"value\": 2012}, \"2015\": {\"frequency\": 3, \"value\": 2015}, \"2016\": {\"frequency\": 2, \"value\": 2016}, \"2017\": {\"frequency\": 4, \"value\": 2017}, \"2019\": {\"frequency\": 2, \"value\": 2019}, \"2020\": {\"frequency\": 10, \"value\": 2020}, \"2024\": {\"frequency\": 2, \"value\": 2024}, \"2025\": {\"frequency\": 8, \"value\": 2025}, \"2026\": {\"frequency\": 7, \"value\": 2026}, \"2027\": {\"frequency\": 4, \"value\": 2027}, \"2028\": {\"frequency\": 2, \"value\": 2028}, \"2029\": {\"frequency\": 3, \"value\": 2029}, \"2030\": {\"frequency\": 6, \"value\": 2030}, \"2031\": {\"frequency\": 3, \"value\": 2031}, \"2032\": {\"frequency\": 7, \"value\": 2032}, \"2033\": {\"frequency\": 6, \"value\": 2033}, \"2035\": {\"frequency\": 8, \"value\": 2035}, \"2036\": {\"frequency\": 6, \"value\": 2036}, \"2037\": {\"frequency\": 8, \"value\": 2037}, \"2039\": {\"frequency\": 3, \"value\": 2039}, \"2040\": {\"frequency\": 15, \"value\": 2040}, \"2041\": {\"frequency\": 5, \"value\": 2041}, \"2042\": {\"frequency\": 5, \"value\": 2042}, \"2045\": {\"frequency\": 3, \"value\": 2045}, \"2047\": {\"frequency\": 4, \"value\": 2047}, \"2048\": {\"frequency\": 8, \"value\": 2048}, \"2050\": {\"frequency\": 45, \"value\": 2050}, \"2051\": {\"frequency\": 2, \"value\": 2051}, \"2054\": {\"frequency\": 5, \"value\": 2054}, \"2055\": {\"frequency\": 4, \"value\": 2055}, \"2056\": {\"frequency\": 3, \"value\": 2056}, \"2057\": {\"frequency\": 3, \"value\": 2057}, \"2058\": {\"frequency\": 3, \"value\": 2058}, \"2060\": {\"frequency\": 9, \"value\": 2060}, \"2062\": {\"frequency\": 7, \"value\": 2062}, \"2064\": {\"frequency\": 5, \"value\": 2064}, \"2065\": {\"frequency\": 5, \"value\": 2065}, \"2066\": {\"frequency\": 6, \"value\": 2066}, \"2069\": {\"frequency\": 4, \"value\": 2069}, \"2070\": {\"frequency\": 9, \"value\": 2070}, \"2072\": {\"frequency\": 5, \"value\": 2072}, \"2075\": {\"frequency\": 3, \"value\": 2075}, \"2076\": {\"frequency\": 6, \"value\": 2076}, \"2079\": {\"frequency\": 3, \"value\": 2079}, \"2080\": {\"frequency\": 43, \"value\": 2080}, \"2081\": {\"frequency\": 2, \"value\": 2081}, \"2082\": {\"frequency\": 5, \"value\": 2082}, \"2083\": {\"frequency\": 149, \"value\": 2083}, \"2084\": {\"frequency\": 14, \"value\": 2084}, \"2085\": {\"frequency\": 7, \"value\": 2085}, \"2087\": {\"frequency\": 3, \"value\": 2087}, \"2088\": {\"frequency\": 5, \"value\": 2088}, \"2090\": {\"frequency\": 9, \"value\": 2090}, \"2092\": {\"frequency\": 3, \"value\": 2092}, \"2094\": {\"frequency\": 6, \"value\": 2094}, \"2095\": {\"frequency\": 4, \"value\": 2095}, \"2096\": {\"frequency\": 8, \"value\": 2096}, \"2097\": {\"frequency\": 4, \"value\": 2097}, \"2098\": {\"frequency\": 6, \"value\": 2098}, \"2099\": {\"frequency\": 1, \"value\": 2099}, \"2100\": {\"frequency\": 224, \"value\": 2100}, \"2101\": {\"frequency\": 8, \"value\": 2101}, \"2105\": {\"frequency\": 5, \"value\": 2105}, \"2108\": {\"frequency\": 6, \"value\": 2108}, \"2109\": {\"frequency\": 5, \"value\": 2109}, \"2110\": {\"frequency\": 4, \"value\": 2110}, \"2112\": {\"frequency\": 2, \"value\": 2112}, \"2114\": {\"frequency\": 5, \"value\": 2114}, \"2115\": {\"frequency\": 3, \"value\": 2115}, \"2116\": {\"frequency\": 5, \"value\": 2116}, \"2118\": {\"frequency\": 3, \"value\": 2118}, \"2119\": {\"frequency\": 1, \"value\": 2119}, \"2120\": {\"frequency\": 13, \"value\": 2120}, \"2123\": {\"frequency\": 4, \"value\": 2123}, \"2124\": {\"frequency\": 5, \"value\": 2124}, \"2125\": {\"frequency\": 25, \"value\": 2125}, \"2126\": {\"frequency\": 4, \"value\": 2126}, \"2128\": {\"frequency\": 4, \"value\": 2128}, \"2129\": {\"frequency\": 5, \"value\": 2129}, \"2130\": {\"frequency\": 8, \"value\": 2130}, \"2132\": {\"frequency\": 4, \"value\": 2132}, \"2133\": {\"frequency\": 8, \"value\": 2133}, \"2134\": {\"frequency\": 5, \"value\": 2134}, \"2135\": {\"frequency\": 4, \"value\": 2135}, \"2136\": {\"frequency\": 4, \"value\": 2136}, \"2137\": {\"frequency\": 5, \"value\": 2137}, \"2140\": {\"frequency\": 10, \"value\": 2140}, \"2142\": {\"frequency\": 6, \"value\": 2142}, \"2144\": {\"frequency\": 5, \"value\": 2144}, \"2145\": {\"frequency\": 9, \"value\": 2145}, \"2146\": {\"frequency\": 8, \"value\": 2146}, \"2147\": {\"frequency\": 4, \"value\": 2147}, \"2148\": {\"frequency\": 4, \"value\": 2148}, \"2149\": {\"frequency\": 4, \"value\": 2149}, \"2150\": {\"frequency\": 38, \"value\": 2150}, \"2152\": {\"frequency\": 3, \"value\": 2152}, \"2155\": {\"frequency\": 5, \"value\": 2155}, \"2156\": {\"frequency\": 7, \"value\": 2156}, \"2157\": {\"frequency\": 4, \"value\": 2157}, \"2159\": {\"frequency\": 4, \"value\": 2159}, \"2160\": {\"frequency\": 21, \"value\": 2160}, \"2161\": {\"frequency\": 3, \"value\": 2161}, \"2163\": {\"frequency\": 6, \"value\": 2163}, \"2164\": {\"frequency\": 5, \"value\": 2164}, \"2165\": {\"frequency\": 5, \"value\": 2165}, \"2166\": {\"frequency\": 68, \"value\": 2166}, \"2167\": {\"frequency\": 17, \"value\": 2167}, \"2168\": {\"frequency\": 5, \"value\": 2168}, \"2169\": {\"frequency\": 4, \"value\": 2169}, \"2170\": {\"frequency\": 6, \"value\": 2170}, \"2171\": {\"frequency\": 8, \"value\": 2171}, \"2172\": {\"frequency\": 3, \"value\": 2172}, \"2175\": {\"frequency\": 8, \"value\": 2175}, \"2176\": {\"frequency\": 7, \"value\": 2176}, \"2178\": {\"frequency\": 6, \"value\": 2178}, \"2179\": {\"frequency\": 2, \"value\": 2179}, \"2180\": {\"frequency\": 13, \"value\": 2180}, \"2181\": {\"frequency\": 3, \"value\": 2181}, \"2182\": {\"frequency\": 5, \"value\": 2182}, \"2183\": {\"frequency\": 6, \"value\": 2183}, \"2184\": {\"frequency\": 8, \"value\": 2184}, \"2186\": {\"frequency\": 4, \"value\": 2186}, \"2187\": {\"frequency\": 6, \"value\": 2187}, \"2188\": {\"frequency\": 3, \"value\": 2188}, \"2189\": {\"frequency\": 4, \"value\": 2189}, \"2192\": {\"frequency\": 6, \"value\": 2192}, \"2193\": {\"frequency\": 8, \"value\": 2193}, \"2194\": {\"frequency\": 5, \"value\": 2194}, \"2197\": {\"frequency\": 4, \"value\": 2197}, \"2198\": {\"frequency\": 2, \"value\": 2198}, \"2199\": {\"frequency\": 3, \"value\": 2199}, \"2200\": {\"frequency\": 434, \"value\": 2200}, \"2201\": {\"frequency\": 9, \"value\": 2201}, \"2202\": {\"frequency\": 6, \"value\": 2202}, \"2205\": {\"frequency\": 4, \"value\": 2205}, \"2206\": {\"frequency\": 6, \"value\": 2206}, \"2207\": {\"frequency\": 3, \"value\": 2207}, \"2208\": {\"frequency\": 5, \"value\": 2208}, \"2210\": {\"frequency\": 8, \"value\": 2210}, \"2212\": {\"frequency\": 4, \"value\": 2212}, \"2214\": {\"frequency\": 5, \"value\": 2214}, \"2215\": {\"frequency\": 5, \"value\": 2215}, \"2216\": {\"frequency\": 5, \"value\": 2216}, \"2217\": {\"frequency\": 7, \"value\": 2217}, \"2218\": {\"frequency\": 5, \"value\": 2218}, \"2219\": {\"frequency\": 3, \"value\": 2219}, \"2220\": {\"frequency\": 14, \"value\": 2220}, \"2221\": {\"frequency\": 4, \"value\": 2221}, \"2222\": {\"frequency\": 3, \"value\": 2222}, \"2223\": {\"frequency\": 4, \"value\": 2223}, \"2224\": {\"frequency\": 4, \"value\": 2224}, \"2225\": {\"frequency\": 12, \"value\": 2225}, \"2226\": {\"frequency\": 6, \"value\": 2226}, \"2227\": {\"frequency\": 2, \"value\": 2227}, \"2228\": {\"frequency\": 5, \"value\": 2228}, \"2229\": {\"frequency\": 4, \"value\": 2229}, \"2230\": {\"frequency\": 14, \"value\": 2230}, \"2231\": {\"frequency\": 3, \"value\": 2231}, \"2232\": {\"frequency\": 6, \"value\": 2232}, \"2233\": {\"frequency\": 7, \"value\": 2233}, \"2234\": {\"frequency\": 4, \"value\": 2234}, \"2235\": {\"frequency\": 3, \"value\": 2235}, \"2236\": {\"frequency\": 5, \"value\": 2236}, \"2237\": {\"frequency\": 4, \"value\": 2237}, \"2238\": {\"frequency\": 5, \"value\": 2238}, \"2240\": {\"frequency\": 29, \"value\": 2240}, \"2241\": {\"frequency\": 2, \"value\": 2241}, \"2242\": {\"frequency\": 4, \"value\": 2242}, \"2243\": {\"frequency\": 7, \"value\": 2243}, \"2244\": {\"frequency\": 6, \"value\": 2244}, \"2245\": {\"frequency\": 5, \"value\": 2245}, \"2247\": {\"frequency\": 9, \"value\": 2247}, \"2248\": {\"frequency\": 5, \"value\": 2248}, \"2250\": {\"frequency\": 147, \"value\": 2250}, \"2251\": {\"frequency\": 5, \"value\": 2251}, \"2252\": {\"frequency\": 8, \"value\": 2252}, \"2253\": {\"frequency\": 19, \"value\": 2253}, \"2254\": {\"frequency\": 5, \"value\": 2254}, \"2255\": {\"frequency\": 13, \"value\": 2255}, \"2256\": {\"frequency\": 11, \"value\": 2256}, \"2257\": {\"frequency\": 2, \"value\": 2257}, \"2258\": {\"frequency\": 5, \"value\": 2258}, \"2259\": {\"frequency\": 3, \"value\": 2259}, \"2260\": {\"frequency\": 10, \"value\": 2260}, \"2262\": {\"frequency\": 3, \"value\": 2262}, \"2264\": {\"frequency\": 9, \"value\": 2264}, \"2266\": {\"frequency\": 7, \"value\": 2266}, \"2267\": {\"frequency\": 5, \"value\": 2267}, \"2268\": {\"frequency\": 8, \"value\": 2268}, \"2269\": {\"frequency\": 4, \"value\": 2269}, \"2270\": {\"frequency\": 7, \"value\": 2270}, \"2271\": {\"frequency\": 6, \"value\": 2271}, \"2272\": {\"frequency\": 6, \"value\": 2272}, \"2273\": {\"frequency\": 3, \"value\": 2273}, \"2274\": {\"frequency\": 8, \"value\": 2274}, \"2275\": {\"frequency\": 12, \"value\": 2275}, \"2276\": {\"frequency\": 4, \"value\": 2276}, \"2277\": {\"frequency\": 3, \"value\": 2277}, \"2279\": {\"frequency\": 4, \"value\": 2279}, \"2280\": {\"frequency\": 12, \"value\": 2280}, \"2282\": {\"frequency\": 2, \"value\": 2282}, \"2283\": {\"frequency\": 13, \"value\": 2283}, \"2284\": {\"frequency\": 5, \"value\": 2284}, \"2285\": {\"frequency\": 6, \"value\": 2285}, \"2286\": {\"frequency\": 2, \"value\": 2286}, \"2287\": {\"frequency\": 2, \"value\": 2287}, \"2289\": {\"frequency\": 6, \"value\": 2289}, \"2290\": {\"frequency\": 7, \"value\": 2290}, \"2291\": {\"frequency\": 12, \"value\": 2291}, \"2292\": {\"frequency\": 2, \"value\": 2292}, \"2293\": {\"frequency\": 4, \"value\": 2293}, \"2294\": {\"frequency\": 6, \"value\": 2294}, \"2295\": {\"frequency\": 2, \"value\": 2295}, \"2296\": {\"frequency\": 6, \"value\": 2296}, \"2297\": {\"frequency\": 5, \"value\": 2297}, \"2298\": {\"frequency\": 7, \"value\": 2298}, \"2299\": {\"frequency\": 2, \"value\": 2299}, \"2300\": {\"frequency\": 321, \"value\": 2300}, \"2301\": {\"frequency\": 7, \"value\": 2301}, \"2302\": {\"frequency\": 6, \"value\": 2302}, \"2303\": {\"frequency\": 3, \"value\": 2303}, \"2304\": {\"frequency\": 7, \"value\": 2304}, \"2305\": {\"frequency\": 7, \"value\": 2305}, \"2307\": {\"frequency\": 6, \"value\": 2307}, \"2308\": {\"frequency\": 8, \"value\": 2308}, \"2309\": {\"frequency\": 6, \"value\": 2309}, \"2310\": {\"frequency\": 8, \"value\": 2310}, \"2311\": {\"frequency\": 3, \"value\": 2311}, \"2312\": {\"frequency\": 4, \"value\": 2312}, \"2313\": {\"frequency\": 6, \"value\": 2313}, \"2314\": {\"frequency\": 4, \"value\": 2314}, \"2315\": {\"frequency\": 4, \"value\": 2315}, \"2316\": {\"frequency\": 5, \"value\": 2316}, \"2317\": {\"frequency\": 8, \"value\": 2317}, \"2318\": {\"frequency\": 2, \"value\": 2318}, \"2319\": {\"frequency\": 3, \"value\": 2319}, \"2320\": {\"frequency\": 14, \"value\": 2320}, \"2322\": {\"frequency\": 3, \"value\": 2322}, \"2323\": {\"frequency\": 6, \"value\": 2323}, \"2324\": {\"frequency\": 8, \"value\": 2324}, \"2325\": {\"frequency\": 12, \"value\": 2325}, \"2326\": {\"frequency\": 7, \"value\": 2326}, \"2327\": {\"frequency\": 5, \"value\": 2327}, \"2328\": {\"frequency\": 6, \"value\": 2328}, \"2329\": {\"frequency\": 5, \"value\": 2329}, \"2330\": {\"frequency\": 7, \"value\": 2330}, \"2331\": {\"frequency\": 5, \"value\": 2331}, \"2332\": {\"frequency\": 8, \"value\": 2332}, \"2333\": {\"frequency\": 80, \"value\": 2333}, \"2334\": {\"frequency\": 8, \"value\": 2334}, \"2335\": {\"frequency\": 6, \"value\": 2335}, \"2336\": {\"frequency\": 6, \"value\": 2336}, \"2337\": {\"frequency\": 4, \"value\": 2337}, \"2339\": {\"frequency\": 6, \"value\": 2339}, \"2340\": {\"frequency\": 16, \"value\": 2340}, \"2341\": {\"frequency\": 3, \"value\": 2341}, \"2343\": {\"frequency\": 5, \"value\": 2343}, \"2344\": {\"frequency\": 3, \"value\": 2344}, \"2345\": {\"frequency\": 3, \"value\": 2345}, \"2346\": {\"frequency\": 3, \"value\": 2346}, \"2347\": {\"frequency\": 4, \"value\": 2347}, \"2348\": {\"frequency\": 11, \"value\": 2348}, \"2350\": {\"frequency\": 25, \"value\": 2350}, \"2352\": {\"frequency\": 5, \"value\": 2352}, \"2355\": {\"frequency\": 6, \"value\": 2355}, \"2356\": {\"frequency\": 5, \"value\": 2356}, \"2357\": {\"frequency\": 5, \"value\": 2357}, \"2358\": {\"frequency\": 4, \"value\": 2358}, \"2360\": {\"frequency\": 10, \"value\": 2360}, \"2361\": {\"frequency\": 3, \"value\": 2361}, \"2364\": {\"frequency\": 2, \"value\": 2364}, \"2365\": {\"frequency\": 5, \"value\": 2365}, \"2366\": {\"frequency\": 5, \"value\": 2366}, \"2368\": {\"frequency\": 3, \"value\": 2368}, \"2370\": {\"frequency\": 6, \"value\": 2370}, \"2372\": {\"frequency\": 7, \"value\": 2372}, \"2373\": {\"frequency\": 4, \"value\": 2373}, \"2374\": {\"frequency\": 6, \"value\": 2374}, \"2375\": {\"frequency\": 17, \"value\": 2375}, \"2376\": {\"frequency\": 5, \"value\": 2376}, \"2377\": {\"frequency\": 5, \"value\": 2377}, \"2378\": {\"frequency\": 2, \"value\": 2378}, \"2379\": {\"frequency\": 3, \"value\": 2379}, \"2380\": {\"frequency\": 10, \"value\": 2380}, \"2381\": {\"frequency\": 3, \"value\": 2381}, \"2382\": {\"frequency\": 5, \"value\": 2382}, \"2383\": {\"frequency\": 11, \"value\": 2383}, \"2384\": {\"frequency\": 6, \"value\": 2384}, \"2385\": {\"frequency\": 5, \"value\": 2385}, \"2386\": {\"frequency\": 6, \"value\": 2386}, \"2388\": {\"frequency\": 3, \"value\": 2388}, \"2389\": {\"frequency\": 3, \"value\": 2389}, \"2390\": {\"frequency\": 4, \"value\": 2390}, \"2391\": {\"frequency\": 2, \"value\": 2391}, \"2392\": {\"frequency\": 4, \"value\": 2392}, \"2393\": {\"frequency\": 4, \"value\": 2393}, \"2394\": {\"frequency\": 7, \"value\": 2394}, \"2395\": {\"frequency\": 8, \"value\": 2395}, \"2396\": {\"frequency\": 6, \"value\": 2396}, \"2397\": {\"frequency\": 4, \"value\": 2397}, \"2398\": {\"frequency\": 3, \"value\": 2398}, \"2399\": {\"frequency\": 2, \"value\": 2399}, \"2400\": {\"frequency\": 501, \"value\": 2400}, \"2401\": {\"frequency\": 8, \"value\": 2401}, \"2402\": {\"frequency\": 4, \"value\": 2402}, \"2404\": {\"frequency\": 6, \"value\": 2404}, \"2405\": {\"frequency\": 5, \"value\": 2405}, \"2406\": {\"frequency\": 3, \"value\": 2406}, \"2407\": {\"frequency\": 3, \"value\": 2407}, \"2408\": {\"frequency\": 3, \"value\": 2408}, \"2410\": {\"frequency\": 8, \"value\": 2410}, \"2411\": {\"frequency\": 4, \"value\": 2411}, \"2412\": {\"frequency\": 3, \"value\": 2412}, \"2413\": {\"frequency\": 2, \"value\": 2413}, \"2415\": {\"frequency\": 4, \"value\": 2415}, \"2416\": {\"frequency\": 43, \"value\": 2416}, \"2417\": {\"frequency\": 8, \"value\": 2417}, \"2418\": {\"frequency\": 5, \"value\": 2418}, \"2419\": {\"frequency\": 5, \"value\": 2419}, \"2420\": {\"frequency\": 16, \"value\": 2420}, \"2421\": {\"frequency\": 3, \"value\": 2421}, \"2422\": {\"frequency\": 11, \"value\": 2422}, \"2423\": {\"frequency\": 6, \"value\": 2423}, \"2424\": {\"frequency\": 6, \"value\": 2424}, \"2425\": {\"frequency\": 12, \"value\": 2425}, \"2426\": {\"frequency\": 12, \"value\": 2426}, \"2427\": {\"frequency\": 7, \"value\": 2427}, \"2429\": {\"frequency\": 8, \"value\": 2429}, \"2430\": {\"frequency\": 9, \"value\": 2430}, \"2431\": {\"frequency\": 5, \"value\": 2431}, \"2432\": {\"frequency\": 8, \"value\": 2432}, \"2433\": {\"frequency\": 11, \"value\": 2433}, \"2434\": {\"frequency\": 3, \"value\": 2434}, \"2435\": {\"frequency\": 15, \"value\": 2435}, \"2437\": {\"frequency\": 3, \"value\": 2437}, \"2438\": {\"frequency\": 4, \"value\": 2438}, \"2439\": {\"frequency\": 3, \"value\": 2439}, \"2440\": {\"frequency\": 14, \"value\": 2440}, \"2441\": {\"frequency\": 4, \"value\": 2441}, \"2443\": {\"frequency\": 3, \"value\": 2443}, \"2444\": {\"frequency\": 7, \"value\": 2444}, \"2445\": {\"frequency\": 4, \"value\": 2445}, \"2446\": {\"frequency\": 5, \"value\": 2446}, \"2449\": {\"frequency\": 5, \"value\": 2449}, \"2450\": {\"frequency\": 37, \"value\": 2450}, \"2451\": {\"frequency\": 5, \"value\": 2451}, \"2452\": {\"frequency\": 6, \"value\": 2452}, \"2453\": {\"frequency\": 3, \"value\": 2453}, \"2454\": {\"frequency\": 2, \"value\": 2454}, \"2455\": {\"frequency\": 8, \"value\": 2455}, \"2458\": {\"frequency\": 5, \"value\": 2458}, \"2460\": {\"frequency\": 12, \"value\": 2460}, \"2461\": {\"frequency\": 7, \"value\": 2461}, \"2462\": {\"frequency\": 3, \"value\": 2462}, \"2463\": {\"frequency\": 6, \"value\": 2463}, \"2464\": {\"frequency\": 4, \"value\": 2464}, \"2466\": {\"frequency\": 3, \"value\": 2466}, \"2468\": {\"frequency\": 5, \"value\": 2468}, \"2469\": {\"frequency\": 6, \"value\": 2469}, \"2470\": {\"frequency\": 8, \"value\": 2470}, \"2471\": {\"frequency\": 3, \"value\": 2471}, \"2472\": {\"frequency\": 3, \"value\": 2472}, \"2474\": {\"frequency\": 6, \"value\": 2474}, \"2475\": {\"frequency\": 5, \"value\": 2475}, \"2476\": {\"frequency\": 2, \"value\": 2476}, \"2477\": {\"frequency\": 3, \"value\": 2477}, \"2478\": {\"frequency\": 8, \"value\": 2478}, \"2479\": {\"frequency\": 4, \"value\": 2479}, \"2480\": {\"frequency\": 22, \"value\": 2480}, \"2481\": {\"frequency\": 6, \"value\": 2481}, \"2483\": {\"frequency\": 6, \"value\": 2483}, \"2484\": {\"frequency\": 6, \"value\": 2484}, \"2485\": {\"frequency\": 7, \"value\": 2485}, \"2488\": {\"frequency\": 3, \"value\": 2488}, \"2490\": {\"frequency\": 5, \"value\": 2490}, \"2492\": {\"frequency\": 3, \"value\": 2492}, \"2493\": {\"frequency\": 6, \"value\": 2493}, \"2494\": {\"frequency\": 6, \"value\": 2494}, \"2495\": {\"frequency\": 4, \"value\": 2495}, \"2496\": {\"frequency\": 7, \"value\": 2496}, \"2497\": {\"frequency\": 6, \"value\": 2497}, \"2498\": {\"frequency\": 7, \"value\": 2498}, \"2499\": {\"frequency\": 7, \"value\": 2499}, \"2500\": {\"frequency\": 1551, \"value\": 2500}, \"2501\": {\"frequency\": 20, \"value\": 2501}, \"2503\": {\"frequency\": 6, \"value\": 2503}, \"2504\": {\"frequency\": 4, \"value\": 2504}, \"2505\": {\"frequency\": 14, \"value\": 2505}, \"2506\": {\"frequency\": 8, \"value\": 2506}, \"2507\": {\"frequency\": 3, \"value\": 2507}, \"2508\": {\"frequency\": 4, \"value\": 2508}, \"2510\": {\"frequency\": 5, \"value\": 2510}, \"2511\": {\"frequency\": 4, \"value\": 2511}, \"2512\": {\"frequency\": 6, \"value\": 2512}, \"2513\": {\"frequency\": 5, \"value\": 2513}, \"2514\": {\"frequency\": 3, \"value\": 2514}, \"2515\": {\"frequency\": 5, \"value\": 2515}, \"2516\": {\"frequency\": 4, \"value\": 2516}, \"2517\": {\"frequency\": 4, \"value\": 2517}, \"2519\": {\"frequency\": 2, \"value\": 2519}, \"2520\": {\"frequency\": 12, \"value\": 2520}, \"2522\": {\"frequency\": 3, \"value\": 2522}, \"2524\": {\"frequency\": 4, \"value\": 2524}, \"2525\": {\"frequency\": 10, \"value\": 2525}, \"2527\": {\"frequency\": 5, \"value\": 2527}, \"2528\": {\"frequency\": 3, \"value\": 2528}, \"2530\": {\"frequency\": 11, \"value\": 2530}, \"2531\": {\"frequency\": 3, \"value\": 2531}, \"2532\": {\"frequency\": 2, \"value\": 2532}, \"2533\": {\"frequency\": 11, \"value\": 2533}, \"2534\": {\"frequency\": 11, \"value\": 2534}, \"2535\": {\"frequency\": 3, \"value\": 2535}, \"2536\": {\"frequency\": 6, \"value\": 2536}, \"2537\": {\"frequency\": 5, \"value\": 2537}, \"2538\": {\"frequency\": 5, \"value\": 2538}, \"2539\": {\"frequency\": 7, \"value\": 2539}, \"2540\": {\"frequency\": 10, \"value\": 2540}, \"2541\": {\"frequency\": 11, \"value\": 2541}, \"2542\": {\"frequency\": 7, \"value\": 2542}, \"2543\": {\"frequency\": 7, \"value\": 2543}, \"2544\": {\"frequency\": 9, \"value\": 2544}, \"2545\": {\"frequency\": 8, \"value\": 2545}, \"2546\": {\"frequency\": 3, \"value\": 2546}, \"2547\": {\"frequency\": 3, \"value\": 2547}, \"2548\": {\"frequency\": 4, \"value\": 2548}, \"2549\": {\"frequency\": 5, \"value\": 2549}, \"2550\": {\"frequency\": 36, \"value\": 2550}, \"2552\": {\"frequency\": 5, \"value\": 2552}, \"2553\": {\"frequency\": 3, \"value\": 2553}, \"2554\": {\"frequency\": 3, \"value\": 2554}, \"2555\": {\"frequency\": 9, \"value\": 2555}, \"2556\": {\"frequency\": 10, \"value\": 2556}, \"2557\": {\"frequency\": 40, \"value\": 2557}, \"2558\": {\"frequency\": 9, \"value\": 2558}, \"2559\": {\"frequency\": 6, \"value\": 2559}, \"2560\": {\"frequency\": 25, \"value\": 2560}, \"2562\": {\"frequency\": 4, \"value\": 2562}, \"2563\": {\"frequency\": 3, \"value\": 2563}, \"2564\": {\"frequency\": 5, \"value\": 2564}, \"2565\": {\"frequency\": 7, \"value\": 2565}, \"2566\": {\"frequency\": 5, \"value\": 2566}, \"2568\": {\"frequency\": 4, \"value\": 2568}, \"2569\": {\"frequency\": 5, \"value\": 2569}, \"2570\": {\"frequency\": 13, \"value\": 2570}, \"2571\": {\"frequency\": 6, \"value\": 2571}, \"2573\": {\"frequency\": 5, \"value\": 2573}, \"2574\": {\"frequency\": 4, \"value\": 2574}, \"2575\": {\"frequency\": 9, \"value\": 2575}, \"2576\": {\"frequency\": 4, \"value\": 2576}, \"2577\": {\"frequency\": 4, \"value\": 2577}, \"2578\": {\"frequency\": 4, \"value\": 2578}, \"2579\": {\"frequency\": 5, \"value\": 2579}, \"2580\": {\"frequency\": 14, \"value\": 2580}, \"2582\": {\"frequency\": 5, \"value\": 2582}, \"2583\": {\"frequency\": 46, \"value\": 2583}, \"2584\": {\"frequency\": 7, \"value\": 2584}, \"2585\": {\"frequency\": 8, \"value\": 2585}, \"2586\": {\"frequency\": 4, \"value\": 2586}, \"2587\": {\"frequency\": 4, \"value\": 2587}, \"2589\": {\"frequency\": 6, \"value\": 2589}, \"2590\": {\"frequency\": 14, \"value\": 2590}, \"2591\": {\"frequency\": 5, \"value\": 2591}, \"2592\": {\"frequency\": 5, \"value\": 2592}, \"2593\": {\"frequency\": 5, \"value\": 2593}, \"2596\": {\"frequency\": 6, \"value\": 2596}, \"2598\": {\"frequency\": 3, \"value\": 2598}, \"2600\": {\"frequency\": 454, \"value\": 2600}, \"2601\": {\"frequency\": 10, \"value\": 2601}, \"2603\": {\"frequency\": 6, \"value\": 2603}, \"2605\": {\"frequency\": 4, \"value\": 2605}, \"2606\": {\"frequency\": 5, \"value\": 2606}, \"2607\": {\"frequency\": 8, \"value\": 2607}, \"2608\": {\"frequency\": 13, \"value\": 2608}, \"2609\": {\"frequency\": 2, \"value\": 2609}, \"2610\": {\"frequency\": 10, \"value\": 2610}, \"2612\": {\"frequency\": 4, \"value\": 2612}, \"2613\": {\"frequency\": 2, \"value\": 2613}, \"2614\": {\"frequency\": 4, \"value\": 2614}, \"2615\": {\"frequency\": 10, \"value\": 2615}, \"2616\": {\"frequency\": 6, \"value\": 2616}, \"2617\": {\"frequency\": 4, \"value\": 2617}, \"2619\": {\"frequency\": 5, \"value\": 2619}, \"2620\": {\"frequency\": 15, \"value\": 2620}, \"2621\": {\"frequency\": 5, \"value\": 2621}, \"2622\": {\"frequency\": 5, \"value\": 2622}, \"2623\": {\"frequency\": 5, \"value\": 2623}, \"2624\": {\"frequency\": 7, \"value\": 2624}, \"2625\": {\"frequency\": 18, \"value\": 2625}, \"2626\": {\"frequency\": 10, \"value\": 2626}, \"2627\": {\"frequency\": 2, \"value\": 2627}, \"2628\": {\"frequency\": 8, \"value\": 2628}, \"2630\": {\"frequency\": 6, \"value\": 2630}, \"2631\": {\"frequency\": 3, \"value\": 2631}, \"2632\": {\"frequency\": 2, \"value\": 2632}, \"2633\": {\"frequency\": 8, \"value\": 2633}, \"2634\": {\"frequency\": 4, \"value\": 2634}, \"2635\": {\"frequency\": 3, \"value\": 2635}, \"2636\": {\"frequency\": 6, \"value\": 2636}, \"2637\": {\"frequency\": 2, \"value\": 2637}, \"2638\": {\"frequency\": 3, \"value\": 2638}, \"2640\": {\"frequency\": 17, \"value\": 2640}, \"2641\": {\"frequency\": 5, \"value\": 2641}, \"2642\": {\"frequency\": 2, \"value\": 2642}, \"2644\": {\"frequency\": 6, \"value\": 2644}, \"2646\": {\"frequency\": 9, \"value\": 2646}, \"2647\": {\"frequency\": 3, \"value\": 2647}, \"2648\": {\"frequency\": 5, \"value\": 2648}, \"2650\": {\"frequency\": 45, \"value\": 2650}, \"2651\": {\"frequency\": 6, \"value\": 2651}, \"2652\": {\"frequency\": 7, \"value\": 2652}, \"2654\": {\"frequency\": 4, \"value\": 2654}, \"2655\": {\"frequency\": 8, \"value\": 2655}, \"2656\": {\"frequency\": 5, \"value\": 2656}, \"2658\": {\"frequency\": 6, \"value\": 2658}, \"2659\": {\"frequency\": 3, \"value\": 2659}, \"2660\": {\"frequency\": 19, \"value\": 2660}, \"2661\": {\"frequency\": 4, \"value\": 2661}, \"2664\": {\"frequency\": 5, \"value\": 2664}, \"2665\": {\"frequency\": 6, \"value\": 2665}, \"2666\": {\"frequency\": 112, \"value\": 2666}, \"2667\": {\"frequency\": 32, \"value\": 2667}, \"2668\": {\"frequency\": 8, \"value\": 2668}, \"2669\": {\"frequency\": 3, \"value\": 2669}, \"2670\": {\"frequency\": 16, \"value\": 2670}, \"2671\": {\"frequency\": 4, \"value\": 2671}, \"2672\": {\"frequency\": 10, \"value\": 2672}, \"2673\": {\"frequency\": 7, \"value\": 2673}, \"2674\": {\"frequency\": 4, \"value\": 2674}, \"2675\": {\"frequency\": 10, \"value\": 2675}, \"2676\": {\"frequency\": 7, \"value\": 2676}, \"2677\": {\"frequency\": 6, \"value\": 2677}, \"2678\": {\"frequency\": 8, \"value\": 2678}, \"2679\": {\"frequency\": 7, \"value\": 2679}, \"2680\": {\"frequency\": 14, \"value\": 2680}, \"2683\": {\"frequency\": 11, \"value\": 2683}, \"2684\": {\"frequency\": 6, \"value\": 2684}, \"2685\": {\"frequency\": 8, \"value\": 2685}, \"2687\": {\"frequency\": 10, \"value\": 2687}, \"2688\": {\"frequency\": 7, \"value\": 2688}, \"2689\": {\"frequency\": 1, \"value\": 2689}, \"2690\": {\"frequency\": 10, \"value\": 2690}, \"2692\": {\"frequency\": 6, \"value\": 2692}, \"2694\": {\"frequency\": 6, \"value\": 2694}, \"2695\": {\"frequency\": 4, \"value\": 2695}, \"2696\": {\"frequency\": 4, \"value\": 2696}, \"2699\": {\"frequency\": 3, \"value\": 2699}, \"2700\": {\"frequency\": 334, \"value\": 2700}, \"2701\": {\"frequency\": 10, \"value\": 2701}, \"2702\": {\"frequency\": 6, \"value\": 2702}, \"2704\": {\"frequency\": 7, \"value\": 2704}, \"2705\": {\"frequency\": 10, \"value\": 2705}, \"2706\": {\"frequency\": 5, \"value\": 2706}, \"2707\": {\"frequency\": 3, \"value\": 2707}, \"2708\": {\"frequency\": 19, \"value\": 2708}, \"2709\": {\"frequency\": 5, \"value\": 2709}, \"2710\": {\"frequency\": 9, \"value\": 2710}, \"2711\": {\"frequency\": 4, \"value\": 2711}, \"2712\": {\"frequency\": 9, \"value\": 2712}, \"2713\": {\"frequency\": 4, \"value\": 2713}, \"2714\": {\"frequency\": 6, \"value\": 2714}, \"2715\": {\"frequency\": 7, \"value\": 2715}, \"2716\": {\"frequency\": 6, \"value\": 2716}, \"2717\": {\"frequency\": 5, \"value\": 2717}, \"2718\": {\"frequency\": 5, \"value\": 2718}, \"2719\": {\"frequency\": 6, \"value\": 2719}, \"2720\": {\"frequency\": 22, \"value\": 2720}, \"2725\": {\"frequency\": 14, \"value\": 2725}, \"2726\": {\"frequency\": 3, \"value\": 2726}, \"2727\": {\"frequency\": 4, \"value\": 2727}, \"2728\": {\"frequency\": 5, \"value\": 2728}, \"2729\": {\"frequency\": 3, \"value\": 2729}, \"2730\": {\"frequency\": 9, \"value\": 2730}, \"2732\": {\"frequency\": 6, \"value\": 2732}, \"2733\": {\"frequency\": 8, \"value\": 2733}, \"2734\": {\"frequency\": 5, \"value\": 2734}, \"2735\": {\"frequency\": 10, \"value\": 2735}, \"2736\": {\"frequency\": 5, \"value\": 2736}, \"2737\": {\"frequency\": 2, \"value\": 2737}, \"2739\": {\"frequency\": 6, \"value\": 2739}, \"2740\": {\"frequency\": 9, \"value\": 2740}, \"2741\": {\"frequency\": 12, \"value\": 2741}, \"2742\": {\"frequency\": 5, \"value\": 2742}, \"2743\": {\"frequency\": 2, \"value\": 2743}, \"2745\": {\"frequency\": 18, \"value\": 2745}, \"2746\": {\"frequency\": 6, \"value\": 2746}, \"2747\": {\"frequency\": 3, \"value\": 2747}, \"2748\": {\"frequency\": 5, \"value\": 2748}, \"2749\": {\"frequency\": 4, \"value\": 2749}, \"2750\": {\"frequency\": 148, \"value\": 2750}, \"2751\": {\"frequency\": 4, \"value\": 2751}, \"2752\": {\"frequency\": 7, \"value\": 2752}, \"2753\": {\"frequency\": 3, \"value\": 2753}, \"2755\": {\"frequency\": 2, \"value\": 2755}, \"2756\": {\"frequency\": 7, \"value\": 2756}, \"2757\": {\"frequency\": 2, \"value\": 2757}, \"2758\": {\"frequency\": 8, \"value\": 2758}, \"2759\": {\"frequency\": 3, \"value\": 2759}, \"2760\": {\"frequency\": 12, \"value\": 2760}, \"2761\": {\"frequency\": 6, \"value\": 2761}, \"2762\": {\"frequency\": 5, \"value\": 2762}, \"2763\": {\"frequency\": 7, \"value\": 2763}, \"2764\": {\"frequency\": 2, \"value\": 2764}, \"2766\": {\"frequency\": 11, \"value\": 2766}, \"2767\": {\"frequency\": 4, \"value\": 2767}, \"2768\": {\"frequency\": 9, \"value\": 2768}, \"2769\": {\"frequency\": 18, \"value\": 2769}, \"2770\": {\"frequency\": 9, \"value\": 2770}, \"2771\": {\"frequency\": 6, \"value\": 2771}, \"2772\": {\"frequency\": 6, \"value\": 2772}, \"2773\": {\"frequency\": 10, \"value\": 2773}, \"2774\": {\"frequency\": 3, \"value\": 2774}, \"2775\": {\"frequency\": 8, \"value\": 2775}, \"2776\": {\"frequency\": 5, \"value\": 2776}, \"2777\": {\"frequency\": 4, \"value\": 2777}, \"2778\": {\"frequency\": 2, \"value\": 2778}, \"2779\": {\"frequency\": 8, \"value\": 2779}, \"2780\": {\"frequency\": 15, \"value\": 2780}, \"2781\": {\"frequency\": 7, \"value\": 2781}, \"2782\": {\"frequency\": 6, \"value\": 2782}, \"2783\": {\"frequency\": 6, \"value\": 2783}, \"2784\": {\"frequency\": 10, \"value\": 2784}, \"2785\": {\"frequency\": 6, \"value\": 2785}, \"2787\": {\"frequency\": 4, \"value\": 2787}, \"2789\": {\"frequency\": 4, \"value\": 2789}, \"2790\": {\"frequency\": 9, \"value\": 2790}, \"2791\": {\"frequency\": 5, \"value\": 2791}, \"2794\": {\"frequency\": 5, \"value\": 2794}, \"2795\": {\"frequency\": 9, \"value\": 2795}, \"2796\": {\"frequency\": 4, \"value\": 2796}, \"2798\": {\"frequency\": 4, \"value\": 2798}, \"2800\": {\"frequency\": 493, \"value\": 2800}, \"2801\": {\"frequency\": 7, \"value\": 2801}, \"2802\": {\"frequency\": 5, \"value\": 2802}, \"2803\": {\"frequency\": 4, \"value\": 2803}, \"2804\": {\"frequency\": 6, \"value\": 2804}, \"2805\": {\"frequency\": 8, \"value\": 2805}, \"2806\": {\"frequency\": 9, \"value\": 2806}, \"2807\": {\"frequency\": 3, \"value\": 2807}, \"2808\": {\"frequency\": 6, \"value\": 2808}, \"2809\": {\"frequency\": 3, \"value\": 2809}, \"2810\": {\"frequency\": 7, \"value\": 2810}, \"2811\": {\"frequency\": 3, \"value\": 2811}, \"2812\": {\"frequency\": 9, \"value\": 2812}, \"2814\": {\"frequency\": 2, \"value\": 2814}, \"2815\": {\"frequency\": 2, \"value\": 2815}, \"2816\": {\"frequency\": 11, \"value\": 2816}, \"2817\": {\"frequency\": 6, \"value\": 2817}, \"2819\": {\"frequency\": 3, \"value\": 2819}, \"2820\": {\"frequency\": 8, \"value\": 2820}, \"2823\": {\"frequency\": 4, \"value\": 2823}, \"2824\": {\"frequency\": 9, \"value\": 2824}, \"2825\": {\"frequency\": 8, \"value\": 2825}, \"2826\": {\"frequency\": 5, \"value\": 2826}, \"2827\": {\"frequency\": 2, \"value\": 2827}, \"2829\": {\"frequency\": 4, \"value\": 2829}, \"2830\": {\"frequency\": 8, \"value\": 2830}, \"2831\": {\"frequency\": 2, \"value\": 2831}, \"2832\": {\"frequency\": 2, \"value\": 2832}, \"2833\": {\"frequency\": 101, \"value\": 2833}, \"2834\": {\"frequency\": 10, \"value\": 2834}, \"2835\": {\"frequency\": 7, \"value\": 2835}, \"2836\": {\"frequency\": 4, \"value\": 2836}, \"2837\": {\"frequency\": 6, \"value\": 2837}, \"2838\": {\"frequency\": 5, \"value\": 2838}, \"2840\": {\"frequency\": 16, \"value\": 2840}, \"2841\": {\"frequency\": 5, \"value\": 2841}, \"2842\": {\"frequency\": 6, \"value\": 2842}, \"2843\": {\"frequency\": 3, \"value\": 2843}, \"2844\": {\"frequency\": 3, \"value\": 2844}, \"2845\": {\"frequency\": 11, \"value\": 2845}, \"2846\": {\"frequency\": 8, \"value\": 2846}, \"2847\": {\"frequency\": 3, \"value\": 2847}, \"2848\": {\"frequency\": 3, \"value\": 2848}, \"2849\": {\"frequency\": 6, \"value\": 2849}, \"2850\": {\"frequency\": 50, \"value\": 2850}, \"2851\": {\"frequency\": 6, \"value\": 2851}, \"2852\": {\"frequency\": 4, \"value\": 2852}, \"2853\": {\"frequency\": 6, \"value\": 2853}, \"2856\": {\"frequency\": 5, \"value\": 2856}, \"2857\": {\"frequency\": 4, \"value\": 2857}, \"2858\": {\"frequency\": 7, \"value\": 2858}, \"2859\": {\"frequency\": 4, \"value\": 2859}, \"2860\": {\"frequency\": 20, \"value\": 2860}, \"2863\": {\"frequency\": 4, \"value\": 2863}, \"2864\": {\"frequency\": 10, \"value\": 2864}, \"2865\": {\"frequency\": 3, \"value\": 2865}, \"2866\": {\"frequency\": 8, \"value\": 2866}, \"2869\": {\"frequency\": 6, \"value\": 2869}, \"2870\": {\"frequency\": 8, \"value\": 2870}, \"2871\": {\"frequency\": 7, \"value\": 2871}, \"2873\": {\"frequency\": 8, \"value\": 2873}, \"2874\": {\"frequency\": 5, \"value\": 2874}, \"2875\": {\"frequency\": 30, \"value\": 2875}, \"2877\": {\"frequency\": 4, \"value\": 2877}, \"2878\": {\"frequency\": 3, \"value\": 2878}, \"2879\": {\"frequency\": 5, \"value\": 2879}, \"2880\": {\"frequency\": 37, \"value\": 2880}, \"2881\": {\"frequency\": 5, \"value\": 2881}, \"2882\": {\"frequency\": 5, \"value\": 2882}, \"2883\": {\"frequency\": 11, \"value\": 2883}, \"2884\": {\"frequency\": 6, \"value\": 2884}, \"2885\": {\"frequency\": 6, \"value\": 2885}, \"2888\": {\"frequency\": 3, \"value\": 2888}, \"2889\": {\"frequency\": 5, \"value\": 2889}, \"2890\": {\"frequency\": 9, \"value\": 2890}, \"2891\": {\"frequency\": 3, \"value\": 2891}, \"2892\": {\"frequency\": 3, \"value\": 2892}, \"2894\": {\"frequency\": 6, \"value\": 2894}, \"2895\": {\"frequency\": 7, \"value\": 2895}, \"2896\": {\"frequency\": 2, \"value\": 2896}, \"2897\": {\"frequency\": 3, \"value\": 2897}, \"2898\": {\"frequency\": 2, \"value\": 2898}, \"2899\": {\"frequency\": 4, \"value\": 2899}, \"2900\": {\"frequency\": 276, \"value\": 2900}, \"2901\": {\"frequency\": 6, \"value\": 2901}, \"2902\": {\"frequency\": 5, \"value\": 2902}, \"2903\": {\"frequency\": 4, \"value\": 2903}, \"2904\": {\"frequency\": 4, \"value\": 2904}, \"2905\": {\"frequency\": 9, \"value\": 2905}, \"2906\": {\"frequency\": 3, \"value\": 2906}, \"2907\": {\"frequency\": 5, \"value\": 2907}, \"2908\": {\"frequency\": 7, \"value\": 2908}, \"2909\": {\"frequency\": 4, \"value\": 2909}, \"2910\": {\"frequency\": 7, \"value\": 2910}, \"2912\": {\"frequency\": 4, \"value\": 2912}, \"2913\": {\"frequency\": 5, \"value\": 2913}, \"2914\": {\"frequency\": 7, \"value\": 2914}, \"2915\": {\"frequency\": 4, \"value\": 2915}, \"2916\": {\"frequency\": 222, \"value\": 2916}, \"2917\": {\"frequency\": 39, \"value\": 2917}, \"2918\": {\"frequency\": 3, \"value\": 2918}, \"2919\": {\"frequency\": 5, \"value\": 2919}, \"2920\": {\"frequency\": 10, \"value\": 2920}, \"2921\": {\"frequency\": 4, \"value\": 2921}, \"2922\": {\"frequency\": 7, \"value\": 2922}, \"2923\": {\"frequency\": 8, \"value\": 2923}, \"2924\": {\"frequency\": 7, \"value\": 2924}, \"2925\": {\"frequency\": 10, \"value\": 2925}, \"2926\": {\"frequency\": 4, \"value\": 2926}, \"2927\": {\"frequency\": 5, \"value\": 2927}, \"2928\": {\"frequency\": 6, \"value\": 2928}, \"2929\": {\"frequency\": 2, \"value\": 2929}, \"2930\": {\"frequency\": 9, \"value\": 2930}, \"2932\": {\"frequency\": 8, \"value\": 2932}, \"2933\": {\"frequency\": 11, \"value\": 2933}, \"2934\": {\"frequency\": 3, \"value\": 2934}, \"2935\": {\"frequency\": 4, \"value\": 2935}, \"2937\": {\"frequency\": 5, \"value\": 2937}, \"2939\": {\"frequency\": 5, \"value\": 2939}, \"2940\": {\"frequency\": 12, \"value\": 2940}, \"2941\": {\"frequency\": 4, \"value\": 2941}, \"2942\": {\"frequency\": 6, \"value\": 2942}, \"2943\": {\"frequency\": 3, \"value\": 2943}, \"2944\": {\"frequency\": 10, \"value\": 2944}, \"2945\": {\"frequency\": 5, \"value\": 2945}, \"2946\": {\"frequency\": 7, \"value\": 2946}, \"2948\": {\"frequency\": 2, \"value\": 2948}, \"2950\": {\"frequency\": 53, \"value\": 2950}, \"2951\": {\"frequency\": 4, \"value\": 2951}, \"2952\": {\"frequency\": 4, \"value\": 2952}, \"2953\": {\"frequency\": 5, \"value\": 2953}, \"2955\": {\"frequency\": 3, \"value\": 2955}, \"2956\": {\"frequency\": 6, \"value\": 2956}, \"2958\": {\"frequency\": 7, \"value\": 2958}, \"2959\": {\"frequency\": 4, \"value\": 2959}, \"2960\": {\"frequency\": 16, \"value\": 2960}, \"2961\": {\"frequency\": 7, \"value\": 2961}, \"2962\": {\"frequency\": 3, \"value\": 2962}, \"2963\": {\"frequency\": 9, \"value\": 2963}, \"2964\": {\"frequency\": 5, \"value\": 2964}, \"2965\": {\"frequency\": 3, \"value\": 2965}, \"2966\": {\"frequency\": 11, \"value\": 2966}, \"2967\": {\"frequency\": 4, \"value\": 2967}, \"2968\": {\"frequency\": 4, \"value\": 2968}, \"2969\": {\"frequency\": 4, \"value\": 2969}, \"2970\": {\"frequency\": 6, \"value\": 2970}, \"2971\": {\"frequency\": 5, \"value\": 2971}, \"2972\": {\"frequency\": 11, \"value\": 2972}, \"2974\": {\"frequency\": 5, \"value\": 2974}, \"2975\": {\"frequency\": 18, \"value\": 2975}, \"2976\": {\"frequency\": 5, \"value\": 2976}, \"2977\": {\"frequency\": 3, \"value\": 2977}, \"2978\": {\"frequency\": 5, \"value\": 2978}, \"2979\": {\"frequency\": 6, \"value\": 2979}, \"2980\": {\"frequency\": 5, \"value\": 2980}, \"2981\": {\"frequency\": 5, \"value\": 2981}, \"2982\": {\"frequency\": 4, \"value\": 2982}, \"2983\": {\"frequency\": 12, \"value\": 2983}, \"2984\": {\"frequency\": 5, \"value\": 2984}, \"2985\": {\"frequency\": 4, \"value\": 2985}, \"2986\": {\"frequency\": 6, \"value\": 2986}, \"2987\": {\"frequency\": 4, \"value\": 2987}, \"2988\": {\"frequency\": 7, \"value\": 2988}, \"2989\": {\"frequency\": 6, \"value\": 2989}, \"2990\": {\"frequency\": 8, \"value\": 2990}, \"2991\": {\"frequency\": 7, \"value\": 2991}, \"2992\": {\"frequency\": 10, \"value\": 2992}, \"2993\": {\"frequency\": 2, \"value\": 2993}, \"2995\": {\"frequency\": 7, \"value\": 2995}, \"2996\": {\"frequency\": 4, \"value\": 2996}, \"2997\": {\"frequency\": 5, \"value\": 2997}, \"2999\": {\"frequency\": 2, \"value\": 2999}, \"3000\": {\"frequency\": 1758, \"value\": 3000}, \"3001\": {\"frequency\": 26, \"value\": 3001}, \"3002\": {\"frequency\": 5, \"value\": 3002}, \"3003\": {\"frequency\": 3, \"value\": 3003}, \"3004\": {\"frequency\": 6, \"value\": 3004}, \"3005\": {\"frequency\": 4, \"value\": 3005}, \"3006\": {\"frequency\": 7, \"value\": 3006}, \"3007\": {\"frequency\": 5, \"value\": 3007}, \"3008\": {\"frequency\": 4, \"value\": 3008}, \"3009\": {\"frequency\": 5, \"value\": 3009}, \"3010\": {\"frequency\": 6, \"value\": 3010}, \"3011\": {\"frequency\": 6, \"value\": 3011}, \"3012\": {\"frequency\": 9, \"value\": 3012}, \"3014\": {\"frequency\": 4, \"value\": 3014}, \"3015\": {\"frequency\": 8, \"value\": 3015}, \"3016\": {\"frequency\": 10, \"value\": 3016}, \"3017\": {\"frequency\": 9, \"value\": 3017}, \"3019\": {\"frequency\": 2, \"value\": 3019}, \"3020\": {\"frequency\": 15, \"value\": 3020}, \"3021\": {\"frequency\": 6, \"value\": 3021}, \"3022\": {\"frequency\": 4, \"value\": 3022}, \"3023\": {\"frequency\": 3, \"value\": 3023}, \"3024\": {\"frequency\": 8, \"value\": 3024}, \"3025\": {\"frequency\": 12, \"value\": 3025}, \"3026\": {\"frequency\": 3, \"value\": 3026}, \"3028\": {\"frequency\": 8, \"value\": 3028}, \"3029\": {\"frequency\": 9, \"value\": 3029}, \"3030\": {\"frequency\": 12, \"value\": 3030}, \"3032\": {\"frequency\": 7, \"value\": 3032}, \"3033\": {\"frequency\": 9, \"value\": 3033}, \"3034\": {\"frequency\": 3, \"value\": 3034}, \"3035\": {\"frequency\": 3, \"value\": 3035}, \"3036\": {\"frequency\": 6, \"value\": 3036}, \"3039\": {\"frequency\": 2, \"value\": 3039}, \"3040\": {\"frequency\": 26, \"value\": 3040}, \"3041\": {\"frequency\": 16, \"value\": 3041}, \"3042\": {\"frequency\": 10, \"value\": 3042}, \"3044\": {\"frequency\": 7, \"value\": 3044}, \"3045\": {\"frequency\": 4, \"value\": 3045}, \"3046\": {\"frequency\": 4, \"value\": 3046}, \"3047\": {\"frequency\": 3, \"value\": 3047}, \"3048\": {\"frequency\": 8, \"value\": 3048}, \"3049\": {\"frequency\": 5, \"value\": 3049}, \"3050\": {\"frequency\": 57, \"value\": 3050}, \"3051\": {\"frequency\": 4, \"value\": 3051}, \"3052\": {\"frequency\": 5, \"value\": 3052}, \"3053\": {\"frequency\": 10, \"value\": 3053}, \"3054\": {\"frequency\": 3, \"value\": 3054}, \"3055\": {\"frequency\": 8, \"value\": 3055}, \"3056\": {\"frequency\": 7, \"value\": 3056}, \"3058\": {\"frequency\": 10, \"value\": 3058}, \"3059\": {\"frequency\": 4, \"value\": 3059}, \"3060\": {\"frequency\": 15, \"value\": 3060}, \"3061\": {\"frequency\": 3, \"value\": 3061}, \"3062\": {\"frequency\": 4, \"value\": 3062}, \"3064\": {\"frequency\": 6, \"value\": 3064}, \"3065\": {\"frequency\": 9, \"value\": 3065}, \"3066\": {\"frequency\": 8, \"value\": 3066}, \"3068\": {\"frequency\": 7, \"value\": 3068}, \"3069\": {\"frequency\": 3, \"value\": 3069}, \"3070\": {\"frequency\": 13, \"value\": 3070}, \"3071\": {\"frequency\": 5, \"value\": 3071}, \"3072\": {\"frequency\": 6, \"value\": 3072}, \"3073\": {\"frequency\": 5, \"value\": 3073}, \"3074\": {\"frequency\": 5, \"value\": 3074}, \"3075\": {\"frequency\": 12, \"value\": 3075}, \"3076\": {\"frequency\": 16, \"value\": 3076}, \"3077\": {\"frequency\": 5, \"value\": 3077}, \"3078\": {\"frequency\": 3, \"value\": 3078}, \"3079\": {\"frequency\": 5, \"value\": 3079}, \"3080\": {\"frequency\": 15, \"value\": 3080}, \"3081\": {\"frequency\": 4, \"value\": 3081}, \"3082\": {\"frequency\": 4, \"value\": 3082}, \"3083\": {\"frequency\": 96, \"value\": 3083}, \"3084\": {\"frequency\": 7, \"value\": 3084}, \"3085\": {\"frequency\": 9, \"value\": 3085}, \"3087\": {\"frequency\": 3, \"value\": 3087}, \"3088\": {\"frequency\": 6, \"value\": 3088}, \"3089\": {\"frequency\": 5, \"value\": 3089}, \"3090\": {\"frequency\": 8, \"value\": 3090}, \"3091\": {\"frequency\": 5, \"value\": 3091}, \"3092\": {\"frequency\": 9, \"value\": 3092}, \"3093\": {\"frequency\": 4, \"value\": 3093}, \"3094\": {\"frequency\": 7, \"value\": 3094}, \"3095\": {\"frequency\": 2, \"value\": 3095}, \"3097\": {\"frequency\": 8, \"value\": 3097}, \"3098\": {\"frequency\": 7, \"value\": 3098}, \"3099\": {\"frequency\": 5, \"value\": 3099}, \"3100\": {\"frequency\": 302, \"value\": 3100}, \"3101\": {\"frequency\": 5, \"value\": 3101}, \"3103\": {\"frequency\": 3, \"value\": 3103}, \"3104\": {\"frequency\": 6, \"value\": 3104}, \"3105\": {\"frequency\": 4, \"value\": 3105}, \"3106\": {\"frequency\": 2, \"value\": 3106}, \"3107\": {\"frequency\": 4, \"value\": 3107}, \"3108\": {\"frequency\": 9, \"value\": 3108}, \"3109\": {\"frequency\": 5, \"value\": 3109}, \"3110\": {\"frequency\": 7, \"value\": 3110}, \"3111\": {\"frequency\": 4, \"value\": 3111}, \"3115\": {\"frequency\": 8, \"value\": 3115}, \"3116\": {\"frequency\": 14, \"value\": 3116}, \"3117\": {\"frequency\": 6, \"value\": 3117}, \"3118\": {\"frequency\": 5, \"value\": 3118}, \"3119\": {\"frequency\": 4, \"value\": 3119}, \"3120\": {\"frequency\": 30, \"value\": 3120}, \"3121\": {\"frequency\": 6, \"value\": 3121}, \"3123\": {\"frequency\": 10, \"value\": 3123}, \"3125\": {\"frequency\": 36, \"value\": 3125}, \"3126\": {\"frequency\": 7, \"value\": 3126}, \"3127\": {\"frequency\": 4, \"value\": 3127}, \"3128\": {\"frequency\": 7, \"value\": 3128}, \"3130\": {\"frequency\": 10, \"value\": 3130}, \"3132\": {\"frequency\": 4, \"value\": 3132}, \"3133\": {\"frequency\": 12, \"value\": 3133}, \"3135\": {\"frequency\": 10, \"value\": 3135}, \"3136\": {\"frequency\": 6, \"value\": 3136}, \"3137\": {\"frequency\": 1, \"value\": 3137}, \"3138\": {\"frequency\": 6, \"value\": 3138}, \"3139\": {\"frequency\": 9, \"value\": 3139}, \"3140\": {\"frequency\": 18, \"value\": 3140}, \"3141\": {\"frequency\": 9, \"value\": 3141}, \"3142\": {\"frequency\": 2, \"value\": 3142}, \"3144\": {\"frequency\": 4, \"value\": 3144}, \"3145\": {\"frequency\": 3, \"value\": 3145}, \"3146\": {\"frequency\": 7, \"value\": 3146}, \"3148\": {\"frequency\": 4, \"value\": 3148}, \"3150\": {\"frequency\": 59, \"value\": 3150}, \"3151\": {\"frequency\": 8, \"value\": 3151}, \"3152\": {\"frequency\": 3, \"value\": 3152}, \"3154\": {\"frequency\": 3, \"value\": 3154}, \"3155\": {\"frequency\": 7, \"value\": 3155}, \"3156\": {\"frequency\": 6, \"value\": 3156}, \"3157\": {\"frequency\": 5, \"value\": 3157}, \"3158\": {\"frequency\": 9, \"value\": 3158}, \"3159\": {\"frequency\": 4, \"value\": 3159}, \"3160\": {\"frequency\": 18, \"value\": 3160}, \"3162\": {\"frequency\": 7, \"value\": 3162}, \"3163\": {\"frequency\": 3, \"value\": 3163}, \"3164\": {\"frequency\": 4, \"value\": 3164}, \"3165\": {\"frequency\": 4, \"value\": 3165}, \"3166\": {\"frequency\": 124, \"value\": 3166}, \"3167\": {\"frequency\": 23, \"value\": 3167}, \"3168\": {\"frequency\": 8, \"value\": 3168}, \"3169\": {\"frequency\": 8, \"value\": 3169}, \"3170\": {\"frequency\": 9, \"value\": 3170}, \"3172\": {\"frequency\": 10, \"value\": 3172}, \"3174\": {\"frequency\": 3, \"value\": 3174}, \"3175\": {\"frequency\": 13, \"value\": 3175}, \"3176\": {\"frequency\": 7, \"value\": 3176}, \"3177\": {\"frequency\": 7, \"value\": 3177}, \"3178\": {\"frequency\": 8, \"value\": 3178}, \"3179\": {\"frequency\": 4, \"value\": 3179}, \"3180\": {\"frequency\": 14, \"value\": 3180}, \"3181\": {\"frequency\": 6, \"value\": 3181}, \"3183\": {\"frequency\": 6, \"value\": 3183}, \"3184\": {\"frequency\": 6, \"value\": 3184}, \"3185\": {\"frequency\": 4, \"value\": 3185}, \"3186\": {\"frequency\": 5, \"value\": 3186}, \"3188\": {\"frequency\": 7, \"value\": 3188}, \"3189\": {\"frequency\": 5, \"value\": 3189}, \"3190\": {\"frequency\": 15, \"value\": 3190}, \"3191\": {\"frequency\": 5, \"value\": 3191}, \"3192\": {\"frequency\": 4, \"value\": 3192}, \"3193\": {\"frequency\": 6, \"value\": 3193}, \"3194\": {\"frequency\": 2, \"value\": 3194}, \"3195\": {\"frequency\": 3, \"value\": 3195}, \"3196\": {\"frequency\": 8, \"value\": 3196}, \"3197\": {\"frequency\": 3, \"value\": 3197}, \"3199\": {\"frequency\": 3, \"value\": 3199}, \"3200\": {\"frequency\": 584, \"value\": 3200}, \"3201\": {\"frequency\": 10, \"value\": 3201}, \"3204\": {\"frequency\": 4, \"value\": 3204}, \"3205\": {\"frequency\": 7, \"value\": 3205}, \"3206\": {\"frequency\": 8, \"value\": 3206}, \"3207\": {\"frequency\": 6, \"value\": 3207}, \"3208\": {\"frequency\": 18, \"value\": 3208}, \"3209\": {\"frequency\": 6, \"value\": 3209}, \"3210\": {\"frequency\": 13, \"value\": 3210}, \"3211\": {\"frequency\": 4, \"value\": 3211}, \"3212\": {\"frequency\": 8, \"value\": 3212}, \"3213\": {\"frequency\": 4, \"value\": 3213}, \"3214\": {\"frequency\": 5, \"value\": 3214}, \"3215\": {\"frequency\": 5, \"value\": 3215}, \"3216\": {\"frequency\": 14, \"value\": 3216}, \"3217\": {\"frequency\": 7, \"value\": 3217}, \"3218\": {\"frequency\": 5, \"value\": 3218}, \"3219\": {\"frequency\": 6, \"value\": 3219}, \"3220\": {\"frequency\": 10, \"value\": 3220}, \"3222\": {\"frequency\": 6, \"value\": 3222}, \"3223\": {\"frequency\": 5, \"value\": 3223}, \"3224\": {\"frequency\": 6, \"value\": 3224}, \"3225\": {\"frequency\": 7, \"value\": 3225}, \"3226\": {\"frequency\": 3, \"value\": 3226}, \"3228\": {\"frequency\": 6, \"value\": 3228}, \"3229\": {\"frequency\": 3, \"value\": 3229}, \"3230\": {\"frequency\": 16, \"value\": 3230}, \"36000\": {\"frequency\": 10, \"value\": 36000}, \"3233\": {\"frequency\": 18, \"value\": 3233}, \"3234\": {\"frequency\": 7, \"value\": 3234}, \"3235\": {\"frequency\": 8, \"value\": 3235}, \"3236\": {\"frequency\": 8, \"value\": 3236}, \"3237\": {\"frequency\": 2, \"value\": 3237}, \"3238\": {\"frequency\": 8, \"value\": 3238}, \"3239\": {\"frequency\": 7, \"value\": 3239}, \"3240\": {\"frequency\": 12, \"value\": 3240}, \"3241\": {\"frequency\": 8, \"value\": 3241}, \"3242\": {\"frequency\": 4, \"value\": 3242}, \"3243\": {\"frequency\": 3, \"value\": 3243}, \"3244\": {\"frequency\": 6, \"value\": 3244}, \"3245\": {\"frequency\": 4, \"value\": 3245}, \"3246\": {\"frequency\": 4, \"value\": 3246}, \"3247\": {\"frequency\": 7, \"value\": 3247}, \"3249\": {\"frequency\": 8, \"value\": 3249}, \"3250\": {\"frequency\": 143, \"value\": 3250}, \"3251\": {\"frequency\": 9, \"value\": 3251}, \"3252\": {\"frequency\": 4, \"value\": 3252}, \"3253\": {\"frequency\": 4, \"value\": 3253}, \"3254\": {\"frequency\": 8, \"value\": 3254}, \"3255\": {\"frequency\": 11, \"value\": 3255}, \"3256\": {\"frequency\": 4, \"value\": 3256}, \"3257\": {\"frequency\": 5, \"value\": 3257}, \"3258\": {\"frequency\": 9, \"value\": 3258}, \"3260\": {\"frequency\": 14, \"value\": 3260}, \"3261\": {\"frequency\": 5, \"value\": 3261}, \"3262\": {\"frequency\": 5, \"value\": 3262}, \"3263\": {\"frequency\": 3, \"value\": 3263}, \"3264\": {\"frequency\": 4, \"value\": 3264}, \"3265\": {\"frequency\": 5, \"value\": 3265}, \"3266\": {\"frequency\": 7, \"value\": 3266}, \"3267\": {\"frequency\": 6, \"value\": 3267}, \"3268\": {\"frequency\": 3, \"value\": 3268}, \"3269\": {\"frequency\": 4, \"value\": 3269}, \"3270\": {\"frequency\": 6, \"value\": 3270}, \"3271\": {\"frequency\": 6, \"value\": 3271}, \"3272\": {\"frequency\": 10, \"value\": 3272}, \"3273\": {\"frequency\": 6, \"value\": 3273}, \"3274\": {\"frequency\": 2, \"value\": 3274}, \"3275\": {\"frequency\": 9, \"value\": 3275}, \"3276\": {\"frequency\": 6, \"value\": 3276}, \"3278\": {\"frequency\": 6, \"value\": 3278}, \"3279\": {\"frequency\": 5, \"value\": 3279}, \"3280\": {\"frequency\": 17, \"value\": 3280}, \"3281\": {\"frequency\": 3, \"value\": 3281}, \"3282\": {\"frequency\": 6, \"value\": 3282}, \"3283\": {\"frequency\": 12, \"value\": 3283}, \"3284\": {\"frequency\": 3, \"value\": 3284}, \"3285\": {\"frequency\": 4, \"value\": 3285}, \"3286\": {\"frequency\": 4, \"value\": 3286}, \"3287\": {\"frequency\": 8, \"value\": 3287}, \"3288\": {\"frequency\": 6, \"value\": 3288}, \"3289\": {\"frequency\": 6, \"value\": 3289}, \"3290\": {\"frequency\": 10, \"value\": 3290}, \"3291\": {\"frequency\": 16, \"value\": 3291}, \"3292\": {\"frequency\": 11, \"value\": 3292}, \"3293\": {\"frequency\": 9, \"value\": 3293}, \"3295\": {\"frequency\": 5, \"value\": 3295}, \"3296\": {\"frequency\": 3, \"value\": 3296}, \"3297\": {\"frequency\": 3, \"value\": 3297}, \"3298\": {\"frequency\": 4, \"value\": 3298}, \"3299\": {\"frequency\": 10, \"value\": 3299}, \"3300\": {\"frequency\": 364, \"value\": 3300}, \"3301\": {\"frequency\": 7, \"value\": 3301}, \"3302\": {\"frequency\": 5, \"value\": 3302}, \"3303\": {\"frequency\": 3, \"value\": 3303}, \"3305\": {\"frequency\": 6, \"value\": 3305}, \"3306\": {\"frequency\": 2, \"value\": 3306}, \"3307\": {\"frequency\": 6, \"value\": 3307}, \"3308\": {\"frequency\": 15, \"value\": 3308}, \"3309\": {\"frequency\": 7, \"value\": 3309}, \"3310\": {\"frequency\": 7, \"value\": 3310}, \"3311\": {\"frequency\": 6, \"value\": 3311}, \"3312\": {\"frequency\": 9, \"value\": 3312}, \"3313\": {\"frequency\": 9, \"value\": 3313}, \"3314\": {\"frequency\": 3, \"value\": 3314}, \"3315\": {\"frequency\": 7, \"value\": 3315}, \"3316\": {\"frequency\": 16, \"value\": 3316}, \"3317\": {\"frequency\": 4, \"value\": 3317}, \"3319\": {\"frequency\": 6, \"value\": 3319}, \"3320\": {\"frequency\": 12, \"value\": 3320}, \"3321\": {\"frequency\": 7, \"value\": 3321}, \"3322\": {\"frequency\": 4, \"value\": 3322}, \"3323\": {\"frequency\": 11, \"value\": 3323}, \"3324\": {\"frequency\": 7, \"value\": 3324}, \"3325\": {\"frequency\": 16, \"value\": 3325}, \"3326\": {\"frequency\": 2, \"value\": 3326}, \"3327\": {\"frequency\": 6, \"value\": 3327}, \"3328\": {\"frequency\": 4, \"value\": 3328}, \"3329\": {\"frequency\": 5, \"value\": 3329}, \"3330\": {\"frequency\": 18, \"value\": 3330}, \"3331\": {\"frequency\": 4, \"value\": 3331}, \"3332\": {\"frequency\": 11, \"value\": 3332}, \"3333\": {\"frequency\": 474, \"value\": 3333}, \"3334\": {\"frequency\": 38, \"value\": 3334}, \"3335\": {\"frequency\": 12, \"value\": 3335}, \"3336\": {\"frequency\": 7, \"value\": 3336}, \"3337\": {\"frequency\": 4, \"value\": 3337}, \"3339\": {\"frequency\": 4, \"value\": 3339}, \"3340\": {\"frequency\": 11, \"value\": 3340}, \"3341\": {\"frequency\": 5, \"value\": 3341}, \"3343\": {\"frequency\": 4, \"value\": 3343}, \"3344\": {\"frequency\": 5, \"value\": 3344}, \"3345\": {\"frequency\": 6, \"value\": 3345}, \"3346\": {\"frequency\": 5, \"value\": 3346}, \"3348\": {\"frequency\": 3, \"value\": 3348}, \"3350\": {\"frequency\": 60, \"value\": 3350}, \"3351\": {\"frequency\": 4, \"value\": 3351}, \"3352\": {\"frequency\": 7, \"value\": 3352}, \"3353\": {\"frequency\": 3, \"value\": 3353}, \"3354\": {\"frequency\": 4, \"value\": 3354}, \"3355\": {\"frequency\": 9, \"value\": 3355}, \"3356\": {\"frequency\": 2, \"value\": 3356}, \"3358\": {\"frequency\": 9, \"value\": 3358}, \"3359\": {\"frequency\": 3, \"value\": 3359}, \"3360\": {\"frequency\": 30, \"value\": 3360}, \"3361\": {\"frequency\": 7, \"value\": 3361}, \"3362\": {\"frequency\": 10, \"value\": 3362}, \"3363\": {\"frequency\": 4, \"value\": 3363}, \"3364\": {\"frequency\": 5, \"value\": 3364}, \"3365\": {\"frequency\": 7, \"value\": 3365}, \"3366\": {\"frequency\": 16, \"value\": 3366}, \"3367\": {\"frequency\": 7, \"value\": 3367}, \"3368\": {\"frequency\": 8, \"value\": 3368}, \"3369\": {\"frequency\": 5, \"value\": 3369}, \"3370\": {\"frequency\": 8, \"value\": 3370}, \"3371\": {\"frequency\": 5, \"value\": 3371}, \"3372\": {\"frequency\": 5, \"value\": 3372}, \"3373\": {\"frequency\": 3, \"value\": 3373}, \"3374\": {\"frequency\": 4, \"value\": 3374}, \"3375\": {\"frequency\": 24, \"value\": 3375}, \"3376\": {\"frequency\": 6, \"value\": 3376}, \"3377\": {\"frequency\": 8, \"value\": 3377}, \"3379\": {\"frequency\": 5, \"value\": 3379}, \"3380\": {\"frequency\": 13, \"value\": 3380}, \"3381\": {\"frequency\": 5, \"value\": 3381}, \"3382\": {\"frequency\": 3, \"value\": 3382}, \"3383\": {\"frequency\": 11, \"value\": 3383}, \"3384\": {\"frequency\": 13, \"value\": 3384}, \"3385\": {\"frequency\": 3, \"value\": 3385}, \"3386\": {\"frequency\": 4, \"value\": 3386}, \"3387\": {\"frequency\": 3, \"value\": 3387}, \"3390\": {\"frequency\": 11, \"value\": 3390}, \"3391\": {\"frequency\": 3, \"value\": 3391}, \"3392\": {\"frequency\": 6, \"value\": 3392}, \"3393\": {\"frequency\": 5, \"value\": 3393}, \"3394\": {\"frequency\": 3, \"value\": 3394}, \"3395\": {\"frequency\": 4, \"value\": 3395}, \"3398\": {\"frequency\": 6, \"value\": 3398}, \"3399\": {\"frequency\": 3, \"value\": 3399}, \"3400\": {\"frequency\": 422, \"value\": 3400}, \"3401\": {\"frequency\": 13, \"value\": 3401}, \"3402\": {\"frequency\": 7, \"value\": 3402}, \"3403\": {\"frequency\": 3, \"value\": 3403}, \"3404\": {\"frequency\": 7, \"value\": 3404}, \"3405\": {\"frequency\": 8, \"value\": 3405}, \"3406\": {\"frequency\": 4, \"value\": 3406}, \"3407\": {\"frequency\": 1, \"value\": 3407}, \"3408\": {\"frequency\": 2, \"value\": 3408}, \"3410\": {\"frequency\": 9, \"value\": 3410}, \"3411\": {\"frequency\": 3, \"value\": 3411}, \"3412\": {\"frequency\": 4, \"value\": 3412}, \"3413\": {\"frequency\": 5, \"value\": 3413}, \"3414\": {\"frequency\": 9, \"value\": 3414}, \"3415\": {\"frequency\": 6, \"value\": 3415}, \"3416\": {\"frequency\": 72, \"value\": 3416}, \"3417\": {\"frequency\": 26, \"value\": 3417}, \"3419\": {\"frequency\": 10, \"value\": 3419}, \"3420\": {\"frequency\": 15, \"value\": 3420}, \"3423\": {\"frequency\": 9, \"value\": 3423}, \"3424\": {\"frequency\": 4, \"value\": 3424}, \"3425\": {\"frequency\": 16, \"value\": 3425}, \"3426\": {\"frequency\": 4, \"value\": 3426}, \"3427\": {\"frequency\": 6, \"value\": 3427}, \"3428\": {\"frequency\": 9, \"value\": 3428}, \"3429\": {\"frequency\": 6, \"value\": 3429}, \"3430\": {\"frequency\": 13, \"value\": 3430}, \"3431\": {\"frequency\": 4, \"value\": 3431}, \"3432\": {\"frequency\": 6, \"value\": 3432}, \"3433\": {\"frequency\": 11, \"value\": 3433}, \"3434\": {\"frequency\": 5, \"value\": 3434}, \"3435\": {\"frequency\": 7, \"value\": 3435}, \"3437\": {\"frequency\": 6, \"value\": 3437}, \"3438\": {\"frequency\": 5, \"value\": 3438}, \"3439\": {\"frequency\": 2, \"value\": 3439}, \"3440\": {\"frequency\": 13, \"value\": 3440}, \"3441\": {\"frequency\": 8, \"value\": 3441}, \"3442\": {\"frequency\": 9, \"value\": 3442}, \"3443\": {\"frequency\": 6, \"value\": 3443}, \"3444\": {\"frequency\": 9, \"value\": 3444}, \"3445\": {\"frequency\": 8, \"value\": 3445}, \"3446\": {\"frequency\": 3, \"value\": 3446}, \"3447\": {\"frequency\": 5, \"value\": 3447}, \"3448\": {\"frequency\": 6, \"value\": 3448}, \"3449\": {\"frequency\": 5, \"value\": 3449}, \"3450\": {\"frequency\": 57, \"value\": 3450}, \"3451\": {\"frequency\": 9, \"value\": 3451}, \"3452\": {\"frequency\": 5, \"value\": 3452}, \"3453\": {\"frequency\": 5, \"value\": 3453}, \"3454\": {\"frequency\": 9, \"value\": 3454}, \"3456\": {\"frequency\": 9, \"value\": 3456}, \"3458\": {\"frequency\": 10, \"value\": 3458}, \"3459\": {\"frequency\": 8, \"value\": 3459}, \"3460\": {\"frequency\": 9, \"value\": 3460}, \"3461\": {\"frequency\": 9, \"value\": 3461}, \"3462\": {\"frequency\": 4, \"value\": 3462}, \"3463\": {\"frequency\": 4, \"value\": 3463}, \"3464\": {\"frequency\": 7, \"value\": 3464}, \"3465\": {\"frequency\": 9, \"value\": 3465}, \"3466\": {\"frequency\": 22, \"value\": 3466}, \"3467\": {\"frequency\": 6, \"value\": 3467}, \"3468\": {\"frequency\": 4, \"value\": 3468}, \"3469\": {\"frequency\": 5, \"value\": 3469}, \"3470\": {\"frequency\": 11, \"value\": 3470}, \"3471\": {\"frequency\": 7, \"value\": 3471}, \"3472\": {\"frequency\": 2, \"value\": 3472}, \"3473\": {\"frequency\": 8, \"value\": 3473}, \"3474\": {\"frequency\": 8, \"value\": 3474}, \"3475\": {\"frequency\": 15, \"value\": 3475}, \"3476\": {\"frequency\": 7, \"value\": 3476}, \"3477\": {\"frequency\": 5, \"value\": 3477}, \"3479\": {\"frequency\": 4, \"value\": 3479}, \"3480\": {\"frequency\": 5, \"value\": 3480}, \"3481\": {\"frequency\": 7, \"value\": 3481}, \"3482\": {\"frequency\": 7, \"value\": 3482}, \"3483\": {\"frequency\": 6, \"value\": 3483}, \"3484\": {\"frequency\": 12, \"value\": 3484}, \"3485\": {\"frequency\": 8, \"value\": 3485}, \"3486\": {\"frequency\": 5, \"value\": 3486}, \"3487\": {\"frequency\": 3, \"value\": 3487}, \"3488\": {\"frequency\": 8, \"value\": 3488}, \"3489\": {\"frequency\": 4, \"value\": 3489}, \"3490\": {\"frequency\": 11, \"value\": 3490}, \"3491\": {\"frequency\": 4, \"value\": 3491}, \"3492\": {\"frequency\": 4, \"value\": 3492}, \"3493\": {\"frequency\": 5, \"value\": 3493}, \"3494\": {\"frequency\": 3, \"value\": 3494}, \"3495\": {\"frequency\": 6, \"value\": 3495}, \"3496\": {\"frequency\": 5, \"value\": 3496}, \"3498\": {\"frequency\": 5, \"value\": 3498}, \"3499\": {\"frequency\": 12, \"value\": 3499}, \"3500\": {\"frequency\": 1360, \"value\": 3500}, \"3501\": {\"frequency\": 21, \"value\": 3501}, \"3502\": {\"frequency\": 4, \"value\": 3502}, \"3504\": {\"frequency\": 5, \"value\": 3504}, \"3505\": {\"frequency\": 7, \"value\": 3505}, \"3506\": {\"frequency\": 5, \"value\": 3506}, \"3507\": {\"frequency\": 6, \"value\": 3507}, \"3508\": {\"frequency\": 3, \"value\": 3508}, \"3509\": {\"frequency\": 5, \"value\": 3509}, \"3510\": {\"frequency\": 9, \"value\": 3510}, \"3511\": {\"frequency\": 4, \"value\": 3511}, \"3512\": {\"frequency\": 5, \"value\": 3512}, \"3513\": {\"frequency\": 4, \"value\": 3513}, \"3514\": {\"frequency\": 6, \"value\": 3514}, \"3515\": {\"frequency\": 6, \"value\": 3515}, \"3516\": {\"frequency\": 14, \"value\": 3516}, \"3517\": {\"frequency\": 6, \"value\": 3517}, \"3518\": {\"frequency\": 4, \"value\": 3518}, \"3519\": {\"frequency\": 3, \"value\": 3519}, \"3520\": {\"frequency\": 27, \"value\": 3520}, \"3522\": {\"frequency\": 3, \"value\": 3522}, \"3523\": {\"frequency\": 6, \"value\": 3523}, \"3524\": {\"frequency\": 4, \"value\": 3524}, \"3525\": {\"frequency\": 9, \"value\": 3525}, \"3526\": {\"frequency\": 5, \"value\": 3526}, \"3527\": {\"frequency\": 3, \"value\": 3527}, \"3528\": {\"frequency\": 9, \"value\": 3528}, \"3529\": {\"frequency\": 3, \"value\": 3529}, \"3530\": {\"frequency\": 14, \"value\": 3530}, \"3532\": {\"frequency\": 6, \"value\": 3532}, \"3533\": {\"frequency\": 8, \"value\": 3533}, \"3534\": {\"frequency\": 7, \"value\": 3534}, \"3535\": {\"frequency\": 4, \"value\": 3535}, \"3536\": {\"frequency\": 6, \"value\": 3536}, \"3537\": {\"frequency\": 7, \"value\": 3537}, \"3538\": {\"frequency\": 11, \"value\": 3538}, \"3539\": {\"frequency\": 9, \"value\": 3539}, \"3540\": {\"frequency\": 13, \"value\": 3540}, \"3541\": {\"frequency\": 26, \"value\": 3541}, \"3542\": {\"frequency\": 9, \"value\": 3542}, \"3545\": {\"frequency\": 11, \"value\": 3545}, \"3546\": {\"frequency\": 4, \"value\": 3546}, \"3547\": {\"frequency\": 4, \"value\": 3547}, \"3548\": {\"frequency\": 3, \"value\": 3548}, \"3549\": {\"frequency\": 3, \"value\": 3549}, \"3550\": {\"frequency\": 44, \"value\": 3550}, \"3551\": {\"frequency\": 6, \"value\": 3551}, \"3553\": {\"frequency\": 10, \"value\": 3553}, \"3555\": {\"frequency\": 4, \"value\": 3555}, \"3556\": {\"frequency\": 5, \"value\": 3556}, \"3557\": {\"frequency\": 7, \"value\": 3557}, \"3558\": {\"frequency\": 6, \"value\": 3558}, \"3560\": {\"frequency\": 8, \"value\": 3560}, \"3561\": {\"frequency\": 4, \"value\": 3561}, \"3562\": {\"frequency\": 7, \"value\": 3562}, \"3563\": {\"frequency\": 3, \"value\": 3563}, \"3564\": {\"frequency\": 8, \"value\": 3564}, \"3565\": {\"frequency\": 11, \"value\": 3565}, \"3566\": {\"frequency\": 12, \"value\": 3566}, \"3567\": {\"frequency\": 5, \"value\": 3567}, \"3568\": {\"frequency\": 4, \"value\": 3568}, \"3569\": {\"frequency\": 4, \"value\": 3569}, \"3570\": {\"frequency\": 12, \"value\": 3570}, \"3571\": {\"frequency\": 7, \"value\": 3571}, \"3572\": {\"frequency\": 6, \"value\": 3572}, \"3574\": {\"frequency\": 7, \"value\": 3574}, \"3575\": {\"frequency\": 12, \"value\": 3575}, \"3576\": {\"frequency\": 9, \"value\": 3576}, \"3577\": {\"frequency\": 2, \"value\": 3577}, \"3578\": {\"frequency\": 4, \"value\": 3578}, \"3580\": {\"frequency\": 17, \"value\": 3580}, \"3581\": {\"frequency\": 5, \"value\": 3581}, \"3582\": {\"frequency\": 3, \"value\": 3582}, \"3583\": {\"frequency\": 120, \"value\": 3583}, \"3584\": {\"frequency\": 16, \"value\": 3584}, \"3585\": {\"frequency\": 11, \"value\": 3585}, \"3586\": {\"frequency\": 5, \"value\": 3586}, \"3587\": {\"frequency\": 3, \"value\": 3587}, \"3588\": {\"frequency\": 4, \"value\": 3588}, \"3589\": {\"frequency\": 5, \"value\": 3589}, \"3590\": {\"frequency\": 5, \"value\": 3590}, \"3591\": {\"frequency\": 8, \"value\": 3591}, \"3592\": {\"frequency\": 7, \"value\": 3592}, \"3594\": {\"frequency\": 4, \"value\": 3594}, \"3595\": {\"frequency\": 7, \"value\": 3595}, \"3596\": {\"frequency\": 10, \"value\": 3596}, \"3597\": {\"frequency\": 4, \"value\": 3597}, \"3598\": {\"frequency\": 8, \"value\": 3598}, \"3599\": {\"frequency\": 4, \"value\": 3599}, \"3600\": {\"frequency\": 503, \"value\": 3600}, \"3601\": {\"frequency\": 9, \"value\": 3601}, \"3602\": {\"frequency\": 3, \"value\": 3602}, \"3603\": {\"frequency\": 5, \"value\": 3603}, \"3604\": {\"frequency\": 3, \"value\": 3604}, \"3605\": {\"frequency\": 7, \"value\": 3605}, \"3606\": {\"frequency\": 5, \"value\": 3606}, \"3607\": {\"frequency\": 4, \"value\": 3607}, \"3608\": {\"frequency\": 7, \"value\": 3608}, \"3609\": {\"frequency\": 3, \"value\": 3609}, \"3610\": {\"frequency\": 9, \"value\": 3610}, \"3612\": {\"frequency\": 9, \"value\": 3612}, \"3613\": {\"frequency\": 7, \"value\": 3613}, \"3614\": {\"frequency\": 13, \"value\": 3614}, \"3615\": {\"frequency\": 10, \"value\": 3615}, \"3616\": {\"frequency\": 8, \"value\": 3616}, \"3617\": {\"frequency\": 8, \"value\": 3617}, \"3618\": {\"frequency\": 7, \"value\": 3618}, \"3619\": {\"frequency\": 3, \"value\": 3619}, \"3620\": {\"frequency\": 14, \"value\": 3620}, \"3621\": {\"frequency\": 6, \"value\": 3621}, \"3622\": {\"frequency\": 6, \"value\": 3622}, \"3623\": {\"frequency\": 3, \"value\": 3623}, \"3624\": {\"frequency\": 4, \"value\": 3624}, \"3625\": {\"frequency\": 17, \"value\": 3625}, \"3626\": {\"frequency\": 6, \"value\": 3626}, \"3628\": {\"frequency\": 5, \"value\": 3628}, \"3629\": {\"frequency\": 8, \"value\": 3629}, \"3630\": {\"frequency\": 8, \"value\": 3630}, \"3631\": {\"frequency\": 3, \"value\": 3631}, \"3632\": {\"frequency\": 5, \"value\": 3632}, \"3633\": {\"frequency\": 16, \"value\": 3633}, \"3635\": {\"frequency\": 11, \"value\": 3635}, \"3636\": {\"frequency\": 4, \"value\": 3636}, \"3637\": {\"frequency\": 6, \"value\": 3637}, \"3638\": {\"frequency\": 5, \"value\": 3638}, \"3639\": {\"frequency\": 4, \"value\": 3639}, \"3640\": {\"frequency\": 20, \"value\": 3640}, \"3641\": {\"frequency\": 3, \"value\": 3641}, \"3642\": {\"frequency\": 4, \"value\": 3642}, \"3643\": {\"frequency\": 3, \"value\": 3643}, \"3644\": {\"frequency\": 7, \"value\": 3644}, \"3645\": {\"frequency\": 9, \"value\": 3645}, \"3646\": {\"frequency\": 9, \"value\": 3646}, \"3647\": {\"frequency\": 3, \"value\": 3647}, \"3648\": {\"frequency\": 4, \"value\": 3648}, \"3649\": {\"frequency\": 7, \"value\": 3649}, \"3650\": {\"frequency\": 47, \"value\": 3650}, \"3651\": {\"frequency\": 7, \"value\": 3651}, \"3652\": {\"frequency\": 9, \"value\": 3652}, \"3653\": {\"frequency\": 5, \"value\": 3653}, \"3654\": {\"frequency\": 7, \"value\": 3654}, \"3655\": {\"frequency\": 5, \"value\": 3655}, \"3656\": {\"frequency\": 4, \"value\": 3656}, \"3658\": {\"frequency\": 8, \"value\": 3658}, \"3659\": {\"frequency\": 2, \"value\": 3659}, \"3660\": {\"frequency\": 17, \"value\": 3660}, \"3661\": {\"frequency\": 2, \"value\": 3661}, \"3662\": {\"frequency\": 3, \"value\": 3662}, \"3663\": {\"frequency\": 4, \"value\": 3663}, \"3664\": {\"frequency\": 5, \"value\": 3664}, \"3665\": {\"frequency\": 4, \"value\": 3665}, \"3666\": {\"frequency\": 89, \"value\": 3666}, \"3667\": {\"frequency\": 23, \"value\": 3667}, \"3668\": {\"frequency\": 9, \"value\": 3668}, \"3669\": {\"frequency\": 3, \"value\": 3669}, \"3670\": {\"frequency\": 6, \"value\": 3670}, \"3671\": {\"frequency\": 5, \"value\": 3671}, \"3672\": {\"frequency\": 5, \"value\": 3672}, \"3673\": {\"frequency\": 4, \"value\": 3673}, \"3674\": {\"frequency\": 8, \"value\": 3674}, \"3675\": {\"frequency\": 11, \"value\": 3675}, \"3676\": {\"frequency\": 6, \"value\": 3676}, \"3677\": {\"frequency\": 3, \"value\": 3677}, \"3678\": {\"frequency\": 9, \"value\": 3678}, \"3679\": {\"frequency\": 6, \"value\": 3679}, \"3680\": {\"frequency\": 25, \"value\": 3680}, \"3681\": {\"frequency\": 2, \"value\": 3681}, \"3683\": {\"frequency\": 13, \"value\": 3683}, \"3684\": {\"frequency\": 9, \"value\": 3684}, \"3685\": {\"frequency\": 4, \"value\": 3685}, \"3686\": {\"frequency\": 5, \"value\": 3686}, \"3687\": {\"frequency\": 6, \"value\": 3687}, \"3688\": {\"frequency\": 2, \"value\": 3688}, \"3689\": {\"frequency\": 9, \"value\": 3689}, \"3690\": {\"frequency\": 5, \"value\": 3690}, \"3691\": {\"frequency\": 5, \"value\": 3691}, \"3692\": {\"frequency\": 8, \"value\": 3692}, \"3694\": {\"frequency\": 5, \"value\": 3694}, \"3695\": {\"frequency\": 7, \"value\": 3695}, \"3696\": {\"frequency\": 5, \"value\": 3696}, \"3697\": {\"frequency\": 5, \"value\": 3697}, \"3699\": {\"frequency\": 5, \"value\": 3699}, \"3700\": {\"frequency\": 301, \"value\": 3700}, \"3701\": {\"frequency\": 8, \"value\": 3701}, \"3702\": {\"frequency\": 5, \"value\": 3702}, \"3703\": {\"frequency\": 5, \"value\": 3703}, \"3705\": {\"frequency\": 7, \"value\": 3705}, \"3706\": {\"frequency\": 5, \"value\": 3706}, \"3708\": {\"frequency\": 14, \"value\": 3708}, \"3709\": {\"frequency\": 6, \"value\": 3709}, \"3710\": {\"frequency\": 12, \"value\": 3710}, \"3711\": {\"frequency\": 5, \"value\": 3711}, \"3712\": {\"frequency\": 11, \"value\": 3712}, \"3713\": {\"frequency\": 7, \"value\": 3713}, \"3714\": {\"frequency\": 3, \"value\": 3714}, \"3715\": {\"frequency\": 6, \"value\": 3715}, \"3716\": {\"frequency\": 17, \"value\": 3716}, \"3718\": {\"frequency\": 5, \"value\": 3718}, \"3719\": {\"frequency\": 4, \"value\": 3719}, \"3720\": {\"frequency\": 13, \"value\": 3720}, \"3721\": {\"frequency\": 5, \"value\": 3721}, \"3722\": {\"frequency\": 3, \"value\": 3722}, \"3723\": {\"frequency\": 3, \"value\": 3723}, \"3724\": {\"frequency\": 7, \"value\": 3724}, \"3725\": {\"frequency\": 17, \"value\": 3725}, \"3726\": {\"frequency\": 10, \"value\": 3726}, \"3727\": {\"frequency\": 4, \"value\": 3727}, \"3729\": {\"frequency\": 7, \"value\": 3729}, \"3730\": {\"frequency\": 6, \"value\": 3730}, \"3731\": {\"frequency\": 2, \"value\": 3731}, \"3732\": {\"frequency\": 6, \"value\": 3732}, \"3733\": {\"frequency\": 12, \"value\": 3733}, \"3734\": {\"frequency\": 6, \"value\": 3734}, \"3735\": {\"frequency\": 4, \"value\": 3735}, \"3736\": {\"frequency\": 3, \"value\": 3736}, \"3737\": {\"frequency\": 3, \"value\": 3737}, \"3738\": {\"frequency\": 8, \"value\": 3738}, \"3740\": {\"frequency\": 14, \"value\": 3740}, \"3741\": {\"frequency\": 10, \"value\": 3741}, \"3742\": {\"frequency\": 5, \"value\": 3742}, \"3743\": {\"frequency\": 2, \"value\": 3743}, \"3744\": {\"frequency\": 7, \"value\": 3744}, \"3745\": {\"frequency\": 4, \"value\": 3745}, \"3746\": {\"frequency\": 8, \"value\": 3746}, \"3747\": {\"frequency\": 8, \"value\": 3747}, \"3748\": {\"frequency\": 3, \"value\": 3748}, \"3749\": {\"frequency\": 13, \"value\": 3749}, \"3750\": {\"frequency\": 504, \"value\": 3750}, \"3751\": {\"frequency\": 8, \"value\": 3751}, \"3752\": {\"frequency\": 4, \"value\": 3752}, \"3754\": {\"frequency\": 5, \"value\": 3754}, \"3755\": {\"frequency\": 2, \"value\": 3755}, \"3756\": {\"frequency\": 3, \"value\": 3756}, \"3757\": {\"frequency\": 3, \"value\": 3757}, \"3758\": {\"frequency\": 9, \"value\": 3758}, \"3759\": {\"frequency\": 4, \"value\": 3759}, \"3760\": {\"frequency\": 11, \"value\": 3760}, \"3761\": {\"frequency\": 8, \"value\": 3761}, \"3762\": {\"frequency\": 8, \"value\": 3762}, \"3764\": {\"frequency\": 8, \"value\": 3764}, \"3765\": {\"frequency\": 4, \"value\": 3765}, \"3766\": {\"frequency\": 15, \"value\": 3766}, \"3767\": {\"frequency\": 5, \"value\": 3767}, \"3768\": {\"frequency\": 4, \"value\": 3768}, \"3770\": {\"frequency\": 15, \"value\": 3770}, \"3771\": {\"frequency\": 6, \"value\": 3771}, \"3773\": {\"frequency\": 6, \"value\": 3773}, \"3774\": {\"frequency\": 5, \"value\": 3774}, \"3775\": {\"frequency\": 8, \"value\": 3775}, \"3776\": {\"frequency\": 5, \"value\": 3776}, \"3777\": {\"frequency\": 6, \"value\": 3777}, \"3779\": {\"frequency\": 3, \"value\": 3779}, \"3780\": {\"frequency\": 12, \"value\": 3780}, \"3782\": {\"frequency\": 4, \"value\": 3782}, \"3783\": {\"frequency\": 19, \"value\": 3783}, \"3784\": {\"frequency\": 5, \"value\": 3784}, \"3785\": {\"frequency\": 11, \"value\": 3785}, \"3786\": {\"frequency\": 5, \"value\": 3786}, \"3787\": {\"frequency\": 4, \"value\": 3787}, \"3788\": {\"frequency\": 8, \"value\": 3788}, \"3789\": {\"frequency\": 5, \"value\": 3789}, \"3790\": {\"frequency\": 13, \"value\": 3790}, \"3791\": {\"frequency\": 14, \"value\": 3791}, \"3792\": {\"frequency\": 5, \"value\": 3792}, \"3793\": {\"frequency\": 4, \"value\": 3793}, \"3794\": {\"frequency\": 6, \"value\": 3794}, \"3796\": {\"frequency\": 12, \"value\": 3796}, \"3797\": {\"frequency\": 9, \"value\": 3797}, \"3798\": {\"frequency\": 3, \"value\": 3798}, \"3799\": {\"frequency\": 6, \"value\": 3799}, \"3800\": {\"frequency\": 460, \"value\": 3800}, \"3801\": {\"frequency\": 6, \"value\": 3801}, \"3803\": {\"frequency\": 9, \"value\": 3803}, \"3806\": {\"frequency\": 9, \"value\": 3806}, \"3807\": {\"frequency\": 4, \"value\": 3807}, \"3808\": {\"frequency\": 10, \"value\": 3808}, \"3809\": {\"frequency\": 4, \"value\": 3809}, \"3810\": {\"frequency\": 5, \"value\": 3810}, \"3811\": {\"frequency\": 6, \"value\": 3811}, \"3812\": {\"frequency\": 6, \"value\": 3812}, \"3813\": {\"frequency\": 9, \"value\": 3813}, \"3815\": {\"frequency\": 7, \"value\": 3815}, \"3816\": {\"frequency\": 13, \"value\": 3816}, \"3817\": {\"frequency\": 9, \"value\": 3817}, \"3818\": {\"frequency\": 6, \"value\": 3818}, \"3820\": {\"frequency\": 10, \"value\": 3820}, \"3821\": {\"frequency\": 4, \"value\": 3821}, \"3822\": {\"frequency\": 10, \"value\": 3822}, \"3823\": {\"frequency\": 6, \"value\": 3823}, \"3824\": {\"frequency\": 4, \"value\": 3824}, \"3825\": {\"frequency\": 14, \"value\": 3825}, \"3827\": {\"frequency\": 5, \"value\": 3827}, \"3828\": {\"frequency\": 4, \"value\": 3828}, \"3829\": {\"frequency\": 6, \"value\": 3829}, \"3830\": {\"frequency\": 11, \"value\": 3830}, \"3831\": {\"frequency\": 3, \"value\": 3831}, \"3832\": {\"frequency\": 7, \"value\": 3832}, \"3833\": {\"frequency\": 119, \"value\": 3833}, \"3834\": {\"frequency\": 7, \"value\": 3834}, \"3835\": {\"frequency\": 17, \"value\": 3835}, \"3836\": {\"frequency\": 4, \"value\": 3836}, \"3837\": {\"frequency\": 3, \"value\": 3837}, \"3838\": {\"frequency\": 9, \"value\": 3838}, \"3839\": {\"frequency\": 6, \"value\": 3839}, \"3840\": {\"frequency\": 13, \"value\": 3840}, \"3841\": {\"frequency\": 8, \"value\": 3841}, \"3843\": {\"frequency\": 5, \"value\": 3843}, \"3844\": {\"frequency\": 5, \"value\": 3844}, \"3845\": {\"frequency\": 6, \"value\": 3845}, \"3846\": {\"frequency\": 10, \"value\": 3846}, \"3848\": {\"frequency\": 7, \"value\": 3848}, \"3849\": {\"frequency\": 3, \"value\": 3849}, \"3850\": {\"frequency\": 69, \"value\": 3850}, \"3851\": {\"frequency\": 3, \"value\": 3851}, \"3853\": {\"frequency\": 3, \"value\": 3853}, \"3854\": {\"frequency\": 3, \"value\": 3854}, \"3855\": {\"frequency\": 7, \"value\": 3855}, \"3857\": {\"frequency\": 4, \"value\": 3857}, \"3858\": {\"frequency\": 8, \"value\": 3858}, \"3859\": {\"frequency\": 8, \"value\": 3859}, \"3860\": {\"frequency\": 12, \"value\": 3860}, \"3861\": {\"frequency\": 4, \"value\": 3861}, \"3862\": {\"frequency\": 8, \"value\": 3862}, \"3864\": {\"frequency\": 2, \"value\": 3864}, \"3865\": {\"frequency\": 6, \"value\": 3865}, \"3866\": {\"frequency\": 11, \"value\": 3866}, \"3867\": {\"frequency\": 6, \"value\": 3867}, \"3868\": {\"frequency\": 3, \"value\": 3868}, \"3869\": {\"frequency\": 6, \"value\": 3869}, \"3870\": {\"frequency\": 7, \"value\": 3870}, \"3871\": {\"frequency\": 4, \"value\": 3871}, \"3872\": {\"frequency\": 5, \"value\": 3872}, \"3873\": {\"frequency\": 8, \"value\": 3873}, \"3874\": {\"frequency\": 5, \"value\": 3874}, \"3875\": {\"frequency\": 20, \"value\": 3875}, \"3876\": {\"frequency\": 8, \"value\": 3876}, \"3877\": {\"frequency\": 7, \"value\": 3877}, \"3878\": {\"frequency\": 10, \"value\": 3878}, \"3879\": {\"frequency\": 6, \"value\": 3879}, \"3880\": {\"frequency\": 12, \"value\": 3880}, \"3881\": {\"frequency\": 7, \"value\": 3881}, \"3882\": {\"frequency\": 5, \"value\": 3882}, \"3883\": {\"frequency\": 15, \"value\": 3883}, \"3884\": {\"frequency\": 5, \"value\": 3884}, \"3885\": {\"frequency\": 12, \"value\": 3885}, \"3886\": {\"frequency\": 5, \"value\": 3886}, \"3888\": {\"frequency\": 9, \"value\": 3888}, \"3889\": {\"frequency\": 5, \"value\": 3889}, \"3890\": {\"frequency\": 10, \"value\": 3890}, \"3891\": {\"frequency\": 9, \"value\": 3891}, \"3893\": {\"frequency\": 7, \"value\": 3893}, \"3894\": {\"frequency\": 7, \"value\": 3894}, \"3895\": {\"frequency\": 10, \"value\": 3895}, \"3896\": {\"frequency\": 8, \"value\": 3896}, \"3897\": {\"frequency\": 5, \"value\": 3897}, \"3899\": {\"frequency\": 6, \"value\": 3899}, \"3900\": {\"frequency\": 263, \"value\": 3900}, \"3901\": {\"frequency\": 10, \"value\": 3901}, \"3903\": {\"frequency\": 7, \"value\": 3903}, \"3904\": {\"frequency\": 4, \"value\": 3904}, \"3905\": {\"frequency\": 5, \"value\": 3905}, \"3906\": {\"frequency\": 4, \"value\": 3906}, \"3908\": {\"frequency\": 9, \"value\": 3908}, \"3910\": {\"frequency\": 9, \"value\": 3910}, \"3911\": {\"frequency\": 3, \"value\": 3911}, \"3912\": {\"frequency\": 5, \"value\": 3912}, \"3913\": {\"frequency\": 7, \"value\": 3913}, \"3914\": {\"frequency\": 8, \"value\": 3914}, \"3915\": {\"frequency\": 8, \"value\": 3915}, \"3916\": {\"frequency\": 88, \"value\": 3916}, \"3917\": {\"frequency\": 13, \"value\": 3917}, \"3919\": {\"frequency\": 3, \"value\": 3919}, \"3920\": {\"frequency\": 19, \"value\": 3920}, \"3921\": {\"frequency\": 3, \"value\": 3921}, \"3922\": {\"frequency\": 3, \"value\": 3922}, \"3923\": {\"frequency\": 9, \"value\": 3923}, \"3924\": {\"frequency\": 3, \"value\": 3924}, \"3925\": {\"frequency\": 10, \"value\": 3925}, \"3926\": {\"frequency\": 5, \"value\": 3926}, \"3927\": {\"frequency\": 2, \"value\": 3927}, \"3928\": {\"frequency\": 5, \"value\": 3928}, \"3929\": {\"frequency\": 5, \"value\": 3929}, \"3930\": {\"frequency\": 9, \"value\": 3930}, \"3931\": {\"frequency\": 4, \"value\": 3931}, \"3932\": {\"frequency\": 8, \"value\": 3932}, \"3933\": {\"frequency\": 12, \"value\": 3933}, \"3934\": {\"frequency\": 3, \"value\": 3934}, \"3935\": {\"frequency\": 7, \"value\": 3935}, \"3936\": {\"frequency\": 5, \"value\": 3936}, \"3937\": {\"frequency\": 9, \"value\": 3937}, \"3938\": {\"frequency\": 6, \"value\": 3938}, \"3939\": {\"frequency\": 12, \"value\": 3939}, \"3940\": {\"frequency\": 10, \"value\": 3940}, \"3941\": {\"frequency\": 3, \"value\": 3941}, \"3942\": {\"frequency\": 4, \"value\": 3942}, \"3943\": {\"frequency\": 5, \"value\": 3943}, \"3944\": {\"frequency\": 11, \"value\": 3944}, \"3945\": {\"frequency\": 6, \"value\": 3945}, \"3947\": {\"frequency\": 7, \"value\": 3947}, \"3948\": {\"frequency\": 4, \"value\": 3948}, \"3949\": {\"frequency\": 6, \"value\": 3949}, \"3950\": {\"frequency\": 69, \"value\": 3950}, \"3951\": {\"frequency\": 5, \"value\": 3951}, \"3952\": {\"frequency\": 5, \"value\": 3952}, \"3953\": {\"frequency\": 7, \"value\": 3953}, \"3954\": {\"frequency\": 6, \"value\": 3954}, \"3955\": {\"frequency\": 9, \"value\": 3955}, \"3956\": {\"frequency\": 9, \"value\": 3956}, \"3957\": {\"frequency\": 6, \"value\": 3957}, \"3958\": {\"frequency\": 32, \"value\": 3958}, \"3960\": {\"frequency\": 19, \"value\": 3960}, \"3962\": {\"frequency\": 7, \"value\": 3962}, \"3963\": {\"frequency\": 6, \"value\": 3963}, \"3964\": {\"frequency\": 5, \"value\": 3964}, \"3966\": {\"frequency\": 14, \"value\": 3966}, \"3967\": {\"frequency\": 10, \"value\": 3967}, \"3968\": {\"frequency\": 7, \"value\": 3968}, \"3969\": {\"frequency\": 4, \"value\": 3969}, \"3970\": {\"frequency\": 14, \"value\": 3970}, \"3971\": {\"frequency\": 4, \"value\": 3971}, \"3972\": {\"frequency\": 10, \"value\": 3972}, \"3973\": {\"frequency\": 5, \"value\": 3973}, \"3974\": {\"frequency\": 8, \"value\": 3974}, \"3975\": {\"frequency\": 13, \"value\": 3975}, \"3976\": {\"frequency\": 4, \"value\": 3976}, \"3977\": {\"frequency\": 4, \"value\": 3977}, \"3978\": {\"frequency\": 7, \"value\": 3978}, \"3979\": {\"frequency\": 4, \"value\": 3979}, \"3980\": {\"frequency\": 9, \"value\": 3980}, \"3981\": {\"frequency\": 5, \"value\": 3981}, \"3982\": {\"frequency\": 8, \"value\": 3982}, \"3983\": {\"frequency\": 13, \"value\": 3983}, \"3984\": {\"frequency\": 3, \"value\": 3984}, \"3985\": {\"frequency\": 9, \"value\": 3985}, \"3986\": {\"frequency\": 8, \"value\": 3986}, \"3987\": {\"frequency\": 3, \"value\": 3987}, \"3988\": {\"frequency\": 3, \"value\": 3988}, \"3989\": {\"frequency\": 4, \"value\": 3989}, \"3990\": {\"frequency\": 6, \"value\": 3990}, \"3991\": {\"frequency\": 2, \"value\": 3991}, \"3992\": {\"frequency\": 6, \"value\": 3992}, \"3993\": {\"frequency\": 7, \"value\": 3993}, \"3994\": {\"frequency\": 3, \"value\": 3994}, \"3995\": {\"frequency\": 10, \"value\": 3995}, \"3998\": {\"frequency\": 5, \"value\": 3998}, \"3999\": {\"frequency\": 13, \"value\": 3999}, \"4000\": {\"frequency\": 2106, \"value\": 4000}, \"4001\": {\"frequency\": 34, \"value\": 4001}, \"4002\": {\"frequency\": 4, \"value\": 4002}, \"4003\": {\"frequency\": 8, \"value\": 4003}, \"4004\": {\"frequency\": 3, \"value\": 4004}, \"4005\": {\"frequency\": 2, \"value\": 4005}, \"4006\": {\"frequency\": 8, \"value\": 4006}, \"4007\": {\"frequency\": 5, \"value\": 4007}, \"4008\": {\"frequency\": 6, \"value\": 4008}, \"4009\": {\"frequency\": 6, \"value\": 4009}, \"4010\": {\"frequency\": 5, \"value\": 4010}, \"4011\": {\"frequency\": 5, \"value\": 4011}, \"4012\": {\"frequency\": 11, \"value\": 4012}, \"4014\": {\"frequency\": 4, \"value\": 4014}, \"4015\": {\"frequency\": 9, \"value\": 4015}, \"4016\": {\"frequency\": 16, \"value\": 4016}, \"4017\": {\"frequency\": 2, \"value\": 4017}, \"4018\": {\"frequency\": 7, \"value\": 4018}, \"4019\": {\"frequency\": 6, \"value\": 4019}, \"4020\": {\"frequency\": 9, \"value\": 4020}, \"4021\": {\"frequency\": 5, \"value\": 4021}, \"4022\": {\"frequency\": 11, \"value\": 4022}, \"4023\": {\"frequency\": 3, \"value\": 4023}, \"4024\": {\"frequency\": 7, \"value\": 4024}, \"4025\": {\"frequency\": 15, \"value\": 4025}, \"4026\": {\"frequency\": 3, \"value\": 4026}, \"4027\": {\"frequency\": 5, \"value\": 4027}, \"4028\": {\"frequency\": 6, \"value\": 4028}, \"4030\": {\"frequency\": 8, \"value\": 4030}, \"4032\": {\"frequency\": 6, \"value\": 4032}, \"4033\": {\"frequency\": 19, \"value\": 4033}, \"4034\": {\"frequency\": 7, \"value\": 4034}, \"4035\": {\"frequency\": 10, \"value\": 4035}, \"4036\": {\"frequency\": 11, \"value\": 4036}, \"4037\": {\"frequency\": 2, \"value\": 4037}, \"4038\": {\"frequency\": 8, \"value\": 4038}, \"4039\": {\"frequency\": 7, \"value\": 4039}, \"4040\": {\"frequency\": 15, \"value\": 4040}, \"4041\": {\"frequency\": 17, \"value\": 4041}, \"4042\": {\"frequency\": 5, \"value\": 4042}, \"4043\": {\"frequency\": 4, \"value\": 4043}, \"4044\": {\"frequency\": 4, \"value\": 4044}, \"4045\": {\"frequency\": 3, \"value\": 4045}, \"4046\": {\"frequency\": 7, \"value\": 4046}, \"4047\": {\"frequency\": 3, \"value\": 4047}, \"4048\": {\"frequency\": 6, \"value\": 4048}, \"4050\": {\"frequency\": 50, \"value\": 4050}, \"4051\": {\"frequency\": 4, \"value\": 4051}, \"4052\": {\"frequency\": 7, \"value\": 4052}, \"4053\": {\"frequency\": 5, \"value\": 4053}, \"4054\": {\"frequency\": 10, \"value\": 4054}, \"4055\": {\"frequency\": 4, \"value\": 4055}, \"4056\": {\"frequency\": 8, \"value\": 4056}, \"4057\": {\"frequency\": 2, \"value\": 4057}, \"4058\": {\"frequency\": 7, \"value\": 4058}, \"4060\": {\"frequency\": 16, \"value\": 4060}, \"4061\": {\"frequency\": 7, \"value\": 4061}, \"4062\": {\"frequency\": 4, \"value\": 4062}, \"4064\": {\"frequency\": 9, \"value\": 4064}, \"4066\": {\"frequency\": 15, \"value\": 4066}, \"4067\": {\"frequency\": 8, \"value\": 4067}, \"4068\": {\"frequency\": 8, \"value\": 4068}, \"4070\": {\"frequency\": 9, \"value\": 4070}, \"4071\": {\"frequency\": 3, \"value\": 4071}, \"4072\": {\"frequency\": 4, \"value\": 4072}, \"4073\": {\"frequency\": 5, \"value\": 4073}, \"4074\": {\"frequency\": 9, \"value\": 4074}, \"4075\": {\"frequency\": 12, \"value\": 4075}, \"4076\": {\"frequency\": 13, \"value\": 4076}, \"4077\": {\"frequency\": 5, \"value\": 4077}, \"4078\": {\"frequency\": 7, \"value\": 4078}, \"4079\": {\"frequency\": 6, \"value\": 4079}, \"4080\": {\"frequency\": 22, \"value\": 4080}, \"4081\": {\"frequency\": 6, \"value\": 4081}, \"4082\": {\"frequency\": 6, \"value\": 4082}, \"4083\": {\"frequency\": 95, \"value\": 4083}, \"4084\": {\"frequency\": 8, \"value\": 4084}, \"4085\": {\"frequency\": 6, \"value\": 4085}, \"4086\": {\"frequency\": 10, \"value\": 4086}, \"4087\": {\"frequency\": 4, \"value\": 4087}, \"4088\": {\"frequency\": 4, \"value\": 4088}, \"4089\": {\"frequency\": 4, \"value\": 4089}, \"4090\": {\"frequency\": 8, \"value\": 4090}, \"4091\": {\"frequency\": 6, \"value\": 4091}, \"4092\": {\"frequency\": 4, \"value\": 4092}, \"4094\": {\"frequency\": 7, \"value\": 4094}, \"4095\": {\"frequency\": 3, \"value\": 4095}, \"4096\": {\"frequency\": 6, \"value\": 4096}, \"4097\": {\"frequency\": 8, \"value\": 4097}, \"4098\": {\"frequency\": 5, \"value\": 4098}, \"4099\": {\"frequency\": 3, \"value\": 4099}, \"4100\": {\"frequency\": 353, \"value\": 4100}, \"4101\": {\"frequency\": 7, \"value\": 4101}, \"4102\": {\"frequency\": 4, \"value\": 4102}, \"4104\": {\"frequency\": 11, \"value\": 4104}, \"4105\": {\"frequency\": 3, \"value\": 4105}, \"4106\": {\"frequency\": 6, \"value\": 4106}, \"4107\": {\"frequency\": 5, \"value\": 4107}, \"4108\": {\"frequency\": 8, \"value\": 4108}, \"4109\": {\"frequency\": 6, \"value\": 4109}, \"4110\": {\"frequency\": 10, \"value\": 4110}, \"4111\": {\"frequency\": 4, \"value\": 4111}, \"4112\": {\"frequency\": 7, \"value\": 4112}, \"4114\": {\"frequency\": 5, \"value\": 4114}, \"4115\": {\"frequency\": 6, \"value\": 4115}, \"4116\": {\"frequency\": 15, \"value\": 4116}, \"4117\": {\"frequency\": 9, \"value\": 4117}, \"4118\": {\"frequency\": 5, \"value\": 4118}, \"4120\": {\"frequency\": 21, \"value\": 4120}, \"4123\": {\"frequency\": 3, \"value\": 4123}, \"4124\": {\"frequency\": 7, \"value\": 4124}, \"4125\": {\"frequency\": 24, \"value\": 4125}, \"4128\": {\"frequency\": 5, \"value\": 4128}, \"4129\": {\"frequency\": 5, \"value\": 4129}, \"4130\": {\"frequency\": 8, \"value\": 4130}, \"4131\": {\"frequency\": 4, \"value\": 4131}, \"4132\": {\"frequency\": 8, \"value\": 4132}, \"4133\": {\"frequency\": 13, \"value\": 4133}, \"4134\": {\"frequency\": 8, \"value\": 4134}, \"4135\": {\"frequency\": 8, \"value\": 4135}, \"4136\": {\"frequency\": 4, \"value\": 4136}, \"4138\": {\"frequency\": 9, \"value\": 4138}, \"4139\": {\"frequency\": 6, \"value\": 4139}, \"4140\": {\"frequency\": 10, \"value\": 4140}, \"4141\": {\"frequency\": 8, \"value\": 4141}, \"4142\": {\"frequency\": 9, \"value\": 4142}, \"4143\": {\"frequency\": 1, \"value\": 4143}, \"4144\": {\"frequency\": 6, \"value\": 4144}, \"4145\": {\"frequency\": 11, \"value\": 4145}, \"4146\": {\"frequency\": 5, \"value\": 4146}, \"4147\": {\"frequency\": 3, \"value\": 4147}, \"4148\": {\"frequency\": 3, \"value\": 4148}, \"4149\": {\"frequency\": 3, \"value\": 4149}, \"4150\": {\"frequency\": 53, \"value\": 4150}, \"4151\": {\"frequency\": 6, \"value\": 4151}, \"4152\": {\"frequency\": 4, \"value\": 4152}, \"4153\": {\"frequency\": 6, \"value\": 4153}, \"4154\": {\"frequency\": 6, \"value\": 4154}, \"4155\": {\"frequency\": 2, \"value\": 4155}, \"4156\": {\"frequency\": 6, \"value\": 4156}, \"4157\": {\"frequency\": 5, \"value\": 4157}, \"4158\": {\"frequency\": 6, \"value\": 4158}, \"4159\": {\"frequency\": 5, \"value\": 4159}, \"4160\": {\"frequency\": 41, \"value\": 4160}, \"4161\": {\"frequency\": 5, \"value\": 4161}, \"4162\": {\"frequency\": 3, \"value\": 4162}, \"4163\": {\"frequency\": 6, \"value\": 4163}, \"4164\": {\"frequency\": 9, \"value\": 4164}, \"4165\": {\"frequency\": 5, \"value\": 4165}, \"4166\": {\"frequency\": 554, \"value\": 4166}, \"4167\": {\"frequency\": 100, \"value\": 4167}, \"4168\": {\"frequency\": 5, \"value\": 4168}, \"4170\": {\"frequency\": 17, \"value\": 4170}, \"4171\": {\"frequency\": 3, \"value\": 4171}, \"4172\": {\"frequency\": 6, \"value\": 4172}, \"4173\": {\"frequency\": 9, \"value\": 4173}, \"4174\": {\"frequency\": 5, \"value\": 4174}, \"4175\": {\"frequency\": 16, \"value\": 4175}, \"4176\": {\"frequency\": 5, \"value\": 4176}, \"4178\": {\"frequency\": 8, \"value\": 4178}, \"4179\": {\"frequency\": 3, \"value\": 4179}, \"4180\": {\"frequency\": 7, \"value\": 4180}, \"4181\": {\"frequency\": 7, \"value\": 4181}, \"4182\": {\"frequency\": 4, \"value\": 4182}, \"4183\": {\"frequency\": 13, \"value\": 4183}, \"4184\": {\"frequency\": 4, \"value\": 4184}, \"4185\": {\"frequency\": 6, \"value\": 4185}, \"4186\": {\"frequency\": 7, \"value\": 4186}, \"4187\": {\"frequency\": 7, \"value\": 4187}, \"4188\": {\"frequency\": 3, \"value\": 4188}, \"4189\": {\"frequency\": 6, \"value\": 4189}, \"4190\": {\"frequency\": 4, \"value\": 4190}, \"4191\": {\"frequency\": 6, \"value\": 4191}, \"4192\": {\"frequency\": 4, \"value\": 4192}, \"4194\": {\"frequency\": 5, \"value\": 4194}, \"4195\": {\"frequency\": 9, \"value\": 4195}, \"4198\": {\"frequency\": 6, \"value\": 4198}, \"4199\": {\"frequency\": 3, \"value\": 4199}, \"4200\": {\"frequency\": 569, \"value\": 4200}, \"4201\": {\"frequency\": 11, \"value\": 4201}, \"4202\": {\"frequency\": 2, \"value\": 4202}, \"4203\": {\"frequency\": 5, \"value\": 4203}, \"4204\": {\"frequency\": 2, \"value\": 4204}, \"4205\": {\"frequency\": 7, \"value\": 4205}, \"4206\": {\"frequency\": 6, \"value\": 4206}, \"4207\": {\"frequency\": 6, \"value\": 4207}, \"4208\": {\"frequency\": 9, \"value\": 4208}, \"4209\": {\"frequency\": 5, \"value\": 4209}, \"4210\": {\"frequency\": 6, \"value\": 4210}, \"4211\": {\"frequency\": 7, \"value\": 4211}, \"4212\": {\"frequency\": 4, \"value\": 4212}, \"4213\": {\"frequency\": 7, \"value\": 4213}, \"4214\": {\"frequency\": 3, \"value\": 4214}, \"4216\": {\"frequency\": 16, \"value\": 4216}, \"4217\": {\"frequency\": 7, \"value\": 4217}, \"4218\": {\"frequency\": 7, \"value\": 4218}, \"4219\": {\"frequency\": 4, \"value\": 4219}, \"4220\": {\"frequency\": 10, \"value\": 4220}, \"4221\": {\"frequency\": 5, \"value\": 4221}, \"4222\": {\"frequency\": 7, \"value\": 4222}, \"4224\": {\"frequency\": 5, \"value\": 4224}, \"4225\": {\"frequency\": 9, \"value\": 4225}, \"4226\": {\"frequency\": 5, \"value\": 4226}, \"4227\": {\"frequency\": 4, \"value\": 4227}, \"4228\": {\"frequency\": 4, \"value\": 4228}, \"4229\": {\"frequency\": 6, \"value\": 4229}, \"4230\": {\"frequency\": 19, \"value\": 4230}, \"4231\": {\"frequency\": 5, \"value\": 4231}, \"37000\": {\"frequency\": 8, \"value\": 37000}, \"4233\": {\"frequency\": 7, \"value\": 4233}, \"4234\": {\"frequency\": 4, \"value\": 4234}, \"4235\": {\"frequency\": 6, \"value\": 4235}, \"4236\": {\"frequency\": 5, \"value\": 4236}, \"4237\": {\"frequency\": 5, \"value\": 4237}, \"4238\": {\"frequency\": 8, \"value\": 4238}, \"4240\": {\"frequency\": 15, \"value\": 4240}, \"4241\": {\"frequency\": 9, \"value\": 4241}, \"4242\": {\"frequency\": 5, \"value\": 4242}, \"4243\": {\"frequency\": 6, \"value\": 4243}, \"4244\": {\"frequency\": 5, \"value\": 4244}, \"4245\": {\"frequency\": 9, \"value\": 4245}, \"4246\": {\"frequency\": 13, \"value\": 4246}, \"4247\": {\"frequency\": 3, \"value\": 4247}, \"4248\": {\"frequency\": 5, \"value\": 4248}, \"4249\": {\"frequency\": 5, \"value\": 4249}, \"4250\": {\"frequency\": 192, \"value\": 4250}, \"4251\": {\"frequency\": 7, \"value\": 4251}, \"4252\": {\"frequency\": 4, \"value\": 4252}, \"4253\": {\"frequency\": 6, \"value\": 4253}, \"4254\": {\"frequency\": 7, \"value\": 4254}, \"4255\": {\"frequency\": 6, \"value\": 4255}, \"4256\": {\"frequency\": 12, \"value\": 4256}, \"4257\": {\"frequency\": 4, \"value\": 4257}, \"4258\": {\"frequency\": 8, \"value\": 4258}, \"4260\": {\"frequency\": 13, \"value\": 4260}, \"4261\": {\"frequency\": 3, \"value\": 4261}, \"4262\": {\"frequency\": 4, \"value\": 4262}, \"4263\": {\"frequency\": 6, \"value\": 4263}, \"4264\": {\"frequency\": 6, \"value\": 4264}, \"4265\": {\"frequency\": 5, \"value\": 4265}, \"4266\": {\"frequency\": 24, \"value\": 4266}, \"4267\": {\"frequency\": 3, \"value\": 4267}, \"4268\": {\"frequency\": 4, \"value\": 4268}, \"4269\": {\"frequency\": 4, \"value\": 4269}, \"4270\": {\"frequency\": 10, \"value\": 4270}, \"4272\": {\"frequency\": 6, \"value\": 4272}, \"4273\": {\"frequency\": 5, \"value\": 4273}, \"4274\": {\"frequency\": 6, \"value\": 4274}, \"4275\": {\"frequency\": 6, \"value\": 4275}, \"4276\": {\"frequency\": 4, \"value\": 4276}, \"4277\": {\"frequency\": 5, \"value\": 4277}, \"4278\": {\"frequency\": 6, \"value\": 4278}, \"4279\": {\"frequency\": 5, \"value\": 4279}, \"4280\": {\"frequency\": 14, \"value\": 4280}, \"4281\": {\"frequency\": 2, \"value\": 4281}, \"4282\": {\"frequency\": 5, \"value\": 4282}, \"4283\": {\"frequency\": 12, \"value\": 4283}, \"4284\": {\"frequency\": 6, \"value\": 4284}, \"4287\": {\"frequency\": 3, \"value\": 4287}, \"4290\": {\"frequency\": 11, \"value\": 4290}, \"4291\": {\"frequency\": 19, \"value\": 4291}, \"4292\": {\"frequency\": 5, \"value\": 4292}, \"4293\": {\"frequency\": 2, \"value\": 4293}, \"4295\": {\"frequency\": 3, \"value\": 4295}, \"4296\": {\"frequency\": 4, \"value\": 4296}, \"4297\": {\"frequency\": 12, \"value\": 4297}, \"4299\": {\"frequency\": 7, \"value\": 4299}, \"4300\": {\"frequency\": 364, \"value\": 4300}, \"4301\": {\"frequency\": 4, \"value\": 4301}, \"4302\": {\"frequency\": 12, \"value\": 4302}, \"4303\": {\"frequency\": 4, \"value\": 4303}, \"4304\": {\"frequency\": 7, \"value\": 4304}, \"4305\": {\"frequency\": 5, \"value\": 4305}, \"4306\": {\"frequency\": 4, \"value\": 4306}, \"4307\": {\"frequency\": 4, \"value\": 4307}, \"4308\": {\"frequency\": 6, \"value\": 4308}, \"4309\": {\"frequency\": 5, \"value\": 4309}, \"4310\": {\"frequency\": 10, \"value\": 4310}, \"4311\": {\"frequency\": 6, \"value\": 4311}, \"4312\": {\"frequency\": 4, \"value\": 4312}, \"4314\": {\"frequency\": 4, \"value\": 4314}, \"4315\": {\"frequency\": 2, \"value\": 4315}, \"4316\": {\"frequency\": 14, \"value\": 4316}, \"4317\": {\"frequency\": 6, \"value\": 4317}, \"4318\": {\"frequency\": 3, \"value\": 4318}, \"4319\": {\"frequency\": 3, \"value\": 4319}, \"4320\": {\"frequency\": 13, \"value\": 4320}, \"4321\": {\"frequency\": 4, \"value\": 4321}, \"4322\": {\"frequency\": 12, \"value\": 4322}, \"4323\": {\"frequency\": 8, \"value\": 4323}, \"4324\": {\"frequency\": 5, \"value\": 4324}, \"4325\": {\"frequency\": 11, \"value\": 4325}, \"4327\": {\"frequency\": 4, \"value\": 4327}, \"4328\": {\"frequency\": 6, \"value\": 4328}, \"4330\": {\"frequency\": 16, \"value\": 4330}, \"4331\": {\"frequency\": 7, \"value\": 4331}, \"4332\": {\"frequency\": 6, \"value\": 4332}, \"4333\": {\"frequency\": 232, \"value\": 4333}, \"4334\": {\"frequency\": 12, \"value\": 4334}, \"4335\": {\"frequency\": 9, \"value\": 4335}, \"4337\": {\"frequency\": 5, \"value\": 4337}, \"4338\": {\"frequency\": 9, \"value\": 4338}, \"4339\": {\"frequency\": 8, \"value\": 4339}, \"4340\": {\"frequency\": 15, \"value\": 4340}, \"4341\": {\"frequency\": 3, \"value\": 4341}, \"4342\": {\"frequency\": 8, \"value\": 4342}, \"4343\": {\"frequency\": 8, \"value\": 4343}, \"4344\": {\"frequency\": 5, \"value\": 4344}, \"4345\": {\"frequency\": 8, \"value\": 4345}, \"4346\": {\"frequency\": 8, \"value\": 4346}, \"4347\": {\"frequency\": 6, \"value\": 4347}, \"4348\": {\"frequency\": 2, \"value\": 4348}, \"4349\": {\"frequency\": 5, \"value\": 4349}, \"4350\": {\"frequency\": 72, \"value\": 4350}, \"4351\": {\"frequency\": 3, \"value\": 4351}, \"4352\": {\"frequency\": 4, \"value\": 4352}, \"4353\": {\"frequency\": 4, \"value\": 4353}, \"4355\": {\"frequency\": 8, \"value\": 4355}, \"4356\": {\"frequency\": 5, \"value\": 4356}, \"4358\": {\"frequency\": 8, \"value\": 4358}, \"4359\": {\"frequency\": 5, \"value\": 4359}, \"4360\": {\"frequency\": 13, \"value\": 4360}, \"4361\": {\"frequency\": 6, \"value\": 4361}, \"4362\": {\"frequency\": 5, \"value\": 4362}, \"4363\": {\"frequency\": 6, \"value\": 4363}, \"4364\": {\"frequency\": 4, \"value\": 4364}, \"4365\": {\"frequency\": 6, \"value\": 4365}, \"4366\": {\"frequency\": 12, \"value\": 4366}, \"4367\": {\"frequency\": 6, \"value\": 4367}, \"4368\": {\"frequency\": 8, \"value\": 4368}, \"4369\": {\"frequency\": 7, \"value\": 4369}, \"4370\": {\"frequency\": 4, \"value\": 4370}, \"4372\": {\"frequency\": 3, \"value\": 4372}, \"4373\": {\"frequency\": 4, \"value\": 4373}, \"4374\": {\"frequency\": 4, \"value\": 4374}, \"4375\": {\"frequency\": 37, \"value\": 4375}, \"4376\": {\"frequency\": 4, \"value\": 4376}, \"4377\": {\"frequency\": 3, \"value\": 4377}, \"4378\": {\"frequency\": 8, \"value\": 4378}, \"4379\": {\"frequency\": 10, \"value\": 4379}, \"4380\": {\"frequency\": 16, \"value\": 4380}, \"4382\": {\"frequency\": 5, \"value\": 4382}, \"4383\": {\"frequency\": 7, \"value\": 4383}, \"4384\": {\"frequency\": 5, \"value\": 4384}, \"4385\": {\"frequency\": 4, \"value\": 4385}, \"4387\": {\"frequency\": 3, \"value\": 4387}, \"4388\": {\"frequency\": 8, \"value\": 4388}, \"4389\": {\"frequency\": 4, \"value\": 4389}, \"4390\": {\"frequency\": 12, \"value\": 4390}, \"4391\": {\"frequency\": 2, \"value\": 4391}, \"4392\": {\"frequency\": 5, \"value\": 4392}, \"4393\": {\"frequency\": 4, \"value\": 4393}, \"4395\": {\"frequency\": 6, \"value\": 4395}, \"4396\": {\"frequency\": 8, \"value\": 4396}, \"4398\": {\"frequency\": 6, \"value\": 4398}, \"4399\": {\"frequency\": 7, \"value\": 4399}, \"4400\": {\"frequency\": 340, \"value\": 4400}, \"4401\": {\"frequency\": 6, \"value\": 4401}, \"4404\": {\"frequency\": 5, \"value\": 4404}, \"4405\": {\"frequency\": 4, \"value\": 4405}, \"4406\": {\"frequency\": 3, \"value\": 4406}, \"4407\": {\"frequency\": 4, \"value\": 4407}, \"4408\": {\"frequency\": 3, \"value\": 4408}, \"4410\": {\"frequency\": 11, \"value\": 4410}, \"4411\": {\"frequency\": 5, \"value\": 4411}, \"4412\": {\"frequency\": 4, \"value\": 4412}, \"4414\": {\"frequency\": 3, \"value\": 4414}, \"4415\": {\"frequency\": 8, \"value\": 4415}, \"4416\": {\"frequency\": 115, \"value\": 4416}, \"4417\": {\"frequency\": 21, \"value\": 4417}, \"4419\": {\"frequency\": 5, \"value\": 4419}, \"4420\": {\"frequency\": 16, \"value\": 4420}, \"4421\": {\"frequency\": 3, \"value\": 4421}, \"4423\": {\"frequency\": 4, \"value\": 4423}, \"4424\": {\"frequency\": 5, \"value\": 4424}, \"4425\": {\"frequency\": 13, \"value\": 4425}, \"4426\": {\"frequency\": 4, \"value\": 4426}, \"4427\": {\"frequency\": 1, \"value\": 4427}, \"4428\": {\"frequency\": 5, \"value\": 4428}, \"4429\": {\"frequency\": 4, \"value\": 4429}, \"4430\": {\"frequency\": 7, \"value\": 4430}, \"4431\": {\"frequency\": 6, \"value\": 4431}, \"4432\": {\"frequency\": 5, \"value\": 4432}, \"4433\": {\"frequency\": 11, \"value\": 4433}, \"4434\": {\"frequency\": 7, \"value\": 4434}, \"4435\": {\"frequency\": 13, \"value\": 4435}, \"4437\": {\"frequency\": 4, \"value\": 4437}, \"4438\": {\"frequency\": 9, \"value\": 4438}, \"4439\": {\"frequency\": 2, \"value\": 4439}, \"4440\": {\"frequency\": 16, \"value\": 4440}, \"4442\": {\"frequency\": 10, \"value\": 4442}, \"4443\": {\"frequency\": 8, \"value\": 4443}, \"4444\": {\"frequency\": 8, \"value\": 4444}, \"4445\": {\"frequency\": 3, \"value\": 4445}, \"4446\": {\"frequency\": 8, \"value\": 4446}, \"4448\": {\"frequency\": 7, \"value\": 4448}, \"4450\": {\"frequency\": 39, \"value\": 4450}, \"4452\": {\"frequency\": 6, \"value\": 4452}, \"4453\": {\"frequency\": 3, \"value\": 4453}, \"4454\": {\"frequency\": 7, \"value\": 4454}, \"4455\": {\"frequency\": 8, \"value\": 4455}, \"4456\": {\"frequency\": 4, \"value\": 4456}, \"4458\": {\"frequency\": 18, \"value\": 4458}, \"4459\": {\"frequency\": 4, \"value\": 4459}, \"4460\": {\"frequency\": 12, \"value\": 4460}, \"4462\": {\"frequency\": 3, \"value\": 4462}, \"4464\": {\"frequency\": 4, \"value\": 4464}, \"4465\": {\"frequency\": 2, \"value\": 4465}, \"4466\": {\"frequency\": 12, \"value\": 4466}, \"4467\": {\"frequency\": 10, \"value\": 4467}, \"4468\": {\"frequency\": 8, \"value\": 4468}, \"4470\": {\"frequency\": 7, \"value\": 4470}, \"4471\": {\"frequency\": 5, \"value\": 4471}, \"4472\": {\"frequency\": 3, \"value\": 4472}, \"4473\": {\"frequency\": 6, \"value\": 4473}, \"4474\": {\"frequency\": 5, \"value\": 4474}, \"4475\": {\"frequency\": 8, \"value\": 4475}, \"4476\": {\"frequency\": 4, \"value\": 4476}, \"4477\": {\"frequency\": 6, \"value\": 4477}, \"4478\": {\"frequency\": 5, \"value\": 4478}, \"4479\": {\"frequency\": 6, \"value\": 4479}, \"4480\": {\"frequency\": 18, \"value\": 4480}, \"4481\": {\"frequency\": 5, \"value\": 4481}, \"37250\": {\"frequency\": 1, \"value\": 37250}, \"4483\": {\"frequency\": 10, \"value\": 4483}, \"4484\": {\"frequency\": 8, \"value\": 4484}, \"4485\": {\"frequency\": 4, \"value\": 4485}, \"4486\": {\"frequency\": 4, \"value\": 4486}, \"4487\": {\"frequency\": 4, \"value\": 4487}, \"4488\": {\"frequency\": 9, \"value\": 4488}, \"4489\": {\"frequency\": 2, \"value\": 4489}, \"4490\": {\"frequency\": 10, \"value\": 4490}, \"4492\": {\"frequency\": 5, \"value\": 4492}, \"4493\": {\"frequency\": 4, \"value\": 4493}, \"4495\": {\"frequency\": 4, \"value\": 4495}, \"4496\": {\"frequency\": 7, \"value\": 4496}, \"4497\": {\"frequency\": 6, \"value\": 4497}, \"4499\": {\"frequency\": 12, \"value\": 4499}, \"4500\": {\"frequency\": 1226, \"value\": 4500}, \"4501\": {\"frequency\": 15, \"value\": 4501}, \"4502\": {\"frequency\": 3, \"value\": 4502}, \"4503\": {\"frequency\": 4, \"value\": 4503}, \"4505\": {\"frequency\": 6, \"value\": 4505}, \"4506\": {\"frequency\": 11, \"value\": 4506}, \"4507\": {\"frequency\": 3, \"value\": 4507}, \"4508\": {\"frequency\": 7, \"value\": 4508}, \"4509\": {\"frequency\": 6, \"value\": 4509}, \"4510\": {\"frequency\": 5, \"value\": 4510}, \"4511\": {\"frequency\": 3, \"value\": 4511}, \"4512\": {\"frequency\": 7, \"value\": 4512}, \"4513\": {\"frequency\": 7, \"value\": 4513}, \"4514\": {\"frequency\": 3, \"value\": 4514}, \"4515\": {\"frequency\": 9, \"value\": 4515}, \"4516\": {\"frequency\": 10, \"value\": 4516}, \"4518\": {\"frequency\": 6, \"value\": 4518}, \"4519\": {\"frequency\": 4, \"value\": 4519}, \"4520\": {\"frequency\": 9, \"value\": 4520}, \"4521\": {\"frequency\": 2, \"value\": 4521}, \"4522\": {\"frequency\": 7, \"value\": 4522}, \"4523\": {\"frequency\": 5, \"value\": 4523}, \"4524\": {\"frequency\": 4, \"value\": 4524}, \"4525\": {\"frequency\": 16, \"value\": 4525}, \"4526\": {\"frequency\": 5, \"value\": 4526}, \"4527\": {\"frequency\": 6, \"value\": 4527}, \"4528\": {\"frequency\": 4, \"value\": 4528}, \"4530\": {\"frequency\": 10, \"value\": 4530}, \"4531\": {\"frequency\": 3, \"value\": 4531}, \"4532\": {\"frequency\": 5, \"value\": 4532}, \"4533\": {\"frequency\": 19, \"value\": 4533}, \"4534\": {\"frequency\": 4, \"value\": 4534}, \"4535\": {\"frequency\": 5, \"value\": 4535}, \"4536\": {\"frequency\": 7, \"value\": 4536}, \"4537\": {\"frequency\": 5, \"value\": 4537}, \"4538\": {\"frequency\": 5, \"value\": 4538}, \"4539\": {\"frequency\": 6, \"value\": 4539}, \"4540\": {\"frequency\": 9, \"value\": 4540}, \"4541\": {\"frequency\": 7, \"value\": 4541}, \"4542\": {\"frequency\": 8, \"value\": 4542}, \"4543\": {\"frequency\": 6, \"value\": 4543}, \"4545\": {\"frequency\": 6, \"value\": 4545}, \"4546\": {\"frequency\": 5, \"value\": 4546}, \"4547\": {\"frequency\": 4, \"value\": 4547}, \"4548\": {\"frequency\": 2, \"value\": 4548}, \"4549\": {\"frequency\": 5, \"value\": 4549}, \"4550\": {\"frequency\": 60, \"value\": 4550}, \"4551\": {\"frequency\": 4, \"value\": 4551}, \"4554\": {\"frequency\": 3, \"value\": 4554}, \"4555\": {\"frequency\": 6, \"value\": 4555}, \"4558\": {\"frequency\": 8, \"value\": 4558}, \"4560\": {\"frequency\": 16, \"value\": 4560}, \"4562\": {\"frequency\": 4, \"value\": 4562}, \"4565\": {\"frequency\": 8, \"value\": 4565}, \"4566\": {\"frequency\": 19, \"value\": 4566}, \"4567\": {\"frequency\": 3, \"value\": 4567}, \"4568\": {\"frequency\": 7, \"value\": 4568}, \"4569\": {\"frequency\": 4, \"value\": 4569}, \"4570\": {\"frequency\": 9, \"value\": 4570}, \"4571\": {\"frequency\": 5, \"value\": 4571}, \"4572\": {\"frequency\": 4, \"value\": 4572}, \"4573\": {\"frequency\": 3, \"value\": 4573}, \"4574\": {\"frequency\": 3, \"value\": 4574}, \"4575\": {\"frequency\": 14, \"value\": 4575}, \"4576\": {\"frequency\": 6, \"value\": 4576}, \"4577\": {\"frequency\": 8, \"value\": 4577}, \"4578\": {\"frequency\": 5, \"value\": 4578}, \"4579\": {\"frequency\": 5, \"value\": 4579}, \"4580\": {\"frequency\": 26, \"value\": 4580}, \"4581\": {\"frequency\": 4, \"value\": 4581}, \"4582\": {\"frequency\": 7, \"value\": 4582}, \"4583\": {\"frequency\": 337, \"value\": 4583}, \"4584\": {\"frequency\": 24, \"value\": 4584}, \"4585\": {\"frequency\": 15, \"value\": 4585}, \"4586\": {\"frequency\": 6, \"value\": 4586}, \"4587\": {\"frequency\": 5, \"value\": 4587}, \"4588\": {\"frequency\": 8, \"value\": 4588}, \"4589\": {\"frequency\": 6, \"value\": 4589}, \"4590\": {\"frequency\": 5, \"value\": 4590}, \"4591\": {\"frequency\": 6, \"value\": 4591}, \"4593\": {\"frequency\": 5, \"value\": 4593}, \"4594\": {\"frequency\": 7, \"value\": 4594}, \"4595\": {\"frequency\": 7, \"value\": 4595}, \"4596\": {\"frequency\": 9, \"value\": 4596}, \"4597\": {\"frequency\": 7, \"value\": 4597}, \"4598\": {\"frequency\": 4, \"value\": 4598}, \"4599\": {\"frequency\": 4, \"value\": 4599}, \"4600\": {\"frequency\": 361, \"value\": 4600}, \"4602\": {\"frequency\": 4, \"value\": 4602}, \"4603\": {\"frequency\": 5, \"value\": 4603}, \"4605\": {\"frequency\": 7, \"value\": 4605}, \"4606\": {\"frequency\": 6, \"value\": 4606}, \"4607\": {\"frequency\": 5, \"value\": 4607}, \"4608\": {\"frequency\": 6, \"value\": 4608}, \"4610\": {\"frequency\": 7, \"value\": 4610}, \"4611\": {\"frequency\": 5, \"value\": 4611}, \"4612\": {\"frequency\": 6, \"value\": 4612}, \"4613\": {\"frequency\": 7, \"value\": 4613}, \"4614\": {\"frequency\": 7, \"value\": 4614}, \"4615\": {\"frequency\": 7, \"value\": 4615}, \"4616\": {\"frequency\": 14, \"value\": 4616}, \"4618\": {\"frequency\": 4, \"value\": 4618}, \"4620\": {\"frequency\": 8, \"value\": 4620}, \"4621\": {\"frequency\": 6, \"value\": 4621}, \"4622\": {\"frequency\": 2, \"value\": 4622}, \"4623\": {\"frequency\": 2, \"value\": 4623}, \"4624\": {\"frequency\": 7, \"value\": 4624}, \"4625\": {\"frequency\": 16, \"value\": 4625}, \"4626\": {\"frequency\": 6, \"value\": 4626}, \"4627\": {\"frequency\": 3, \"value\": 4627}, \"4628\": {\"frequency\": 3, \"value\": 4628}, \"4630\": {\"frequency\": 10, \"value\": 4630}, \"4631\": {\"frequency\": 5, \"value\": 4631}, \"4632\": {\"frequency\": 7, \"value\": 4632}, \"4633\": {\"frequency\": 15, \"value\": 4633}, \"4634\": {\"frequency\": 3, \"value\": 4634}, \"4635\": {\"frequency\": 9, \"value\": 4635}, \"4636\": {\"frequency\": 1, \"value\": 4636}, \"4637\": {\"frequency\": 3, \"value\": 4637}, \"4639\": {\"frequency\": 4, \"value\": 4639}, \"4640\": {\"frequency\": 15, \"value\": 4640}, \"4641\": {\"frequency\": 6, \"value\": 4641}, \"4642\": {\"frequency\": 9, \"value\": 4642}, \"4643\": {\"frequency\": 5, \"value\": 4643}, \"4644\": {\"frequency\": 5, \"value\": 4644}, \"4645\": {\"frequency\": 7, \"value\": 4645}, \"4646\": {\"frequency\": 9, \"value\": 4646}, \"4647\": {\"frequency\": 3, \"value\": 4647}, \"4650\": {\"frequency\": 39, \"value\": 4650}, \"4651\": {\"frequency\": 4, \"value\": 4651}, \"4652\": {\"frequency\": 5, \"value\": 4652}, \"4653\": {\"frequency\": 5, \"value\": 4653}, \"4654\": {\"frequency\": 6, \"value\": 4654}, \"4655\": {\"frequency\": 3, \"value\": 4655}, \"4656\": {\"frequency\": 7, \"value\": 4656}, \"4657\": {\"frequency\": 3, \"value\": 4657}, \"4658\": {\"frequency\": 5, \"value\": 4658}, \"4659\": {\"frequency\": 4, \"value\": 4659}, \"4660\": {\"frequency\": 9, \"value\": 4660}, \"4661\": {\"frequency\": 6, \"value\": 4661}, \"4662\": {\"frequency\": 9, \"value\": 4662}, \"4663\": {\"frequency\": 6, \"value\": 4663}, \"4664\": {\"frequency\": 7, \"value\": 4664}, \"4665\": {\"frequency\": 9, \"value\": 4665}, \"4666\": {\"frequency\": 148, \"value\": 4666}, \"4667\": {\"frequency\": 32, \"value\": 4667}, \"4668\": {\"frequency\": 7, \"value\": 4668}, \"4670\": {\"frequency\": 8, \"value\": 4670}, \"4671\": {\"frequency\": 5, \"value\": 4671}, \"4672\": {\"frequency\": 6, \"value\": 4672}, \"4673\": {\"frequency\": 4, \"value\": 4673}, \"4674\": {\"frequency\": 4, \"value\": 4674}, \"4675\": {\"frequency\": 15, \"value\": 4675}, \"4676\": {\"frequency\": 8, \"value\": 4676}, \"4677\": {\"frequency\": 5, \"value\": 4677}, \"4678\": {\"frequency\": 3, \"value\": 4678}, \"4679\": {\"frequency\": 8, \"value\": 4679}, \"4680\": {\"frequency\": 16, \"value\": 4680}, \"4682\": {\"frequency\": 4, \"value\": 4682}, \"4683\": {\"frequency\": 13, \"value\": 4683}, \"4684\": {\"frequency\": 4, \"value\": 4684}, \"4685\": {\"frequency\": 4, \"value\": 4685}, \"4687\": {\"frequency\": 8, \"value\": 4687}, \"4688\": {\"frequency\": 6, \"value\": 4688}, \"4689\": {\"frequency\": 4, \"value\": 4689}, \"4690\": {\"frequency\": 11, \"value\": 4690}, \"4691\": {\"frequency\": 9, \"value\": 4691}, \"4693\": {\"frequency\": 5, \"value\": 4693}, \"4694\": {\"frequency\": 7, \"value\": 4694}, \"4695\": {\"frequency\": 8, \"value\": 4695}, \"4696\": {\"frequency\": 3, \"value\": 4696}, \"4697\": {\"frequency\": 14, \"value\": 4697}, \"4698\": {\"frequency\": 5, \"value\": 4698}, \"4699\": {\"frequency\": 5, \"value\": 4699}, \"4700\": {\"frequency\": 281, \"value\": 4700}, \"4701\": {\"frequency\": 11, \"value\": 4701}, \"4702\": {\"frequency\": 4, \"value\": 4702}, \"4703\": {\"frequency\": 3, \"value\": 4703}, \"4705\": {\"frequency\": 7, \"value\": 4705}, \"4706\": {\"frequency\": 10, \"value\": 4706}, \"4707\": {\"frequency\": 4, \"value\": 4707}, \"4708\": {\"frequency\": 15, \"value\": 4708}, \"4709\": {\"frequency\": 5, \"value\": 4709}, \"4710\": {\"frequency\": 9, \"value\": 4710}, \"4712\": {\"frequency\": 6, \"value\": 4712}, \"4713\": {\"frequency\": 3, \"value\": 4713}, \"4714\": {\"frequency\": 5, \"value\": 4714}, \"4715\": {\"frequency\": 5, \"value\": 4715}, \"4716\": {\"frequency\": 19, \"value\": 4716}, \"4718\": {\"frequency\": 6, \"value\": 4718}, \"4720\": {\"frequency\": 13, \"value\": 4720}, \"4722\": {\"frequency\": 7, \"value\": 4722}, \"4723\": {\"frequency\": 2, \"value\": 4723}, \"4725\": {\"frequency\": 20, \"value\": 4725}, \"4726\": {\"frequency\": 6, \"value\": 4726}, \"4727\": {\"frequency\": 3, \"value\": 4727}, \"4728\": {\"frequency\": 9, \"value\": 4728}, \"4730\": {\"frequency\": 8, \"value\": 4730}, \"4731\": {\"frequency\": 5, \"value\": 4731}, \"4732\": {\"frequency\": 3, \"value\": 4732}, \"4733\": {\"frequency\": 18, \"value\": 4733}, \"4734\": {\"frequency\": 7, \"value\": 4734}, \"4735\": {\"frequency\": 7, \"value\": 4735}, \"4736\": {\"frequency\": 8, \"value\": 4736}, \"4737\": {\"frequency\": 5, \"value\": 4737}, \"4738\": {\"frequency\": 5, \"value\": 4738}, \"4739\": {\"frequency\": 3, \"value\": 4739}, \"4740\": {\"frequency\": 6, \"value\": 4740}, \"4741\": {\"frequency\": 11, \"value\": 4741}, \"4742\": {\"frequency\": 3, \"value\": 4742}, \"4743\": {\"frequency\": 5, \"value\": 4743}, \"4745\": {\"frequency\": 6, \"value\": 4745}, \"4747\": {\"frequency\": 4, \"value\": 4747}, \"4748\": {\"frequency\": 4, \"value\": 4748}, \"4749\": {\"frequency\": 16, \"value\": 4749}, \"4750\": {\"frequency\": 181, \"value\": 4750}, \"4751\": {\"frequency\": 7, \"value\": 4751}, \"4752\": {\"frequency\": 3, \"value\": 4752}, \"4753\": {\"frequency\": 5, \"value\": 4753}, \"4754\": {\"frequency\": 8, \"value\": 4754}, \"4755\": {\"frequency\": 6, \"value\": 4755}, \"4756\": {\"frequency\": 5, \"value\": 4756}, \"4757\": {\"frequency\": 5, \"value\": 4757}, \"4758\": {\"frequency\": 5, \"value\": 4758}, \"4759\": {\"frequency\": 6, \"value\": 4759}, \"4760\": {\"frequency\": 9, \"value\": 4760}, \"4761\": {\"frequency\": 6, \"value\": 4761}, \"4762\": {\"frequency\": 6, \"value\": 4762}, \"4763\": {\"frequency\": 2, \"value\": 4763}, \"4764\": {\"frequency\": 5, \"value\": 4764}, \"4765\": {\"frequency\": 9, \"value\": 4765}, \"4766\": {\"frequency\": 22, \"value\": 4766}, \"4767\": {\"frequency\": 8, \"value\": 4767}, \"4768\": {\"frequency\": 6, \"value\": 4768}, \"4769\": {\"frequency\": 6, \"value\": 4769}, \"4770\": {\"frequency\": 12, \"value\": 4770}, \"4771\": {\"frequency\": 7, \"value\": 4771}, \"4772\": {\"frequency\": 6, \"value\": 4772}, \"4773\": {\"frequency\": 3, \"value\": 4773}, \"4774\": {\"frequency\": 6, \"value\": 4774}, \"4775\": {\"frequency\": 9, \"value\": 4775}, \"4776\": {\"frequency\": 4, \"value\": 4776}, \"4778\": {\"frequency\": 4, \"value\": 4778}, \"4779\": {\"frequency\": 6, \"value\": 4779}, \"4780\": {\"frequency\": 9, \"value\": 4780}, \"4781\": {\"frequency\": 5, \"value\": 4781}, \"4783\": {\"frequency\": 13, \"value\": 4783}, \"4784\": {\"frequency\": 5, \"value\": 4784}, \"4785\": {\"frequency\": 6, \"value\": 4785}, \"4786\": {\"frequency\": 6, \"value\": 4786}, \"4787\": {\"frequency\": 3, \"value\": 4787}, \"4788\": {\"frequency\": 11, \"value\": 4788}, \"4789\": {\"frequency\": 6, \"value\": 4789}, \"4790\": {\"frequency\": 14, \"value\": 4790}, \"4791\": {\"frequency\": 12, \"value\": 4791}, \"4792\": {\"frequency\": 12, \"value\": 4792}, \"4793\": {\"frequency\": 9, \"value\": 4793}, \"4795\": {\"frequency\": 6, \"value\": 4795}, \"4797\": {\"frequency\": 2, \"value\": 4797}, \"4798\": {\"frequency\": 5, \"value\": 4798}, \"4799\": {\"frequency\": 4, \"value\": 4799}, \"4800\": {\"frequency\": 452, \"value\": 4800}, \"4801\": {\"frequency\": 12, \"value\": 4801}, \"4802\": {\"frequency\": 5, \"value\": 4802}, \"4804\": {\"frequency\": 13, \"value\": 4804}, \"4805\": {\"frequency\": 3, \"value\": 4805}, \"4806\": {\"frequency\": 7, \"value\": 4806}, \"4807\": {\"frequency\": 4, \"value\": 4807}, \"4808\": {\"frequency\": 4, \"value\": 4808}, \"4809\": {\"frequency\": 4, \"value\": 4809}, \"4810\": {\"frequency\": 8, \"value\": 4810}, \"4811\": {\"frequency\": 4, \"value\": 4811}, \"4812\": {\"frequency\": 5, \"value\": 4812}, \"4813\": {\"frequency\": 8, \"value\": 4813}, \"4814\": {\"frequency\": 1, \"value\": 4814}, \"4815\": {\"frequency\": 6, \"value\": 4815}, \"4816\": {\"frequency\": 11, \"value\": 4816}, \"4817\": {\"frequency\": 5, \"value\": 4817}, \"4818\": {\"frequency\": 6, \"value\": 4818}, \"4819\": {\"frequency\": 3, \"value\": 4819}, \"4820\": {\"frequency\": 9, \"value\": 4820}, \"4821\": {\"frequency\": 3, \"value\": 4821}, \"4822\": {\"frequency\": 3, \"value\": 4822}, \"4823\": {\"frequency\": 4, \"value\": 4823}, \"4824\": {\"frequency\": 3, \"value\": 4824}, \"4825\": {\"frequency\": 8, \"value\": 4825}, \"4827\": {\"frequency\": 4, \"value\": 4827}, \"4828\": {\"frequency\": 5, \"value\": 4828}, \"4829\": {\"frequency\": 2, \"value\": 4829}, \"4830\": {\"frequency\": 12, \"value\": 4830}, \"4831\": {\"frequency\": 5, \"value\": 4831}, \"4832\": {\"frequency\": 5, \"value\": 4832}, \"4833\": {\"frequency\": 126, \"value\": 4833}, \"4834\": {\"frequency\": 15, \"value\": 4834}, \"4835\": {\"frequency\": 8, \"value\": 4835}, \"4836\": {\"frequency\": 2, \"value\": 4836}, \"4837\": {\"frequency\": 4, \"value\": 4837}, \"4838\": {\"frequency\": 4, \"value\": 4838}, \"4839\": {\"frequency\": 6, \"value\": 4839}, \"4840\": {\"frequency\": 10, \"value\": 4840}, \"4841\": {\"frequency\": 6, \"value\": 4841}, \"4843\": {\"frequency\": 4, \"value\": 4843}, \"4844\": {\"frequency\": 4, \"value\": 4844}, \"4845\": {\"frequency\": 6, \"value\": 4845}, \"4846\": {\"frequency\": 6, \"value\": 4846}, \"4850\": {\"frequency\": 67, \"value\": 4850}, \"4851\": {\"frequency\": 4, \"value\": 4851}, \"4853\": {\"frequency\": 9, \"value\": 4853}, \"4854\": {\"frequency\": 7, \"value\": 4854}, \"4855\": {\"frequency\": 5, \"value\": 4855}, \"4856\": {\"frequency\": 7, \"value\": 4856}, \"4858\": {\"frequency\": 5, \"value\": 4858}, \"4859\": {\"frequency\": 5, \"value\": 4859}, \"4860\": {\"frequency\": 9, \"value\": 4860}, \"4861\": {\"frequency\": 4, \"value\": 4861}, \"4863\": {\"frequency\": 4, \"value\": 4863}, \"4864\": {\"frequency\": 6, \"value\": 4864}, \"4865\": {\"frequency\": 3, \"value\": 4865}, \"4866\": {\"frequency\": 11, \"value\": 4866}, \"4867\": {\"frequency\": 5, \"value\": 4867}, \"4868\": {\"frequency\": 5, \"value\": 4868}, \"4869\": {\"frequency\": 3, \"value\": 4869}, \"4870\": {\"frequency\": 5, \"value\": 4870}, \"4872\": {\"frequency\": 8, \"value\": 4872}, \"4873\": {\"frequency\": 3, \"value\": 4873}, \"4874\": {\"frequency\": 3, \"value\": 4874}, \"4875\": {\"frequency\": 18, \"value\": 4875}, \"4876\": {\"frequency\": 5, \"value\": 4876}, \"4877\": {\"frequency\": 5, \"value\": 4877}, \"4878\": {\"frequency\": 5, \"value\": 4878}, \"4879\": {\"frequency\": 4, \"value\": 4879}, \"4880\": {\"frequency\": 10, \"value\": 4880}, \"4882\": {\"frequency\": 4, \"value\": 4882}, \"4883\": {\"frequency\": 11, \"value\": 4883}, \"4885\": {\"frequency\": 4, \"value\": 4885}, \"4886\": {\"frequency\": 9, \"value\": 4886}, \"4888\": {\"frequency\": 7, \"value\": 4888}, \"4889\": {\"frequency\": 12, \"value\": 4889}, \"4890\": {\"frequency\": 10, \"value\": 4890}, \"4893\": {\"frequency\": 4, \"value\": 4893}, \"4894\": {\"frequency\": 6, \"value\": 4894}, \"4896\": {\"frequency\": 4, \"value\": 4896}, \"4898\": {\"frequency\": 5, \"value\": 4898}, \"4900\": {\"frequency\": 228, \"value\": 4900}, \"4901\": {\"frequency\": 6, \"value\": 4901}, \"4903\": {\"frequency\": 5, \"value\": 4903}, \"4905\": {\"frequency\": 5, \"value\": 4905}, \"4906\": {\"frequency\": 9, \"value\": 4906}, \"4907\": {\"frequency\": 3, \"value\": 4907}, \"4908\": {\"frequency\": 6, \"value\": 4908}, \"4909\": {\"frequency\": 4, \"value\": 4909}, \"4910\": {\"frequency\": 6, \"value\": 4910}, \"4911\": {\"frequency\": 2, \"value\": 4911}, \"4912\": {\"frequency\": 8, \"value\": 4912}, \"4913\": {\"frequency\": 6, \"value\": 4913}, \"4914\": {\"frequency\": 7, \"value\": 4914}, \"4915\": {\"frequency\": 4, \"value\": 4915}, \"4916\": {\"frequency\": 71, \"value\": 4916}, \"4917\": {\"frequency\": 12, \"value\": 4917}, \"4918\": {\"frequency\": 4, \"value\": 4918}, \"4919\": {\"frequency\": 5, \"value\": 4919}, \"4920\": {\"frequency\": 11, \"value\": 4920}, \"4921\": {\"frequency\": 4, \"value\": 4921}, \"4922\": {\"frequency\": 4, \"value\": 4922}, \"4923\": {\"frequency\": 4, \"value\": 4923}, \"4924\": {\"frequency\": 5, \"value\": 4924}, \"4925\": {\"frequency\": 6, \"value\": 4925}, \"4926\": {\"frequency\": 8, \"value\": 4926}, \"4927\": {\"frequency\": 5, \"value\": 4927}, \"4928\": {\"frequency\": 9, \"value\": 4928}, \"4929\": {\"frequency\": 2, \"value\": 4929}, \"4930\": {\"frequency\": 8, \"value\": 4930}, \"4931\": {\"frequency\": 3, \"value\": 4931}, \"4933\": {\"frequency\": 22, \"value\": 4933}, \"4934\": {\"frequency\": 3, \"value\": 4934}, \"4936\": {\"frequency\": 5, \"value\": 4936}, \"4937\": {\"frequency\": 3, \"value\": 4937}, \"4938\": {\"frequency\": 5, \"value\": 4938}, \"4939\": {\"frequency\": 7, \"value\": 4939}, \"4940\": {\"frequency\": 8, \"value\": 4940}, \"4941\": {\"frequency\": 7, \"value\": 4941}, \"4942\": {\"frequency\": 3, \"value\": 4942}, \"4944\": {\"frequency\": 3, \"value\": 4944}, \"4945\": {\"frequency\": 7, \"value\": 4945}, \"4947\": {\"frequency\": 3, \"value\": 4947}, \"4948\": {\"frequency\": 7, \"value\": 4948}, \"4949\": {\"frequency\": 5, \"value\": 4949}, \"4950\": {\"frequency\": 49, \"value\": 4950}, \"4951\": {\"frequency\": 4, \"value\": 4951}, \"4954\": {\"frequency\": 4, \"value\": 4954}, \"4956\": {\"frequency\": 5, \"value\": 4956}, \"4957\": {\"frequency\": 2, \"value\": 4957}, \"4958\": {\"frequency\": 7, \"value\": 4958}, \"4959\": {\"frequency\": 5, \"value\": 4959}, \"4960\": {\"frequency\": 11, \"value\": 4960}, \"4961\": {\"frequency\": 5, \"value\": 4961}, \"4962\": {\"frequency\": 7, \"value\": 4962}, \"4964\": {\"frequency\": 7, \"value\": 4964}, \"4965\": {\"frequency\": 5, \"value\": 4965}, \"4966\": {\"frequency\": 12, \"value\": 4966}, \"4967\": {\"frequency\": 4, \"value\": 4967}, \"4968\": {\"frequency\": 7, \"value\": 4968}, \"4969\": {\"frequency\": 4, \"value\": 4969}, \"4970\": {\"frequency\": 4, \"value\": 4970}, \"4972\": {\"frequency\": 4, \"value\": 4972}, \"4973\": {\"frequency\": 5, \"value\": 4973}, \"4975\": {\"frequency\": 16, \"value\": 4975}, \"4977\": {\"frequency\": 2, \"value\": 4977}, \"4978\": {\"frequency\": 4, \"value\": 4978}, \"4980\": {\"frequency\": 9, \"value\": 4980}, \"4982\": {\"frequency\": 8, \"value\": 4982}, \"4983\": {\"frequency\": 11, \"value\": 4983}, \"4985\": {\"frequency\": 5, \"value\": 4985}, \"4986\": {\"frequency\": 5, \"value\": 4986}, \"4987\": {\"frequency\": 6, \"value\": 4987}, \"4988\": {\"frequency\": 4, \"value\": 4988}, \"4990\": {\"frequency\": 11, \"value\": 4990}, \"4991\": {\"frequency\": 3, \"value\": 4991}, \"4992\": {\"frequency\": 5, \"value\": 4992}, \"4993\": {\"frequency\": 3, \"value\": 4993}, \"4995\": {\"frequency\": 7, \"value\": 4995}, \"4997\": {\"frequency\": 2, \"value\": 4997}, \"4998\": {\"frequency\": 7, \"value\": 4998}, \"4999\": {\"frequency\": 19, \"value\": 4999}, \"5000\": {\"frequency\": 2757, \"value\": 5000}, \"5001\": {\"frequency\": 30, \"value\": 5001}, \"5002\": {\"frequency\": 4, \"value\": 5002}, \"5003\": {\"frequency\": 10, \"value\": 5003}, \"5004\": {\"frequency\": 4, \"value\": 5004}, \"5005\": {\"frequency\": 6, \"value\": 5005}, \"5008\": {\"frequency\": 8, \"value\": 5008}, \"5009\": {\"frequency\": 2, \"value\": 5009}, \"5010\": {\"frequency\": 11, \"value\": 5010}, \"5011\": {\"frequency\": 4, \"value\": 5011}, \"5012\": {\"frequency\": 3, \"value\": 5012}, \"5013\": {\"frequency\": 7, \"value\": 5013}, \"5014\": {\"frequency\": 7, \"value\": 5014}, \"5015\": {\"frequency\": 4, \"value\": 5015}, \"5016\": {\"frequency\": 17, \"value\": 5016}, \"5017\": {\"frequency\": 2, \"value\": 5017}, \"5018\": {\"frequency\": 9, \"value\": 5018}, \"5020\": {\"frequency\": 16, \"value\": 5020}, \"5021\": {\"frequency\": 6, \"value\": 5021}, \"5022\": {\"frequency\": 5, \"value\": 5022}, \"5024\": {\"frequency\": 6, \"value\": 5024}, \"5025\": {\"frequency\": 10, \"value\": 5025}, \"5028\": {\"frequency\": 6, \"value\": 5028}, \"5029\": {\"frequency\": 3, \"value\": 5029}, \"5030\": {\"frequency\": 3, \"value\": 5030}, \"5031\": {\"frequency\": 6, \"value\": 5031}, \"5032\": {\"frequency\": 5, \"value\": 5032}, \"5033\": {\"frequency\": 13, \"value\": 5033}, \"5035\": {\"frequency\": 4, \"value\": 5035}, \"5036\": {\"frequency\": 3, \"value\": 5036}, \"5037\": {\"frequency\": 3, \"value\": 5037}, \"5038\": {\"frequency\": 7, \"value\": 5038}, \"5040\": {\"frequency\": 11, \"value\": 5040}, \"5041\": {\"frequency\": 8, \"value\": 5041}, \"5042\": {\"frequency\": 6, \"value\": 5042}, \"5043\": {\"frequency\": 2, \"value\": 5043}, \"5044\": {\"frequency\": 4, \"value\": 5044}, \"5045\": {\"frequency\": 8, \"value\": 5045}, \"5046\": {\"frequency\": 4, \"value\": 5046}, \"5047\": {\"frequency\": 6, \"value\": 5047}, \"5048\": {\"frequency\": 9, \"value\": 5048}, \"5049\": {\"frequency\": 7, \"value\": 5049}, \"5050\": {\"frequency\": 33, \"value\": 5050}, \"5051\": {\"frequency\": 5, \"value\": 5051}, \"5052\": {\"frequency\": 2, \"value\": 5052}, \"5053\": {\"frequency\": 6, \"value\": 5053}, \"5054\": {\"frequency\": 9, \"value\": 5054}, \"5055\": {\"frequency\": 4, \"value\": 5055}, \"5056\": {\"frequency\": 4, \"value\": 5056}, \"5057\": {\"frequency\": 8, \"value\": 5057}, \"5058\": {\"frequency\": 8, \"value\": 5058}, \"5059\": {\"frequency\": 5, \"value\": 5059}, \"5060\": {\"frequency\": 9, \"value\": 5060}, \"5062\": {\"frequency\": 5, \"value\": 5062}, \"5063\": {\"frequency\": 5, \"value\": 5063}, \"5064\": {\"frequency\": 5, \"value\": 5064}, \"5065\": {\"frequency\": 3, \"value\": 5065}, \"5066\": {\"frequency\": 11, \"value\": 5066}, \"5070\": {\"frequency\": 7, \"value\": 5070}, \"5071\": {\"frequency\": 4, \"value\": 5071}, \"5072\": {\"frequency\": 5, \"value\": 5072}, \"5073\": {\"frequency\": 3, \"value\": 5073}, \"5075\": {\"frequency\": 10, \"value\": 5075}, \"5076\": {\"frequency\": 6, \"value\": 5076}, \"5078\": {\"frequency\": 8, \"value\": 5078}, \"5079\": {\"frequency\": 5, \"value\": 5079}, \"5080\": {\"frequency\": 10, \"value\": 5080}, \"5081\": {\"frequency\": 7, \"value\": 5081}, \"5082\": {\"frequency\": 8, \"value\": 5082}, \"5083\": {\"frequency\": 103, \"value\": 5083}, \"5084\": {\"frequency\": 8, \"value\": 5084}, \"5085\": {\"frequency\": 9, \"value\": 5085}, \"5086\": {\"frequency\": 3, \"value\": 5086}, \"5087\": {\"frequency\": 3, \"value\": 5087}, \"5088\": {\"frequency\": 6, \"value\": 5088}, \"5089\": {\"frequency\": 3, \"value\": 5089}, \"5090\": {\"frequency\": 7, \"value\": 5090}, \"5091\": {\"frequency\": 9, \"value\": 5091}, \"5092\": {\"frequency\": 5, \"value\": 5092}, \"5093\": {\"frequency\": 4, \"value\": 5093}, \"5094\": {\"frequency\": 3, \"value\": 5094}, \"5095\": {\"frequency\": 7, \"value\": 5095}, \"5096\": {\"frequency\": 6, \"value\": 5096}, \"5097\": {\"frequency\": 5, \"value\": 5097}, \"5098\": {\"frequency\": 6, \"value\": 5098}, \"5099\": {\"frequency\": 7, \"value\": 5099}, \"5100\": {\"frequency\": 247, \"value\": 5100}, \"5101\": {\"frequency\": 7, \"value\": 5101}, \"5102\": {\"frequency\": 2, \"value\": 5102}, \"5103\": {\"frequency\": 3, \"value\": 5103}, \"5104\": {\"frequency\": 8, \"value\": 5104}, \"5105\": {\"frequency\": 8, \"value\": 5105}, \"5106\": {\"frequency\": 6, \"value\": 5106}, \"5107\": {\"frequency\": 4, \"value\": 5107}, \"5108\": {\"frequency\": 6, \"value\": 5108}, \"5109\": {\"frequency\": 4, \"value\": 5109}, \"5112\": {\"frequency\": 8, \"value\": 5112}, \"5113\": {\"frequency\": 4, \"value\": 5113}, \"5114\": {\"frequency\": 7, \"value\": 5114}, \"5115\": {\"frequency\": 11, \"value\": 5115}, \"5116\": {\"frequency\": 23, \"value\": 5116}, \"5117\": {\"frequency\": 8, \"value\": 5117}, \"5118\": {\"frequency\": 4, \"value\": 5118}, \"5120\": {\"frequency\": 15, \"value\": 5120}, \"5121\": {\"frequency\": 10, \"value\": 5121}, \"5122\": {\"frequency\": 3, \"value\": 5122}, \"5123\": {\"frequency\": 5, \"value\": 5123}, \"5124\": {\"frequency\": 2, \"value\": 5124}, \"5125\": {\"frequency\": 20, \"value\": 5125}, \"5126\": {\"frequency\": 4, \"value\": 5126}, \"5127\": {\"frequency\": 7, \"value\": 5127}, \"5128\": {\"frequency\": 3, \"value\": 5128}, \"5130\": {\"frequency\": 6, \"value\": 5130}, \"5131\": {\"frequency\": 6, \"value\": 5131}, \"5132\": {\"frequency\": 4, \"value\": 5132}, \"5133\": {\"frequency\": 20, \"value\": 5133}, \"5134\": {\"frequency\": 10, \"value\": 5134}, \"5135\": {\"frequency\": 3, \"value\": 5135}, \"5136\": {\"frequency\": 5, \"value\": 5136}, \"5137\": {\"frequency\": 6, \"value\": 5137}, \"5138\": {\"frequency\": 4, \"value\": 5138}, \"5139\": {\"frequency\": 5, \"value\": 5139}, \"5140\": {\"frequency\": 15, \"value\": 5140}, \"5141\": {\"frequency\": 5, \"value\": 5141}, \"5142\": {\"frequency\": 9, \"value\": 5142}, \"5143\": {\"frequency\": 3, \"value\": 5143}, \"5144\": {\"frequency\": 4, \"value\": 5144}, \"5145\": {\"frequency\": 10, \"value\": 5145}, \"5146\": {\"frequency\": 8, \"value\": 5146}, \"5147\": {\"frequency\": 8, \"value\": 5147}, \"5148\": {\"frequency\": 6, \"value\": 5148}, \"5150\": {\"frequency\": 56, \"value\": 5150}, \"5151\": {\"frequency\": 2, \"value\": 5151}, \"5152\": {\"frequency\": 3, \"value\": 5152}, \"5153\": {\"frequency\": 11, \"value\": 5153}, \"5154\": {\"frequency\": 3, \"value\": 5154}, \"5155\": {\"frequency\": 4, \"value\": 5155}, \"5156\": {\"frequency\": 8, \"value\": 5156}, \"5158\": {\"frequency\": 11, \"value\": 5158}, \"5159\": {\"frequency\": 5, \"value\": 5159}, \"5160\": {\"frequency\": 15, \"value\": 5160}, \"5161\": {\"frequency\": 3, \"value\": 5161}, \"5162\": {\"frequency\": 4, \"value\": 5162}, \"5163\": {\"frequency\": 9, \"value\": 5163}, \"5164\": {\"frequency\": 5, \"value\": 5164}, \"5165\": {\"frequency\": 7, \"value\": 5165}, \"5166\": {\"frequency\": 162, \"value\": 5166}, \"5167\": {\"frequency\": 25, \"value\": 5167}, \"5168\": {\"frequency\": 8, \"value\": 5168}, \"5170\": {\"frequency\": 10, \"value\": 5170}, \"5171\": {\"frequency\": 4, \"value\": 5171}, \"5172\": {\"frequency\": 6, \"value\": 5172}, \"5173\": {\"frequency\": 3, \"value\": 5173}, \"5174\": {\"frequency\": 8, \"value\": 5174}, \"5175\": {\"frequency\": 12, \"value\": 5175}, \"5176\": {\"frequency\": 7, \"value\": 5176}, \"5178\": {\"frequency\": 11, \"value\": 5178}, \"5179\": {\"frequency\": 4, \"value\": 5179}, \"5180\": {\"frequency\": 10, \"value\": 5180}, \"5181\": {\"frequency\": 9, \"value\": 5181}, \"5182\": {\"frequency\": 5, \"value\": 5182}, \"5183\": {\"frequency\": 15, \"value\": 5183}, \"5184\": {\"frequency\": 3, \"value\": 5184}, \"5185\": {\"frequency\": 2, \"value\": 5185}, \"5186\": {\"frequency\": 4, \"value\": 5186}, \"5187\": {\"frequency\": 7, \"value\": 5187}, \"5188\": {\"frequency\": 4, \"value\": 5188}, \"5190\": {\"frequency\": 6, \"value\": 5190}, \"5191\": {\"frequency\": 5, \"value\": 5191}, \"5192\": {\"frequency\": 6, \"value\": 5192}, \"5193\": {\"frequency\": 4, \"value\": 5193}, \"5194\": {\"frequency\": 5, \"value\": 5194}, \"5195\": {\"frequency\": 6, \"value\": 5195}, \"5196\": {\"frequency\": 3, \"value\": 5196}, \"5197\": {\"frequency\": 6, \"value\": 5197}, \"5198\": {\"frequency\": 6, \"value\": 5198}, \"5199\": {\"frequency\": 9, \"value\": 5199}, \"5200\": {\"frequency\": 443, \"value\": 5200}, \"5201\": {\"frequency\": 12, \"value\": 5201}, \"5202\": {\"frequency\": 4, \"value\": 5202}, \"5205\": {\"frequency\": 7, \"value\": 5205}, \"5206\": {\"frequency\": 3, \"value\": 5206}, \"5208\": {\"frequency\": 27, \"value\": 5208}, \"5209\": {\"frequency\": 7, \"value\": 5209}, \"5210\": {\"frequency\": 14, \"value\": 5210}, \"5211\": {\"frequency\": 2, \"value\": 5211}, \"5212\": {\"frequency\": 6, \"value\": 5212}, \"5213\": {\"frequency\": 6, \"value\": 5213}, \"5215\": {\"frequency\": 9, \"value\": 5215}, \"5216\": {\"frequency\": 14, \"value\": 5216}, \"5217\": {\"frequency\": 7, \"value\": 5217}, \"5218\": {\"frequency\": 4, \"value\": 5218}, \"5220\": {\"frequency\": 8, \"value\": 5220}, \"5221\": {\"frequency\": 4, \"value\": 5221}, \"5222\": {\"frequency\": 4, \"value\": 5222}, \"5223\": {\"frequency\": 5, \"value\": 5223}, \"5224\": {\"frequency\": 4, \"value\": 5224}, \"5225\": {\"frequency\": 8, \"value\": 5225}, \"5226\": {\"frequency\": 5, \"value\": 5226}, \"5227\": {\"frequency\": 5, \"value\": 5227}, \"5228\": {\"frequency\": 4, \"value\": 5228}, \"5230\": {\"frequency\": 13, \"value\": 5230}, \"5231\": {\"frequency\": 2, \"value\": 5231}, \"5232\": {\"frequency\": 3, \"value\": 5232}, \"5233\": {\"frequency\": 10, \"value\": 5233}, \"5234\": {\"frequency\": 6, \"value\": 5234}, \"5235\": {\"frequency\": 7, \"value\": 5235}, \"5236\": {\"frequency\": 7, \"value\": 5236}, \"5237\": {\"frequency\": 4, \"value\": 5237}, \"5239\": {\"frequency\": 2, \"value\": 5239}, \"5240\": {\"frequency\": 8, \"value\": 5240}, \"5241\": {\"frequency\": 4, \"value\": 5241}, \"5242\": {\"frequency\": 7, \"value\": 5242}, \"5243\": {\"frequency\": 3, \"value\": 5243}, \"5244\": {\"frequency\": 5, \"value\": 5244}, \"5245\": {\"frequency\": 6, \"value\": 5245}, \"5246\": {\"frequency\": 10, \"value\": 5246}, \"5249\": {\"frequency\": 6, \"value\": 5249}, \"5250\": {\"frequency\": 217, \"value\": 5250}, \"5251\": {\"frequency\": 5, \"value\": 5251}, \"5252\": {\"frequency\": 1, \"value\": 5252}, \"5253\": {\"frequency\": 9, \"value\": 5253}, \"5254\": {\"frequency\": 6, \"value\": 5254}, \"5255\": {\"frequency\": 4, \"value\": 5255}, \"5256\": {\"frequency\": 9, \"value\": 5256}, \"5257\": {\"frequency\": 5, \"value\": 5257}, \"5258\": {\"frequency\": 10, \"value\": 5258}, \"5259\": {\"frequency\": 7, \"value\": 5259}, \"5260\": {\"frequency\": 7, \"value\": 5260}, \"5261\": {\"frequency\": 3, \"value\": 5261}, \"5262\": {\"frequency\": 2, \"value\": 5262}, \"5263\": {\"frequency\": 6, \"value\": 5263}, \"5264\": {\"frequency\": 6, \"value\": 5264}, \"5265\": {\"frequency\": 4, \"value\": 5265}, \"5266\": {\"frequency\": 18, \"value\": 5266}, \"5267\": {\"frequency\": 5, \"value\": 5267}, \"5268\": {\"frequency\": 3, \"value\": 5268}, \"5269\": {\"frequency\": 7, \"value\": 5269}, \"5270\": {\"frequency\": 8, \"value\": 5270}, \"5271\": {\"frequency\": 8, \"value\": 5271}, \"5272\": {\"frequency\": 4, \"value\": 5272}, \"5273\": {\"frequency\": 6, \"value\": 5273}, \"5275\": {\"frequency\": 9, \"value\": 5275}, \"5276\": {\"frequency\": 4, \"value\": 5276}, \"5277\": {\"frequency\": 6, \"value\": 5277}, \"5278\": {\"frequency\": 5, \"value\": 5278}, \"5279\": {\"frequency\": 3, \"value\": 5279}, \"5280\": {\"frequency\": 13, \"value\": 5280}, \"5281\": {\"frequency\": 7, \"value\": 5281}, \"5282\": {\"frequency\": 4, \"value\": 5282}, \"5283\": {\"frequency\": 20, \"value\": 5283}, \"5284\": {\"frequency\": 7, \"value\": 5284}, \"5285\": {\"frequency\": 7, \"value\": 5285}, \"5286\": {\"frequency\": 5, \"value\": 5286}, \"5287\": {\"frequency\": 4, \"value\": 5287}, \"5288\": {\"frequency\": 5, \"value\": 5288}, \"5289\": {\"frequency\": 2, \"value\": 5289}, \"5290\": {\"frequency\": 9, \"value\": 5290}, \"5291\": {\"frequency\": 20, \"value\": 5291}, \"5292\": {\"frequency\": 3, \"value\": 5292}, \"5293\": {\"frequency\": 5, \"value\": 5293}, \"5294\": {\"frequency\": 6, \"value\": 5294}, \"5295\": {\"frequency\": 6, \"value\": 5295}, \"5296\": {\"frequency\": 3, \"value\": 5296}, \"5297\": {\"frequency\": 7, \"value\": 5297}, \"5298\": {\"frequency\": 4, \"value\": 5298}, \"5299\": {\"frequency\": 5, \"value\": 5299}, \"5300\": {\"frequency\": 273, \"value\": 5300}, \"5301\": {\"frequency\": 5, \"value\": 5301}, \"5303\": {\"frequency\": 4, \"value\": 5303}, \"5305\": {\"frequency\": 7, \"value\": 5305}, \"5306\": {\"frequency\": 8, \"value\": 5306}, \"5307\": {\"frequency\": 4, \"value\": 5307}, \"5308\": {\"frequency\": 11, \"value\": 5308}, \"5309\": {\"frequency\": 6, \"value\": 5309}, \"5310\": {\"frequency\": 7, \"value\": 5310}, \"5311\": {\"frequency\": 3, \"value\": 5311}, \"5312\": {\"frequency\": 4, \"value\": 5312}, \"5313\": {\"frequency\": 11, \"value\": 5313}, \"5314\": {\"frequency\": 11, \"value\": 5314}, \"5315\": {\"frequency\": 7, \"value\": 5315}, \"5316\": {\"frequency\": 14, \"value\": 5316}, \"5317\": {\"frequency\": 6, \"value\": 5317}, \"5318\": {\"frequency\": 3, \"value\": 5318}, \"5319\": {\"frequency\": 5, \"value\": 5319}, \"5320\": {\"frequency\": 5, \"value\": 5320}, \"5322\": {\"frequency\": 7, \"value\": 5322}, \"5323\": {\"frequency\": 7, \"value\": 5323}, \"5324\": {\"frequency\": 5, \"value\": 5324}, \"5325\": {\"frequency\": 8, \"value\": 5325}, \"5326\": {\"frequency\": 9, \"value\": 5326}, \"5328\": {\"frequency\": 2, \"value\": 5328}, \"5329\": {\"frequency\": 7, \"value\": 5329}, \"5330\": {\"frequency\": 13, \"value\": 5330}, \"5331\": {\"frequency\": 4, \"value\": 5331}, \"5332\": {\"frequency\": 11, \"value\": 5332}, \"5333\": {\"frequency\": 121, \"value\": 5333}, \"5334\": {\"frequency\": 11, \"value\": 5334}, \"5335\": {\"frequency\": 9, \"value\": 5335}, \"5336\": {\"frequency\": 10, \"value\": 5336}, \"5338\": {\"frequency\": 3, \"value\": 5338}, \"5339\": {\"frequency\": 7, \"value\": 5339}, \"5340\": {\"frequency\": 7, \"value\": 5340}, \"5341\": {\"frequency\": 8, \"value\": 5341}, \"5342\": {\"frequency\": 6, \"value\": 5342}, \"5343\": {\"frequency\": 8, \"value\": 5343}, \"5344\": {\"frequency\": 3, \"value\": 5344}, \"5345\": {\"frequency\": 11, \"value\": 5345}, \"5346\": {\"frequency\": 9, \"value\": 5346}, \"5347\": {\"frequency\": 5, \"value\": 5347}, \"5348\": {\"frequency\": 11, \"value\": 5348}, \"5349\": {\"frequency\": 5, \"value\": 5349}, \"5350\": {\"frequency\": 47, \"value\": 5350}, \"5351\": {\"frequency\": 2, \"value\": 5351}, \"5352\": {\"frequency\": 5, \"value\": 5352}, \"5353\": {\"frequency\": 6, \"value\": 5353}, \"5355\": {\"frequency\": 7, \"value\": 5355}, \"5356\": {\"frequency\": 5, \"value\": 5356}, \"5357\": {\"frequency\": 4, \"value\": 5357}, \"5358\": {\"frequency\": 9, \"value\": 5358}, \"5359\": {\"frequency\": 5, \"value\": 5359}, \"5360\": {\"frequency\": 10, \"value\": 5360}, \"5361\": {\"frequency\": 4, \"value\": 5361}, \"5362\": {\"frequency\": 7, \"value\": 5362}, \"5363\": {\"frequency\": 7, \"value\": 5363}, \"5364\": {\"frequency\": 2, \"value\": 5364}, \"5365\": {\"frequency\": 4, \"value\": 5365}, \"5366\": {\"frequency\": 26, \"value\": 5366}, \"5367\": {\"frequency\": 8, \"value\": 5367}, \"5369\": {\"frequency\": 5, \"value\": 5369}, \"5370\": {\"frequency\": 9, \"value\": 5370}, \"5371\": {\"frequency\": 3, \"value\": 5371}, \"5372\": {\"frequency\": 6, \"value\": 5372}, \"5373\": {\"frequency\": 4, \"value\": 5373}, \"5374\": {\"frequency\": 9, \"value\": 5374}, \"5375\": {\"frequency\": 23, \"value\": 5375}, \"5377\": {\"frequency\": 7, \"value\": 5377}, \"5379\": {\"frequency\": 5, \"value\": 5379}, \"5380\": {\"frequency\": 11, \"value\": 5380}, \"5381\": {\"frequency\": 3, \"value\": 5381}, \"5382\": {\"frequency\": 3, \"value\": 5382}, \"5383\": {\"frequency\": 8, \"value\": 5383}, \"5384\": {\"frequency\": 10, \"value\": 5384}, \"5385\": {\"frequency\": 2, \"value\": 5385}, \"5386\": {\"frequency\": 7, \"value\": 5386}, \"5387\": {\"frequency\": 3, \"value\": 5387}, \"5388\": {\"frequency\": 10, \"value\": 5388}, \"5389\": {\"frequency\": 7, \"value\": 5389}, \"5390\": {\"frequency\": 7, \"value\": 5390}, \"5392\": {\"frequency\": 8, \"value\": 5392}, \"5394\": {\"frequency\": 10, \"value\": 5394}, \"5395\": {\"frequency\": 6, \"value\": 5395}, \"5396\": {\"frequency\": 3, \"value\": 5396}, \"5398\": {\"frequency\": 4, \"value\": 5398}, \"5399\": {\"frequency\": 5, \"value\": 5399}, \"5400\": {\"frequency\": 331, \"value\": 5400}, \"5401\": {\"frequency\": 4, \"value\": 5401}, \"5403\": {\"frequency\": 5, \"value\": 5403}, \"5404\": {\"frequency\": 5, \"value\": 5404}, \"5405\": {\"frequency\": 8, \"value\": 5405}, \"5406\": {\"frequency\": 7, \"value\": 5406}, \"5408\": {\"frequency\": 6, \"value\": 5408}, \"5409\": {\"frequency\": 3, \"value\": 5409}, \"5410\": {\"frequency\": 9, \"value\": 5410}, \"5411\": {\"frequency\": 4, \"value\": 5411}, \"5412\": {\"frequency\": 5, \"value\": 5412}, \"5413\": {\"frequency\": 4, \"value\": 5413}, \"5414\": {\"frequency\": 3, \"value\": 5414}, \"5415\": {\"frequency\": 10, \"value\": 5415}, \"5416\": {\"frequency\": 375, \"value\": 5416}, \"5417\": {\"frequency\": 58, \"value\": 5417}, \"5418\": {\"frequency\": 6, \"value\": 5418}, \"5419\": {\"frequency\": 5, \"value\": 5419}, \"5420\": {\"frequency\": 22, \"value\": 5420}, \"5421\": {\"frequency\": 6, \"value\": 5421}, \"5422\": {\"frequency\": 9, \"value\": 5422}, \"5423\": {\"frequency\": 5, \"value\": 5423}, \"5424\": {\"frequency\": 5, \"value\": 5424}, \"5425\": {\"frequency\": 10, \"value\": 5425}, \"5426\": {\"frequency\": 3, \"value\": 5426}, \"5427\": {\"frequency\": 7, \"value\": 5427}, \"5428\": {\"frequency\": 3, \"value\": 5428}, \"5429\": {\"frequency\": 6, \"value\": 5429}, \"5430\": {\"frequency\": 5, \"value\": 5430}, \"5432\": {\"frequency\": 8, \"value\": 5432}, \"5433\": {\"frequency\": 10, \"value\": 5433}, \"5434\": {\"frequency\": 4, \"value\": 5434}, \"5435\": {\"frequency\": 7, \"value\": 5435}, \"5436\": {\"frequency\": 5, \"value\": 5436}, \"5438\": {\"frequency\": 2, \"value\": 5438}, \"5439\": {\"frequency\": 6, \"value\": 5439}, \"5440\": {\"frequency\": 11, \"value\": 5440}, \"5441\": {\"frequency\": 12, \"value\": 5441}, \"5442\": {\"frequency\": 7, \"value\": 5442}, \"5443\": {\"frequency\": 10, \"value\": 5443}, \"5444\": {\"frequency\": 5, \"value\": 5444}, \"5445\": {\"frequency\": 5, \"value\": 5445}, \"5447\": {\"frequency\": 6, \"value\": 5447}, \"5448\": {\"frequency\": 2, \"value\": 5448}, \"5449\": {\"frequency\": 4, \"value\": 5449}, \"5450\": {\"frequency\": 53, \"value\": 5450}, \"5453\": {\"frequency\": 4, \"value\": 5453}, \"5454\": {\"frequency\": 5, \"value\": 5454}, \"5455\": {\"frequency\": 3, \"value\": 5455}, \"5456\": {\"frequency\": 8, \"value\": 5456}, \"5457\": {\"frequency\": 7, \"value\": 5457}, \"5458\": {\"frequency\": 11, \"value\": 5458}, \"5459\": {\"frequency\": 4, \"value\": 5459}, \"5460\": {\"frequency\": 14, \"value\": 5460}, \"5461\": {\"frequency\": 10, \"value\": 5461}, \"5462\": {\"frequency\": 5, \"value\": 5462}, \"5463\": {\"frequency\": 4, \"value\": 5463}, \"5464\": {\"frequency\": 5, \"value\": 5464}, \"5465\": {\"frequency\": 7, \"value\": 5465}, \"5466\": {\"frequency\": 11, \"value\": 5466}, \"5467\": {\"frequency\": 8, \"value\": 5467}, \"5468\": {\"frequency\": 4, \"value\": 5468}, \"5470\": {\"frequency\": 13, \"value\": 5470}, \"5471\": {\"frequency\": 5, \"value\": 5471}, \"5472\": {\"frequency\": 4, \"value\": 5472}, \"5473\": {\"frequency\": 5, \"value\": 5473}, \"5474\": {\"frequency\": 5, \"value\": 5474}, \"5475\": {\"frequency\": 9, \"value\": 5475}, \"5476\": {\"frequency\": 6, \"value\": 5476}, \"5477\": {\"frequency\": 9, \"value\": 5477}, \"5478\": {\"frequency\": 6, \"value\": 5478}, \"5480\": {\"frequency\": 11, \"value\": 5480}, \"5481\": {\"frequency\": 10, \"value\": 5481}, \"5482\": {\"frequency\": 5, \"value\": 5482}, \"5483\": {\"frequency\": 11, \"value\": 5483}, \"5484\": {\"frequency\": 8, \"value\": 5484}, \"5485\": {\"frequency\": 4, \"value\": 5485}, \"5486\": {\"frequency\": 4, \"value\": 5486}, \"5487\": {\"frequency\": 4, \"value\": 5487}, \"5488\": {\"frequency\": 5, \"value\": 5488}, \"5489\": {\"frequency\": 5, \"value\": 5489}, \"5491\": {\"frequency\": 6, \"value\": 5491}, \"5492\": {\"frequency\": 2, \"value\": 5492}, \"5494\": {\"frequency\": 6, \"value\": 5494}, \"5495\": {\"frequency\": 4, \"value\": 5495}, \"5497\": {\"frequency\": 8, \"value\": 5497}, \"5498\": {\"frequency\": 6, \"value\": 5498}, \"5499\": {\"frequency\": 10, \"value\": 5499}, \"5500\": {\"frequency\": 897, \"value\": 5500}, \"5501\": {\"frequency\": 20, \"value\": 5501}, \"5502\": {\"frequency\": 10, \"value\": 5502}, \"5503\": {\"frequency\": 7, \"value\": 5503}, \"5504\": {\"frequency\": 3, \"value\": 5504}, \"5505\": {\"frequency\": 4, \"value\": 5505}, \"5506\": {\"frequency\": 5, \"value\": 5506}, \"5507\": {\"frequency\": 4, \"value\": 5507}, \"5508\": {\"frequency\": 4, \"value\": 5508}, \"5509\": {\"frequency\": 4, \"value\": 5509}, \"5510\": {\"frequency\": 10, \"value\": 5510}, \"5511\": {\"frequency\": 2, \"value\": 5511}, \"5512\": {\"frequency\": 6, \"value\": 5512}, \"5513\": {\"frequency\": 2, \"value\": 5513}, \"5514\": {\"frequency\": 5, \"value\": 5514}, \"5516\": {\"frequency\": 15, \"value\": 5516}, \"5517\": {\"frequency\": 7, \"value\": 5517}, \"5518\": {\"frequency\": 2, \"value\": 5518}, \"5520\": {\"frequency\": 5, \"value\": 5520}, \"5521\": {\"frequency\": 7, \"value\": 5521}, \"5522\": {\"frequency\": 3, \"value\": 5522}, \"5523\": {\"frequency\": 4, \"value\": 5523}, \"5524\": {\"frequency\": 7, \"value\": 5524}, \"5525\": {\"frequency\": 13, \"value\": 5525}, \"5526\": {\"frequency\": 3, \"value\": 5526}, \"5527\": {\"frequency\": 6, \"value\": 5527}, \"5528\": {\"frequency\": 4, \"value\": 5528}, \"5529\": {\"frequency\": 2, \"value\": 5529}, \"5530\": {\"frequency\": 4, \"value\": 5530}, \"5531\": {\"frequency\": 4, \"value\": 5531}, \"5532\": {\"frequency\": 7, \"value\": 5532}, \"5533\": {\"frequency\": 20, \"value\": 5533}, \"5534\": {\"frequency\": 3, \"value\": 5534}, \"5535\": {\"frequency\": 8, \"value\": 5535}, \"5536\": {\"frequency\": 4, \"value\": 5536}, \"5538\": {\"frequency\": 8, \"value\": 5538}, \"5539\": {\"frequency\": 8, \"value\": 5539}, \"5540\": {\"frequency\": 10, \"value\": 5540}, \"5541\": {\"frequency\": 24, \"value\": 5541}, \"5542\": {\"frequency\": 6, \"value\": 5542}, \"5543\": {\"frequency\": 6, \"value\": 5543}, \"5544\": {\"frequency\": 3, \"value\": 5544}, \"5546\": {\"frequency\": 5, \"value\": 5546}, \"5547\": {\"frequency\": 5, \"value\": 5547}, \"5548\": {\"frequency\": 9, \"value\": 5548}, \"5550\": {\"frequency\": 36, \"value\": 5550}, \"5551\": {\"frequency\": 4, \"value\": 5551}, \"5552\": {\"frequency\": 6, \"value\": 5552}, \"5553\": {\"frequency\": 4, \"value\": 5553}, \"5555\": {\"frequency\": 6, \"value\": 5555}, \"5556\": {\"frequency\": 6, \"value\": 5556}, \"5557\": {\"frequency\": 4, \"value\": 5557}, \"5558\": {\"frequency\": 6, \"value\": 5558}, \"5559\": {\"frequency\": 9, \"value\": 5559}, \"5560\": {\"frequency\": 9, \"value\": 5560}, \"5561\": {\"frequency\": 3, \"value\": 5561}, \"5563\": {\"frequency\": 7, \"value\": 5563}, \"5564\": {\"frequency\": 4, \"value\": 5564}, \"5565\": {\"frequency\": 7, \"value\": 5565}, \"5566\": {\"frequency\": 15, \"value\": 5566}, \"5567\": {\"frequency\": 3, \"value\": 5567}, \"5568\": {\"frequency\": 2, \"value\": 5568}, \"5569\": {\"frequency\": 4, \"value\": 5569}, \"5570\": {\"frequency\": 6, \"value\": 5570}, \"5571\": {\"frequency\": 6, \"value\": 5571}, \"5573\": {\"frequency\": 8, \"value\": 5573}, \"5574\": {\"frequency\": 5, \"value\": 5574}, \"5575\": {\"frequency\": 9, \"value\": 5575}, \"5576\": {\"frequency\": 6, \"value\": 5576}, \"5577\": {\"frequency\": 4, \"value\": 5577}, \"5578\": {\"frequency\": 3, \"value\": 5578}, \"5579\": {\"frequency\": 6, \"value\": 5579}, \"5580\": {\"frequency\": 10, \"value\": 5580}, \"5581\": {\"frequency\": 3, \"value\": 5581}, \"5582\": {\"frequency\": 6, \"value\": 5582}, \"5583\": {\"frequency\": 111, \"value\": 5583}, \"5584\": {\"frequency\": 12, \"value\": 5584}, \"5585\": {\"frequency\": 4, \"value\": 5585}, \"5586\": {\"frequency\": 9, \"value\": 5586}, \"5588\": {\"frequency\": 4, \"value\": 5588}, \"5589\": {\"frequency\": 7, \"value\": 5589}, \"5590\": {\"frequency\": 7, \"value\": 5590}, \"5591\": {\"frequency\": 4, \"value\": 5591}, \"5592\": {\"frequency\": 5, \"value\": 5592}, \"5593\": {\"frequency\": 5, \"value\": 5593}, \"5594\": {\"frequency\": 4, \"value\": 5594}, \"5595\": {\"frequency\": 6, \"value\": 5595}, \"5597\": {\"frequency\": 2, \"value\": 5597}, \"5598\": {\"frequency\": 4, \"value\": 5598}, \"5599\": {\"frequency\": 3, \"value\": 5599}, \"5600\": {\"frequency\": 331, \"value\": 5600}, \"5601\": {\"frequency\": 5, \"value\": 5601}, \"5602\": {\"frequency\": 5, \"value\": 5602}, \"5604\": {\"frequency\": 8, \"value\": 5604}, \"5605\": {\"frequency\": 5, \"value\": 5605}, \"5606\": {\"frequency\": 7, \"value\": 5606}, \"5607\": {\"frequency\": 5, \"value\": 5607}, \"5608\": {\"frequency\": 6, \"value\": 5608}, \"5609\": {\"frequency\": 5, \"value\": 5609}, \"5610\": {\"frequency\": 4, \"value\": 5610}, \"5611\": {\"frequency\": 6, \"value\": 5611}, \"5612\": {\"frequency\": 2, \"value\": 5612}, \"5613\": {\"frequency\": 5, \"value\": 5613}, \"5614\": {\"frequency\": 2, \"value\": 5614}, \"5615\": {\"frequency\": 8, \"value\": 5615}, \"5616\": {\"frequency\": 16, \"value\": 5616}, \"5617\": {\"frequency\": 6, \"value\": 5617}, \"5618\": {\"frequency\": 5, \"value\": 5618}, \"5620\": {\"frequency\": 8, \"value\": 5620}, \"5621\": {\"frequency\": 3, \"value\": 5621}, \"5622\": {\"frequency\": 3, \"value\": 5622}, \"5623\": {\"frequency\": 6, \"value\": 5623}, \"5624\": {\"frequency\": 4, \"value\": 5624}, \"5625\": {\"frequency\": 27, \"value\": 5625}, \"5626\": {\"frequency\": 4, \"value\": 5626}, \"5627\": {\"frequency\": 8, \"value\": 5627}, \"5628\": {\"frequency\": 7, \"value\": 5628}, \"5630\": {\"frequency\": 9, \"value\": 5630}, \"5631\": {\"frequency\": 7, \"value\": 5631}, \"5632\": {\"frequency\": 4, \"value\": 5632}, \"5633\": {\"frequency\": 15, \"value\": 5633}, \"5634\": {\"frequency\": 5, \"value\": 5634}, \"5635\": {\"frequency\": 6, \"value\": 5635}, \"5636\": {\"frequency\": 4, \"value\": 5636}, \"5638\": {\"frequency\": 4, \"value\": 5638}, \"5640\": {\"frequency\": 15, \"value\": 5640}, \"5642\": {\"frequency\": 6, \"value\": 5642}, \"5643\": {\"frequency\": 6, \"value\": 5643}, \"5644\": {\"frequency\": 3, \"value\": 5644}, \"5645\": {\"frequency\": 3, \"value\": 5645}, \"5646\": {\"frequency\": 3, \"value\": 5646}, \"5647\": {\"frequency\": 5, \"value\": 5647}, \"5648\": {\"frequency\": 3, \"value\": 5648}, \"5649\": {\"frequency\": 3, \"value\": 5649}, \"5650\": {\"frequency\": 38, \"value\": 5650}, \"5651\": {\"frequency\": 5, \"value\": 5651}, \"5652\": {\"frequency\": 7, \"value\": 5652}, \"5653\": {\"frequency\": 8, \"value\": 5653}, \"5654\": {\"frequency\": 3, \"value\": 5654}, \"5655\": {\"frequency\": 9, \"value\": 5655}, \"5658\": {\"frequency\": 4, \"value\": 5658}, \"5660\": {\"frequency\": 13, \"value\": 5660}, \"5661\": {\"frequency\": 2, \"value\": 5661}, \"5662\": {\"frequency\": 2, \"value\": 5662}, \"5663\": {\"frequency\": 9, \"value\": 5663}, \"5664\": {\"frequency\": 3, \"value\": 5664}, \"5665\": {\"frequency\": 3, \"value\": 5665}, \"5666\": {\"frequency\": 112, \"value\": 5666}, \"5667\": {\"frequency\": 28, \"value\": 5667}, \"5668\": {\"frequency\": 7, \"value\": 5668}, \"5670\": {\"frequency\": 7, \"value\": 5670}, \"5672\": {\"frequency\": 2, \"value\": 5672}, \"5673\": {\"frequency\": 4, \"value\": 5673}, \"5674\": {\"frequency\": 7, \"value\": 5674}, \"5675\": {\"frequency\": 4, \"value\": 5675}, \"5676\": {\"frequency\": 2, \"value\": 5676}, \"5677\": {\"frequency\": 4, \"value\": 5677}, \"5680\": {\"frequency\": 12, \"value\": 5680}, \"5681\": {\"frequency\": 6, \"value\": 5681}, \"5682\": {\"frequency\": 7, \"value\": 5682}, \"5683\": {\"frequency\": 16, \"value\": 5683}, \"5684\": {\"frequency\": 4, \"value\": 5684}, \"5685\": {\"frequency\": 4, \"value\": 5685}, \"5686\": {\"frequency\": 7, \"value\": 5686}, \"5688\": {\"frequency\": 6, \"value\": 5688}, \"5689\": {\"frequency\": 4, \"value\": 5689}, \"5690\": {\"frequency\": 8, \"value\": 5690}, \"5691\": {\"frequency\": 6, \"value\": 5691}, \"5692\": {\"frequency\": 7, \"value\": 5692}, \"5693\": {\"frequency\": 3, \"value\": 5693}, \"5694\": {\"frequency\": 5, \"value\": 5694}, \"5695\": {\"frequency\": 8, \"value\": 5695}, \"5696\": {\"frequency\": 5, \"value\": 5696}, \"5697\": {\"frequency\": 4, \"value\": 5697}, \"5698\": {\"frequency\": 6, \"value\": 5698}, \"5699\": {\"frequency\": 7, \"value\": 5699}, \"5700\": {\"frequency\": 282, \"value\": 5700}, \"5701\": {\"frequency\": 4, \"value\": 5701}, \"5702\": {\"frequency\": 5, \"value\": 5702}, \"5703\": {\"frequency\": 4, \"value\": 5703}, \"5704\": {\"frequency\": 2, \"value\": 5704}, \"5705\": {\"frequency\": 4, \"value\": 5705}, \"5706\": {\"frequency\": 4, \"value\": 5706}, \"5707\": {\"frequency\": 8, \"value\": 5707}, \"5708\": {\"frequency\": 10, \"value\": 5708}, \"5709\": {\"frequency\": 5, \"value\": 5709}, \"5710\": {\"frequency\": 7, \"value\": 5710}, \"5711\": {\"frequency\": 6, \"value\": 5711}, \"5712\": {\"frequency\": 3, \"value\": 5712}, \"5713\": {\"frequency\": 4, \"value\": 5713}, \"5714\": {\"frequency\": 4, \"value\": 5714}, \"5715\": {\"frequency\": 3, \"value\": 5715}, \"5716\": {\"frequency\": 13, \"value\": 5716}, \"5718\": {\"frequency\": 2, \"value\": 5718}, \"5720\": {\"frequency\": 11, \"value\": 5720}, \"5721\": {\"frequency\": 5, \"value\": 5721}, \"5722\": {\"frequency\": 4, \"value\": 5722}, \"5725\": {\"frequency\": 4, \"value\": 5725}, \"5726\": {\"frequency\": 7, \"value\": 5726}, \"5727\": {\"frequency\": 2, \"value\": 5727}, \"5728\": {\"frequency\": 7, \"value\": 5728}, \"5729\": {\"frequency\": 7, \"value\": 5729}, \"5730\": {\"frequency\": 4, \"value\": 5730}, \"5731\": {\"frequency\": 7, \"value\": 5731}, \"5732\": {\"frequency\": 4, \"value\": 5732}, \"5733\": {\"frequency\": 12, \"value\": 5733}, \"5734\": {\"frequency\": 7, \"value\": 5734}, \"5735\": {\"frequency\": 3, \"value\": 5735}, \"5736\": {\"frequency\": 7, \"value\": 5736}, \"5737\": {\"frequency\": 7, \"value\": 5737}, \"5738\": {\"frequency\": 4, \"value\": 5738}, \"5739\": {\"frequency\": 4, \"value\": 5739}, \"5740\": {\"frequency\": 12, \"value\": 5740}, \"5741\": {\"frequency\": 8, \"value\": 5741}, \"5742\": {\"frequency\": 3, \"value\": 5742}, \"5743\": {\"frequency\": 3, \"value\": 5743}, \"5744\": {\"frequency\": 6, \"value\": 5744}, \"5745\": {\"frequency\": 4, \"value\": 5745}, \"5747\": {\"frequency\": 6, \"value\": 5747}, \"5748\": {\"frequency\": 3, \"value\": 5748}, \"5749\": {\"frequency\": 9, \"value\": 5749}, \"5750\": {\"frequency\": 123, \"value\": 5750}, \"5751\": {\"frequency\": 5, \"value\": 5751}, \"5752\": {\"frequency\": 6, \"value\": 5752}, \"5753\": {\"frequency\": 6, \"value\": 5753}, \"5754\": {\"frequency\": 4, \"value\": 5754}, \"5755\": {\"frequency\": 5, \"value\": 5755}, \"5756\": {\"frequency\": 5, \"value\": 5756}, \"5757\": {\"frequency\": 3, \"value\": 5757}, \"5758\": {\"frequency\": 12, \"value\": 5758}, \"5759\": {\"frequency\": 1, \"value\": 5759}, \"5760\": {\"frequency\": 11, \"value\": 5760}, \"5761\": {\"frequency\": 5, \"value\": 5761}, \"5762\": {\"frequency\": 4, \"value\": 5762}, \"5764\": {\"frequency\": 8, \"value\": 5764}, \"5765\": {\"frequency\": 7, \"value\": 5765}, \"5766\": {\"frequency\": 17, \"value\": 5766}, \"5767\": {\"frequency\": 5, \"value\": 5767}, \"5768\": {\"frequency\": 5, \"value\": 5768}, \"5769\": {\"frequency\": 5, \"value\": 5769}, \"5770\": {\"frequency\": 7, \"value\": 5770}, \"5771\": {\"frequency\": 5, \"value\": 5771}, \"5773\": {\"frequency\": 3, \"value\": 5773}, \"5774\": {\"frequency\": 4, \"value\": 5774}, \"5775\": {\"frequency\": 16, \"value\": 5775}, \"5776\": {\"frequency\": 6, \"value\": 5776}, \"5778\": {\"frequency\": 3, \"value\": 5778}, \"5779\": {\"frequency\": 4, \"value\": 5779}, \"5780\": {\"frequency\": 11, \"value\": 5780}, \"5781\": {\"frequency\": 1, \"value\": 5781}, \"5782\": {\"frequency\": 8, \"value\": 5782}, \"5783\": {\"frequency\": 20, \"value\": 5783}, \"5786\": {\"frequency\": 6, \"value\": 5786}, \"5787\": {\"frequency\": 3, \"value\": 5787}, \"5788\": {\"frequency\": 1, \"value\": 5788}, \"5789\": {\"frequency\": 5, \"value\": 5789}, \"5790\": {\"frequency\": 7, \"value\": 5790}, \"5791\": {\"frequency\": 10, \"value\": 5791}, \"5792\": {\"frequency\": 10, \"value\": 5792}, \"5793\": {\"frequency\": 5, \"value\": 5793}, \"5794\": {\"frequency\": 6, \"value\": 5794}, \"5795\": {\"frequency\": 4, \"value\": 5795}, \"5797\": {\"frequency\": 5, \"value\": 5797}, \"5798\": {\"frequency\": 3, \"value\": 5798}, \"5799\": {\"frequency\": 3, \"value\": 5799}, \"5800\": {\"frequency\": 371, \"value\": 5800}, \"5802\": {\"frequency\": 4, \"value\": 5802}, \"5803\": {\"frequency\": 4, \"value\": 5803}, \"5806\": {\"frequency\": 6, \"value\": 5806}, \"5808\": {\"frequency\": 10, \"value\": 5808}, \"5809\": {\"frequency\": 2, \"value\": 5809}, \"5810\": {\"frequency\": 4, \"value\": 5810}, \"5811\": {\"frequency\": 5, \"value\": 5811}, \"5812\": {\"frequency\": 2, \"value\": 5812}, \"5813\": {\"frequency\": 7, \"value\": 5813}, \"5815\": {\"frequency\": 3, \"value\": 5815}, \"5816\": {\"frequency\": 7, \"value\": 5816}, \"5817\": {\"frequency\": 5, \"value\": 5817}, \"5819\": {\"frequency\": 6, \"value\": 5819}, \"5820\": {\"frequency\": 13, \"value\": 5820}, \"5821\": {\"frequency\": 3, \"value\": 5821}, \"5822\": {\"frequency\": 7, \"value\": 5822}, \"5825\": {\"frequency\": 9, \"value\": 5825}, \"5826\": {\"frequency\": 4, \"value\": 5826}, \"5827\": {\"frequency\": 1, \"value\": 5827}, \"5830\": {\"frequency\": 20, \"value\": 5830}, \"5832\": {\"frequency\": 15, \"value\": 5832}, \"5833\": {\"frequency\": 483, \"value\": 5833}, \"5834\": {\"frequency\": 28, \"value\": 5834}, \"5835\": {\"frequency\": 14, \"value\": 5835}, \"5836\": {\"frequency\": 4, \"value\": 5836}, \"5837\": {\"frequency\": 3, \"value\": 5837}, \"5839\": {\"frequency\": 3, \"value\": 5839}, \"5840\": {\"frequency\": 7, \"value\": 5840}, \"5841\": {\"frequency\": 6, \"value\": 5841}, \"5842\": {\"frequency\": 4, \"value\": 5842}, \"5843\": {\"frequency\": 13, \"value\": 5843}, \"5844\": {\"frequency\": 5, \"value\": 5844}, \"5845\": {\"frequency\": 11, \"value\": 5845}, \"5846\": {\"frequency\": 6, \"value\": 5846}, \"5847\": {\"frequency\": 3, \"value\": 5847}, \"5848\": {\"frequency\": 4, \"value\": 5848}, \"5850\": {\"frequency\": 44, \"value\": 5850}, \"5853\": {\"frequency\": 7, \"value\": 5853}, \"5854\": {\"frequency\": 4, \"value\": 5854}, \"5855\": {\"frequency\": 7, \"value\": 5855}, \"5856\": {\"frequency\": 5, \"value\": 5856}, \"5858\": {\"frequency\": 4, \"value\": 5858}, \"5859\": {\"frequency\": 4, \"value\": 5859}, \"5860\": {\"frequency\": 6, \"value\": 5860}, \"5861\": {\"frequency\": 4, \"value\": 5861}, \"5863\": {\"frequency\": 4, \"value\": 5863}, \"5864\": {\"frequency\": 4, \"value\": 5864}, \"5865\": {\"frequency\": 5, \"value\": 5865}, \"5866\": {\"frequency\": 21, \"value\": 5866}, \"5867\": {\"frequency\": 8, \"value\": 5867}, \"5868\": {\"frequency\": 3, \"value\": 5868}, \"5869\": {\"frequency\": 2, \"value\": 5869}, \"5870\": {\"frequency\": 7, \"value\": 5870}, \"5871\": {\"frequency\": 4, \"value\": 5871}, \"5872\": {\"frequency\": 5, \"value\": 5872}, \"5873\": {\"frequency\": 4, \"value\": 5873}, \"5874\": {\"frequency\": 6, \"value\": 5874}, \"5875\": {\"frequency\": 11, \"value\": 5875}, \"5876\": {\"frequency\": 4, \"value\": 5876}, \"5877\": {\"frequency\": 3, \"value\": 5877}, \"5878\": {\"frequency\": 8, \"value\": 5878}, \"5879\": {\"frequency\": 6, \"value\": 5879}, \"5880\": {\"frequency\": 9, \"value\": 5880}, \"5881\": {\"frequency\": 1, \"value\": 5881}, \"5882\": {\"frequency\": 4, \"value\": 5882}, \"5883\": {\"frequency\": 8, \"value\": 5883}, \"5884\": {\"frequency\": 9, \"value\": 5884}, \"5885\": {\"frequency\": 1, \"value\": 5885}, \"5886\": {\"frequency\": 3, \"value\": 5886}, \"5887\": {\"frequency\": 3, \"value\": 5887}, \"5888\": {\"frequency\": 6, \"value\": 5888}, \"5889\": {\"frequency\": 3, \"value\": 5889}, \"5890\": {\"frequency\": 6, \"value\": 5890}, \"5892\": {\"frequency\": 3, \"value\": 5892}, \"5893\": {\"frequency\": 9, \"value\": 5893}, \"5894\": {\"frequency\": 3, \"value\": 5894}, \"5895\": {\"frequency\": 2, \"value\": 5895}, \"5896\": {\"frequency\": 4, \"value\": 5896}, \"5899\": {\"frequency\": 6, \"value\": 5899}, \"5900\": {\"frequency\": 194, \"value\": 5900}, \"5904\": {\"frequency\": 4, \"value\": 5904}, \"5905\": {\"frequency\": 3, \"value\": 5905}, \"5906\": {\"frequency\": 5, \"value\": 5906}, \"5907\": {\"frequency\": 4, \"value\": 5907}, \"5908\": {\"frequency\": 8, \"value\": 5908}, \"5909\": {\"frequency\": 4, \"value\": 5909}, \"5910\": {\"frequency\": 6, \"value\": 5910}, \"5912\": {\"frequency\": 3, \"value\": 5912}, \"5913\": {\"frequency\": 3, \"value\": 5913}, \"5915\": {\"frequency\": 3, \"value\": 5915}, \"5916\": {\"frequency\": 76, \"value\": 5916}, \"5917\": {\"frequency\": 13, \"value\": 5917}, \"5918\": {\"frequency\": 4, \"value\": 5918}, \"5919\": {\"frequency\": 5, \"value\": 5919}, \"5920\": {\"frequency\": 11, \"value\": 5920}, \"5921\": {\"frequency\": 4, \"value\": 5921}, \"5922\": {\"frequency\": 4, \"value\": 5922}, \"5923\": {\"frequency\": 5, \"value\": 5923}, \"5925\": {\"frequency\": 12, \"value\": 5925}, \"5928\": {\"frequency\": 6, \"value\": 5928}, \"5929\": {\"frequency\": 6, \"value\": 5929}, \"5930\": {\"frequency\": 9, \"value\": 5930}, \"5932\": {\"frequency\": 3, \"value\": 5932}, \"5933\": {\"frequency\": 12, \"value\": 5933}, \"5934\": {\"frequency\": 5, \"value\": 5934}, \"5935\": {\"frequency\": 5, \"value\": 5935}, \"5937\": {\"frequency\": 10, \"value\": 5937}, \"5939\": {\"frequency\": 4, \"value\": 5939}, \"5940\": {\"frequency\": 11, \"value\": 5940}, \"5941\": {\"frequency\": 5, \"value\": 5941}, \"5943\": {\"frequency\": 8, \"value\": 5943}, \"5944\": {\"frequency\": 6, \"value\": 5944}, \"5945\": {\"frequency\": 5, \"value\": 5945}, \"5946\": {\"frequency\": 5, \"value\": 5946}, \"5948\": {\"frequency\": 2, \"value\": 5948}, \"5949\": {\"frequency\": 5, \"value\": 5949}, \"5950\": {\"frequency\": 38, \"value\": 5950}, \"5951\": {\"frequency\": 4, \"value\": 5951}, \"5952\": {\"frequency\": 6, \"value\": 5952}, \"5953\": {\"frequency\": 2, \"value\": 5953}, \"5955\": {\"frequency\": 6, \"value\": 5955}, \"5956\": {\"frequency\": 3, \"value\": 5956}, \"5957\": {\"frequency\": 3, \"value\": 5957}, \"5958\": {\"frequency\": 12, \"value\": 5958}, \"5960\": {\"frequency\": 10, \"value\": 5960}, \"5961\": {\"frequency\": 2, \"value\": 5961}, \"5962\": {\"frequency\": 4, \"value\": 5962}, \"5963\": {\"frequency\": 4, \"value\": 5963}, \"5964\": {\"frequency\": 3, \"value\": 5964}, \"5966\": {\"frequency\": 12, \"value\": 5966}, \"5967\": {\"frequency\": 3, \"value\": 5967}, \"5970\": {\"frequency\": 4, \"value\": 5970}, \"5971\": {\"frequency\": 4, \"value\": 5971}, \"5972\": {\"frequency\": 2, \"value\": 5972}, \"5973\": {\"frequency\": 7, \"value\": 5973}, \"5974\": {\"frequency\": 5, \"value\": 5974}, \"5975\": {\"frequency\": 11, \"value\": 5975}, \"5976\": {\"frequency\": 7, \"value\": 5976}, \"5977\": {\"frequency\": 6, \"value\": 5977}, \"5980\": {\"frequency\": 7, \"value\": 5980}, \"5981\": {\"frequency\": 3, \"value\": 5981}, \"5982\": {\"frequency\": 4, \"value\": 5982}, \"5983\": {\"frequency\": 9, \"value\": 5983}, \"5984\": {\"frequency\": 6, \"value\": 5984}, \"5985\": {\"frequency\": 3, \"value\": 5985}, \"5986\": {\"frequency\": 7, \"value\": 5986}, \"5987\": {\"frequency\": 4, \"value\": 5987}, \"5989\": {\"frequency\": 3, \"value\": 5989}, \"5990\": {\"frequency\": 5, \"value\": 5990}, \"5991\": {\"frequency\": 5, \"value\": 5991}, \"5992\": {\"frequency\": 4, \"value\": 5992}, \"5993\": {\"frequency\": 4, \"value\": 5993}, \"5994\": {\"frequency\": 3, \"value\": 5994}, \"5995\": {\"frequency\": 5, \"value\": 5995}, \"5996\": {\"frequency\": 3, \"value\": 5996}, \"5997\": {\"frequency\": 3, \"value\": 5997}, \"5999\": {\"frequency\": 14, \"value\": 5999}, \"6000\": {\"frequency\": 1934, \"value\": 6000}, \"6001\": {\"frequency\": 17, \"value\": 6001}, \"6002\": {\"frequency\": 7, \"value\": 6002}, \"6003\": {\"frequency\": 8, \"value\": 6003}, \"6005\": {\"frequency\": 4, \"value\": 6005}, \"6006\": {\"frequency\": 7, \"value\": 6006}, \"6008\": {\"frequency\": 8, \"value\": 6008}, \"6009\": {\"frequency\": 4, \"value\": 6009}, \"6010\": {\"frequency\": 7, \"value\": 6010}, \"6011\": {\"frequency\": 3, \"value\": 6011}, \"6014\": {\"frequency\": 4, \"value\": 6014}, \"6015\": {\"frequency\": 5, \"value\": 6015}, \"6016\": {\"frequency\": 14, \"value\": 6016}, \"6017\": {\"frequency\": 6, \"value\": 6017}, \"6018\": {\"frequency\": 6, \"value\": 6018}, \"6019\": {\"frequency\": 5, \"value\": 6019}, \"6020\": {\"frequency\": 10, \"value\": 6020}, \"6021\": {\"frequency\": 3, \"value\": 6021}, \"6023\": {\"frequency\": 3, \"value\": 6023}, \"6024\": {\"frequency\": 4, \"value\": 6024}, \"6025\": {\"frequency\": 6, \"value\": 6025}, \"6026\": {\"frequency\": 4, \"value\": 6026}, \"6027\": {\"frequency\": 6, \"value\": 6027}, \"6029\": {\"frequency\": 5, \"value\": 6029}, \"6030\": {\"frequency\": 5, \"value\": 6030}, \"6031\": {\"frequency\": 4, \"value\": 6031}, \"6032\": {\"frequency\": 5, \"value\": 6032}, \"6033\": {\"frequency\": 14, \"value\": 6033}, \"6034\": {\"frequency\": 7, \"value\": 6034}, \"6035\": {\"frequency\": 4, \"value\": 6035}, \"6036\": {\"frequency\": 2, \"value\": 6036}, \"6037\": {\"frequency\": 4, \"value\": 6037}, \"6038\": {\"frequency\": 5, \"value\": 6038}, \"6039\": {\"frequency\": 3, \"value\": 6039}, \"6040\": {\"frequency\": 9, \"value\": 6040}, \"6041\": {\"frequency\": 16, \"value\": 6041}, \"6042\": {\"frequency\": 5, \"value\": 6042}, \"6043\": {\"frequency\": 6, \"value\": 6043}, \"6044\": {\"frequency\": 4, \"value\": 6044}, \"6045\": {\"frequency\": 5, \"value\": 6045}, \"6046\": {\"frequency\": 4, \"value\": 6046}, \"6048\": {\"frequency\": 4, \"value\": 6048}, \"6050\": {\"frequency\": 28, \"value\": 6050}, \"6051\": {\"frequency\": 4, \"value\": 6051}, \"6052\": {\"frequency\": 3, \"value\": 6052}, \"6054\": {\"frequency\": 3, \"value\": 6054}, \"6055\": {\"frequency\": 2, \"value\": 6055}, \"6056\": {\"frequency\": 7, \"value\": 6056}, \"6057\": {\"frequency\": 5, \"value\": 6057}, \"6058\": {\"frequency\": 6, \"value\": 6058}, \"6059\": {\"frequency\": 4, \"value\": 6059}, \"6060\": {\"frequency\": 9, \"value\": 6060}, \"6061\": {\"frequency\": 5, \"value\": 6061}, \"6062\": {\"frequency\": 2, \"value\": 6062}, \"6063\": {\"frequency\": 6, \"value\": 6063}, \"6064\": {\"frequency\": 5, \"value\": 6064}, \"6065\": {\"frequency\": 5, \"value\": 6065}, \"6066\": {\"frequency\": 15, \"value\": 6066}, \"6067\": {\"frequency\": 4, \"value\": 6067}, \"6070\": {\"frequency\": 10, \"value\": 6070}, \"6071\": {\"frequency\": 4, \"value\": 6071}, \"6072\": {\"frequency\": 8, \"value\": 6072}, \"6075\": {\"frequency\": 12, \"value\": 6075}, \"6078\": {\"frequency\": 4, \"value\": 6078}, \"6080\": {\"frequency\": 14, \"value\": 6080}, \"6081\": {\"frequency\": 3, \"value\": 6081}, \"6082\": {\"frequency\": 6, \"value\": 6082}, \"6083\": {\"frequency\": 114, \"value\": 6083}, \"6084\": {\"frequency\": 8, \"value\": 6084}, \"6085\": {\"frequency\": 8, \"value\": 6085}, \"6086\": {\"frequency\": 5, \"value\": 6086}, \"6087\": {\"frequency\": 4, \"value\": 6087}, \"6088\": {\"frequency\": 3, \"value\": 6088}, \"6089\": {\"frequency\": 5, \"value\": 6089}, \"6090\": {\"frequency\": 11, \"value\": 6090}, \"6091\": {\"frequency\": 4, \"value\": 6091}, \"6092\": {\"frequency\": 6, \"value\": 6092}, \"6093\": {\"frequency\": 5, \"value\": 6093}, \"6095\": {\"frequency\": 6, \"value\": 6095}, \"6096\": {\"frequency\": 5, \"value\": 6096}, \"6098\": {\"frequency\": 2, \"value\": 6098}, \"6099\": {\"frequency\": 2, \"value\": 6099}, \"6100\": {\"frequency\": 218, \"value\": 6100}, \"6101\": {\"frequency\": 5, \"value\": 6101}, \"6102\": {\"frequency\": 4, \"value\": 6102}, \"6104\": {\"frequency\": 3, \"value\": 6104}, \"6106\": {\"frequency\": 3, \"value\": 6106}, \"6107\": {\"frequency\": 3, \"value\": 6107}, \"6108\": {\"frequency\": 5, \"value\": 6108}, \"6110\": {\"frequency\": 4, \"value\": 6110}, \"6112\": {\"frequency\": 5, \"value\": 6112}, \"6113\": {\"frequency\": 5, \"value\": 6113}, \"6114\": {\"frequency\": 2, \"value\": 6114}, \"6116\": {\"frequency\": 16, \"value\": 6116}, \"6117\": {\"frequency\": 4, \"value\": 6117}, \"6118\": {\"frequency\": 7, \"value\": 6118}, \"6119\": {\"frequency\": 2, \"value\": 6119}, \"6120\": {\"frequency\": 6, \"value\": 6120}, \"6121\": {\"frequency\": 5, \"value\": 6121}, \"6122\": {\"frequency\": 4, \"value\": 6122}, \"6123\": {\"frequency\": 6, \"value\": 6123}, \"6124\": {\"frequency\": 4, \"value\": 6124}, \"6125\": {\"frequency\": 27, \"value\": 6125}, \"6126\": {\"frequency\": 3, \"value\": 6126}, \"6128\": {\"frequency\": 6, \"value\": 6128}, \"6130\": {\"frequency\": 4, \"value\": 6130}, \"38900\": {\"frequency\": 1, \"value\": 38900}, \"6133\": {\"frequency\": 13, \"value\": 6133}, \"6134\": {\"frequency\": 7, \"value\": 6134}, \"6135\": {\"frequency\": 4, \"value\": 6135}, \"6136\": {\"frequency\": 4, \"value\": 6136}, \"6138\": {\"frequency\": 7, \"value\": 6138}, \"6140\": {\"frequency\": 7, \"value\": 6140}, \"6141\": {\"frequency\": 5, \"value\": 6141}, \"6142\": {\"frequency\": 3, \"value\": 6142}, \"6143\": {\"frequency\": 8, \"value\": 6143}, \"6144\": {\"frequency\": 7, \"value\": 6144}, \"6145\": {\"frequency\": 5, \"value\": 6145}, \"6146\": {\"frequency\": 8, \"value\": 6146}, \"6147\": {\"frequency\": 3, \"value\": 6147}, \"6149\": {\"frequency\": 3, \"value\": 6149}, \"6150\": {\"frequency\": 43, \"value\": 6150}, \"6151\": {\"frequency\": 5, \"value\": 6151}, \"6153\": {\"frequency\": 5, \"value\": 6153}, \"6154\": {\"frequency\": 4, \"value\": 6154}, \"6155\": {\"frequency\": 5, \"value\": 6155}, \"6156\": {\"frequency\": 4, \"value\": 6156}, \"6157\": {\"frequency\": 4, \"value\": 6157}, \"6159\": {\"frequency\": 6, \"value\": 6159}, \"6160\": {\"frequency\": 13, \"value\": 6160}, \"6161\": {\"frequency\": 5, \"value\": 6161}, \"6162\": {\"frequency\": 4, \"value\": 6162}, \"6163\": {\"frequency\": 3, \"value\": 6163}, \"6164\": {\"frequency\": 2, \"value\": 6164}, \"6165\": {\"frequency\": 7, \"value\": 6165}, \"6166\": {\"frequency\": 97, \"value\": 6166}, \"6167\": {\"frequency\": 22, \"value\": 6167}, \"6169\": {\"frequency\": 3, \"value\": 6169}, \"6170\": {\"frequency\": 7, \"value\": 6170}, \"6171\": {\"frequency\": 3, \"value\": 6171}, \"6172\": {\"frequency\": 6, \"value\": 6172}, \"6173\": {\"frequency\": 5, \"value\": 6173}, \"6174\": {\"frequency\": 2, \"value\": 6174}, \"6175\": {\"frequency\": 11, \"value\": 6175}, \"6176\": {\"frequency\": 9, \"value\": 6176}, \"6178\": {\"frequency\": 4, \"value\": 6178}, \"6179\": {\"frequency\": 5, \"value\": 6179}, \"6180\": {\"frequency\": 11, \"value\": 6180}, \"6182\": {\"frequency\": 8, \"value\": 6182}, \"6183\": {\"frequency\": 5, \"value\": 6183}, \"6184\": {\"frequency\": 6, \"value\": 6184}, \"6185\": {\"frequency\": 7, \"value\": 6185}, \"6186\": {\"frequency\": 5, \"value\": 6186}, \"6187\": {\"frequency\": 5, \"value\": 6187}, \"6188\": {\"frequency\": 3, \"value\": 6188}, \"6189\": {\"frequency\": 4, \"value\": 6189}, \"6190\": {\"frequency\": 4, \"value\": 6190}, \"6191\": {\"frequency\": 5, \"value\": 6191}, \"6193\": {\"frequency\": 3, \"value\": 6193}, \"6194\": {\"frequency\": 3, \"value\": 6194}, \"6196\": {\"frequency\": 2, \"value\": 6196}, \"6197\": {\"frequency\": 4, \"value\": 6197}, \"6198\": {\"frequency\": 8, \"value\": 6198}, \"6199\": {\"frequency\": 5, \"value\": 6199}, \"6200\": {\"frequency\": 310, \"value\": 6200}, \"6201\": {\"frequency\": 3, \"value\": 6201}, \"6202\": {\"frequency\": 3, \"value\": 6202}, \"6203\": {\"frequency\": 6, \"value\": 6203}, \"6204\": {\"frequency\": 6, \"value\": 6204}, \"6208\": {\"frequency\": 12, \"value\": 6208}, \"6210\": {\"frequency\": 8, \"value\": 6210}, \"6211\": {\"frequency\": 6, \"value\": 6211}, \"6212\": {\"frequency\": 4, \"value\": 6212}, \"6213\": {\"frequency\": 6, \"value\": 6213}, \"6214\": {\"frequency\": 5, \"value\": 6214}, \"6216\": {\"frequency\": 7, \"value\": 6216}, \"6217\": {\"frequency\": 9, \"value\": 6217}, \"6218\": {\"frequency\": 5, \"value\": 6218}, \"6220\": {\"frequency\": 5, \"value\": 6220}, \"6223\": {\"frequency\": 5, \"value\": 6223}, \"6224\": {\"frequency\": 6, \"value\": 6224}, \"6225\": {\"frequency\": 12, \"value\": 6225}, \"6226\": {\"frequency\": 6, \"value\": 6226}, \"6227\": {\"frequency\": 4, \"value\": 6227}, \"6228\": {\"frequency\": 3, \"value\": 6228}, \"6229\": {\"frequency\": 4, \"value\": 6229}, \"6230\": {\"frequency\": 9, \"value\": 6230}, \"6231\": {\"frequency\": 6, \"value\": 6231}, \"6232\": {\"frequency\": 3, \"value\": 6232}, \"6233\": {\"frequency\": 17, \"value\": 6233}, \"6235\": {\"frequency\": 5, \"value\": 6235}, \"6236\": {\"frequency\": 5, \"value\": 6236}, \"6237\": {\"frequency\": 3, \"value\": 6237}, \"6239\": {\"frequency\": 5, \"value\": 6239}, \"6240\": {\"frequency\": 14, \"value\": 6240}, \"6242\": {\"frequency\": 3, \"value\": 6242}, \"6244\": {\"frequency\": 4, \"value\": 6244}, \"6245\": {\"frequency\": 7, \"value\": 6245}, \"6246\": {\"frequency\": 8, \"value\": 6246}, \"6248\": {\"frequency\": 5, \"value\": 6248}, \"6249\": {\"frequency\": 16, \"value\": 6249}, \"6250\": {\"frequency\": 570, \"value\": 6250}, \"6251\": {\"frequency\": 9, \"value\": 6251}, \"6252\": {\"frequency\": 6, \"value\": 6252}, \"6253\": {\"frequency\": 4, \"value\": 6253}, \"6254\": {\"frequency\": 3, \"value\": 6254}, \"6255\": {\"frequency\": 5, \"value\": 6255}, \"6256\": {\"frequency\": 3, \"value\": 6256}, \"6257\": {\"frequency\": 3, \"value\": 6257}, \"6258\": {\"frequency\": 6, \"value\": 6258}, \"6259\": {\"frequency\": 5, \"value\": 6259}, \"6260\": {\"frequency\": 2, \"value\": 6260}, \"6261\": {\"frequency\": 5, \"value\": 6261}, \"6262\": {\"frequency\": 4, \"value\": 6262}, \"6263\": {\"frequency\": 3, \"value\": 6263}, \"6264\": {\"frequency\": 7, \"value\": 6264}, \"6265\": {\"frequency\": 6, \"value\": 6265}, \"6266\": {\"frequency\": 10, \"value\": 6266}, \"6267\": {\"frequency\": 4, \"value\": 6267}, \"6268\": {\"frequency\": 3, \"value\": 6268}, \"6269\": {\"frequency\": 2, \"value\": 6269}, \"6270\": {\"frequency\": 8, \"value\": 6270}, \"6273\": {\"frequency\": 3, \"value\": 6273}, \"6275\": {\"frequency\": 9, \"value\": 6275}, \"6276\": {\"frequency\": 3, \"value\": 6276}, \"6277\": {\"frequency\": 3, \"value\": 6277}, \"6278\": {\"frequency\": 5, \"value\": 6278}, \"6279\": {\"frequency\": 3, \"value\": 6279}, \"6280\": {\"frequency\": 8, \"value\": 6280}, \"6281\": {\"frequency\": 5, \"value\": 6281}, \"6283\": {\"frequency\": 19, \"value\": 6283}, \"6284\": {\"frequency\": 8, \"value\": 6284}, \"6286\": {\"frequency\": 2, \"value\": 6286}, \"6287\": {\"frequency\": 3, \"value\": 6287}, \"6290\": {\"frequency\": 6, \"value\": 6290}, \"6291\": {\"frequency\": 14, \"value\": 6291}, \"6292\": {\"frequency\": 9, \"value\": 6292}, \"6293\": {\"frequency\": 7, \"value\": 6293}, \"6294\": {\"frequency\": 4, \"value\": 6294}, \"6295\": {\"frequency\": 3, \"value\": 6295}, \"6296\": {\"frequency\": 5, \"value\": 6296}, \"6297\": {\"frequency\": 4, \"value\": 6297}, \"6298\": {\"frequency\": 7, \"value\": 6298}, \"6299\": {\"frequency\": 5, \"value\": 6299}, \"6300\": {\"frequency\": 225, \"value\": 6300}, \"6301\": {\"frequency\": 5, \"value\": 6301}, \"6303\": {\"frequency\": 4, \"value\": 6303}, \"6305\": {\"frequency\": 5, \"value\": 6305}, \"6306\": {\"frequency\": 4, \"value\": 6306}, \"6307\": {\"frequency\": 4, \"value\": 6307}, \"6308\": {\"frequency\": 9, \"value\": 6308}, \"6310\": {\"frequency\": 9, \"value\": 6310}, \"6313\": {\"frequency\": 4, \"value\": 6313}, \"6315\": {\"frequency\": 6, \"value\": 6315}, \"6316\": {\"frequency\": 13, \"value\": 6316}, \"6317\": {\"frequency\": 3, \"value\": 6317}, \"6319\": {\"frequency\": 5, \"value\": 6319}, \"6320\": {\"frequency\": 7, \"value\": 6320}, \"6321\": {\"frequency\": 5, \"value\": 6321}, \"6322\": {\"frequency\": 5, \"value\": 6322}, \"6323\": {\"frequency\": 2, \"value\": 6323}, \"6324\": {\"frequency\": 6, \"value\": 6324}, \"6325\": {\"frequency\": 6, \"value\": 6325}, \"6326\": {\"frequency\": 8, \"value\": 6326}, \"6327\": {\"frequency\": 3, \"value\": 6327}, \"6330\": {\"frequency\": 5, \"value\": 6330}, \"6331\": {\"frequency\": 3, \"value\": 6331}, \"6332\": {\"frequency\": 8, \"value\": 6332}, \"6333\": {\"frequency\": 88, \"value\": 6333}, \"6334\": {\"frequency\": 7, \"value\": 6334}, \"6335\": {\"frequency\": 7, \"value\": 6335}, \"6336\": {\"frequency\": 2, \"value\": 6336}, \"6337\": {\"frequency\": 5, \"value\": 6337}, \"6338\": {\"frequency\": 3, \"value\": 6338}, \"6339\": {\"frequency\": 5, \"value\": 6339}, \"6340\": {\"frequency\": 14, \"value\": 6340}, \"6342\": {\"frequency\": 2, \"value\": 6342}, \"6344\": {\"frequency\": 4, \"value\": 6344}, \"6345\": {\"frequency\": 5, \"value\": 6345}, \"6347\": {\"frequency\": 6, \"value\": 6347}, \"6348\": {\"frequency\": 2, \"value\": 6348}, \"6349\": {\"frequency\": 2, \"value\": 6349}, \"6350\": {\"frequency\": 37, \"value\": 6350}, \"6351\": {\"frequency\": 6, \"value\": 6351}, \"6352\": {\"frequency\": 3, \"value\": 6352}, \"6353\": {\"frequency\": 3, \"value\": 6353}, \"6354\": {\"frequency\": 3, \"value\": 6354}, \"6355\": {\"frequency\": 4, \"value\": 6355}, \"6357\": {\"frequency\": 2, \"value\": 6357}, \"6358\": {\"frequency\": 5, \"value\": 6358}, \"6359\": {\"frequency\": 3, \"value\": 6359}, \"6360\": {\"frequency\": 6, \"value\": 6360}, \"6361\": {\"frequency\": 4, \"value\": 6361}, \"6364\": {\"frequency\": 7, \"value\": 6364}, \"6365\": {\"frequency\": 7, \"value\": 6365}, \"6366\": {\"frequency\": 16, \"value\": 6366}, \"6369\": {\"frequency\": 5, \"value\": 6369}, \"6370\": {\"frequency\": 4, \"value\": 6370}, \"6372\": {\"frequency\": 5, \"value\": 6372}, \"6373\": {\"frequency\": 4, \"value\": 6373}, \"6375\": {\"frequency\": 11, \"value\": 6375}, \"6376\": {\"frequency\": 2, \"value\": 6376}, \"6377\": {\"frequency\": 5, \"value\": 6377}, \"6378\": {\"frequency\": 2, \"value\": 6378}, \"6380\": {\"frequency\": 12, \"value\": 6380}, \"6381\": {\"frequency\": 6, \"value\": 6381}, \"6382\": {\"frequency\": 3, \"value\": 6382}, \"6383\": {\"frequency\": 5, \"value\": 6383}, \"6384\": {\"frequency\": 5, \"value\": 6384}, \"6385\": {\"frequency\": 3, \"value\": 6385}, \"6386\": {\"frequency\": 3, \"value\": 6386}, \"6387\": {\"frequency\": 4, \"value\": 6387}, \"6388\": {\"frequency\": 7, \"value\": 6388}, \"6389\": {\"frequency\": 3, \"value\": 6389}, \"6390\": {\"frequency\": 5, \"value\": 6390}, \"6391\": {\"frequency\": 6, \"value\": 6391}, \"6392\": {\"frequency\": 4, \"value\": 6392}, \"6395\": {\"frequency\": 11, \"value\": 6395}, \"6396\": {\"frequency\": 3, \"value\": 6396}, \"6398\": {\"frequency\": 4, \"value\": 6398}, \"6399\": {\"frequency\": 4, \"value\": 6399}, \"6400\": {\"frequency\": 270, \"value\": 6400}, \"6402\": {\"frequency\": 3, \"value\": 6402}, \"6403\": {\"frequency\": 2, \"value\": 6403}, \"6404\": {\"frequency\": 10, \"value\": 6404}, \"6407\": {\"frequency\": 5, \"value\": 6407}, \"6408\": {\"frequency\": 7, \"value\": 6408}, \"6410\": {\"frequency\": 3, \"value\": 6410}, \"6412\": {\"frequency\": 6, \"value\": 6412}, \"6413\": {\"frequency\": 3, \"value\": 6413}, \"6414\": {\"frequency\": 3, \"value\": 6414}, \"6415\": {\"frequency\": 5, \"value\": 6415}, \"6416\": {\"frequency\": 84, \"value\": 6416}, \"6417\": {\"frequency\": 15, \"value\": 6417}, \"6418\": {\"frequency\": 3, \"value\": 6418}, \"6420\": {\"frequency\": 11, \"value\": 6420}, \"6421\": {\"frequency\": 4, \"value\": 6421}, \"6425\": {\"frequency\": 8, \"value\": 6425}, \"6426\": {\"frequency\": 5, \"value\": 6426}, \"6427\": {\"frequency\": 5, \"value\": 6427}, \"6428\": {\"frequency\": 4, \"value\": 6428}, \"6429\": {\"frequency\": 10, \"value\": 6429}, \"6430\": {\"frequency\": 6, \"value\": 6430}, \"6431\": {\"frequency\": 5, \"value\": 6431}, \"6433\": {\"frequency\": 11, \"value\": 6433}, \"6434\": {\"frequency\": 3, \"value\": 6434}, \"6435\": {\"frequency\": 2, \"value\": 6435}, \"6436\": {\"frequency\": 4, \"value\": 6436}, \"6437\": {\"frequency\": 6, \"value\": 6437}, \"6438\": {\"frequency\": 6, \"value\": 6438}, \"6439\": {\"frequency\": 7, \"value\": 6439}, \"6440\": {\"frequency\": 8, \"value\": 6440}, \"6441\": {\"frequency\": 4, \"value\": 6441}, \"6444\": {\"frequency\": 5, \"value\": 6444}, \"6448\": {\"frequency\": 8, \"value\": 6448}, \"6449\": {\"frequency\": 5, \"value\": 6449}, \"6450\": {\"frequency\": 37, \"value\": 6450}, \"6451\": {\"frequency\": 5, \"value\": 6451}, \"6452\": {\"frequency\": 2, \"value\": 6452}, \"6453\": {\"frequency\": 3, \"value\": 6453}, \"6454\": {\"frequency\": 5, \"value\": 6454}, \"6456\": {\"frequency\": 4, \"value\": 6456}, \"6458\": {\"frequency\": 17, \"value\": 6458}, \"6459\": {\"frequency\": 5, \"value\": 6459}, \"6460\": {\"frequency\": 7, \"value\": 6460}, \"6461\": {\"frequency\": 3, \"value\": 6461}, \"6462\": {\"frequency\": 3, \"value\": 6462}, \"6465\": {\"frequency\": 2, \"value\": 6465}, \"6466\": {\"frequency\": 16, \"value\": 6466}, \"6467\": {\"frequency\": 3, \"value\": 6467}, \"6469\": {\"frequency\": 5, \"value\": 6469}, \"6470\": {\"frequency\": 7, \"value\": 6470}, \"6471\": {\"frequency\": 3, \"value\": 6471}, \"6472\": {\"frequency\": 3, \"value\": 6472}, \"6473\": {\"frequency\": 6, \"value\": 6473}, \"6475\": {\"frequency\": 5, \"value\": 6475}, \"6476\": {\"frequency\": 4, \"value\": 6476}, \"6477\": {\"frequency\": 7, \"value\": 6477}, \"6479\": {\"frequency\": 2, \"value\": 6479}, \"6480\": {\"frequency\": 12, \"value\": 6480}, \"6482\": {\"frequency\": 5, \"value\": 6482}, \"6483\": {\"frequency\": 12, \"value\": 6483}, \"6484\": {\"frequency\": 2, \"value\": 6484}, \"6485\": {\"frequency\": 5, \"value\": 6485}, \"6486\": {\"frequency\": 3, \"value\": 6486}, \"6488\": {\"frequency\": 6, \"value\": 6488}, \"6489\": {\"frequency\": 3, \"value\": 6489}, \"6490\": {\"frequency\": 4, \"value\": 6490}, \"6491\": {\"frequency\": 5, \"value\": 6491}, \"6492\": {\"frequency\": 4, \"value\": 6492}, \"6493\": {\"frequency\": 3, \"value\": 6493}, \"6494\": {\"frequency\": 3, \"value\": 6494}, \"6495\": {\"frequency\": 7, \"value\": 6495}, \"6496\": {\"frequency\": 6, \"value\": 6496}, \"6497\": {\"frequency\": 5, \"value\": 6497}, \"6499\": {\"frequency\": 14, \"value\": 6499}, \"6500\": {\"frequency\": 841, \"value\": 6500}, \"6501\": {\"frequency\": 10, \"value\": 6501}, \"6503\": {\"frequency\": 5, \"value\": 6503}, \"6504\": {\"frequency\": 6, \"value\": 6504}, \"6506\": {\"frequency\": 6, \"value\": 6506}, \"6507\": {\"frequency\": 4, \"value\": 6507}, \"6508\": {\"frequency\": 10, \"value\": 6508}, \"6509\": {\"frequency\": 3, \"value\": 6509}, \"6511\": {\"frequency\": 4, \"value\": 6511}, \"6512\": {\"frequency\": 6, \"value\": 6512}, \"6513\": {\"frequency\": 3, \"value\": 6513}, \"6514\": {\"frequency\": 2, \"value\": 6514}, \"6515\": {\"frequency\": 3, \"value\": 6515}, \"6516\": {\"frequency\": 12, \"value\": 6516}, \"6517\": {\"frequency\": 2, \"value\": 6517}, \"6518\": {\"frequency\": 5, \"value\": 6518}, \"6519\": {\"frequency\": 2, \"value\": 6519}, \"6520\": {\"frequency\": 6, \"value\": 6520}, \"6521\": {\"frequency\": 7, \"value\": 6521}, \"6522\": {\"frequency\": 6, \"value\": 6522}, \"6524\": {\"frequency\": 3, \"value\": 6524}, \"6525\": {\"frequency\": 6, \"value\": 6525}, \"6526\": {\"frequency\": 2, \"value\": 6526}, \"6528\": {\"frequency\": 3, \"value\": 6528}, \"6529\": {\"frequency\": 3, \"value\": 6529}, \"6530\": {\"frequency\": 8, \"value\": 6530}, \"6532\": {\"frequency\": 7, \"value\": 6532}, \"6533\": {\"frequency\": 15, \"value\": 6533}, \"6534\": {\"frequency\": 3, \"value\": 6534}, \"6535\": {\"frequency\": 3, \"value\": 6535}, \"6536\": {\"frequency\": 2, \"value\": 6536}, \"6537\": {\"frequency\": 9, \"value\": 6537}, \"6538\": {\"frequency\": 6, \"value\": 6538}, \"6539\": {\"frequency\": 4, \"value\": 6539}, \"6540\": {\"frequency\": 13, \"value\": 6540}, \"6541\": {\"frequency\": 15, \"value\": 6541}, \"6543\": {\"frequency\": 3, \"value\": 6543}, \"6545\": {\"frequency\": 3, \"value\": 6545}, \"6547\": {\"frequency\": 4, \"value\": 6547}, \"6548\": {\"frequency\": 5, \"value\": 6548}, \"6550\": {\"frequency\": 37, \"value\": 6550}, \"6552\": {\"frequency\": 5, \"value\": 6552}, \"6554\": {\"frequency\": 3, \"value\": 6554}, \"6555\": {\"frequency\": 3, \"value\": 6555}, \"6556\": {\"frequency\": 6, \"value\": 6556}, \"6558\": {\"frequency\": 6, \"value\": 6558}, \"6559\": {\"frequency\": 3, \"value\": 6559}, \"6560\": {\"frequency\": 7, \"value\": 6560}, \"6561\": {\"frequency\": 2, \"value\": 6561}, \"6562\": {\"frequency\": 8, \"value\": 6562}, \"6563\": {\"frequency\": 6, \"value\": 6563}, \"6564\": {\"frequency\": 4, \"value\": 6564}, \"6565\": {\"frequency\": 7, \"value\": 6565}, \"6566\": {\"frequency\": 14, \"value\": 6566}, \"6567\": {\"frequency\": 4, \"value\": 6567}, \"6568\": {\"frequency\": 3, \"value\": 6568}, \"6569\": {\"frequency\": 2, \"value\": 6569}, \"6570\": {\"frequency\": 6, \"value\": 6570}, \"6571\": {\"frequency\": 5, \"value\": 6571}, \"6572\": {\"frequency\": 5, \"value\": 6572}, \"6573\": {\"frequency\": 6, \"value\": 6573}, \"6574\": {\"frequency\": 4, \"value\": 6574}, \"6575\": {\"frequency\": 10, \"value\": 6575}, \"6576\": {\"frequency\": 5, \"value\": 6576}, \"6578\": {\"frequency\": 2, \"value\": 6578}, \"6579\": {\"frequency\": 4, \"value\": 6579}, \"6580\": {\"frequency\": 10, \"value\": 6580}, \"6581\": {\"frequency\": 5, \"value\": 6581}, \"6582\": {\"frequency\": 3, \"value\": 6582}, \"6583\": {\"frequency\": 61, \"value\": 6583}, \"6584\": {\"frequency\": 7, \"value\": 6584}, \"6585\": {\"frequency\": 5, \"value\": 6585}, \"6586\": {\"frequency\": 7, \"value\": 6586}, \"6587\": {\"frequency\": 5, \"value\": 6587}, \"6589\": {\"frequency\": 5, \"value\": 6589}, \"6590\": {\"frequency\": 6, \"value\": 6590}, \"6591\": {\"frequency\": 6, \"value\": 6591}, \"6592\": {\"frequency\": 4, \"value\": 6592}, \"6594\": {\"frequency\": 2, \"value\": 6594}, \"6595\": {\"frequency\": 4, \"value\": 6595}, \"6596\": {\"frequency\": 3, \"value\": 6596}, \"6597\": {\"frequency\": 4, \"value\": 6597}, \"6599\": {\"frequency\": 4, \"value\": 6599}, \"6600\": {\"frequency\": 275, \"value\": 6600}, \"6602\": {\"frequency\": 6, \"value\": 6602}, \"6607\": {\"frequency\": 2, \"value\": 6607}, \"6608\": {\"frequency\": 7, \"value\": 6608}, \"6609\": {\"frequency\": 3, \"value\": 6609}, \"6610\": {\"frequency\": 5, \"value\": 6610}, \"6611\": {\"frequency\": 6, \"value\": 6611}, \"6612\": {\"frequency\": 3, \"value\": 6612}, \"6613\": {\"frequency\": 4, \"value\": 6613}, \"6614\": {\"frequency\": 5, \"value\": 6614}, \"6615\": {\"frequency\": 10, \"value\": 6615}, \"6616\": {\"frequency\": 10, \"value\": 6616}, \"6617\": {\"frequency\": 6, \"value\": 6617}, \"6618\": {\"frequency\": 2, \"value\": 6618}, \"6619\": {\"frequency\": 5, \"value\": 6619}, \"6620\": {\"frequency\": 11, \"value\": 6620}, \"6621\": {\"frequency\": 5, \"value\": 6621}, \"6622\": {\"frequency\": 4, \"value\": 6622}, \"6623\": {\"frequency\": 3, \"value\": 6623}, \"6624\": {\"frequency\": 5, \"value\": 6624}, \"6625\": {\"frequency\": 20, \"value\": 6625}, \"6626\": {\"frequency\": 7, \"value\": 6626}, \"6627\": {\"frequency\": 3, \"value\": 6627}, \"6628\": {\"frequency\": 4, \"value\": 6628}, \"6629\": {\"frequency\": 2, \"value\": 6629}, \"6630\": {\"frequency\": 8, \"value\": 6630}, \"6632\": {\"frequency\": 3, \"value\": 6632}, \"6633\": {\"frequency\": 21, \"value\": 6633}, \"6634\": {\"frequency\": 5, \"value\": 6634}, \"6635\": {\"frequency\": 4, \"value\": 6635}, \"6636\": {\"frequency\": 3, \"value\": 6636}, \"6639\": {\"frequency\": 5, \"value\": 6639}, \"6640\": {\"frequency\": 8, \"value\": 6640}, \"6641\": {\"frequency\": 7, \"value\": 6641}, \"6642\": {\"frequency\": 4, \"value\": 6642}, \"6643\": {\"frequency\": 4, \"value\": 6643}, \"6645\": {\"frequency\": 7, \"value\": 6645}, \"6646\": {\"frequency\": 4, \"value\": 6646}, \"6647\": {\"frequency\": 4, \"value\": 6647}, \"6648\": {\"frequency\": 5, \"value\": 6648}, \"6649\": {\"frequency\": 6, \"value\": 6649}, \"6650\": {\"frequency\": 46, \"value\": 6650}, \"6652\": {\"frequency\": 4, \"value\": 6652}, \"6654\": {\"frequency\": 2, \"value\": 6654}, \"6655\": {\"frequency\": 8, \"value\": 6655}, \"6657\": {\"frequency\": 2, \"value\": 6657}, \"6658\": {\"frequency\": 2, \"value\": 6658}, \"6659\": {\"frequency\": 3, \"value\": 6659}, \"6660\": {\"frequency\": 14, \"value\": 6660}, \"6663\": {\"frequency\": 6, \"value\": 6663}, \"6664\": {\"frequency\": 2, \"value\": 6664}, \"6665\": {\"frequency\": 3, \"value\": 6665}, \"6666\": {\"frequency\": 436, \"value\": 6666}, \"6667\": {\"frequency\": 82, \"value\": 6667}, \"6668\": {\"frequency\": 9, \"value\": 6668}, \"6670\": {\"frequency\": 17, \"value\": 6670}, \"6671\": {\"frequency\": 6, \"value\": 6671}, \"6673\": {\"frequency\": 5, \"value\": 6673}, \"6674\": {\"frequency\": 5, \"value\": 6674}, \"6675\": {\"frequency\": 5, \"value\": 6675}, \"6676\": {\"frequency\": 3, \"value\": 6676}, \"6678\": {\"frequency\": 5, \"value\": 6678}, \"6679\": {\"frequency\": 3, \"value\": 6679}, \"6680\": {\"frequency\": 7, \"value\": 6680}, \"6681\": {\"frequency\": 3, \"value\": 6681}, \"6683\": {\"frequency\": 9, \"value\": 6683}, \"6685\": {\"frequency\": 3, \"value\": 6685}, \"6686\": {\"frequency\": 6, \"value\": 6686}, \"6688\": {\"frequency\": 2, \"value\": 6688}, \"6689\": {\"frequency\": 2, \"value\": 6689}, \"6690\": {\"frequency\": 5, \"value\": 6690}, \"6691\": {\"frequency\": 4, \"value\": 6691}, \"6692\": {\"frequency\": 4, \"value\": 6692}, \"6693\": {\"frequency\": 6, \"value\": 6693}, \"6694\": {\"frequency\": 5, \"value\": 6694}, \"6696\": {\"frequency\": 6, \"value\": 6696}, \"6699\": {\"frequency\": 5, \"value\": 6699}, \"6700\": {\"frequency\": 252, \"value\": 6700}, \"6701\": {\"frequency\": 3, \"value\": 6701}, \"6702\": {\"frequency\": 2, \"value\": 6702}, \"6704\": {\"frequency\": 2, \"value\": 6704}, \"6705\": {\"frequency\": 4, \"value\": 6705}, \"6707\": {\"frequency\": 2, \"value\": 6707}, \"6708\": {\"frequency\": 10, \"value\": 6708}, \"6709\": {\"frequency\": 4, \"value\": 6709}, \"6710\": {\"frequency\": 7, \"value\": 6710}, \"6711\": {\"frequency\": 4, \"value\": 6711}, \"6713\": {\"frequency\": 4, \"value\": 6713}, \"6714\": {\"frequency\": 3, \"value\": 6714}, \"6716\": {\"frequency\": 11, \"value\": 6716}, \"6717\": {\"frequency\": 3, \"value\": 6717}, \"6718\": {\"frequency\": 3, \"value\": 6718}, \"6719\": {\"frequency\": 2, \"value\": 6719}, \"6720\": {\"frequency\": 7, \"value\": 6720}, \"6722\": {\"frequency\": 5, \"value\": 6722}, \"6723\": {\"frequency\": 4, \"value\": 6723}, \"6724\": {\"frequency\": 4, \"value\": 6724}, \"6725\": {\"frequency\": 16, \"value\": 6725}, \"6726\": {\"frequency\": 4, \"value\": 6726}, \"6727\": {\"frequency\": 7, \"value\": 6727}, \"6728\": {\"frequency\": 4, \"value\": 6728}, \"6730\": {\"frequency\": 5, \"value\": 6730}, \"6731\": {\"frequency\": 3, \"value\": 6731}, \"6732\": {\"frequency\": 2, \"value\": 6732}, \"6733\": {\"frequency\": 11, \"value\": 6733}, \"6734\": {\"frequency\": 4, \"value\": 6734}, \"6735\": {\"frequency\": 3, \"value\": 6735}, \"6736\": {\"frequency\": 5, \"value\": 6736}, \"6739\": {\"frequency\": 3, \"value\": 6739}, \"6740\": {\"frequency\": 8, \"value\": 6740}, \"6741\": {\"frequency\": 5, \"value\": 6741}, \"6742\": {\"frequency\": 1, \"value\": 6742}, \"6743\": {\"frequency\": 5, \"value\": 6743}, \"6745\": {\"frequency\": 3, \"value\": 6745}, \"6746\": {\"frequency\": 4, \"value\": 6746}, \"6747\": {\"frequency\": 5, \"value\": 6747}, \"6748\": {\"frequency\": 5, \"value\": 6748}, \"6749\": {\"frequency\": 7, \"value\": 6749}, \"6750\": {\"frequency\": 136, \"value\": 6750}, \"6752\": {\"frequency\": 3, \"value\": 6752}, \"6755\": {\"frequency\": 4, \"value\": 6755}, \"6756\": {\"frequency\": 3, \"value\": 6756}, \"6757\": {\"frequency\": 3, \"value\": 6757}, \"6758\": {\"frequency\": 4, \"value\": 6758}, \"6760\": {\"frequency\": 7, \"value\": 6760}, \"6761\": {\"frequency\": 5, \"value\": 6761}, \"6763\": {\"frequency\": 3, \"value\": 6763}, \"6764\": {\"frequency\": 4, \"value\": 6764}, \"6765\": {\"frequency\": 4, \"value\": 6765}, \"6766\": {\"frequency\": 11, \"value\": 6766}, \"6767\": {\"frequency\": 10, \"value\": 6767}, \"6768\": {\"frequency\": 4, \"value\": 6768}, \"6769\": {\"frequency\": 2, \"value\": 6769}, \"6770\": {\"frequency\": 7, \"value\": 6770}, \"6772\": {\"frequency\": 3, \"value\": 6772}, \"6773\": {\"frequency\": 3, \"value\": 6773}, \"6774\": {\"frequency\": 2, \"value\": 6774}, \"6775\": {\"frequency\": 10, \"value\": 6775}, \"6776\": {\"frequency\": 5, \"value\": 6776}, \"6778\": {\"frequency\": 8, \"value\": 6778}, \"6780\": {\"frequency\": 7, \"value\": 6780}, \"6781\": {\"frequency\": 4, \"value\": 6781}, \"6782\": {\"frequency\": 4, \"value\": 6782}, \"6783\": {\"frequency\": 16, \"value\": 6783}, \"6784\": {\"frequency\": 4, \"value\": 6784}, \"6785\": {\"frequency\": 1, \"value\": 6785}, \"6786\": {\"frequency\": 7, \"value\": 6786}, \"6788\": {\"frequency\": 3, \"value\": 6788}, \"6791\": {\"frequency\": 8, \"value\": 6791}, \"6792\": {\"frequency\": 8, \"value\": 6792}, \"6793\": {\"frequency\": 5, \"value\": 6793}, \"6795\": {\"frequency\": 2, \"value\": 6795}, \"6796\": {\"frequency\": 3, \"value\": 6796}, \"6797\": {\"frequency\": 7, \"value\": 6797}, \"6799\": {\"frequency\": 7, \"value\": 6799}, \"6800\": {\"frequency\": 272, \"value\": 6800}, \"6801\": {\"frequency\": 4, \"value\": 6801}, \"6802\": {\"frequency\": 5, \"value\": 6802}, \"6803\": {\"frequency\": 5, \"value\": 6803}, \"6804\": {\"frequency\": 1, \"value\": 6804}, \"6805\": {\"frequency\": 3, \"value\": 6805}, \"6808\": {\"frequency\": 7, \"value\": 6808}, \"6809\": {\"frequency\": 5, \"value\": 6809}, \"6810\": {\"frequency\": 5, \"value\": 6810}, \"6811\": {\"frequency\": 2, \"value\": 6811}, \"6812\": {\"frequency\": 4, \"value\": 6812}, \"6813\": {\"frequency\": 7, \"value\": 6813}, \"6814\": {\"frequency\": 3, \"value\": 6814}, \"6815\": {\"frequency\": 7, \"value\": 6815}, \"6816\": {\"frequency\": 11, \"value\": 6816}, \"6817\": {\"frequency\": 3, \"value\": 6817}, \"6818\": {\"frequency\": 4, \"value\": 6818}, \"6820\": {\"frequency\": 5, \"value\": 6820}, \"6822\": {\"frequency\": 3, \"value\": 6822}, \"6823\": {\"frequency\": 2, \"value\": 6823}, \"6825\": {\"frequency\": 10, \"value\": 6825}, \"6826\": {\"frequency\": 4, \"value\": 6826}, \"6828\": {\"frequency\": 4, \"value\": 6828}, \"6830\": {\"frequency\": 7, \"value\": 6830}, \"6831\": {\"frequency\": 4, \"value\": 6831}, \"6832\": {\"frequency\": 4, \"value\": 6832}, \"6833\": {\"frequency\": 134, \"value\": 6833}, \"6834\": {\"frequency\": 9, \"value\": 6834}, \"6835\": {\"frequency\": 3, \"value\": 6835}, \"6836\": {\"frequency\": 2, \"value\": 6836}, \"6837\": {\"frequency\": 3, \"value\": 6837}, \"6838\": {\"frequency\": 3, \"value\": 6838}, \"6840\": {\"frequency\": 8, \"value\": 6840}, \"6841\": {\"frequency\": 6, \"value\": 6841}, \"6846\": {\"frequency\": 8, \"value\": 6846}, \"6848\": {\"frequency\": 7, \"value\": 6848}, \"6849\": {\"frequency\": 4, \"value\": 6849}, \"6850\": {\"frequency\": 40, \"value\": 6850}, \"6851\": {\"frequency\": 4, \"value\": 6851}, \"6852\": {\"frequency\": 3, \"value\": 6852}, \"6853\": {\"frequency\": 5, \"value\": 6853}, \"6854\": {\"frequency\": 6, \"value\": 6854}, \"6855\": {\"frequency\": 2, \"value\": 6855}, \"6857\": {\"frequency\": 2, \"value\": 6857}, \"6858\": {\"frequency\": 3, \"value\": 6858}, \"6860\": {\"frequency\": 9, \"value\": 6860}, \"6861\": {\"frequency\": 4, \"value\": 6861}, \"6862\": {\"frequency\": 5, \"value\": 6862}, \"6863\": {\"frequency\": 5, \"value\": 6863}, \"6864\": {\"frequency\": 2, \"value\": 6864}, \"6866\": {\"frequency\": 10, \"value\": 6866}, \"6867\": {\"frequency\": 6, \"value\": 6867}, \"6870\": {\"frequency\": 6, \"value\": 6870}, \"6872\": {\"frequency\": 5, \"value\": 6872}, \"6874\": {\"frequency\": 4, \"value\": 6874}, \"6875\": {\"frequency\": 19, \"value\": 6875}, \"6878\": {\"frequency\": 3, \"value\": 6878}, \"6879\": {\"frequency\": 7, \"value\": 6879}, \"6880\": {\"frequency\": 9, \"value\": 6880}, \"6882\": {\"frequency\": 2, \"value\": 6882}, \"6883\": {\"frequency\": 10, \"value\": 6883}, \"6886\": {\"frequency\": 5, \"value\": 6886}, \"6889\": {\"frequency\": 4, \"value\": 6889}, \"6890\": {\"frequency\": 9, \"value\": 6890}, \"6891\": {\"frequency\": 6, \"value\": 6891}, \"203500\": {\"frequency\": 1, \"value\": 203500}, \"6893\": {\"frequency\": 3, \"value\": 6893}, \"6894\": {\"frequency\": 2, \"value\": 6894}, \"6895\": {\"frequency\": 9, \"value\": 6895}, \"6897\": {\"frequency\": 3, \"value\": 6897}, \"6898\": {\"frequency\": 5, \"value\": 6898}, \"6900\": {\"frequency\": 159, \"value\": 6900}, \"6902\": {\"frequency\": 3, \"value\": 6902}, \"6903\": {\"frequency\": 3, \"value\": 6903}, \"6905\": {\"frequency\": 7, \"value\": 6905}, \"6906\": {\"frequency\": 2, \"value\": 6906}, \"6907\": {\"frequency\": 3, \"value\": 6907}, \"6908\": {\"frequency\": 7, \"value\": 6908}, \"6909\": {\"frequency\": 4, \"value\": 6909}, \"6910\": {\"frequency\": 5, \"value\": 6910}, \"6912\": {\"frequency\": 4, \"value\": 6912}, \"6913\": {\"frequency\": 6, \"value\": 6913}, \"6914\": {\"frequency\": 3, \"value\": 6914}, \"6915\": {\"frequency\": 7, \"value\": 6915}, \"6916\": {\"frequency\": 90, \"value\": 6916}, \"6917\": {\"frequency\": 16, \"value\": 6917}, \"6920\": {\"frequency\": 13, \"value\": 6920}, \"6923\": {\"frequency\": 4, \"value\": 6923}, \"6924\": {\"frequency\": 3, \"value\": 6924}, \"6926\": {\"frequency\": 9, \"value\": 6926}, \"6928\": {\"frequency\": 5, \"value\": 6928}, \"6930\": {\"frequency\": 9, \"value\": 6930}, \"6932\": {\"frequency\": 5, \"value\": 6932}, \"6933\": {\"frequency\": 16, \"value\": 6933}, \"6935\": {\"frequency\": 3, \"value\": 6935}, \"6936\": {\"frequency\": 5, \"value\": 6936}, \"6939\": {\"frequency\": 3, \"value\": 6939}, \"6940\": {\"frequency\": 6, \"value\": 6940}, \"6942\": {\"frequency\": 3, \"value\": 6942}, \"6943\": {\"frequency\": 4, \"value\": 6943}, \"6944\": {\"frequency\": 5, \"value\": 6944}, \"6945\": {\"frequency\": 4, \"value\": 6945}, \"6946\": {\"frequency\": 5, \"value\": 6946}, \"6947\": {\"frequency\": 3, \"value\": 6947}, \"6948\": {\"frequency\": 4, \"value\": 6948}, \"6949\": {\"frequency\": 3, \"value\": 6949}, \"6950\": {\"frequency\": 29, \"value\": 6950}, \"6951\": {\"frequency\": 4, \"value\": 6951}, \"6952\": {\"frequency\": 3, \"value\": 6952}, \"6955\": {\"frequency\": 3, \"value\": 6955}, \"6956\": {\"frequency\": 2, \"value\": 6956}, \"6958\": {\"frequency\": 10, \"value\": 6958}, \"6959\": {\"frequency\": 3, \"value\": 6959}, \"6960\": {\"frequency\": 9, \"value\": 6960}, \"6962\": {\"frequency\": 5, \"value\": 6962}, \"6965\": {\"frequency\": 4, \"value\": 6965}, \"6966\": {\"frequency\": 14, \"value\": 6966}, \"6967\": {\"frequency\": 4, \"value\": 6967}, \"6968\": {\"frequency\": 7, \"value\": 6968}, \"6970\": {\"frequency\": 4, \"value\": 6970}, \"6973\": {\"frequency\": 3, \"value\": 6973}, \"6974\": {\"frequency\": 3, \"value\": 6974}, \"6975\": {\"frequency\": 9, \"value\": 6975}, \"6976\": {\"frequency\": 4, \"value\": 6976}, \"6977\": {\"frequency\": 4, \"value\": 6977}, \"6979\": {\"frequency\": 5, \"value\": 6979}, \"6980\": {\"frequency\": 6, \"value\": 6980}, \"6981\": {\"frequency\": 3, \"value\": 6981}, \"6982\": {\"frequency\": 5, \"value\": 6982}, \"6983\": {\"frequency\": 6, \"value\": 6983}, \"6984\": {\"frequency\": 6, \"value\": 6984}, \"6985\": {\"frequency\": 3, \"value\": 6985}, \"6986\": {\"frequency\": 6, \"value\": 6986}, \"6989\": {\"frequency\": 2, \"value\": 6989}, \"6990\": {\"frequency\": 6, \"value\": 6990}, \"6991\": {\"frequency\": 4, \"value\": 6991}, \"6993\": {\"frequency\": 3, \"value\": 6993}, \"6994\": {\"frequency\": 3, \"value\": 6994}, \"6997\": {\"frequency\": 4, \"value\": 6997}, \"6998\": {\"frequency\": 2, \"value\": 6998}, \"6999\": {\"frequency\": 7, \"value\": 6999}, \"7000\": {\"frequency\": 1223, \"value\": 7000}, \"7001\": {\"frequency\": 11, \"value\": 7001}, \"7002\": {\"frequency\": 3, \"value\": 7002}, \"7003\": {\"frequency\": 6, \"value\": 7003}, \"7005\": {\"frequency\": 6, \"value\": 7005}, \"7007\": {\"frequency\": 3, \"value\": 7007}, \"7008\": {\"frequency\": 4, \"value\": 7008}, \"7009\": {\"frequency\": 3, \"value\": 7009}, \"7010\": {\"frequency\": 6, \"value\": 7010}, \"7011\": {\"frequency\": 3, \"value\": 7011}, \"7012\": {\"frequency\": 3, \"value\": 7012}, \"7013\": {\"frequency\": 4, \"value\": 7013}, \"7014\": {\"frequency\": 4, \"value\": 7014}, \"7015\": {\"frequency\": 3, \"value\": 7015}, \"7016\": {\"frequency\": 18, \"value\": 7016}, \"7018\": {\"frequency\": 5, \"value\": 7018}, \"7020\": {\"frequency\": 6, \"value\": 7020}, \"7021\": {\"frequency\": 5, \"value\": 7021}, \"7023\": {\"frequency\": 2, \"value\": 7023}, \"7025\": {\"frequency\": 6, \"value\": 7025}, \"7027\": {\"frequency\": 6, \"value\": 7027}, \"7028\": {\"frequency\": 5, \"value\": 7028}, \"7029\": {\"frequency\": 3, \"value\": 7029}, \"7030\": {\"frequency\": 4, \"value\": 7030}, \"7031\": {\"frequency\": 3, \"value\": 7031}, \"7032\": {\"frequency\": 3, \"value\": 7032}, \"7033\": {\"frequency\": 18, \"value\": 7033}, \"7034\": {\"frequency\": 4, \"value\": 7034}, \"7035\": {\"frequency\": 5, \"value\": 7035}, \"7036\": {\"frequency\": 5, \"value\": 7036}, \"7040\": {\"frequency\": 3, \"value\": 7040}, \"7041\": {\"frequency\": 11, \"value\": 7041}, \"7042\": {\"frequency\": 4, \"value\": 7042}, \"7043\": {\"frequency\": 6, \"value\": 7043}, \"7044\": {\"frequency\": 4, \"value\": 7044}, \"7045\": {\"frequency\": 5, \"value\": 7045}, \"7046\": {\"frequency\": 5, \"value\": 7046}, \"7047\": {\"frequency\": 6, \"value\": 7047}, \"7048\": {\"frequency\": 4, \"value\": 7048}, \"7049\": {\"frequency\": 5, \"value\": 7049}, \"7050\": {\"frequency\": 31, \"value\": 7050}, \"7051\": {\"frequency\": 3, \"value\": 7051}, \"7052\": {\"frequency\": 4, \"value\": 7052}, \"7053\": {\"frequency\": 4, \"value\": 7053}, \"7054\": {\"frequency\": 7, \"value\": 7054}, \"7056\": {\"frequency\": 4, \"value\": 7056}, \"7057\": {\"frequency\": 4, \"value\": 7057}, \"7058\": {\"frequency\": 7, \"value\": 7058}, \"7060\": {\"frequency\": 10, \"value\": 7060}, \"7062\": {\"frequency\": 7, \"value\": 7062}, \"7065\": {\"frequency\": 4, \"value\": 7065}, \"7066\": {\"frequency\": 12, \"value\": 7066}, \"7067\": {\"frequency\": 6, \"value\": 7067}, \"7068\": {\"frequency\": 4, \"value\": 7068}, \"7069\": {\"frequency\": 2, \"value\": 7069}, \"7070\": {\"frequency\": 6, \"value\": 7070}, \"7071\": {\"frequency\": 5, \"value\": 7071}, \"7072\": {\"frequency\": 6, \"value\": 7072}, \"7073\": {\"frequency\": 5, \"value\": 7073}, \"7075\": {\"frequency\": 8, \"value\": 7075}, \"7076\": {\"frequency\": 3, \"value\": 7076}, \"7077\": {\"frequency\": 5, \"value\": 7077}, \"7078\": {\"frequency\": 4, \"value\": 7078}, \"7080\": {\"frequency\": 7, \"value\": 7080}, \"7081\": {\"frequency\": 6, \"value\": 7081}, \"7082\": {\"frequency\": 6, \"value\": 7082}, \"7083\": {\"frequency\": 311, \"value\": 7083}, \"7084\": {\"frequency\": 18, \"value\": 7084}, \"7085\": {\"frequency\": 8, \"value\": 7085}, \"7088\": {\"frequency\": 4, \"value\": 7088}, \"7089\": {\"frequency\": 3, \"value\": 7089}, \"7090\": {\"frequency\": 12, \"value\": 7090}, \"7091\": {\"frequency\": 3, \"value\": 7091}, \"7092\": {\"frequency\": 3, \"value\": 7092}, \"7093\": {\"frequency\": 3, \"value\": 7093}, \"7094\": {\"frequency\": 4, \"value\": 7094}, \"7096\": {\"frequency\": 3, \"value\": 7096}, \"7097\": {\"frequency\": 3, \"value\": 7097}, \"7098\": {\"frequency\": 2, \"value\": 7098}, \"7099\": {\"frequency\": 5, \"value\": 7099}, \"7100\": {\"frequency\": 163, \"value\": 7100}, \"7102\": {\"frequency\": 5, \"value\": 7102}, \"7104\": {\"frequency\": 2, \"value\": 7104}, \"7106\": {\"frequency\": 3, \"value\": 7106}, \"7107\": {\"frequency\": 4, \"value\": 7107}, \"7108\": {\"frequency\": 8, \"value\": 7108}, \"7110\": {\"frequency\": 3, \"value\": 7110}, \"7112\": {\"frequency\": 5, \"value\": 7112}, \"7115\": {\"frequency\": 7, \"value\": 7115}, \"7116\": {\"frequency\": 11, \"value\": 7116}, \"7117\": {\"frequency\": 3, \"value\": 7117}, \"7120\": {\"frequency\": 7, \"value\": 7120}, \"7123\": {\"frequency\": 5, \"value\": 7123}, \"7124\": {\"frequency\": 2, \"value\": 7124}, \"7125\": {\"frequency\": 22, \"value\": 7125}, \"7126\": {\"frequency\": 2, \"value\": 7126}, \"7127\": {\"frequency\": 4, \"value\": 7127}, \"7129\": {\"frequency\": 2, \"value\": 7129}, \"7130\": {\"frequency\": 4, \"value\": 7130}, \"7133\": {\"frequency\": 14, \"value\": 7133}, \"7134\": {\"frequency\": 2, \"value\": 7134}, \"7135\": {\"frequency\": 3, \"value\": 7135}, \"7136\": {\"frequency\": 7, \"value\": 7136}, \"7137\": {\"frequency\": 6, \"value\": 7137}, \"7138\": {\"frequency\": 2, \"value\": 7138}, \"7140\": {\"frequency\": 9, \"value\": 7140}, \"7141\": {\"frequency\": 7, \"value\": 7141}, \"7142\": {\"frequency\": 1, \"value\": 7142}, \"7143\": {\"frequency\": 6, \"value\": 7143}, \"7144\": {\"frequency\": 4, \"value\": 7144}, \"7145\": {\"frequency\": 5, \"value\": 7145}, \"7146\": {\"frequency\": 2, \"value\": 7146}, \"7148\": {\"frequency\": 2, \"value\": 7148}, \"7149\": {\"frequency\": 2, \"value\": 7149}, \"7150\": {\"frequency\": 25, \"value\": 7150}, \"7151\": {\"frequency\": 3, \"value\": 7151}, \"7157\": {\"frequency\": 4, \"value\": 7157}, \"7158\": {\"frequency\": 5, \"value\": 7158}, \"7160\": {\"frequency\": 11, \"value\": 7160}, \"7161\": {\"frequency\": 4, \"value\": 7161}, \"7163\": {\"frequency\": 4, \"value\": 7163}, \"7165\": {\"frequency\": 5, \"value\": 7165}, \"7166\": {\"frequency\": 119, \"value\": 7166}, \"7167\": {\"frequency\": 15, \"value\": 7167}, \"7170\": {\"frequency\": 6, \"value\": 7170}, \"7174\": {\"frequency\": 4, \"value\": 7174}, \"7175\": {\"frequency\": 14, \"value\": 7175}, \"7176\": {\"frequency\": 5, \"value\": 7176}, \"7177\": {\"frequency\": 2, \"value\": 7177}, \"7178\": {\"frequency\": 2, \"value\": 7178}, \"7180\": {\"frequency\": 7, \"value\": 7180}, \"7182\": {\"frequency\": 3, \"value\": 7182}, \"7183\": {\"frequency\": 12, \"value\": 7183}, \"7184\": {\"frequency\": 5, \"value\": 7184}, \"7186\": {\"frequency\": 4, \"value\": 7186}, \"7187\": {\"frequency\": 5, \"value\": 7187}, \"7190\": {\"frequency\": 5, \"value\": 7190}, \"7191\": {\"frequency\": 7, \"value\": 7191}, \"7192\": {\"frequency\": 6, \"value\": 7192}, \"7193\": {\"frequency\": 2, \"value\": 7193}, \"7196\": {\"frequency\": 5, \"value\": 7196}, \"7198\": {\"frequency\": 3, \"value\": 7198}, \"7200\": {\"frequency\": 248, \"value\": 7200}, \"7201\": {\"frequency\": 5, \"value\": 7201}, \"7202\": {\"frequency\": 7, \"value\": 7202}, \"7203\": {\"frequency\": 5, \"value\": 7203}, \"7204\": {\"frequency\": 2, \"value\": 7204}, \"7206\": {\"frequency\": 6, \"value\": 7206}, \"7208\": {\"frequency\": 13, \"value\": 7208}, \"7209\": {\"frequency\": 3, \"value\": 7209}, \"7210\": {\"frequency\": 5, \"value\": 7210}, \"7214\": {\"frequency\": 3, \"value\": 7214}, \"7216\": {\"frequency\": 11, \"value\": 7216}, \"7218\": {\"frequency\": 7, \"value\": 7218}, \"7219\": {\"frequency\": 3, \"value\": 7219}, \"7220\": {\"frequency\": 4, \"value\": 7220}, \"7221\": {\"frequency\": 2, \"value\": 7221}, \"7222\": {\"frequency\": 3, \"value\": 7222}, \"7223\": {\"frequency\": 3, \"value\": 7223}, \"7224\": {\"frequency\": 2, \"value\": 7224}, \"7225\": {\"frequency\": 11, \"value\": 7225}, \"7226\": {\"frequency\": 5, \"value\": 7226}, \"7227\": {\"frequency\": 3, \"value\": 7227}, \"7229\": {\"frequency\": 3, \"value\": 7229}, \"7230\": {\"frequency\": 4, \"value\": 7230}, \"7231\": {\"frequency\": 3, \"value\": 7231}, \"40000\": {\"frequency\": 45, \"value\": 40000}, \"7233\": {\"frequency\": 9, \"value\": 7233}, \"7234\": {\"frequency\": 4, \"value\": 7234}, \"7235\": {\"frequency\": 3, \"value\": 7235}, \"7236\": {\"frequency\": 5, \"value\": 7236}, \"7237\": {\"frequency\": 4, \"value\": 7237}, \"7238\": {\"frequency\": 4, \"value\": 7238}, \"7239\": {\"frequency\": 4, \"value\": 7239}, \"7240\": {\"frequency\": 9, \"value\": 7240}, \"7241\": {\"frequency\": 9, \"value\": 7241}, \"7243\": {\"frequency\": 9, \"value\": 7243}, \"7244\": {\"frequency\": 3, \"value\": 7244}, \"7245\": {\"frequency\": 6, \"value\": 7245}, \"7249\": {\"frequency\": 11, \"value\": 7249}, \"7250\": {\"frequency\": 151, \"value\": 7250}, \"7251\": {\"frequency\": 3, \"value\": 7251}, \"7252\": {\"frequency\": 4, \"value\": 7252}, \"7253\": {\"frequency\": 3, \"value\": 7253}, \"7256\": {\"frequency\": 4, \"value\": 7256}, \"7258\": {\"frequency\": 5, \"value\": 7258}, \"7259\": {\"frequency\": 4, \"value\": 7259}, \"7260\": {\"frequency\": 9, \"value\": 7260}, \"7261\": {\"frequency\": 3, \"value\": 7261}, \"7262\": {\"frequency\": 10, \"value\": 7262}, \"7263\": {\"frequency\": 4, \"value\": 7263}, \"7265\": {\"frequency\": 2, \"value\": 7265}, \"7266\": {\"frequency\": 8, \"value\": 7266}, \"7268\": {\"frequency\": 4, \"value\": 7268}, \"7269\": {\"frequency\": 4, \"value\": 7269}, \"7270\": {\"frequency\": 5, \"value\": 7270}, \"7271\": {\"frequency\": 6, \"value\": 7271}, \"7272\": {\"frequency\": 2, \"value\": 7272}, \"7273\": {\"frequency\": 5, \"value\": 7273}, \"7275\": {\"frequency\": 6, \"value\": 7275}, \"7276\": {\"frequency\": 4, \"value\": 7276}, \"7277\": {\"frequency\": 5, \"value\": 7277}, \"7278\": {\"frequency\": 8, \"value\": 7278}, \"7279\": {\"frequency\": 5, \"value\": 7279}, \"7280\": {\"frequency\": 5, \"value\": 7280}, \"7283\": {\"frequency\": 5, \"value\": 7283}, \"7284\": {\"frequency\": 1, \"value\": 7284}, \"7286\": {\"frequency\": 3, \"value\": 7286}, \"7288\": {\"frequency\": 7, \"value\": 7288}, \"7289\": {\"frequency\": 3, \"value\": 7289}, \"7290\": {\"frequency\": 7, \"value\": 7290}, \"7291\": {\"frequency\": 15, \"value\": 7291}, \"7292\": {\"frequency\": 5, \"value\": 7292}, \"7293\": {\"frequency\": 3, \"value\": 7293}, \"7294\": {\"frequency\": 3, \"value\": 7294}, \"7295\": {\"frequency\": 3, \"value\": 7295}, \"7296\": {\"frequency\": 4, \"value\": 7296}, \"7298\": {\"frequency\": 4, \"value\": 7298}, \"7299\": {\"frequency\": 3, \"value\": 7299}, \"7300\": {\"frequency\": 159, \"value\": 7300}, \"7302\": {\"frequency\": 4, \"value\": 7302}, \"7304\": {\"frequency\": 4, \"value\": 7304}, \"7305\": {\"frequency\": 1, \"value\": 7305}, \"7306\": {\"frequency\": 7, \"value\": 7306}, \"7307\": {\"frequency\": 7, \"value\": 7307}, \"7308\": {\"frequency\": 3, \"value\": 7308}, \"7310\": {\"frequency\": 11, \"value\": 7310}, \"7313\": {\"frequency\": 3, \"value\": 7313}, \"7314\": {\"frequency\": 2, \"value\": 7314}, \"7315\": {\"frequency\": 5, \"value\": 7315}, \"7316\": {\"frequency\": 11, \"value\": 7316}, \"7317\": {\"frequency\": 6, \"value\": 7317}, \"7320\": {\"frequency\": 7, \"value\": 7320}, \"7324\": {\"frequency\": 6, \"value\": 7324}, \"7325\": {\"frequency\": 8, \"value\": 7325}, \"7326\": {\"frequency\": 5, \"value\": 7326}, \"7329\": {\"frequency\": 4, \"value\": 7329}, \"7330\": {\"frequency\": 5, \"value\": 7330}, \"7331\": {\"frequency\": 3, \"value\": 7331}, \"7332\": {\"frequency\": 3, \"value\": 7332}, \"7333\": {\"frequency\": 117, \"value\": 7333}, \"7334\": {\"frequency\": 10, \"value\": 7334}, \"7335\": {\"frequency\": 7, \"value\": 7335}, \"7336\": {\"frequency\": 4, \"value\": 7336}, \"7338\": {\"frequency\": 5, \"value\": 7338}, \"7340\": {\"frequency\": 8, \"value\": 7340}, \"7341\": {\"frequency\": 3, \"value\": 7341}, \"7342\": {\"frequency\": 6, \"value\": 7342}, \"7348\": {\"frequency\": 4, \"value\": 7348}, \"7349\": {\"frequency\": 2, \"value\": 7349}, \"7350\": {\"frequency\": 31, \"value\": 7350}, \"7353\": {\"frequency\": 5, \"value\": 7353}, \"7354\": {\"frequency\": 2, \"value\": 7354}, \"7355\": {\"frequency\": 2, \"value\": 7355}, \"7357\": {\"frequency\": 4, \"value\": 7357}, \"7358\": {\"frequency\": 6, \"value\": 7358}, \"7359\": {\"frequency\": 3, \"value\": 7359}, \"7360\": {\"frequency\": 7, \"value\": 7360}, \"7363\": {\"frequency\": 5, \"value\": 7363}, \"7364\": {\"frequency\": 3, \"value\": 7364}, \"7365\": {\"frequency\": 2, \"value\": 7365}, \"7366\": {\"frequency\": 11, \"value\": 7366}, \"7368\": {\"frequency\": 3, \"value\": 7368}, \"7369\": {\"frequency\": 2, \"value\": 7369}, \"7370\": {\"frequency\": 6, \"value\": 7370}, \"7373\": {\"frequency\": 5, \"value\": 7373}, \"7374\": {\"frequency\": 7, \"value\": 7374}, \"7375\": {\"frequency\": 16, \"value\": 7375}, \"7376\": {\"frequency\": 4, \"value\": 7376}, \"7377\": {\"frequency\": 2, \"value\": 7377}, \"7378\": {\"frequency\": 6, \"value\": 7378}, \"7380\": {\"frequency\": 7, \"value\": 7380}, \"7381\": {\"frequency\": 3, \"value\": 7381}, \"7382\": {\"frequency\": 3, \"value\": 7382}, \"7383\": {\"frequency\": 8, \"value\": 7383}, \"7384\": {\"frequency\": 9, \"value\": 7384}, \"7385\": {\"frequency\": 3, \"value\": 7385}, \"7386\": {\"frequency\": 4, \"value\": 7386}, \"7388\": {\"frequency\": 4, \"value\": 7388}, \"7389\": {\"frequency\": 3, \"value\": 7389}, \"7390\": {\"frequency\": 2, \"value\": 7390}, \"7391\": {\"frequency\": 4, \"value\": 7391}, \"7395\": {\"frequency\": 2, \"value\": 7395}, \"7396\": {\"frequency\": 5, \"value\": 7396}, \"7397\": {\"frequency\": 5, \"value\": 7397}, \"7400\": {\"frequency\": 185, \"value\": 7400}, \"7402\": {\"frequency\": 2, \"value\": 7402}, \"7403\": {\"frequency\": 3, \"value\": 7403}, \"7404\": {\"frequency\": 3, \"value\": 7404}, \"7406\": {\"frequency\": 4, \"value\": 7406}, \"7407\": {\"frequency\": 4, \"value\": 7407}, \"7408\": {\"frequency\": 3, \"value\": 7408}, \"7409\": {\"frequency\": 3, \"value\": 7409}, \"7410\": {\"frequency\": 4, \"value\": 7410}, \"7411\": {\"frequency\": 5, \"value\": 7411}, \"7412\": {\"frequency\": 5, \"value\": 7412}, \"7413\": {\"frequency\": 5, \"value\": 7413}, \"7415\": {\"frequency\": 6, \"value\": 7415}, \"7416\": {\"frequency\": 75, \"value\": 7416}, \"7417\": {\"frequency\": 13, \"value\": 7417}, \"7419\": {\"frequency\": 4, \"value\": 7419}, \"7420\": {\"frequency\": 12, \"value\": 7420}, \"7421\": {\"frequency\": 2, \"value\": 7421}, \"7422\": {\"frequency\": 4, \"value\": 7422}, \"7423\": {\"frequency\": 4, \"value\": 7423}, \"7425\": {\"frequency\": 10, \"value\": 7425}, \"7427\": {\"frequency\": 6, \"value\": 7427}, \"7428\": {\"frequency\": 6, \"value\": 7428}, \"7430\": {\"frequency\": 4, \"value\": 7430}, \"7432\": {\"frequency\": 3, \"value\": 7432}, \"7433\": {\"frequency\": 10, \"value\": 7433}, \"7434\": {\"frequency\": 5, \"value\": 7434}, \"7435\": {\"frequency\": 6, \"value\": 7435}, \"7436\": {\"frequency\": 4, \"value\": 7436}, \"7440\": {\"frequency\": 5, \"value\": 7440}, \"7441\": {\"frequency\": 3, \"value\": 7441}, \"7442\": {\"frequency\": 4, \"value\": 7442}, \"7444\": {\"frequency\": 5, \"value\": 7444}, \"7446\": {\"frequency\": 6, \"value\": 7446}, \"7450\": {\"frequency\": 36, \"value\": 7450}, \"7452\": {\"frequency\": 9, \"value\": 7452}, \"7453\": {\"frequency\": 5, \"value\": 7453}, \"7454\": {\"frequency\": 3, \"value\": 7454}, \"7455\": {\"frequency\": 2, \"value\": 7455}, \"7457\": {\"frequency\": 3, \"value\": 7457}, \"7458\": {\"frequency\": 17, \"value\": 7458}, \"7459\": {\"frequency\": 3, \"value\": 7459}, \"7460\": {\"frequency\": 7, \"value\": 7460}, \"7461\": {\"frequency\": 6, \"value\": 7461}, \"7463\": {\"frequency\": 5, \"value\": 7463}, \"73000\": {\"frequency\": 2, \"value\": 73000}, \"7465\": {\"frequency\": 5, \"value\": 7465}, \"7466\": {\"frequency\": 17, \"value\": 7466}, \"7467\": {\"frequency\": 7, \"value\": 7467}, \"7469\": {\"frequency\": 3, \"value\": 7469}, \"7470\": {\"frequency\": 6, \"value\": 7470}, \"7471\": {\"frequency\": 4, \"value\": 7471}, \"7472\": {\"frequency\": 5, \"value\": 7472}, \"7473\": {\"frequency\": 3, \"value\": 7473}, \"7474\": {\"frequency\": 2, \"value\": 7474}, \"7475\": {\"frequency\": 10, \"value\": 7475}, \"7476\": {\"frequency\": 1, \"value\": 7476}, \"7478\": {\"frequency\": 4, \"value\": 7478}, \"7480\": {\"frequency\": 5, \"value\": 7480}, \"7483\": {\"frequency\": 8, \"value\": 7483}, \"7484\": {\"frequency\": 2, \"value\": 7484}, \"7485\": {\"frequency\": 3, \"value\": 7485}, \"7488\": {\"frequency\": 6, \"value\": 7488}, \"7490\": {\"frequency\": 4, \"value\": 7490}, \"7491\": {\"frequency\": 11, \"value\": 7491}, \"7494\": {\"frequency\": 6, \"value\": 7494}, \"7495\": {\"frequency\": 3, \"value\": 7495}, \"7496\": {\"frequency\": 3, \"value\": 7496}, \"7497\": {\"frequency\": 2, \"value\": 7497}, \"7498\": {\"frequency\": 4, \"value\": 7498}, \"7499\": {\"frequency\": 24, \"value\": 7499}, \"7500\": {\"frequency\": 1051, \"value\": 7500}, \"7505\": {\"frequency\": 5, \"value\": 7505}, \"7506\": {\"frequency\": 4, \"value\": 7506}, \"7507\": {\"frequency\": 4, \"value\": 7507}, \"7508\": {\"frequency\": 7, \"value\": 7508}, \"7509\": {\"frequency\": 3, \"value\": 7509}, \"7510\": {\"frequency\": 4, \"value\": 7510}, \"7511\": {\"frequency\": 5, \"value\": 7511}, \"7513\": {\"frequency\": 3, \"value\": 7513}, \"7514\": {\"frequency\": 2, \"value\": 7514}, \"7516\": {\"frequency\": 6, \"value\": 7516}, \"7517\": {\"frequency\": 5, \"value\": 7517}, \"7518\": {\"frequency\": 2, \"value\": 7518}, \"7519\": {\"frequency\": 4, \"value\": 7519}, \"7520\": {\"frequency\": 13, \"value\": 7520}, \"7521\": {\"frequency\": 2, \"value\": 7521}, \"7522\": {\"frequency\": 2, \"value\": 7522}, \"7523\": {\"frequency\": 3, \"value\": 7523}, \"7526\": {\"frequency\": 3, \"value\": 7526}, \"7527\": {\"frequency\": 4, \"value\": 7527}, \"7529\": {\"frequency\": 6, \"value\": 7529}, \"7531\": {\"frequency\": 2, \"value\": 7531}, \"7532\": {\"frequency\": 4, \"value\": 7532}, \"7533\": {\"frequency\": 6, \"value\": 7533}, \"7534\": {\"frequency\": 5, \"value\": 7534}, \"7535\": {\"frequency\": 7, \"value\": 7535}, \"7536\": {\"frequency\": 2, \"value\": 7536}, \"7539\": {\"frequency\": 6, \"value\": 7539}, \"7540\": {\"frequency\": 9, \"value\": 7540}, \"7541\": {\"frequency\": 5, \"value\": 7541}, \"7542\": {\"frequency\": 4, \"value\": 7542}, \"7544\": {\"frequency\": 3, \"value\": 7544}, \"7548\": {\"frequency\": 4, \"value\": 7548}, \"7549\": {\"frequency\": 3, \"value\": 7549}, \"7550\": {\"frequency\": 33, \"value\": 7550}, \"7553\": {\"frequency\": 3, \"value\": 7553}, \"7557\": {\"frequency\": 5, \"value\": 7557}, \"7558\": {\"frequency\": 6, \"value\": 7558}, \"7560\": {\"frequency\": 6, \"value\": 7560}, \"7561\": {\"frequency\": 5, \"value\": 7561}, \"7562\": {\"frequency\": 5, \"value\": 7562}, \"7563\": {\"frequency\": 1, \"value\": 7563}, \"7564\": {\"frequency\": 2, \"value\": 7564}, \"7566\": {\"frequency\": 12, \"value\": 7566}, \"7567\": {\"frequency\": 5, \"value\": 7567}, \"7568\": {\"frequency\": 4, \"value\": 7568}, \"7570\": {\"frequency\": 6, \"value\": 7570}, \"7574\": {\"frequency\": 2, \"value\": 7574}, \"7575\": {\"frequency\": 8, \"value\": 7575}, \"7576\": {\"frequency\": 5, \"value\": 7576}, \"7578\": {\"frequency\": 4, \"value\": 7578}, \"7580\": {\"frequency\": 5, \"value\": 7580}, \"7581\": {\"frequency\": 3, \"value\": 7581}, \"7583\": {\"frequency\": 71, \"value\": 7583}, \"7584\": {\"frequency\": 3, \"value\": 7584}, \"7585\": {\"frequency\": 5, \"value\": 7585}, \"7586\": {\"frequency\": 3, \"value\": 7586}, \"7587\": {\"frequency\": 5, \"value\": 7587}, \"7588\": {\"frequency\": 5, \"value\": 7588}, \"7590\": {\"frequency\": 9, \"value\": 7590}, \"7591\": {\"frequency\": 5, \"value\": 7591}, \"7592\": {\"frequency\": 5, \"value\": 7592}, \"7593\": {\"frequency\": 3, \"value\": 7593}, \"7595\": {\"frequency\": 5, \"value\": 7595}, \"7596\": {\"frequency\": 4, \"value\": 7596}, \"7597\": {\"frequency\": 2, \"value\": 7597}, \"7598\": {\"frequency\": 3, \"value\": 7598}, \"7599\": {\"frequency\": 4, \"value\": 7599}, \"7600\": {\"frequency\": 164, \"value\": 7600}, \"7601\": {\"frequency\": 2, \"value\": 7601}, \"7603\": {\"frequency\": 5, \"value\": 7603}, \"7606\": {\"frequency\": 4, \"value\": 7606}, \"7608\": {\"frequency\": 6, \"value\": 7608}, \"7609\": {\"frequency\": 5, \"value\": 7609}, \"7610\": {\"frequency\": 4, \"value\": 7610}, \"7611\": {\"frequency\": 2, \"value\": 7611}, \"7612\": {\"frequency\": 2, \"value\": 7612}, \"7613\": {\"frequency\": 4, \"value\": 7613}, \"7615\": {\"frequency\": 2, \"value\": 7615}, \"7616\": {\"frequency\": 8, \"value\": 7616}, \"7617\": {\"frequency\": 3, \"value\": 7617}, \"7618\": {\"frequency\": 1, \"value\": 7618}, \"7620\": {\"frequency\": 6, \"value\": 7620}, \"7623\": {\"frequency\": 2, \"value\": 7623}, \"7624\": {\"frequency\": 4, \"value\": 7624}, \"7625\": {\"frequency\": 10, \"value\": 7625}, \"7626\": {\"frequency\": 3, \"value\": 7626}, \"7629\": {\"frequency\": 4, \"value\": 7629}, \"7630\": {\"frequency\": 6, \"value\": 7630}, \"7631\": {\"frequency\": 3, \"value\": 7631}, \"7632\": {\"frequency\": 3, \"value\": 7632}, \"7633\": {\"frequency\": 10, \"value\": 7633}, \"7634\": {\"frequency\": 7, \"value\": 7634}, \"7635\": {\"frequency\": 1, \"value\": 7635}, \"7636\": {\"frequency\": 4, \"value\": 7636}, \"7640\": {\"frequency\": 10, \"value\": 7640}, \"7641\": {\"frequency\": 2, \"value\": 7641}, \"7644\": {\"frequency\": 6, \"value\": 7644}, \"7645\": {\"frequency\": 6, \"value\": 7645}, \"7646\": {\"frequency\": 2, \"value\": 7646}, \"7650\": {\"frequency\": 38, \"value\": 7650}, \"7651\": {\"frequency\": 2, \"value\": 7651}, \"7652\": {\"frequency\": 6, \"value\": 7652}, \"7653\": {\"frequency\": 2, \"value\": 7653}, \"7654\": {\"frequency\": 8, \"value\": 7654}, \"7656\": {\"frequency\": 3, \"value\": 7656}, \"7657\": {\"frequency\": 6, \"value\": 7657}, \"7658\": {\"frequency\": 5, \"value\": 7658}, \"7660\": {\"frequency\": 7, \"value\": 7660}, \"7661\": {\"frequency\": 10, \"value\": 7661}, \"7663\": {\"frequency\": 5, \"value\": 7663}, \"7664\": {\"frequency\": 4, \"value\": 7664}, \"7665\": {\"frequency\": 6, \"value\": 7665}, \"7666\": {\"frequency\": 112, \"value\": 7666}, \"7667\": {\"frequency\": 26, \"value\": 7667}, \"7668\": {\"frequency\": 7, \"value\": 7668}, \"7669\": {\"frequency\": 6, \"value\": 7669}, \"7670\": {\"frequency\": 5, \"value\": 7670}, \"7671\": {\"frequency\": 2, \"value\": 7671}, \"7672\": {\"frequency\": 5, \"value\": 7672}, \"7673\": {\"frequency\": 5, \"value\": 7673}, \"7674\": {\"frequency\": 4, \"value\": 7674}, \"7676\": {\"frequency\": 4, \"value\": 7676}, \"7678\": {\"frequency\": 5, \"value\": 7678}, \"7680\": {\"frequency\": 10, \"value\": 7680}, \"7681\": {\"frequency\": 4, \"value\": 7681}, \"7683\": {\"frequency\": 9, \"value\": 7683}, \"7684\": {\"frequency\": 4, \"value\": 7684}, \"7687\": {\"frequency\": 6, \"value\": 7687}, \"7688\": {\"frequency\": 6, \"value\": 7688}, \"7690\": {\"frequency\": 6, \"value\": 7690}, \"7691\": {\"frequency\": 4, \"value\": 7691}, \"7692\": {\"frequency\": 6, \"value\": 7692}, \"7693\": {\"frequency\": 6, \"value\": 7693}, \"7694\": {\"frequency\": 4, \"value\": 7694}, \"7697\": {\"frequency\": 3, \"value\": 7697}, \"7698\": {\"frequency\": 4, \"value\": 7698}, \"7700\": {\"frequency\": 166, \"value\": 7700}, \"7701\": {\"frequency\": 3, \"value\": 7701}, \"7702\": {\"frequency\": 5, \"value\": 7702}, \"7703\": {\"frequency\": 5, \"value\": 7703}, \"7704\": {\"frequency\": 2, \"value\": 7704}, \"7706\": {\"frequency\": 5, \"value\": 7706}, \"7708\": {\"frequency\": 13, \"value\": 7708}, \"7710\": {\"frequency\": 3, \"value\": 7710}, \"7711\": {\"frequency\": 3, \"value\": 7711}, \"7714\": {\"frequency\": 3, \"value\": 7714}, \"7716\": {\"frequency\": 8, \"value\": 7716}, \"7718\": {\"frequency\": 3, \"value\": 7718}, \"7719\": {\"frequency\": 4, \"value\": 7719}, \"7720\": {\"frequency\": 4, \"value\": 7720}, \"7721\": {\"frequency\": 4, \"value\": 7721}, \"7723\": {\"frequency\": 4, \"value\": 7723}, \"7724\": {\"frequency\": 2, \"value\": 7724}, \"7725\": {\"frequency\": 12, \"value\": 7725}, \"7726\": {\"frequency\": 8, \"value\": 7726}, \"7728\": {\"frequency\": 3, \"value\": 7728}, \"7730\": {\"frequency\": 5, \"value\": 7730}, \"7733\": {\"frequency\": 10, \"value\": 7733}, \"7734\": {\"frequency\": 2, \"value\": 7734}, \"7735\": {\"frequency\": 3, \"value\": 7735}, \"7736\": {\"frequency\": 5, \"value\": 7736}, \"7737\": {\"frequency\": 3, \"value\": 7737}, \"7738\": {\"frequency\": 3, \"value\": 7738}, \"7739\": {\"frequency\": 1, \"value\": 7739}, \"7740\": {\"frequency\": 5, \"value\": 7740}, \"7742\": {\"frequency\": 4, \"value\": 7742}, \"7746\": {\"frequency\": 6, \"value\": 7746}, \"7747\": {\"frequency\": 4, \"value\": 7747}, \"7748\": {\"frequency\": 5, \"value\": 7748}, \"7749\": {\"frequency\": 7, \"value\": 7749}, \"7750\": {\"frequency\": 130, \"value\": 7750}, \"7751\": {\"frequency\": 4, \"value\": 7751}, \"7752\": {\"frequency\": 2, \"value\": 7752}, \"7755\": {\"frequency\": 3, \"value\": 7755}, \"7756\": {\"frequency\": 3, \"value\": 7756}, \"7759\": {\"frequency\": 1, \"value\": 7759}, \"7760\": {\"frequency\": 9, \"value\": 7760}, \"7764\": {\"frequency\": 3, \"value\": 7764}, \"7765\": {\"frequency\": 4, \"value\": 7765}, \"7766\": {\"frequency\": 12, \"value\": 7766}, \"7767\": {\"frequency\": 6, \"value\": 7767}, \"7769\": {\"frequency\": 3, \"value\": 7769}, \"7770\": {\"frequency\": 7, \"value\": 7770}, \"7773\": {\"frequency\": 3, \"value\": 7773}, \"7774\": {\"frequency\": 5, \"value\": 7774}, \"7775\": {\"frequency\": 10, \"value\": 7775}, \"7779\": {\"frequency\": 2, \"value\": 7779}, \"7780\": {\"frequency\": 4, \"value\": 7780}, \"7781\": {\"frequency\": 3, \"value\": 7781}, \"7782\": {\"frequency\": 3, \"value\": 7782}, \"7783\": {\"frequency\": 11, \"value\": 7783}, \"7784\": {\"frequency\": 3, \"value\": 7784}, \"7787\": {\"frequency\": 5, \"value\": 7787}, \"7789\": {\"frequency\": 3, \"value\": 7789}, \"7790\": {\"frequency\": 5, \"value\": 7790}, \"7791\": {\"frequency\": 12, \"value\": 7791}, \"7792\": {\"frequency\": 6, \"value\": 7792}, \"7793\": {\"frequency\": 2, \"value\": 7793}, \"7794\": {\"frequency\": 5, \"value\": 7794}, \"7795\": {\"frequency\": 4, \"value\": 7795}, \"7799\": {\"frequency\": 2, \"value\": 7799}, \"7800\": {\"frequency\": 207, \"value\": 7800}, \"7802\": {\"frequency\": 2, \"value\": 7802}, \"7803\": {\"frequency\": 4, \"value\": 7803}, \"7804\": {\"frequency\": 2, \"value\": 7804}, \"7807\": {\"frequency\": 3, \"value\": 7807}, \"7808\": {\"frequency\": 4, \"value\": 7808}, \"7809\": {\"frequency\": 2, \"value\": 7809}, \"7810\": {\"frequency\": 6, \"value\": 7810}, \"7811\": {\"frequency\": 8, \"value\": 7811}, \"7812\": {\"frequency\": 4, \"value\": 7812}, \"7813\": {\"frequency\": 3, \"value\": 7813}, \"7815\": {\"frequency\": 5, \"value\": 7815}, \"7816\": {\"frequency\": 11, \"value\": 7816}, \"7817\": {\"frequency\": 4, \"value\": 7817}, \"7819\": {\"frequency\": 2, \"value\": 7819}, \"7820\": {\"frequency\": 6, \"value\": 7820}, \"7821\": {\"frequency\": 7, \"value\": 7821}, \"7823\": {\"frequency\": 6, \"value\": 7823}, \"7824\": {\"frequency\": 2, \"value\": 7824}, \"7825\": {\"frequency\": 4, \"value\": 7825}, \"7826\": {\"frequency\": 5, \"value\": 7826}, \"7828\": {\"frequency\": 2, \"value\": 7828}, \"7829\": {\"frequency\": 4, \"value\": 7829}, \"7830\": {\"frequency\": 8, \"value\": 7830}, \"7831\": {\"frequency\": 3, \"value\": 7831}, \"7832\": {\"frequency\": 6, \"value\": 7832}, \"7833\": {\"frequency\": 97, \"value\": 7833}, \"7834\": {\"frequency\": 10, \"value\": 7834}, \"7835\": {\"frequency\": 5, \"value\": 7835}, \"7838\": {\"frequency\": 5, \"value\": 7838}, \"7840\": {\"frequency\": 7, \"value\": 7840}, \"7841\": {\"frequency\": 5, \"value\": 7841}, \"7844\": {\"frequency\": 9, \"value\": 7844}, \"7845\": {\"frequency\": 4, \"value\": 7845}, \"7846\": {\"frequency\": 5, \"value\": 7846}, \"7848\": {\"frequency\": 3, \"value\": 7848}, \"7850\": {\"frequency\": 27, \"value\": 7850}, \"7853\": {\"frequency\": 5, \"value\": 7853}, \"7854\": {\"frequency\": 5, \"value\": 7854}, \"7855\": {\"frequency\": 3, \"value\": 7855}, \"7858\": {\"frequency\": 5, \"value\": 7858}, \"7859\": {\"frequency\": 3, \"value\": 7859}, \"7860\": {\"frequency\": 5, \"value\": 7860}, \"7861\": {\"frequency\": 3, \"value\": 7861}, \"7862\": {\"frequency\": 6, \"value\": 7862}, \"7863\": {\"frequency\": 4, \"value\": 7863}, \"7864\": {\"frequency\": 2, \"value\": 7864}, \"7865\": {\"frequency\": 4, \"value\": 7865}, \"7866\": {\"frequency\": 13, \"value\": 7866}, \"7867\": {\"frequency\": 2, \"value\": 7867}, \"7871\": {\"frequency\": 7, \"value\": 7871}, \"7872\": {\"frequency\": 4, \"value\": 7872}, \"7875\": {\"frequency\": 11, \"value\": 7875}, \"7876\": {\"frequency\": 5, \"value\": 7876}, \"7880\": {\"frequency\": 7, \"value\": 7880}, \"7881\": {\"frequency\": 4, \"value\": 7881}, \"7882\": {\"frequency\": 4, \"value\": 7882}, \"7883\": {\"frequency\": 15, \"value\": 7883}, \"7884\": {\"frequency\": 7, \"value\": 7884}, \"7885\": {\"frequency\": 4, \"value\": 7885}, \"7886\": {\"frequency\": 5, \"value\": 7886}, \"7887\": {\"frequency\": 4, \"value\": 7887}, \"7888\": {\"frequency\": 6, \"value\": 7888}, \"7890\": {\"frequency\": 8, \"value\": 7890}, \"7891\": {\"frequency\": 7, \"value\": 7891}, \"7893\": {\"frequency\": 3, \"value\": 7893}, \"7894\": {\"frequency\": 2, \"value\": 7894}, \"7898\": {\"frequency\": 3, \"value\": 7898}, \"7899\": {\"frequency\": 3, \"value\": 7899}, \"7900\": {\"frequency\": 120, \"value\": 7900}, \"7901\": {\"frequency\": 2, \"value\": 7901}, \"7902\": {\"frequency\": 4, \"value\": 7902}, \"7903\": {\"frequency\": 2, \"value\": 7903}, \"7904\": {\"frequency\": 4, \"value\": 7904}, \"7908\": {\"frequency\": 8, \"value\": 7908}, \"7909\": {\"frequency\": 2, \"value\": 7909}, \"7910\": {\"frequency\": 5, \"value\": 7910}, \"7911\": {\"frequency\": 3, \"value\": 7911}, \"7913\": {\"frequency\": 3, \"value\": 7913}, \"7914\": {\"frequency\": 4, \"value\": 7914}, \"7915\": {\"frequency\": 6, \"value\": 7915}, \"7916\": {\"frequency\": 177, \"value\": 7916}, \"7917\": {\"frequency\": 25, \"value\": 7917}, \"7920\": {\"frequency\": 17, \"value\": 7920}, \"7921\": {\"frequency\": 5, \"value\": 7921}, \"7923\": {\"frequency\": 3, \"value\": 7923}, \"7924\": {\"frequency\": 3, \"value\": 7924}, \"7925\": {\"frequency\": 6, \"value\": 7925}, \"7926\": {\"frequency\": 3, \"value\": 7926}, \"7928\": {\"frequency\": 5, \"value\": 7928}, \"7930\": {\"frequency\": 5, \"value\": 7930}, \"7931\": {\"frequency\": 2, \"value\": 7931}, \"7932\": {\"frequency\": 3, \"value\": 7932}, \"7933\": {\"frequency\": 18, \"value\": 7933}, \"7934\": {\"frequency\": 4, \"value\": 7934}, \"7935\": {\"frequency\": 2, \"value\": 7935}, \"7936\": {\"frequency\": 5, \"value\": 7936}, \"7939\": {\"frequency\": 3, \"value\": 7939}, \"7940\": {\"frequency\": 6, \"value\": 7940}, \"7941\": {\"frequency\": 3, \"value\": 7941}, \"7942\": {\"frequency\": 1, \"value\": 7942}, \"7943\": {\"frequency\": 3, \"value\": 7943}, \"7948\": {\"frequency\": 3, \"value\": 7948}, \"7949\": {\"frequency\": 2, \"value\": 7949}, \"7950\": {\"frequency\": 15, \"value\": 7950}, \"7952\": {\"frequency\": 3, \"value\": 7952}, \"7953\": {\"frequency\": 4, \"value\": 7953}, \"7954\": {\"frequency\": 4, \"value\": 7954}, \"7956\": {\"frequency\": 5, \"value\": 7956}, \"7958\": {\"frequency\": 5, \"value\": 7958}, \"7959\": {\"frequency\": 4, \"value\": 7959}, \"7960\": {\"frequency\": 9, \"value\": 7960}, \"7962\": {\"frequency\": 4, \"value\": 7962}, \"7963\": {\"frequency\": 7, \"value\": 7963}, \"7965\": {\"frequency\": 4, \"value\": 7965}, \"7966\": {\"frequency\": 13, \"value\": 7966}, \"7967\": {\"frequency\": 5, \"value\": 7967}, \"7968\": {\"frequency\": 7, \"value\": 7968}, \"7969\": {\"frequency\": 4, \"value\": 7969}, \"7972\": {\"frequency\": 4, \"value\": 7972}, \"7974\": {\"frequency\": 4, \"value\": 7974}, \"7975\": {\"frequency\": 5, \"value\": 7975}, \"7980\": {\"frequency\": 4, \"value\": 7980}, \"7983\": {\"frequency\": 10, \"value\": 7983}, \"7987\": {\"frequency\": 2, \"value\": 7987}, \"7990\": {\"frequency\": 2, \"value\": 7990}, \"7991\": {\"frequency\": 1, \"value\": 7991}, \"7992\": {\"frequency\": 3, \"value\": 7992}, \"7994\": {\"frequency\": 2, \"value\": 7994}, \"7996\": {\"frequency\": 7, \"value\": 7996}, \"7997\": {\"frequency\": 2, \"value\": 7997}, \"7999\": {\"frequency\": 8, \"value\": 7999}, \"8000\": {\"frequency\": 1127, \"value\": 8000}, \"8001\": {\"frequency\": 12, \"value\": 8001}, \"8002\": {\"frequency\": 2, \"value\": 8002}, \"8003\": {\"frequency\": 6, \"value\": 8003}, \"8004\": {\"frequency\": 4, \"value\": 8004}, \"8005\": {\"frequency\": 3, \"value\": 8005}, \"8006\": {\"frequency\": 4, \"value\": 8006}, \"8009\": {\"frequency\": 3, \"value\": 8009}, \"8013\": {\"frequency\": 5, \"value\": 8013}, \"8014\": {\"frequency\": 5, \"value\": 8014}, \"8016\": {\"frequency\": 5, \"value\": 8016}, \"8017\": {\"frequency\": 5, \"value\": 8017}, \"8020\": {\"frequency\": 6, \"value\": 8020}, \"8025\": {\"frequency\": 6, \"value\": 8025}, \"8027\": {\"frequency\": 4, \"value\": 8027}, \"8028\": {\"frequency\": 4, \"value\": 8028}, \"8030\": {\"frequency\": 6, \"value\": 8030}, \"8032\": {\"frequency\": 2, \"value\": 8032}, \"8033\": {\"frequency\": 11, \"value\": 8033}, \"8034\": {\"frequency\": 1, \"value\": 8034}, \"8035\": {\"frequency\": 8, \"value\": 8035}, \"8038\": {\"frequency\": 3, \"value\": 8038}, \"8040\": {\"frequency\": 5, \"value\": 8040}, \"8041\": {\"frequency\": 8, \"value\": 8041}, \"8044\": {\"frequency\": 4, \"value\": 8044}, \"8046\": {\"frequency\": 4, \"value\": 8046}, \"8047\": {\"frequency\": 3, \"value\": 8047}, \"8050\": {\"frequency\": 42, \"value\": 8050}, \"8051\": {\"frequency\": 4, \"value\": 8051}, \"8052\": {\"frequency\": 7, \"value\": 8052}, \"8054\": {\"frequency\": 3, \"value\": 8054}, \"8055\": {\"frequency\": 5, \"value\": 8055}, \"8056\": {\"frequency\": 7, \"value\": 8056}, \"8057\": {\"frequency\": 1, \"value\": 8057}, \"8058\": {\"frequency\": 4, \"value\": 8058}, \"8059\": {\"frequency\": 4, \"value\": 8059}, \"8060\": {\"frequency\": 7, \"value\": 8060}, \"8061\": {\"frequency\": 3, \"value\": 8061}, \"8062\": {\"frequency\": 4, \"value\": 8062}, \"8063\": {\"frequency\": 3, \"value\": 8063}, \"8064\": {\"frequency\": 4, \"value\": 8064}, \"8065\": {\"frequency\": 4, \"value\": 8065}, \"8066\": {\"frequency\": 5, \"value\": 8066}, \"8068\": {\"frequency\": 7, \"value\": 8068}, \"8070\": {\"frequency\": 5, \"value\": 8070}, \"8072\": {\"frequency\": 2, \"value\": 8072}, \"8073\": {\"frequency\": 5, \"value\": 8073}, \"8075\": {\"frequency\": 10, \"value\": 8075}, \"8076\": {\"frequency\": 3, \"value\": 8076}, \"8079\": {\"frequency\": 3, \"value\": 8079}, \"8080\": {\"frequency\": 7, \"value\": 8080}, \"8081\": {\"frequency\": 5, \"value\": 8081}, \"8082\": {\"frequency\": 4, \"value\": 8082}, \"8083\": {\"frequency\": 81, \"value\": 8083}, \"8084\": {\"frequency\": 7, \"value\": 8084}, \"8086\": {\"frequency\": 2, \"value\": 8086}, \"8087\": {\"frequency\": 3, \"value\": 8087}, \"8088\": {\"frequency\": 3, \"value\": 8088}, \"8090\": {\"frequency\": 3, \"value\": 8090}, \"8091\": {\"frequency\": 5, \"value\": 8091}, \"8092\": {\"frequency\": 4, \"value\": 8092}, \"8094\": {\"frequency\": 3, \"value\": 8094}, \"8096\": {\"frequency\": 4, \"value\": 8096}, \"8097\": {\"frequency\": 2, \"value\": 8097}, \"8098\": {\"frequency\": 3, \"value\": 8098}, \"8100\": {\"frequency\": 134, \"value\": 8100}, \"8101\": {\"frequency\": 8, \"value\": 8101}, \"8102\": {\"frequency\": 3, \"value\": 8102}, \"8104\": {\"frequency\": 3, \"value\": 8104}, \"8105\": {\"frequency\": 3, \"value\": 8105}, \"8106\": {\"frequency\": 2, \"value\": 8106}, \"8107\": {\"frequency\": 2, \"value\": 8107}, \"8108\": {\"frequency\": 6, \"value\": 8108}, \"8109\": {\"frequency\": 4, \"value\": 8109}, \"8110\": {\"frequency\": 5, \"value\": 8110}, \"8111\": {\"frequency\": 4, \"value\": 8111}, \"8112\": {\"frequency\": 3, \"value\": 8112}, \"8114\": {\"frequency\": 1, \"value\": 8114}, \"8116\": {\"frequency\": 5, \"value\": 8116}, \"8120\": {\"frequency\": 8, \"value\": 8120}, \"8122\": {\"frequency\": 3, \"value\": 8122}, \"8124\": {\"frequency\": 4, \"value\": 8124}, \"8125\": {\"frequency\": 18, \"value\": 8125}, \"8127\": {\"frequency\": 6, \"value\": 8127}, \"8128\": {\"frequency\": 4, \"value\": 8128}, \"8129\": {\"frequency\": 4, \"value\": 8129}, \"8130\": {\"frequency\": 1, \"value\": 8130}, \"8132\": {\"frequency\": 3, \"value\": 8132}, \"8133\": {\"frequency\": 5, \"value\": 8133}, \"8136\": {\"frequency\": 5, \"value\": 8136}, \"8137\": {\"frequency\": 6, \"value\": 8137}, \"8140\": {\"frequency\": 6, \"value\": 8140}, \"8144\": {\"frequency\": 3, \"value\": 8144}, \"8145\": {\"frequency\": 5, \"value\": 8145}, \"8146\": {\"frequency\": 2, \"value\": 8146}, \"8148\": {\"frequency\": 2, \"value\": 8148}, \"8150\": {\"frequency\": 24, \"value\": 8150}, \"8152\": {\"frequency\": 4, \"value\": 8152}, \"8153\": {\"frequency\": 4, \"value\": 8153}, \"8154\": {\"frequency\": 5, \"value\": 8154}, \"8156\": {\"frequency\": 2, \"value\": 8156}, \"8157\": {\"frequency\": 5, \"value\": 8157}, \"8158\": {\"frequency\": 6, \"value\": 8158}, \"8160\": {\"frequency\": 11, \"value\": 8160}, \"8161\": {\"frequency\": 4, \"value\": 8161}, \"8164\": {\"frequency\": 4, \"value\": 8164}, \"8165\": {\"frequency\": 5, \"value\": 8165}, \"8166\": {\"frequency\": 107, \"value\": 8166}, \"8167\": {\"frequency\": 21, \"value\": 8167}, \"8168\": {\"frequency\": 7, \"value\": 8168}, \"8170\": {\"frequency\": 6, \"value\": 8170}, \"8175\": {\"frequency\": 6, \"value\": 8175}, \"8177\": {\"frequency\": 3, \"value\": 8177}, \"8179\": {\"frequency\": 3, \"value\": 8179}, \"8183\": {\"frequency\": 9, \"value\": 8183}, \"8187\": {\"frequency\": 3, \"value\": 8187}, \"8188\": {\"frequency\": 3, \"value\": 8188}, \"8189\": {\"frequency\": 2, \"value\": 8189}, \"8191\": {\"frequency\": 2, \"value\": 8191}, \"8194\": {\"frequency\": 6, \"value\": 8194}, \"8195\": {\"frequency\": 4, \"value\": 8195}, \"8196\": {\"frequency\": 5, \"value\": 8196}, \"8197\": {\"frequency\": 2, \"value\": 8197}, \"8198\": {\"frequency\": 5, \"value\": 8198}, \"8199\": {\"frequency\": 2, \"value\": 8199}, \"8200\": {\"frequency\": 167, \"value\": 8200}, \"8201\": {\"frequency\": 4, \"value\": 8201}, \"8202\": {\"frequency\": 3, \"value\": 8202}, \"8205\": {\"frequency\": 2, \"value\": 8205}, \"8208\": {\"frequency\": 16, \"value\": 8208}, \"8209\": {\"frequency\": 4, \"value\": 8209}, \"8210\": {\"frequency\": 7, \"value\": 8210}, \"8212\": {\"frequency\": 4, \"value\": 8212}, \"8213\": {\"frequency\": 4, \"value\": 8213}, \"8214\": {\"frequency\": 4, \"value\": 8214}, \"8216\": {\"frequency\": 5, \"value\": 8216}, \"8220\": {\"frequency\": 7, \"value\": 8220}, \"8221\": {\"frequency\": 3, \"value\": 8221}, \"8222\": {\"frequency\": 2, \"value\": 8222}, \"8224\": {\"frequency\": 3, \"value\": 8224}, \"8225\": {\"frequency\": 5, \"value\": 8225}, \"8227\": {\"frequency\": 4, \"value\": 8227}, \"8228\": {\"frequency\": 2, \"value\": 8228}, \"8232\": {\"frequency\": 2, \"value\": 8232}, \"8233\": {\"frequency\": 9, \"value\": 8233}, \"8235\": {\"frequency\": 2, \"value\": 8235}, \"8236\": {\"frequency\": 1, \"value\": 8236}, \"8237\": {\"frequency\": 3, \"value\": 8237}, \"8238\": {\"frequency\": 2, \"value\": 8238}, \"8240\": {\"frequency\": 5, \"value\": 8240}, \"8241\": {\"frequency\": 6, \"value\": 8241}, \"8242\": {\"frequency\": 3, \"value\": 8242}, \"8245\": {\"frequency\": 4, \"value\": 8245}, \"8248\": {\"frequency\": 4, \"value\": 8248}, \"8249\": {\"frequency\": 13, \"value\": 8249}, \"8250\": {\"frequency\": 66, \"value\": 8250}, \"8251\": {\"frequency\": 5, \"value\": 8251}, \"8256\": {\"frequency\": 4, \"value\": 8256}, \"8257\": {\"frequency\": 4, \"value\": 8257}, \"8258\": {\"frequency\": 4, \"value\": 8258}, \"8260\": {\"frequency\": 3, \"value\": 8260}, \"8263\": {\"frequency\": 3, \"value\": 8263}, \"8264\": {\"frequency\": 4, \"value\": 8264}, \"8265\": {\"frequency\": 7, \"value\": 8265}, \"8266\": {\"frequency\": 9, \"value\": 8266}, \"8267\": {\"frequency\": 6, \"value\": 8267}, \"8268\": {\"frequency\": 6, \"value\": 8268}, \"8269\": {\"frequency\": 4, \"value\": 8269}, \"8270\": {\"frequency\": 6, \"value\": 8270}, \"8271\": {\"frequency\": 2, \"value\": 8271}, \"8272\": {\"frequency\": 4, \"value\": 8272}, \"8273\": {\"frequency\": 5, \"value\": 8273}, \"8275\": {\"frequency\": 4, \"value\": 8275}, \"8276\": {\"frequency\": 8, \"value\": 8276}, \"8277\": {\"frequency\": 1, \"value\": 8277}, \"8278\": {\"frequency\": 4, \"value\": 8278}, \"8280\": {\"frequency\": 5, \"value\": 8280}, \"8281\": {\"frequency\": 4, \"value\": 8281}, \"8282\": {\"frequency\": 2, \"value\": 8282}, \"8283\": {\"frequency\": 9, \"value\": 8283}, \"8284\": {\"frequency\": 8, \"value\": 8284}, \"8285\": {\"frequency\": 2, \"value\": 8285}, \"8287\": {\"frequency\": 3, \"value\": 8287}, \"8288\": {\"frequency\": 3, \"value\": 8288}, \"8289\": {\"frequency\": 5, \"value\": 8289}, \"8290\": {\"frequency\": 3, \"value\": 8290}, \"8291\": {\"frequency\": 9, \"value\": 8291}, \"8292\": {\"frequency\": 5, \"value\": 8292}, \"8295\": {\"frequency\": 2, \"value\": 8295}, \"8296\": {\"frequency\": 7, \"value\": 8296}, \"8298\": {\"frequency\": 4, \"value\": 8298}, \"8299\": {\"frequency\": 5, \"value\": 8299}, \"8300\": {\"frequency\": 181, \"value\": 8300}, \"8301\": {\"frequency\": 3, \"value\": 8301}, \"8302\": {\"frequency\": 3, \"value\": 8302}, \"8303\": {\"frequency\": 3, \"value\": 8303}, \"8305\": {\"frequency\": 4, \"value\": 8305}, \"8308\": {\"frequency\": 6, \"value\": 8308}, \"8310\": {\"frequency\": 7, \"value\": 8310}, \"8311\": {\"frequency\": 2, \"value\": 8311}, \"8314\": {\"frequency\": 4, \"value\": 8314}, \"8315\": {\"frequency\": 2, \"value\": 8315}, \"8316\": {\"frequency\": 12, \"value\": 8316}, \"8317\": {\"frequency\": 6, \"value\": 8317}, \"8319\": {\"frequency\": 2, \"value\": 8319}, \"8320\": {\"frequency\": 9, \"value\": 8320}, \"8322\": {\"frequency\": 3, \"value\": 8322}, \"8323\": {\"frequency\": 4, \"value\": 8323}, \"8325\": {\"frequency\": 5, \"value\": 8325}, \"8326\": {\"frequency\": 5, \"value\": 8326}, \"8328\": {\"frequency\": 5, \"value\": 8328}, \"8329\": {\"frequency\": 3, \"value\": 8329}, \"8330\": {\"frequency\": 7, \"value\": 8330}, \"8331\": {\"frequency\": 3, \"value\": 8331}, \"8332\": {\"frequency\": 7, \"value\": 8332}, \"8333\": {\"frequency\": 543, \"value\": 8333}, \"8334\": {\"frequency\": 30, \"value\": 8334}, \"8335\": {\"frequency\": 10, \"value\": 8335}, \"8339\": {\"frequency\": 6, \"value\": 8339}, \"8340\": {\"frequency\": 10, \"value\": 8340}, \"8342\": {\"frequency\": 4, \"value\": 8342}, \"8344\": {\"frequency\": 4, \"value\": 8344}, \"8345\": {\"frequency\": 3, \"value\": 8345}, \"8347\": {\"frequency\": 3, \"value\": 8347}, \"8348\": {\"frequency\": 3, \"value\": 8348}, \"8349\": {\"frequency\": 4, \"value\": 8349}, \"8350\": {\"frequency\": 29, \"value\": 8350}, \"8351\": {\"frequency\": 3, \"value\": 8351}, \"8352\": {\"frequency\": 4, \"value\": 8352}, \"8354\": {\"frequency\": 8, \"value\": 8354}, \"8355\": {\"frequency\": 4, \"value\": 8355}, \"8356\": {\"frequency\": 2, \"value\": 8356}, \"8357\": {\"frequency\": 3, \"value\": 8357}, \"8358\": {\"frequency\": 4, \"value\": 8358}, \"8359\": {\"frequency\": 3, \"value\": 8359}, \"8360\": {\"frequency\": 3, \"value\": 8360}, \"8361\": {\"frequency\": 2, \"value\": 8361}, \"8362\": {\"frequency\": 3, \"value\": 8362}, \"8363\": {\"frequency\": 2, \"value\": 8363}, \"8365\": {\"frequency\": 3, \"value\": 8365}, \"8366\": {\"frequency\": 13, \"value\": 8366}, \"8367\": {\"frequency\": 6, \"value\": 8367}, \"8369\": {\"frequency\": 3, \"value\": 8369}, \"8370\": {\"frequency\": 3, \"value\": 8370}, \"8374\": {\"frequency\": 3, \"value\": 8374}, \"8375\": {\"frequency\": 9, \"value\": 8375}, \"8377\": {\"frequency\": 3, \"value\": 8377}, \"8378\": {\"frequency\": 3, \"value\": 8378}, \"8379\": {\"frequency\": 3, \"value\": 8379}, \"8380\": {\"frequency\": 5, \"value\": 8380}, \"8381\": {\"frequency\": 4, \"value\": 8381}, \"8383\": {\"frequency\": 4, \"value\": 8383}, \"8384\": {\"frequency\": 5, \"value\": 8384}, \"8385\": {\"frequency\": 3, \"value\": 8385}, \"8387\": {\"frequency\": 4, \"value\": 8387}, \"8390\": {\"frequency\": 4, \"value\": 8390}, \"8395\": {\"frequency\": 4, \"value\": 8395}, \"8396\": {\"frequency\": 3, \"value\": 8396}, \"8399\": {\"frequency\": 1, \"value\": 8399}, \"8400\": {\"frequency\": 191, \"value\": 8400}, \"8403\": {\"frequency\": 2, \"value\": 8403}, \"8407\": {\"frequency\": 2, \"value\": 8407}, \"8408\": {\"frequency\": 3, \"value\": 8408}, \"8413\": {\"frequency\": 1, \"value\": 8413}, \"8414\": {\"frequency\": 2, \"value\": 8414}, \"8415\": {\"frequency\": 4, \"value\": 8415}, \"8416\": {\"frequency\": 54, \"value\": 8416}, \"8417\": {\"frequency\": 6, \"value\": 8417}, \"8420\": {\"frequency\": 11, \"value\": 8420}, \"8424\": {\"frequency\": 2, \"value\": 8424}, \"8425\": {\"frequency\": 4, \"value\": 8425}, \"8430\": {\"frequency\": 4, \"value\": 8430}, \"8432\": {\"frequency\": 4, \"value\": 8432}, \"8433\": {\"frequency\": 10, \"value\": 8433}, \"8434\": {\"frequency\": 2, \"value\": 8434}, \"8437\": {\"frequency\": 4, \"value\": 8437}, \"8440\": {\"frequency\": 3, \"value\": 8440}, \"8441\": {\"frequency\": 6, \"value\": 8441}, \"8442\": {\"frequency\": 3, \"value\": 8442}, \"8443\": {\"frequency\": 3, \"value\": 8443}, \"8446\": {\"frequency\": 5, \"value\": 8446}, \"8447\": {\"frequency\": 3, \"value\": 8447}, \"8448\": {\"frequency\": 1, \"value\": 8448}, \"8449\": {\"frequency\": 2, \"value\": 8449}, \"8450\": {\"frequency\": 30, \"value\": 8450}, \"8452\": {\"frequency\": 6, \"value\": 8452}, \"8453\": {\"frequency\": 2, \"value\": 8453}, \"8455\": {\"frequency\": 3, \"value\": 8455}, \"8456\": {\"frequency\": 4, \"value\": 8456}, \"8457\": {\"frequency\": 3, \"value\": 8457}, \"8458\": {\"frequency\": 5, \"value\": 8458}, \"8460\": {\"frequency\": 5, \"value\": 8460}, \"8461\": {\"frequency\": 3, \"value\": 8461}, \"8462\": {\"frequency\": 3, \"value\": 8462}, \"8465\": {\"frequency\": 3, \"value\": 8465}, \"8466\": {\"frequency\": 7, \"value\": 8466}, \"8467\": {\"frequency\": 4, \"value\": 8467}, \"8468\": {\"frequency\": 3, \"value\": 8468}, \"8470\": {\"frequency\": 4, \"value\": 8470}, \"8472\": {\"frequency\": 4, \"value\": 8472}, \"8474\": {\"frequency\": 3, \"value\": 8474}, \"8475\": {\"frequency\": 4, \"value\": 8475}, \"8479\": {\"frequency\": 2, \"value\": 8479}, \"8482\": {\"frequency\": 3, \"value\": 8482}, \"8483\": {\"frequency\": 12, \"value\": 8483}, \"8485\": {\"frequency\": 3, \"value\": 8485}, \"8486\": {\"frequency\": 3, \"value\": 8486}, \"8487\": {\"frequency\": 4, \"value\": 8487}, \"8490\": {\"frequency\": 6, \"value\": 8490}, \"8492\": {\"frequency\": 5, \"value\": 8492}, \"8494\": {\"frequency\": 5, \"value\": 8494}, \"8496\": {\"frequency\": 4, \"value\": 8496}, \"8498\": {\"frequency\": 2, \"value\": 8498}, \"8499\": {\"frequency\": 6, \"value\": 8499}, \"8500\": {\"frequency\": 505, \"value\": 8500}, \"8501\": {\"frequency\": 4, \"value\": 8501}, \"8505\": {\"frequency\": 5, \"value\": 8505}, \"8508\": {\"frequency\": 5, \"value\": 8508}, \"8509\": {\"frequency\": 4, \"value\": 8509}, \"8510\": {\"frequency\": 3, \"value\": 8510}, \"8511\": {\"frequency\": 3, \"value\": 8511}, \"8512\": {\"frequency\": 2, \"value\": 8512}, \"8514\": {\"frequency\": 3, \"value\": 8514}, \"8516\": {\"frequency\": 7, \"value\": 8516}, \"8518\": {\"frequency\": 6, \"value\": 8518}, \"8520\": {\"frequency\": 4, \"value\": 8520}, \"8521\": {\"frequency\": 1, \"value\": 8521}, \"8524\": {\"frequency\": 2, \"value\": 8524}, \"8525\": {\"frequency\": 3, \"value\": 8525}, \"8527\": {\"frequency\": 4, \"value\": 8527}, \"8532\": {\"frequency\": 4, \"value\": 8532}, \"8533\": {\"frequency\": 16, \"value\": 8533}, \"8535\": {\"frequency\": 3, \"value\": 8535}, \"8536\": {\"frequency\": 7, \"value\": 8536}, \"8537\": {\"frequency\": 2, \"value\": 8537}, \"8538\": {\"frequency\": 3, \"value\": 8538}, \"8540\": {\"frequency\": 5, \"value\": 8540}, \"8541\": {\"frequency\": 4, \"value\": 8541}, \"8542\": {\"frequency\": 3, \"value\": 8542}, \"8544\": {\"frequency\": 4, \"value\": 8544}, \"8545\": {\"frequency\": 3, \"value\": 8545}, \"8546\": {\"frequency\": 3, \"value\": 8546}, \"8548\": {\"frequency\": 4, \"value\": 8548}, \"8549\": {\"frequency\": 3, \"value\": 8549}, \"8550\": {\"frequency\": 13, \"value\": 8550}, \"8551\": {\"frequency\": 2, \"value\": 8551}, \"8552\": {\"frequency\": 5, \"value\": 8552}, \"8555\": {\"frequency\": 3, \"value\": 8555}, \"8556\": {\"frequency\": 1, \"value\": 8556}, \"8557\": {\"frequency\": 4, \"value\": 8557}, \"8558\": {\"frequency\": 6, \"value\": 8558}, \"8560\": {\"frequency\": 5, \"value\": 8560}, \"8566\": {\"frequency\": 4, \"value\": 8566}, \"8568\": {\"frequency\": 3, \"value\": 8568}, \"8570\": {\"frequency\": 4, \"value\": 8570}, \"8571\": {\"frequency\": 1, \"value\": 8571}, \"8574\": {\"frequency\": 6, \"value\": 8574}, \"8575\": {\"frequency\": 10, \"value\": 8575}, \"8579\": {\"frequency\": 5, \"value\": 8579}, \"8580\": {\"frequency\": 6, \"value\": 8580}, \"8582\": {\"frequency\": 12, \"value\": 8582}, \"8583\": {\"frequency\": 100, \"value\": 8583}, \"8584\": {\"frequency\": 6, \"value\": 8584}, \"8585\": {\"frequency\": 8, \"value\": 8585}, \"8591\": {\"frequency\": 4, \"value\": 8591}, \"8593\": {\"frequency\": 2, \"value\": 8593}, \"8594\": {\"frequency\": 3, \"value\": 8594}, \"8599\": {\"frequency\": 3, \"value\": 8599}, \"8600\": {\"frequency\": 146, \"value\": 8600}, \"8601\": {\"frequency\": 5, \"value\": 8601}, \"8605\": {\"frequency\": 3, \"value\": 8605}, \"8608\": {\"frequency\": 3, \"value\": 8608}, \"8609\": {\"frequency\": 2, \"value\": 8609}, \"8613\": {\"frequency\": 7, \"value\": 8613}, \"8614\": {\"frequency\": 6, \"value\": 8614}, \"8615\": {\"frequency\": 3, \"value\": 8615}, \"8616\": {\"frequency\": 6, \"value\": 8616}, \"8618\": {\"frequency\": 1, \"value\": 8618}, \"8620\": {\"frequency\": 7, \"value\": 8620}, \"8621\": {\"frequency\": 3, \"value\": 8621}, \"8623\": {\"frequency\": 5, \"value\": 8623}, \"8624\": {\"frequency\": 2, \"value\": 8624}, \"8625\": {\"frequency\": 9, \"value\": 8625}, \"8626\": {\"frequency\": 3, \"value\": 8626}, \"8629\": {\"frequency\": 5, \"value\": 8629}, \"8630\": {\"frequency\": 5, \"value\": 8630}, \"8632\": {\"frequency\": 5, \"value\": 8632}, \"8633\": {\"frequency\": 12, \"value\": 8633}, \"8635\": {\"frequency\": 4, \"value\": 8635}, \"8636\": {\"frequency\": 1, \"value\": 8636}, \"8638\": {\"frequency\": 2, \"value\": 8638}, \"8639\": {\"frequency\": 1, \"value\": 8639}, \"8641\": {\"frequency\": 4, \"value\": 8641}, \"8644\": {\"frequency\": 4, \"value\": 8644}, \"8645\": {\"frequency\": 6, \"value\": 8645}, \"8650\": {\"frequency\": 29, \"value\": 8650}, \"8653\": {\"frequency\": 4, \"value\": 8653}, \"8656\": {\"frequency\": 9, \"value\": 8656}, \"8658\": {\"frequency\": 1, \"value\": 8658}, \"8660\": {\"frequency\": 7, \"value\": 8660}, \"8662\": {\"frequency\": 4, \"value\": 8662}, \"8663\": {\"frequency\": 2, \"value\": 8663}, \"8664\": {\"frequency\": 5, \"value\": 8664}, \"8665\": {\"frequency\": 5, \"value\": 8665}, \"8666\": {\"frequency\": 72, \"value\": 8666}, \"8667\": {\"frequency\": 15, \"value\": 8667}, \"8668\": {\"frequency\": 2, \"value\": 8668}, \"8669\": {\"frequency\": 4, \"value\": 8669}, \"8673\": {\"frequency\": 2, \"value\": 8673}, \"8675\": {\"frequency\": 5, \"value\": 8675}, \"8678\": {\"frequency\": 4, \"value\": 8678}, \"8680\": {\"frequency\": 5, \"value\": 8680}, \"8683\": {\"frequency\": 10, \"value\": 8683}, \"8684\": {\"frequency\": 2, \"value\": 8684}, \"8685\": {\"frequency\": 5, \"value\": 8685}, \"8688\": {\"frequency\": 6, \"value\": 8688}, \"8690\": {\"frequency\": 3, \"value\": 8690}, \"8691\": {\"frequency\": 2, \"value\": 8691}, \"8692\": {\"frequency\": 6, \"value\": 8692}, \"8693\": {\"frequency\": 3, \"value\": 8693}, \"8694\": {\"frequency\": 4, \"value\": 8694}, \"8695\": {\"frequency\": 4, \"value\": 8695}, \"8700\": {\"frequency\": 114, \"value\": 8700}, \"8702\": {\"frequency\": 3, \"value\": 8702}, \"8703\": {\"frequency\": 4, \"value\": 8703}, \"8708\": {\"frequency\": 8, \"value\": 8708}, \"8709\": {\"frequency\": 5, \"value\": 8709}, \"8710\": {\"frequency\": 4, \"value\": 8710}, \"8714\": {\"frequency\": 5, \"value\": 8714}, \"8715\": {\"frequency\": 3, \"value\": 8715}, \"8716\": {\"frequency\": 6, \"value\": 8716}, \"8717\": {\"frequency\": 2, \"value\": 8717}, \"8723\": {\"frequency\": 6, \"value\": 8723}, \"8725\": {\"frequency\": 5, \"value\": 8725}, \"8729\": {\"frequency\": 5, \"value\": 8729}, \"8730\": {\"frequency\": 2, \"value\": 8730}, \"8731\": {\"frequency\": 4, \"value\": 8731}, \"41500\": {\"frequency\": 1, \"value\": 41500}, \"8733\": {\"frequency\": 14, \"value\": 8733}, \"8734\": {\"frequency\": 3, \"value\": 8734}, \"8735\": {\"frequency\": 4, \"value\": 8735}, \"8740\": {\"frequency\": 6, \"value\": 8740}, \"8741\": {\"frequency\": 7, \"value\": 8741}, \"8742\": {\"frequency\": 5, \"value\": 8742}, \"8744\": {\"frequency\": 5, \"value\": 8744}, \"8745\": {\"frequency\": 4, \"value\": 8745}, \"8746\": {\"frequency\": 3, \"value\": 8746}, \"8747\": {\"frequency\": 2, \"value\": 8747}, \"8748\": {\"frequency\": 2, \"value\": 8748}, \"8749\": {\"frequency\": 12, \"value\": 8749}, \"8750\": {\"frequency\": 220, \"value\": 8750}, \"8751\": {\"frequency\": 3, \"value\": 8751}, \"8752\": {\"frequency\": 2, \"value\": 8752}, \"8753\": {\"frequency\": 4, \"value\": 8753}, \"8756\": {\"frequency\": 4, \"value\": 8756}, \"8758\": {\"frequency\": 2, \"value\": 8758}, \"8759\": {\"frequency\": 3, \"value\": 8759}, \"8760\": {\"frequency\": 4, \"value\": 8760}, \"8764\": {\"frequency\": 2, \"value\": 8764}, \"8766\": {\"frequency\": 8, \"value\": 8766}, \"8767\": {\"frequency\": 5, \"value\": 8767}, \"8770\": {\"frequency\": 8, \"value\": 8770}, \"8775\": {\"frequency\": 7, \"value\": 8775}, \"8777\": {\"frequency\": 3, \"value\": 8777}, \"8779\": {\"frequency\": 5, \"value\": 8779}, \"8782\": {\"frequency\": 4, \"value\": 8782}, \"8783\": {\"frequency\": 16, \"value\": 8783}, \"8784\": {\"frequency\": 3, \"value\": 8784}, \"8785\": {\"frequency\": 3, \"value\": 8785}, \"8787\": {\"frequency\": 6, \"value\": 8787}, \"8788\": {\"frequency\": 2, \"value\": 8788}, \"8790\": {\"frequency\": 5, \"value\": 8790}, \"8791\": {\"frequency\": 5, \"value\": 8791}, \"8793\": {\"frequency\": 3, \"value\": 8793}, \"8795\": {\"frequency\": 2, \"value\": 8795}, \"8798\": {\"frequency\": 3, \"value\": 8798}, \"8799\": {\"frequency\": 4, \"value\": 8799}, \"8800\": {\"frequency\": 148, \"value\": 8800}, \"8801\": {\"frequency\": 3, \"value\": 8801}, \"8805\": {\"frequency\": 2, \"value\": 8805}, \"8811\": {\"frequency\": 5, \"value\": 8811}, \"8812\": {\"frequency\": 4, \"value\": 8812}, \"8815\": {\"frequency\": 1, \"value\": 8815}, \"8816\": {\"frequency\": 10, \"value\": 8816}, \"8819\": {\"frequency\": 1, \"value\": 8819}, \"8820\": {\"frequency\": 4, \"value\": 8820}, \"8825\": {\"frequency\": 5, \"value\": 8825}, \"8826\": {\"frequency\": 4, \"value\": 8826}, \"8830\": {\"frequency\": 9, \"value\": 8830}, \"41600\": {\"frequency\": 1, \"value\": 41600}, \"8833\": {\"frequency\": 106, \"value\": 8833}, \"8834\": {\"frequency\": 6, \"value\": 8834}, \"8835\": {\"frequency\": 3, \"value\": 8835}, \"8836\": {\"frequency\": 2, \"value\": 8836}, \"8840\": {\"frequency\": 5, \"value\": 8840}, \"8841\": {\"frequency\": 4, \"value\": 8841}, \"8842\": {\"frequency\": 4, \"value\": 8842}, \"8847\": {\"frequency\": 5, \"value\": 8847}, \"8849\": {\"frequency\": 4, \"value\": 8849}, \"8850\": {\"frequency\": 19, \"value\": 8850}, \"8851\": {\"frequency\": 4, \"value\": 8851}, \"8854\": {\"frequency\": 3, \"value\": 8854}, \"8855\": {\"frequency\": 7, \"value\": 8855}, \"8857\": {\"frequency\": 5, \"value\": 8857}, \"8858\": {\"frequency\": 5, \"value\": 8858}, \"8860\": {\"frequency\": 6, \"value\": 8860}, \"8866\": {\"frequency\": 11, \"value\": 8866}, \"8867\": {\"frequency\": 5, \"value\": 8867}, \"8870\": {\"frequency\": 5, \"value\": 8870}, \"8871\": {\"frequency\": 3, \"value\": 8871}, \"8873\": {\"frequency\": 4, \"value\": 8873}, \"8875\": {\"frequency\": 8, \"value\": 8875}, \"8876\": {\"frequency\": 5, \"value\": 8876}, \"8878\": {\"frequency\": 5, \"value\": 8878}, \"8879\": {\"frequency\": 4, \"value\": 8879}, \"8880\": {\"frequency\": 5, \"value\": 8880}, \"8881\": {\"frequency\": 6, \"value\": 8881}, \"8882\": {\"frequency\": 2, \"value\": 8882}, \"8883\": {\"frequency\": 4, \"value\": 8883}, \"8886\": {\"frequency\": 2, \"value\": 8886}, \"8887\": {\"frequency\": 2, \"value\": 8887}, \"8890\": {\"frequency\": 5, \"value\": 8890}, \"8891\": {\"frequency\": 7, \"value\": 8891}, \"8892\": {\"frequency\": 4, \"value\": 8892}, \"8894\": {\"frequency\": 3, \"value\": 8894}, \"8896\": {\"frequency\": 7, \"value\": 8896}, \"41666\": {\"frequency\": 10, \"value\": 41666}, \"41667\": {\"frequency\": 2, \"value\": 41667}, \"8900\": {\"frequency\": 118, \"value\": 8900}, \"8906\": {\"frequency\": 2, \"value\": 8906}, \"8908\": {\"frequency\": 5, \"value\": 8908}, \"8916\": {\"frequency\": 84, \"value\": 8916}, \"8917\": {\"frequency\": 10, \"value\": 8917}, \"8920\": {\"frequency\": 12, \"value\": 8920}, \"8921\": {\"frequency\": 2, \"value\": 8921}, \"8924\": {\"frequency\": 5, \"value\": 8924}, \"8925\": {\"frequency\": 6, \"value\": 8925}, \"8926\": {\"frequency\": 4, \"value\": 8926}, \"8927\": {\"frequency\": 3, \"value\": 8927}, \"8930\": {\"frequency\": 4, \"value\": 8930}, \"8932\": {\"frequency\": 2, \"value\": 8932}, \"8933\": {\"frequency\": 6, \"value\": 8933}, \"8938\": {\"frequency\": 1, \"value\": 8938}, \"8939\": {\"frequency\": 4, \"value\": 8939}, \"8940\": {\"frequency\": 6, \"value\": 8940}, \"8941\": {\"frequency\": 3, \"value\": 8941}, \"8942\": {\"frequency\": 4, \"value\": 8942}, \"8946\": {\"frequency\": 4, \"value\": 8946}, \"8949\": {\"frequency\": 3, \"value\": 8949}, \"8950\": {\"frequency\": 31, \"value\": 8950}, \"8952\": {\"frequency\": 5, \"value\": 8952}, \"8953\": {\"frequency\": 3, \"value\": 8953}, \"8957\": {\"frequency\": 3, \"value\": 8957}, \"8958\": {\"frequency\": 5, \"value\": 8958}, \"8960\": {\"frequency\": 7, \"value\": 8960}, \"8962\": {\"frequency\": 4, \"value\": 8962}, \"8963\": {\"frequency\": 1, \"value\": 8963}, \"8964\": {\"frequency\": 3, \"value\": 8964}, \"8965\": {\"frequency\": 3, \"value\": 8965}, \"8966\": {\"frequency\": 8, \"value\": 8966}, \"8967\": {\"frequency\": 2, \"value\": 8967}, \"8970\": {\"frequency\": 5, \"value\": 8970}, \"8974\": {\"frequency\": 3, \"value\": 8974}, \"8975\": {\"frequency\": 6, \"value\": 8975}, \"8977\": {\"frequency\": 6, \"value\": 8977}, \"8979\": {\"frequency\": 4, \"value\": 8979}, \"8980\": {\"frequency\": 5, \"value\": 8980}, \"8983\": {\"frequency\": 5, \"value\": 8983}, \"8986\": {\"frequency\": 4, \"value\": 8986}, \"8987\": {\"frequency\": 4, \"value\": 8987}, \"8990\": {\"frequency\": 5, \"value\": 8990}, \"8994\": {\"frequency\": 2, \"value\": 8994}, \"8995\": {\"frequency\": 1, \"value\": 8995}, \"8999\": {\"frequency\": 9, \"value\": 8999}, \"9000\": {\"frequency\": 763, \"value\": 9000}, \"9007\": {\"frequency\": 2, \"value\": 9007}, \"9008\": {\"frequency\": 2, \"value\": 9008}, \"9009\": {\"frequency\": 7, \"value\": 9009}, \"9016\": {\"frequency\": 6, \"value\": 9016}, \"9017\": {\"frequency\": 8, \"value\": 9017}, \"9020\": {\"frequency\": 2, \"value\": 9020}, \"9022\": {\"frequency\": 3, \"value\": 9022}, \"9025\": {\"frequency\": 4, \"value\": 9025}, \"9029\": {\"frequency\": 3, \"value\": 9029}, \"9030\": {\"frequency\": 5, \"value\": 9030}, \"9032\": {\"frequency\": 5, \"value\": 9032}, \"9033\": {\"frequency\": 7, \"value\": 9033}, \"9035\": {\"frequency\": 6, \"value\": 9035}, \"9037\": {\"frequency\": 3, \"value\": 9037}, \"9040\": {\"frequency\": 9, \"value\": 9040}, \"9041\": {\"frequency\": 5, \"value\": 9041}, \"9046\": {\"frequency\": 3, \"value\": 9046}, \"9048\": {\"frequency\": 2, \"value\": 9048}, \"9049\": {\"frequency\": 4, \"value\": 9049}, \"9050\": {\"frequency\": 15, \"value\": 9050}, \"9055\": {\"frequency\": 8, \"value\": 9055}, \"9056\": {\"frequency\": 4, \"value\": 9056}, \"9057\": {\"frequency\": 2, \"value\": 9057}, \"9058\": {\"frequency\": 6, \"value\": 9058}, \"9060\": {\"frequency\": 5, \"value\": 9060}, \"9061\": {\"frequency\": 4, \"value\": 9061}, \"9064\": {\"frequency\": 3, \"value\": 9064}, \"9065\": {\"frequency\": 5, \"value\": 9065}, \"9066\": {\"frequency\": 12, \"value\": 9066}, \"9067\": {\"frequency\": 3, \"value\": 9067}, \"9069\": {\"frequency\": 4, \"value\": 9069}, \"9070\": {\"frequency\": 3, \"value\": 9070}, \"9072\": {\"frequency\": 3, \"value\": 9072}, \"9075\": {\"frequency\": 3, \"value\": 9075}, \"9077\": {\"frequency\": 3, \"value\": 9077}, \"9080\": {\"frequency\": 3, \"value\": 9080}, \"9082\": {\"frequency\": 4, \"value\": 9082}, \"9083\": {\"frequency\": 79, \"value\": 9083}, \"9084\": {\"frequency\": 3, \"value\": 9084}, \"9085\": {\"frequency\": 4, \"value\": 9085}, \"9086\": {\"frequency\": 3, \"value\": 9086}, \"9087\": {\"frequency\": 2, \"value\": 9087}, \"9091\": {\"frequency\": 4, \"value\": 9091}, \"9094\": {\"frequency\": 3, \"value\": 9094}, \"9095\": {\"frequency\": 1, \"value\": 9095}, \"9096\": {\"frequency\": 5, \"value\": 9096}, \"9099\": {\"frequency\": 2, \"value\": 9099}, \"9100\": {\"frequency\": 84, \"value\": 9100}, \"9102\": {\"frequency\": 2, \"value\": 9102}, \"9103\": {\"frequency\": 3, \"value\": 9103}, \"9104\": {\"frequency\": 3, \"value\": 9104}, \"9108\": {\"frequency\": 3, \"value\": 9108}, \"9111\": {\"frequency\": 3, \"value\": 9111}, \"9114\": {\"frequency\": 3, \"value\": 9114}, \"9115\": {\"frequency\": 2, \"value\": 9115}, \"9116\": {\"frequency\": 11, \"value\": 9116}, \"9119\": {\"frequency\": 2, \"value\": 9119}, \"9120\": {\"frequency\": 4, \"value\": 9120}, \"9121\": {\"frequency\": 4, \"value\": 9121}, \"9122\": {\"frequency\": 3, \"value\": 9122}, \"9124\": {\"frequency\": 7, \"value\": 9124}, \"9125\": {\"frequency\": 9, \"value\": 9125}, \"9128\": {\"frequency\": 2, \"value\": 9128}, \"9131\": {\"frequency\": 3, \"value\": 9131}, \"9133\": {\"frequency\": 10, \"value\": 9133}, \"9134\": {\"frequency\": 1, \"value\": 9134}, \"9137\": {\"frequency\": 2, \"value\": 9137}, \"9138\": {\"frequency\": 2, \"value\": 9138}, \"9139\": {\"frequency\": 3, \"value\": 9139}, \"9140\": {\"frequency\": 5, \"value\": 9140}, \"9141\": {\"frequency\": 4, \"value\": 9141}, \"9142\": {\"frequency\": 5, \"value\": 9142}, \"9143\": {\"frequency\": 2, \"value\": 9143}, \"9145\": {\"frequency\": 3, \"value\": 9145}, \"9149\": {\"frequency\": 3, \"value\": 9149}, \"9150\": {\"frequency\": 19, \"value\": 9150}, \"9158\": {\"frequency\": 3, \"value\": 9158}, \"9159\": {\"frequency\": 2, \"value\": 9159}, \"9160\": {\"frequency\": 7, \"value\": 9160}, \"9165\": {\"frequency\": 7, \"value\": 9165}, \"9166\": {\"frequency\": 255, \"value\": 9166}, \"9167\": {\"frequency\": 47, \"value\": 9167}, \"9168\": {\"frequency\": 3, \"value\": 9168}, \"9170\": {\"frequency\": 5, \"value\": 9170}, \"9175\": {\"frequency\": 5, \"value\": 9175}, \"9176\": {\"frequency\": 4, \"value\": 9176}, \"9177\": {\"frequency\": 2, \"value\": 9177}, \"9178\": {\"frequency\": 2, \"value\": 9178}, \"9183\": {\"frequency\": 5, \"value\": 9183}, \"9187\": {\"frequency\": 5, \"value\": 9187}, \"9190\": {\"frequency\": 5, \"value\": 9190}, \"9191\": {\"frequency\": 2, \"value\": 9191}, \"9192\": {\"frequency\": 4, \"value\": 9192}, \"9195\": {\"frequency\": 3, \"value\": 9195}, \"9199\": {\"frequency\": 2, \"value\": 9199}, \"9200\": {\"frequency\": 134, \"value\": 9200}, \"9204\": {\"frequency\": 2, \"value\": 9204}, \"9206\": {\"frequency\": 4, \"value\": 9206}, \"9207\": {\"frequency\": 1, \"value\": 9207}, \"9208\": {\"frequency\": 10, \"value\": 9208}, \"9213\": {\"frequency\": 5, \"value\": 9213}, \"9214\": {\"frequency\": 3, \"value\": 9214}, \"9216\": {\"frequency\": 4, \"value\": 9216}, \"9217\": {\"frequency\": 3, \"value\": 9217}, \"9219\": {\"frequency\": 5, \"value\": 9219}, \"9220\": {\"frequency\": 8, \"value\": 9220}, \"9225\": {\"frequency\": 2, \"value\": 9225}, \"9228\": {\"frequency\": 4, \"value\": 9228}, \"9230\": {\"frequency\": 3, \"value\": 9230}, \"42000\": {\"frequency\": 4, \"value\": 42000}, \"9233\": {\"frequency\": 10, \"value\": 9233}, \"9235\": {\"frequency\": 4, \"value\": 9235}, \"9236\": {\"frequency\": 6, \"value\": 9236}, \"9237\": {\"frequency\": 1, \"value\": 9237}, \"9240\": {\"frequency\": 5, \"value\": 9240}, \"42013\": {\"frequency\": 1, \"value\": 42013}, \"9249\": {\"frequency\": 4, \"value\": 9249}, \"9250\": {\"frequency\": 77, \"value\": 9250}, \"1399\": {\"frequency\": 2, \"value\": 1399}, \"9253\": {\"frequency\": 1, \"value\": 9253}, \"9257\": {\"frequency\": 4, \"value\": 9257}, \"9258\": {\"frequency\": 4, \"value\": 9258}, \"9259\": {\"frequency\": 3, \"value\": 9259}, \"9261\": {\"frequency\": 3, \"value\": 9261}, \"9265\": {\"frequency\": 4, \"value\": 9265}, \"9266\": {\"frequency\": 7, \"value\": 9266}, \"9268\": {\"frequency\": 5, \"value\": 9268}, \"9269\": {\"frequency\": 3, \"value\": 9269}, \"9270\": {\"frequency\": 5, \"value\": 9270}, \"9272\": {\"frequency\": 1, \"value\": 9272}, \"9273\": {\"frequency\": 6, \"value\": 9273}, \"9274\": {\"frequency\": 4, \"value\": 9274}, \"9278\": {\"frequency\": 2, \"value\": 9278}, \"9280\": {\"frequency\": 4, \"value\": 9280}, \"9283\": {\"frequency\": 2, \"value\": 9283}, \"9286\": {\"frequency\": 4, \"value\": 9286}, \"9288\": {\"frequency\": 2, \"value\": 9288}, \"9290\": {\"frequency\": 2, \"value\": 9290}, \"9291\": {\"frequency\": 5, \"value\": 9291}, \"9292\": {\"frequency\": 3, \"value\": 9292}, \"9293\": {\"frequency\": 2, \"value\": 9293}, \"9296\": {\"frequency\": 4, \"value\": 9296}, \"9300\": {\"frequency\": 98, \"value\": 9300}, \"9305\": {\"frequency\": 3, \"value\": 9305}, \"9308\": {\"frequency\": 5, \"value\": 9308}, \"9309\": {\"frequency\": 3, \"value\": 9309}, \"9310\": {\"frequency\": 6, \"value\": 9310}, \"9312\": {\"frequency\": 3, \"value\": 9312}, \"9314\": {\"frequency\": 2, \"value\": 9314}, \"9315\": {\"frequency\": 3, \"value\": 9315}, \"9316\": {\"frequency\": 9, \"value\": 9316}, \"9318\": {\"frequency\": 2, \"value\": 9318}, \"9322\": {\"frequency\": 3, \"value\": 9322}, \"9325\": {\"frequency\": 8, \"value\": 9325}, \"9328\": {\"frequency\": 4, \"value\": 9328}, \"9330\": {\"frequency\": 5, \"value\": 9330}, \"9333\": {\"frequency\": 76, \"value\": 9333}, \"9334\": {\"frequency\": 5, \"value\": 9334}, \"9335\": {\"frequency\": 6, \"value\": 9335}, \"9337\": {\"frequency\": 4, \"value\": 9337}, \"9338\": {\"frequency\": 2, \"value\": 9338}, \"9342\": {\"frequency\": 4, \"value\": 9342}, \"9344\": {\"frequency\": 3, \"value\": 9344}, \"9345\": {\"frequency\": 3, \"value\": 9345}, \"9348\": {\"frequency\": 2, \"value\": 9348}, \"9350\": {\"frequency\": 17, \"value\": 9350}, \"9351\": {\"frequency\": 3, \"value\": 9351}, \"9352\": {\"frequency\": 5, \"value\": 9352}, \"9354\": {\"frequency\": 2, \"value\": 9354}, \"9356\": {\"frequency\": 2, \"value\": 9356}, \"9358\": {\"frequency\": 3, \"value\": 9358}, \"9360\": {\"frequency\": 4, \"value\": 9360}, \"9365\": {\"frequency\": 2, \"value\": 9365}, \"9366\": {\"frequency\": 6, \"value\": 9366}, \"9367\": {\"frequency\": 2, \"value\": 9367}, \"9368\": {\"frequency\": 4, \"value\": 9368}, \"9370\": {\"frequency\": 7, \"value\": 9370}, \"9371\": {\"frequency\": 5, \"value\": 9371}, \"9374\": {\"frequency\": 2, \"value\": 9374}, \"9375\": {\"frequency\": 9, \"value\": 9375}, \"9379\": {\"frequency\": 5, \"value\": 9379}, \"9380\": {\"frequency\": 3, \"value\": 9380}, \"9381\": {\"frequency\": 2, \"value\": 9381}, \"9383\": {\"frequency\": 13, \"value\": 9383}, \"9387\": {\"frequency\": 1, \"value\": 9387}, \"9388\": {\"frequency\": 3, \"value\": 9388}, \"9391\": {\"frequency\": 2, \"value\": 9391}, \"9392\": {\"frequency\": 3, \"value\": 9392}, \"9395\": {\"frequency\": 4, \"value\": 9395}, \"9396\": {\"frequency\": 3, \"value\": 9396}, \"9397\": {\"frequency\": 3, \"value\": 9397}, \"9400\": {\"frequency\": 105, \"value\": 9400}, \"9401\": {\"frequency\": 4, \"value\": 9401}, \"9403\": {\"frequency\": 3, \"value\": 9403}, \"9404\": {\"frequency\": 2, \"value\": 9404}, \"9406\": {\"frequency\": 2, \"value\": 9406}, \"9408\": {\"frequency\": 4, \"value\": 9408}, \"9410\": {\"frequency\": 6, \"value\": 9410}, \"9412\": {\"frequency\": 4, \"value\": 9412}, \"9415\": {\"frequency\": 3, \"value\": 9415}, \"9416\": {\"frequency\": 49, \"value\": 9416}, \"9417\": {\"frequency\": 13, \"value\": 9417}, \"9418\": {\"frequency\": 3, \"value\": 9418}, \"9422\": {\"frequency\": 1, \"value\": 9422}, \"9428\": {\"frequency\": 3, \"value\": 9428}, \"9430\": {\"frequency\": 6, \"value\": 9430}, \"9433\": {\"frequency\": 11, \"value\": 9433}, \"9437\": {\"frequency\": 1, \"value\": 9437}, \"9438\": {\"frequency\": 4, \"value\": 9438}, \"9439\": {\"frequency\": 2, \"value\": 9439}, \"9440\": {\"frequency\": 4, \"value\": 9440}, \"9445\": {\"frequency\": 3, \"value\": 9445}, \"9447\": {\"frequency\": 4, \"value\": 9447}, \"9449\": {\"frequency\": 2, \"value\": 9449}, \"9450\": {\"frequency\": 18, \"value\": 9450}, \"9453\": {\"frequency\": 3, \"value\": 9453}, \"9455\": {\"frequency\": 7, \"value\": 9455}, \"9458\": {\"frequency\": 6, \"value\": 9458}, \"9463\": {\"frequency\": 3, \"value\": 9463}, \"75000\": {\"frequency\": 9, \"value\": 75000}, \"9465\": {\"frequency\": 2, \"value\": 9465}, \"9466\": {\"frequency\": 11, \"value\": 9466}, \"9467\": {\"frequency\": 4, \"value\": 9467}, \"9468\": {\"frequency\": 3, \"value\": 9468}, \"9473\": {\"frequency\": 6, \"value\": 9473}, \"9475\": {\"frequency\": 4, \"value\": 9475}, \"9480\": {\"frequency\": 6, \"value\": 9480}, \"9483\": {\"frequency\": 6, \"value\": 9483}, \"9486\": {\"frequency\": 3, \"value\": 9486}, \"9490\": {\"frequency\": 5, \"value\": 9490}, \"9491\": {\"frequency\": 4, \"value\": 9491}, \"9492\": {\"frequency\": 3, \"value\": 9492}, \"9493\": {\"frequency\": 2, \"value\": 9493}, \"9495\": {\"frequency\": 3, \"value\": 9495}, \"9496\": {\"frequency\": 3, \"value\": 9496}, \"9497\": {\"frequency\": 4, \"value\": 9497}, \"9499\": {\"frequency\": 7, \"value\": 9499}, \"9500\": {\"frequency\": 348, \"value\": 9500}, \"9501\": {\"frequency\": 5, \"value\": 9501}, \"9503\": {\"frequency\": 3, \"value\": 9503}, \"9507\": {\"frequency\": 3, \"value\": 9507}, \"9508\": {\"frequency\": 3, \"value\": 9508}, \"9510\": {\"frequency\": 3, \"value\": 9510}, \"9512\": {\"frequency\": 3, \"value\": 9512}, \"9515\": {\"frequency\": 4, \"value\": 9515}, \"9518\": {\"frequency\": 4, \"value\": 9518}, \"9519\": {\"frequency\": 4, \"value\": 9519}, \"9523\": {\"frequency\": 3, \"value\": 9523}, \"9527\": {\"frequency\": 2, \"value\": 9527}, \"9531\": {\"frequency\": 3, \"value\": 9531}, \"9532\": {\"frequency\": 7, \"value\": 9532}, \"9533\": {\"frequency\": 14, \"value\": 9533}, \"9536\": {\"frequency\": 4, \"value\": 9536}, \"9537\": {\"frequency\": 4, \"value\": 9537}, \"9538\": {\"frequency\": 4, \"value\": 9538}, \"9539\": {\"frequency\": 2, \"value\": 9539}, \"9540\": {\"frequency\": 4, \"value\": 9540}, \"9541\": {\"frequency\": 3, \"value\": 9541}, \"9545\": {\"frequency\": 3, \"value\": 9545}, \"9550\": {\"frequency\": 24, \"value\": 9550}, \"9552\": {\"frequency\": 4, \"value\": 9552}, \"9554\": {\"frequency\": 5, \"value\": 9554}, \"9557\": {\"frequency\": 4, \"value\": 9557}, \"9559\": {\"frequency\": 2, \"value\": 9559}, \"9560\": {\"frequency\": 2, \"value\": 9560}, \"9564\": {\"frequency\": 2, \"value\": 9564}, \"9566\": {\"frequency\": 4, \"value\": 9566}, \"9567\": {\"frequency\": 3, \"value\": 9567}, \"9570\": {\"frequency\": 4, \"value\": 9570}, \"9572\": {\"frequency\": 3, \"value\": 9572}, \"9575\": {\"frequency\": 11, \"value\": 9575}, \"9576\": {\"frequency\": 5, \"value\": 9576}, \"9579\": {\"frequency\": 3, \"value\": 9579}, \"9580\": {\"frequency\": 6, \"value\": 9580}, \"9582\": {\"frequency\": 9, \"value\": 9582}, \"9583\": {\"frequency\": 148, \"value\": 9583}, \"9584\": {\"frequency\": 5, \"value\": 9584}, \"9585\": {\"frequency\": 4, \"value\": 9585}, \"9594\": {\"frequency\": 3, \"value\": 9594}, \"9600\": {\"frequency\": 108, \"value\": 9600}, \"9604\": {\"frequency\": 3, \"value\": 9604}, \"9606\": {\"frequency\": 5, \"value\": 9606}, \"9609\": {\"frequency\": 1, \"value\": 9609}, \"9610\": {\"frequency\": 5, \"value\": 9610}, \"9615\": {\"frequency\": 2, \"value\": 9615}, \"9616\": {\"frequency\": 6, \"value\": 9616}, \"9617\": {\"frequency\": 4, \"value\": 9617}, \"9619\": {\"frequency\": 4, \"value\": 9619}, \"9623\": {\"frequency\": 4, \"value\": 9623}, \"9624\": {\"frequency\": 2, \"value\": 9624}, \"9625\": {\"frequency\": 6, \"value\": 9625}, \"9626\": {\"frequency\": 2, \"value\": 9626}, \"9633\": {\"frequency\": 7, \"value\": 9633}, \"9634\": {\"frequency\": 4, \"value\": 9634}, \"9635\": {\"frequency\": 1, \"value\": 9635}, \"9636\": {\"frequency\": 5, \"value\": 9636}, \"9642\": {\"frequency\": 5, \"value\": 9642}, \"9643\": {\"frequency\": 6, \"value\": 9643}, \"9644\": {\"frequency\": 3, \"value\": 9644}, \"9645\": {\"frequency\": 4, \"value\": 9645}, \"9647\": {\"frequency\": 2, \"value\": 9647}, \"9648\": {\"frequency\": 4, \"value\": 9648}, \"9649\": {\"frequency\": 3, \"value\": 9649}, \"9650\": {\"frequency\": 13, \"value\": 9650}, \"9654\": {\"frequency\": 2, \"value\": 9654}, \"9655\": {\"frequency\": 3, \"value\": 9655}, \"9656\": {\"frequency\": 2, \"value\": 9656}, \"9658\": {\"frequency\": 3, \"value\": 9658}, \"9660\": {\"frequency\": 3, \"value\": 9660}, \"9662\": {\"frequency\": 3, \"value\": 9662}, \"9663\": {\"frequency\": 2, \"value\": 9663}, \"9666\": {\"frequency\": 52, \"value\": 9666}, \"9667\": {\"frequency\": 12, \"value\": 9667}, \"9669\": {\"frequency\": 2, \"value\": 9669}, \"9670\": {\"frequency\": 5, \"value\": 9670}, \"9671\": {\"frequency\": 1, \"value\": 9671}, \"9674\": {\"frequency\": 1, \"value\": 9674}, \"9675\": {\"frequency\": 4, \"value\": 9675}, \"9678\": {\"frequency\": 4, \"value\": 9678}, \"9679\": {\"frequency\": 2, \"value\": 9679}, \"9680\": {\"frequency\": 3, \"value\": 9680}, \"9681\": {\"frequency\": 4, \"value\": 9681}, \"9683\": {\"frequency\": 5, \"value\": 9683}, \"9684\": {\"frequency\": 3, \"value\": 9684}, \"9690\": {\"frequency\": 2, \"value\": 9690}, \"9693\": {\"frequency\": 2, \"value\": 9693}, \"9694\": {\"frequency\": 4, \"value\": 9694}, \"9695\": {\"frequency\": 3, \"value\": 9695}, \"9696\": {\"frequency\": 3, \"value\": 9696}, \"9700\": {\"frequency\": 103, \"value\": 9700}, \"9701\": {\"frequency\": 6, \"value\": 9701}, \"9702\": {\"frequency\": 2, \"value\": 9702}, \"9703\": {\"frequency\": 4, \"value\": 9703}, \"9704\": {\"frequency\": 1, \"value\": 9704}, \"9708\": {\"frequency\": 6, \"value\": 9708}, \"9710\": {\"frequency\": 6, \"value\": 9710}, \"9714\": {\"frequency\": 2, \"value\": 9714}, \"9715\": {\"frequency\": 3, \"value\": 9715}, \"9716\": {\"frequency\": 5, \"value\": 9716}, \"9718\": {\"frequency\": 3, \"value\": 9718}, \"9719\": {\"frequency\": 2, \"value\": 9719}, \"9723\": {\"frequency\": 2, \"value\": 9723}, \"9725\": {\"frequency\": 3, \"value\": 9725}, \"9727\": {\"frequency\": 2, \"value\": 9727}, \"9729\": {\"frequency\": 1, \"value\": 9729}, \"9733\": {\"frequency\": 8, \"value\": 9733}, \"9734\": {\"frequency\": 2, \"value\": 9734}, \"9735\": {\"frequency\": 3, \"value\": 9735}, \"9736\": {\"frequency\": 2, \"value\": 9736}, \"9749\": {\"frequency\": 8, \"value\": 9749}, \"9750\": {\"frequency\": 85, \"value\": 9750}, \"9751\": {\"frequency\": 2, \"value\": 9751}, \"9752\": {\"frequency\": 5, \"value\": 9752}, \"9756\": {\"frequency\": 3, \"value\": 9756}, \"9760\": {\"frequency\": 5, \"value\": 9760}, \"9766\": {\"frequency\": 10, \"value\": 9766}, \"9767\": {\"frequency\": 3, \"value\": 9767}, \"9771\": {\"frequency\": 3, \"value\": 9771}, \"9772\": {\"frequency\": 1, \"value\": 9772}, \"9773\": {\"frequency\": 5, \"value\": 9773}, \"9775\": {\"frequency\": 8, \"value\": 9775}, \"9776\": {\"frequency\": 2, \"value\": 9776}, \"9777\": {\"frequency\": 3, \"value\": 9777}, \"9780\": {\"frequency\": 2, \"value\": 9780}, \"9782\": {\"frequency\": 2, \"value\": 9782}, \"9783\": {\"frequency\": 5, \"value\": 9783}, \"9784\": {\"frequency\": 4, \"value\": 9784}, \"9789\": {\"frequency\": 3, \"value\": 9789}, \"9790\": {\"frequency\": 4, \"value\": 9790}, \"9791\": {\"frequency\": 10, \"value\": 9791}, \"9794\": {\"frequency\": 4, \"value\": 9794}, \"9795\": {\"frequency\": 3, \"value\": 9795}, \"9800\": {\"frequency\": 112, \"value\": 9800}, \"9803\": {\"frequency\": 2, \"value\": 9803}, \"9810\": {\"frequency\": 3, \"value\": 9810}, \"9812\": {\"frequency\": 3, \"value\": 9812}, \"9816\": {\"frequency\": 6, \"value\": 9816}, \"9817\": {\"frequency\": 2, \"value\": 9817}, \"9819\": {\"frequency\": 3, \"value\": 9819}, \"9820\": {\"frequency\": 9, \"value\": 9820}, \"9821\": {\"frequency\": 4, \"value\": 9821}, \"9825\": {\"frequency\": 7, \"value\": 9825}, \"9828\": {\"frequency\": 2, \"value\": 9828}, \"9829\": {\"frequency\": 3, \"value\": 9829}, \"9830\": {\"frequency\": 3, \"value\": 9830}, \"9832\": {\"frequency\": 10, \"value\": 9832}, \"9833\": {\"frequency\": 57, \"value\": 9833}, \"9841\": {\"frequency\": 2, \"value\": 9841}, \"9843\": {\"frequency\": 3, \"value\": 9843}, \"9844\": {\"frequency\": 1, \"value\": 9844}, \"9846\": {\"frequency\": 3, \"value\": 9846}, \"9850\": {\"frequency\": 16, \"value\": 9850}, \"9851\": {\"frequency\": 2, \"value\": 9851}, \"9866\": {\"frequency\": 12, \"value\": 9866}, \"9867\": {\"frequency\": 3, \"value\": 9867}, \"9870\": {\"frequency\": 4, \"value\": 9870}, \"9871\": {\"frequency\": 3, \"value\": 9871}, \"9873\": {\"frequency\": 2, \"value\": 9873}, \"9875\": {\"frequency\": 7, \"value\": 9875}, \"9877\": {\"frequency\": 5, \"value\": 9877}, \"9880\": {\"frequency\": 2, \"value\": 9880}, \"9881\": {\"frequency\": 4, \"value\": 9881}, \"9883\": {\"frequency\": 10, \"value\": 9883}, \"9885\": {\"frequency\": 3, \"value\": 9885}, \"9886\": {\"frequency\": 2, \"value\": 9886}, \"9890\": {\"frequency\": 2, \"value\": 9890}, \"9892\": {\"frequency\": 3, \"value\": 9892}, \"9895\": {\"frequency\": 3, \"value\": 9895}, \"9899\": {\"frequency\": 3, \"value\": 9899}, \"9900\": {\"frequency\": 82, \"value\": 9900}, \"9901\": {\"frequency\": 5, \"value\": 9901}, \"9902\": {\"frequency\": 3, \"value\": 9902}, \"9906\": {\"frequency\": 5, \"value\": 9906}, \"9907\": {\"frequency\": 3, \"value\": 9907}, \"9908\": {\"frequency\": 2, \"value\": 9908}, \"9911\": {\"frequency\": 2, \"value\": 9911}, \"9912\": {\"frequency\": 1, \"value\": 9912}, \"9914\": {\"frequency\": 3, \"value\": 9914}, \"9915\": {\"frequency\": 2, \"value\": 9915}, \"9916\": {\"frequency\": 25, \"value\": 9916}, \"9917\": {\"frequency\": 6, \"value\": 9917}, \"9920\": {\"frequency\": 3, \"value\": 9920}, \"9923\": {\"frequency\": 1, \"value\": 9923}, \"9925\": {\"frequency\": 5, \"value\": 9925}, \"9930\": {\"frequency\": 4, \"value\": 9930}, \"9932\": {\"frequency\": 3, \"value\": 9932}, \"9933\": {\"frequency\": 7, \"value\": 9933}, \"9934\": {\"frequency\": 3, \"value\": 9934}, \"9935\": {\"frequency\": 2, \"value\": 9935}, \"9936\": {\"frequency\": 3, \"value\": 9936}, \"9942\": {\"frequency\": 4, \"value\": 9942}, \"9943\": {\"frequency\": 2, \"value\": 9943}, \"9945\": {\"frequency\": 5, \"value\": 9945}, \"9949\": {\"frequency\": 3, \"value\": 9949}, \"9950\": {\"frequency\": 17, \"value\": 9950}, \"9952\": {\"frequency\": 2, \"value\": 9952}, \"9953\": {\"frequency\": 3, \"value\": 9953}, \"9954\": {\"frequency\": 4, \"value\": 9954}, \"9957\": {\"frequency\": 4, \"value\": 9957}, \"9958\": {\"frequency\": 2, \"value\": 9958}, \"9960\": {\"frequency\": 2, \"value\": 9960}, \"9962\": {\"frequency\": 1, \"value\": 9962}, \"9965\": {\"frequency\": 4, \"value\": 9965}, \"9966\": {\"frequency\": 12, \"value\": 9966}, \"9967\": {\"frequency\": 6, \"value\": 9967}, \"9970\": {\"frequency\": 3, \"value\": 9970}, \"9973\": {\"frequency\": 4, \"value\": 9973}, \"9975\": {\"frequency\": 3, \"value\": 9975}, \"9976\": {\"frequency\": 5, \"value\": 9976}, \"9983\": {\"frequency\": 7, \"value\": 9983}, \"9985\": {\"frequency\": 3, \"value\": 9985}, \"9987\": {\"frequency\": 5, \"value\": 9987}, \"9990\": {\"frequency\": 2, \"value\": 9990}, \"9992\": {\"frequency\": 4, \"value\": 9992}, \"9993\": {\"frequency\": 4, \"value\": 9993}, \"9994\": {\"frequency\": 2, \"value\": 9994}, \"9996\": {\"frequency\": 2, \"value\": 9996}, \"9997\": {\"frequency\": 2, \"value\": 9997}, \"9998\": {\"frequency\": 3, \"value\": 9998}, \"9999\": {\"frequency\": 10, \"value\": 9999}, \"10000\": {\"frequency\": 1466, \"value\": 10000}, \"10001\": {\"frequency\": 8, \"value\": 10001}, \"10003\": {\"frequency\": 3, \"value\": 10003}, \"10010\": {\"frequency\": 2, \"value\": 10010}, \"10011\": {\"frequency\": 5, \"value\": 10011}, \"10012\": {\"frequency\": 3, \"value\": 10012}, \"10013\": {\"frequency\": 3, \"value\": 10013}, \"10016\": {\"frequency\": 4, \"value\": 10016}, \"10021\": {\"frequency\": 3, \"value\": 10021}, \"10022\": {\"frequency\": 2, \"value\": 10022}, \"10027\": {\"frequency\": 4, \"value\": 10027}, \"10031\": {\"frequency\": 3, \"value\": 10031}, \"42800\": {\"frequency\": 3, \"value\": 42800}, \"10033\": {\"frequency\": 3, \"value\": 10033}, \"10034\": {\"frequency\": 2, \"value\": 10034}, \"10036\": {\"frequency\": 2, \"value\": 10036}, \"10037\": {\"frequency\": 2, \"value\": 10037}, \"10040\": {\"frequency\": 3, \"value\": 10040}, \"10041\": {\"frequency\": 3, \"value\": 10041}, \"10047\": {\"frequency\": 2, \"value\": 10047}, \"10050\": {\"frequency\": 17, \"value\": 10050}, \"10051\": {\"frequency\": 4, \"value\": 10051}, \"10053\": {\"frequency\": 3, \"value\": 10053}, \"10056\": {\"frequency\": 2, \"value\": 10056}, \"10058\": {\"frequency\": 2, \"value\": 10058}, \"10060\": {\"frequency\": 4, \"value\": 10060}, \"10065\": {\"frequency\": 4, \"value\": 10065}, \"10066\": {\"frequency\": 4, \"value\": 10066}, \"10069\": {\"frequency\": 2, \"value\": 10069}, \"10070\": {\"frequency\": 5, \"value\": 10070}, \"10073\": {\"frequency\": 4, \"value\": 10073}, \"10074\": {\"frequency\": 7, \"value\": 10074}, \"10075\": {\"frequency\": 5, \"value\": 10075}, \"10076\": {\"frequency\": 3, \"value\": 10076}, \"10077\": {\"frequency\": 3, \"value\": 10077}, \"10080\": {\"frequency\": 5, \"value\": 10080}, \"10083\": {\"frequency\": 37, \"value\": 10083}, \"10084\": {\"frequency\": 2, \"value\": 10084}, \"10085\": {\"frequency\": 5, \"value\": 10085}, \"10088\": {\"frequency\": 3, \"value\": 10088}, \"10091\": {\"frequency\": 3, \"value\": 10091}, \"10095\": {\"frequency\": 3, \"value\": 10095}, \"10097\": {\"frequency\": 2, \"value\": 10097}, \"10100\": {\"frequency\": 58, \"value\": 10100}, \"10102\": {\"frequency\": 2, \"value\": 10102}, \"10104\": {\"frequency\": 4, \"value\": 10104}, \"10106\": {\"frequency\": 6, \"value\": 10106}, \"10108\": {\"frequency\": 3, \"value\": 10108}, \"10109\": {\"frequency\": 2, \"value\": 10109}, \"10111\": {\"frequency\": 4, \"value\": 10111}, \"10112\": {\"frequency\": 4, \"value\": 10112}, \"10114\": {\"frequency\": 2, \"value\": 10114}, \"10116\": {\"frequency\": 7, \"value\": 10116}, \"10117\": {\"frequency\": 3, \"value\": 10117}, \"10118\": {\"frequency\": 3, \"value\": 10118}, \"10120\": {\"frequency\": 4, \"value\": 10120}, \"10124\": {\"frequency\": 4, \"value\": 10124}, \"10125\": {\"frequency\": 2, \"value\": 10125}, \"10129\": {\"frequency\": 5, \"value\": 10129}, \"10131\": {\"frequency\": 2, \"value\": 10131}, \"10133\": {\"frequency\": 6, \"value\": 10133}, \"10134\": {\"frequency\": 3, \"value\": 10134}, \"10135\": {\"frequency\": 3, \"value\": 10135}, \"10137\": {\"frequency\": 2, \"value\": 10137}, \"10141\": {\"frequency\": 3, \"value\": 10141}, \"10147\": {\"frequency\": 3, \"value\": 10147}, \"10149\": {\"frequency\": 3, \"value\": 10149}, \"10150\": {\"frequency\": 10, \"value\": 10150}, \"10154\": {\"frequency\": 1, \"value\": 10154}, \"10156\": {\"frequency\": 2, \"value\": 10156}, \"10158\": {\"frequency\": 4, \"value\": 10158}, \"10159\": {\"frequency\": 4, \"value\": 10159}, \"10160\": {\"frequency\": 3, \"value\": 10160}, \"10163\": {\"frequency\": 3, \"value\": 10163}, \"10166\": {\"frequency\": 54, \"value\": 10166}, \"10167\": {\"frequency\": 8, \"value\": 10167}, \"10168\": {\"frequency\": 4, \"value\": 10168}, \"10173\": {\"frequency\": 2, \"value\": 10173}, \"10174\": {\"frequency\": 6, \"value\": 10174}, \"1696\": {\"frequency\": 4, \"value\": 1696}, \"10178\": {\"frequency\": 2, \"value\": 10178}, \"10180\": {\"frequency\": 3, \"value\": 10180}, \"10183\": {\"frequency\": 4, \"value\": 10183}, \"10184\": {\"frequency\": 3, \"value\": 10184}, \"10187\": {\"frequency\": 3, \"value\": 10187}, \"10189\": {\"frequency\": 2, \"value\": 10189}, \"10190\": {\"frequency\": 2, \"value\": 10190}, \"10196\": {\"frequency\": 3, \"value\": 10196}, \"10198\": {\"frequency\": 3, \"value\": 10198}, \"10199\": {\"frequency\": 2, \"value\": 10199}, \"10200\": {\"frequency\": 74, \"value\": 10200}, \"10201\": {\"frequency\": 2, \"value\": 10201}, \"10208\": {\"frequency\": 8, \"value\": 10208}, \"10216\": {\"frequency\": 4, \"value\": 10216}, \"10217\": {\"frequency\": 2, \"value\": 10217}, \"10222\": {\"frequency\": 3, \"value\": 10222}, \"10227\": {\"frequency\": 3, \"value\": 10227}, \"10228\": {\"frequency\": 5, \"value\": 10228}, \"10230\": {\"frequency\": 3, \"value\": 10230}, \"10231\": {\"frequency\": 3, \"value\": 10231}, \"10232\": {\"frequency\": 4, \"value\": 10232}, \"10233\": {\"frequency\": 5, \"value\": 10233}, \"10234\": {\"frequency\": 2, \"value\": 10234}, \"10235\": {\"frequency\": 2, \"value\": 10235}, \"10239\": {\"frequency\": 3, \"value\": 10239}, \"10240\": {\"frequency\": 3, \"value\": 10240}, \"10241\": {\"frequency\": 3, \"value\": 10241}, \"10245\": {\"frequency\": 3, \"value\": 10245}, \"10249\": {\"frequency\": 3, \"value\": 10249}, \"10250\": {\"frequency\": 56, \"value\": 10250}, \"10251\": {\"frequency\": 3, \"value\": 10251}, \"10252\": {\"frequency\": 4, \"value\": 10252}, \"10255\": {\"frequency\": 2, \"value\": 10255}, \"10256\": {\"frequency\": 5, \"value\": 10256}, \"10257\": {\"frequency\": 2, \"value\": 10257}, \"10260\": {\"frequency\": 4, \"value\": 10260}, \"10262\": {\"frequency\": 4, \"value\": 10262}, \"10264\": {\"frequency\": 3, \"value\": 10264}, \"10266\": {\"frequency\": 5, \"value\": 10266}, \"10269\": {\"frequency\": 3, \"value\": 10269}, \"10270\": {\"frequency\": 3, \"value\": 10270}, \"10275\": {\"frequency\": 3, \"value\": 10275}, \"10280\": {\"frequency\": 2, \"value\": 10280}, \"10285\": {\"frequency\": 1, \"value\": 10285}, \"10290\": {\"frequency\": 5, \"value\": 10290}, \"10291\": {\"frequency\": 4, \"value\": 10291}, \"10292\": {\"frequency\": 3, \"value\": 10292}, \"10294\": {\"frequency\": 2, \"value\": 10294}, \"10300\": {\"frequency\": 86, \"value\": 10300}, \"10301\": {\"frequency\": 3, \"value\": 10301}, \"10303\": {\"frequency\": 2, \"value\": 10303}, \"10309\": {\"frequency\": 4, \"value\": 10309}, \"10315\": {\"frequency\": 2, \"value\": 10315}, \"10316\": {\"frequency\": 2, \"value\": 10316}, \"10317\": {\"frequency\": 1, \"value\": 10317}, \"10319\": {\"frequency\": 3, \"value\": 10319}, \"10322\": {\"frequency\": 5, \"value\": 10322}, \"10324\": {\"frequency\": 2, \"value\": 10324}, \"10326\": {\"frequency\": 4, \"value\": 10326}, \"10329\": {\"frequency\": 3, \"value\": 10329}, \"10330\": {\"frequency\": 6, \"value\": 10330}, \"10332\": {\"frequency\": 7, \"value\": 10332}, \"10333\": {\"frequency\": 49, \"value\": 10333}, \"10334\": {\"frequency\": 5, \"value\": 10334}, \"10337\": {\"frequency\": 3, \"value\": 10337}, \"10340\": {\"frequency\": 4, \"value\": 10340}, \"10342\": {\"frequency\": 2, \"value\": 10342}, \"10347\": {\"frequency\": 2, \"value\": 10347}, \"10350\": {\"frequency\": 17, \"value\": 10350}, \"10353\": {\"frequency\": 2, \"value\": 10353}, \"10364\": {\"frequency\": 3, \"value\": 10364}, \"10365\": {\"frequency\": 3, \"value\": 10365}, \"10366\": {\"frequency\": 5, \"value\": 10366}, \"10367\": {\"frequency\": 2, \"value\": 10367}, \"10369\": {\"frequency\": 1, \"value\": 10369}, \"10371\": {\"frequency\": 2, \"value\": 10371}, \"10372\": {\"frequency\": 5, \"value\": 10372}, \"6892\": {\"frequency\": 6, \"value\": 6892}, \"10375\": {\"frequency\": 2, \"value\": 10375}, \"10376\": {\"frequency\": 3, \"value\": 10376}, \"10377\": {\"frequency\": 3, \"value\": 10377}, \"10380\": {\"frequency\": 7, \"value\": 10380}, \"10383\": {\"frequency\": 5, \"value\": 10383}, \"10387\": {\"frequency\": 3, \"value\": 10387}, \"10388\": {\"frequency\": 2, \"value\": 10388}, \"10390\": {\"frequency\": 3, \"value\": 10390}, \"10391\": {\"frequency\": 2, \"value\": 10391}, \"10393\": {\"frequency\": 3, \"value\": 10393}, \"10397\": {\"frequency\": 2, \"value\": 10397}, \"10400\": {\"frequency\": 99, \"value\": 10400}, \"10401\": {\"frequency\": 2, \"value\": 10401}, \"10410\": {\"frequency\": 5, \"value\": 10410}, \"10412\": {\"frequency\": 3, \"value\": 10412}, \"10415\": {\"frequency\": 4, \"value\": 10415}, \"10416\": {\"frequency\": 138, \"value\": 10416}, \"10417\": {\"frequency\": 26, \"value\": 10417}, \"10419\": {\"frequency\": 2, \"value\": 10419}, \"10420\": {\"frequency\": 4, \"value\": 10420}, \"10421\": {\"frequency\": 2, \"value\": 10421}, \"10423\": {\"frequency\": 2, \"value\": 10423}, \"10424\": {\"frequency\": 2, \"value\": 10424}, \"10425\": {\"frequency\": 5, \"value\": 10425}, \"10430\": {\"frequency\": 7, \"value\": 10430}, \"10431\": {\"frequency\": 3, \"value\": 10431}, \"10432\": {\"frequency\": 2, \"value\": 10432}, \"10433\": {\"frequency\": 11, \"value\": 10433}, \"10435\": {\"frequency\": 5, \"value\": 10435}, \"10436\": {\"frequency\": 5, \"value\": 10436}, \"10441\": {\"frequency\": 1, \"value\": 10441}, \"10445\": {\"frequency\": 2, \"value\": 10445}, \"10450\": {\"frequency\": 9, \"value\": 10450}, \"10453\": {\"frequency\": 3, \"value\": 10453}, \"10454\": {\"frequency\": 3, \"value\": 10454}, \"10457\": {\"frequency\": 2, \"value\": 10457}, \"10458\": {\"frequency\": 2, \"value\": 10458}, \"10460\": {\"frequency\": 2, \"value\": 10460}, \"10461\": {\"frequency\": 3, \"value\": 10461}, \"10465\": {\"frequency\": 4, \"value\": 10465}, \"10466\": {\"frequency\": 6, \"value\": 10466}, \"10467\": {\"frequency\": 3, \"value\": 10467}, \"10470\": {\"frequency\": 4, \"value\": 10470}, \"10474\": {\"frequency\": 3, \"value\": 10474}, \"10480\": {\"frequency\": 6, \"value\": 10480}, \"43250\": {\"frequency\": 2, \"value\": 43250}, \"10483\": {\"frequency\": 7, \"value\": 10483}, \"10487\": {\"frequency\": 2, \"value\": 10487}, \"10491\": {\"frequency\": 3, \"value\": 10491}, \"10499\": {\"frequency\": 6, \"value\": 10499}, \"10500\": {\"frequency\": 1013, \"value\": 10500}, \"10503\": {\"frequency\": 2, \"value\": 10503}, \"10508\": {\"frequency\": 2, \"value\": 10508}, \"10510\": {\"frequency\": 2, \"value\": 10510}, \"10514\": {\"frequency\": 3, \"value\": 10514}, \"10516\": {\"frequency\": 3, \"value\": 10516}, \"10517\": {\"frequency\": 4, \"value\": 10517}, \"10519\": {\"frequency\": 1, \"value\": 10519}, \"10520\": {\"frequency\": 4, \"value\": 10520}, \"10525\": {\"frequency\": 3, \"value\": 10525}, \"10528\": {\"frequency\": 5, \"value\": 10528}, \"10530\": {\"frequency\": 3, \"value\": 10530}, \"10531\": {\"frequency\": 4, \"value\": 10531}, \"10532\": {\"frequency\": 3, \"value\": 10532}, \"10533\": {\"frequency\": 5, \"value\": 10533}, \"10535\": {\"frequency\": 3, \"value\": 10535}, \"10540\": {\"frequency\": 2, \"value\": 10540}, \"10541\": {\"frequency\": 3, \"value\": 10541}, \"10543\": {\"frequency\": 4, \"value\": 10543}, \"10550\": {\"frequency\": 15, \"value\": 10550}, \"10553\": {\"frequency\": 2, \"value\": 10553}, \"10560\": {\"frequency\": 3, \"value\": 10560}, \"10566\": {\"frequency\": 6, \"value\": 10566}, \"10569\": {\"frequency\": 1, \"value\": 10569}, \"10571\": {\"frequency\": 1, \"value\": 10571}, \"10575\": {\"frequency\": 7, \"value\": 10575}, \"10578\": {\"frequency\": 4, \"value\": 10578}, \"10582\": {\"frequency\": 5, \"value\": 10582}, \"10583\": {\"frequency\": 42, \"value\": 10583}, \"10584\": {\"frequency\": 2, \"value\": 10584}, \"43356\": {\"frequency\": 1, \"value\": 43356}, \"10591\": {\"frequency\": 1, \"value\": 10591}, \"10595\": {\"frequency\": 4, \"value\": 10595}, \"10597\": {\"frequency\": 1, \"value\": 10597}, \"10599\": {\"frequency\": 2, \"value\": 10599}, \"10600\": {\"frequency\": 72, \"value\": 10600}, \"10607\": {\"frequency\": 2, \"value\": 10607}, \"10610\": {\"frequency\": 1, \"value\": 10610}, \"10616\": {\"frequency\": 7, \"value\": 10616}, \"10620\": {\"frequency\": 3, \"value\": 10620}, \"10623\": {\"frequency\": 1, \"value\": 10623}, \"10624\": {\"frequency\": 2, \"value\": 10624}, \"10625\": {\"frequency\": 6, \"value\": 10625}, \"10630\": {\"frequency\": 7, \"value\": 10630}, \"10632\": {\"frequency\": 2, \"value\": 10632}, \"10633\": {\"frequency\": 4, \"value\": 10633}, \"10638\": {\"frequency\": 4, \"value\": 10638}, \"10640\": {\"frequency\": 3, \"value\": 10640}, \"10642\": {\"frequency\": 3, \"value\": 10642}, \"10645\": {\"frequency\": 2, \"value\": 10645}, \"10647\": {\"frequency\": 2, \"value\": 10647}, \"10649\": {\"frequency\": 1, \"value\": 10649}, \"10650\": {\"frequency\": 16, \"value\": 10650}, \"10652\": {\"frequency\": 2, \"value\": 10652}, \"10658\": {\"frequency\": 3, \"value\": 10658}, \"10660\": {\"frequency\": 4, \"value\": 10660}, \"10664\": {\"frequency\": 2, \"value\": 10664}, \"10665\": {\"frequency\": 4, \"value\": 10665}, \"10666\": {\"frequency\": 47, \"value\": 10666}, \"10667\": {\"frequency\": 12, \"value\": 10667}, \"10668\": {\"frequency\": 2, \"value\": 10668}, \"10669\": {\"frequency\": 1, \"value\": 10669}, \"10672\": {\"frequency\": 1, \"value\": 10672}, \"10682\": {\"frequency\": 3, \"value\": 10682}, \"10683\": {\"frequency\": 6, \"value\": 10683}, \"10685\": {\"frequency\": 3, \"value\": 10685}, \"10686\": {\"frequency\": 2, \"value\": 10686}, \"10688\": {\"frequency\": 3, \"value\": 10688}, \"10697\": {\"frequency\": 1, \"value\": 10697}, \"10700\": {\"frequency\": 53, \"value\": 10700}, \"10708\": {\"frequency\": 4, \"value\": 10708}, \"10709\": {\"frequency\": 2, \"value\": 10709}, \"10714\": {\"frequency\": 2, \"value\": 10714}, \"10716\": {\"frequency\": 7, \"value\": 10716}, \"10721\": {\"frequency\": 2, \"value\": 10721}, \"10733\": {\"frequency\": 7, \"value\": 10733}, \"10735\": {\"frequency\": 4, \"value\": 10735}, \"43506\": {\"frequency\": 1, \"value\": 43506}, \"10739\": {\"frequency\": 2, \"value\": 10739}, \"10743\": {\"frequency\": 1, \"value\": 10743}, \"10744\": {\"frequency\": 2, \"value\": 10744}, \"10749\": {\"frequency\": 4, \"value\": 10749}, \"10750\": {\"frequency\": 46, \"value\": 10750}, \"10751\": {\"frequency\": 3, \"value\": 10751}, \"10754\": {\"frequency\": 2, \"value\": 10754}, \"10758\": {\"frequency\": 3, \"value\": 10758}, \"10766\": {\"frequency\": 7, \"value\": 10766}, \"10772\": {\"frequency\": 4, \"value\": 10772}, \"10777\": {\"frequency\": 1, \"value\": 10777}, \"10781\": {\"frequency\": 2, \"value\": 10781}, \"10783\": {\"frequency\": 4, \"value\": 10783}, \"10791\": {\"frequency\": 8, \"value\": 10791}, \"10792\": {\"frequency\": 2, \"value\": 10792}, \"10794\": {\"frequency\": 1, \"value\": 10794}, \"10796\": {\"frequency\": 1, \"value\": 10796}, \"10800\": {\"frequency\": 94, \"value\": 10800}, \"10816\": {\"frequency\": 8, \"value\": 10816}, \"10823\": {\"frequency\": 5, \"value\": 10823}, \"10828\": {\"frequency\": 2, \"value\": 10828}, \"10830\": {\"frequency\": 7, \"value\": 10830}, \"10832\": {\"frequency\": 5, \"value\": 10832}, \"10833\": {\"frequency\": 216, \"value\": 10833}, \"10834\": {\"frequency\": 12, \"value\": 10834}, \"10835\": {\"frequency\": 3, \"value\": 10835}, \"10837\": {\"frequency\": 3, \"value\": 10837}, \"10838\": {\"frequency\": 2, \"value\": 10838}, \"10840\": {\"frequency\": 3, \"value\": 10840}, \"10841\": {\"frequency\": 2, \"value\": 10841}, \"10845\": {\"frequency\": 1, \"value\": 10845}, \"10850\": {\"frequency\": 11, \"value\": 10850}, \"10859\": {\"frequency\": 1, \"value\": 10859}, \"10862\": {\"frequency\": 3, \"value\": 10862}, \"10866\": {\"frequency\": 11, \"value\": 10866}, \"10869\": {\"frequency\": 1, \"value\": 10869}, \"10875\": {\"frequency\": 6, \"value\": 10875}, \"10883\": {\"frequency\": 5, \"value\": 10883}, \"10885\": {\"frequency\": 3, \"value\": 10885}, \"10886\": {\"frequency\": 2, \"value\": 10886}, \"10887\": {\"frequency\": 4, \"value\": 10887}, \"10890\": {\"frequency\": 5, \"value\": 10890}, \"10891\": {\"frequency\": 5, \"value\": 10891}, \"10895\": {\"frequency\": 2, \"value\": 10895}, \"10900\": {\"frequency\": 44, \"value\": 10900}, \"10916\": {\"frequency\": 32, \"value\": 10916}, \"10917\": {\"frequency\": 3, \"value\": 10917}, \"10925\": {\"frequency\": 1, \"value\": 10925}, \"142000\": {\"frequency\": 1, \"value\": 142000}, \"10929\": {\"frequency\": 2, \"value\": 10929}, \"10930\": {\"frequency\": 2, \"value\": 10930}, \"10932\": {\"frequency\": 1, \"value\": 10932}, \"10933\": {\"frequency\": 8, \"value\": 10933}, \"10937\": {\"frequency\": 4, \"value\": 10937}, \"10950\": {\"frequency\": 17, \"value\": 10950}, \"10958\": {\"frequency\": 6, \"value\": 10958}, \"10962\": {\"frequency\": 3, \"value\": 10962}, \"10963\": {\"frequency\": 1, \"value\": 10963}, \"10966\": {\"frequency\": 7, \"value\": 10966}, \"10972\": {\"frequency\": 3, \"value\": 10972}, \"10973\": {\"frequency\": 2, \"value\": 10973}, \"10977\": {\"frequency\": 3, \"value\": 10977}, \"10980\": {\"frequency\": 4, \"value\": 10980}, \"10983\": {\"frequency\": 6, \"value\": 10983}, \"10986\": {\"frequency\": 4, \"value\": 10986}, \"10992\": {\"frequency\": 3, \"value\": 10992}, \"10995\": {\"frequency\": 2, \"value\": 10995}, \"10996\": {\"frequency\": 2, \"value\": 10996}, \"10998\": {\"frequency\": 4, \"value\": 10998}, \"10999\": {\"frequency\": 4, \"value\": 10999}, \"11000\": {\"frequency\": 450, \"value\": 11000}, \"11005\": {\"frequency\": 3, \"value\": 11005}, \"11014\": {\"frequency\": 3, \"value\": 11014}, \"11016\": {\"frequency\": 4, \"value\": 11016}, \"11019\": {\"frequency\": 3, \"value\": 11019}, \"11024\": {\"frequency\": 1, \"value\": 11024}, \"11031\": {\"frequency\": 2, \"value\": 11031}, \"11033\": {\"frequency\": 5, \"value\": 11033}, \"11036\": {\"frequency\": 5, \"value\": 11036}, \"11037\": {\"frequency\": 3, \"value\": 11037}, \"11038\": {\"frequency\": 2, \"value\": 11038}, \"11040\": {\"frequency\": 3, \"value\": 11040}, \"11041\": {\"frequency\": 8, \"value\": 11041}, \"11042\": {\"frequency\": 4, \"value\": 11042}, \"11046\": {\"frequency\": 3, \"value\": 11046}, \"11050\": {\"frequency\": 12, \"value\": 11050}, \"11055\": {\"frequency\": 2, \"value\": 11055}, \"11056\": {\"frequency\": 5, \"value\": 11056}, \"11064\": {\"frequency\": 3, \"value\": 11064}, \"11066\": {\"frequency\": 3, \"value\": 11066}, \"11067\": {\"frequency\": 3, \"value\": 11067}, \"11070\": {\"frequency\": 4, \"value\": 11070}, \"11075\": {\"frequency\": 2, \"value\": 11075}, \"76613\": {\"frequency\": 1, \"value\": 76613}, \"11078\": {\"frequency\": 4, \"value\": 11078}, \"11081\": {\"frequency\": 2, \"value\": 11081}, \"11083\": {\"frequency\": 35, \"value\": 11083}, \"11084\": {\"frequency\": 4, \"value\": 11084}, \"11085\": {\"frequency\": 6, \"value\": 11085}, \"11093\": {\"frequency\": 4, \"value\": 11093}, \"11095\": {\"frequency\": 2, \"value\": 11095}, \"11100\": {\"frequency\": 44, \"value\": 11100}, \"11105\": {\"frequency\": 4, \"value\": 11105}, \"11108\": {\"frequency\": 2, \"value\": 11108}, \"11110\": {\"frequency\": 3, \"value\": 11110}, \"11111\": {\"frequency\": 3, \"value\": 11111}, \"11116\": {\"frequency\": 11, \"value\": 11116}, \"11125\": {\"frequency\": 7, \"value\": 11125}, \"11128\": {\"frequency\": 6, \"value\": 11128}, \"11130\": {\"frequency\": 3, \"value\": 11130}, \"11132\": {\"frequency\": 1, \"value\": 11132}, \"11133\": {\"frequency\": 6, \"value\": 11133}, \"11140\": {\"frequency\": 3, \"value\": 11140}, \"11142\": {\"frequency\": 1, \"value\": 11142}, \"11144\": {\"frequency\": 3, \"value\": 11144}, \"11145\": {\"frequency\": 3, \"value\": 11145}, \"11149\": {\"frequency\": 3, \"value\": 11149}, \"11150\": {\"frequency\": 11, \"value\": 11150}, \"11159\": {\"frequency\": 2, \"value\": 11159}, \"11160\": {\"frequency\": 4, \"value\": 11160}, \"11166\": {\"frequency\": 29, \"value\": 11166}, \"11167\": {\"frequency\": 8, \"value\": 11167}, \"11170\": {\"frequency\": 3, \"value\": 11170}, \"11173\": {\"frequency\": 2, \"value\": 11173}, \"11177\": {\"frequency\": 1, \"value\": 11177}, \"11183\": {\"frequency\": 5, \"value\": 11183}, \"11186\": {\"frequency\": 4, \"value\": 11186}, \"11189\": {\"frequency\": 3, \"value\": 11189}, \"11200\": {\"frequency\": 61, \"value\": 11200}, \"11201\": {\"frequency\": 2, \"value\": 11201}, \"11208\": {\"frequency\": 2, \"value\": 11208}, \"11214\": {\"frequency\": 3, \"value\": 11214}, \"11216\": {\"frequency\": 3, \"value\": 11216}, \"11217\": {\"frequency\": 1, \"value\": 11217}, \"11220\": {\"frequency\": 6, \"value\": 11220}, \"11222\": {\"frequency\": 2, \"value\": 11222}, \"11224\": {\"frequency\": 3, \"value\": 11224}, \"11225\": {\"frequency\": 2, \"value\": 11225}, \"11226\": {\"frequency\": 2, \"value\": 11226}, \"11230\": {\"frequency\": 2, \"value\": 11230}, \"44000\": {\"frequency\": 3, \"value\": 44000}, \"11233\": {\"frequency\": 6, \"value\": 11233}, \"11239\": {\"frequency\": 1, \"value\": 11239}, \"11245\": {\"frequency\": 4, \"value\": 11245}, \"11248\": {\"frequency\": 3, \"value\": 11248}, \"11249\": {\"frequency\": 15, \"value\": 11249}, \"11250\": {\"frequency\": 133, \"value\": 11250}, \"11256\": {\"frequency\": 3, \"value\": 11256}, \"11266\": {\"frequency\": 7, \"value\": 11266}, \"11270\": {\"frequency\": 2, \"value\": 11270}, \"11275\": {\"frequency\": 4, \"value\": 11275}, \"11276\": {\"frequency\": 3, \"value\": 11276}, \"11285\": {\"frequency\": 4, \"value\": 11285}, \"11288\": {\"frequency\": 3, \"value\": 11288}, \"11291\": {\"frequency\": 3, \"value\": 11291}, \"11300\": {\"frequency\": 53, \"value\": 11300}, \"11306\": {\"frequency\": 2, \"value\": 11306}, \"11308\": {\"frequency\": 2, \"value\": 11308}, \"11310\": {\"frequency\": 4, \"value\": 11310}, \"11316\": {\"frequency\": 5, \"value\": 11316}, \"11318\": {\"frequency\": 4, \"value\": 11318}, \"11320\": {\"frequency\": 3, \"value\": 11320}, \"11325\": {\"frequency\": 4, \"value\": 11325}, \"11326\": {\"frequency\": 1, \"value\": 11326}, \"11330\": {\"frequency\": 2, \"value\": 11330}, \"11332\": {\"frequency\": 4, \"value\": 11332}, \"11333\": {\"frequency\": 39, \"value\": 11333}, \"11340\": {\"frequency\": 3, \"value\": 11340}, \"11343\": {\"frequency\": 1, \"value\": 11343}, \"11344\": {\"frequency\": 5, \"value\": 11344}, \"11350\": {\"frequency\": 9, \"value\": 11350}, \"11360\": {\"frequency\": 2, \"value\": 11360}, \"11362\": {\"frequency\": 3, \"value\": 11362}, \"11367\": {\"frequency\": 5, \"value\": 11367}, \"11368\": {\"frequency\": 2, \"value\": 11368}, \"11375\": {\"frequency\": 2, \"value\": 11375}, \"11377\": {\"frequency\": 2, \"value\": 11377}, \"11383\": {\"frequency\": 4, \"value\": 11383}, \"11385\": {\"frequency\": 1, \"value\": 11385}, \"11390\": {\"frequency\": 3, \"value\": 11390}, \"11392\": {\"frequency\": 2, \"value\": 11392}, \"11397\": {\"frequency\": 4, \"value\": 11397}, \"11399\": {\"frequency\": 2, \"value\": 11399}, \"11400\": {\"frequency\": 58, \"value\": 11400}, \"11410\": {\"frequency\": 4, \"value\": 11410}, \"11412\": {\"frequency\": 2, \"value\": 11412}, \"11416\": {\"frequency\": 31, \"value\": 11416}, \"11417\": {\"frequency\": 4, \"value\": 11417}, \"11420\": {\"frequency\": 2, \"value\": 11420}, \"11422\": {\"frequency\": 6, \"value\": 11422}, \"11424\": {\"frequency\": 3, \"value\": 11424}, \"11425\": {\"frequency\": 4, \"value\": 11425}, \"11433\": {\"frequency\": 5, \"value\": 11433}, \"11441\": {\"frequency\": 4, \"value\": 11441}, \"11450\": {\"frequency\": 11, \"value\": 11450}, \"11457\": {\"frequency\": 1, \"value\": 11457}, \"11458\": {\"frequency\": 7, \"value\": 11458}, \"11464\": {\"frequency\": 3, \"value\": 11464}, \"11466\": {\"frequency\": 3, \"value\": 11466}, \"11475\": {\"frequency\": 2, \"value\": 11475}, \"11483\": {\"frequency\": 8, \"value\": 11483}, \"11485\": {\"frequency\": 1, \"value\": 11485}, \"11499\": {\"frequency\": 8, \"value\": 11499}, \"11500\": {\"frequency\": 159, \"value\": 11500}, \"11511\": {\"frequency\": 2, \"value\": 11511}, \"11525\": {\"frequency\": 5, \"value\": 11525}, \"11527\": {\"frequency\": 2, \"value\": 11527}, \"11530\": {\"frequency\": 3, \"value\": 11530}, \"11531\": {\"frequency\": 5, \"value\": 11531}, \"11533\": {\"frequency\": 6, \"value\": 11533}, \"11537\": {\"frequency\": 3, \"value\": 11537}, \"44308\": {\"frequency\": 1, \"value\": 44308}, \"11543\": {\"frequency\": 3, \"value\": 11543}, \"11550\": {\"frequency\": 5, \"value\": 11550}, \"11552\": {\"frequency\": 3, \"value\": 11552}, \"11560\": {\"frequency\": 2, \"value\": 11560}, \"11566\": {\"frequency\": 5, \"value\": 11566}, \"11580\": {\"frequency\": 4, \"value\": 11580}, \"11582\": {\"frequency\": 2, \"value\": 11582}, \"11583\": {\"frequency\": 24, \"value\": 11583}, \"11584\": {\"frequency\": 2, \"value\": 11584}, \"11586\": {\"frequency\": 3, \"value\": 11586}, \"11591\": {\"frequency\": 3, \"value\": 11591}, \"11600\": {\"frequency\": 72, \"value\": 11600}, \"11613\": {\"frequency\": 3, \"value\": 11613}, \"11615\": {\"frequency\": 3, \"value\": 11615}, \"11616\": {\"frequency\": 4, \"value\": 11616}, \"11620\": {\"frequency\": 2, \"value\": 11620}, \"11633\": {\"frequency\": 3, \"value\": 11633}, \"11640\": {\"frequency\": 3, \"value\": 11640}, \"11641\": {\"frequency\": 4, \"value\": 11641}, \"11647\": {\"frequency\": 4, \"value\": 11647}, \"11648\": {\"frequency\": 4, \"value\": 11648}, \"11650\": {\"frequency\": 8, \"value\": 11650}, \"11658\": {\"frequency\": 4, \"value\": 11658}, \"11660\": {\"frequency\": 3, \"value\": 11660}, \"11666\": {\"frequency\": 151, \"value\": 11666}, \"11667\": {\"frequency\": 34, \"value\": 11667}, \"11675\": {\"frequency\": 4, \"value\": 11675}, \"11682\": {\"frequency\": 2, \"value\": 11682}, \"11683\": {\"frequency\": 4, \"value\": 11683}, \"11687\": {\"frequency\": 3, \"value\": 11687}, \"11700\": {\"frequency\": 51, \"value\": 11700}, \"11704\": {\"frequency\": 2, \"value\": 11704}, \"11705\": {\"frequency\": 2, \"value\": 11705}, \"11708\": {\"frequency\": 4, \"value\": 11708}, \"11710\": {\"frequency\": 2, \"value\": 11710}, \"11716\": {\"frequency\": 5, \"value\": 11716}, \"208333\": {\"frequency\": 1, \"value\": 208333}, \"11726\": {\"frequency\": 3, \"value\": 11726}, \"11729\": {\"frequency\": 1, \"value\": 11729}, \"11731\": {\"frequency\": 1, \"value\": 11731}, \"11733\": {\"frequency\": 3, \"value\": 11733}, \"11744\": {\"frequency\": 2, \"value\": 11744}, \"11749\": {\"frequency\": 4, \"value\": 11749}, \"11750\": {\"frequency\": 33, \"value\": 11750}, \"11754\": {\"frequency\": 2, \"value\": 11754}, \"11757\": {\"frequency\": 2, \"value\": 11757}, \"11761\": {\"frequency\": 2, \"value\": 11761}, \"11766\": {\"frequency\": 3, \"value\": 11766}, \"11775\": {\"frequency\": 2, \"value\": 11775}, \"11783\": {\"frequency\": 8, \"value\": 11783}, \"11786\": {\"frequency\": 2, \"value\": 11786}, \"11787\": {\"frequency\": 1, \"value\": 11787}, \"11792\": {\"frequency\": 2, \"value\": 11792}, \"11795\": {\"frequency\": 3, \"value\": 11795}, \"11800\": {\"frequency\": 55, \"value\": 11800}, \"11812\": {\"frequency\": 2, \"value\": 11812}, \"11819\": {\"frequency\": 3, \"value\": 11819}, \"11826\": {\"frequency\": 2, \"value\": 11826}, \"11830\": {\"frequency\": 6, \"value\": 11830}, \"11833\": {\"frequency\": 38, \"value\": 11833}, \"11850\": {\"frequency\": 13, \"value\": 11850}, \"11858\": {\"frequency\": 3, \"value\": 11858}, \"11866\": {\"frequency\": 7, \"value\": 11866}, \"11867\": {\"frequency\": 3, \"value\": 11867}, \"11871\": {\"frequency\": 2, \"value\": 11871}, \"11875\": {\"frequency\": 5, \"value\": 11875}, \"11880\": {\"frequency\": 3, \"value\": 11880}, \"11883\": {\"frequency\": 4, \"value\": 11883}, \"11896\": {\"frequency\": 1, \"value\": 11896}, \"11900\": {\"frequency\": 26, \"value\": 11900}, \"11908\": {\"frequency\": 4, \"value\": 11908}, \"11909\": {\"frequency\": 4, \"value\": 11909}, \"11916\": {\"frequency\": 28, \"value\": 11916}, \"11917\": {\"frequency\": 6, \"value\": 11917}, \"11921\": {\"frequency\": 2, \"value\": 11921}, \"11925\": {\"frequency\": 2, \"value\": 11925}, \"11930\": {\"frequency\": 3, \"value\": 11930}, \"11933\": {\"frequency\": 5, \"value\": 11933}, \"11943\": {\"frequency\": 2, \"value\": 11943}, \"11945\": {\"frequency\": 2, \"value\": 11945}, \"11950\": {\"frequency\": 11, \"value\": 11950}, \"11955\": {\"frequency\": 1, \"value\": 11955}, \"11957\": {\"frequency\": 4, \"value\": 11957}, \"11960\": {\"frequency\": 2, \"value\": 11960}, \"11966\": {\"frequency\": 7, \"value\": 11966}, \"11972\": {\"frequency\": 2, \"value\": 11972}, \"11974\": {\"frequency\": 2, \"value\": 11974}, \"11984\": {\"frequency\": 2, \"value\": 11984}, \"11990\": {\"frequency\": 5, \"value\": 11990}, \"11997\": {\"frequency\": 2, \"value\": 11997}, \"11999\": {\"frequency\": 4, \"value\": 11999}, \"12000\": {\"frequency\": 547, \"value\": 12000}, \"12001\": {\"frequency\": 3, \"value\": 12001}, \"12007\": {\"frequency\": 4, \"value\": 12007}, \"12013\": {\"frequency\": 2, \"value\": 12013}, \"12016\": {\"frequency\": 2, \"value\": 12016}, \"7464\": {\"frequency\": 2, \"value\": 7464}, \"12030\": {\"frequency\": 2, \"value\": 12030}, \"12033\": {\"frequency\": 6, \"value\": 12033}, \"12040\": {\"frequency\": 3, \"value\": 12040}, \"12041\": {\"frequency\": 3, \"value\": 12041}, \"12042\": {\"frequency\": 2, \"value\": 12042}, \"12050\": {\"frequency\": 10, \"value\": 12050}, \"12052\": {\"frequency\": 2, \"value\": 12052}, \"12059\": {\"frequency\": 2, \"value\": 12059}, \"12060\": {\"frequency\": 3, \"value\": 12060}, \"12064\": {\"frequency\": 1, \"value\": 12064}, \"12066\": {\"frequency\": 5, \"value\": 12066}, \"12072\": {\"frequency\": 2, \"value\": 12072}, \"12080\": {\"frequency\": 6, \"value\": 12080}, \"12082\": {\"frequency\": 1, \"value\": 12082}, \"12083\": {\"frequency\": 67, \"value\": 12083}, \"12084\": {\"frequency\": 3, \"value\": 12084}, \"12090\": {\"frequency\": 6, \"value\": 12090}, \"12096\": {\"frequency\": 1, \"value\": 12096}, \"12098\": {\"frequency\": 1, \"value\": 12098}, \"12100\": {\"frequency\": 38, \"value\": 12100}, \"12111\": {\"frequency\": 1, \"value\": 12111}, \"12114\": {\"frequency\": 3, \"value\": 12114}, \"12116\": {\"frequency\": 5, \"value\": 12116}, \"12119\": {\"frequency\": 1, \"value\": 12119}, \"12120\": {\"frequency\": 4, \"value\": 12120}, \"12121\": {\"frequency\": 2, \"value\": 12121}, \"12122\": {\"frequency\": 4, \"value\": 12122}, \"12128\": {\"frequency\": 2, \"value\": 12128}, \"12133\": {\"frequency\": 7, \"value\": 12133}, \"12134\": {\"frequency\": 2, \"value\": 12134}, \"12136\": {\"frequency\": 3, \"value\": 12136}, \"12139\": {\"frequency\": 1, \"value\": 12139}, \"12148\": {\"frequency\": 1, \"value\": 12148}, \"12150\": {\"frequency\": 5, \"value\": 12150}, \"12155\": {\"frequency\": 2, \"value\": 12155}, \"12159\": {\"frequency\": 4, \"value\": 12159}, \"12161\": {\"frequency\": 2, \"value\": 12161}, \"12164\": {\"frequency\": 2, \"value\": 12164}, \"12166\": {\"frequency\": 31, \"value\": 12166}, \"12167\": {\"frequency\": 3, \"value\": 12167}, \"12170\": {\"frequency\": 2, \"value\": 12170}, \"12175\": {\"frequency\": 5, \"value\": 12175}, \"12178\": {\"frequency\": 2, \"value\": 12178}, \"12180\": {\"frequency\": 3, \"value\": 12180}, \"12183\": {\"frequency\": 4, \"value\": 12183}, \"12188\": {\"frequency\": 3, \"value\": 12188}, \"12200\": {\"frequency\": 44, \"value\": 12200}, \"12216\": {\"frequency\": 4, \"value\": 12216}, \"12218\": {\"frequency\": 1, \"value\": 12218}, \"12225\": {\"frequency\": 3, \"value\": 12225}, \"45000\": {\"frequency\": 17, \"value\": 45000}, \"12233\": {\"frequency\": 3, \"value\": 12233}, \"12243\": {\"frequency\": 1, \"value\": 12243}, \"12245\": {\"frequency\": 2, \"value\": 12245}, \"12249\": {\"frequency\": 7, \"value\": 12249}, \"12250\": {\"frequency\": 47, \"value\": 12250}, \"12253\": {\"frequency\": 3, \"value\": 12253}, \"12260\": {\"frequency\": 4, \"value\": 12260}, \"12266\": {\"frequency\": 4, \"value\": 12266}, \"12267\": {\"frequency\": 3, \"value\": 12267}, \"12272\": {\"frequency\": 2, \"value\": 12272}, \"12275\": {\"frequency\": 2, \"value\": 12275}, \"12300\": {\"frequency\": 42, \"value\": 12300}, \"12308\": {\"frequency\": 3, \"value\": 12308}, \"12321\": {\"frequency\": 1, \"value\": 12321}, \"12323\": {\"frequency\": 2, \"value\": 12323}, \"12325\": {\"frequency\": 1, \"value\": 12325}, \"12332\": {\"frequency\": 4, \"value\": 12332}, \"12333\": {\"frequency\": 29, \"value\": 12333}, \"12338\": {\"frequency\": 3, \"value\": 12338}, \"12341\": {\"frequency\": 3, \"value\": 12341}, \"12344\": {\"frequency\": 3, \"value\": 12344}, \"12350\": {\"frequency\": 8, \"value\": 12350}, \"12365\": {\"frequency\": 2, \"value\": 12365}, \"12370\": {\"frequency\": 3, \"value\": 12370}, \"12375\": {\"frequency\": 5, \"value\": 12375}, \"12385\": {\"frequency\": 1, \"value\": 12385}, \"12387\": {\"frequency\": 3, \"value\": 12387}, \"12389\": {\"frequency\": 1, \"value\": 12389}, \"12392\": {\"frequency\": 1, \"value\": 12392}, \"12393\": {\"frequency\": 2, \"value\": 12393}, \"12400\": {\"frequency\": 51, \"value\": 12400}, \"12403\": {\"frequency\": 2, \"value\": 12403}, \"12404\": {\"frequency\": 2, \"value\": 12404}, \"12407\": {\"frequency\": 3, \"value\": 12407}, \"12410\": {\"frequency\": 3, \"value\": 12410}, \"12414\": {\"frequency\": 2, \"value\": 12414}, \"12416\": {\"frequency\": 20, \"value\": 12416}, \"12417\": {\"frequency\": 8, \"value\": 12417}, \"12419\": {\"frequency\": 1, \"value\": 12419}, \"12424\": {\"frequency\": 3, \"value\": 12424}, \"12433\": {\"frequency\": 4, \"value\": 12433}, \"12444\": {\"frequency\": 2, \"value\": 12444}, \"12446\": {\"frequency\": 2, \"value\": 12446}, \"12450\": {\"frequency\": 8, \"value\": 12450}, \"12454\": {\"frequency\": 3, \"value\": 12454}, \"12458\": {\"frequency\": 1, \"value\": 12458}, \"78000\": {\"frequency\": 4, \"value\": 78000}, \"12465\": {\"frequency\": 2, \"value\": 12465}, \"12466\": {\"frequency\": 3, \"value\": 12466}, \"110775\": {\"frequency\": 1, \"value\": 110775}, \"12475\": {\"frequency\": 2, \"value\": 12475}, \"12480\": {\"frequency\": 3, \"value\": 12480}, \"12483\": {\"frequency\": 5, \"value\": 12483}, \"12487\": {\"frequency\": 3, \"value\": 12487}, \"12499\": {\"frequency\": 17, \"value\": 12499}, \"12500\": {\"frequency\": 499, \"value\": 12500}, \"12501\": {\"frequency\": 4, \"value\": 12501}, \"12504\": {\"frequency\": 1, \"value\": 12504}, \"12523\": {\"frequency\": 1, \"value\": 12523}, \"12527\": {\"frequency\": 1, \"value\": 12527}, \"12530\": {\"frequency\": 2, \"value\": 12530}, \"12533\": {\"frequency\": 5, \"value\": 12533}, \"12550\": {\"frequency\": 6, \"value\": 12550}, \"12554\": {\"frequency\": 2, \"value\": 12554}, \"12559\": {\"frequency\": 1, \"value\": 12559}, \"12560\": {\"frequency\": 2, \"value\": 12560}, \"12568\": {\"frequency\": 3, \"value\": 12568}, \"12583\": {\"frequency\": 19, \"value\": 12583}, \"12584\": {\"frequency\": 5, \"value\": 12584}, \"12587\": {\"frequency\": 2, \"value\": 12587}, \"12593\": {\"frequency\": 3, \"value\": 12593}, \"12596\": {\"frequency\": 1, \"value\": 12596}, \"12600\": {\"frequency\": 37, \"value\": 12600}, \"12611\": {\"frequency\": 1, \"value\": 12611}, \"12625\": {\"frequency\": 6, \"value\": 12625}, \"12633\": {\"frequency\": 6, \"value\": 12633}, \"12638\": {\"frequency\": 3, \"value\": 12638}, \"12648\": {\"frequency\": 1, \"value\": 12648}, \"12649\": {\"frequency\": 1, \"value\": 12649}, \"12650\": {\"frequency\": 4, \"value\": 12650}, \"12660\": {\"frequency\": 2, \"value\": 12660}, \"12666\": {\"frequency\": 29, \"value\": 12666}, \"12667\": {\"frequency\": 5, \"value\": 12667}, \"12672\": {\"frequency\": 2, \"value\": 12672}, \"12675\": {\"frequency\": 3, \"value\": 12675}, \"12683\": {\"frequency\": 5, \"value\": 12683}, \"12700\": {\"frequency\": 41, \"value\": 12700}, \"12707\": {\"frequency\": 7, \"value\": 12707}, \"12708\": {\"frequency\": 4, \"value\": 12708}, \"12712\": {\"frequency\": 2, \"value\": 12712}, \"12720\": {\"frequency\": 2, \"value\": 12720}, \"12724\": {\"frequency\": 1, \"value\": 12724}, \"12749\": {\"frequency\": 4, \"value\": 12749}, \"12750\": {\"frequency\": 42, \"value\": 12750}, \"12753\": {\"frequency\": 2, \"value\": 12753}, \"12763\": {\"frequency\": 1, \"value\": 12763}, \"12766\": {\"frequency\": 3, \"value\": 12766}, \"12783\": {\"frequency\": 6, \"value\": 12783}, \"12784\": {\"frequency\": 3, \"value\": 12784}, \"12799\": {\"frequency\": 2, \"value\": 12799}, \"12800\": {\"frequency\": 33, \"value\": 12800}, \"12808\": {\"frequency\": 2, \"value\": 12808}, \"12812\": {\"frequency\": 2, \"value\": 12812}, \"12815\": {\"frequency\": 1, \"value\": 12815}, \"12817\": {\"frequency\": 3, \"value\": 12817}, \"12828\": {\"frequency\": 2, \"value\": 12828}, \"12832\": {\"frequency\": 1, \"value\": 12832}, \"12833\": {\"frequency\": 40, \"value\": 12833}, \"12834\": {\"frequency\": 1, \"value\": 12834}, \"12837\": {\"frequency\": 1, \"value\": 12837}, \"12850\": {\"frequency\": 8, \"value\": 12850}, \"12855\": {\"frequency\": 2, \"value\": 12855}, \"12866\": {\"frequency\": 5, \"value\": 12866}, \"12867\": {\"frequency\": 2, \"value\": 12867}, \"12870\": {\"frequency\": 2, \"value\": 12870}, \"12875\": {\"frequency\": 8, \"value\": 12875}, \"12883\": {\"frequency\": 3, \"value\": 12883}, \"12896\": {\"frequency\": 1, \"value\": 12896}, \"12900\": {\"frequency\": 37, \"value\": 12900}, \"12903\": {\"frequency\": 1, \"value\": 12903}, \"12907\": {\"frequency\": 1, \"value\": 12907}, \"12912\": {\"frequency\": 1, \"value\": 12912}, \"12916\": {\"frequency\": 50, \"value\": 12916}, \"12917\": {\"frequency\": 7, \"value\": 12917}, \"12918\": {\"frequency\": 6, \"value\": 12918}, \"12928\": {\"frequency\": 2, \"value\": 12928}, \"12930\": {\"frequency\": 2, \"value\": 12930}, \"12932\": {\"frequency\": 2, \"value\": 12932}, \"12938\": {\"frequency\": 1, \"value\": 12938}, \"12950\": {\"frequency\": 5, \"value\": 12950}, \"12958\": {\"frequency\": 7, \"value\": 12958}, \"78500\": {\"frequency\": 1, \"value\": 78500}, \"12965\": {\"frequency\": 4, \"value\": 12965}, \"12966\": {\"frequency\": 4, \"value\": 12966}, \"12970\": {\"frequency\": 2, \"value\": 12970}, \"12972\": {\"frequency\": 3, \"value\": 12972}, \"12975\": {\"frequency\": 2, \"value\": 12975}, \"12983\": {\"frequency\": 4, \"value\": 12983}, \"12999\": {\"frequency\": 4, \"value\": 12999}, \"13000\": {\"frequency\": 290, \"value\": 13000}, \"13001\": {\"frequency\": 2, \"value\": 13001}, \"13010\": {\"frequency\": 2, \"value\": 13010}, \"13016\": {\"frequency\": 7, \"value\": 13016}, \"13025\": {\"frequency\": 3, \"value\": 13025}, \"13035\": {\"frequency\": 1, \"value\": 13035}, \"13040\": {\"frequency\": 1, \"value\": 13040}, \"13047\": {\"frequency\": 1, \"value\": 13047}, \"13054\": {\"frequency\": 1, \"value\": 13054}, \"45833\": {\"frequency\": 5, \"value\": 45833}, \"13066\": {\"frequency\": 4, \"value\": 13066}, \"13075\": {\"frequency\": 6, \"value\": 13075}, \"13082\": {\"frequency\": 1, \"value\": 13082}, \"13083\": {\"frequency\": 11, \"value\": 13083}, \"13089\": {\"frequency\": 2, \"value\": 13089}, \"13098\": {\"frequency\": 1, \"value\": 13098}, \"13100\": {\"frequency\": 29, \"value\": 13100}, \"13103\": {\"frequency\": 5, \"value\": 13103}, \"13125\": {\"frequency\": 4, \"value\": 13125}, \"13128\": {\"frequency\": 1, \"value\": 13128}, \"13130\": {\"frequency\": 3, \"value\": 13130}, \"13131\": {\"frequency\": 1, \"value\": 13131}, \"13133\": {\"frequency\": 3, \"value\": 13133}, \"13150\": {\"frequency\": 8, \"value\": 13150}, \"13157\": {\"frequency\": 3, \"value\": 13157}, \"13160\": {\"frequency\": 4, \"value\": 13160}, \"13166\": {\"frequency\": 20, \"value\": 13166}, \"13167\": {\"frequency\": 7, \"value\": 13167}, \"13170\": {\"frequency\": 2, \"value\": 13170}, \"13172\": {\"frequency\": 2, \"value\": 13172}, \"13186\": {\"frequency\": 3, \"value\": 13186}, \"13200\": {\"frequency\": 34, \"value\": 13200}, \"13208\": {\"frequency\": 3, \"value\": 13208}, \"13215\": {\"frequency\": 1, \"value\": 13215}, \"13216\": {\"frequency\": 4, \"value\": 13216}, \"13220\": {\"frequency\": 2, \"value\": 13220}, \"46000\": {\"frequency\": 2, \"value\": 46000}, \"13233\": {\"frequency\": 3, \"value\": 13233}, \"13240\": {\"frequency\": 4, \"value\": 13240}, \"13249\": {\"frequency\": 1, \"value\": 13249}, \"13250\": {\"frequency\": 26, \"value\": 13250}, \"13255\": {\"frequency\": 1, \"value\": 13255}, \"13282\": {\"frequency\": 1, \"value\": 13282}, \"13291\": {\"frequency\": 2, \"value\": 13291}, \"13298\": {\"frequency\": 2, \"value\": 13298}, \"13300\": {\"frequency\": 42, \"value\": 13300}, \"13316\": {\"frequency\": 6, \"value\": 13316}, \"13323\": {\"frequency\": 2, \"value\": 13323}, \"13329\": {\"frequency\": 3, \"value\": 13329}, \"13332\": {\"frequency\": 7, \"value\": 13332}, \"13333\": {\"frequency\": 105, \"value\": 13333}, \"13334\": {\"frequency\": 8, \"value\": 13334}, \"13343\": {\"frequency\": 2, \"value\": 13343}, \"13350\": {\"frequency\": 5, \"value\": 13350}, \"13355\": {\"frequency\": 3, \"value\": 13355}, \"13370\": {\"frequency\": 2, \"value\": 13370}, \"13375\": {\"frequency\": 4, \"value\": 13375}, \"13383\": {\"frequency\": 1, \"value\": 13383}, \"35000\": {\"frequency\": 27, \"value\": 35000}, \"13400\": {\"frequency\": 31, \"value\": 13400}, \"13405\": {\"frequency\": 3, \"value\": 13405}, \"13416\": {\"frequency\": 19, \"value\": 13416}, \"13429\": {\"frequency\": 1, \"value\": 13429}, \"13433\": {\"frequency\": 8, \"value\": 13433}, \"13435\": {\"frequency\": 1, \"value\": 13435}, \"13440\": {\"frequency\": 3, \"value\": 13440}, \"13450\": {\"frequency\": 4, \"value\": 13450}, \"13466\": {\"frequency\": 2, \"value\": 13466}, \"13482\": {\"frequency\": 3, \"value\": 13482}, \"13483\": {\"frequency\": 4, \"value\": 13483}, \"13499\": {\"frequency\": 3, \"value\": 13499}, \"13500\": {\"frequency\": 108, \"value\": 13500}, \"13508\": {\"frequency\": 2, \"value\": 13508}, \"13518\": {\"frequency\": 1, \"value\": 13518}, \"13536\": {\"frequency\": 1, \"value\": 13536}, \"13541\": {\"frequency\": 6, \"value\": 13541}, \"13566\": {\"frequency\": 4, \"value\": 13566}, \"13576\": {\"frequency\": 7, \"value\": 13576}, \"13583\": {\"frequency\": 23, \"value\": 13583}, \"13586\": {\"frequency\": 1, \"value\": 13586}, \"13595\": {\"frequency\": 2, \"value\": 13595}, \"13596\": {\"frequency\": 2, \"value\": 13596}, \"13600\": {\"frequency\": 33, \"value\": 13600}, \"13606\": {\"frequency\": 4, \"value\": 13606}, \"13616\": {\"frequency\": 2, \"value\": 13616}, \"13619\": {\"frequency\": 3, \"value\": 13619}, \"13621\": {\"frequency\": 1, \"value\": 13621}, \"13650\": {\"frequency\": 5, \"value\": 13650}, \"13658\": {\"frequency\": 3, \"value\": 13658}, \"13660\": {\"frequency\": 2, \"value\": 13660}, \"13666\": {\"frequency\": 20, \"value\": 13666}, \"13667\": {\"frequency\": 4, \"value\": 13667}, \"13675\": {\"frequency\": 1, \"value\": 13675}, \"13700\": {\"frequency\": 33, \"value\": 13700}, \"13716\": {\"frequency\": 6, \"value\": 13716}, \"13741\": {\"frequency\": 2, \"value\": 13741}, \"13749\": {\"frequency\": 5, \"value\": 13749}, \"13750\": {\"frequency\": 65, \"value\": 13750}, \"13761\": {\"frequency\": 2, \"value\": 13761}, \"13763\": {\"frequency\": 1, \"value\": 13763}, \"13769\": {\"frequency\": 2, \"value\": 13769}, \"13770\": {\"frequency\": 2, \"value\": 13770}, \"13775\": {\"frequency\": 4, \"value\": 13775}, \"13782\": {\"frequency\": 1, \"value\": 13782}, \"13784\": {\"frequency\": 1, \"value\": 13784}, \"13790\": {\"frequency\": 1, \"value\": 13790}, \"13793\": {\"frequency\": 1, \"value\": 13793}, \"13800\": {\"frequency\": 38, \"value\": 13800}, \"13829\": {\"frequency\": 1, \"value\": 13829}, \"13833\": {\"frequency\": 12, \"value\": 13833}, \"13838\": {\"frequency\": 1, \"value\": 13838}, \"13841\": {\"frequency\": 2, \"value\": 13841}, \"13850\": {\"frequency\": 3, \"value\": 13850}, \"13851\": {\"frequency\": 1, \"value\": 13851}, \"13867\": {\"frequency\": 2, \"value\": 13867}, \"13875\": {\"frequency\": 2, \"value\": 13875}, \"13883\": {\"frequency\": 3, \"value\": 13883}, \"13900\": {\"frequency\": 16, \"value\": 13900}, \"13905\": {\"frequency\": 2, \"value\": 13905}, \"13916\": {\"frequency\": 12, \"value\": 13916}, \"13917\": {\"frequency\": 3, \"value\": 13917}, \"13945\": {\"frequency\": 3, \"value\": 13945}, \"13950\": {\"frequency\": 7, \"value\": 13950}, \"13958\": {\"frequency\": 2, \"value\": 13958}, \"13970\": {\"frequency\": 2, \"value\": 13970}, \"13999\": {\"frequency\": 3, \"value\": 13999}, \"14000\": {\"frequency\": 224, \"value\": 14000}, \"14016\": {\"frequency\": 2, \"value\": 14016}, \"14025\": {\"frequency\": 2, \"value\": 14025}, \"14033\": {\"frequency\": 6, \"value\": 14033}, \"14035\": {\"frequency\": 2, \"value\": 14035}, \"14041\": {\"frequency\": 3, \"value\": 14041}, \"14048\": {\"frequency\": 2, \"value\": 14048}, \"14050\": {\"frequency\": 5, \"value\": 14050}, \"14066\": {\"frequency\": 2, \"value\": 14066}, \"14074\": {\"frequency\": 2, \"value\": 14074}, \"14083\": {\"frequency\": 13, \"value\": 14083}, \"14086\": {\"frequency\": 1, \"value\": 14086}, \"14100\": {\"frequency\": 21, \"value\": 14100}, \"14110\": {\"frequency\": 2, \"value\": 14110}, \"14122\": {\"frequency\": 1, \"value\": 14122}, \"14148\": {\"frequency\": 1, \"value\": 14148}, \"14149\": {\"frequency\": 2, \"value\": 14149}, \"14166\": {\"frequency\": 71, \"value\": 14166}, \"14167\": {\"frequency\": 7, \"value\": 14167}, \"14170\": {\"frequency\": 3, \"value\": 14170}, \"14200\": {\"frequency\": 28, \"value\": 14200}, \"14210\": {\"frequency\": 1, \"value\": 14210}, \"14214\": {\"frequency\": 1, \"value\": 14214}, \"14233\": {\"frequency\": 4, \"value\": 14233}, \"14237\": {\"frequency\": 2, \"value\": 14237}, \"14239\": {\"frequency\": 2, \"value\": 14239}, \"14250\": {\"frequency\": 15, \"value\": 14250}, \"14269\": {\"frequency\": 2, \"value\": 14269}, \"14297\": {\"frequency\": 1, \"value\": 14297}, \"14300\": {\"frequency\": 21, \"value\": 14300}, \"14320\": {\"frequency\": 2, \"value\": 14320}, \"14330\": {\"frequency\": 1, \"value\": 14330}, \"14332\": {\"frequency\": 3, \"value\": 14332}, \"14333\": {\"frequency\": 19, \"value\": 14333}, \"14350\": {\"frequency\": 8, \"value\": 14350}, \"14358\": {\"frequency\": 1, \"value\": 14358}, \"14366\": {\"frequency\": 5, \"value\": 14366}, \"14380\": {\"frequency\": 4, \"value\": 14380}, \"14400\": {\"frequency\": 19, \"value\": 14400}, \"14416\": {\"frequency\": 8, \"value\": 14416}, \"14430\": {\"frequency\": 3, \"value\": 14430}, \"14432\": {\"frequency\": 1, \"value\": 14432}, \"80000\": {\"frequency\": 3, \"value\": 80000}, \"14467\": {\"frequency\": 2, \"value\": 14467}, \"14483\": {\"frequency\": 2, \"value\": 14483}, \"14491\": {\"frequency\": 1, \"value\": 14491}, \"14499\": {\"frequency\": 5, \"value\": 14499}, \"14500\": {\"frequency\": 107, \"value\": 14500}, \"14515\": {\"frequency\": 2, \"value\": 14515}, \"14516\": {\"frequency\": 1, \"value\": 14516}, \"14533\": {\"frequency\": 2, \"value\": 14533}, \"14542\": {\"frequency\": 1, \"value\": 14542}, \"14550\": {\"frequency\": 5, \"value\": 14550}, \"14581\": {\"frequency\": 1, \"value\": 14581}, \"14582\": {\"frequency\": 5, \"value\": 14582}, \"14583\": {\"frequency\": 54, \"value\": 14583}, \"14584\": {\"frequency\": 2, \"value\": 14584}, \"14593\": {\"frequency\": 1, \"value\": 14593}, \"14595\": {\"frequency\": 1, \"value\": 14595}, \"14600\": {\"frequency\": 28, \"value\": 14600}, \"14606\": {\"frequency\": 1, \"value\": 14606}, \"14607\": {\"frequency\": 2, \"value\": 14607}, \"14650\": {\"frequency\": 6, \"value\": 14650}, \"14651\": {\"frequency\": 1, \"value\": 14651}, \"14666\": {\"frequency\": 14, \"value\": 14666}, \"14683\": {\"frequency\": 2, \"value\": 14683}, \"14700\": {\"frequency\": 27, \"value\": 14700}, \"14733\": {\"frequency\": 3, \"value\": 14733}, \"14749\": {\"frequency\": 2, \"value\": 14749}, \"14750\": {\"frequency\": 14, \"value\": 14750}, \"14752\": {\"frequency\": 2, \"value\": 14752}, \"14753\": {\"frequency\": 2, \"value\": 14753}, \"14770\": {\"frequency\": 2, \"value\": 14770}, \"14785\": {\"frequency\": 1, \"value\": 14785}, \"14788\": {\"frequency\": 3, \"value\": 14788}, \"14795\": {\"frequency\": 1, \"value\": 14795}, \"14800\": {\"frequency\": 18, \"value\": 14800}, \"14833\": {\"frequency\": 18, \"value\": 14833}, \"14850\": {\"frequency\": 5, \"value\": 14850}, \"14866\": {\"frequency\": 5, \"value\": 14866}, \"14875\": {\"frequency\": 5, \"value\": 14875}, \"14896\": {\"frequency\": 2, \"value\": 14896}, \"14900\": {\"frequency\": 15, \"value\": 14900}, \"14916\": {\"frequency\": 10, \"value\": 14916}, \"14932\": {\"frequency\": 1, \"value\": 14932}, \"14943\": {\"frequency\": 1, \"value\": 14943}, \"14944\": {\"frequency\": 2, \"value\": 14944}, \"14999\": {\"frequency\": 4, \"value\": 14999}, \"15000\": {\"frequency\": 425, \"value\": 15000}, \"15016\": {\"frequency\": 3, \"value\": 15016}, \"15030\": {\"frequency\": 1, \"value\": 15030}, \"15033\": {\"frequency\": 5, \"value\": 15033}, \"15039\": {\"frequency\": 1, \"value\": 15039}, \"15050\": {\"frequency\": 3, \"value\": 15050}, \"15075\": {\"frequency\": 1, \"value\": 15075}, \"15083\": {\"frequency\": 6, \"value\": 15083}, \"15084\": {\"frequency\": 2, \"value\": 15084}, \"15100\": {\"frequency\": 16, \"value\": 15100}, \"15113\": {\"frequency\": 3, \"value\": 15113}, \"15120\": {\"frequency\": 2, \"value\": 15120}, \"15133\": {\"frequency\": 3, \"value\": 15133}, \"15166\": {\"frequency\": 8, \"value\": 15166}, \"15183\": {\"frequency\": 4, \"value\": 15183}, \"15200\": {\"frequency\": 22, \"value\": 15200}, \"15220\": {\"frequency\": 2, \"value\": 15220}, \"15225\": {\"frequency\": 2, \"value\": 15225}, \"15227\": {\"frequency\": 2, \"value\": 15227}, \"15230\": {\"frequency\": 1, \"value\": 15230}, \"48000\": {\"frequency\": 4, \"value\": 48000}, \"15240\": {\"frequency\": 3, \"value\": 15240}, \"15249\": {\"frequency\": 3, \"value\": 15249}, \"15250\": {\"frequency\": 15, \"value\": 15250}, \"15259\": {\"frequency\": 1, \"value\": 15259}, \"15266\": {\"frequency\": 2, \"value\": 15266}, \"15300\": {\"frequency\": 17, \"value\": 15300}, \"15307\": {\"frequency\": 2, \"value\": 15307}, \"15325\": {\"frequency\": 1, \"value\": 15325}, \"15333\": {\"frequency\": 12, \"value\": 15333}, \"35325\": {\"frequency\": 1, \"value\": 35325}, \"15350\": {\"frequency\": 6, \"value\": 15350}, \"15357\": {\"frequency\": 1, \"value\": 15357}, \"15366\": {\"frequency\": 2, \"value\": 15366}, \"15400\": {\"frequency\": 21, \"value\": 15400}, \"15416\": {\"frequency\": 35, \"value\": 15416}, \"15417\": {\"frequency\": 5, \"value\": 15417}, \"15433\": {\"frequency\": 3, \"value\": 15433}, \"15450\": {\"frequency\": 4, \"value\": 15450}, \"81000\": {\"frequency\": 1, \"value\": 81000}, \"15499\": {\"frequency\": 3, \"value\": 15499}, \"15500\": {\"frequency\": 66, \"value\": 15500}, \"15503\": {\"frequency\": 1, \"value\": 15503}, \"15533\": {\"frequency\": 2, \"value\": 15533}, \"15550\": {\"frequency\": 3, \"value\": 15550}, \"15580\": {\"frequency\": 3, \"value\": 15580}, \"15583\": {\"frequency\": 14, \"value\": 15583}, \"15584\": {\"frequency\": 3, \"value\": 15584}, \"15585\": {\"frequency\": 2, \"value\": 15585}, \"15600\": {\"frequency\": 13, \"value\": 15600}, \"15616\": {\"frequency\": 2, \"value\": 15616}, \"15626\": {\"frequency\": 1, \"value\": 15626}, \"15633\": {\"frequency\": 2, \"value\": 15633}, \"15650\": {\"frequency\": 3, \"value\": 15650}, \"15666\": {\"frequency\": 8, \"value\": 15666}, \"15700\": {\"frequency\": 12, \"value\": 15700}, \"15750\": {\"frequency\": 14, \"value\": 15750}, \"15778\": {\"frequency\": 1, \"value\": 15778}, \"15800\": {\"frequency\": 34, \"value\": 15800}, \"15805\": {\"frequency\": 1, \"value\": 15805}, \"15832\": {\"frequency\": 4, \"value\": 15832}, \"15833\": {\"frequency\": 53, \"value\": 15833}, \"15834\": {\"frequency\": 4, \"value\": 15834}, \"15839\": {\"frequency\": 2, \"value\": 15839}, \"15883\": {\"frequency\": 3, \"value\": 15883}, \"15900\": {\"frequency\": 13, \"value\": 15900}, \"15916\": {\"frequency\": 13, \"value\": 15916}, \"15928\": {\"frequency\": 2, \"value\": 15928}, \"15933\": {\"frequency\": 4, \"value\": 15933}, \"15940\": {\"frequency\": 2, \"value\": 15940}, \"15975\": {\"frequency\": 2, \"value\": 15975}, \"16000\": {\"frequency\": 178, \"value\": 16000}, \"16001\": {\"frequency\": 2, \"value\": 16001}, \"16028\": {\"frequency\": 1, \"value\": 16028}, \"16036\": {\"frequency\": 1, \"value\": 16036}, \"16042\": {\"frequency\": 1, \"value\": 16042}, \"16059\": {\"frequency\": 1, \"value\": 16059}, \"16081\": {\"frequency\": 1, \"value\": 16081}, \"16083\": {\"frequency\": 12, \"value\": 16083}, \"16100\": {\"frequency\": 10, \"value\": 16100}, \"16103\": {\"frequency\": 1, \"value\": 16103}, \"16110\": {\"frequency\": 1, \"value\": 16110}, \"16150\": {\"frequency\": 4, \"value\": 16150}, \"16153\": {\"frequency\": 1, \"value\": 16153}, \"16166\": {\"frequency\": 9, \"value\": 16166}, \"16180\": {\"frequency\": 3, \"value\": 16180}, \"16197\": {\"frequency\": 2, \"value\": 16197}, \"16200\": {\"frequency\": 17, \"value\": 16200}, \"16233\": {\"frequency\": 5, \"value\": 16233}, \"16249\": {\"frequency\": 5, \"value\": 16249}, \"16250\": {\"frequency\": 27, \"value\": 16250}, \"16266\": {\"frequency\": 3, \"value\": 16266}, \"16279\": {\"frequency\": 2, \"value\": 16279}, \"16293\": {\"frequency\": 1, \"value\": 16293}, \"16300\": {\"frequency\": 9, \"value\": 16300}, \"16309\": {\"frequency\": 1, \"value\": 16309}, \"16333\": {\"frequency\": 12, \"value\": 16333}, \"16342\": {\"frequency\": 2, \"value\": 16342}, \"16350\": {\"frequency\": 2, \"value\": 16350}, \"16366\": {\"frequency\": 2, \"value\": 16366}, \"16383\": {\"frequency\": 1, \"value\": 16383}, \"35500\": {\"frequency\": 2, \"value\": 35500}, \"16400\": {\"frequency\": 4, \"value\": 16400}, \"16416\": {\"frequency\": 7, \"value\": 16416}, \"16441\": {\"frequency\": 1, \"value\": 16441}, \"82000\": {\"frequency\": 3, \"value\": 82000}, \"16466\": {\"frequency\": 7, \"value\": 16466}, \"16479\": {\"frequency\": 1, \"value\": 16479}, \"16483\": {\"frequency\": 5, \"value\": 16483}, \"16499\": {\"frequency\": 1, \"value\": 16499}, \"16500\": {\"frequency\": 52, \"value\": 16500}, \"16501\": {\"frequency\": 2, \"value\": 16501}, \"16533\": {\"frequency\": 1, \"value\": 16533}, \"16550\": {\"frequency\": 3, \"value\": 16550}, \"16580\": {\"frequency\": 1, \"value\": 16580}, \"16583\": {\"frequency\": 6, \"value\": 16583}, \"16600\": {\"frequency\": 25, \"value\": 16600}, \"16615\": {\"frequency\": 1, \"value\": 16615}, \"41000\": {\"frequency\": 6, \"value\": 41000}, \"16650\": {\"frequency\": 5, \"value\": 16650}, \"16666\": {\"frequency\": 115, \"value\": 16666}, \"16667\": {\"frequency\": 17, \"value\": 16667}, \"16700\": {\"frequency\": 7, \"value\": 16700}, \"49500\": {\"frequency\": 1, \"value\": 49500}, \"16746\": {\"frequency\": 1, \"value\": 16746}, \"16750\": {\"frequency\": 12, \"value\": 16750}, \"16767\": {\"frequency\": 2, \"value\": 16767}, \"16800\": {\"frequency\": 10, \"value\": 16800}, \"16811\": {\"frequency\": 1, \"value\": 16811}, \"16833\": {\"frequency\": 5, \"value\": 16833}, \"16866\": {\"frequency\": 4, \"value\": 16866}, \"16887\": {\"frequency\": 1, \"value\": 16887}, \"16895\": {\"frequency\": 1, \"value\": 16895}, \"16900\": {\"frequency\": 7, \"value\": 16900}, \"16916\": {\"frequency\": 5, \"value\": 16916}, \"16933\": {\"frequency\": 3, \"value\": 16933}, \"16959\": {\"frequency\": 1, \"value\": 16959}, \"16983\": {\"frequency\": 3, \"value\": 16983}, \"16984\": {\"frequency\": 1, \"value\": 16984}, \"16993\": {\"frequency\": 1, \"value\": 16993}, \"17000\": {\"frequency\": 115, \"value\": 17000}, \"17010\": {\"frequency\": 2, \"value\": 17010}, \"17033\": {\"frequency\": 2, \"value\": 17033}, \"17040\": {\"frequency\": 1, \"value\": 17040}, \"17083\": {\"frequency\": 8, \"value\": 17083}, \"17100\": {\"frequency\": 10, \"value\": 17100}, \"17109\": {\"frequency\": 2, \"value\": 17109}, \"17120\": {\"frequency\": 1, \"value\": 17120}, \"17157\": {\"frequency\": 1, \"value\": 17157}, \"17166\": {\"frequency\": 7, \"value\": 17166}, \"17170\": {\"frequency\": 2, \"value\": 17170}, \"17199\": {\"frequency\": 1, \"value\": 17199}, \"17200\": {\"frequency\": 10, \"value\": 17200}, \"17216\": {\"frequency\": 2, \"value\": 17216}, \"17222\": {\"frequency\": 2, \"value\": 17222}, \"50000\": {\"frequency\": 20, \"value\": 50000}, \"17250\": {\"frequency\": 13, \"value\": 17250}, \"17300\": {\"frequency\": 12, \"value\": 17300}, \"17333\": {\"frequency\": 11, \"value\": 17333}, \"17366\": {\"frequency\": 2, \"value\": 17366}, \"17400\": {\"frequency\": 17, \"value\": 17400}, \"17416\": {\"frequency\": 4, \"value\": 17416}, \"17499\": {\"frequency\": 5, \"value\": 17499}, \"17500\": {\"frequency\": 75, \"value\": 17500}, \"17525\": {\"frequency\": 1, \"value\": 17525}, \"17533\": {\"frequency\": 2, \"value\": 17533}, \"17550\": {\"frequency\": 2, \"value\": 17550}, \"17570\": {\"frequency\": 1, \"value\": 17570}, \"17583\": {\"frequency\": 5, \"value\": 17583}, \"17600\": {\"frequency\": 7, \"value\": 17600}, \"17666\": {\"frequency\": 13, \"value\": 17666}, \"50440\": {\"frequency\": 1, \"value\": 50440}, \"17700\": {\"frequency\": 7, \"value\": 17700}, \"17716\": {\"frequency\": 1, \"value\": 17716}, \"17750\": {\"frequency\": 13, \"value\": 17750}, \"17770\": {\"frequency\": 1, \"value\": 17770}, \"17773\": {\"frequency\": 1, \"value\": 17773}, \"17800\": {\"frequency\": 16, \"value\": 17800}, \"17833\": {\"frequency\": 13, \"value\": 17833}, \"17834\": {\"frequency\": 3, \"value\": 17834}, \"17850\": {\"frequency\": 2, \"value\": 17850}, \"17860\": {\"frequency\": 1, \"value\": 17860}, \"17866\": {\"frequency\": 2, \"value\": 17866}, \"17874\": {\"frequency\": 1, \"value\": 17874}, \"17900\": {\"frequency\": 4, \"value\": 17900}, \"17916\": {\"frequency\": 11, \"value\": 17916}, \"17917\": {\"frequency\": 2, \"value\": 17917}, \"17938\": {\"frequency\": 1, \"value\": 17938}, \"17951\": {\"frequency\": 1, \"value\": 17951}, \"17966\": {\"frequency\": 3, \"value\": 17966}, \"17978\": {\"frequency\": 1, \"value\": 17978}, \"17983\": {\"frequency\": 1, \"value\": 17983}, \"18000\": {\"frequency\": 129, \"value\": 18000}, \"18066\": {\"frequency\": 3, \"value\": 18066}, \"18083\": {\"frequency\": 4, \"value\": 18083}, \"18086\": {\"frequency\": 2, \"value\": 18086}, \"18100\": {\"frequency\": 7, \"value\": 18100}, \"18166\": {\"frequency\": 6, \"value\": 18166}, \"18170\": {\"frequency\": 2, \"value\": 18170}, \"18200\": {\"frequency\": 11, \"value\": 18200}, \"18216\": {\"frequency\": 2, \"value\": 18216}, \"18250\": {\"frequency\": 6, \"value\": 18250}, \"18258\": {\"frequency\": 1, \"value\": 18258}, \"18300\": {\"frequency\": 8, \"value\": 18300}, \"18333\": {\"frequency\": 26, \"value\": 18333}, \"18334\": {\"frequency\": 2, \"value\": 18334}, \"18358\": {\"frequency\": 1, \"value\": 18358}, \"18383\": {\"frequency\": 2, \"value\": 18383}, \"18400\": {\"frequency\": 5, \"value\": 18400}, \"18416\": {\"frequency\": 3, \"value\": 18416}, \"18450\": {\"frequency\": 3, \"value\": 18450}, \"18466\": {\"frequency\": 2, \"value\": 18466}, \"51250\": {\"frequency\": 1, \"value\": 51250}, \"18500\": {\"frequency\": 33, \"value\": 18500}, \"18553\": {\"frequency\": 1, \"value\": 18553}, \"18582\": {\"frequency\": 2, \"value\": 18582}, \"18583\": {\"frequency\": 4, \"value\": 18583}, \"18600\": {\"frequency\": 9, \"value\": 18600}, \"18604\": {\"frequency\": 1, \"value\": 18604}, \"18649\": {\"frequency\": 1, \"value\": 18649}, \"18683\": {\"frequency\": 1, \"value\": 18683}, \"18694\": {\"frequency\": 1, \"value\": 18694}, \"18700\": {\"frequency\": 7, \"value\": 18700}, \"18723\": {\"frequency\": 1, \"value\": 18723}, \"18733\": {\"frequency\": 3, \"value\": 18733}, \"18750\": {\"frequency\": 30, \"value\": 18750}, \"18800\": {\"frequency\": 14, \"value\": 18800}, \"18833\": {\"frequency\": 7, \"value\": 18833}, \"18836\": {\"frequency\": 2, \"value\": 18836}, \"18841\": {\"frequency\": 2, \"value\": 18841}, \"18850\": {\"frequency\": 2, \"value\": 18850}, \"18900\": {\"frequency\": 8, \"value\": 18900}, \"18916\": {\"frequency\": 3, \"value\": 18916}, \"150000\": {\"frequency\": 2, \"value\": 150000}, \"18982\": {\"frequency\": 2, \"value\": 18982}, \"19000\": {\"frequency\": 51, \"value\": 19000}, \"19020\": {\"frequency\": 2, \"value\": 19020}, \"19100\": {\"frequency\": 7, \"value\": 19100}, \"19166\": {\"frequency\": 18, \"value\": 19166}, \"19167\": {\"frequency\": 3, \"value\": 19167}, \"19200\": {\"frequency\": 9, \"value\": 19200}, \"19250\": {\"frequency\": 7, \"value\": 19250}, \"19266\": {\"frequency\": 3, \"value\": 19266}, \"19275\": {\"frequency\": 6, \"value\": 19275}, \"19300\": {\"frequency\": 8, \"value\": 19300}, \"19333\": {\"frequency\": 4, \"value\": 19333}, \"19350\": {\"frequency\": 2, \"value\": 19350}, \"19353\": {\"frequency\": 1, \"value\": 19353}, \"19355\": {\"frequency\": 1, \"value\": 19355}, \"19366\": {\"frequency\": 3, \"value\": 19366}, \"19391\": {\"frequency\": 1, \"value\": 19391}, \"19416\": {\"frequency\": 2, \"value\": 19416}, \"19417\": {\"frequency\": 1, \"value\": 19417}, \"19450\": {\"frequency\": 3, \"value\": 19450}, \"85000\": {\"frequency\": 3, \"value\": 85000}, \"19500\": {\"frequency\": 20, \"value\": 19500}, \"19566\": {\"frequency\": 2, \"value\": 19566}, \"19580\": {\"frequency\": 3, \"value\": 19580}, \"19583\": {\"frequency\": 8, \"value\": 19583}, \"19600\": {\"frequency\": 6, \"value\": 19600}, \"8732\": {\"frequency\": 4, \"value\": 8732}, \"19633\": {\"frequency\": 1, \"value\": 19633}, \"19666\": {\"frequency\": 9, \"value\": 19666}, \"19693\": {\"frequency\": 1, \"value\": 19693}, \"19700\": {\"frequency\": 3, \"value\": 19700}, \"19750\": {\"frequency\": 4, \"value\": 19750}, \"19800\": {\"frequency\": 8, \"value\": 19800}, \"19831\": {\"frequency\": 1, \"value\": 19831}, \"19833\": {\"frequency\": 5, \"value\": 19833}, \"52667\": {\"frequency\": 1, \"value\": 52667}, \"19916\": {\"frequency\": 2, \"value\": 19916}, \"19950\": {\"frequency\": 2, \"value\": 19950}, \"20000\": {\"frequency\": 226, \"value\": 20000}, \"20047\": {\"frequency\": 1, \"value\": 20047}, \"20083\": {\"frequency\": 3, \"value\": 20083}, \"20133\": {\"frequency\": 2, \"value\": 20133}, \"8832\": {\"frequency\": 4, \"value\": 8832}, \"53000\": {\"frequency\": 4, \"value\": 53000}, \"20300\": {\"frequency\": 3, \"value\": 20300}, \"6132\": {\"frequency\": 5, \"value\": 6132}, \"20326\": {\"frequency\": 1, \"value\": 20326}, \"20400\": {\"frequency\": 5, \"value\": 20400}, \"20416\": {\"frequency\": 11, \"value\": 20416}, \"20500\": {\"frequency\": 16, \"value\": 20500}, \"7232\": {\"frequency\": 2, \"value\": 7232}, \"20600\": {\"frequency\": 3, \"value\": 20600}, \"20667\": {\"frequency\": 4, \"value\": 20667}, \"20700\": {\"frequency\": 3, \"value\": 20700}, \"53500\": {\"frequency\": 2, \"value\": 53500}, \"20750\": {\"frequency\": 5, \"value\": 20750}, \"20800\": {\"frequency\": 7, \"value\": 20800}, \"53600\": {\"frequency\": 1, \"value\": 53600}, \"20833\": {\"frequency\": 53, \"value\": 20833}, \"20834\": {\"frequency\": 3, \"value\": 20834}, \"20850\": {\"frequency\": 5, \"value\": 20850}, \"20900\": {\"frequency\": 4, \"value\": 20900}, \"21000\": {\"frequency\": 46, \"value\": 21000}, \"21100\": {\"frequency\": 4, \"value\": 21100}, \"21116\": {\"frequency\": 1, \"value\": 21116}, \"54000\": {\"frequency\": 3, \"value\": 54000}, \"21250\": {\"frequency\": 10, \"value\": 21250}, \"21300\": {\"frequency\": 4, \"value\": 21300}, \"54166\": {\"frequency\": 3, \"value\": 54166}, \"21400\": {\"frequency\": 2, \"value\": 21400}, \"21416\": {\"frequency\": 2, \"value\": 21416}, \"86980\": {\"frequency\": 1, \"value\": 86980}, \"21500\": {\"frequency\": 19, \"value\": 21500}, \"21505\": {\"frequency\": 1, \"value\": 21505}, \"21600\": {\"frequency\": 5, \"value\": 21600}, \"21628\": {\"frequency\": 1, \"value\": 21628}, \"21633\": {\"frequency\": 2, \"value\": 21633}, \"21666\": {\"frequency\": 14, \"value\": 21666}, \"21667\": {\"frequency\": 3, \"value\": 21667}, \"120000\": {\"frequency\": 3, \"value\": 120000}, \"21730\": {\"frequency\": 1, \"value\": 21730}, \"21853\": {\"frequency\": 1, \"value\": 21853}, \"36416\": {\"frequency\": 1, \"value\": 36416}, \"21910\": {\"frequency\": 1, \"value\": 21910}, \"21916\": {\"frequency\": 1, \"value\": 21916}, \"22000\": {\"frequency\": 48, \"value\": 22000}, \"22200\": {\"frequency\": 6, \"value\": 22200}, \"55000\": {\"frequency\": 4, \"value\": 55000}, \"22300\": {\"frequency\": 4, \"value\": 22300}, \"22333\": {\"frequency\": 3, \"value\": 22333}, \"22400\": {\"frequency\": 2, \"value\": 22400}, \"22499\": {\"frequency\": 2, \"value\": 22499}, \"22500\": {\"frequency\": 18, \"value\": 22500}, \"22550\": {\"frequency\": 2, \"value\": 22550}, \"22700\": {\"frequency\": 3, \"value\": 22700}, \"22750\": {\"frequency\": 3, \"value\": 22750}, \"22766\": {\"frequency\": 2, \"value\": 22766}, \"22800\": {\"frequency\": 4, \"value\": 22800}, \"22833\": {\"frequency\": 5, \"value\": 22833}, \"22900\": {\"frequency\": 6, \"value\": 22900}, \"22916\": {\"frequency\": 7, \"value\": 22916}, \"23000\": {\"frequency\": 26, \"value\": 23000}, \"23033\": {\"frequency\": 1, \"value\": 23033}, \"23100\": {\"frequency\": 3, \"value\": 23100}, \"23200\": {\"frequency\": 4, \"value\": 23200}, \"56000\": {\"frequency\": 2, \"value\": 56000}, \"23250\": {\"frequency\": 4, \"value\": 23250}, \"23267\": {\"frequency\": 1, \"value\": 23267}, \"23333\": {\"frequency\": 14, \"value\": 23333}, \"23350\": {\"frequency\": 2, \"value\": 23350}, \"23500\": {\"frequency\": 12, \"value\": 23500}, \"23684\": {\"frequency\": 2, \"value\": 23684}, \"23750\": {\"frequency\": 6, \"value\": 23750}, \"23800\": {\"frequency\": 4, \"value\": 23800}, \"23833\": {\"frequency\": 3, \"value\": 23833}, \"23916\": {\"frequency\": 4, \"value\": 23916}, \"24000\": {\"frequency\": 33, \"value\": 24000}, \"24090\": {\"frequency\": 1, \"value\": 24090}, \"24100\": {\"frequency\": 2, \"value\": 24100}, \"24166\": {\"frequency\": 5, \"value\": 24166}, \"24200\": {\"frequency\": 6, \"value\": 24200}, \"57000\": {\"frequency\": 4, \"value\": 57000}, \"24333\": {\"frequency\": 4, \"value\": 24333}, \"39000\": {\"frequency\": 2, \"value\": 39000}, \"90000\": {\"frequency\": 6, \"value\": 90000}, \"24500\": {\"frequency\": 10, \"value\": 24500}, \"24750\": {\"frequency\": 2, \"value\": 24750}, \"25000\": {\"frequency\": 142, \"value\": 25000}, \"25083\": {\"frequency\": 3, \"value\": 25083}, \"25166\": {\"frequency\": 3, \"value\": 25166}, \"25200\": {\"frequency\": 4, \"value\": 25200}, \"58000\": {\"frequency\": 4, \"value\": 58000}, \"25275\": {\"frequency\": 1, \"value\": 25275}, \"4232\": {\"frequency\": 4, \"value\": 4232}, \"25400\": {\"frequency\": 3, \"value\": 25400}, \"25433\": {\"frequency\": 1, \"value\": 25433}, \"58249\": {\"frequency\": 1, \"value\": 58249}, \"25500\": {\"frequency\": 6, \"value\": 25500}, \"25600\": {\"frequency\": 3, \"value\": 25600}, \"25650\": {\"frequency\": 2, \"value\": 25650}, \"25700\": {\"frequency\": 2, \"value\": 25700}, \"25800\": {\"frequency\": 3, \"value\": 25800}, \"25833\": {\"frequency\": 10, \"value\": 25833}, \"26000\": {\"frequency\": 21, \"value\": 26000}, \"26100\": {\"frequency\": 2, \"value\": 26100}, \"26333\": {\"frequency\": 2, \"value\": 26333}, \"26400\": {\"frequency\": 1, \"value\": 26400}, \"26484\": {\"frequency\": 1, \"value\": 26484}, \"26500\": {\"frequency\": 6, \"value\": 26500}, \"26574\": {\"frequency\": 1, \"value\": 26574}, \"26660\": {\"frequency\": 1, \"value\": 26660}, \"26666\": {\"frequency\": 4, \"value\": 26666}, \"20832\": {\"frequency\": 3, \"value\": 20832}, \"125000\": {\"frequency\": 2, \"value\": 125000}, \"70000\": {\"frequency\": 7, \"value\": 70000}, \"26786\": {\"frequency\": 1, \"value\": 26786}, \"26833\": {\"frequency\": 2, \"value\": 26833}, \"4482\": {\"frequency\": 8, \"value\": 4482}, \"27000\": {\"frequency\": 20, \"value\": 27000}, \"27083\": {\"frequency\": 6, \"value\": 27083}, \"60000\": {\"frequency\": 7, \"value\": 60000}, \"60200\": {\"frequency\": 1, \"value\": 60200}, \"27443\": {\"frequency\": 1, \"value\": 27443}, \"27600\": {\"frequency\": 3, \"value\": 27600}, \"27866\": {\"frequency\": 1, \"value\": 27866}, \"28000\": {\"frequency\": 25, \"value\": 28000}, \"28200\": {\"frequency\": 2, \"value\": 28200}, \"61000\": {\"frequency\": 2, \"value\": 61000}, \"37500\": {\"frequency\": 13, \"value\": 37500}, \"43000\": {\"frequency\": 5, \"value\": 43000}, \"28666\": {\"frequency\": 2, \"value\": 28666}, \"28750\": {\"frequency\": 3, \"value\": 28750}, \"29000\": {\"frequency\": 12, \"value\": 29000}, \"29017\": {\"frequency\": 1, \"value\": 29017}, \"29166\": {\"frequency\": 11, \"value\": 29166}, \"29167\": {\"frequency\": 4, \"value\": 29167}, \"29200\": {\"frequency\": 2, \"value\": 29200}, \"62000\": {\"frequency\": 4, \"value\": 62000}, \"10373\": {\"frequency\": 5, \"value\": 10373}, \"29583\": {\"frequency\": 2, \"value\": 29583}, \"62500\": {\"frequency\": 7, \"value\": 62500}, \"30000\": {\"frequency\": 72, \"value\": 30000}, \"30300\": {\"frequency\": 4, \"value\": 30300}, \"30333\": {\"frequency\": 2, \"value\": 30333}, \"63588\": {\"frequency\": 1, \"value\": 63588}, \"31000\": {\"frequency\": 5, \"value\": 31000}, \"96668\": {\"frequency\": 1, \"value\": 96668}, \"64000\": {\"frequency\": 2, \"value\": 64000}, \"31250\": {\"frequency\": 12, \"value\": 31250}, \"38000\": {\"frequency\": 3, \"value\": 38000}, \"31460\": {\"frequency\": 1, \"value\": 31460}, \"31666\": {\"frequency\": 1, \"value\": 31666}, \"32000\": {\"frequency\": 17, \"value\": 32000}, \"65000\": {\"frequency\": 6, \"value\": 65000}, \"32500\": {\"frequency\": 8, \"value\": 32500}, \"65300\": {\"frequency\": 1, \"value\": 65300}}, \"mean\": 6670.221237392844}, \"TotalResidualMothlyIncome\": {\"std\": 14585.49235474586, \"complete\": true, \"min\": -467416.28777389997, \"max\": 3004327.00210625, \"quantile\": [-467416.28777389997, -2024.5258725300005, -1062.8945060500002, -545.5564582800001, -189.86281654400003, -0.0, -0.0, 195.94865023199998, 362.93401099999994, 526.6078865850001, 655.8274156, 785.6978090000001, 888.2842185180001, 988.752812, 1089.52213836, 1185.7079536400001, 1268.577141, 1355.674586522, 1440.590393444, 1510.3958425, 1588.682265, 1662.7782975, 1733.6362508419998, 1803.16751346, 1876.687218, 1945.351548, 2001.139294725, 2075.470272378, 2143.1948925640004, 2205.264912, 2269.4464771, 2333.3333345, 2398.0407824999998, 2463.4086873700003, 2517.5765197600003, 2579.5079135280002, 2645.03816775, 2707.330695675, 2772.4768891000003, 2836.3082172, 2902.3824695000003, 2961.3699229, 3020.6316765990005, 3090.3838938719996, 3156.2715738679995, 3225.2922321479996, 3293.6125125, 3358.437167007, 3432.0194229999997, 3497.150763618, 3566.126591109, 3641.1724624000003, 3708.536432, 3787.053236, 3861.338019504, 3934.344276, 4000.0, 4079.093535, 4155.2876214240005, 4247.295992031, 4331.2899513, 4414.2117488, 4496.40048, 4586.275698628, 4681.414824, 4773.204468, 4872.138896574, 4961.2248064, 5051.222891, 5162.000772096, 5271.297157500001, 5388.2253832199995, 5501.2665, 5618.181977736, 5748.014572421, 5873.0964435000005, 5994.06924536, 6128.006162386, 6261.342780721001, 6427.4632188059995, 6580.294946406, 6761.0, 6931.366994400001, 7114.0294664, 7308.335606000001, 7513.260431711, 7736.335371720001, 7957.281114994999, 8224.412546, 8519.18865, 8846.204195752, 9173.256739812, 9577.14398434, 9984.2012625, 10476.0022815, 11134.304111999998, 12057.162696, 13219.222405999999, 15297.228629459001, 20780.002584638, 3004327.00210625], \"median\": 3566.126591109, \"numeric\": true, \"num_unique\": 110992, \"num_undefined\": 29731, \"var\": 212736587.23034993, \"progress\": 1.0, \"size\": 150000, \"frequent_items\": {\"-0.0\": {\"frequency\": 121, \"value\": -0.0}, \"1.0\": {\"frequency\": 44, \"value\": 1.0}, \"898.0\": {\"frequency\": 18, \"value\": 898.0}, \"10500.0\": {\"frequency\": 23, \"value\": 10500.0}, \"3333.0\": {\"frequency\": 14, \"value\": 3333.0}, \"5000.0\": {\"frequency\": 49, \"value\": 5000.0}, \"2700.0\": {\"frequency\": 8, \"value\": 2700.0}, \"10000.0\": {\"frequency\": 13, \"value\": 10000.0}, \"4500.0\": {\"frequency\": 25, \"value\": 4500.0}, \"2200.0\": {\"frequency\": 19, \"value\": 2200.0}, \"4000.0\": {\"frequency\": 43, \"value\": 4000.0}, \"929.0\": {\"frequency\": 23, \"value\": 929.0}, \"2600.0\": {\"frequency\": 18, \"value\": 2600.0}, \"3500.0\": {\"frequency\": 29, \"value\": 3500.0}, \"4982.0036\": {\"frequency\": 7, \"value\": 4982.0036}, \"1200.0\": {\"frequency\": 25, \"value\": 1200.0}, \"1800.0\": {\"frequency\": 12, \"value\": 1800.0}, \"300.63337412000004\": {\"frequency\": 15, \"value\": 300.63337412000004}, \"820.0\": {\"frequency\": 66, \"value\": 820.0}, \"3000.0\": {\"frequency\": 42, \"value\": 3000.0}, \"5500.0\": {\"frequency\": 11, \"value\": 5500.0}, \"1600.0\": {\"frequency\": 24, \"value\": 1600.0}, \"800.0\": {\"frequency\": 14, \"value\": 800.0}, \"2500.0\": {\"frequency\": 73, \"value\": 2500.0}, \"7500.0\": {\"frequency\": 15, \"value\": 7500.0}, \"1100.0\": {\"frequency\": 10, \"value\": 1100.0}, \"2000.0\": {\"frequency\": 60, \"value\": 2000.0}, \"7000.0\": {\"frequency\": 23, \"value\": 7000.0}, \"3967.008248\": {\"frequency\": 8, \"value\": 3967.008248}, \"1500.0\": {\"frequency\": 41, \"value\": 1500.0}, \"2400.0\": {\"frequency\": 19, \"value\": 2400.0}, \"3600.0\": {\"frequency\": 14, \"value\": 3600.0}, \"1250.0\": {\"frequency\": 6, \"value\": 1250.0}, \"2916.0\": {\"frequency\": 9, \"value\": 2916.0}, \"1000.0\": {\"frequency\": 30, \"value\": 1000.0}, \"2300.0\": {\"frequency\": 20, \"value\": 2300.0}, \"3200.0\": {\"frequency\": 15, \"value\": 3200.0}, \"3347.330535\": {\"frequency\": 5, \"value\": 3347.330535}, \"6000.0\": {\"frequency\": 24, \"value\": 6000.0}, \"2497.0012\": {\"frequency\": 16, \"value\": 2497.0012}, \"1400.0\": {\"frequency\": 14, \"value\": 1400.0}, \"764.0\": {\"frequency\": 6, \"value\": 764.0}}, \"mean\": 4552.472236143628}, \"NumberOfTime30-59DaysPastDueNotWorse\": {\"std\": 4.192767296057445, \"complete\": true, \"min\": 0.0, \"max\": 98.0, \"quantile\": [0.0, 0.0, 0.0, 0.0, 0.0, 0.0, 0.0, 0.0, 0.0, 0.0, 0.0, 0.0, 0.0, 0.0, 0.0, 0.0, 0.0, 0.0, 0.0, 0.0, 0.0, 0.0, 0.0, 0.0, 0.0, 0.0, 0.0, 0.0, 0.0, 0.0, 0.0, 0.0, 0.0, 0.0, 0.0, 0.0, 0.0, 0.0, 0.0, 0.0, 0.0, 0.0, 0.0, 0.0, 0.0, 0.0, 0.0, 0.0, 0.0, 0.0, 0.0, 0.0, 0.0, 0.0, 0.0, 0.0, 0.0, 0.0, 0.0, 0.0, 0.0, 0.0, 0.0, 0.0, 0.0, 0.0, 0.0, 0.0, 0.0, 0.0, 0.0, 0.0, 0.0, 0.0, 0.0, 0.0, 0.0, 0.0, 0.0, 0.0, 0.0, 0.0, 0.0, 0.0, 1.0, 1.0, 1.0, 1.0, 1.0, 1.0, 1.0, 1.0, 1.0, 1.0, 1.0, 2.0, 2.0, 2.0, 3.0, 4.0, 98.0], \"median\": 0.0, \"numeric\": true, \"num_unique\": 16, \"num_undefined\": 0, \"var\": 17.57929759888886, \"progress\": 1.0, \"size\": 150000, \"frequent_items\": {\"0\": {\"frequency\": 126018, \"value\": 0}, \"1\": {\"frequency\": 16033, \"value\": 1}, \"2\": {\"frequency\": 4598, \"value\": 2}, \"3\": {\"frequency\": 1754, \"value\": 3}, \"4\": {\"frequency\": 747, \"value\": 4}, \"5\": {\"frequency\": 342, \"value\": 5}, \"6\": {\"frequency\": 140, \"value\": 6}, \"7\": {\"frequency\": 54, \"value\": 7}, \"8\": {\"frequency\": 25, \"value\": 8}, \"9\": {\"frequency\": 12, \"value\": 9}, \"10\": {\"frequency\": 4, \"value\": 10}, \"11\": {\"frequency\": 1, \"value\": 11}, \"12\": {\"frequency\": 2, \"value\": 12}, \"98\": {\"frequency\": 264, \"value\": 98}, \"96\": {\"frequency\": 5, \"value\": 96}, \"13\": {\"frequency\": 1, \"value\": 13}}, \"mean\": 0.4210333333333335}, \"NumberOfTime60-89DaysPastDueNotWorse\": {\"std\": 4.155165570366065, \"complete\": true, \"min\": 0.0, \"max\": 98.0, \"quantile\": [0.0, 0.0, 0.0, 0.0, 0.0, 0.0, 0.0, 0.0, 0.0, 0.0, 0.0, 0.0, 0.0, 0.0, 0.0, 0.0, 0.0, 0.0, 0.0, 0.0, 0.0, 0.0, 0.0, 0.0, 0.0, 0.0, 0.0, 0.0, 0.0, 0.0, 0.0, 0.0, 0.0, 0.0, 0.0, 0.0, 0.0, 0.0, 0.0, 0.0, 0.0, 0.0, 0.0, 0.0, 0.0, 0.0, 0.0, 0.0, 0.0, 0.0, 0.0, 0.0, 0.0, 0.0, 0.0, 0.0, 0.0, 0.0, 0.0, 0.0, 0.0, 0.0, 0.0, 0.0, 0.0, 0.0, 0.0, 0.0, 0.0, 0.0, 0.0, 0.0, 0.0, 0.0, 0.0, 0.0, 0.0, 0.0, 0.0, 0.0, 0.0, 0.0, 0.0, 0.0, 0.0, 0.0, 0.0, 0.0, 0.0, 0.0, 0.0, 0.0, 0.0, 0.0, 0.0, 1.0, 1.0, 1.0, 1.0, 2.0, 98.0], \"median\": 0.0, \"numeric\": true, \"num_unique\": 13, \"num_undefined\": 0, \"var\": 17.265400917155542, \"progress\": 1.0, \"size\": 150000, \"frequent_items\": {\"0\": {\"frequency\": 142396, \"value\": 0}, \"1\": {\"frequency\": 5731, \"value\": 1}, \"2\": {\"frequency\": 1118, \"value\": 2}, \"3\": {\"frequency\": 318, \"value\": 3}, \"4\": {\"frequency\": 105, \"value\": 4}, \"5\": {\"frequency\": 34, \"value\": 5}, \"6\": {\"frequency\": 16, \"value\": 6}, \"7\": {\"frequency\": 9, \"value\": 7}, \"8\": {\"frequency\": 2, \"value\": 8}, \"96\": {\"frequency\": 5, \"value\": 96}, \"11\": {\"frequency\": 1, \"value\": 11}, \"98\": {\"frequency\": 264, \"value\": 98}, \"9\": {\"frequency\": 1, \"value\": 9}}, \"mean\": 0.2403866666666659}, \"NumberOfTimes90DaysLate\": {\"std\": 4.169289889891986, \"complete\": true, \"min\": 0.0, \"max\": 98.0, \"quantile\": [0.0, 0.0, 0.0, 0.0, 0.0, 0.0, 0.0, 0.0, 0.0, 0.0, 0.0, 0.0, 0.0, 0.0, 0.0, 0.0, 0.0, 0.0, 0.0, 0.0, 0.0, 0.0, 0.0, 0.0, 0.0, 0.0, 0.0, 0.0, 0.0, 0.0, 0.0, 0.0, 0.0, 0.0, 0.0, 0.0, 0.0, 0.0, 0.0, 0.0, 0.0, 0.0, 0.0, 0.0, 0.0, 0.0, 0.0, 0.0, 0.0, 0.0, 0.0, 0.0, 0.0, 0.0, 0.0, 0.0, 0.0, 0.0, 0.0, 0.0, 0.0, 0.0, 0.0, 0.0, 0.0, 0.0, 0.0, 0.0, 0.0, 0.0, 0.0, 0.0, 0.0, 0.0, 0.0, 0.0, 0.0, 0.0, 0.0, 0.0, 0.0, 0.0, 0.0, 0.0, 0.0, 0.0, 0.0, 0.0, 0.0, 0.0, 0.0, 0.0, 0.0, 0.0, 0.0, 1.0, 1.0, 1.0, 2.0, 3.0, 98.0], \"median\": 0.0, \"numeric\": true, \"num_unique\": 19, \"num_undefined\": 0, \"var\": 17.38297818595553, \"progress\": 1.0, \"size\": 150000, \"frequent_items\": {\"0\": {\"frequency\": 141662, \"value\": 0}, \"1\": {\"frequency\": 5243, \"value\": 1}, \"2\": {\"frequency\": 1555, \"value\": 2}, \"3\": {\"frequency\": 667, \"value\": 3}, \"4\": {\"frequency\": 291, \"value\": 4}, \"5\": {\"frequency\": 131, \"value\": 5}, \"6\": {\"frequency\": 80, \"value\": 6}, \"7\": {\"frequency\": 38, \"value\": 7}, \"8\": {\"frequency\": 21, \"value\": 8}, \"9\": {\"frequency\": 19, \"value\": 9}, \"10\": {\"frequency\": 8, \"value\": 10}, \"11\": {\"frequency\": 5, \"value\": 11}, \"12\": {\"frequency\": 2, \"value\": 12}, \"13\": {\"frequency\": 4, \"value\": 13}, \"96\": {\"frequency\": 5, \"value\": 96}, \"15\": {\"frequency\": 2, \"value\": 15}, \"17\": {\"frequency\": 1, \"value\": 17}, \"14\": {\"frequency\": 2, \"value\": 14}, \"98\": {\"frequency\": 264, \"value\": 98}}, \"mean\": 0.2659733333333346}}, \"selected_variable\": {\"name\": [\"<SFrame>\"], \"descriptives\": {\"rows\": 150000, \"columns\": 11}, \"view_component\": \"Summary\", \"view_file\": \"sframe\", \"view_params\": {\"y\": null, \"x\": null, \"columns\": [\"age\", \"MonthlyIncome\", \"NumberOfDependents\", \"NumberRealEstateLoansOrLines\", \"NumberOfOpenCreditLinesAndLoans\", \"NumberOfTime30-59DaysPastDueNotWorse\", \"NumberOfTime60-89DaysPastDueNotWorse\", \"NumberOfTimes90DaysLate\", \"Is60orMoreYearsOld\", \"DTI\", \"TotalResidualMothlyIncome\"], \"view\": null}, \"view_components\": [\"Summary\", \"Table\", \"Bar Chart\", \"BoxWhisker Plot\", \"Line Chart\", \"Scatter Plot\", \"Heat Map\", \"Plots\"], \"type\": \"SFrame\", \"columns\": [{\"dtype\": \"int\", \"name\": \"age\"}, {\"dtype\": \"int\", \"name\": \"MonthlyIncome\"}, {\"dtype\": \"int\", \"name\": \"NumberOfDependents\"}, {\"dtype\": \"int\", \"name\": \"NumberRealEstateLoansOrLines\"}, {\"dtype\": \"int\", \"name\": \"NumberOfOpenCreditLinesAndLoans\"}, {\"dtype\": \"int\", \"name\": \"NumberOfTime30-59DaysPastDueNotWorse\"}, {\"dtype\": \"int\", \"name\": \"NumberOfTime60-89DaysPastDueNotWorse\"}, {\"dtype\": \"int\", \"name\": \"NumberOfTimes90DaysLate\"}, {\"dtype\": \"int\", \"name\": \"Is60orMoreYearsOld\"}, {\"dtype\": \"int\", \"name\": \"DTI\"}, {\"dtype\": \"float\", \"name\": \"TotalResidualMothlyIncome\"}], \"column_identifiers\": [\"DTI\", \"NumberOfOpenCreditLinesAndLoans\", \"NumberRealEstateLoansOrLines\", \"age\", \"Is60orMoreYearsOld\", \"NumberOfDependents\", \"MonthlyIncome\", \"TotalResidualMothlyIncome\", \"NumberOfTime30-59DaysPastDueNotWorse\", \"NumberOfTime60-89DaysPastDueNotWorse\", \"NumberOfTimes90DaysLate\"]}, \"columns\": [{\"dtype\": \"int\", \"name\": \"age\"}, {\"dtype\": \"int\", \"name\": \"MonthlyIncome\"}, {\"dtype\": \"int\", \"name\": \"NumberOfDependents\"}, {\"dtype\": \"int\", \"name\": \"NumberRealEstateLoansOrLines\"}, {\"dtype\": \"int\", \"name\": \"NumberOfOpenCreditLinesAndLoans\"}, {\"dtype\": \"int\", \"name\": \"NumberOfTime30-59DaysPastDueNotWorse\"}, {\"dtype\": \"int\", \"name\": \"NumberOfTime60-89DaysPastDueNotWorse\"}, {\"dtype\": \"int\", \"name\": \"NumberOfTimes90DaysLate\"}, {\"dtype\": \"int\", \"name\": \"Is60orMoreYearsOld\"}, {\"dtype\": \"int\", \"name\": \"DTI\"}, {\"dtype\": \"float\", \"name\": \"TotalResidualMothlyIncome\"}]}, e);\n",
       "                });\n",
       "            })();\n",
       "        "
      ]
     },
     "metadata": {},
     "output_type": "display_data"
    }
   ],
   "source": [
    "sf['age'].show()\n",
    "sf['DebtRatio'].show()\n",
    "sf[features_ext_cat].show()"
   ]
  },
  {
   "cell_type": "code",
   "execution_count": 94,
   "metadata": {
    "collapsed": true
   },
   "outputs": [],
   "source": [
    "sf_no_NA, sf_bad = sf.dropna_split()\n",
    "train_data, test_data = sf_no_NA.random_split(.7, seed=0)"
   ]
  },
  {
   "cell_type": "markdown",
   "metadata": {},
   "source": [
    "## Nearest Neighbor Model"
   ]
  },
  {
   "cell_type": "code",
   "execution_count": 57,
   "metadata": {},
   "outputs": [
    {
     "data": {
      "text/html": [
       "<pre>Starting ball tree nearest neighbors model training.</pre>"
      ],
      "text/plain": [
       "Starting ball tree nearest neighbors model training."
      ]
     },
     "metadata": {},
     "output_type": "display_data"
    },
    {
     "data": {
      "text/html": [
       "<pre>+------------+--------------+</pre>"
      ],
      "text/plain": [
       "+------------+--------------+"
      ]
     },
     "metadata": {},
     "output_type": "display_data"
    },
    {
     "data": {
      "text/html": [
       "<pre>| Tree level | Elapsed Time |</pre>"
      ],
      "text/plain": [
       "| Tree level | Elapsed Time |"
      ]
     },
     "metadata": {},
     "output_type": "display_data"
    },
    {
     "data": {
      "text/html": [
       "<pre>+------------+--------------+</pre>"
      ],
      "text/plain": [
       "+------------+--------------+"
      ]
     },
     "metadata": {},
     "output_type": "display_data"
    },
    {
     "data": {
      "text/html": [
       "<pre>| 0          | 108.493ms    |</pre>"
      ],
      "text/plain": [
       "| 0          | 108.493ms    |"
      ]
     },
     "metadata": {},
     "output_type": "display_data"
    },
    {
     "data": {
      "text/html": [
       "<pre>| 1          | 155.49ms     |</pre>"
      ],
      "text/plain": [
       "| 1          | 155.49ms     |"
      ]
     },
     "metadata": {},
     "output_type": "display_data"
    },
    {
     "data": {
      "text/html": [
       "<pre>| 2          | 205.491ms    |</pre>"
      ],
      "text/plain": [
       "| 2          | 205.491ms    |"
      ]
     },
     "metadata": {},
     "output_type": "display_data"
    },
    {
     "data": {
      "text/html": [
       "<pre>| 3          | 250.992ms    |</pre>"
      ],
      "text/plain": [
       "| 3          | 250.992ms    |"
      ]
     },
     "metadata": {},
     "output_type": "display_data"
    },
    {
     "data": {
      "text/html": [
       "<pre>| 4          | 298.024ms    |</pre>"
      ],
      "text/plain": [
       "| 4          | 298.024ms    |"
      ]
     },
     "metadata": {},
     "output_type": "display_data"
    },
    {
     "data": {
      "text/html": [
       "<pre>| 5          | 343.991ms    |</pre>"
      ],
      "text/plain": [
       "| 5          | 343.991ms    |"
      ]
     },
     "metadata": {},
     "output_type": "display_data"
    },
    {
     "data": {
      "text/html": [
       "<pre>| 6          | 391.025ms    |</pre>"
      ],
      "text/plain": [
       "| 6          | 391.025ms    |"
      ]
     },
     "metadata": {},
     "output_type": "display_data"
    },
    {
     "data": {
      "text/html": [
       "<pre>| 7          | 416.994ms    |</pre>"
      ],
      "text/plain": [
       "| 7          | 416.994ms    |"
      ]
     },
     "metadata": {},
     "output_type": "display_data"
    },
    {
     "data": {
      "text/html": [
       "<pre>+------------+--------------+</pre>"
      ],
      "text/plain": [
       "+------------+--------------+"
      ]
     },
     "metadata": {},
     "output_type": "display_data"
    }
   ],
   "source": [
    "nearest_neighbor_model = graphlab.nearest_neighbor_classifier.create(train_data, target=target, features=features)"
   ]
  },
  {
   "cell_type": "code",
   "execution_count": 95,
   "metadata": {},
   "outputs": [
    {
     "data": {
      "application/javascript": [
       "$(\"head\").append($(\"<link/>\").attr({\n",
       "  rel:  \"stylesheet\",\n",
       "  type: \"text/css\",\n",
       "  href: \"//cdnjs.cloudflare.com/ajax/libs/font-awesome/4.1.0/css/font-awesome.min.css\"\n",
       "}));\n",
       "$(\"head\").append($(\"<link/>\").attr({\n",
       "  rel:  \"stylesheet\",\n",
       "  type: \"text/css\",\n",
       "  href: \"https://static.turi.com/products/graphlab-create/2.1/canvas/css/canvas.css\"\n",
       "}));\n",
       "\n",
       "            (function(){\n",
       "\n",
       "                var e = null;\n",
       "                if (typeof element == 'undefined') {\n",
       "                    var scripts = document.getElementsByTagName('script');\n",
       "                    var thisScriptTag = scripts[scripts.length-1];\n",
       "                    var parentDiv = thisScriptTag.parentNode;\n",
       "                    e = document.createElement('div');\n",
       "                    parentDiv.appendChild(e);\n",
       "                } else {\n",
       "                    e = element[0];\n",
       "                }\n",
       "\n",
       "                if (typeof requirejs !== 'undefined') {\n",
       "                    // disable load timeout; ipython_app.js is large and can take a while to load.\n",
       "                    requirejs.config({waitSeconds: 0});\n",
       "                }\n",
       "\n",
       "                require(['https://static.turi.com/products/graphlab-create/2.1/canvas/js/ipython_app.js'], function(IPythonApp){\n",
       "                    var app = new IPythonApp();\n",
       "                    app.attachView('model','Summary', {\"comparison\": null, \"selected_variable\": {\"comparison\": null, \"name\": [\"nearest_neighbor_model\"], \"view_file\": \"model\", \"view_component\": \"Summary\", \"view_params\": {\"model_type\": \"base\", \"view\": \"Summary\"}, \"view_components\": [\"Summary\", \"Evaluation\", \"Comparison\"], \"model_type\": \"base\", \"attributes\": {\"section_titles\": [\"Schema\", \"Training Summary\"], \"sections\": [[[\"Number of examples\", 84284], [\"Number of feature columns\", 13], [\"Number of unpacked features\", 13], [\"Number of distance components\", 1], [\"Number of classes\", 2]], [[\"Training time (seconds)\", 2.324]]]}, \"evaluations\": [], \"type\": \"Model\"}, \"ipython\": true, \"view_params\": {\"model_type\": \"base\", \"view\": \"Summary\"}, \"model_type\": \"base\", \"attributes\": {\"section_titles\": [\"Schema\", \"Training Summary\"], \"sections\": [[[\"Number of examples\", 84284], [\"Number of feature columns\", 13], [\"Number of unpacked features\", 13], [\"Number of distance components\", 1], [\"Number of classes\", 2]], [[\"Training time (seconds)\", 2.324]]]}, \"evaluations\": []}, e);\n",
       "                });\n",
       "            })();\n",
       "        "
      ]
     },
     "metadata": {},
     "output_type": "display_data"
    }
   ],
   "source": [
    "nearest_neighbor_model.show()"
   ]
  },
  {
   "cell_type": "code",
   "execution_count": 96,
   "metadata": {},
   "outputs": [
    {
     "name": "stdout",
     "output_type": "stream",
     "text": [
      "Class                                : NearestNeighborClassifier\n",
      "\n",
      "Schema\n",
      "------\n",
      "Number of examples                   : 84284\n",
      "Number of feature columns            : 13\n",
      "Number of unpacked features          : 13\n",
      "Number of distance components        : 1\n",
      "Number of classes                    : 2\n",
      "\n",
      "Training Summary\n",
      "----------------\n",
      "Training time (seconds)              : 2.324\n",
      "\n"
     ]
    }
   ],
   "source": [
    "nearest_neighbor_model.summary()"
   ]
  },
  {
   "cell_type": "code",
   "execution_count": 97,
   "metadata": {},
   "outputs": [
    {
     "data": {
      "text/html": [
       "<pre>+--------------+-------------+--------------+</pre>"
      ],
      "text/plain": [
       "+--------------+-------------+--------------+"
      ]
     },
     "metadata": {},
     "output_type": "display_data"
    },
    {
     "data": {
      "text/html": [
       "<pre>| Query points | % Complete. | Elapsed Time |</pre>"
      ],
      "text/plain": [
       "| Query points | % Complete. | Elapsed Time |"
      ]
     },
     "metadata": {},
     "output_type": "display_data"
    },
    {
     "data": {
      "text/html": [
       "<pre>+--------------+-------------+--------------+</pre>"
      ],
      "text/plain": [
       "+--------------+-------------+--------------+"
      ]
     },
     "metadata": {},
     "output_type": "display_data"
    },
    {
     "data": {
      "text/html": [
       "<pre>| 1            | 0           | 43.499ms     |</pre>"
      ],
      "text/plain": [
       "| 1            | 0           | 43.499ms     |"
      ]
     },
     "metadata": {},
     "output_type": "display_data"
    },
    {
     "data": {
      "text/html": [
       "<pre>| 162          | 0.25        | 1.05s        |</pre>"
      ],
      "text/plain": [
       "| 162          | 0.25        | 1.05s        |"
      ]
     },
     "metadata": {},
     "output_type": "display_data"
    },
    {
     "data": {
      "text/html": [
       "<pre>| 344          | 0.75        | 2.04s        |</pre>"
      ],
      "text/plain": [
       "| 344          | 0.75        | 2.04s        |"
      ]
     },
     "metadata": {},
     "output_type": "display_data"
    },
    {
     "data": {
      "text/html": [
       "<pre>| 514          | 1.25        | 3.05s        |</pre>"
      ],
      "text/plain": [
       "| 514          | 1.25        | 3.05s        |"
      ]
     },
     "metadata": {},
     "output_type": "display_data"
    },
    {
     "data": {
      "text/html": [
       "<pre>| 688          | 1.75        | 4.05s        |</pre>"
      ],
      "text/plain": [
       "| 688          | 1.75        | 4.05s        |"
      ]
     },
     "metadata": {},
     "output_type": "display_data"
    },
    {
     "data": {
      "text/html": [
       "<pre>| 848          | 2.25        | 5.06s        |</pre>"
      ],
      "text/plain": [
       "| 848          | 2.25        | 5.06s        |"
      ]
     },
     "metadata": {},
     "output_type": "display_data"
    },
    {
     "data": {
      "text/html": [
       "<pre>| 1011         | 2.75        | 6.06s        |</pre>"
      ],
      "text/plain": [
       "| 1011         | 2.75        | 6.06s        |"
      ]
     },
     "metadata": {},
     "output_type": "display_data"
    },
    {
     "data": {
      "text/html": [
       "<pre>| 1180         | 3.25        | 7.08s        |</pre>"
      ],
      "text/plain": [
       "| 1180         | 3.25        | 7.08s        |"
      ]
     },
     "metadata": {},
     "output_type": "display_data"
    },
    {
     "data": {
      "text/html": [
       "<pre>| 1329         | 3.5         | 8.07s        |</pre>"
      ],
      "text/plain": [
       "| 1329         | 3.5         | 8.07s        |"
      ]
     },
     "metadata": {},
     "output_type": "display_data"
    },
    {
     "data": {
      "text/html": [
       "<pre>| 1500         | 4           | 9.07s        |</pre>"
      ],
      "text/plain": [
       "| 1500         | 4           | 9.07s        |"
      ]
     },
     "metadata": {},
     "output_type": "display_data"
    },
    {
     "data": {
      "text/html": [
       "<pre>| 1644         | 4.5         | 10.07s       |</pre>"
      ],
      "text/plain": [
       "| 1644         | 4.5         | 10.07s       |"
      ]
     },
     "metadata": {},
     "output_type": "display_data"
    },
    {
     "data": {
      "text/html": [
       "<pre>| 1820         | 5           | 11.08s       |</pre>"
      ],
      "text/plain": [
       "| 1820         | 5           | 11.08s       |"
      ]
     },
     "metadata": {},
     "output_type": "display_data"
    },
    {
     "data": {
      "text/html": [
       "<pre>| 1992         | 5.5         | 12.09s       |</pre>"
      ],
      "text/plain": [
       "| 1992         | 5.5         | 12.09s       |"
      ]
     },
     "metadata": {},
     "output_type": "display_data"
    },
    {
     "data": {
      "text/html": [
       "<pre>| 2158         | 5.75        | 13.08s       |</pre>"
      ],
      "text/plain": [
       "| 2158         | 5.75        | 13.08s       |"
      ]
     },
     "metadata": {},
     "output_type": "display_data"
    },
    {
     "data": {
      "text/html": [
       "<pre>| 2334         | 6.25        | 14.08s       |</pre>"
      ],
      "text/plain": [
       "| 2334         | 6.25        | 14.08s       |"
      ]
     },
     "metadata": {},
     "output_type": "display_data"
    },
    {
     "data": {
      "text/html": [
       "<pre>| 2499         | 6.75        | 15.09s       |</pre>"
      ],
      "text/plain": [
       "| 2499         | 6.75        | 15.09s       |"
      ]
     },
     "metadata": {},
     "output_type": "display_data"
    },
    {
     "data": {
      "text/html": [
       "<pre>| 2657         | 7.25        | 16.09s       |</pre>"
      ],
      "text/plain": [
       "| 2657         | 7.25        | 16.09s       |"
      ]
     },
     "metadata": {},
     "output_type": "display_data"
    },
    {
     "data": {
      "text/html": [
       "<pre>| 2829         | 7.75        | 17.09s       |</pre>"
      ],
      "text/plain": [
       "| 2829         | 7.75        | 17.09s       |"
      ]
     },
     "metadata": {},
     "output_type": "display_data"
    },
    {
     "data": {
      "text/html": [
       "<pre>| 2993         | 8.25        | 18.10s       |</pre>"
      ],
      "text/plain": [
       "| 2993         | 8.25        | 18.10s       |"
      ]
     },
     "metadata": {},
     "output_type": "display_data"
    },
    {
     "data": {
      "text/html": [
       "<pre>| 3161         | 8.75        | 19.11s       |</pre>"
      ],
      "text/plain": [
       "| 3161         | 8.75        | 19.11s       |"
      ]
     },
     "metadata": {},
     "output_type": "display_data"
    },
    {
     "data": {
      "text/html": [
       "<pre>| 3317         | 9           | 20.11s       |</pre>"
      ],
      "text/plain": [
       "| 3317         | 9           | 20.11s       |"
      ]
     },
     "metadata": {},
     "output_type": "display_data"
    },
    {
     "data": {
      "text/html": [
       "<pre>| 3465         | 9.5         | 21.12s       |</pre>"
      ],
      "text/plain": [
       "| 3465         | 9.5         | 21.12s       |"
      ]
     },
     "metadata": {},
     "output_type": "display_data"
    },
    {
     "data": {
      "text/html": [
       "<pre>| 3628         | 10          | 22.11s       |</pre>"
      ],
      "text/plain": [
       "| 3628         | 10          | 22.11s       |"
      ]
     },
     "metadata": {},
     "output_type": "display_data"
    },
    {
     "data": {
      "text/html": [
       "<pre>| 3790         | 10.5        | 23.11s       |</pre>"
      ],
      "text/plain": [
       "| 3790         | 10.5        | 23.11s       |"
      ]
     },
     "metadata": {},
     "output_type": "display_data"
    },
    {
     "data": {
      "text/html": [
       "<pre>| 3957         | 10.75       | 24.12s       |</pre>"
      ],
      "text/plain": [
       "| 3957         | 10.75       | 24.12s       |"
      ]
     },
     "metadata": {},
     "output_type": "display_data"
    },
    {
     "data": {
      "text/html": [
       "<pre>| 4115         | 11.25       | 25.12s       |</pre>"
      ],
      "text/plain": [
       "| 4115         | 11.25       | 25.12s       |"
      ]
     },
     "metadata": {},
     "output_type": "display_data"
    },
    {
     "data": {
      "text/html": [
       "<pre>| 4291         | 11.75       | 26.12s       |</pre>"
      ],
      "text/plain": [
       "| 4291         | 11.75       | 26.12s       |"
      ]
     },
     "metadata": {},
     "output_type": "display_data"
    },
    {
     "data": {
      "text/html": [
       "<pre>| 4454         | 12.25       | 27.13s       |</pre>"
      ],
      "text/plain": [
       "| 4454         | 12.25       | 27.13s       |"
      ]
     },
     "metadata": {},
     "output_type": "display_data"
    },
    {
     "data": {
      "text/html": [
       "<pre>| 4614         | 12.75       | 28.13s       |</pre>"
      ],
      "text/plain": [
       "| 4614         | 12.75       | 28.13s       |"
      ]
     },
     "metadata": {},
     "output_type": "display_data"
    },
    {
     "data": {
      "text/html": [
       "<pre>| 4799         | 13.25       | 29.13s       |</pre>"
      ],
      "text/plain": [
       "| 4799         | 13.25       | 29.13s       |"
      ]
     },
     "metadata": {},
     "output_type": "display_data"
    },
    {
     "data": {
      "text/html": [
       "<pre>| 4958         | 13.75       | 30.14s       |</pre>"
      ],
      "text/plain": [
       "| 4958         | 13.75       | 30.14s       |"
      ]
     },
     "metadata": {},
     "output_type": "display_data"
    },
    {
     "data": {
      "text/html": [
       "<pre>| 5130         | 14.25       | 31.14s       |</pre>"
      ],
      "text/plain": [
       "| 5130         | 14.25       | 31.14s       |"
      ]
     },
     "metadata": {},
     "output_type": "display_data"
    },
    {
     "data": {
      "text/html": [
       "<pre>| 5314         | 14.75       | 32.15s       |</pre>"
      ],
      "text/plain": [
       "| 5314         | 14.75       | 32.15s       |"
      ]
     },
     "metadata": {},
     "output_type": "display_data"
    },
    {
     "data": {
      "text/html": [
       "<pre>| 5479         | 15          | 33.16s       |</pre>"
      ],
      "text/plain": [
       "| 5479         | 15          | 33.16s       |"
      ]
     },
     "metadata": {},
     "output_type": "display_data"
    },
    {
     "data": {
      "text/html": [
       "<pre>| 5655         | 15.5        | 34.15s       |</pre>"
      ],
      "text/plain": [
       "| 5655         | 15.5        | 34.15s       |"
      ]
     },
     "metadata": {},
     "output_type": "display_data"
    },
    {
     "data": {
      "text/html": [
       "<pre>| 5816         | 16          | 35.16s       |</pre>"
      ],
      "text/plain": [
       "| 5816         | 16          | 35.16s       |"
      ]
     },
     "metadata": {},
     "output_type": "display_data"
    },
    {
     "data": {
      "text/html": [
       "<pre>| 5979         | 16.5        | 36.16s       |</pre>"
      ],
      "text/plain": [
       "| 5979         | 16.5        | 36.16s       |"
      ]
     },
     "metadata": {},
     "output_type": "display_data"
    },
    {
     "data": {
      "text/html": [
       "<pre>| 6143         | 17          | 37.16s       |</pre>"
      ],
      "text/plain": [
       "| 6143         | 17          | 37.16s       |"
      ]
     },
     "metadata": {},
     "output_type": "display_data"
    },
    {
     "data": {
      "text/html": [
       "<pre>| 6304         | 17.5        | 38.17s       |</pre>"
      ],
      "text/plain": [
       "| 6304         | 17.5        | 38.17s       |"
      ]
     },
     "metadata": {},
     "output_type": "display_data"
    },
    {
     "data": {
      "text/html": [
       "<pre>| 6455         | 17.75       | 39.16s       |</pre>"
      ],
      "text/plain": [
       "| 6455         | 17.75       | 39.16s       |"
      ]
     },
     "metadata": {},
     "output_type": "display_data"
    },
    {
     "data": {
      "text/html": [
       "<pre>| 6622         | 18.25       | 40.18s       |</pre>"
      ],
      "text/plain": [
       "| 6622         | 18.25       | 40.18s       |"
      ]
     },
     "metadata": {},
     "output_type": "display_data"
    },
    {
     "data": {
      "text/html": [
       "<pre>| 6775         | 18.75       | 41.18s       |</pre>"
      ],
      "text/plain": [
       "| 6775         | 18.75       | 41.18s       |"
      ]
     },
     "metadata": {},
     "output_type": "display_data"
    },
    {
     "data": {
      "text/html": [
       "<pre>| 6922         | 19          | 42.18s       |</pre>"
      ],
      "text/plain": [
       "| 6922         | 19          | 42.18s       |"
      ]
     },
     "metadata": {},
     "output_type": "display_data"
    },
    {
     "data": {
      "text/html": [
       "<pre>| 7097         | 19.5        | 43.18s       |</pre>"
      ],
      "text/plain": [
       "| 7097         | 19.5        | 43.18s       |"
      ]
     },
     "metadata": {},
     "output_type": "display_data"
    },
    {
     "data": {
      "text/html": [
       "<pre>| 7263         | 20          | 44.19s       |</pre>"
      ],
      "text/plain": [
       "| 7263         | 20          | 44.19s       |"
      ]
     },
     "metadata": {},
     "output_type": "display_data"
    },
    {
     "data": {
      "text/html": [
       "<pre>| 7416         | 20.5        | 45.18s       |</pre>"
      ],
      "text/plain": [
       "| 7416         | 20.5        | 45.18s       |"
      ]
     },
     "metadata": {},
     "output_type": "display_data"
    },
    {
     "data": {
      "text/html": [
       "<pre>| 7587         | 21          | 46.20s       |</pre>"
      ],
      "text/plain": [
       "| 7587         | 21          | 46.20s       |"
      ]
     },
     "metadata": {},
     "output_type": "display_data"
    },
    {
     "data": {
      "text/html": [
       "<pre>| 7739         | 21.5        | 47.20s       |</pre>"
      ],
      "text/plain": [
       "| 7739         | 21.5        | 47.20s       |"
      ]
     },
     "metadata": {},
     "output_type": "display_data"
    },
    {
     "data": {
      "text/html": [
       "<pre>| 7912         | 21.75       | 48.20s       |</pre>"
      ],
      "text/plain": [
       "| 7912         | 21.75       | 48.20s       |"
      ]
     },
     "metadata": {},
     "output_type": "display_data"
    },
    {
     "data": {
      "text/html": [
       "<pre>| 8077         | 22.25       | 49.20s       |</pre>"
      ],
      "text/plain": [
       "| 8077         | 22.25       | 49.20s       |"
      ]
     },
     "metadata": {},
     "output_type": "display_data"
    },
    {
     "data": {
      "text/html": [
       "<pre>| 8241         | 22.75       | 50.20s       |</pre>"
      ],
      "text/plain": [
       "| 8241         | 22.75       | 50.20s       |"
      ]
     },
     "metadata": {},
     "output_type": "display_data"
    },
    {
     "data": {
      "text/html": [
       "<pre>| 8390         | 23.25       | 51.21s       |</pre>"
      ],
      "text/plain": [
       "| 8390         | 23.25       | 51.21s       |"
      ]
     },
     "metadata": {},
     "output_type": "display_data"
    },
    {
     "data": {
      "text/html": [
       "<pre>| 8545         | 23.5        | 52.20s       |</pre>"
      ],
      "text/plain": [
       "| 8545         | 23.5        | 52.20s       |"
      ]
     },
     "metadata": {},
     "output_type": "display_data"
    },
    {
     "data": {
      "text/html": [
       "<pre>| 8700         | 24          | 53.22s       |</pre>"
      ],
      "text/plain": [
       "| 8700         | 24          | 53.22s       |"
      ]
     },
     "metadata": {},
     "output_type": "display_data"
    },
    {
     "data": {
      "text/html": [
       "<pre>| 8857         | 24.5        | 54.22s       |</pre>"
      ],
      "text/plain": [
       "| 8857         | 24.5        | 54.22s       |"
      ]
     },
     "metadata": {},
     "output_type": "display_data"
    },
    {
     "data": {
      "text/html": [
       "<pre>| 9008         | 25          | 55.24s       |</pre>"
      ],
      "text/plain": [
       "| 9008         | 25          | 55.24s       |"
      ]
     },
     "metadata": {},
     "output_type": "display_data"
    },
    {
     "data": {
      "text/html": [
       "<pre>| 9172         | 25.25       | 56.22s       |</pre>"
      ],
      "text/plain": [
       "| 9172         | 25.25       | 56.22s       |"
      ]
     },
     "metadata": {},
     "output_type": "display_data"
    },
    {
     "data": {
      "text/html": [
       "<pre>| 9333         | 25.75       | 57.23s       |</pre>"
      ],
      "text/plain": [
       "| 9333         | 25.75       | 57.23s       |"
      ]
     },
     "metadata": {},
     "output_type": "display_data"
    },
    {
     "data": {
      "text/html": [
       "<pre>| 9501         | 26.25       | 58.23s       |</pre>"
      ],
      "text/plain": [
       "| 9501         | 26.25       | 58.23s       |"
      ]
     },
     "metadata": {},
     "output_type": "display_data"
    },
    {
     "data": {
      "text/html": [
       "<pre>| 9663         | 26.75       | 59.24s       |</pre>"
      ],
      "text/plain": [
       "| 9663         | 26.75       | 59.24s       |"
      ]
     },
     "metadata": {},
     "output_type": "display_data"
    },
    {
     "data": {
      "text/html": [
       "<pre>| 9810         | 27.25       | 1m 0s        |</pre>"
      ],
      "text/plain": [
       "| 9810         | 27.25       | 1m 0s        |"
      ]
     },
     "metadata": {},
     "output_type": "display_data"
    },
    {
     "data": {
      "text/html": [
       "<pre>| 9979         | 27.5        | 1m 1s        |</pre>"
      ],
      "text/plain": [
       "| 9979         | 27.5        | 1m 1s        |"
      ]
     },
     "metadata": {},
     "output_type": "display_data"
    },
    {
     "data": {
      "text/html": [
       "<pre>| 10145        | 28          | 1m 2s        |</pre>"
      ],
      "text/plain": [
       "| 10145        | 28          | 1m 2s        |"
      ]
     },
     "metadata": {},
     "output_type": "display_data"
    },
    {
     "data": {
      "text/html": [
       "<pre>| 10290        | 28.5        | 1m 3s        |</pre>"
      ],
      "text/plain": [
       "| 10290        | 28.5        | 1m 3s        |"
      ]
     },
     "metadata": {},
     "output_type": "display_data"
    },
    {
     "data": {
      "text/html": [
       "<pre>| 10437        | 29          | 1m 4s        |</pre>"
      ],
      "text/plain": [
       "| 10437        | 29          | 1m 4s        |"
      ]
     },
     "metadata": {},
     "output_type": "display_data"
    },
    {
     "data": {
      "text/html": [
       "<pre>| 10585        | 29.25       | 1m 5s        |</pre>"
      ],
      "text/plain": [
       "| 10585        | 29.25       | 1m 5s        |"
      ]
     },
     "metadata": {},
     "output_type": "display_data"
    },
    {
     "data": {
      "text/html": [
       "<pre>| 10746        | 29.75       | 1m 6s        |</pre>"
      ],
      "text/plain": [
       "| 10746        | 29.75       | 1m 6s        |"
      ]
     },
     "metadata": {},
     "output_type": "display_data"
    },
    {
     "data": {
      "text/html": [
       "<pre>| 10925        | 30.25       | 1m 7s        |</pre>"
      ],
      "text/plain": [
       "| 10925        | 30.25       | 1m 7s        |"
      ]
     },
     "metadata": {},
     "output_type": "display_data"
    },
    {
     "data": {
      "text/html": [
       "<pre>| 11069        | 30.75       | 1m 8s        |</pre>"
      ],
      "text/plain": [
       "| 11069        | 30.75       | 1m 8s        |"
      ]
     },
     "metadata": {},
     "output_type": "display_data"
    },
    {
     "data": {
      "text/html": [
       "<pre>| 11227        | 31          | 1m 9s        |</pre>"
      ],
      "text/plain": [
       "| 11227        | 31          | 1m 9s        |"
      ]
     },
     "metadata": {},
     "output_type": "display_data"
    },
    {
     "data": {
      "text/html": [
       "<pre>| 11401        | 31.5        | 1m 10s       |</pre>"
      ],
      "text/plain": [
       "| 11401        | 31.5        | 1m 10s       |"
      ]
     },
     "metadata": {},
     "output_type": "display_data"
    },
    {
     "data": {
      "text/html": [
       "<pre>| 11584        | 32          | 1m 11s       |</pre>"
      ],
      "text/plain": [
       "| 11584        | 32          | 1m 11s       |"
      ]
     },
     "metadata": {},
     "output_type": "display_data"
    },
    {
     "data": {
      "text/html": [
       "<pre>| 11763        | 32.5        | 1m 12s       |</pre>"
      ],
      "text/plain": [
       "| 11763        | 32.5        | 1m 12s       |"
      ]
     },
     "metadata": {},
     "output_type": "display_data"
    },
    {
     "data": {
      "text/html": [
       "<pre>| 11920        | 33          | 1m 13s       |</pre>"
      ],
      "text/plain": [
       "| 11920        | 33          | 1m 13s       |"
      ]
     },
     "metadata": {},
     "output_type": "display_data"
    },
    {
     "data": {
      "text/html": [
       "<pre>| 12074        | 33.5        | 1m 14s       |</pre>"
      ],
      "text/plain": [
       "| 12074        | 33.5        | 1m 14s       |"
      ]
     },
     "metadata": {},
     "output_type": "display_data"
    },
    {
     "data": {
      "text/html": [
       "<pre>| 12258        | 34          | 1m 15s       |</pre>"
      ],
      "text/plain": [
       "| 12258        | 34          | 1m 15s       |"
      ]
     },
     "metadata": {},
     "output_type": "display_data"
    },
    {
     "data": {
      "text/html": [
       "<pre>| 12408        | 34.25       | 1m 16s       |</pre>"
      ],
      "text/plain": [
       "| 12408        | 34.25       | 1m 16s       |"
      ]
     },
     "metadata": {},
     "output_type": "display_data"
    },
    {
     "data": {
      "text/html": [
       "<pre>| 12569        | 34.75       | 1m 17s       |</pre>"
      ],
      "text/plain": [
       "| 12569        | 34.75       | 1m 17s       |"
      ]
     },
     "metadata": {},
     "output_type": "display_data"
    },
    {
     "data": {
      "text/html": [
       "<pre>| 12735        | 35.25       | 1m 18s       |</pre>"
      ],
      "text/plain": [
       "| 12735        | 35.25       | 1m 18s       |"
      ]
     },
     "metadata": {},
     "output_type": "display_data"
    },
    {
     "data": {
      "text/html": [
       "<pre>| 12921        | 35.75       | 1m 19s       |</pre>"
      ],
      "text/plain": [
       "| 12921        | 35.75       | 1m 19s       |"
      ]
     },
     "metadata": {},
     "output_type": "display_data"
    },
    {
     "data": {
      "text/html": [
       "<pre>| 13089        | 36.25       | 1m 20s       |</pre>"
      ],
      "text/plain": [
       "| 13089        | 36.25       | 1m 20s       |"
      ]
     },
     "metadata": {},
     "output_type": "display_data"
    },
    {
     "data": {
      "text/html": [
       "<pre>| 13218        | 36.5        | 1m 21s       |</pre>"
      ],
      "text/plain": [
       "| 13218        | 36.5        | 1m 21s       |"
      ]
     },
     "metadata": {},
     "output_type": "display_data"
    },
    {
     "data": {
      "text/html": [
       "<pre>| 13341        | 37          | 1m 22s       |</pre>"
      ],
      "text/plain": [
       "| 13341        | 37          | 1m 22s       |"
      ]
     },
     "metadata": {},
     "output_type": "display_data"
    },
    {
     "data": {
      "text/html": [
       "<pre>| 13422        | 37.25       | 1m 23s       |</pre>"
      ],
      "text/plain": [
       "| 13422        | 37.25       | 1m 23s       |"
      ]
     },
     "metadata": {},
     "output_type": "display_data"
    },
    {
     "data": {
      "text/html": [
       "<pre>| 13579        | 37.5        | 1m 24s       |</pre>"
      ],
      "text/plain": [
       "| 13579        | 37.5        | 1m 24s       |"
      ]
     },
     "metadata": {},
     "output_type": "display_data"
    },
    {
     "data": {
      "text/html": [
       "<pre>| 13740        | 38          | 1m 25s       |</pre>"
      ],
      "text/plain": [
       "| 13740        | 38          | 1m 25s       |"
      ]
     },
     "metadata": {},
     "output_type": "display_data"
    },
    {
     "data": {
      "text/html": [
       "<pre>| 13861        | 38.5        | 1m 26s       |</pre>"
      ],
      "text/plain": [
       "| 13861        | 38.5        | 1m 26s       |"
      ]
     },
     "metadata": {},
     "output_type": "display_data"
    },
    {
     "data": {
      "text/html": [
       "<pre>| 13954        | 38.75       | 1m 27s       |</pre>"
      ],
      "text/plain": [
       "| 13954        | 38.75       | 1m 27s       |"
      ]
     },
     "metadata": {},
     "output_type": "display_data"
    },
    {
     "data": {
      "text/html": [
       "<pre>| 14083        | 39          | 1m 28s       |</pre>"
      ],
      "text/plain": [
       "| 14083        | 39          | 1m 28s       |"
      ]
     },
     "metadata": {},
     "output_type": "display_data"
    },
    {
     "data": {
      "text/html": [
       "<pre>| 14268        | 39.5        | 1m 29s       |</pre>"
      ],
      "text/plain": [
       "| 14268        | 39.5        | 1m 29s       |"
      ]
     },
     "metadata": {},
     "output_type": "display_data"
    },
    {
     "data": {
      "text/html": [
       "<pre>| 14423        | 40          | 1m 30s       |</pre>"
      ],
      "text/plain": [
       "| 14423        | 40          | 1m 30s       |"
      ]
     },
     "metadata": {},
     "output_type": "display_data"
    },
    {
     "data": {
      "text/html": [
       "<pre>| 14576        | 40.5        | 1m 31s       |</pre>"
      ],
      "text/plain": [
       "| 14576        | 40.5        | 1m 31s       |"
      ]
     },
     "metadata": {},
     "output_type": "display_data"
    },
    {
     "data": {
      "text/html": [
       "<pre>| 14764        | 41          | 1m 32s       |</pre>"
      ],
      "text/plain": [
       "| 14764        | 41          | 1m 32s       |"
      ]
     },
     "metadata": {},
     "output_type": "display_data"
    },
    {
     "data": {
      "text/html": [
       "<pre>| 14929        | 41.25       | 1m 33s       |</pre>"
      ],
      "text/plain": [
       "| 14929        | 41.25       | 1m 33s       |"
      ]
     },
     "metadata": {},
     "output_type": "display_data"
    },
    {
     "data": {
      "text/html": [
       "<pre>| 15098        | 41.75       | 1m 34s       |</pre>"
      ],
      "text/plain": [
       "| 15098        | 41.75       | 1m 34s       |"
      ]
     },
     "metadata": {},
     "output_type": "display_data"
    },
    {
     "data": {
      "text/html": [
       "<pre>| 15269        | 42.25       | 1m 35s       |</pre>"
      ],
      "text/plain": [
       "| 15269        | 42.25       | 1m 35s       |"
      ]
     },
     "metadata": {},
     "output_type": "display_data"
    },
    {
     "data": {
      "text/html": [
       "<pre>| 15439        | 42.75       | 1m 36s       |</pre>"
      ],
      "text/plain": [
       "| 15439        | 42.75       | 1m 36s       |"
      ]
     },
     "metadata": {},
     "output_type": "display_data"
    },
    {
     "data": {
      "text/html": [
       "<pre>| 15641        | 43.25       | 1m 37s       |</pre>"
      ],
      "text/plain": [
       "| 15641        | 43.25       | 1m 37s       |"
      ]
     },
     "metadata": {},
     "output_type": "display_data"
    },
    {
     "data": {
      "text/html": [
       "<pre>| 15805        | 43.75       | 1m 38s       |</pre>"
      ],
      "text/plain": [
       "| 15805        | 43.75       | 1m 38s       |"
      ]
     },
     "metadata": {},
     "output_type": "display_data"
    },
    {
     "data": {
      "text/html": [
       "<pre>| 15954        | 44.25       | 1m 39s       |</pre>"
      ],
      "text/plain": [
       "| 15954        | 44.25       | 1m 39s       |"
      ]
     },
     "metadata": {},
     "output_type": "display_data"
    },
    {
     "data": {
      "text/html": [
       "<pre>| 16134        | 44.75       | 1m 40s       |</pre>"
      ],
      "text/plain": [
       "| 16134        | 44.75       | 1m 40s       |"
      ]
     },
     "metadata": {},
     "output_type": "display_data"
    },
    {
     "data": {
      "text/html": [
       "<pre>| 16294        | 45.25       | 1m 41s       |</pre>"
      ],
      "text/plain": [
       "| 16294        | 45.25       | 1m 41s       |"
      ]
     },
     "metadata": {},
     "output_type": "display_data"
    },
    {
     "data": {
      "text/html": [
       "<pre>| 16458        | 45.5        | 1m 42s       |</pre>"
      ],
      "text/plain": [
       "| 16458        | 45.5        | 1m 42s       |"
      ]
     },
     "metadata": {},
     "output_type": "display_data"
    },
    {
     "data": {
      "text/html": [
       "<pre>| 16623        | 46          | 1m 43s       |</pre>"
      ],
      "text/plain": [
       "| 16623        | 46          | 1m 43s       |"
      ]
     },
     "metadata": {},
     "output_type": "display_data"
    },
    {
     "data": {
      "text/html": [
       "<pre>| 16798        | 46.5        | 1m 44s       |</pre>"
      ],
      "text/plain": [
       "| 16798        | 46.5        | 1m 44s       |"
      ]
     },
     "metadata": {},
     "output_type": "display_data"
    },
    {
     "data": {
      "text/html": [
       "<pre>| 16959        | 47          | 1m 45s       |</pre>"
      ],
      "text/plain": [
       "| 16959        | 47          | 1m 45s       |"
      ]
     },
     "metadata": {},
     "output_type": "display_data"
    },
    {
     "data": {
      "text/html": [
       "<pre>| 17129        | 47.5        | 1m 46s       |</pre>"
      ],
      "text/plain": [
       "| 17129        | 47.5        | 1m 46s       |"
      ]
     },
     "metadata": {},
     "output_type": "display_data"
    },
    {
     "data": {
      "text/html": [
       "<pre>| 17274        | 48          | 1m 47s       |</pre>"
      ],
      "text/plain": [
       "| 17274        | 48          | 1m 47s       |"
      ]
     },
     "metadata": {},
     "output_type": "display_data"
    },
    {
     "data": {
      "text/html": [
       "<pre>| 17427        | 48.25       | 1m 48s       |</pre>"
      ],
      "text/plain": [
       "| 17427        | 48.25       | 1m 48s       |"
      ]
     },
     "metadata": {},
     "output_type": "display_data"
    },
    {
     "data": {
      "text/html": [
       "<pre>| 17595        | 48.75       | 1m 49s       |</pre>"
      ],
      "text/plain": [
       "| 17595        | 48.75       | 1m 49s       |"
      ]
     },
     "metadata": {},
     "output_type": "display_data"
    },
    {
     "data": {
      "text/html": [
       "<pre>| 17777        | 49.25       | 1m 50s       |</pre>"
      ],
      "text/plain": [
       "| 17777        | 49.25       | 1m 50s       |"
      ]
     },
     "metadata": {},
     "output_type": "display_data"
    },
    {
     "data": {
      "text/html": [
       "<pre>| 17954        | 49.75       | 1m 51s       |</pre>"
      ],
      "text/plain": [
       "| 17954        | 49.75       | 1m 51s       |"
      ]
     },
     "metadata": {},
     "output_type": "display_data"
    },
    {
     "data": {
      "text/html": [
       "<pre>| 18112        | 50.25       | 1m 52s       |</pre>"
      ],
      "text/plain": [
       "| 18112        | 50.25       | 1m 52s       |"
      ]
     },
     "metadata": {},
     "output_type": "display_data"
    },
    {
     "data": {
      "text/html": [
       "<pre>| 18287        | 50.75       | 1m 53s       |</pre>"
      ],
      "text/plain": [
       "| 18287        | 50.75       | 1m 53s       |"
      ]
     },
     "metadata": {},
     "output_type": "display_data"
    },
    {
     "data": {
      "text/html": [
       "<pre>| 18435        | 51          | 1m 54s       |</pre>"
      ],
      "text/plain": [
       "| 18435        | 51          | 1m 54s       |"
      ]
     },
     "metadata": {},
     "output_type": "display_data"
    },
    {
     "data": {
      "text/html": [
       "<pre>| 18606        | 51.5        | 1m 55s       |</pre>"
      ],
      "text/plain": [
       "| 18606        | 51.5        | 1m 55s       |"
      ]
     },
     "metadata": {},
     "output_type": "display_data"
    },
    {
     "data": {
      "text/html": [
       "<pre>| 18792        | 52          | 1m 56s       |</pre>"
      ],
      "text/plain": [
       "| 18792        | 52          | 1m 56s       |"
      ]
     },
     "metadata": {},
     "output_type": "display_data"
    },
    {
     "data": {
      "text/html": [
       "<pre>| 18952        | 52.5        | 1m 57s       |</pre>"
      ],
      "text/plain": [
       "| 18952        | 52.5        | 1m 57s       |"
      ]
     },
     "metadata": {},
     "output_type": "display_data"
    },
    {
     "data": {
      "text/html": [
       "<pre>| 19113        | 53          | 1m 58s       |</pre>"
      ],
      "text/plain": [
       "| 19113        | 53          | 1m 58s       |"
      ]
     },
     "metadata": {},
     "output_type": "display_data"
    },
    {
     "data": {
      "text/html": [
       "<pre>| 19284        | 53.5        | 1m 59s       |</pre>"
      ],
      "text/plain": [
       "| 19284        | 53.5        | 1m 59s       |"
      ]
     },
     "metadata": {},
     "output_type": "display_data"
    },
    {
     "data": {
      "text/html": [
       "<pre>| 19468        | 54          | 2m 0s        |</pre>"
      ],
      "text/plain": [
       "| 19468        | 54          | 2m 0s        |"
      ]
     },
     "metadata": {},
     "output_type": "display_data"
    },
    {
     "data": {
      "text/html": [
       "<pre>| 19636        | 54.5        | 2m 1s        |</pre>"
      ],
      "text/plain": [
       "| 19636        | 54.5        | 2m 1s        |"
      ]
     },
     "metadata": {},
     "output_type": "display_data"
    },
    {
     "data": {
      "text/html": [
       "<pre>| 19802        | 55          | 2m 2s        |</pre>"
      ],
      "text/plain": [
       "| 19802        | 55          | 2m 2s        |"
      ]
     },
     "metadata": {},
     "output_type": "display_data"
    },
    {
     "data": {
      "text/html": [
       "<pre>| 19975        | 55.5        | 2m 3s        |</pre>"
      ],
      "text/plain": [
       "| 19975        | 55.5        | 2m 3s        |"
      ]
     },
     "metadata": {},
     "output_type": "display_data"
    },
    {
     "data": {
      "text/html": [
       "<pre>| 20135        | 55.75       | 2m 4s        |</pre>"
      ],
      "text/plain": [
       "| 20135        | 55.75       | 2m 4s        |"
      ]
     },
     "metadata": {},
     "output_type": "display_data"
    },
    {
     "data": {
      "text/html": [
       "<pre>| 20298        | 56.25       | 2m 5s        |</pre>"
      ],
      "text/plain": [
       "| 20298        | 56.25       | 2m 5s        |"
      ]
     },
     "metadata": {},
     "output_type": "display_data"
    },
    {
     "data": {
      "text/html": [
       "<pre>| 20459        | 56.75       | 2m 6s        |</pre>"
      ],
      "text/plain": [
       "| 20459        | 56.75       | 2m 6s        |"
      ]
     },
     "metadata": {},
     "output_type": "display_data"
    },
    {
     "data": {
      "text/html": [
       "<pre>| 20609        | 57.25       | 2m 7s        |</pre>"
      ],
      "text/plain": [
       "| 20609        | 57.25       | 2m 7s        |"
      ]
     },
     "metadata": {},
     "output_type": "display_data"
    },
    {
     "data": {
      "text/html": [
       "<pre>| 20772        | 57.5        | 2m 8s        |</pre>"
      ],
      "text/plain": [
       "| 20772        | 57.5        | 2m 8s        |"
      ]
     },
     "metadata": {},
     "output_type": "display_data"
    },
    {
     "data": {
      "text/html": [
       "<pre>| 20935        | 58          | 2m 9s        |</pre>"
      ],
      "text/plain": [
       "| 20935        | 58          | 2m 9s        |"
      ]
     },
     "metadata": {},
     "output_type": "display_data"
    },
    {
     "data": {
      "text/html": [
       "<pre>| 21086        | 58.5        | 2m 10s       |</pre>"
      ],
      "text/plain": [
       "| 21086        | 58.5        | 2m 10s       |"
      ]
     },
     "metadata": {},
     "output_type": "display_data"
    },
    {
     "data": {
      "text/html": [
       "<pre>| 21248        | 59          | 2m 11s       |</pre>"
      ],
      "text/plain": [
       "| 21248        | 59          | 2m 11s       |"
      ]
     },
     "metadata": {},
     "output_type": "display_data"
    },
    {
     "data": {
      "text/html": [
       "<pre>| 21423        | 59.5        | 2m 12s       |</pre>"
      ],
      "text/plain": [
       "| 21423        | 59.5        | 2m 12s       |"
      ]
     },
     "metadata": {},
     "output_type": "display_data"
    },
    {
     "data": {
      "text/html": [
       "<pre>| 21580        | 59.75       | 2m 13s       |</pre>"
      ],
      "text/plain": [
       "| 21580        | 59.75       | 2m 13s       |"
      ]
     },
     "metadata": {},
     "output_type": "display_data"
    },
    {
     "data": {
      "text/html": [
       "<pre>| 21741        | 60.25       | 2m 14s       |</pre>"
      ],
      "text/plain": [
       "| 21741        | 60.25       | 2m 14s       |"
      ]
     },
     "metadata": {},
     "output_type": "display_data"
    },
    {
     "data": {
      "text/html": [
       "<pre>| 21897        | 60.75       | 2m 15s       |</pre>"
      ],
      "text/plain": [
       "| 21897        | 60.75       | 2m 15s       |"
      ]
     },
     "metadata": {},
     "output_type": "display_data"
    },
    {
     "data": {
      "text/html": [
       "<pre>| 22065        | 61.25       | 2m 16s       |</pre>"
      ],
      "text/plain": [
       "| 22065        | 61.25       | 2m 16s       |"
      ]
     },
     "metadata": {},
     "output_type": "display_data"
    },
    {
     "data": {
      "text/html": [
       "<pre>| 22230        | 61.75       | 2m 17s       |</pre>"
      ],
      "text/plain": [
       "| 22230        | 61.75       | 2m 17s       |"
      ]
     },
     "metadata": {},
     "output_type": "display_data"
    },
    {
     "data": {
      "text/html": [
       "<pre>| 22378        | 62          | 2m 18s       |</pre>"
      ],
      "text/plain": [
       "| 22378        | 62          | 2m 18s       |"
      ]
     },
     "metadata": {},
     "output_type": "display_data"
    },
    {
     "data": {
      "text/html": [
       "<pre>| 22536        | 62.5        | 2m 19s       |</pre>"
      ],
      "text/plain": [
       "| 22536        | 62.5        | 2m 19s       |"
      ]
     },
     "metadata": {},
     "output_type": "display_data"
    },
    {
     "data": {
      "text/html": [
       "<pre>| 22622        | 62.75       | 2m 20s       |</pre>"
      ],
      "text/plain": [
       "| 22622        | 62.75       | 2m 20s       |"
      ]
     },
     "metadata": {},
     "output_type": "display_data"
    },
    {
     "data": {
      "text/html": [
       "<pre>| 22753        | 63          | 2m 21s       |</pre>"
      ],
      "text/plain": [
       "| 22753        | 63          | 2m 21s       |"
      ]
     },
     "metadata": {},
     "output_type": "display_data"
    },
    {
     "data": {
      "text/html": [
       "<pre>| 22824        | 63.25       | 2m 22s       |</pre>"
      ],
      "text/plain": [
       "| 22824        | 63.25       | 2m 22s       |"
      ]
     },
     "metadata": {},
     "output_type": "display_data"
    },
    {
     "data": {
      "text/html": [
       "<pre>| 22968        | 63.75       | 2m 23s       |</pre>"
      ],
      "text/plain": [
       "| 22968        | 63.75       | 2m 23s       |"
      ]
     },
     "metadata": {},
     "output_type": "display_data"
    },
    {
     "data": {
      "text/html": [
       "<pre>| 23121        | 64.25       | 2m 24s       |</pre>"
      ],
      "text/plain": [
       "| 23121        | 64.25       | 2m 24s       |"
      ]
     },
     "metadata": {},
     "output_type": "display_data"
    },
    {
     "data": {
      "text/html": [
       "<pre>| 23272        | 64.5        | 2m 25s       |</pre>"
      ],
      "text/plain": [
       "| 23272        | 64.5        | 2m 25s       |"
      ]
     },
     "metadata": {},
     "output_type": "display_data"
    },
    {
     "data": {
      "text/html": [
       "<pre>| 23400        | 65          | 2m 26s       |</pre>"
      ],
      "text/plain": [
       "| 23400        | 65          | 2m 26s       |"
      ]
     },
     "metadata": {},
     "output_type": "display_data"
    },
    {
     "data": {
      "text/html": [
       "<pre>| 23522        | 65.25       | 2m 27s       |</pre>"
      ],
      "text/plain": [
       "| 23522        | 65.25       | 2m 27s       |"
      ]
     },
     "metadata": {},
     "output_type": "display_data"
    },
    {
     "data": {
      "text/html": [
       "<pre>| 23684        | 65.75       | 2m 28s       |</pre>"
      ],
      "text/plain": [
       "| 23684        | 65.75       | 2m 28s       |"
      ]
     },
     "metadata": {},
     "output_type": "display_data"
    },
    {
     "data": {
      "text/html": [
       "<pre>| 23847        | 66.25       | 2m 29s       |</pre>"
      ],
      "text/plain": [
       "| 23847        | 66.25       | 2m 29s       |"
      ]
     },
     "metadata": {},
     "output_type": "display_data"
    },
    {
     "data": {
      "text/html": [
       "<pre>| 24017        | 66.5        | 2m 30s       |</pre>"
      ],
      "text/plain": [
       "| 24017        | 66.5        | 2m 30s       |"
      ]
     },
     "metadata": {},
     "output_type": "display_data"
    },
    {
     "data": {
      "text/html": [
       "<pre>| 24170        | 67          | 2m 31s       |</pre>"
      ],
      "text/plain": [
       "| 24170        | 67          | 2m 31s       |"
      ]
     },
     "metadata": {},
     "output_type": "display_data"
    },
    {
     "data": {
      "text/html": [
       "<pre>| 24339        | 67.5        | 2m 32s       |</pre>"
      ],
      "text/plain": [
       "| 24339        | 67.5        | 2m 32s       |"
      ]
     },
     "metadata": {},
     "output_type": "display_data"
    },
    {
     "data": {
      "text/html": [
       "<pre>| 24504        | 68          | 2m 33s       |</pre>"
      ],
      "text/plain": [
       "| 24504        | 68          | 2m 33s       |"
      ]
     },
     "metadata": {},
     "output_type": "display_data"
    },
    {
     "data": {
      "text/html": [
       "<pre>| 24650        | 68.5        | 2m 34s       |</pre>"
      ],
      "text/plain": [
       "| 24650        | 68.5        | 2m 34s       |"
      ]
     },
     "metadata": {},
     "output_type": "display_data"
    },
    {
     "data": {
      "text/html": [
       "<pre>| 24810        | 68.75       | 2m 35s       |</pre>"
      ],
      "text/plain": [
       "| 24810        | 68.75       | 2m 35s       |"
      ]
     },
     "metadata": {},
     "output_type": "display_data"
    },
    {
     "data": {
      "text/html": [
       "<pre>| 24962        | 69.25       | 2m 36s       |</pre>"
      ],
      "text/plain": [
       "| 24962        | 69.25       | 2m 36s       |"
      ]
     },
     "metadata": {},
     "output_type": "display_data"
    },
    {
     "data": {
      "text/html": [
       "<pre>| 25115        | 69.75       | 2m 37s       |</pre>"
      ],
      "text/plain": [
       "| 25115        | 69.75       | 2m 37s       |"
      ]
     },
     "metadata": {},
     "output_type": "display_data"
    },
    {
     "data": {
      "text/html": [
       "<pre>| 25267        | 70          | 2m 38s       |</pre>"
      ],
      "text/plain": [
       "| 25267        | 70          | 2m 38s       |"
      ]
     },
     "metadata": {},
     "output_type": "display_data"
    },
    {
     "data": {
      "text/html": [
       "<pre>| 25434        | 70.5        | 2m 39s       |</pre>"
      ],
      "text/plain": [
       "| 25434        | 70.5        | 2m 39s       |"
      ]
     },
     "metadata": {},
     "output_type": "display_data"
    },
    {
     "data": {
      "text/html": [
       "<pre>| 25597        | 71          | 2m 40s       |</pre>"
      ],
      "text/plain": [
       "| 25597        | 71          | 2m 40s       |"
      ]
     },
     "metadata": {},
     "output_type": "display_data"
    },
    {
     "data": {
      "text/html": [
       "<pre>| 25790        | 71.5        | 2m 41s       |</pre>"
      ],
      "text/plain": [
       "| 25790        | 71.5        | 2m 41s       |"
      ]
     },
     "metadata": {},
     "output_type": "display_data"
    },
    {
     "data": {
      "text/html": [
       "<pre>| 25944        | 72          | 2m 42s       |</pre>"
      ],
      "text/plain": [
       "| 25944        | 72          | 2m 42s       |"
      ]
     },
     "metadata": {},
     "output_type": "display_data"
    },
    {
     "data": {
      "text/html": [
       "<pre>| 26104        | 72.5        | 2m 43s       |</pre>"
      ],
      "text/plain": [
       "| 26104        | 72.5        | 2m 43s       |"
      ]
     },
     "metadata": {},
     "output_type": "display_data"
    },
    {
     "data": {
      "text/html": [
       "<pre>| 26279        | 73          | 2m 44s       |</pre>"
      ],
      "text/plain": [
       "| 26279        | 73          | 2m 44s       |"
      ]
     },
     "metadata": {},
     "output_type": "display_data"
    },
    {
     "data": {
      "text/html": [
       "<pre>| 26444        | 73.25       | 2m 45s       |</pre>"
      ],
      "text/plain": [
       "| 26444        | 73.25       | 2m 45s       |"
      ]
     },
     "metadata": {},
     "output_type": "display_data"
    },
    {
     "data": {
      "text/html": [
       "<pre>| 26616        | 73.75       | 2m 46s       |</pre>"
      ],
      "text/plain": [
       "| 26616        | 73.75       | 2m 46s       |"
      ]
     },
     "metadata": {},
     "output_type": "display_data"
    },
    {
     "data": {
      "text/html": [
       "<pre>| 26792        | 74.25       | 2m 47s       |</pre>"
      ],
      "text/plain": [
       "| 26792        | 74.25       | 2m 47s       |"
      ]
     },
     "metadata": {},
     "output_type": "display_data"
    },
    {
     "data": {
      "text/html": [
       "<pre>| 26949        | 74.75       | 2m 48s       |</pre>"
      ],
      "text/plain": [
       "| 26949        | 74.75       | 2m 48s       |"
      ]
     },
     "metadata": {},
     "output_type": "display_data"
    },
    {
     "data": {
      "text/html": [
       "<pre>| 27098        | 75.25       | 2m 49s       |</pre>"
      ],
      "text/plain": [
       "| 27098        | 75.25       | 2m 49s       |"
      ]
     },
     "metadata": {},
     "output_type": "display_data"
    },
    {
     "data": {
      "text/html": [
       "<pre>| 27238        | 75.5        | 2m 50s       |</pre>"
      ],
      "text/plain": [
       "| 27238        | 75.5        | 2m 50s       |"
      ]
     },
     "metadata": {},
     "output_type": "display_data"
    },
    {
     "data": {
      "text/html": [
       "<pre>| 27396        | 76          | 2m 51s       |</pre>"
      ],
      "text/plain": [
       "| 27396        | 76          | 2m 51s       |"
      ]
     },
     "metadata": {},
     "output_type": "display_data"
    },
    {
     "data": {
      "text/html": [
       "<pre>| 27546        | 76.5        | 2m 52s       |</pre>"
      ],
      "text/plain": [
       "| 27546        | 76.5        | 2m 52s       |"
      ]
     },
     "metadata": {},
     "output_type": "display_data"
    },
    {
     "data": {
      "text/html": [
       "<pre>| 27709        | 77          | 2m 53s       |</pre>"
      ],
      "text/plain": [
       "| 27709        | 77          | 2m 53s       |"
      ]
     },
     "metadata": {},
     "output_type": "display_data"
    },
    {
     "data": {
      "text/html": [
       "<pre>| 27880        | 77.25       | 2m 54s       |</pre>"
      ],
      "text/plain": [
       "| 27880        | 77.25       | 2m 54s       |"
      ]
     },
     "metadata": {},
     "output_type": "display_data"
    },
    {
     "data": {
      "text/html": [
       "<pre>| 28045        | 77.75       | 2m 55s       |</pre>"
      ],
      "text/plain": [
       "| 28045        | 77.75       | 2m 55s       |"
      ]
     },
     "metadata": {},
     "output_type": "display_data"
    },
    {
     "data": {
      "text/html": [
       "<pre>| 28187        | 78.25       | 2m 56s       |</pre>"
      ],
      "text/plain": [
       "| 28187        | 78.25       | 2m 56s       |"
      ]
     },
     "metadata": {},
     "output_type": "display_data"
    },
    {
     "data": {
      "text/html": [
       "<pre>| 28343        | 78.75       | 2m 57s       |</pre>"
      ],
      "text/plain": [
       "| 28343        | 78.75       | 2m 57s       |"
      ]
     },
     "metadata": {},
     "output_type": "display_data"
    },
    {
     "data": {
      "text/html": [
       "<pre>| 28517        | 79          | 2m 58s       |</pre>"
      ],
      "text/plain": [
       "| 28517        | 79          | 2m 58s       |"
      ]
     },
     "metadata": {},
     "output_type": "display_data"
    },
    {
     "data": {
      "text/html": [
       "<pre>| 28677        | 79.5        | 2m 59s       |</pre>"
      ],
      "text/plain": [
       "| 28677        | 79.5        | 2m 59s       |"
      ]
     },
     "metadata": {},
     "output_type": "display_data"
    },
    {
     "data": {
      "text/html": [
       "<pre>| 28842        | 80          | 3m 0s        |</pre>"
      ],
      "text/plain": [
       "| 28842        | 80          | 3m 0s        |"
      ]
     },
     "metadata": {},
     "output_type": "display_data"
    },
    {
     "data": {
      "text/html": [
       "<pre>| 29001        | 80.5        | 3m 1s        |</pre>"
      ],
      "text/plain": [
       "| 29001        | 80.5        | 3m 1s        |"
      ]
     },
     "metadata": {},
     "output_type": "display_data"
    },
    {
     "data": {
      "text/html": [
       "<pre>| 29154        | 81          | 3m 2s        |</pre>"
      ],
      "text/plain": [
       "| 29154        | 81          | 3m 2s        |"
      ]
     },
     "metadata": {},
     "output_type": "display_data"
    },
    {
     "data": {
      "text/html": [
       "<pre>| 29311        | 81.25       | 3m 3s        |</pre>"
      ],
      "text/plain": [
       "| 29311        | 81.25       | 3m 3s        |"
      ]
     },
     "metadata": {},
     "output_type": "display_data"
    },
    {
     "data": {
      "text/html": [
       "<pre>| 29475        | 81.75       | 3m 4s        |</pre>"
      ],
      "text/plain": [
       "| 29475        | 81.75       | 3m 4s        |"
      ]
     },
     "metadata": {},
     "output_type": "display_data"
    },
    {
     "data": {
      "text/html": [
       "<pre>| 29644        | 82.25       | 3m 5s        |</pre>"
      ],
      "text/plain": [
       "| 29644        | 82.25       | 3m 5s        |"
      ]
     },
     "metadata": {},
     "output_type": "display_data"
    },
    {
     "data": {
      "text/html": [
       "<pre>| 29817        | 82.75       | 3m 6s        |</pre>"
      ],
      "text/plain": [
       "| 29817        | 82.75       | 3m 6s        |"
      ]
     },
     "metadata": {},
     "output_type": "display_data"
    },
    {
     "data": {
      "text/html": [
       "<pre>| 29972        | 83.25       | 3m 7s        |</pre>"
      ],
      "text/plain": [
       "| 29972        | 83.25       | 3m 7s        |"
      ]
     },
     "metadata": {},
     "output_type": "display_data"
    },
    {
     "data": {
      "text/html": [
       "<pre>| 30152        | 83.75       | 3m 8s        |</pre>"
      ],
      "text/plain": [
       "| 30152        | 83.75       | 3m 8s        |"
      ]
     },
     "metadata": {},
     "output_type": "display_data"
    },
    {
     "data": {
      "text/html": [
       "<pre>| 30320        | 84.25       | 3m 9s        |</pre>"
      ],
      "text/plain": [
       "| 30320        | 84.25       | 3m 9s        |"
      ]
     },
     "metadata": {},
     "output_type": "display_data"
    },
    {
     "data": {
      "text/html": [
       "<pre>| 30492        | 84.5        | 3m 10s       |</pre>"
      ],
      "text/plain": [
       "| 30492        | 84.5        | 3m 10s       |"
      ]
     },
     "metadata": {},
     "output_type": "display_data"
    },
    {
     "data": {
      "text/html": [
       "<pre>| 30648        | 85          | 3m 11s       |</pre>"
      ],
      "text/plain": [
       "| 30648        | 85          | 3m 11s       |"
      ]
     },
     "metadata": {},
     "output_type": "display_data"
    },
    {
     "data": {
      "text/html": [
       "<pre>| 30814        | 85.5        | 3m 12s       |</pre>"
      ],
      "text/plain": [
       "| 30814        | 85.5        | 3m 12s       |"
      ]
     },
     "metadata": {},
     "output_type": "display_data"
    },
    {
     "data": {
      "text/html": [
       "<pre>| 30982        | 86          | 3m 13s       |</pre>"
      ],
      "text/plain": [
       "| 30982        | 86          | 3m 13s       |"
      ]
     },
     "metadata": {},
     "output_type": "display_data"
    },
    {
     "data": {
      "text/html": [
       "<pre>| 31149        | 86.5        | 3m 14s       |</pre>"
      ],
      "text/plain": [
       "| 31149        | 86.5        | 3m 14s       |"
      ]
     },
     "metadata": {},
     "output_type": "display_data"
    },
    {
     "data": {
      "text/html": [
       "<pre>| 31320        | 87          | 3m 15s       |</pre>"
      ],
      "text/plain": [
       "| 31320        | 87          | 3m 15s       |"
      ]
     },
     "metadata": {},
     "output_type": "display_data"
    },
    {
     "data": {
      "text/html": [
       "<pre>| 31494        | 87.5        | 3m 16s       |</pre>"
      ],
      "text/plain": [
       "| 31494        | 87.5        | 3m 16s       |"
      ]
     },
     "metadata": {},
     "output_type": "display_data"
    },
    {
     "data": {
      "text/html": [
       "<pre>| 31655        | 87.75       | 3m 17s       |</pre>"
      ],
      "text/plain": [
       "| 31655        | 87.75       | 3m 17s       |"
      ]
     },
     "metadata": {},
     "output_type": "display_data"
    },
    {
     "data": {
      "text/html": [
       "<pre>| 31831        | 88.25       | 3m 18s       |</pre>"
      ],
      "text/plain": [
       "| 31831        | 88.25       | 3m 18s       |"
      ]
     },
     "metadata": {},
     "output_type": "display_data"
    },
    {
     "data": {
      "text/html": [
       "<pre>| 31984        | 88.75       | 3m 19s       |</pre>"
      ],
      "text/plain": [
       "| 31984        | 88.75       | 3m 19s       |"
      ]
     },
     "metadata": {},
     "output_type": "display_data"
    },
    {
     "data": {
      "text/html": [
       "<pre>| 32142        | 89.25       | 3m 20s       |</pre>"
      ],
      "text/plain": [
       "| 32142        | 89.25       | 3m 20s       |"
      ]
     },
     "metadata": {},
     "output_type": "display_data"
    },
    {
     "data": {
      "text/html": [
       "<pre>| 32327        | 89.75       | 3m 21s       |</pre>"
      ],
      "text/plain": [
       "| 32327        | 89.75       | 3m 21s       |"
      ]
     },
     "metadata": {},
     "output_type": "display_data"
    },
    {
     "data": {
      "text/html": [
       "<pre>| 32493        | 90.25       | 3m 22s       |</pre>"
      ],
      "text/plain": [
       "| 32493        | 90.25       | 3m 22s       |"
      ]
     },
     "metadata": {},
     "output_type": "display_data"
    },
    {
     "data": {
      "text/html": [
       "<pre>| 32665        | 90.75       | 3m 23s       |</pre>"
      ],
      "text/plain": [
       "| 32665        | 90.75       | 3m 23s       |"
      ]
     },
     "metadata": {},
     "output_type": "display_data"
    },
    {
     "data": {
      "text/html": [
       "<pre>| 32839        | 91.25       | 3m 24s       |</pre>"
      ],
      "text/plain": [
       "| 32839        | 91.25       | 3m 24s       |"
      ]
     },
     "metadata": {},
     "output_type": "display_data"
    },
    {
     "data": {
      "text/html": [
       "<pre>| 32997        | 91.5        | 3m 25s       |</pre>"
      ],
      "text/plain": [
       "| 32997        | 91.5        | 3m 25s       |"
      ]
     },
     "metadata": {},
     "output_type": "display_data"
    },
    {
     "data": {
      "text/html": [
       "<pre>| 33175        | 92          | 3m 26s       |</pre>"
      ],
      "text/plain": [
       "| 33175        | 92          | 3m 26s       |"
      ]
     },
     "metadata": {},
     "output_type": "display_data"
    },
    {
     "data": {
      "text/html": [
       "<pre>| 33294        | 92.5        | 3m 27s       |</pre>"
      ],
      "text/plain": [
       "| 33294        | 92.5        | 3m 27s       |"
      ]
     },
     "metadata": {},
     "output_type": "display_data"
    },
    {
     "data": {
      "text/html": [
       "<pre>| 33406        | 92.75       | 3m 28s       |</pre>"
      ],
      "text/plain": [
       "| 33406        | 92.75       | 3m 28s       |"
      ]
     },
     "metadata": {},
     "output_type": "display_data"
    },
    {
     "data": {
      "text/html": [
       "<pre>| 33515        | 93          | 3m 29s       |</pre>"
      ],
      "text/plain": [
       "| 33515        | 93          | 3m 29s       |"
      ]
     },
     "metadata": {},
     "output_type": "display_data"
    },
    {
     "data": {
      "text/html": [
       "<pre>| 33631        | 93.25       | 3m 30s       |</pre>"
      ],
      "text/plain": [
       "| 33631        | 93.25       | 3m 30s       |"
      ]
     },
     "metadata": {},
     "output_type": "display_data"
    },
    {
     "data": {
      "text/html": [
       "<pre>| 33803        | 93.75       | 3m 31s       |</pre>"
      ],
      "text/plain": [
       "| 33803        | 93.75       | 3m 31s       |"
      ]
     },
     "metadata": {},
     "output_type": "display_data"
    },
    {
     "data": {
      "text/html": [
       "<pre>| 33963        | 94.25       | 3m 32s       |</pre>"
      ],
      "text/plain": [
       "| 33963        | 94.25       | 3m 32s       |"
      ]
     },
     "metadata": {},
     "output_type": "display_data"
    },
    {
     "data": {
      "text/html": [
       "<pre>| 34125        | 94.75       | 3m 33s       |</pre>"
      ],
      "text/plain": [
       "| 34125        | 94.75       | 3m 33s       |"
      ]
     },
     "metadata": {},
     "output_type": "display_data"
    },
    {
     "data": {
      "text/html": [
       "<pre>| 34248        | 95          | 3m 34s       |</pre>"
      ],
      "text/plain": [
       "| 34248        | 95          | 3m 34s       |"
      ]
     },
     "metadata": {},
     "output_type": "display_data"
    },
    {
     "data": {
      "text/html": [
       "<pre>| 34355        | 95.25       | 3m 35s       |</pre>"
      ],
      "text/plain": [
       "| 34355        | 95.25       | 3m 35s       |"
      ]
     },
     "metadata": {},
     "output_type": "display_data"
    },
    {
     "data": {
      "text/html": [
       "<pre>| 34510        | 95.75       | 3m 36s       |</pre>"
      ],
      "text/plain": [
       "| 34510        | 95.75       | 3m 36s       |"
      ]
     },
     "metadata": {},
     "output_type": "display_data"
    },
    {
     "data": {
      "text/html": [
       "<pre>| 34639        | 96.25       | 3m 37s       |</pre>"
      ],
      "text/plain": [
       "| 34639        | 96.25       | 3m 37s       |"
      ]
     },
     "metadata": {},
     "output_type": "display_data"
    },
    {
     "data": {
      "text/html": [
       "<pre>| 34794        | 96.5        | 3m 38s       |</pre>"
      ],
      "text/plain": [
       "| 34794        | 96.5        | 3m 38s       |"
      ]
     },
     "metadata": {},
     "output_type": "display_data"
    },
    {
     "data": {
      "text/html": [
       "<pre>| 34908        | 97          | 3m 39s       |</pre>"
      ],
      "text/plain": [
       "| 34908        | 97          | 3m 39s       |"
      ]
     },
     "metadata": {},
     "output_type": "display_data"
    },
    {
     "data": {
      "text/html": [
       "<pre>| 34992        | 97          | 3m 40s       |</pre>"
      ],
      "text/plain": [
       "| 34992        | 97          | 3m 40s       |"
      ]
     },
     "metadata": {},
     "output_type": "display_data"
    },
    {
     "data": {
      "text/html": [
       "<pre>| 35090        | 97.5        | 3m 41s       |</pre>"
      ],
      "text/plain": [
       "| 35090        | 97.5        | 3m 41s       |"
      ]
     },
     "metadata": {},
     "output_type": "display_data"
    },
    {
     "data": {
      "text/html": [
       "<pre>| 35221        | 97.75       | 3m 42s       |</pre>"
      ],
      "text/plain": [
       "| 35221        | 97.75       | 3m 42s       |"
      ]
     },
     "metadata": {},
     "output_type": "display_data"
    },
    {
     "data": {
      "text/html": [
       "<pre>| 35372        | 98.25       | 3m 43s       |</pre>"
      ],
      "text/plain": [
       "| 35372        | 98.25       | 3m 43s       |"
      ]
     },
     "metadata": {},
     "output_type": "display_data"
    },
    {
     "data": {
      "text/html": [
       "<pre>| 35509        | 98.5        | 3m 44s       |</pre>"
      ],
      "text/plain": [
       "| 35509        | 98.5        | 3m 44s       |"
      ]
     },
     "metadata": {},
     "output_type": "display_data"
    },
    {
     "data": {
      "text/html": [
       "<pre>| 35678        | 99          | 3m 45s       |</pre>"
      ],
      "text/plain": [
       "| 35678        | 99          | 3m 45s       |"
      ]
     },
     "metadata": {},
     "output_type": "display_data"
    },
    {
     "data": {
      "text/html": [
       "<pre>| 35846        | 99.5        | 3m 46s       |</pre>"
      ],
      "text/plain": [
       "| 35846        | 99.5        | 3m 46s       |"
      ]
     },
     "metadata": {},
     "output_type": "display_data"
    },
    {
     "data": {
      "text/html": [
       "<pre>| 35968        | 99.75       | 3m 47s       |</pre>"
      ],
      "text/plain": [
       "| 35968        | 99.75       | 3m 47s       |"
      ]
     },
     "metadata": {},
     "output_type": "display_data"
    },
    {
     "data": {
      "text/html": [
       "<pre>| Done         |             | 3m 47s       |</pre>"
      ],
      "text/plain": [
       "| Done         |             | 3m 47s       |"
      ]
     },
     "metadata": {},
     "output_type": "display_data"
    },
    {
     "data": {
      "text/html": [
       "<pre>+--------------+-------------+--------------+</pre>"
      ],
      "text/plain": [
       "+--------------+-------------+--------------+"
      ]
     },
     "metadata": {},
     "output_type": "display_data"
    },
    {
     "data": {
      "text/html": [
       "<pre>+--------------+-------------+--------------+</pre>"
      ],
      "text/plain": [
       "+--------------+-------------+--------------+"
      ]
     },
     "metadata": {},
     "output_type": "display_data"
    },
    {
     "data": {
      "text/html": [
       "<pre>| Query points | % Complete. | Elapsed Time |</pre>"
      ],
      "text/plain": [
       "| Query points | % Complete. | Elapsed Time |"
      ]
     },
     "metadata": {},
     "output_type": "display_data"
    },
    {
     "data": {
      "text/html": [
       "<pre>+--------------+-------------+--------------+</pre>"
      ],
      "text/plain": [
       "+--------------+-------------+--------------+"
      ]
     },
     "metadata": {},
     "output_type": "display_data"
    },
    {
     "data": {
      "text/html": [
       "<pre>| 1            | 0           | 4.999ms      |</pre>"
      ],
      "text/plain": [
       "| 1            | 0           | 4.999ms      |"
      ]
     },
     "metadata": {},
     "output_type": "display_data"
    },
    {
     "data": {
      "text/html": [
       "<pre>| 178          | 0.25        | 1.01s        |</pre>"
      ],
      "text/plain": [
       "| 178          | 0.25        | 1.01s        |"
      ]
     },
     "metadata": {},
     "output_type": "display_data"
    },
    {
     "data": {
      "text/html": [
       "<pre>| 345          | 0.75        | 2.01s        |</pre>"
      ],
      "text/plain": [
       "| 345          | 0.75        | 2.01s        |"
      ]
     },
     "metadata": {},
     "output_type": "display_data"
    },
    {
     "data": {
      "text/html": [
       "<pre>| 465          | 1.25        | 3.03s        |</pre>"
      ],
      "text/plain": [
       "| 465          | 1.25        | 3.03s        |"
      ]
     },
     "metadata": {},
     "output_type": "display_data"
    },
    {
     "data": {
      "text/html": [
       "<pre>| 612          | 1.5         | 4.02s        |</pre>"
      ],
      "text/plain": [
       "| 612          | 1.5         | 4.02s        |"
      ]
     },
     "metadata": {},
     "output_type": "display_data"
    },
    {
     "data": {
      "text/html": [
       "<pre>| 792          | 2           | 5.02s        |</pre>"
      ],
      "text/plain": [
       "| 792          | 2           | 5.02s        |"
      ]
     },
     "metadata": {},
     "output_type": "display_data"
    },
    {
     "data": {
      "text/html": [
       "<pre>| 958          | 2.5         | 6.02s        |</pre>"
      ],
      "text/plain": [
       "| 958          | 2.5         | 6.02s        |"
      ]
     },
     "metadata": {},
     "output_type": "display_data"
    },
    {
     "data": {
      "text/html": [
       "<pre>| 1066         | 2.75        | 7.03s        |</pre>"
      ],
      "text/plain": [
       "| 1066         | 2.75        | 7.03s        |"
      ]
     },
     "metadata": {},
     "output_type": "display_data"
    },
    {
     "data": {
      "text/html": [
       "<pre>| 1178         | 3.25        | 8.03s        |</pre>"
      ],
      "text/plain": [
       "| 1178         | 3.25        | 8.03s        |"
      ]
     },
     "metadata": {},
     "output_type": "display_data"
    },
    {
     "data": {
      "text/html": [
       "<pre>| 1269         | 3.5         | 9.05s        |</pre>"
      ],
      "text/plain": [
       "| 1269         | 3.5         | 9.05s        |"
      ]
     },
     "metadata": {},
     "output_type": "display_data"
    },
    {
     "data": {
      "text/html": [
       "<pre>| 1345         | 3.5         | 10.07s       |</pre>"
      ],
      "text/plain": [
       "| 1345         | 3.5         | 10.07s       |"
      ]
     },
     "metadata": {},
     "output_type": "display_data"
    },
    {
     "data": {
      "text/html": [
       "<pre>| 1442         | 4           | 11.04s       |</pre>"
      ],
      "text/plain": [
       "| 1442         | 4           | 11.04s       |"
      ]
     },
     "metadata": {},
     "output_type": "display_data"
    },
    {
     "data": {
      "text/html": [
       "<pre>| 1551         | 4.25        | 12.04s       |</pre>"
      ],
      "text/plain": [
       "| 1551         | 4.25        | 12.04s       |"
      ]
     },
     "metadata": {},
     "output_type": "display_data"
    },
    {
     "data": {
      "text/html": [
       "<pre>| 1620         | 4.5         | 13.07s       |</pre>"
      ],
      "text/plain": [
       "| 1620         | 4.5         | 13.07s       |"
      ]
     },
     "metadata": {},
     "output_type": "display_data"
    },
    {
     "data": {
      "text/html": [
       "<pre>| 1711         | 4.75        | 14.07s       |</pre>"
      ],
      "text/plain": [
       "| 1711         | 4.75        | 14.07s       |"
      ]
     },
     "metadata": {},
     "output_type": "display_data"
    },
    {
     "data": {
      "text/html": [
       "<pre>| 1803         | 5           | 15.05s       |</pre>"
      ],
      "text/plain": [
       "| 1803         | 5           | 15.05s       |"
      ]
     },
     "metadata": {},
     "output_type": "display_data"
    },
    {
     "data": {
      "text/html": [
       "<pre>| 1920         | 5.25        | 16.07s       |</pre>"
      ],
      "text/plain": [
       "| 1920         | 5.25        | 16.07s       |"
      ]
     },
     "metadata": {},
     "output_type": "display_data"
    },
    {
     "data": {
      "text/html": [
       "<pre>| 2074         | 5.75        | 17.06s       |</pre>"
      ],
      "text/plain": [
       "| 2074         | 5.75        | 17.06s       |"
      ]
     },
     "metadata": {},
     "output_type": "display_data"
    },
    {
     "data": {
      "text/html": [
       "<pre>| 2209         | 6           | 18.06s       |</pre>"
      ],
      "text/plain": [
       "| 2209         | 6           | 18.06s       |"
      ]
     },
     "metadata": {},
     "output_type": "display_data"
    },
    {
     "data": {
      "text/html": [
       "<pre>| 2361         | 6.5         | 19.07s       |</pre>"
      ],
      "text/plain": [
       "| 2361         | 6.5         | 19.07s       |"
      ]
     },
     "metadata": {},
     "output_type": "display_data"
    },
    {
     "data": {
      "text/html": [
       "<pre>| 2462         | 6.75        | 20.07s       |</pre>"
      ],
      "text/plain": [
       "| 2462         | 6.75        | 20.07s       |"
      ]
     },
     "metadata": {},
     "output_type": "display_data"
    },
    {
     "data": {
      "text/html": [
       "<pre>| 2578         | 7           | 21.10s       |</pre>"
      ],
      "text/plain": [
       "| 2578         | 7           | 21.10s       |"
      ]
     },
     "metadata": {},
     "output_type": "display_data"
    },
    {
     "data": {
      "text/html": [
       "<pre>| 2726         | 7.5         | 22.08s       |</pre>"
      ],
      "text/plain": [
       "| 2726         | 7.5         | 22.08s       |"
      ]
     },
     "metadata": {},
     "output_type": "display_data"
    },
    {
     "data": {
      "text/html": [
       "<pre>| 2861         | 7.75        | 23.08s       |</pre>"
      ],
      "text/plain": [
       "| 2861         | 7.75        | 23.08s       |"
      ]
     },
     "metadata": {},
     "output_type": "display_data"
    },
    {
     "data": {
      "text/html": [
       "<pre>| 2970         | 8.25        | 24.10s       |</pre>"
      ],
      "text/plain": [
       "| 2970         | 8.25        | 24.10s       |"
      ]
     },
     "metadata": {},
     "output_type": "display_data"
    },
    {
     "data": {
      "text/html": [
       "<pre>| 3074         | 8.5         | 25.08s       |</pre>"
      ],
      "text/plain": [
       "| 3074         | 8.5         | 25.08s       |"
      ]
     },
     "metadata": {},
     "output_type": "display_data"
    },
    {
     "data": {
      "text/html": [
       "<pre>| 3207         | 8.75        | 26.09s       |</pre>"
      ],
      "text/plain": [
       "| 3207         | 8.75        | 26.09s       |"
      ]
     },
     "metadata": {},
     "output_type": "display_data"
    },
    {
     "data": {
      "text/html": [
       "<pre>| 3360         | 9.25        | 27.09s       |</pre>"
      ],
      "text/plain": [
       "| 3360         | 9.25        | 27.09s       |"
      ]
     },
     "metadata": {},
     "output_type": "display_data"
    },
    {
     "data": {
      "text/html": [
       "<pre>| 3507         | 9.5         | 28.11s       |</pre>"
      ],
      "text/plain": [
       "| 3507         | 9.5         | 28.11s       |"
      ]
     },
     "metadata": {},
     "output_type": "display_data"
    },
    {
     "data": {
      "text/html": [
       "<pre>| 3681         | 10          | 29.10s       |</pre>"
      ],
      "text/plain": [
       "| 3681         | 10          | 29.10s       |"
      ]
     },
     "metadata": {},
     "output_type": "display_data"
    },
    {
     "data": {
      "text/html": [
       "<pre>| 3851         | 10.5        | 30.11s       |</pre>"
      ],
      "text/plain": [
       "| 3851         | 10.5        | 30.11s       |"
      ]
     },
     "metadata": {},
     "output_type": "display_data"
    },
    {
     "data": {
      "text/html": [
       "<pre>| 4009         | 11          | 31.10s       |</pre>"
      ],
      "text/plain": [
       "| 4009         | 11          | 31.10s       |"
      ]
     },
     "metadata": {},
     "output_type": "display_data"
    },
    {
     "data": {
      "text/html": [
       "<pre>| 4181         | 11.5        | 32.11s       |</pre>"
      ],
      "text/plain": [
       "| 4181         | 11.5        | 32.11s       |"
      ]
     },
     "metadata": {},
     "output_type": "display_data"
    },
    {
     "data": {
      "text/html": [
       "<pre>| 4354         | 12          | 33.12s       |</pre>"
      ],
      "text/plain": [
       "| 4354         | 12          | 33.12s       |"
      ]
     },
     "metadata": {},
     "output_type": "display_data"
    },
    {
     "data": {
      "text/html": [
       "<pre>| 4522         | 12.5        | 34.14s       |</pre>"
      ],
      "text/plain": [
       "| 4522         | 12.5        | 34.14s       |"
      ]
     },
     "metadata": {},
     "output_type": "display_data"
    },
    {
     "data": {
      "text/html": [
       "<pre>| 4673         | 12.75       | 35.13s       |</pre>"
      ],
      "text/plain": [
       "| 4673         | 12.75       | 35.13s       |"
      ]
     },
     "metadata": {},
     "output_type": "display_data"
    },
    {
     "data": {
      "text/html": [
       "<pre>| 4859         | 13.5        | 36.12s       |</pre>"
      ],
      "text/plain": [
       "| 4859         | 13.5        | 36.12s       |"
      ]
     },
     "metadata": {},
     "output_type": "display_data"
    },
    {
     "data": {
      "text/html": [
       "<pre>| 5004         | 13.75       | 37.12s       |</pre>"
      ],
      "text/plain": [
       "| 5004         | 13.75       | 37.12s       |"
      ]
     },
     "metadata": {},
     "output_type": "display_data"
    },
    {
     "data": {
      "text/html": [
       "<pre>| 5185         | 14.25       | 38.12s       |</pre>"
      ],
      "text/plain": [
       "| 5185         | 14.25       | 38.12s       |"
      ]
     },
     "metadata": {},
     "output_type": "display_data"
    },
    {
     "data": {
      "text/html": [
       "<pre>| 5344         | 14.75       | 39.13s       |</pre>"
      ],
      "text/plain": [
       "| 5344         | 14.75       | 39.13s       |"
      ]
     },
     "metadata": {},
     "output_type": "display_data"
    },
    {
     "data": {
      "text/html": [
       "<pre>| 5519         | 15.25       | 40.13s       |</pre>"
      ],
      "text/plain": [
       "| 5519         | 15.25       | 40.13s       |"
      ]
     },
     "metadata": {},
     "output_type": "display_data"
    },
    {
     "data": {
      "text/html": [
       "<pre>| 5692         | 15.75       | 41.13s       |</pre>"
      ],
      "text/plain": [
       "| 5692         | 15.75       | 41.13s       |"
      ]
     },
     "metadata": {},
     "output_type": "display_data"
    },
    {
     "data": {
      "text/html": [
       "<pre>| 5864         | 16.25       | 42.14s       |</pre>"
      ],
      "text/plain": [
       "| 5864         | 16.25       | 42.14s       |"
      ]
     },
     "metadata": {},
     "output_type": "display_data"
    },
    {
     "data": {
      "text/html": [
       "<pre>| 6032         | 16.75       | 43.14s       |</pre>"
      ],
      "text/plain": [
       "| 6032         | 16.75       | 43.14s       |"
      ]
     },
     "metadata": {},
     "output_type": "display_data"
    },
    {
     "data": {
      "text/html": [
       "<pre>| 6201         | 17          | 44.14s       |</pre>"
      ],
      "text/plain": [
       "| 6201         | 17          | 44.14s       |"
      ]
     },
     "metadata": {},
     "output_type": "display_data"
    },
    {
     "data": {
      "text/html": [
       "<pre>| 6360         | 17.5        | 45.15s       |</pre>"
      ],
      "text/plain": [
       "| 6360         | 17.5        | 45.15s       |"
      ]
     },
     "metadata": {},
     "output_type": "display_data"
    },
    {
     "data": {
      "text/html": [
       "<pre>| 6476         | 17.75       | 46.15s       |</pre>"
      ],
      "text/plain": [
       "| 6476         | 17.75       | 46.15s       |"
      ]
     },
     "metadata": {},
     "output_type": "display_data"
    },
    {
     "data": {
      "text/html": [
       "<pre>| 6636         | 18.25       | 47.15s       |</pre>"
      ],
      "text/plain": [
       "| 6636         | 18.25       | 47.15s       |"
      ]
     },
     "metadata": {},
     "output_type": "display_data"
    },
    {
     "data": {
      "text/html": [
       "<pre>| 6816         | 18.75       | 48.16s       |</pre>"
      ],
      "text/plain": [
       "| 6816         | 18.75       | 48.16s       |"
      ]
     },
     "metadata": {},
     "output_type": "display_data"
    },
    {
     "data": {
      "text/html": [
       "<pre>| 6961         | 19.25       | 49.17s       |</pre>"
      ],
      "text/plain": [
       "| 6961         | 19.25       | 49.17s       |"
      ]
     },
     "metadata": {},
     "output_type": "display_data"
    },
    {
     "data": {
      "text/html": [
       "<pre>| 7122         | 19.75       | 50.17s       |</pre>"
      ],
      "text/plain": [
       "| 7122         | 19.75       | 50.17s       |"
      ]
     },
     "metadata": {},
     "output_type": "display_data"
    },
    {
     "data": {
      "text/html": [
       "<pre>| 7291         | 20.25       | 51.17s       |</pre>"
      ],
      "text/plain": [
       "| 7291         | 20.25       | 51.17s       |"
      ]
     },
     "metadata": {},
     "output_type": "display_data"
    },
    {
     "data": {
      "text/html": [
       "<pre>| 7456         | 20.5        | 52.17s       |</pre>"
      ],
      "text/plain": [
       "| 7456         | 20.5        | 52.17s       |"
      ]
     },
     "metadata": {},
     "output_type": "display_data"
    },
    {
     "data": {
      "text/html": [
       "<pre>| 7617         | 21          | 53.17s       |</pre>"
      ],
      "text/plain": [
       "| 7617         | 21          | 53.17s       |"
      ]
     },
     "metadata": {},
     "output_type": "display_data"
    },
    {
     "data": {
      "text/html": [
       "<pre>| 7791         | 21.5        | 54.20s       |</pre>"
      ],
      "text/plain": [
       "| 7791         | 21.5        | 54.20s       |"
      ]
     },
     "metadata": {},
     "output_type": "display_data"
    },
    {
     "data": {
      "text/html": [
       "<pre>| 7951         | 22          | 55.18s       |</pre>"
      ],
      "text/plain": [
       "| 7951         | 22          | 55.18s       |"
      ]
     },
     "metadata": {},
     "output_type": "display_data"
    },
    {
     "data": {
      "text/html": [
       "<pre>| 8121         | 22.5        | 56.19s       |</pre>"
      ],
      "text/plain": [
       "| 8121         | 22.5        | 56.19s       |"
      ]
     },
     "metadata": {},
     "output_type": "display_data"
    },
    {
     "data": {
      "text/html": [
       "<pre>| 8269         | 22.75       | 57.18s       |</pre>"
      ],
      "text/plain": [
       "| 8269         | 22.75       | 57.18s       |"
      ]
     },
     "metadata": {},
     "output_type": "display_data"
    },
    {
     "data": {
      "text/html": [
       "<pre>| 8407         | 23.25       | 58.21s       |</pre>"
      ],
      "text/plain": [
       "| 8407         | 23.25       | 58.21s       |"
      ]
     },
     "metadata": {},
     "output_type": "display_data"
    },
    {
     "data": {
      "text/html": [
       "<pre>| 8576         | 23.75       | 59.19s       |</pre>"
      ],
      "text/plain": [
       "| 8576         | 23.75       | 59.19s       |"
      ]
     },
     "metadata": {},
     "output_type": "display_data"
    },
    {
     "data": {
      "text/html": [
       "<pre>| 8730         | 24.25       | 1m 0s        |</pre>"
      ],
      "text/plain": [
       "| 8730         | 24.25       | 1m 0s        |"
      ]
     },
     "metadata": {},
     "output_type": "display_data"
    },
    {
     "data": {
      "text/html": [
       "<pre>| 8899         | 24.5        | 1m 1s        |</pre>"
      ],
      "text/plain": [
       "| 8899         | 24.5        | 1m 1s        |"
      ]
     },
     "metadata": {},
     "output_type": "display_data"
    },
    {
     "data": {
      "text/html": [
       "<pre>| 9055         | 25          | 1m 2s        |</pre>"
      ],
      "text/plain": [
       "| 9055         | 25          | 1m 2s        |"
      ]
     },
     "metadata": {},
     "output_type": "display_data"
    },
    {
     "data": {
      "text/html": [
       "<pre>| 9173         | 25.25       | 1m 3s        |</pre>"
      ],
      "text/plain": [
       "| 9173         | 25.25       | 1m 3s        |"
      ]
     },
     "metadata": {},
     "output_type": "display_data"
    },
    {
     "data": {
      "text/html": [
       "<pre>| 9302         | 25.75       | 1m 4s        |</pre>"
      ],
      "text/plain": [
       "| 9302         | 25.75       | 1m 4s        |"
      ]
     },
     "metadata": {},
     "output_type": "display_data"
    },
    {
     "data": {
      "text/html": [
       "<pre>| 9469         | 26.25       | 1m 5s        |</pre>"
      ],
      "text/plain": [
       "| 9469         | 26.25       | 1m 5s        |"
      ]
     },
     "metadata": {},
     "output_type": "display_data"
    },
    {
     "data": {
      "text/html": [
       "<pre>| 9631         | 26.75       | 1m 6s        |</pre>"
      ],
      "text/plain": [
       "| 9631         | 26.75       | 1m 6s        |"
      ]
     },
     "metadata": {},
     "output_type": "display_data"
    },
    {
     "data": {
      "text/html": [
       "<pre>| 9781         | 27          | 1m 7s        |</pre>"
      ],
      "text/plain": [
       "| 9781         | 27          | 1m 7s        |"
      ]
     },
     "metadata": {},
     "output_type": "display_data"
    },
    {
     "data": {
      "text/html": [
       "<pre>| 9943         | 27.5        | 1m 8s        |</pre>"
      ],
      "text/plain": [
       "| 9943         | 27.5        | 1m 8s        |"
      ]
     },
     "metadata": {},
     "output_type": "display_data"
    },
    {
     "data": {
      "text/html": [
       "<pre>| 10110        | 28          | 1m 9s        |</pre>"
      ],
      "text/plain": [
       "| 10110        | 28          | 1m 9s        |"
      ]
     },
     "metadata": {},
     "output_type": "display_data"
    },
    {
     "data": {
      "text/html": [
       "<pre>| 10255        | 28.25       | 1m 10s       |</pre>"
      ],
      "text/plain": [
       "| 10255        | 28.25       | 1m 10s       |"
      ]
     },
     "metadata": {},
     "output_type": "display_data"
    },
    {
     "data": {
      "text/html": [
       "<pre>| 10394        | 28.75       | 1m 11s       |</pre>"
      ],
      "text/plain": [
       "| 10394        | 28.75       | 1m 11s       |"
      ]
     },
     "metadata": {},
     "output_type": "display_data"
    },
    {
     "data": {
      "text/html": [
       "<pre>| 10525        | 29          | 1m 12s       |</pre>"
      ],
      "text/plain": [
       "| 10525        | 29          | 1m 12s       |"
      ]
     },
     "metadata": {},
     "output_type": "display_data"
    },
    {
     "data": {
      "text/html": [
       "<pre>| 10639        | 29.5        | 1m 13s       |</pre>"
      ],
      "text/plain": [
       "| 10639        | 29.5        | 1m 13s       |"
      ]
     },
     "metadata": {},
     "output_type": "display_data"
    },
    {
     "data": {
      "text/html": [
       "<pre>| 10771        | 29.75       | 1m 14s       |</pre>"
      ],
      "text/plain": [
       "| 10771        | 29.75       | 1m 14s       |"
      ]
     },
     "metadata": {},
     "output_type": "display_data"
    },
    {
     "data": {
      "text/html": [
       "<pre>| 10936        | 30.25       | 1m 15s       |</pre>"
      ],
      "text/plain": [
       "| 10936        | 30.25       | 1m 15s       |"
      ]
     },
     "metadata": {},
     "output_type": "display_data"
    },
    {
     "data": {
      "text/html": [
       "<pre>| 11026        | 30.5        | 1m 16s       |</pre>"
      ],
      "text/plain": [
       "| 11026        | 30.5        | 1m 16s       |"
      ]
     },
     "metadata": {},
     "output_type": "display_data"
    },
    {
     "data": {
      "text/html": [
       "<pre>| 11133        | 30.75       | 1m 17s       |</pre>"
      ],
      "text/plain": [
       "| 11133        | 30.75       | 1m 17s       |"
      ]
     },
     "metadata": {},
     "output_type": "display_data"
    },
    {
     "data": {
      "text/html": [
       "<pre>| 11240        | 31          | 1m 18s       |</pre>"
      ],
      "text/plain": [
       "| 11240        | 31          | 1m 18s       |"
      ]
     },
     "metadata": {},
     "output_type": "display_data"
    },
    {
     "data": {
      "text/html": [
       "<pre>| 11384        | 31.5        | 1m 19s       |</pre>"
      ],
      "text/plain": [
       "| 11384        | 31.5        | 1m 19s       |"
      ]
     },
     "metadata": {},
     "output_type": "display_data"
    },
    {
     "data": {
      "text/html": [
       "<pre>| 11554        | 32          | 1m 20s       |</pre>"
      ],
      "text/plain": [
       "| 11554        | 32          | 1m 20s       |"
      ]
     },
     "metadata": {},
     "output_type": "display_data"
    },
    {
     "data": {
      "text/html": [
       "<pre>| 11703        | 32.5        | 1m 21s       |</pre>"
      ],
      "text/plain": [
       "| 11703        | 32.5        | 1m 21s       |"
      ]
     },
     "metadata": {},
     "output_type": "display_data"
    },
    {
     "data": {
      "text/html": [
       "<pre>| 11842        | 32.75       | 1m 22s       |</pre>"
      ],
      "text/plain": [
       "| 11842        | 32.75       | 1m 22s       |"
      ]
     },
     "metadata": {},
     "output_type": "display_data"
    },
    {
     "data": {
      "text/html": [
       "<pre>| 11989        | 33.25       | 1m 23s       |</pre>"
      ],
      "text/plain": [
       "| 11989        | 33.25       | 1m 23s       |"
      ]
     },
     "metadata": {},
     "output_type": "display_data"
    },
    {
     "data": {
      "text/html": [
       "<pre>| 12125        | 33.5        | 1m 24s       |</pre>"
      ],
      "text/plain": [
       "| 12125        | 33.5        | 1m 24s       |"
      ]
     },
     "metadata": {},
     "output_type": "display_data"
    },
    {
     "data": {
      "text/html": [
       "<pre>| 12291        | 34          | 1m 25s       |</pre>"
      ],
      "text/plain": [
       "| 12291        | 34          | 1m 25s       |"
      ]
     },
     "metadata": {},
     "output_type": "display_data"
    },
    {
     "data": {
      "text/html": [
       "<pre>| 12419        | 34.5        | 1m 26s       |</pre>"
      ],
      "text/plain": [
       "| 12419        | 34.5        | 1m 26s       |"
      ]
     },
     "metadata": {},
     "output_type": "display_data"
    },
    {
     "data": {
      "text/html": [
       "<pre>| 12543        | 34.75       | 1m 27s       |</pre>"
      ],
      "text/plain": [
       "| 12543        | 34.75       | 1m 27s       |"
      ]
     },
     "metadata": {},
     "output_type": "display_data"
    },
    {
     "data": {
      "text/html": [
       "<pre>| 12682        | 35          | 1m 28s       |</pre>"
      ],
      "text/plain": [
       "| 12682        | 35          | 1m 28s       |"
      ]
     },
     "metadata": {},
     "output_type": "display_data"
    },
    {
     "data": {
      "text/html": [
       "<pre>| 12845        | 35.5        | 1m 29s       |</pre>"
      ],
      "text/plain": [
       "| 12845        | 35.5        | 1m 29s       |"
      ]
     },
     "metadata": {},
     "output_type": "display_data"
    },
    {
     "data": {
      "text/html": [
       "<pre>| 12993        | 36          | 1m 30s       |</pre>"
      ],
      "text/plain": [
       "| 12993        | 36          | 1m 30s       |"
      ]
     },
     "metadata": {},
     "output_type": "display_data"
    },
    {
     "data": {
      "text/html": [
       "<pre>| 13144        | 36.5        | 1m 31s       |</pre>"
      ],
      "text/plain": [
       "| 13144        | 36.5        | 1m 31s       |"
      ]
     },
     "metadata": {},
     "output_type": "display_data"
    },
    {
     "data": {
      "text/html": [
       "<pre>| 13289        | 36.75       | 1m 32s       |</pre>"
      ],
      "text/plain": [
       "| 13289        | 36.75       | 1m 32s       |"
      ]
     },
     "metadata": {},
     "output_type": "display_data"
    },
    {
     "data": {
      "text/html": [
       "<pre>| 13437        | 37.25       | 1m 33s       |</pre>"
      ],
      "text/plain": [
       "| 13437        | 37.25       | 1m 33s       |"
      ]
     },
     "metadata": {},
     "output_type": "display_data"
    },
    {
     "data": {
      "text/html": [
       "<pre>| 13610        | 37.75       | 1m 34s       |</pre>"
      ],
      "text/plain": [
       "| 13610        | 37.75       | 1m 34s       |"
      ]
     },
     "metadata": {},
     "output_type": "display_data"
    },
    {
     "data": {
      "text/html": [
       "<pre>| 13771        | 38.25       | 1m 35s       |</pre>"
      ],
      "text/plain": [
       "| 13771        | 38.25       | 1m 35s       |"
      ]
     },
     "metadata": {},
     "output_type": "display_data"
    },
    {
     "data": {
      "text/html": [
       "<pre>| 13890        | 38.5        | 1m 36s       |</pre>"
      ],
      "text/plain": [
       "| 13890        | 38.5        | 1m 36s       |"
      ]
     },
     "metadata": {},
     "output_type": "display_data"
    },
    {
     "data": {
      "text/html": [
       "<pre>| 14042        | 39          | 1m 37s       |</pre>"
      ],
      "text/plain": [
       "| 14042        | 39          | 1m 37s       |"
      ]
     },
     "metadata": {},
     "output_type": "display_data"
    },
    {
     "data": {
      "text/html": [
       "<pre>| 14203        | 39.25       | 1m 38s       |</pre>"
      ],
      "text/plain": [
       "| 14203        | 39.25       | 1m 38s       |"
      ]
     },
     "metadata": {},
     "output_type": "display_data"
    },
    {
     "data": {
      "text/html": [
       "<pre>| 14381        | 39.75       | 1m 39s       |</pre>"
      ],
      "text/plain": [
       "| 14381        | 39.75       | 1m 39s       |"
      ]
     },
     "metadata": {},
     "output_type": "display_data"
    },
    {
     "data": {
      "text/html": [
       "<pre>| 14549        | 40.25       | 1m 40s       |</pre>"
      ],
      "text/plain": [
       "| 14549        | 40.25       | 1m 40s       |"
      ]
     },
     "metadata": {},
     "output_type": "display_data"
    },
    {
     "data": {
      "text/html": [
       "<pre>| 14740        | 40.75       | 1m 41s       |</pre>"
      ],
      "text/plain": [
       "| 14740        | 40.75       | 1m 41s       |"
      ]
     },
     "metadata": {},
     "output_type": "display_data"
    },
    {
     "data": {
      "text/html": [
       "<pre>| 14849        | 41.25       | 1m 42s       |</pre>"
      ],
      "text/plain": [
       "| 14849        | 41.25       | 1m 42s       |"
      ]
     },
     "metadata": {},
     "output_type": "display_data"
    },
    {
     "data": {
      "text/html": [
       "<pre>| 14996        | 41.5        | 1m 43s       |</pre>"
      ],
      "text/plain": [
       "| 14996        | 41.5        | 1m 43s       |"
      ]
     },
     "metadata": {},
     "output_type": "display_data"
    },
    {
     "data": {
      "text/html": [
       "<pre>| 15111        | 41.75       | 1m 44s       |</pre>"
      ],
      "text/plain": [
       "| 15111        | 41.75       | 1m 44s       |"
      ]
     },
     "metadata": {},
     "output_type": "display_data"
    },
    {
     "data": {
      "text/html": [
       "<pre>| 15266        | 42.25       | 1m 45s       |</pre>"
      ],
      "text/plain": [
       "| 15266        | 42.25       | 1m 45s       |"
      ]
     },
     "metadata": {},
     "output_type": "display_data"
    },
    {
     "data": {
      "text/html": [
       "<pre>| 15425        | 42.75       | 1m 46s       |</pre>"
      ],
      "text/plain": [
       "| 15425        | 42.75       | 1m 46s       |"
      ]
     },
     "metadata": {},
     "output_type": "display_data"
    },
    {
     "data": {
      "text/html": [
       "<pre>| 15570        | 43.25       | 1m 47s       |</pre>"
      ],
      "text/plain": [
       "| 15570        | 43.25       | 1m 47s       |"
      ]
     },
     "metadata": {},
     "output_type": "display_data"
    },
    {
     "data": {
      "text/html": [
       "<pre>| 15718        | 43.5        | 1m 48s       |</pre>"
      ],
      "text/plain": [
       "| 15718        | 43.5        | 1m 48s       |"
      ]
     },
     "metadata": {},
     "output_type": "display_data"
    },
    {
     "data": {
      "text/html": [
       "<pre>| 15871        | 44          | 1m 49s       |</pre>"
      ],
      "text/plain": [
       "| 15871        | 44          | 1m 49s       |"
      ]
     },
     "metadata": {},
     "output_type": "display_data"
    },
    {
     "data": {
      "text/html": [
       "<pre>| 16032        | 44.5        | 1m 50s       |</pre>"
      ],
      "text/plain": [
       "| 16032        | 44.5        | 1m 50s       |"
      ]
     },
     "metadata": {},
     "output_type": "display_data"
    },
    {
     "data": {
      "text/html": [
       "<pre>| 16183        | 44.75       | 1m 51s       |</pre>"
      ],
      "text/plain": [
       "| 16183        | 44.75       | 1m 51s       |"
      ]
     },
     "metadata": {},
     "output_type": "display_data"
    },
    {
     "data": {
      "text/html": [
       "<pre>| 16341        | 45.25       | 1m 52s       |</pre>"
      ],
      "text/plain": [
       "| 16341        | 45.25       | 1m 52s       |"
      ]
     },
     "metadata": {},
     "output_type": "display_data"
    },
    {
     "data": {
      "text/html": [
       "<pre>| 16508        | 45.75       | 1m 53s       |</pre>"
      ],
      "text/plain": [
       "| 16508        | 45.75       | 1m 53s       |"
      ]
     },
     "metadata": {},
     "output_type": "display_data"
    },
    {
     "data": {
      "text/html": [
       "<pre>| 16676        | 46.25       | 1m 54s       |</pre>"
      ],
      "text/plain": [
       "| 16676        | 46.25       | 1m 54s       |"
      ]
     },
     "metadata": {},
     "output_type": "display_data"
    },
    {
     "data": {
      "text/html": [
       "<pre>| 16836        | 46.75       | 1m 55s       |</pre>"
      ],
      "text/plain": [
       "| 16836        | 46.75       | 1m 55s       |"
      ]
     },
     "metadata": {},
     "output_type": "display_data"
    },
    {
     "data": {
      "text/html": [
       "<pre>| 17009        | 47.25       | 1m 56s       |</pre>"
      ],
      "text/plain": [
       "| 17009        | 47.25       | 1m 56s       |"
      ]
     },
     "metadata": {},
     "output_type": "display_data"
    },
    {
     "data": {
      "text/html": [
       "<pre>| 17171        | 47.5        | 1m 57s       |</pre>"
      ],
      "text/plain": [
       "| 17171        | 47.5        | 1m 57s       |"
      ]
     },
     "metadata": {},
     "output_type": "display_data"
    },
    {
     "data": {
      "text/html": [
       "<pre>| 17337        | 48          | 1m 58s       |</pre>"
      ],
      "text/plain": [
       "| 17337        | 48          | 1m 58s       |"
      ]
     },
     "metadata": {},
     "output_type": "display_data"
    },
    {
     "data": {
      "text/html": [
       "<pre>| 17486        | 48.5        | 1m 59s       |</pre>"
      ],
      "text/plain": [
       "| 17486        | 48.5        | 1m 59s       |"
      ]
     },
     "metadata": {},
     "output_type": "display_data"
    },
    {
     "data": {
      "text/html": [
       "<pre>| 17651        | 49          | 2m 0s        |</pre>"
      ],
      "text/plain": [
       "| 17651        | 49          | 2m 0s        |"
      ]
     },
     "metadata": {},
     "output_type": "display_data"
    },
    {
     "data": {
      "text/html": [
       "<pre>| 17827        | 49.5        | 2m 1s        |</pre>"
      ],
      "text/plain": [
       "| 17827        | 49.5        | 2m 1s        |"
      ]
     },
     "metadata": {},
     "output_type": "display_data"
    },
    {
     "data": {
      "text/html": [
       "<pre>| 17996        | 50          | 2m 2s        |</pre>"
      ],
      "text/plain": [
       "| 17996        | 50          | 2m 2s        |"
      ]
     },
     "metadata": {},
     "output_type": "display_data"
    },
    {
     "data": {
      "text/html": [
       "<pre>| 18174        | 50.5        | 2m 3s        |</pre>"
      ],
      "text/plain": [
       "| 18174        | 50.5        | 2m 3s        |"
      ]
     },
     "metadata": {},
     "output_type": "display_data"
    },
    {
     "data": {
      "text/html": [
       "<pre>| 18320        | 50.75       | 2m 4s        |</pre>"
      ],
      "text/plain": [
       "| 18320        | 50.75       | 2m 4s        |"
      ]
     },
     "metadata": {},
     "output_type": "display_data"
    },
    {
     "data": {
      "text/html": [
       "<pre>| 18486        | 51.25       | 2m 5s        |</pre>"
      ],
      "text/plain": [
       "| 18486        | 51.25       | 2m 5s        |"
      ]
     },
     "metadata": {},
     "output_type": "display_data"
    },
    {
     "data": {
      "text/html": [
       "<pre>| 18643        | 51.75       | 2m 6s        |</pre>"
      ],
      "text/plain": [
       "| 18643        | 51.75       | 2m 6s        |"
      ]
     },
     "metadata": {},
     "output_type": "display_data"
    },
    {
     "data": {
      "text/html": [
       "<pre>| 18807        | 52.25       | 2m 7s        |</pre>"
      ],
      "text/plain": [
       "| 18807        | 52.25       | 2m 7s        |"
      ]
     },
     "metadata": {},
     "output_type": "display_data"
    },
    {
     "data": {
      "text/html": [
       "<pre>| 18984        | 52.75       | 2m 8s        |</pre>"
      ],
      "text/plain": [
       "| 18984        | 52.75       | 2m 8s        |"
      ]
     },
     "metadata": {},
     "output_type": "display_data"
    },
    {
     "data": {
      "text/html": [
       "<pre>| 19133        | 53          | 2m 9s        |</pre>"
      ],
      "text/plain": [
       "| 19133        | 53          | 2m 9s        |"
      ]
     },
     "metadata": {},
     "output_type": "display_data"
    },
    {
     "data": {
      "text/html": [
       "<pre>| 19312        | 53.5        | 2m 10s       |</pre>"
      ],
      "text/plain": [
       "| 19312        | 53.5        | 2m 10s       |"
      ]
     },
     "metadata": {},
     "output_type": "display_data"
    },
    {
     "data": {
      "text/html": [
       "<pre>| 19480        | 54          | 2m 11s       |</pre>"
      ],
      "text/plain": [
       "| 19480        | 54          | 2m 11s       |"
      ]
     },
     "metadata": {},
     "output_type": "display_data"
    },
    {
     "data": {
      "text/html": [
       "<pre>| 19648        | 54.5        | 2m 12s       |</pre>"
      ],
      "text/plain": [
       "| 19648        | 54.5        | 2m 12s       |"
      ]
     },
     "metadata": {},
     "output_type": "display_data"
    },
    {
     "data": {
      "text/html": [
       "<pre>| 19808        | 55          | 2m 13s       |</pre>"
      ],
      "text/plain": [
       "| 19808        | 55          | 2m 13s       |"
      ]
     },
     "metadata": {},
     "output_type": "display_data"
    },
    {
     "data": {
      "text/html": [
       "<pre>| 19986        | 55.5        | 2m 14s       |</pre>"
      ],
      "text/plain": [
       "| 19986        | 55.5        | 2m 14s       |"
      ]
     },
     "metadata": {},
     "output_type": "display_data"
    },
    {
     "data": {
      "text/html": [
       "<pre>| 20134        | 55.75       | 2m 15s       |</pre>"
      ],
      "text/plain": [
       "| 20134        | 55.75       | 2m 15s       |"
      ]
     },
     "metadata": {},
     "output_type": "display_data"
    },
    {
     "data": {
      "text/html": [
       "<pre>| 20208        | 56          | 2m 16s       |</pre>"
      ],
      "text/plain": [
       "| 20208        | 56          | 2m 16s       |"
      ]
     },
     "metadata": {},
     "output_type": "display_data"
    },
    {
     "data": {
      "text/html": [
       "<pre>| 20287        | 56.25       | 2m 17s       |</pre>"
      ],
      "text/plain": [
       "| 20287        | 56.25       | 2m 17s       |"
      ]
     },
     "metadata": {},
     "output_type": "display_data"
    },
    {
     "data": {
      "text/html": [
       "<pre>| 20372        | 56.5        | 2m 18s       |</pre>"
      ],
      "text/plain": [
       "| 20372        | 56.5        | 2m 18s       |"
      ]
     },
     "metadata": {},
     "output_type": "display_data"
    },
    {
     "data": {
      "text/html": [
       "<pre>| 20541        | 57          | 2m 19s       |</pre>"
      ],
      "text/plain": [
       "| 20541        | 57          | 2m 19s       |"
      ]
     },
     "metadata": {},
     "output_type": "display_data"
    },
    {
     "data": {
      "text/html": [
       "<pre>| 20704        | 57.5        | 2m 20s       |</pre>"
      ],
      "text/plain": [
       "| 20704        | 57.5        | 2m 20s       |"
      ]
     },
     "metadata": {},
     "output_type": "display_data"
    },
    {
     "data": {
      "text/html": [
       "<pre>| 20859        | 57.75       | 2m 21s       |</pre>"
      ],
      "text/plain": [
       "| 20859        | 57.75       | 2m 21s       |"
      ]
     },
     "metadata": {},
     "output_type": "display_data"
    },
    {
     "data": {
      "text/html": [
       "<pre>| 20962        | 58.25       | 2m 22s       |</pre>"
      ],
      "text/plain": [
       "| 20962        | 58.25       | 2m 22s       |"
      ]
     },
     "metadata": {},
     "output_type": "display_data"
    },
    {
     "data": {
      "text/html": [
       "<pre>| 21043        | 58.25       | 2m 23s       |</pre>"
      ],
      "text/plain": [
       "| 21043        | 58.25       | 2m 23s       |"
      ]
     },
     "metadata": {},
     "output_type": "display_data"
    },
    {
     "data": {
      "text/html": [
       "<pre>| 21191        | 58.75       | 2m 24s       |</pre>"
      ],
      "text/plain": [
       "| 21191        | 58.75       | 2m 24s       |"
      ]
     },
     "metadata": {},
     "output_type": "display_data"
    },
    {
     "data": {
      "text/html": [
       "<pre>| 21360        | 59.25       | 2m 25s       |</pre>"
      ],
      "text/plain": [
       "| 21360        | 59.25       | 2m 25s       |"
      ]
     },
     "metadata": {},
     "output_type": "display_data"
    },
    {
     "data": {
      "text/html": [
       "<pre>| 21522        | 59.75       | 2m 26s       |</pre>"
      ],
      "text/plain": [
       "| 21522        | 59.75       | 2m 26s       |"
      ]
     },
     "metadata": {},
     "output_type": "display_data"
    },
    {
     "data": {
      "text/html": [
       "<pre>| 21692        | 60.25       | 2m 27s       |</pre>"
      ],
      "text/plain": [
       "| 21692        | 60.25       | 2m 27s       |"
      ]
     },
     "metadata": {},
     "output_type": "display_data"
    },
    {
     "data": {
      "text/html": [
       "<pre>| 21823        | 60.5        | 2m 28s       |</pre>"
      ],
      "text/plain": [
       "| 21823        | 60.5        | 2m 28s       |"
      ]
     },
     "metadata": {},
     "output_type": "display_data"
    },
    {
     "data": {
      "text/html": [
       "<pre>| 21906        | 60.75       | 2m 29s       |</pre>"
      ],
      "text/plain": [
       "| 21906        | 60.75       | 2m 29s       |"
      ]
     },
     "metadata": {},
     "output_type": "display_data"
    },
    {
     "data": {
      "text/html": [
       "<pre>| 21996        | 61          | 2m 30s       |</pre>"
      ],
      "text/plain": [
       "| 21996        | 61          | 2m 30s       |"
      ]
     },
     "metadata": {},
     "output_type": "display_data"
    },
    {
     "data": {
      "text/html": [
       "<pre>| 22153        | 61.5        | 2m 31s       |</pre>"
      ],
      "text/plain": [
       "| 22153        | 61.5        | 2m 31s       |"
      ]
     },
     "metadata": {},
     "output_type": "display_data"
    },
    {
     "data": {
      "text/html": [
       "<pre>| 22321        | 62          | 2m 32s       |</pre>"
      ],
      "text/plain": [
       "| 22321        | 62          | 2m 32s       |"
      ]
     },
     "metadata": {},
     "output_type": "display_data"
    },
    {
     "data": {
      "text/html": [
       "<pre>| 22475        | 62.25       | 2m 33s       |</pre>"
      ],
      "text/plain": [
       "| 22475        | 62.25       | 2m 33s       |"
      ]
     },
     "metadata": {},
     "output_type": "display_data"
    },
    {
     "data": {
      "text/html": [
       "<pre>| 22641        | 62.75       | 2m 34s       |</pre>"
      ],
      "text/plain": [
       "| 22641        | 62.75       | 2m 34s       |"
      ]
     },
     "metadata": {},
     "output_type": "display_data"
    },
    {
     "data": {
      "text/html": [
       "<pre>| 22803        | 63.25       | 2m 35s       |</pre>"
      ],
      "text/plain": [
       "| 22803        | 63.25       | 2m 35s       |"
      ]
     },
     "metadata": {},
     "output_type": "display_data"
    },
    {
     "data": {
      "text/html": [
       "<pre>| 22973        | 63.75       | 2m 36s       |</pre>"
      ],
      "text/plain": [
       "| 22973        | 63.75       | 2m 36s       |"
      ]
     },
     "metadata": {},
     "output_type": "display_data"
    },
    {
     "data": {
      "text/html": [
       "<pre>| 23156        | 64.25       | 2m 37s       |</pre>"
      ],
      "text/plain": [
       "| 23156        | 64.25       | 2m 37s       |"
      ]
     },
     "metadata": {},
     "output_type": "display_data"
    },
    {
     "data": {
      "text/html": [
       "<pre>| 23239        | 64.5        | 2m 38s       |</pre>"
      ],
      "text/plain": [
       "| 23239        | 64.5        | 2m 38s       |"
      ]
     },
     "metadata": {},
     "output_type": "display_data"
    },
    {
     "data": {
      "text/html": [
       "<pre>| 23367        | 64.75       | 2m 39s       |</pre>"
      ],
      "text/plain": [
       "| 23367        | 64.75       | 2m 39s       |"
      ]
     },
     "metadata": {},
     "output_type": "display_data"
    },
    {
     "data": {
      "text/html": [
       "<pre>| 23519        | 65.25       | 2m 40s       |</pre>"
      ],
      "text/plain": [
       "| 23519        | 65.25       | 2m 40s       |"
      ]
     },
     "metadata": {},
     "output_type": "display_data"
    },
    {
     "data": {
      "text/html": [
       "<pre>| 23680        | 65.75       | 2m 41s       |</pre>"
      ],
      "text/plain": [
       "| 23680        | 65.75       | 2m 41s       |"
      ]
     },
     "metadata": {},
     "output_type": "display_data"
    },
    {
     "data": {
      "text/html": [
       "<pre>| 23852        | 66.25       | 2m 42s       |</pre>"
      ],
      "text/plain": [
       "| 23852        | 66.25       | 2m 42s       |"
      ]
     },
     "metadata": {},
     "output_type": "display_data"
    },
    {
     "data": {
      "text/html": [
       "<pre>| 23973        | 66.5        | 2m 43s       |</pre>"
      ],
      "text/plain": [
       "| 23973        | 66.5        | 2m 43s       |"
      ]
     },
     "metadata": {},
     "output_type": "display_data"
    },
    {
     "data": {
      "text/html": [
       "<pre>| 24134        | 67          | 2m 44s       |</pre>"
      ],
      "text/plain": [
       "| 24134        | 67          | 2m 44s       |"
      ]
     },
     "metadata": {},
     "output_type": "display_data"
    },
    {
     "data": {
      "text/html": [
       "<pre>| 24308        | 67.5        | 2m 45s       |</pre>"
      ],
      "text/plain": [
       "| 24308        | 67.5        | 2m 45s       |"
      ]
     },
     "metadata": {},
     "output_type": "display_data"
    },
    {
     "data": {
      "text/html": [
       "<pre>| 24468        | 67.75       | 2m 46s       |</pre>"
      ],
      "text/plain": [
       "| 24468        | 67.75       | 2m 46s       |"
      ]
     },
     "metadata": {},
     "output_type": "display_data"
    },
    {
     "data": {
      "text/html": [
       "<pre>| 24621        | 68.25       | 2m 47s       |</pre>"
      ],
      "text/plain": [
       "| 24621        | 68.25       | 2m 47s       |"
      ]
     },
     "metadata": {},
     "output_type": "display_data"
    },
    {
     "data": {
      "text/html": [
       "<pre>| 24780        | 68.75       | 2m 48s       |</pre>"
      ],
      "text/plain": [
       "| 24780        | 68.75       | 2m 48s       |"
      ]
     },
     "metadata": {},
     "output_type": "display_data"
    },
    {
     "data": {
      "text/html": [
       "<pre>| 24941        | 69.25       | 2m 49s       |</pre>"
      ],
      "text/plain": [
       "| 24941        | 69.25       | 2m 49s       |"
      ]
     },
     "metadata": {},
     "output_type": "display_data"
    },
    {
     "data": {
      "text/html": [
       "<pre>| 25030        | 69.5        | 2m 50s       |</pre>"
      ],
      "text/plain": [
       "| 25030        | 69.5        | 2m 50s       |"
      ]
     },
     "metadata": {},
     "output_type": "display_data"
    },
    {
     "data": {
      "text/html": [
       "<pre>| 25161        | 69.75       | 2m 51s       |</pre>"
      ],
      "text/plain": [
       "| 25161        | 69.75       | 2m 51s       |"
      ]
     },
     "metadata": {},
     "output_type": "display_data"
    },
    {
     "data": {
      "text/html": [
       "<pre>| 25329        | 70.25       | 2m 52s       |</pre>"
      ],
      "text/plain": [
       "| 25329        | 70.25       | 2m 52s       |"
      ]
     },
     "metadata": {},
     "output_type": "display_data"
    },
    {
     "data": {
      "text/html": [
       "<pre>| 25494        | 70.75       | 2m 53s       |</pre>"
      ],
      "text/plain": [
       "| 25494        | 70.75       | 2m 53s       |"
      ]
     },
     "metadata": {},
     "output_type": "display_data"
    },
    {
     "data": {
      "text/html": [
       "<pre>| 25669        | 71.25       | 2m 54s       |</pre>"
      ],
      "text/plain": [
       "| 25669        | 71.25       | 2m 54s       |"
      ]
     },
     "metadata": {},
     "output_type": "display_data"
    },
    {
     "data": {
      "text/html": [
       "<pre>| 25820        | 71.75       | 2m 55s       |</pre>"
      ],
      "text/plain": [
       "| 25820        | 71.75       | 2m 55s       |"
      ]
     },
     "metadata": {},
     "output_type": "display_data"
    },
    {
     "data": {
      "text/html": [
       "<pre>| 25982        | 72          | 2m 56s       |</pre>"
      ],
      "text/plain": [
       "| 25982        | 72          | 2m 56s       |"
      ]
     },
     "metadata": {},
     "output_type": "display_data"
    },
    {
     "data": {
      "text/html": [
       "<pre>| 26144        | 72.5        | 2m 57s       |</pre>"
      ],
      "text/plain": [
       "| 26144        | 72.5        | 2m 57s       |"
      ]
     },
     "metadata": {},
     "output_type": "display_data"
    },
    {
     "data": {
      "text/html": [
       "<pre>| 26301        | 73          | 2m 58s       |</pre>"
      ],
      "text/plain": [
       "| 26301        | 73          | 2m 58s       |"
      ]
     },
     "metadata": {},
     "output_type": "display_data"
    },
    {
     "data": {
      "text/html": [
       "<pre>| 26475        | 73.5        | 2m 59s       |</pre>"
      ],
      "text/plain": [
       "| 26475        | 73.5        | 2m 59s       |"
      ]
     },
     "metadata": {},
     "output_type": "display_data"
    },
    {
     "data": {
      "text/html": [
       "<pre>| 26585        | 73.75       | 3m 0s        |</pre>"
      ],
      "text/plain": [
       "| 26585        | 73.75       | 3m 0s        |"
      ]
     },
     "metadata": {},
     "output_type": "display_data"
    },
    {
     "data": {
      "text/html": [
       "<pre>| 26715        | 74          | 3m 1s        |</pre>"
      ],
      "text/plain": [
       "| 26715        | 74          | 3m 1s        |"
      ]
     },
     "metadata": {},
     "output_type": "display_data"
    },
    {
     "data": {
      "text/html": [
       "<pre>| 26866        | 74.5        | 3m 2s        |</pre>"
      ],
      "text/plain": [
       "| 26866        | 74.5        | 3m 2s        |"
      ]
     },
     "metadata": {},
     "output_type": "display_data"
    },
    {
     "data": {
      "text/html": [
       "<pre>| 27007        | 75          | 3m 3s        |</pre>"
      ],
      "text/plain": [
       "| 27007        | 75          | 3m 3s        |"
      ]
     },
     "metadata": {},
     "output_type": "display_data"
    },
    {
     "data": {
      "text/html": [
       "<pre>| 27163        | 75.25       | 3m 4s        |</pre>"
      ],
      "text/plain": [
       "| 27163        | 75.25       | 3m 4s        |"
      ]
     },
     "metadata": {},
     "output_type": "display_data"
    },
    {
     "data": {
      "text/html": [
       "<pre>| 27305        | 75.75       | 3m 5s        |</pre>"
      ],
      "text/plain": [
       "| 27305        | 75.75       | 3m 5s        |"
      ]
     },
     "metadata": {},
     "output_type": "display_data"
    },
    {
     "data": {
      "text/html": [
       "<pre>| 27458        | 76.25       | 3m 6s        |</pre>"
      ],
      "text/plain": [
       "| 27458        | 76.25       | 3m 6s        |"
      ]
     },
     "metadata": {},
     "output_type": "display_data"
    },
    {
     "data": {
      "text/html": [
       "<pre>| 27622        | 76.75       | 3m 7s        |</pre>"
      ],
      "text/plain": [
       "| 27622        | 76.75       | 3m 7s        |"
      ]
     },
     "metadata": {},
     "output_type": "display_data"
    },
    {
     "data": {
      "text/html": [
       "<pre>| 27784        | 77          | 3m 8s        |</pre>"
      ],
      "text/plain": [
       "| 27784        | 77          | 3m 8s        |"
      ]
     },
     "metadata": {},
     "output_type": "display_data"
    },
    {
     "data": {
      "text/html": [
       "<pre>| 27953        | 77.5        | 3m 9s        |</pre>"
      ],
      "text/plain": [
       "| 27953        | 77.5        | 3m 9s        |"
      ]
     },
     "metadata": {},
     "output_type": "display_data"
    },
    {
     "data": {
      "text/html": [
       "<pre>| 28056        | 77.75       | 3m 10s       |</pre>"
      ],
      "text/plain": [
       "| 28056        | 77.75       | 3m 10s       |"
      ]
     },
     "metadata": {},
     "output_type": "display_data"
    },
    {
     "data": {
      "text/html": [
       "<pre>| 28161        | 78.25       | 3m 11s       |</pre>"
      ],
      "text/plain": [
       "| 28161        | 78.25       | 3m 11s       |"
      ]
     },
     "metadata": {},
     "output_type": "display_data"
    },
    {
     "data": {
      "text/html": [
       "<pre>| 28301        | 78.5        | 3m 12s       |</pre>"
      ],
      "text/plain": [
       "| 28301        | 78.5        | 3m 12s       |"
      ]
     },
     "metadata": {},
     "output_type": "display_data"
    },
    {
     "data": {
      "text/html": [
       "<pre>| 28442        | 79          | 3m 13s       |</pre>"
      ],
      "text/plain": [
       "| 28442        | 79          | 3m 13s       |"
      ]
     },
     "metadata": {},
     "output_type": "display_data"
    },
    {
     "data": {
      "text/html": [
       "<pre>| 28582        | 79.25       | 3m 14s       |</pre>"
      ],
      "text/plain": [
       "| 28582        | 79.25       | 3m 14s       |"
      ]
     },
     "metadata": {},
     "output_type": "display_data"
    },
    {
     "data": {
      "text/html": [
       "<pre>| 28721        | 79.75       | 3m 15s       |</pre>"
      ],
      "text/plain": [
       "| 28721        | 79.75       | 3m 15s       |"
      ]
     },
     "metadata": {},
     "output_type": "display_data"
    },
    {
     "data": {
      "text/html": [
       "<pre>| 28891        | 80.25       | 3m 16s       |</pre>"
      ],
      "text/plain": [
       "| 28891        | 80.25       | 3m 16s       |"
      ]
     },
     "metadata": {},
     "output_type": "display_data"
    },
    {
     "data": {
      "text/html": [
       "<pre>| 29045        | 80.5        | 3m 17s       |</pre>"
      ],
      "text/plain": [
       "| 29045        | 80.5        | 3m 17s       |"
      ]
     },
     "metadata": {},
     "output_type": "display_data"
    },
    {
     "data": {
      "text/html": [
       "<pre>| 29204        | 81          | 3m 18s       |</pre>"
      ],
      "text/plain": [
       "| 29204        | 81          | 3m 18s       |"
      ]
     },
     "metadata": {},
     "output_type": "display_data"
    },
    {
     "data": {
      "text/html": [
       "<pre>| 29366        | 81.5        | 3m 19s       |</pre>"
      ],
      "text/plain": [
       "| 29366        | 81.5        | 3m 19s       |"
      ]
     },
     "metadata": {},
     "output_type": "display_data"
    },
    {
     "data": {
      "text/html": [
       "<pre>| 29529        | 82          | 3m 20s       |</pre>"
      ],
      "text/plain": [
       "| 29529        | 82          | 3m 20s       |"
      ]
     },
     "metadata": {},
     "output_type": "display_data"
    },
    {
     "data": {
      "text/html": [
       "<pre>| 29706        | 82.5        | 3m 21s       |</pre>"
      ],
      "text/plain": [
       "| 29706        | 82.5        | 3m 21s       |"
      ]
     },
     "metadata": {},
     "output_type": "display_data"
    },
    {
     "data": {
      "text/html": [
       "<pre>| 29875        | 83          | 3m 22s       |</pre>"
      ],
      "text/plain": [
       "| 29875        | 83          | 3m 22s       |"
      ]
     },
     "metadata": {},
     "output_type": "display_data"
    },
    {
     "data": {
      "text/html": [
       "<pre>| 30049        | 83.5        | 3m 23s       |</pre>"
      ],
      "text/plain": [
       "| 30049        | 83.5        | 3m 23s       |"
      ]
     },
     "metadata": {},
     "output_type": "display_data"
    },
    {
     "data": {
      "text/html": [
       "<pre>| 30229        | 84          | 3m 24s       |</pre>"
      ],
      "text/plain": [
       "| 30229        | 84          | 3m 24s       |"
      ]
     },
     "metadata": {},
     "output_type": "display_data"
    },
    {
     "data": {
      "text/html": [
       "<pre>| 30392        | 84.25       | 3m 25s       |</pre>"
      ],
      "text/plain": [
       "| 30392        | 84.25       | 3m 25s       |"
      ]
     },
     "metadata": {},
     "output_type": "display_data"
    },
    {
     "data": {
      "text/html": [
       "<pre>| 30537        | 84.75       | 3m 26s       |</pre>"
      ],
      "text/plain": [
       "| 30537        | 84.75       | 3m 26s       |"
      ]
     },
     "metadata": {},
     "output_type": "display_data"
    },
    {
     "data": {
      "text/html": [
       "<pre>| 30645        | 85          | 3m 27s       |</pre>"
      ],
      "text/plain": [
       "| 30645        | 85          | 3m 27s       |"
      ]
     },
     "metadata": {},
     "output_type": "display_data"
    },
    {
     "data": {
      "text/html": [
       "<pre>| 30794        | 85.5        | 3m 28s       |</pre>"
      ],
      "text/plain": [
       "| 30794        | 85.5        | 3m 28s       |"
      ]
     },
     "metadata": {},
     "output_type": "display_data"
    },
    {
     "data": {
      "text/html": [
       "<pre>| 30910        | 85.75       | 3m 29s       |</pre>"
      ],
      "text/plain": [
       "| 30910        | 85.75       | 3m 29s       |"
      ]
     },
     "metadata": {},
     "output_type": "display_data"
    },
    {
     "data": {
      "text/html": [
       "<pre>| 31075        | 86.25       | 3m 30s       |</pre>"
      ],
      "text/plain": [
       "| 31075        | 86.25       | 3m 30s       |"
      ]
     },
     "metadata": {},
     "output_type": "display_data"
    },
    {
     "data": {
      "text/html": [
       "<pre>| 31215        | 86.5        | 3m 31s       |</pre>"
      ],
      "text/plain": [
       "| 31215        | 86.5        | 3m 31s       |"
      ]
     },
     "metadata": {},
     "output_type": "display_data"
    },
    {
     "data": {
      "text/html": [
       "<pre>| 31367        | 87          | 3m 32s       |</pre>"
      ],
      "text/plain": [
       "| 31367        | 87          | 3m 32s       |"
      ]
     },
     "metadata": {},
     "output_type": "display_data"
    },
    {
     "data": {
      "text/html": [
       "<pre>| 31540        | 87.5        | 3m 33s       |</pre>"
      ],
      "text/plain": [
       "| 31540        | 87.5        | 3m 33s       |"
      ]
     },
     "metadata": {},
     "output_type": "display_data"
    },
    {
     "data": {
      "text/html": [
       "<pre>| 31692        | 88          | 3m 34s       |</pre>"
      ],
      "text/plain": [
       "| 31692        | 88          | 3m 34s       |"
      ]
     },
     "metadata": {},
     "output_type": "display_data"
    },
    {
     "data": {
      "text/html": [
       "<pre>| 31804        | 88.25       | 3m 35s       |</pre>"
      ],
      "text/plain": [
       "| 31804        | 88.25       | 3m 35s       |"
      ]
     },
     "metadata": {},
     "output_type": "display_data"
    },
    {
     "data": {
      "text/html": [
       "<pre>| 31949        | 88.75       | 3m 36s       |</pre>"
      ],
      "text/plain": [
       "| 31949        | 88.75       | 3m 36s       |"
      ]
     },
     "metadata": {},
     "output_type": "display_data"
    },
    {
     "data": {
      "text/html": [
       "<pre>| 32116        | 89          | 3m 37s       |</pre>"
      ],
      "text/plain": [
       "| 32116        | 89          | 3m 37s       |"
      ]
     },
     "metadata": {},
     "output_type": "display_data"
    },
    {
     "data": {
      "text/html": [
       "<pre>| 32284        | 89.5        | 3m 38s       |</pre>"
      ],
      "text/plain": [
       "| 32284        | 89.5        | 3m 38s       |"
      ]
     },
     "metadata": {},
     "output_type": "display_data"
    },
    {
     "data": {
      "text/html": [
       "<pre>| 32437        | 90          | 3m 39s       |</pre>"
      ],
      "text/plain": [
       "| 32437        | 90          | 3m 39s       |"
      ]
     },
     "metadata": {},
     "output_type": "display_data"
    },
    {
     "data": {
      "text/html": [
       "<pre>| 32594        | 90.5        | 3m 40s       |</pre>"
      ],
      "text/plain": [
       "| 32594        | 90.5        | 3m 40s       |"
      ]
     },
     "metadata": {},
     "output_type": "display_data"
    },
    {
     "data": {
      "text/html": [
       "<pre>| 32705        | 90.75       | 3m 41s       |</pre>"
      ],
      "text/plain": [
       "| 32705        | 90.75       | 3m 41s       |"
      ]
     },
     "metadata": {},
     "output_type": "display_data"
    },
    {
     "data": {
      "text/html": [
       "<pre>| 32859        | 91.25       | 3m 42s       |</pre>"
      ],
      "text/plain": [
       "| 32859        | 91.25       | 3m 42s       |"
      ]
     },
     "metadata": {},
     "output_type": "display_data"
    },
    {
     "data": {
      "text/html": [
       "<pre>| 33021        | 91.75       | 3m 43s       |</pre>"
      ],
      "text/plain": [
       "| 33021        | 91.75       | 3m 43s       |"
      ]
     },
     "metadata": {},
     "output_type": "display_data"
    },
    {
     "data": {
      "text/html": [
       "<pre>| 33162        | 92          | 3m 44s       |</pre>"
      ],
      "text/plain": [
       "| 33162        | 92          | 3m 44s       |"
      ]
     },
     "metadata": {},
     "output_type": "display_data"
    },
    {
     "data": {
      "text/html": [
       "<pre>| 33310        | 92.5        | 3m 45s       |</pre>"
      ],
      "text/plain": [
       "| 33310        | 92.5        | 3m 45s       |"
      ]
     },
     "metadata": {},
     "output_type": "display_data"
    },
    {
     "data": {
      "text/html": [
       "<pre>| 33459        | 92.75       | 3m 46s       |</pre>"
      ],
      "text/plain": [
       "| 33459        | 92.75       | 3m 46s       |"
      ]
     },
     "metadata": {},
     "output_type": "display_data"
    },
    {
     "data": {
      "text/html": [
       "<pre>| 33608        | 93.25       | 3m 47s       |</pre>"
      ],
      "text/plain": [
       "| 33608        | 93.25       | 3m 47s       |"
      ]
     },
     "metadata": {},
     "output_type": "display_data"
    },
    {
     "data": {
      "text/html": [
       "<pre>| 33752        | 93.75       | 3m 48s       |</pre>"
      ],
      "text/plain": [
       "| 33752        | 93.75       | 3m 48s       |"
      ]
     },
     "metadata": {},
     "output_type": "display_data"
    },
    {
     "data": {
      "text/html": [
       "<pre>| 33904        | 94          | 3m 49s       |</pre>"
      ],
      "text/plain": [
       "| 33904        | 94          | 3m 49s       |"
      ]
     },
     "metadata": {},
     "output_type": "display_data"
    },
    {
     "data": {
      "text/html": [
       "<pre>| 34042        | 94.5        | 3m 50s       |</pre>"
      ],
      "text/plain": [
       "| 34042        | 94.5        | 3m 50s       |"
      ]
     },
     "metadata": {},
     "output_type": "display_data"
    },
    {
     "data": {
      "text/html": [
       "<pre>| 34201        | 95          | 3m 51s       |</pre>"
      ],
      "text/plain": [
       "| 34201        | 95          | 3m 51s       |"
      ]
     },
     "metadata": {},
     "output_type": "display_data"
    },
    {
     "data": {
      "text/html": [
       "<pre>| 34335        | 95.25       | 3m 52s       |</pre>"
      ],
      "text/plain": [
       "| 34335        | 95.25       | 3m 52s       |"
      ]
     },
     "metadata": {},
     "output_type": "display_data"
    },
    {
     "data": {
      "text/html": [
       "<pre>| 34479        | 95.75       | 3m 53s       |</pre>"
      ],
      "text/plain": [
       "| 34479        | 95.75       | 3m 53s       |"
      ]
     },
     "metadata": {},
     "output_type": "display_data"
    },
    {
     "data": {
      "text/html": [
       "<pre>| 34606        | 96          | 3m 54s       |</pre>"
      ],
      "text/plain": [
       "| 34606        | 96          | 3m 54s       |"
      ]
     },
     "metadata": {},
     "output_type": "display_data"
    },
    {
     "data": {
      "text/html": [
       "<pre>| 34742        | 96.5        | 3m 55s       |</pre>"
      ],
      "text/plain": [
       "| 34742        | 96.5        | 3m 55s       |"
      ]
     },
     "metadata": {},
     "output_type": "display_data"
    },
    {
     "data": {
      "text/html": [
       "<pre>| 34892        | 96.75       | 3m 56s       |</pre>"
      ],
      "text/plain": [
       "| 34892        | 96.75       | 3m 56s       |"
      ]
     },
     "metadata": {},
     "output_type": "display_data"
    },
    {
     "data": {
      "text/html": [
       "<pre>| 35042        | 97.25       | 3m 57s       |</pre>"
      ],
      "text/plain": [
       "| 35042        | 97.25       | 3m 57s       |"
      ]
     },
     "metadata": {},
     "output_type": "display_data"
    },
    {
     "data": {
      "text/html": [
       "<pre>| 35229        | 97.75       | 3m 58s       |</pre>"
      ],
      "text/plain": [
       "| 35229        | 97.75       | 3m 58s       |"
      ]
     },
     "metadata": {},
     "output_type": "display_data"
    },
    {
     "data": {
      "text/html": [
       "<pre>| 35391        | 98.25       | 3m 59s       |</pre>"
      ],
      "text/plain": [
       "| 35391        | 98.25       | 3m 59s       |"
      ]
     },
     "metadata": {},
     "output_type": "display_data"
    },
    {
     "data": {
      "text/html": [
       "<pre>| 35517        | 98.5        | 4m 0s        |</pre>"
      ],
      "text/plain": [
       "| 35517        | 98.5        | 4m 0s        |"
      ]
     },
     "metadata": {},
     "output_type": "display_data"
    },
    {
     "data": {
      "text/html": [
       "<pre>| 35670        | 99          | 4m 1s        |</pre>"
      ],
      "text/plain": [
       "| 35670        | 99          | 4m 1s        |"
      ]
     },
     "metadata": {},
     "output_type": "display_data"
    },
    {
     "data": {
      "text/html": [
       "<pre>| 35815        | 99.5        | 4m 2s        |</pre>"
      ],
      "text/plain": [
       "| 35815        | 99.5        | 4m 2s        |"
      ]
     },
     "metadata": {},
     "output_type": "display_data"
    },
    {
     "data": {
      "text/html": [
       "<pre>| 35955        | 99.75       | 4m 3s        |</pre>"
      ],
      "text/plain": [
       "| 35955        | 99.75       | 4m 3s        |"
      ]
     },
     "metadata": {},
     "output_type": "display_data"
    },
    {
     "data": {
      "text/html": [
       "<pre>| Done         |             | 4m 4s        |</pre>"
      ],
      "text/plain": [
       "| Done         |             | 4m 4s        |"
      ]
     },
     "metadata": {},
     "output_type": "display_data"
    },
    {
     "data": {
      "text/html": [
       "<pre>+--------------+-------------+--------------+</pre>"
      ],
      "text/plain": [
       "+--------------+-------------+--------------+"
      ]
     },
     "metadata": {},
     "output_type": "display_data"
    },
    {
     "data": {
      "text/plain": [
       "{'accuracy': 0.9294984021119911, 'confusion_matrix': Columns:\n",
       " \ttarget_label\tint\n",
       " \tpredicted_label\tint\n",
       " \tcount\tint\n",
       " \n",
       " Rows: 4\n",
       " \n",
       " Data:\n",
       " +--------------+-----------------+-------+\n",
       " | target_label | predicted_label | count |\n",
       " +--------------+-----------------+-------+\n",
       " |      0       |        0        | 33437 |\n",
       " |      1       |        0        |  2504 |\n",
       " |      1       |        1        |   11  |\n",
       " |      0       |        1        |   33  |\n",
       " +--------------+-----------------+-------+\n",
       " [4 rows x 3 columns], 'roc_curve': Columns:\n",
       " \tthreshold\tfloat\n",
       " \tfpr\tfloat\n",
       " \ttpr\tfloat\n",
       " \tp\tint\n",
       " \tn\tint\n",
       " \n",
       " Rows: 100001\n",
       " \n",
       " Data:\n",
       " +-----------+-----+-----+------+-------+\n",
       " | threshold | fpr | tpr |  p   |   n   |\n",
       " +-----------+-----+-----+------+-------+\n",
       " |    0.0    | 1.0 | 1.0 | 2515 | 33470 |\n",
       " |   1e-05   | 1.0 | 1.0 | 2515 | 33470 |\n",
       " |   2e-05   | 1.0 | 1.0 | 2515 | 33470 |\n",
       " |   3e-05   | 1.0 | 1.0 | 2515 | 33470 |\n",
       " |   4e-05   | 1.0 | 1.0 | 2515 | 33470 |\n",
       " |   5e-05   | 1.0 | 1.0 | 2515 | 33470 |\n",
       " |   6e-05   | 1.0 | 1.0 | 2515 | 33470 |\n",
       " |   7e-05   | 1.0 | 1.0 | 2515 | 33470 |\n",
       " |   8e-05   | 1.0 | 1.0 | 2515 | 33470 |\n",
       " |   9e-05   | 1.0 | 1.0 | 2515 | 33470 |\n",
       " +-----------+-----+-----+------+-------+\n",
       " [100001 rows x 5 columns]\n",
       " Note: Only the head of the SFrame is printed.\n",
       " You can use print_rows(num_rows=m, num_columns=n) to print more rows and columns.}"
      ]
     },
     "execution_count": 97,
     "metadata": {},
     "output_type": "execute_result"
    }
   ],
   "source": [
    "nearest_neighbor_model.evaluate(test_data)"
   ]
  },
  {
   "cell_type": "raw",
   "metadata": {},
   "source": [
    "{'accuracy': 0.9294984021119911, 'confusion_matrix': Columns:\n",
    " \ttarget_label\tint\n",
    " \tpredicted_label\tint\n",
    " \tcount\tint\n",
    " \n",
    " Rows: 4\n",
    " \n",
    " Data:\n",
    " +--------------+-----------------+-------+\n",
    " | target_label | predicted_label | count |\n",
    " +--------------+-----------------+-------+\n",
    " |      0       |        0        | 33437 |\n",
    " |      1       |        0        |  2504 |\n",
    " |      1       |        1        |   11  |\n",
    " |      0       |        1        |   33  |\n",
    " +--------------+-----------------+-------+\n",
    " [4 rows x 3 columns], 'roc_curve': Columns:\n",
    " \tthreshold\tfloat\n",
    " \tfpr\tfloat\n",
    " \ttpr\tfloat\n",
    " \tp\tint\n",
    " \tn\tint\n",
    " \n",
    " Rows: 100001\n",
    " \n",
    " Data:\n",
    " +-----------+-----+-----+------+-------+\n",
    " | threshold | fpr | tpr |  p   |   n   |\n",
    " +-----------+-----+-----+------+-------+\n",
    " |    0.0    | 1.0 | 1.0 | 2515 | 33470 |\n",
    " |   1e-05   | 1.0 | 1.0 | 2515 | 33470 |\n",
    " |   2e-05   | 1.0 | 1.0 | 2515 | 33470 |\n",
    " |   3e-05   | 1.0 | 1.0 | 2515 | 33470 |\n",
    " |   4e-05   | 1.0 | 1.0 | 2515 | 33470 |\n",
    " |   5e-05   | 1.0 | 1.0 | 2515 | 33470 |\n",
    " |   6e-05   | 1.0 | 1.0 | 2515 | 33470 |\n",
    " |   7e-05   | 1.0 | 1.0 | 2515 | 33470 |\n",
    " |   8e-05   | 1.0 | 1.0 | 2515 | 33470 |\n",
    " |   9e-05   | 1.0 | 1.0 | 2515 | 33470 |\n",
    " +-----------+-----+-----+------+-------+\n",
    " [100001 rows x 5 columns]\n",
    " Note: Only the head of the SFrame is printed.\n",
    " You can use print_rows(num_rows=m, num_columns=n) to print more rows and columns.}"
   ]
  },
  {
   "cell_type": "code",
   "execution_count": 64,
   "metadata": {},
   "outputs": [
    {
     "data": {
      "text/html": [
       "<pre>Starting ball tree nearest neighbors model training.</pre>"
      ],
      "text/plain": [
       "Starting ball tree nearest neighbors model training."
      ]
     },
     "metadata": {},
     "output_type": "display_data"
    },
    {
     "data": {
      "text/html": [
       "<pre>+------------+--------------+</pre>"
      ],
      "text/plain": [
       "+------------+--------------+"
      ]
     },
     "metadata": {},
     "output_type": "display_data"
    },
    {
     "data": {
      "text/html": [
       "<pre>| Tree level | Elapsed Time |</pre>"
      ],
      "text/plain": [
       "| Tree level | Elapsed Time |"
      ]
     },
     "metadata": {},
     "output_type": "display_data"
    },
    {
     "data": {
      "text/html": [
       "<pre>+------------+--------------+</pre>"
      ],
      "text/plain": [
       "+------------+--------------+"
      ]
     },
     "metadata": {},
     "output_type": "display_data"
    },
    {
     "data": {
      "text/html": [
       "<pre>| 0          | 49.501ms     |</pre>"
      ],
      "text/plain": [
       "| 0          | 49.501ms     |"
      ]
     },
     "metadata": {},
     "output_type": "display_data"
    },
    {
     "data": {
      "text/html": [
       "<pre>| 1          | 95.503ms     |</pre>"
      ],
      "text/plain": [
       "| 1          | 95.503ms     |"
      ]
     },
     "metadata": {},
     "output_type": "display_data"
    },
    {
     "data": {
      "text/html": [
       "<pre>| 2          | 143ms        |</pre>"
      ],
      "text/plain": [
       "| 2          | 143ms        |"
      ]
     },
     "metadata": {},
     "output_type": "display_data"
    },
    {
     "data": {
      "text/html": [
       "<pre>| 3          | 197ms        |</pre>"
      ],
      "text/plain": [
       "| 3          | 197ms        |"
      ]
     },
     "metadata": {},
     "output_type": "display_data"
    },
    {
     "data": {
      "text/html": [
       "<pre>| 4          | 242ms        |</pre>"
      ],
      "text/plain": [
       "| 4          | 242ms        |"
      ]
     },
     "metadata": {},
     "output_type": "display_data"
    },
    {
     "data": {
      "text/html": [
       "<pre>| 5          | 294.501ms    |</pre>"
      ],
      "text/plain": [
       "| 5          | 294.501ms    |"
      ]
     },
     "metadata": {},
     "output_type": "display_data"
    },
    {
     "data": {
      "text/html": [
       "<pre>| 6          | 342.5ms      |</pre>"
      ],
      "text/plain": [
       "| 6          | 342.5ms      |"
      ]
     },
     "metadata": {},
     "output_type": "display_data"
    },
    {
     "data": {
      "text/html": [
       "<pre>| 7          | 367.001ms    |</pre>"
      ],
      "text/plain": [
       "| 7          | 367.001ms    |"
      ]
     },
     "metadata": {},
     "output_type": "display_data"
    },
    {
     "data": {
      "text/html": [
       "<pre>+------------+--------------+</pre>"
      ],
      "text/plain": [
       "+------------+--------------+"
      ]
     },
     "metadata": {},
     "output_type": "display_data"
    }
   ],
   "source": [
    "nearest_neighbor_model_ext = graphlab.nearest_neighbor_classifier.create(train_data, target=target, features=features_ext)"
   ]
  },
  {
   "cell_type": "code",
   "execution_count": 65,
   "metadata": {},
   "outputs": [
    {
     "data": {
      "application/javascript": [
       "$(\"head\").append($(\"<link/>\").attr({\n",
       "  rel:  \"stylesheet\",\n",
       "  type: \"text/css\",\n",
       "  href: \"//cdnjs.cloudflare.com/ajax/libs/font-awesome/4.1.0/css/font-awesome.min.css\"\n",
       "}));\n",
       "$(\"head\").append($(\"<link/>\").attr({\n",
       "  rel:  \"stylesheet\",\n",
       "  type: \"text/css\",\n",
       "  href: \"https://static.turi.com/products/graphlab-create/2.1/canvas/css/canvas.css\"\n",
       "}));\n",
       "\n",
       "            (function(){\n",
       "\n",
       "                var e = null;\n",
       "                if (typeof element == 'undefined') {\n",
       "                    var scripts = document.getElementsByTagName('script');\n",
       "                    var thisScriptTag = scripts[scripts.length-1];\n",
       "                    var parentDiv = thisScriptTag.parentNode;\n",
       "                    e = document.createElement('div');\n",
       "                    parentDiv.appendChild(e);\n",
       "                } else {\n",
       "                    e = element[0];\n",
       "                }\n",
       "\n",
       "                if (typeof requirejs !== 'undefined') {\n",
       "                    // disable load timeout; ipython_app.js is large and can take a while to load.\n",
       "                    requirejs.config({waitSeconds: 0});\n",
       "                }\n",
       "\n",
       "                require(['https://static.turi.com/products/graphlab-create/2.1/canvas/js/ipython_app.js'], function(IPythonApp){\n",
       "                    var app = new IPythonApp();\n",
       "                    app.attachView('model','Summary', {\"comparison\": null, \"selected_variable\": {\"comparison\": null, \"name\": [\"nearest_neighbor_model_ext\"], \"view_file\": \"model\", \"view_component\": \"Summary\", \"view_params\": {\"model_type\": \"base\", \"view\": \"Summary\"}, \"view_components\": [\"Summary\", \"Evaluation\", \"Comparison\"], \"model_type\": \"base\", \"attributes\": {\"section_titles\": [\"Schema\", \"Training Summary\"], \"sections\": [[[\"Number of examples\", 84284], [\"Number of feature columns\", 13], [\"Number of unpacked features\", 13], [\"Number of distance components\", 1], [\"Number of classes\", 2]], [[\"Training time (seconds)\", 0.808]]]}, \"evaluations\": [], \"type\": \"Model\"}, \"ipython\": true, \"view_params\": {\"model_type\": \"base\", \"view\": \"Summary\"}, \"model_type\": \"base\", \"attributes\": {\"section_titles\": [\"Schema\", \"Training Summary\"], \"sections\": [[[\"Number of examples\", 84284], [\"Number of feature columns\", 13], [\"Number of unpacked features\", 13], [\"Number of distance components\", 1], [\"Number of classes\", 2]], [[\"Training time (seconds)\", 0.808]]]}, \"evaluations\": []}, e);\n",
       "                });\n",
       "            })();\n",
       "        "
      ]
     },
     "metadata": {},
     "output_type": "display_data"
    }
   ],
   "source": [
    "nearest_neighbor_model_ext.show()"
   ]
  },
  {
   "cell_type": "code",
   "execution_count": 68,
   "metadata": {},
   "outputs": [
    {
     "name": "stdout",
     "output_type": "stream",
     "text": [
      "Class                                : NearestNeighborClassifier\n",
      "\n",
      "Schema\n",
      "------\n",
      "Number of examples                   : 84284\n",
      "Number of feature columns            : 13\n",
      "Number of unpacked features          : 13\n",
      "Number of distance components        : 1\n",
      "Number of classes                    : 2\n",
      "\n",
      "Training Summary\n",
      "----------------\n",
      "Training time (seconds)              : 0.808\n",
      "\n"
     ]
    }
   ],
   "source": [
    "nearest_neighbor_model_ext.summary()"
   ]
  },
  {
   "cell_type": "code",
   "execution_count": 69,
   "metadata": {},
   "outputs": [
    {
     "data": {
      "text/html": [
       "<pre>+--------------+-------------+--------------+</pre>"
      ],
      "text/plain": [
       "+--------------+-------------+--------------+"
      ]
     },
     "metadata": {},
     "output_type": "display_data"
    },
    {
     "data": {
      "text/html": [
       "<pre>| Query points | % Complete. | Elapsed Time |</pre>"
      ],
      "text/plain": [
       "| Query points | % Complete. | Elapsed Time |"
      ]
     },
     "metadata": {},
     "output_type": "display_data"
    },
    {
     "data": {
      "text/html": [
       "<pre>+--------------+-------------+--------------+</pre>"
      ],
      "text/plain": [
       "+--------------+-------------+--------------+"
      ]
     },
     "metadata": {},
     "output_type": "display_data"
    },
    {
     "data": {
      "text/html": [
       "<pre>| 1            | 0           | 15.499ms     |</pre>"
      ],
      "text/plain": [
       "| 1            | 0           | 15.499ms     |"
      ]
     },
     "metadata": {},
     "output_type": "display_data"
    },
    {
     "data": {
      "text/html": [
       "<pre>| 148          | 0.25        | 1.03s        |</pre>"
      ],
      "text/plain": [
       "| 148          | 0.25        | 1.03s        |"
      ]
     },
     "metadata": {},
     "output_type": "display_data"
    },
    {
     "data": {
      "text/html": [
       "<pre>| 302          | 0.75        | 2.04s        |</pre>"
      ],
      "text/plain": [
       "| 302          | 0.75        | 2.04s        |"
      ]
     },
     "metadata": {},
     "output_type": "display_data"
    },
    {
     "data": {
      "text/html": [
       "<pre>| 451          | 1.25        | 3.02s        |</pre>"
      ],
      "text/plain": [
       "| 451          | 1.25        | 3.02s        |"
      ]
     },
     "metadata": {},
     "output_type": "display_data"
    },
    {
     "data": {
      "text/html": [
       "<pre>| 610          | 1.5         | 4.03s        |</pre>"
      ],
      "text/plain": [
       "| 610          | 1.5         | 4.03s        |"
      ]
     },
     "metadata": {},
     "output_type": "display_data"
    },
    {
     "data": {
      "text/html": [
       "<pre>| 775          | 2           | 5.03s        |</pre>"
      ],
      "text/plain": [
       "| 775          | 2           | 5.03s        |"
      ]
     },
     "metadata": {},
     "output_type": "display_data"
    },
    {
     "data": {
      "text/html": [
       "<pre>| 914          | 2.5         | 6.06s        |</pre>"
      ],
      "text/plain": [
       "| 914          | 2.5         | 6.06s        |"
      ]
     },
     "metadata": {},
     "output_type": "display_data"
    },
    {
     "data": {
      "text/html": [
       "<pre>| 1041         | 2.75        | 7.04s        |</pre>"
      ],
      "text/plain": [
       "| 1041         | 2.75        | 7.04s        |"
      ]
     },
     "metadata": {},
     "output_type": "display_data"
    },
    {
     "data": {
      "text/html": [
       "<pre>| 1196         | 3.25        | 8.04s        |</pre>"
      ],
      "text/plain": [
       "| 1196         | 3.25        | 8.04s        |"
      ]
     },
     "metadata": {},
     "output_type": "display_data"
    },
    {
     "data": {
      "text/html": [
       "<pre>| 1361         | 3.75        | 9.04s        |</pre>"
      ],
      "text/plain": [
       "| 1361         | 3.75        | 9.04s        |"
      ]
     },
     "metadata": {},
     "output_type": "display_data"
    },
    {
     "data": {
      "text/html": [
       "<pre>| 1509         | 4           | 10.05s       |</pre>"
      ],
      "text/plain": [
       "| 1509         | 4           | 10.05s       |"
      ]
     },
     "metadata": {},
     "output_type": "display_data"
    },
    {
     "data": {
      "text/html": [
       "<pre>| 1641         | 4.5         | 11.05s       |</pre>"
      ],
      "text/plain": [
       "| 1641         | 4.5         | 11.05s       |"
      ]
     },
     "metadata": {},
     "output_type": "display_data"
    },
    {
     "data": {
      "text/html": [
       "<pre>| 1789         | 4.75        | 12.05s       |</pre>"
      ],
      "text/plain": [
       "| 1789         | 4.75        | 12.05s       |"
      ]
     },
     "metadata": {},
     "output_type": "display_data"
    },
    {
     "data": {
      "text/html": [
       "<pre>| 1952         | 5.25        | 13.07s       |</pre>"
      ],
      "text/plain": [
       "| 1952         | 5.25        | 13.07s       |"
      ]
     },
     "metadata": {},
     "output_type": "display_data"
    },
    {
     "data": {
      "text/html": [
       "<pre>| 2115         | 5.75        | 14.06s       |</pre>"
      ],
      "text/plain": [
       "| 2115         | 5.75        | 14.06s       |"
      ]
     },
     "metadata": {},
     "output_type": "display_data"
    },
    {
     "data": {
      "text/html": [
       "<pre>| 2240         | 6           | 15.07s       |</pre>"
      ],
      "text/plain": [
       "| 2240         | 6           | 15.07s       |"
      ]
     },
     "metadata": {},
     "output_type": "display_data"
    },
    {
     "data": {
      "text/html": [
       "<pre>| 2355         | 6.5         | 16.07s       |</pre>"
      ],
      "text/plain": [
       "| 2355         | 6.5         | 16.07s       |"
      ]
     },
     "metadata": {},
     "output_type": "display_data"
    },
    {
     "data": {
      "text/html": [
       "<pre>| 2483         | 6.75        | 17.09s       |</pre>"
      ],
      "text/plain": [
       "| 2483         | 6.75        | 17.09s       |"
      ]
     },
     "metadata": {},
     "output_type": "display_data"
    },
    {
     "data": {
      "text/html": [
       "<pre>| 2629         | 7.25        | 18.09s       |</pre>"
      ],
      "text/plain": [
       "| 2629         | 7.25        | 18.09s       |"
      ]
     },
     "metadata": {},
     "output_type": "display_data"
    },
    {
     "data": {
      "text/html": [
       "<pre>| 2757         | 7.5         | 19.08s       |</pre>"
      ],
      "text/plain": [
       "| 2757         | 7.5         | 19.08s       |"
      ]
     },
     "metadata": {},
     "output_type": "display_data"
    },
    {
     "data": {
      "text/html": [
       "<pre>| 2919         | 8           | 20.08s       |</pre>"
      ],
      "text/plain": [
       "| 2919         | 8           | 20.08s       |"
      ]
     },
     "metadata": {},
     "output_type": "display_data"
    },
    {
     "data": {
      "text/html": [
       "<pre>| 3078         | 8.5         | 21.08s       |</pre>"
      ],
      "text/plain": [
       "| 3078         | 8.5         | 21.08s       |"
      ]
     },
     "metadata": {},
     "output_type": "display_data"
    },
    {
     "data": {
      "text/html": [
       "<pre>| 3221         | 8.75        | 22.09s       |</pre>"
      ],
      "text/plain": [
       "| 3221         | 8.75        | 22.09s       |"
      ]
     },
     "metadata": {},
     "output_type": "display_data"
    },
    {
     "data": {
      "text/html": [
       "<pre>| 3363         | 9.25        | 23.09s       |</pre>"
      ],
      "text/plain": [
       "| 3363         | 9.25        | 23.09s       |"
      ]
     },
     "metadata": {},
     "output_type": "display_data"
    },
    {
     "data": {
      "text/html": [
       "<pre>| 3497         | 9.5         | 24.09s       |</pre>"
      ],
      "text/plain": [
       "| 3497         | 9.5         | 24.09s       |"
      ]
     },
     "metadata": {},
     "output_type": "display_data"
    },
    {
     "data": {
      "text/html": [
       "<pre>| 3656         | 10          | 25.09s       |</pre>"
      ],
      "text/plain": [
       "| 3656         | 10          | 25.09s       |"
      ]
     },
     "metadata": {},
     "output_type": "display_data"
    },
    {
     "data": {
      "text/html": [
       "<pre>| 3798         | 10.5        | 26.11s       |</pre>"
      ],
      "text/plain": [
       "| 3798         | 10.5        | 26.11s       |"
      ]
     },
     "metadata": {},
     "output_type": "display_data"
    },
    {
     "data": {
      "text/html": [
       "<pre>| 3962         | 11          | 27.10s       |</pre>"
      ],
      "text/plain": [
       "| 3962         | 11          | 27.10s       |"
      ]
     },
     "metadata": {},
     "output_type": "display_data"
    },
    {
     "data": {
      "text/html": [
       "<pre>| 4100         | 11.25       | 28.12s       |</pre>"
      ],
      "text/plain": [
       "| 4100         | 11.25       | 28.12s       |"
      ]
     },
     "metadata": {},
     "output_type": "display_data"
    },
    {
     "data": {
      "text/html": [
       "<pre>| 4225         | 11.5        | 29.10s       |</pre>"
      ],
      "text/plain": [
       "| 4225         | 11.5        | 29.10s       |"
      ]
     },
     "metadata": {},
     "output_type": "display_data"
    },
    {
     "data": {
      "text/html": [
       "<pre>| 4387         | 12          | 30.11s       |</pre>"
      ],
      "text/plain": [
       "| 4387         | 12          | 30.11s       |"
      ]
     },
     "metadata": {},
     "output_type": "display_data"
    },
    {
     "data": {
      "text/html": [
       "<pre>| 4538         | 12.5        | 31.11s       |</pre>"
      ],
      "text/plain": [
       "| 4538         | 12.5        | 31.11s       |"
      ]
     },
     "metadata": {},
     "output_type": "display_data"
    },
    {
     "data": {
      "text/html": [
       "<pre>| 4676         | 12.75       | 32.12s       |</pre>"
      ],
      "text/plain": [
       "| 4676         | 12.75       | 32.12s       |"
      ]
     },
     "metadata": {},
     "output_type": "display_data"
    },
    {
     "data": {
      "text/html": [
       "<pre>| 4852         | 13.25       | 33.12s       |</pre>"
      ],
      "text/plain": [
       "| 4852         | 13.25       | 33.12s       |"
      ]
     },
     "metadata": {},
     "output_type": "display_data"
    },
    {
     "data": {
      "text/html": [
       "<pre>| 5006         | 13.75       | 34.12s       |</pre>"
      ],
      "text/plain": [
       "| 5006         | 13.75       | 34.12s       |"
      ]
     },
     "metadata": {},
     "output_type": "display_data"
    },
    {
     "data": {
      "text/html": [
       "<pre>| 5153         | 14.25       | 35.12s       |</pre>"
      ],
      "text/plain": [
       "| 5153         | 14.25       | 35.12s       |"
      ]
     },
     "metadata": {},
     "output_type": "display_data"
    },
    {
     "data": {
      "text/html": [
       "<pre>| 5321         | 14.75       | 36.13s       |</pre>"
      ],
      "text/plain": [
       "| 5321         | 14.75       | 36.13s       |"
      ]
     },
     "metadata": {},
     "output_type": "display_data"
    },
    {
     "data": {
      "text/html": [
       "<pre>| 5500         | 15.25       | 37.13s       |</pre>"
      ],
      "text/plain": [
       "| 5500         | 15.25       | 37.13s       |"
      ]
     },
     "metadata": {},
     "output_type": "display_data"
    },
    {
     "data": {
      "text/html": [
       "<pre>| 5672         | 15.75       | 38.14s       |</pre>"
      ],
      "text/plain": [
       "| 5672         | 15.75       | 38.14s       |"
      ]
     },
     "metadata": {},
     "output_type": "display_data"
    },
    {
     "data": {
      "text/html": [
       "<pre>| 5844         | 16          | 39.14s       |</pre>"
      ],
      "text/plain": [
       "| 5844         | 16          | 39.14s       |"
      ]
     },
     "metadata": {},
     "output_type": "display_data"
    },
    {
     "data": {
      "text/html": [
       "<pre>| 6004         | 16.5        | 40.14s       |</pre>"
      ],
      "text/plain": [
       "| 6004         | 16.5        | 40.14s       |"
      ]
     },
     "metadata": {},
     "output_type": "display_data"
    },
    {
     "data": {
      "text/html": [
       "<pre>| 6174         | 17          | 41.16s       |</pre>"
      ],
      "text/plain": [
       "| 6174         | 17          | 41.16s       |"
      ]
     },
     "metadata": {},
     "output_type": "display_data"
    },
    {
     "data": {
      "text/html": [
       "<pre>| 6301         | 17.5        | 42.15s       |</pre>"
      ],
      "text/plain": [
       "| 6301         | 17.5        | 42.15s       |"
      ]
     },
     "metadata": {},
     "output_type": "display_data"
    },
    {
     "data": {
      "text/html": [
       "<pre>| 6446         | 17.75       | 43.15s       |</pre>"
      ],
      "text/plain": [
       "| 6446         | 17.75       | 43.15s       |"
      ]
     },
     "metadata": {},
     "output_type": "display_data"
    },
    {
     "data": {
      "text/html": [
       "<pre>| 6585         | 18.25       | 44.15s       |</pre>"
      ],
      "text/plain": [
       "| 6585         | 18.25       | 44.15s       |"
      ]
     },
     "metadata": {},
     "output_type": "display_data"
    },
    {
     "data": {
      "text/html": [
       "<pre>| 6717         | 18.5        | 45.16s       |</pre>"
      ],
      "text/plain": [
       "| 6717         | 18.5        | 45.16s       |"
      ]
     },
     "metadata": {},
     "output_type": "display_data"
    },
    {
     "data": {
      "text/html": [
       "<pre>| 6842         | 19          | 46.20s       |</pre>"
      ],
      "text/plain": [
       "| 6842         | 19          | 46.20s       |"
      ]
     },
     "metadata": {},
     "output_type": "display_data"
    },
    {
     "data": {
      "text/html": [
       "<pre>| 6926         | 19          | 47.21s       |</pre>"
      ],
      "text/plain": [
       "| 6926         | 19          | 47.21s       |"
      ]
     },
     "metadata": {},
     "output_type": "display_data"
    },
    {
     "data": {
      "text/html": [
       "<pre>| 7020         | 19.5        | 48.17s       |</pre>"
      ],
      "text/plain": [
       "| 7020         | 19.5        | 48.17s       |"
      ]
     },
     "metadata": {},
     "output_type": "display_data"
    },
    {
     "data": {
      "text/html": [
       "<pre>| 7105         | 19.5        | 49.19s       |</pre>"
      ],
      "text/plain": [
       "| 7105         | 19.5        | 49.19s       |"
      ]
     },
     "metadata": {},
     "output_type": "display_data"
    },
    {
     "data": {
      "text/html": [
       "<pre>| 7206         | 20          | 50.17s       |</pre>"
      ],
      "text/plain": [
       "| 7206         | 20          | 50.17s       |"
      ]
     },
     "metadata": {},
     "output_type": "display_data"
    },
    {
     "data": {
      "text/html": [
       "<pre>| 7303         | 20.25       | 51.18s       |</pre>"
      ],
      "text/plain": [
       "| 7303         | 20.25       | 51.18s       |"
      ]
     },
     "metadata": {},
     "output_type": "display_data"
    },
    {
     "data": {
      "text/html": [
       "<pre>| 7422         | 20.5        | 52.19s       |</pre>"
      ],
      "text/plain": [
       "| 7422         | 20.5        | 52.19s       |"
      ]
     },
     "metadata": {},
     "output_type": "display_data"
    },
    {
     "data": {
      "text/html": [
       "<pre>| 7525         | 20.75       | 53.19s       |</pre>"
      ],
      "text/plain": [
       "| 7525         | 20.75       | 53.19s       |"
      ]
     },
     "metadata": {},
     "output_type": "display_data"
    },
    {
     "data": {
      "text/html": [
       "<pre>| 7622         | 21          | 54.19s       |</pre>"
      ],
      "text/plain": [
       "| 7622         | 21          | 54.19s       |"
      ]
     },
     "metadata": {},
     "output_type": "display_data"
    },
    {
     "data": {
      "text/html": [
       "<pre>| 7687         | 21.25       | 55.19s       |</pre>"
      ],
      "text/plain": [
       "| 7687         | 21.25       | 55.19s       |"
      ]
     },
     "metadata": {},
     "output_type": "display_data"
    },
    {
     "data": {
      "text/html": [
       "<pre>| 7769         | 21.5        | 56.19s       |</pre>"
      ],
      "text/plain": [
       "| 7769         | 21.5        | 56.19s       |"
      ]
     },
     "metadata": {},
     "output_type": "display_data"
    },
    {
     "data": {
      "text/html": [
       "<pre>| 7857         | 21.75       | 57.19s       |</pre>"
      ],
      "text/plain": [
       "| 7857         | 21.75       | 57.19s       |"
      ]
     },
     "metadata": {},
     "output_type": "display_data"
    },
    {
     "data": {
      "text/html": [
       "<pre>| 7980         | 22          | 58.20s       |</pre>"
      ],
      "text/plain": [
       "| 7980         | 22          | 58.20s       |"
      ]
     },
     "metadata": {},
     "output_type": "display_data"
    },
    {
     "data": {
      "text/html": [
       "<pre>| 8047         | 22.25       | 59.20s       |</pre>"
      ],
      "text/plain": [
       "| 8047         | 22.25       | 59.20s       |"
      ]
     },
     "metadata": {},
     "output_type": "display_data"
    },
    {
     "data": {
      "text/html": [
       "<pre>| 8127         | 22.5        | 1m 0s        |</pre>"
      ],
      "text/plain": [
       "| 8127         | 22.5        | 1m 0s        |"
      ]
     },
     "metadata": {},
     "output_type": "display_data"
    },
    {
     "data": {
      "text/html": [
       "<pre>| 8244         | 22.75       | 1m 1s        |</pre>"
      ],
      "text/plain": [
       "| 8244         | 22.75       | 1m 1s        |"
      ]
     },
     "metadata": {},
     "output_type": "display_data"
    },
    {
     "data": {
      "text/html": [
       "<pre>| 8343         | 23          | 1m 2s        |</pre>"
      ],
      "text/plain": [
       "| 8343         | 23          | 1m 2s        |"
      ]
     },
     "metadata": {},
     "output_type": "display_data"
    },
    {
     "data": {
      "text/html": [
       "<pre>| 8422         | 23.25       | 1m 3s        |</pre>"
      ],
      "text/plain": [
       "| 8422         | 23.25       | 1m 3s        |"
      ]
     },
     "metadata": {},
     "output_type": "display_data"
    },
    {
     "data": {
      "text/html": [
       "<pre>| 8564         | 23.75       | 1m 4s        |</pre>"
      ],
      "text/plain": [
       "| 8564         | 23.75       | 1m 4s        |"
      ]
     },
     "metadata": {},
     "output_type": "display_data"
    },
    {
     "data": {
      "text/html": [
       "<pre>| 8716         | 24          | 1m 5s        |</pre>"
      ],
      "text/plain": [
       "| 8716         | 24          | 1m 5s        |"
      ]
     },
     "metadata": {},
     "output_type": "display_data"
    },
    {
     "data": {
      "text/html": [
       "<pre>| 8850         | 24.5        | 1m 6s        |</pre>"
      ],
      "text/plain": [
       "| 8850         | 24.5        | 1m 6s        |"
      ]
     },
     "metadata": {},
     "output_type": "display_data"
    },
    {
     "data": {
      "text/html": [
       "<pre>| 9003         | 25          | 1m 7s        |</pre>"
      ],
      "text/plain": [
       "| 9003         | 25          | 1m 7s        |"
      ]
     },
     "metadata": {},
     "output_type": "display_data"
    },
    {
     "data": {
      "text/html": [
       "<pre>| 9168         | 25.25       | 1m 8s        |</pre>"
      ],
      "text/plain": [
       "| 9168         | 25.25       | 1m 8s        |"
      ]
     },
     "metadata": {},
     "output_type": "display_data"
    },
    {
     "data": {
      "text/html": [
       "<pre>| 9322         | 25.75       | 1m 9s        |</pre>"
      ],
      "text/plain": [
       "| 9322         | 25.75       | 1m 9s        |"
      ]
     },
     "metadata": {},
     "output_type": "display_data"
    },
    {
     "data": {
      "text/html": [
       "<pre>| 9475         | 26.25       | 1m 10s       |</pre>"
      ],
      "text/plain": [
       "| 9475         | 26.25       | 1m 10s       |"
      ]
     },
     "metadata": {},
     "output_type": "display_data"
    },
    {
     "data": {
      "text/html": [
       "<pre>| 9622         | 26.5        | 1m 11s       |</pre>"
      ],
      "text/plain": [
       "| 9622         | 26.5        | 1m 11s       |"
      ]
     },
     "metadata": {},
     "output_type": "display_data"
    },
    {
     "data": {
      "text/html": [
       "<pre>| 9772         | 27          | 1m 12s       |</pre>"
      ],
      "text/plain": [
       "| 9772         | 27          | 1m 12s       |"
      ]
     },
     "metadata": {},
     "output_type": "display_data"
    },
    {
     "data": {
      "text/html": [
       "<pre>| 9934         | 27.5        | 1m 13s       |</pre>"
      ],
      "text/plain": [
       "| 9934         | 27.5        | 1m 13s       |"
      ]
     },
     "metadata": {},
     "output_type": "display_data"
    },
    {
     "data": {
      "text/html": [
       "<pre>| 10097        | 28          | 1m 14s       |</pre>"
      ],
      "text/plain": [
       "| 10097        | 28          | 1m 14s       |"
      ]
     },
     "metadata": {},
     "output_type": "display_data"
    },
    {
     "data": {
      "text/html": [
       "<pre>| 10236        | 28.25       | 1m 15s       |</pre>"
      ],
      "text/plain": [
       "| 10236        | 28.25       | 1m 15s       |"
      ]
     },
     "metadata": {},
     "output_type": "display_data"
    },
    {
     "data": {
      "text/html": [
       "<pre>| 10383        | 28.75       | 1m 16s       |</pre>"
      ],
      "text/plain": [
       "| 10383        | 28.75       | 1m 16s       |"
      ]
     },
     "metadata": {},
     "output_type": "display_data"
    },
    {
     "data": {
      "text/html": [
       "<pre>| 10531        | 29.25       | 1m 17s       |</pre>"
      ],
      "text/plain": [
       "| 10531        | 29.25       | 1m 17s       |"
      ]
     },
     "metadata": {},
     "output_type": "display_data"
    },
    {
     "data": {
      "text/html": [
       "<pre>| 10681        | 29.5        | 1m 18s       |</pre>"
      ],
      "text/plain": [
       "| 10681        | 29.5        | 1m 18s       |"
      ]
     },
     "metadata": {},
     "output_type": "display_data"
    },
    {
     "data": {
      "text/html": [
       "<pre>| 10813        | 30          | 1m 19s       |</pre>"
      ],
      "text/plain": [
       "| 10813        | 30          | 1m 19s       |"
      ]
     },
     "metadata": {},
     "output_type": "display_data"
    },
    {
     "data": {
      "text/html": [
       "<pre>| 10972        | 30.25       | 1m 20s       |</pre>"
      ],
      "text/plain": [
       "| 10972        | 30.25       | 1m 20s       |"
      ]
     },
     "metadata": {},
     "output_type": "display_data"
    },
    {
     "data": {
      "text/html": [
       "<pre>| 11083        | 30.75       | 1m 21s       |</pre>"
      ],
      "text/plain": [
       "| 11083        | 30.75       | 1m 21s       |"
      ]
     },
     "metadata": {},
     "output_type": "display_data"
    },
    {
     "data": {
      "text/html": [
       "<pre>| 11208        | 31          | 1m 22s       |</pre>"
      ],
      "text/plain": [
       "| 11208        | 31          | 1m 22s       |"
      ]
     },
     "metadata": {},
     "output_type": "display_data"
    },
    {
     "data": {
      "text/html": [
       "<pre>| 11326        | 31.25       | 1m 23s       |</pre>"
      ],
      "text/plain": [
       "| 11326        | 31.25       | 1m 23s       |"
      ]
     },
     "metadata": {},
     "output_type": "display_data"
    },
    {
     "data": {
      "text/html": [
       "<pre>| 11496        | 31.75       | 1m 24s       |</pre>"
      ],
      "text/plain": [
       "| 11496        | 31.75       | 1m 24s       |"
      ]
     },
     "metadata": {},
     "output_type": "display_data"
    },
    {
     "data": {
      "text/html": [
       "<pre>| 11639        | 32.25       | 1m 25s       |</pre>"
      ],
      "text/plain": [
       "| 11639        | 32.25       | 1m 25s       |"
      ]
     },
     "metadata": {},
     "output_type": "display_data"
    },
    {
     "data": {
      "text/html": [
       "<pre>| 11790        | 32.75       | 1m 26s       |</pre>"
      ],
      "text/plain": [
       "| 11790        | 32.75       | 1m 26s       |"
      ]
     },
     "metadata": {},
     "output_type": "display_data"
    },
    {
     "data": {
      "text/html": [
       "<pre>| 11937        | 33          | 1m 27s       |</pre>"
      ],
      "text/plain": [
       "| 11937        | 33          | 1m 27s       |"
      ]
     },
     "metadata": {},
     "output_type": "display_data"
    },
    {
     "data": {
      "text/html": [
       "<pre>| 12089        | 33.5        | 1m 28s       |</pre>"
      ],
      "text/plain": [
       "| 12089        | 33.5        | 1m 28s       |"
      ]
     },
     "metadata": {},
     "output_type": "display_data"
    },
    {
     "data": {
      "text/html": [
       "<pre>| 12244        | 34          | 1m 29s       |</pre>"
      ],
      "text/plain": [
       "| 12244        | 34          | 1m 29s       |"
      ]
     },
     "metadata": {},
     "output_type": "display_data"
    },
    {
     "data": {
      "text/html": [
       "<pre>| 12398        | 34.25       | 1m 30s       |</pre>"
      ],
      "text/plain": [
       "| 12398        | 34.25       | 1m 30s       |"
      ]
     },
     "metadata": {},
     "output_type": "display_data"
    },
    {
     "data": {
      "text/html": [
       "<pre>| 12554        | 34.75       | 1m 31s       |</pre>"
      ],
      "text/plain": [
       "| 12554        | 34.75       | 1m 31s       |"
      ]
     },
     "metadata": {},
     "output_type": "display_data"
    },
    {
     "data": {
      "text/html": [
       "<pre>| 12706        | 35.25       | 1m 32s       |</pre>"
      ],
      "text/plain": [
       "| 12706        | 35.25       | 1m 32s       |"
      ]
     },
     "metadata": {},
     "output_type": "display_data"
    },
    {
     "data": {
      "text/html": [
       "<pre>| 12859        | 35.5        | 1m 33s       |</pre>"
      ],
      "text/plain": [
       "| 12859        | 35.5        | 1m 33s       |"
      ]
     },
     "metadata": {},
     "output_type": "display_data"
    },
    {
     "data": {
      "text/html": [
       "<pre>| 13034        | 36          | 1m 34s       |</pre>"
      ],
      "text/plain": [
       "| 13034        | 36          | 1m 34s       |"
      ]
     },
     "metadata": {},
     "output_type": "display_data"
    },
    {
     "data": {
      "text/html": [
       "<pre>| 13178        | 36.5        | 1m 35s       |</pre>"
      ],
      "text/plain": [
       "| 13178        | 36.5        | 1m 35s       |"
      ]
     },
     "metadata": {},
     "output_type": "display_data"
    },
    {
     "data": {
      "text/html": [
       "<pre>| 13334        | 37          | 1m 36s       |</pre>"
      ],
      "text/plain": [
       "| 13334        | 37          | 1m 36s       |"
      ]
     },
     "metadata": {},
     "output_type": "display_data"
    },
    {
     "data": {
      "text/html": [
       "<pre>| 13489        | 37.25       | 1m 37s       |</pre>"
      ],
      "text/plain": [
       "| 13489        | 37.25       | 1m 37s       |"
      ]
     },
     "metadata": {},
     "output_type": "display_data"
    },
    {
     "data": {
      "text/html": [
       "<pre>| 13665        | 37.75       | 1m 38s       |</pre>"
      ],
      "text/plain": [
       "| 13665        | 37.75       | 1m 38s       |"
      ]
     },
     "metadata": {},
     "output_type": "display_data"
    },
    {
     "data": {
      "text/html": [
       "<pre>| 13813        | 38.25       | 1m 39s       |</pre>"
      ],
      "text/plain": [
       "| 13813        | 38.25       | 1m 39s       |"
      ]
     },
     "metadata": {},
     "output_type": "display_data"
    },
    {
     "data": {
      "text/html": [
       "<pre>| 13940        | 38.5        | 1m 40s       |</pre>"
      ],
      "text/plain": [
       "| 13940        | 38.5        | 1m 40s       |"
      ]
     },
     "metadata": {},
     "output_type": "display_data"
    },
    {
     "data": {
      "text/html": [
       "<pre>| 14065        | 39          | 1m 41s       |</pre>"
      ],
      "text/plain": [
       "| 14065        | 39          | 1m 41s       |"
      ]
     },
     "metadata": {},
     "output_type": "display_data"
    },
    {
     "data": {
      "text/html": [
       "<pre>| 14203        | 39.25       | 1m 42s       |</pre>"
      ],
      "text/plain": [
       "| 14203        | 39.25       | 1m 42s       |"
      ]
     },
     "metadata": {},
     "output_type": "display_data"
    },
    {
     "data": {
      "text/html": [
       "<pre>| 14368        | 39.75       | 1m 43s       |</pre>"
      ],
      "text/plain": [
       "| 14368        | 39.75       | 1m 43s       |"
      ]
     },
     "metadata": {},
     "output_type": "display_data"
    },
    {
     "data": {
      "text/html": [
       "<pre>| 14466        | 40          | 1m 44s       |</pre>"
      ],
      "text/plain": [
       "| 14466        | 40          | 1m 44s       |"
      ]
     },
     "metadata": {},
     "output_type": "display_data"
    },
    {
     "data": {
      "text/html": [
       "<pre>| 14616        | 40.5        | 1m 45s       |</pre>"
      ],
      "text/plain": [
       "| 14616        | 40.5        | 1m 45s       |"
      ]
     },
     "metadata": {},
     "output_type": "display_data"
    },
    {
     "data": {
      "text/html": [
       "<pre>| 14765        | 41          | 1m 46s       |</pre>"
      ],
      "text/plain": [
       "| 14765        | 41          | 1m 46s       |"
      ]
     },
     "metadata": {},
     "output_type": "display_data"
    },
    {
     "data": {
      "text/html": [
       "<pre>| 14924        | 41.25       | 1m 47s       |</pre>"
      ],
      "text/plain": [
       "| 14924        | 41.25       | 1m 47s       |"
      ]
     },
     "metadata": {},
     "output_type": "display_data"
    },
    {
     "data": {
      "text/html": [
       "<pre>| 15061        | 41.75       | 1m 48s       |</pre>"
      ],
      "text/plain": [
       "| 15061        | 41.75       | 1m 48s       |"
      ]
     },
     "metadata": {},
     "output_type": "display_data"
    },
    {
     "data": {
      "text/html": [
       "<pre>| 15213        | 42.25       | 1m 49s       |</pre>"
      ],
      "text/plain": [
       "| 15213        | 42.25       | 1m 49s       |"
      ]
     },
     "metadata": {},
     "output_type": "display_data"
    },
    {
     "data": {
      "text/html": [
       "<pre>| 15357        | 42.5        | 1m 50s       |</pre>"
      ],
      "text/plain": [
       "| 15357        | 42.5        | 1m 50s       |"
      ]
     },
     "metadata": {},
     "output_type": "display_data"
    },
    {
     "data": {
      "text/html": [
       "<pre>| 15483        | 43          | 1m 51s       |</pre>"
      ],
      "text/plain": [
       "| 15483        | 43          | 1m 51s       |"
      ]
     },
     "metadata": {},
     "output_type": "display_data"
    },
    {
     "data": {
      "text/html": [
       "<pre>| 15659        | 43.5        | 1m 52s       |</pre>"
      ],
      "text/plain": [
       "| 15659        | 43.5        | 1m 52s       |"
      ]
     },
     "metadata": {},
     "output_type": "display_data"
    },
    {
     "data": {
      "text/html": [
       "<pre>| 15815        | 43.75       | 1m 53s       |</pre>"
      ],
      "text/plain": [
       "| 15815        | 43.75       | 1m 53s       |"
      ]
     },
     "metadata": {},
     "output_type": "display_data"
    },
    {
     "data": {
      "text/html": [
       "<pre>| 15918        | 44          | 1m 54s       |</pre>"
      ],
      "text/plain": [
       "| 15918        | 44          | 1m 54s       |"
      ]
     },
     "metadata": {},
     "output_type": "display_data"
    },
    {
     "data": {
      "text/html": [
       "<pre>| 16030        | 44.5        | 1m 55s       |</pre>"
      ],
      "text/plain": [
       "| 16030        | 44.5        | 1m 55s       |"
      ]
     },
     "metadata": {},
     "output_type": "display_data"
    },
    {
     "data": {
      "text/html": [
       "<pre>| 16142        | 44.75       | 1m 56s       |</pre>"
      ],
      "text/plain": [
       "| 16142        | 44.75       | 1m 56s       |"
      ]
     },
     "metadata": {},
     "output_type": "display_data"
    },
    {
     "data": {
      "text/html": [
       "<pre>| 16259        | 45          | 1m 57s       |</pre>"
      ],
      "text/plain": [
       "| 16259        | 45          | 1m 57s       |"
      ]
     },
     "metadata": {},
     "output_type": "display_data"
    },
    {
     "data": {
      "text/html": [
       "<pre>| 16373        | 45.25       | 1m 58s       |</pre>"
      ],
      "text/plain": [
       "| 16373        | 45.25       | 1m 58s       |"
      ]
     },
     "metadata": {},
     "output_type": "display_data"
    },
    {
     "data": {
      "text/html": [
       "<pre>| 16464        | 45.75       | 1m 59s       |</pre>"
      ],
      "text/plain": [
       "| 16464        | 45.75       | 1m 59s       |"
      ]
     },
     "metadata": {},
     "output_type": "display_data"
    },
    {
     "data": {
      "text/html": [
       "<pre>| 16559        | 46          | 2m 0s        |</pre>"
      ],
      "text/plain": [
       "| 16559        | 46          | 2m 0s        |"
      ]
     },
     "metadata": {},
     "output_type": "display_data"
    },
    {
     "data": {
      "text/html": [
       "<pre>| 16674        | 46.25       | 2m 1s        |</pre>"
      ],
      "text/plain": [
       "| 16674        | 46.25       | 2m 1s        |"
      ]
     },
     "metadata": {},
     "output_type": "display_data"
    },
    {
     "data": {
      "text/html": [
       "<pre>| 16801        | 46.5        | 2m 2s        |</pre>"
      ],
      "text/plain": [
       "| 16801        | 46.5        | 2m 2s        |"
      ]
     },
     "metadata": {},
     "output_type": "display_data"
    },
    {
     "data": {
      "text/html": [
       "<pre>| 16907        | 46.75       | 2m 3s        |</pre>"
      ],
      "text/plain": [
       "| 16907        | 46.75       | 2m 3s        |"
      ]
     },
     "metadata": {},
     "output_type": "display_data"
    },
    {
     "data": {
      "text/html": [
       "<pre>| 17026        | 47.25       | 2m 4s        |</pre>"
      ],
      "text/plain": [
       "| 17026        | 47.25       | 2m 4s        |"
      ]
     },
     "metadata": {},
     "output_type": "display_data"
    },
    {
     "data": {
      "text/html": [
       "<pre>| 17185        | 47.75       | 2m 5s        |</pre>"
      ],
      "text/plain": [
       "| 17185        | 47.75       | 2m 5s        |"
      ]
     },
     "metadata": {},
     "output_type": "display_data"
    },
    {
     "data": {
      "text/html": [
       "<pre>| 17329        | 48          | 2m 6s        |</pre>"
      ],
      "text/plain": [
       "| 17329        | 48          | 2m 6s        |"
      ]
     },
     "metadata": {},
     "output_type": "display_data"
    },
    {
     "data": {
      "text/html": [
       "<pre>| 17484        | 48.5        | 2m 7s        |</pre>"
      ],
      "text/plain": [
       "| 17484        | 48.5        | 2m 7s        |"
      ]
     },
     "metadata": {},
     "output_type": "display_data"
    },
    {
     "data": {
      "text/html": [
       "<pre>| 17626        | 48.75       | 2m 8s        |</pre>"
      ],
      "text/plain": [
       "| 17626        | 48.75       | 2m 8s        |"
      ]
     },
     "metadata": {},
     "output_type": "display_data"
    },
    {
     "data": {
      "text/html": [
       "<pre>| 17773        | 49.25       | 2m 9s        |</pre>"
      ],
      "text/plain": [
       "| 17773        | 49.25       | 2m 9s        |"
      ]
     },
     "metadata": {},
     "output_type": "display_data"
    },
    {
     "data": {
      "text/html": [
       "<pre>| 17952        | 49.75       | 2m 10s       |</pre>"
      ],
      "text/plain": [
       "| 17952        | 49.75       | 2m 10s       |"
      ]
     },
     "metadata": {},
     "output_type": "display_data"
    },
    {
     "data": {
      "text/html": [
       "<pre>| 18109        | 50.25       | 2m 11s       |</pre>"
      ],
      "text/plain": [
       "| 18109        | 50.25       | 2m 11s       |"
      ]
     },
     "metadata": {},
     "output_type": "display_data"
    },
    {
     "data": {
      "text/html": [
       "<pre>| 18261        | 50.5        | 2m 12s       |</pre>"
      ],
      "text/plain": [
       "| 18261        | 50.5        | 2m 12s       |"
      ]
     },
     "metadata": {},
     "output_type": "display_data"
    },
    {
     "data": {
      "text/html": [
       "<pre>| 18396        | 51          | 2m 13s       |</pre>"
      ],
      "text/plain": [
       "| 18396        | 51          | 2m 13s       |"
      ]
     },
     "metadata": {},
     "output_type": "display_data"
    },
    {
     "data": {
      "text/html": [
       "<pre>| 18541        | 51.5        | 2m 14s       |</pre>"
      ],
      "text/plain": [
       "| 18541        | 51.5        | 2m 14s       |"
      ]
     },
     "metadata": {},
     "output_type": "display_data"
    },
    {
     "data": {
      "text/html": [
       "<pre>| 18708        | 51.75       | 2m 15s       |</pre>"
      ],
      "text/plain": [
       "| 18708        | 51.75       | 2m 15s       |"
      ]
     },
     "metadata": {},
     "output_type": "display_data"
    },
    {
     "data": {
      "text/html": [
       "<pre>| 18869        | 52.25       | 2m 16s       |</pre>"
      ],
      "text/plain": [
       "| 18869        | 52.25       | 2m 16s       |"
      ]
     },
     "metadata": {},
     "output_type": "display_data"
    },
    {
     "data": {
      "text/html": [
       "<pre>| 19018        | 52.75       | 2m 17s       |</pre>"
      ],
      "text/plain": [
       "| 19018        | 52.75       | 2m 17s       |"
      ]
     },
     "metadata": {},
     "output_type": "display_data"
    },
    {
     "data": {
      "text/html": [
       "<pre>| 19160        | 53          | 2m 18s       |</pre>"
      ],
      "text/plain": [
       "| 19160        | 53          | 2m 18s       |"
      ]
     },
     "metadata": {},
     "output_type": "display_data"
    },
    {
     "data": {
      "text/html": [
       "<pre>| 19327        | 53.5        | 2m 19s       |</pre>"
      ],
      "text/plain": [
       "| 19327        | 53.5        | 2m 19s       |"
      ]
     },
     "metadata": {},
     "output_type": "display_data"
    },
    {
     "data": {
      "text/html": [
       "<pre>| 19497        | 54          | 2m 20s       |</pre>"
      ],
      "text/plain": [
       "| 19497        | 54          | 2m 20s       |"
      ]
     },
     "metadata": {},
     "output_type": "display_data"
    },
    {
     "data": {
      "text/html": [
       "<pre>| 19643        | 54.5        | 2m 21s       |</pre>"
      ],
      "text/plain": [
       "| 19643        | 54.5        | 2m 21s       |"
      ]
     },
     "metadata": {},
     "output_type": "display_data"
    },
    {
     "data": {
      "text/html": [
       "<pre>| 19808        | 55          | 2m 22s       |</pre>"
      ],
      "text/plain": [
       "| 19808        | 55          | 2m 22s       |"
      ]
     },
     "metadata": {},
     "output_type": "display_data"
    },
    {
     "data": {
      "text/html": [
       "<pre>| 19989        | 55.5        | 2m 23s       |</pre>"
      ],
      "text/plain": [
       "| 19989        | 55.5        | 2m 23s       |"
      ]
     },
     "metadata": {},
     "output_type": "display_data"
    },
    {
     "data": {
      "text/html": [
       "<pre>| 20145        | 55.75       | 2m 24s       |</pre>"
      ],
      "text/plain": [
       "| 20145        | 55.75       | 2m 24s       |"
      ]
     },
     "metadata": {},
     "output_type": "display_data"
    },
    {
     "data": {
      "text/html": [
       "<pre>| 20292        | 56.25       | 2m 25s       |</pre>"
      ],
      "text/plain": [
       "| 20292        | 56.25       | 2m 25s       |"
      ]
     },
     "metadata": {},
     "output_type": "display_data"
    },
    {
     "data": {
      "text/html": [
       "<pre>| 20463        | 56.75       | 2m 26s       |</pre>"
      ],
      "text/plain": [
       "| 20463        | 56.75       | 2m 26s       |"
      ]
     },
     "metadata": {},
     "output_type": "display_data"
    },
    {
     "data": {
      "text/html": [
       "<pre>| 20616        | 57.25       | 2m 27s       |</pre>"
      ],
      "text/plain": [
       "| 20616        | 57.25       | 2m 27s       |"
      ]
     },
     "metadata": {},
     "output_type": "display_data"
    },
    {
     "data": {
      "text/html": [
       "<pre>| 20772        | 57.5        | 2m 28s       |</pre>"
      ],
      "text/plain": [
       "| 20772        | 57.5        | 2m 28s       |"
      ]
     },
     "metadata": {},
     "output_type": "display_data"
    },
    {
     "data": {
      "text/html": [
       "<pre>| 20934        | 58          | 2m 29s       |</pre>"
      ],
      "text/plain": [
       "| 20934        | 58          | 2m 29s       |"
      ]
     },
     "metadata": {},
     "output_type": "display_data"
    },
    {
     "data": {
      "text/html": [
       "<pre>| 21085        | 58.5        | 2m 30s       |</pre>"
      ],
      "text/plain": [
       "| 21085        | 58.5        | 2m 30s       |"
      ]
     },
     "metadata": {},
     "output_type": "display_data"
    },
    {
     "data": {
      "text/html": [
       "<pre>| 21250        | 59          | 2m 31s       |</pre>"
      ],
      "text/plain": [
       "| 21250        | 59          | 2m 31s       |"
      ]
     },
     "metadata": {},
     "output_type": "display_data"
    },
    {
     "data": {
      "text/html": [
       "<pre>| 21412        | 59.5        | 2m 32s       |</pre>"
      ],
      "text/plain": [
       "| 21412        | 59.5        | 2m 32s       |"
      ]
     },
     "metadata": {},
     "output_type": "display_data"
    },
    {
     "data": {
      "text/html": [
       "<pre>| 21572        | 59.75       | 2m 33s       |</pre>"
      ],
      "text/plain": [
       "| 21572        | 59.75       | 2m 33s       |"
      ]
     },
     "metadata": {},
     "output_type": "display_data"
    },
    {
     "data": {
      "text/html": [
       "<pre>| 21728        | 60.25       | 2m 34s       |</pre>"
      ],
      "text/plain": [
       "| 21728        | 60.25       | 2m 34s       |"
      ]
     },
     "metadata": {},
     "output_type": "display_data"
    },
    {
     "data": {
      "text/html": [
       "<pre>| 21890        | 60.75       | 2m 35s       |</pre>"
      ],
      "text/plain": [
       "| 21890        | 60.75       | 2m 35s       |"
      ]
     },
     "metadata": {},
     "output_type": "display_data"
    },
    {
     "data": {
      "text/html": [
       "<pre>| 22062        | 61.25       | 2m 36s       |</pre>"
      ],
      "text/plain": [
       "| 22062        | 61.25       | 2m 36s       |"
      ]
     },
     "metadata": {},
     "output_type": "display_data"
    },
    {
     "data": {
      "text/html": [
       "<pre>| 22228        | 61.75       | 2m 37s       |</pre>"
      ],
      "text/plain": [
       "| 22228        | 61.75       | 2m 37s       |"
      ]
     },
     "metadata": {},
     "output_type": "display_data"
    },
    {
     "data": {
      "text/html": [
       "<pre>| 22386        | 62          | 2m 38s       |</pre>"
      ],
      "text/plain": [
       "| 22386        | 62          | 2m 38s       |"
      ]
     },
     "metadata": {},
     "output_type": "display_data"
    },
    {
     "data": {
      "text/html": [
       "<pre>| 22560        | 62.5        | 2m 39s       |</pre>"
      ],
      "text/plain": [
       "| 22560        | 62.5        | 2m 39s       |"
      ]
     },
     "metadata": {},
     "output_type": "display_data"
    },
    {
     "data": {
      "text/html": [
       "<pre>| 22724        | 63          | 2m 40s       |</pre>"
      ],
      "text/plain": [
       "| 22724        | 63          | 2m 40s       |"
      ]
     },
     "metadata": {},
     "output_type": "display_data"
    },
    {
     "data": {
      "text/html": [
       "<pre>| 22896        | 63.5        | 2m 41s       |</pre>"
      ],
      "text/plain": [
       "| 22896        | 63.5        | 2m 41s       |"
      ]
     },
     "metadata": {},
     "output_type": "display_data"
    },
    {
     "data": {
      "text/html": [
       "<pre>| 23054        | 64          | 2m 42s       |</pre>"
      ],
      "text/plain": [
       "| 23054        | 64          | 2m 42s       |"
      ]
     },
     "metadata": {},
     "output_type": "display_data"
    },
    {
     "data": {
      "text/html": [
       "<pre>| 23220        | 64.5        | 2m 43s       |</pre>"
      ],
      "text/plain": [
       "| 23220        | 64.5        | 2m 43s       |"
      ]
     },
     "metadata": {},
     "output_type": "display_data"
    },
    {
     "data": {
      "text/html": [
       "<pre>| 23397        | 65          | 2m 44s       |</pre>"
      ],
      "text/plain": [
       "| 23397        | 65          | 2m 44s       |"
      ]
     },
     "metadata": {},
     "output_type": "display_data"
    },
    {
     "data": {
      "text/html": [
       "<pre>| 23550        | 65.25       | 2m 45s       |</pre>"
      ],
      "text/plain": [
       "| 23550        | 65.25       | 2m 45s       |"
      ]
     },
     "metadata": {},
     "output_type": "display_data"
    },
    {
     "data": {
      "text/html": [
       "<pre>| 23704        | 65.75       | 2m 46s       |</pre>"
      ],
      "text/plain": [
       "| 23704        | 65.75       | 2m 46s       |"
      ]
     },
     "metadata": {},
     "output_type": "display_data"
    },
    {
     "data": {
      "text/html": [
       "<pre>| 23884        | 66.25       | 2m 47s       |</pre>"
      ],
      "text/plain": [
       "| 23884        | 66.25       | 2m 47s       |"
      ]
     },
     "metadata": {},
     "output_type": "display_data"
    },
    {
     "data": {
      "text/html": [
       "<pre>| 24047        | 66.75       | 2m 48s       |</pre>"
      ],
      "text/plain": [
       "| 24047        | 66.75       | 2m 48s       |"
      ]
     },
     "metadata": {},
     "output_type": "display_data"
    },
    {
     "data": {
      "text/html": [
       "<pre>| 24219        | 67.25       | 2m 49s       |</pre>"
      ],
      "text/plain": [
       "| 24219        | 67.25       | 2m 49s       |"
      ]
     },
     "metadata": {},
     "output_type": "display_data"
    },
    {
     "data": {
      "text/html": [
       "<pre>| 24375        | 67.5        | 2m 50s       |</pre>"
      ],
      "text/plain": [
       "| 24375        | 67.5        | 2m 50s       |"
      ]
     },
     "metadata": {},
     "output_type": "display_data"
    },
    {
     "data": {
      "text/html": [
       "<pre>| 24533        | 68          | 2m 51s       |</pre>"
      ],
      "text/plain": [
       "| 24533        | 68          | 2m 51s       |"
      ]
     },
     "metadata": {},
     "output_type": "display_data"
    },
    {
     "data": {
      "text/html": [
       "<pre>| 24677        | 68.5        | 2m 52s       |</pre>"
      ],
      "text/plain": [
       "| 24677        | 68.5        | 2m 52s       |"
      ]
     },
     "metadata": {},
     "output_type": "display_data"
    },
    {
     "data": {
      "text/html": [
       "<pre>| 24838        | 69          | 2m 53s       |</pre>"
      ],
      "text/plain": [
       "| 24838        | 69          | 2m 53s       |"
      ]
     },
     "metadata": {},
     "output_type": "display_data"
    },
    {
     "data": {
      "text/html": [
       "<pre>| 24996        | 69.25       | 2m 54s       |</pre>"
      ],
      "text/plain": [
       "| 24996        | 69.25       | 2m 54s       |"
      ]
     },
     "metadata": {},
     "output_type": "display_data"
    },
    {
     "data": {
      "text/html": [
       "<pre>| 25160        | 69.75       | 2m 55s       |</pre>"
      ],
      "text/plain": [
       "| 25160        | 69.75       | 2m 55s       |"
      ]
     },
     "metadata": {},
     "output_type": "display_data"
    },
    {
     "data": {
      "text/html": [
       "<pre>| 25327        | 70.25       | 2m 56s       |</pre>"
      ],
      "text/plain": [
       "| 25327        | 70.25       | 2m 56s       |"
      ]
     },
     "metadata": {},
     "output_type": "display_data"
    },
    {
     "data": {
      "text/html": [
       "<pre>| 25485        | 70.75       | 2m 57s       |</pre>"
      ],
      "text/plain": [
       "| 25485        | 70.75       | 2m 57s       |"
      ]
     },
     "metadata": {},
     "output_type": "display_data"
    },
    {
     "data": {
      "text/html": [
       "<pre>| 25667        | 71.25       | 2m 58s       |</pre>"
      ],
      "text/plain": [
       "| 25667        | 71.25       | 2m 58s       |"
      ]
     },
     "metadata": {},
     "output_type": "display_data"
    },
    {
     "data": {
      "text/html": [
       "<pre>| 25828        | 71.75       | 2m 59s       |</pre>"
      ],
      "text/plain": [
       "| 25828        | 71.75       | 2m 59s       |"
      ]
     },
     "metadata": {},
     "output_type": "display_data"
    },
    {
     "data": {
      "text/html": [
       "<pre>| 25992        | 72          | 3m 0s        |</pre>"
      ],
      "text/plain": [
       "| 25992        | 72          | 3m 0s        |"
      ]
     },
     "metadata": {},
     "output_type": "display_data"
    },
    {
     "data": {
      "text/html": [
       "<pre>| 26154        | 72.5        | 3m 1s        |</pre>"
      ],
      "text/plain": [
       "| 26154        | 72.5        | 3m 1s        |"
      ]
     },
     "metadata": {},
     "output_type": "display_data"
    },
    {
     "data": {
      "text/html": [
       "<pre>| 26321        | 73          | 3m 2s        |</pre>"
      ],
      "text/plain": [
       "| 26321        | 73          | 3m 2s        |"
      ]
     },
     "metadata": {},
     "output_type": "display_data"
    },
    {
     "data": {
      "text/html": [
       "<pre>| 26490        | 73.5        | 3m 3s        |</pre>"
      ],
      "text/plain": [
       "| 26490        | 73.5        | 3m 3s        |"
      ]
     },
     "metadata": {},
     "output_type": "display_data"
    },
    {
     "data": {
      "text/html": [
       "<pre>| 26654        | 74          | 3m 4s        |</pre>"
      ],
      "text/plain": [
       "| 26654        | 74          | 3m 4s        |"
      ]
     },
     "metadata": {},
     "output_type": "display_data"
    },
    {
     "data": {
      "text/html": [
       "<pre>| 26830        | 74.5        | 3m 5s        |</pre>"
      ],
      "text/plain": [
       "| 26830        | 74.5        | 3m 5s        |"
      ]
     },
     "metadata": {},
     "output_type": "display_data"
    },
    {
     "data": {
      "text/html": [
       "<pre>| 26989        | 75          | 3m 6s        |</pre>"
      ],
      "text/plain": [
       "| 26989        | 75          | 3m 6s        |"
      ]
     },
     "metadata": {},
     "output_type": "display_data"
    },
    {
     "data": {
      "text/html": [
       "<pre>| 27140        | 75.25       | 3m 7s        |</pre>"
      ],
      "text/plain": [
       "| 27140        | 75.25       | 3m 7s        |"
      ]
     },
     "metadata": {},
     "output_type": "display_data"
    },
    {
     "data": {
      "text/html": [
       "<pre>| 27291        | 75.75       | 3m 8s        |</pre>"
      ],
      "text/plain": [
       "| 27291        | 75.75       | 3m 8s        |"
      ]
     },
     "metadata": {},
     "output_type": "display_data"
    },
    {
     "data": {
      "text/html": [
       "<pre>| 27429        | 76          | 3m 9s        |</pre>"
      ],
      "text/plain": [
       "| 27429        | 76          | 3m 9s        |"
      ]
     },
     "metadata": {},
     "output_type": "display_data"
    },
    {
     "data": {
      "text/html": [
       "<pre>| 27587        | 76.5        | 3m 10s       |</pre>"
      ],
      "text/plain": [
       "| 27587        | 76.5        | 3m 10s       |"
      ]
     },
     "metadata": {},
     "output_type": "display_data"
    },
    {
     "data": {
      "text/html": [
       "<pre>| 27759        | 77          | 3m 11s       |</pre>"
      ],
      "text/plain": [
       "| 27759        | 77          | 3m 11s       |"
      ]
     },
     "metadata": {},
     "output_type": "display_data"
    },
    {
     "data": {
      "text/html": [
       "<pre>| 27924        | 77.5        | 3m 12s       |</pre>"
      ],
      "text/plain": [
       "| 27924        | 77.5        | 3m 12s       |"
      ]
     },
     "metadata": {},
     "output_type": "display_data"
    },
    {
     "data": {
      "text/html": [
       "<pre>| 28082        | 78          | 3m 13s       |</pre>"
      ],
      "text/plain": [
       "| 28082        | 78          | 3m 13s       |"
      ]
     },
     "metadata": {},
     "output_type": "display_data"
    },
    {
     "data": {
      "text/html": [
       "<pre>| 28237        | 78.25       | 3m 14s       |</pre>"
      ],
      "text/plain": [
       "| 28237        | 78.25       | 3m 14s       |"
      ]
     },
     "metadata": {},
     "output_type": "display_data"
    },
    {
     "data": {
      "text/html": [
       "<pre>| 28412        | 78.75       | 3m 15s       |</pre>"
      ],
      "text/plain": [
       "| 28412        | 78.75       | 3m 15s       |"
      ]
     },
     "metadata": {},
     "output_type": "display_data"
    },
    {
     "data": {
      "text/html": [
       "<pre>| 28579        | 79.25       | 3m 16s       |</pre>"
      ],
      "text/plain": [
       "| 28579        | 79.25       | 3m 16s       |"
      ]
     },
     "metadata": {},
     "output_type": "display_data"
    },
    {
     "data": {
      "text/html": [
       "<pre>| 28738        | 79.75       | 3m 17s       |</pre>"
      ],
      "text/plain": [
       "| 28738        | 79.75       | 3m 17s       |"
      ]
     },
     "metadata": {},
     "output_type": "display_data"
    },
    {
     "data": {
      "text/html": [
       "<pre>| 28906        | 80.25       | 3m 18s       |</pre>"
      ],
      "text/plain": [
       "| 28906        | 80.25       | 3m 18s       |"
      ]
     },
     "metadata": {},
     "output_type": "display_data"
    },
    {
     "data": {
      "text/html": [
       "<pre>| 29060        | 80.75       | 3m 19s       |</pre>"
      ],
      "text/plain": [
       "| 29060        | 80.75       | 3m 19s       |"
      ]
     },
     "metadata": {},
     "output_type": "display_data"
    },
    {
     "data": {
      "text/html": [
       "<pre>| 29211        | 81          | 3m 20s       |</pre>"
      ],
      "text/plain": [
       "| 29211        | 81          | 3m 20s       |"
      ]
     },
     "metadata": {},
     "output_type": "display_data"
    },
    {
     "data": {
      "text/html": [
       "<pre>| 29368        | 81.5        | 3m 21s       |</pre>"
      ],
      "text/plain": [
       "| 29368        | 81.5        | 3m 21s       |"
      ]
     },
     "metadata": {},
     "output_type": "display_data"
    },
    {
     "data": {
      "text/html": [
       "<pre>| 29493        | 81.75       | 3m 22s       |</pre>"
      ],
      "text/plain": [
       "| 29493        | 81.75       | 3m 22s       |"
      ]
     },
     "metadata": {},
     "output_type": "display_data"
    },
    {
     "data": {
      "text/html": [
       "<pre>| 29634        | 82.25       | 3m 23s       |</pre>"
      ],
      "text/plain": [
       "| 29634        | 82.25       | 3m 23s       |"
      ]
     },
     "metadata": {},
     "output_type": "display_data"
    },
    {
     "data": {
      "text/html": [
       "<pre>| 29805        | 82.75       | 3m 24s       |</pre>"
      ],
      "text/plain": [
       "| 29805        | 82.75       | 3m 24s       |"
      ]
     },
     "metadata": {},
     "output_type": "display_data"
    },
    {
     "data": {
      "text/html": [
       "<pre>| 29968        | 83.25       | 3m 25s       |</pre>"
      ],
      "text/plain": [
       "| 29968        | 83.25       | 3m 25s       |"
      ]
     },
     "metadata": {},
     "output_type": "display_data"
    },
    {
     "data": {
      "text/html": [
       "<pre>| 30133        | 83.5        | 3m 26s       |</pre>"
      ],
      "text/plain": [
       "| 30133        | 83.5        | 3m 26s       |"
      ]
     },
     "metadata": {},
     "output_type": "display_data"
    },
    {
     "data": {
      "text/html": [
       "<pre>| 30312        | 84          | 3m 27s       |</pre>"
      ],
      "text/plain": [
       "| 30312        | 84          | 3m 27s       |"
      ]
     },
     "metadata": {},
     "output_type": "display_data"
    },
    {
     "data": {
      "text/html": [
       "<pre>| 30473        | 84.5        | 3m 28s       |</pre>"
      ],
      "text/plain": [
       "| 30473        | 84.5        | 3m 28s       |"
      ]
     },
     "metadata": {},
     "output_type": "display_data"
    },
    {
     "data": {
      "text/html": [
       "<pre>| 30629        | 85          | 3m 29s       |</pre>"
      ],
      "text/plain": [
       "| 30629        | 85          | 3m 29s       |"
      ]
     },
     "metadata": {},
     "output_type": "display_data"
    },
    {
     "data": {
      "text/html": [
       "<pre>| 30807        | 85.5        | 3m 30s       |</pre>"
      ],
      "text/plain": [
       "| 30807        | 85.5        | 3m 30s       |"
      ]
     },
     "metadata": {},
     "output_type": "display_data"
    },
    {
     "data": {
      "text/html": [
       "<pre>| 30974        | 86          | 3m 31s       |</pre>"
      ],
      "text/plain": [
       "| 30974        | 86          | 3m 31s       |"
      ]
     },
     "metadata": {},
     "output_type": "display_data"
    },
    {
     "data": {
      "text/html": [
       "<pre>| 31161        | 86.5        | 3m 32s       |</pre>"
      ],
      "text/plain": [
       "| 31161        | 86.5        | 3m 32s       |"
      ]
     },
     "metadata": {},
     "output_type": "display_data"
    },
    {
     "data": {
      "text/html": [
       "<pre>| 31329        | 87          | 3m 33s       |</pre>"
      ],
      "text/plain": [
       "| 31329        | 87          | 3m 33s       |"
      ]
     },
     "metadata": {},
     "output_type": "display_data"
    },
    {
     "data": {
      "text/html": [
       "<pre>| 31492        | 87.5        | 3m 34s       |</pre>"
      ],
      "text/plain": [
       "| 31492        | 87.5        | 3m 34s       |"
      ]
     },
     "metadata": {},
     "output_type": "display_data"
    },
    {
     "data": {
      "text/html": [
       "<pre>| 31645        | 87.75       | 3m 35s       |</pre>"
      ],
      "text/plain": [
       "| 31645        | 87.75       | 3m 35s       |"
      ]
     },
     "metadata": {},
     "output_type": "display_data"
    },
    {
     "data": {
      "text/html": [
       "<pre>| 31820        | 88.25       | 3m 36s       |</pre>"
      ],
      "text/plain": [
       "| 31820        | 88.25       | 3m 36s       |"
      ]
     },
     "metadata": {},
     "output_type": "display_data"
    },
    {
     "data": {
      "text/html": [
       "<pre>| 31977        | 88.75       | 3m 37s       |</pre>"
      ],
      "text/plain": [
       "| 31977        | 88.75       | 3m 37s       |"
      ]
     },
     "metadata": {},
     "output_type": "display_data"
    },
    {
     "data": {
      "text/html": [
       "<pre>| 32160        | 89.25       | 3m 38s       |</pre>"
      ],
      "text/plain": [
       "| 32160        | 89.25       | 3m 38s       |"
      ]
     },
     "metadata": {},
     "output_type": "display_data"
    },
    {
     "data": {
      "text/html": [
       "<pre>| 32321        | 89.75       | 3m 39s       |</pre>"
      ],
      "text/plain": [
       "| 32321        | 89.75       | 3m 39s       |"
      ]
     },
     "metadata": {},
     "output_type": "display_data"
    },
    {
     "data": {
      "text/html": [
       "<pre>| 32480        | 90.25       | 3m 40s       |</pre>"
      ],
      "text/plain": [
       "| 32480        | 90.25       | 3m 40s       |"
      ]
     },
     "metadata": {},
     "output_type": "display_data"
    },
    {
     "data": {
      "text/html": [
       "<pre>| 32633        | 90.5        | 3m 41s       |</pre>"
      ],
      "text/plain": [
       "| 32633        | 90.5        | 3m 41s       |"
      ]
     },
     "metadata": {},
     "output_type": "display_data"
    },
    {
     "data": {
      "text/html": [
       "<pre>| 32800        | 91          | 3m 42s       |</pre>"
      ],
      "text/plain": [
       "| 32800        | 91          | 3m 42s       |"
      ]
     },
     "metadata": {},
     "output_type": "display_data"
    },
    {
     "data": {
      "text/html": [
       "<pre>| 32977        | 91.5        | 3m 43s       |</pre>"
      ],
      "text/plain": [
       "| 32977        | 91.5        | 3m 43s       |"
      ]
     },
     "metadata": {},
     "output_type": "display_data"
    },
    {
     "data": {
      "text/html": [
       "<pre>| 33151        | 92          | 3m 44s       |</pre>"
      ],
      "text/plain": [
       "| 33151        | 92          | 3m 44s       |"
      ]
     },
     "metadata": {},
     "output_type": "display_data"
    },
    {
     "data": {
      "text/html": [
       "<pre>| 33328        | 92.5        | 3m 45s       |</pre>"
      ],
      "text/plain": [
       "| 33328        | 92.5        | 3m 45s       |"
      ]
     },
     "metadata": {},
     "output_type": "display_data"
    },
    {
     "data": {
      "text/html": [
       "<pre>| 33495        | 93          | 3m 46s       |</pre>"
      ],
      "text/plain": [
       "| 33495        | 93          | 3m 46s       |"
      ]
     },
     "metadata": {},
     "output_type": "display_data"
    },
    {
     "data": {
      "text/html": [
       "<pre>| 33658        | 93.5        | 3m 47s       |</pre>"
      ],
      "text/plain": [
       "| 33658        | 93.5        | 3m 47s       |"
      ]
     },
     "metadata": {},
     "output_type": "display_data"
    },
    {
     "data": {
      "text/html": [
       "<pre>| 33821        | 93.75       | 3m 48s       |</pre>"
      ],
      "text/plain": [
       "| 33821        | 93.75       | 3m 48s       |"
      ]
     },
     "metadata": {},
     "output_type": "display_data"
    },
    {
     "data": {
      "text/html": [
       "<pre>| 33983        | 94.25       | 3m 49s       |</pre>"
      ],
      "text/plain": [
       "| 33983        | 94.25       | 3m 49s       |"
      ]
     },
     "metadata": {},
     "output_type": "display_data"
    },
    {
     "data": {
      "text/html": [
       "<pre>| 34135        | 94.75       | 3m 50s       |</pre>"
      ],
      "text/plain": [
       "| 34135        | 94.75       | 3m 50s       |"
      ]
     },
     "metadata": {},
     "output_type": "display_data"
    },
    {
     "data": {
      "text/html": [
       "<pre>| 34264        | 95          | 3m 51s       |</pre>"
      ],
      "text/plain": [
       "| 34264        | 95          | 3m 51s       |"
      ]
     },
     "metadata": {},
     "output_type": "display_data"
    },
    {
     "data": {
      "text/html": [
       "<pre>| 34373        | 95.5        | 3m 52s       |</pre>"
      ],
      "text/plain": [
       "| 34373        | 95.5        | 3m 52s       |"
      ]
     },
     "metadata": {},
     "output_type": "display_data"
    },
    {
     "data": {
      "text/html": [
       "<pre>| 34512        | 95.75       | 3m 53s       |</pre>"
      ],
      "text/plain": [
       "| 34512        | 95.75       | 3m 53s       |"
      ]
     },
     "metadata": {},
     "output_type": "display_data"
    },
    {
     "data": {
      "text/html": [
       "<pre>| 34681        | 96.25       | 3m 54s       |</pre>"
      ],
      "text/plain": [
       "| 34681        | 96.25       | 3m 54s       |"
      ]
     },
     "metadata": {},
     "output_type": "display_data"
    },
    {
     "data": {
      "text/html": [
       "<pre>| 34832        | 96.75       | 3m 55s       |</pre>"
      ],
      "text/plain": [
       "| 34832        | 96.75       | 3m 55s       |"
      ]
     },
     "metadata": {},
     "output_type": "display_data"
    },
    {
     "data": {
      "text/html": [
       "<pre>| 34992        | 97          | 3m 56s       |</pre>"
      ],
      "text/plain": [
       "| 34992        | 97          | 3m 56s       |"
      ]
     },
     "metadata": {},
     "output_type": "display_data"
    },
    {
     "data": {
      "text/html": [
       "<pre>| 35166        | 97.5        | 3m 57s       |</pre>"
      ],
      "text/plain": [
       "| 35166        | 97.5        | 3m 57s       |"
      ]
     },
     "metadata": {},
     "output_type": "display_data"
    },
    {
     "data": {
      "text/html": [
       "<pre>| 35338        | 98          | 3m 58s       |</pre>"
      ],
      "text/plain": [
       "| 35338        | 98          | 3m 58s       |"
      ]
     },
     "metadata": {},
     "output_type": "display_data"
    },
    {
     "data": {
      "text/html": [
       "<pre>| 35514        | 98.5        | 3m 59s       |</pre>"
      ],
      "text/plain": [
       "| 35514        | 98.5        | 3m 59s       |"
      ]
     },
     "metadata": {},
     "output_type": "display_data"
    },
    {
     "data": {
      "text/html": [
       "<pre>| 35675        | 99          | 4m 0s        |</pre>"
      ],
      "text/plain": [
       "| 35675        | 99          | 4m 0s        |"
      ]
     },
     "metadata": {},
     "output_type": "display_data"
    },
    {
     "data": {
      "text/html": [
       "<pre>| 35834        | 99.5        | 4m 1s        |</pre>"
      ],
      "text/plain": [
       "| 35834        | 99.5        | 4m 1s        |"
      ]
     },
     "metadata": {},
     "output_type": "display_data"
    },
    {
     "data": {
      "text/html": [
       "<pre>| 35972        | 99.75       | 4m 2s        |</pre>"
      ],
      "text/plain": [
       "| 35972        | 99.75       | 4m 2s        |"
      ]
     },
     "metadata": {},
     "output_type": "display_data"
    },
    {
     "data": {
      "text/html": [
       "<pre>| Done         |             | 4m 2s        |</pre>"
      ],
      "text/plain": [
       "| Done         |             | 4m 2s        |"
      ]
     },
     "metadata": {},
     "output_type": "display_data"
    },
    {
     "data": {
      "text/html": [
       "<pre>+--------------+-------------+--------------+</pre>"
      ],
      "text/plain": [
       "+--------------+-------------+--------------+"
      ]
     },
     "metadata": {},
     "output_type": "display_data"
    },
    {
     "data": {
      "text/html": [
       "<pre>+--------------+-------------+--------------+</pre>"
      ],
      "text/plain": [
       "+--------------+-------------+--------------+"
      ]
     },
     "metadata": {},
     "output_type": "display_data"
    },
    {
     "data": {
      "text/html": [
       "<pre>| Query points | % Complete. | Elapsed Time |</pre>"
      ],
      "text/plain": [
       "| Query points | % Complete. | Elapsed Time |"
      ]
     },
     "metadata": {},
     "output_type": "display_data"
    },
    {
     "data": {
      "text/html": [
       "<pre>+--------------+-------------+--------------+</pre>"
      ],
      "text/plain": [
       "+--------------+-------------+--------------+"
      ]
     },
     "metadata": {},
     "output_type": "display_data"
    },
    {
     "data": {
      "text/html": [
       "<pre>| 1            | 0           | 9.5ms        |</pre>"
      ],
      "text/plain": [
       "| 1            | 0           | 9.5ms        |"
      ]
     },
     "metadata": {},
     "output_type": "display_data"
    },
    {
     "data": {
      "text/html": [
       "<pre>| 141          | 0.25        | 1.01s        |</pre>"
      ],
      "text/plain": [
       "| 141          | 0.25        | 1.01s        |"
      ]
     },
     "metadata": {},
     "output_type": "display_data"
    },
    {
     "data": {
      "text/html": [
       "<pre>| 251          | 0.5         | 2.02s        |</pre>"
      ],
      "text/plain": [
       "| 251          | 0.5         | 2.02s        |"
      ]
     },
     "metadata": {},
     "output_type": "display_data"
    },
    {
     "data": {
      "text/html": [
       "<pre>| 398          | 1           | 3.02s        |</pre>"
      ],
      "text/plain": [
       "| 398          | 1           | 3.02s        |"
      ]
     },
     "metadata": {},
     "output_type": "display_data"
    },
    {
     "data": {
      "text/html": [
       "<pre>| 473          | 1.25        | 4.04s        |</pre>"
      ],
      "text/plain": [
       "| 473          | 1.25        | 4.04s        |"
      ]
     },
     "metadata": {},
     "output_type": "display_data"
    },
    {
     "data": {
      "text/html": [
       "<pre>| 615          | 1.5         | 5.04s        |</pre>"
      ],
      "text/plain": [
       "| 615          | 1.5         | 5.04s        |"
      ]
     },
     "metadata": {},
     "output_type": "display_data"
    },
    {
     "data": {
      "text/html": [
       "<pre>| 781          | 2           | 6.03s        |</pre>"
      ],
      "text/plain": [
       "| 781          | 2           | 6.03s        |"
      ]
     },
     "metadata": {},
     "output_type": "display_data"
    },
    {
     "data": {
      "text/html": [
       "<pre>| 931          | 2.5         | 7.04s        |</pre>"
      ],
      "text/plain": [
       "| 931          | 2.5         | 7.04s        |"
      ]
     },
     "metadata": {},
     "output_type": "display_data"
    },
    {
     "data": {
      "text/html": [
       "<pre>| 1076         | 2.75        | 8.03s        |</pre>"
      ],
      "text/plain": [
       "| 1076         | 2.75        | 8.03s        |"
      ]
     },
     "metadata": {},
     "output_type": "display_data"
    },
    {
     "data": {
      "text/html": [
       "<pre>| 1202         | 3.25        | 9.04s        |</pre>"
      ],
      "text/plain": [
       "| 1202         | 3.25        | 9.04s        |"
      ]
     },
     "metadata": {},
     "output_type": "display_data"
    },
    {
     "data": {
      "text/html": [
       "<pre>| 1350         | 3.75        | 10.04s       |</pre>"
      ],
      "text/plain": [
       "| 1350         | 3.75        | 10.04s       |"
      ]
     },
     "metadata": {},
     "output_type": "display_data"
    },
    {
     "data": {
      "text/html": [
       "<pre>| 1493         | 4           | 11.05s       |</pre>"
      ],
      "text/plain": [
       "| 1493         | 4           | 11.05s       |"
      ]
     },
     "metadata": {},
     "output_type": "display_data"
    },
    {
     "data": {
      "text/html": [
       "<pre>| 1613         | 4.25        | 12.05s       |</pre>"
      ],
      "text/plain": [
       "| 1613         | 4.25        | 12.05s       |"
      ]
     },
     "metadata": {},
     "output_type": "display_data"
    },
    {
     "data": {
      "text/html": [
       "<pre>| 1778         | 4.75        | 13.06s       |</pre>"
      ],
      "text/plain": [
       "| 1778         | 4.75        | 13.06s       |"
      ]
     },
     "metadata": {},
     "output_type": "display_data"
    },
    {
     "data": {
      "text/html": [
       "<pre>| 1943         | 5.25        | 14.07s       |</pre>"
      ],
      "text/plain": [
       "| 1943         | 5.25        | 14.07s       |"
      ]
     },
     "metadata": {},
     "output_type": "display_data"
    },
    {
     "data": {
      "text/html": [
       "<pre>| 2108         | 5.75        | 15.05s       |</pre>"
      ],
      "text/plain": [
       "| 2108         | 5.75        | 15.05s       |"
      ]
     },
     "metadata": {},
     "output_type": "display_data"
    },
    {
     "data": {
      "text/html": [
       "<pre>| 2282         | 6.25        | 16.07s       |</pre>"
      ],
      "text/plain": [
       "| 2282         | 6.25        | 16.07s       |"
      ]
     },
     "metadata": {},
     "output_type": "display_data"
    },
    {
     "data": {
      "text/html": [
       "<pre>| 2440         | 6.75        | 17.06s       |</pre>"
      ],
      "text/plain": [
       "| 2440         | 6.75        | 17.06s       |"
      ]
     },
     "metadata": {},
     "output_type": "display_data"
    },
    {
     "data": {
      "text/html": [
       "<pre>| 2562         | 7           | 18.07s       |</pre>"
      ],
      "text/plain": [
       "| 2562         | 7           | 18.07s       |"
      ]
     },
     "metadata": {},
     "output_type": "display_data"
    },
    {
     "data": {
      "text/html": [
       "<pre>| 2685         | 7.25        | 19.07s       |</pre>"
      ],
      "text/plain": [
       "| 2685         | 7.25        | 19.07s       |"
      ]
     },
     "metadata": {},
     "output_type": "display_data"
    },
    {
     "data": {
      "text/html": [
       "<pre>| 2832         | 7.75        | 20.07s       |</pre>"
      ],
      "text/plain": [
       "| 2832         | 7.75        | 20.07s       |"
      ]
     },
     "metadata": {},
     "output_type": "display_data"
    },
    {
     "data": {
      "text/html": [
       "<pre>| 2982         | 8.25        | 21.07s       |</pre>"
      ],
      "text/plain": [
       "| 2982         | 8.25        | 21.07s       |"
      ]
     },
     "metadata": {},
     "output_type": "display_data"
    },
    {
     "data": {
      "text/html": [
       "<pre>| 3158         | 8.75        | 22.08s       |</pre>"
      ],
      "text/plain": [
       "| 3158         | 8.75        | 22.08s       |"
      ]
     },
     "metadata": {},
     "output_type": "display_data"
    },
    {
     "data": {
      "text/html": [
       "<pre>| 3305         | 9           | 23.09s       |</pre>"
      ],
      "text/plain": [
       "| 3305         | 9           | 23.09s       |"
      ]
     },
     "metadata": {},
     "output_type": "display_data"
    },
    {
     "data": {
      "text/html": [
       "<pre>| 3457         | 9.5         | 24.09s       |</pre>"
      ],
      "text/plain": [
       "| 3457         | 9.5         | 24.09s       |"
      ]
     },
     "metadata": {},
     "output_type": "display_data"
    },
    {
     "data": {
      "text/html": [
       "<pre>| 3616         | 10          | 25.09s       |</pre>"
      ],
      "text/plain": [
       "| 3616         | 10          | 25.09s       |"
      ]
     },
     "metadata": {},
     "output_type": "display_data"
    },
    {
     "data": {
      "text/html": [
       "<pre>| 3780         | 10.5        | 26.09s       |</pre>"
      ],
      "text/plain": [
       "| 3780         | 10.5        | 26.09s       |"
      ]
     },
     "metadata": {},
     "output_type": "display_data"
    },
    {
     "data": {
      "text/html": [
       "<pre>| 3948         | 10.75       | 27.10s       |</pre>"
      ],
      "text/plain": [
       "| 3948         | 10.75       | 27.10s       |"
      ]
     },
     "metadata": {},
     "output_type": "display_data"
    },
    {
     "data": {
      "text/html": [
       "<pre>| 4107         | 11.25       | 28.10s       |</pre>"
      ],
      "text/plain": [
       "| 4107         | 11.25       | 28.10s       |"
      ]
     },
     "metadata": {},
     "output_type": "display_data"
    },
    {
     "data": {
      "text/html": [
       "<pre>| 4287         | 11.75       | 29.10s       |</pre>"
      ],
      "text/plain": [
       "| 4287         | 11.75       | 29.10s       |"
      ]
     },
     "metadata": {},
     "output_type": "display_data"
    },
    {
     "data": {
      "text/html": [
       "<pre>| 4455         | 12.25       | 30.11s       |</pre>"
      ],
      "text/plain": [
       "| 4455         | 12.25       | 30.11s       |"
      ]
     },
     "metadata": {},
     "output_type": "display_data"
    },
    {
     "data": {
      "text/html": [
       "<pre>| 4597         | 12.75       | 31.12s       |</pre>"
      ],
      "text/plain": [
       "| 4597         | 12.75       | 31.12s       |"
      ]
     },
     "metadata": {},
     "output_type": "display_data"
    },
    {
     "data": {
      "text/html": [
       "<pre>| 4770         | 13.25       | 32.12s       |</pre>"
      ],
      "text/plain": [
       "| 4770         | 13.25       | 32.12s       |"
      ]
     },
     "metadata": {},
     "output_type": "display_data"
    },
    {
     "data": {
      "text/html": [
       "<pre>| 4931         | 13.5        | 33.12s       |</pre>"
      ],
      "text/plain": [
       "| 4931         | 13.5        | 33.12s       |"
      ]
     },
     "metadata": {},
     "output_type": "display_data"
    },
    {
     "data": {
      "text/html": [
       "<pre>| 5105         | 14          | 34.13s       |</pre>"
      ],
      "text/plain": [
       "| 5105         | 14          | 34.13s       |"
      ]
     },
     "metadata": {},
     "output_type": "display_data"
    },
    {
     "data": {
      "text/html": [
       "<pre>| 5279         | 14.5        | 35.12s       |</pre>"
      ],
      "text/plain": [
       "| 5279         | 14.5        | 35.12s       |"
      ]
     },
     "metadata": {},
     "output_type": "display_data"
    },
    {
     "data": {
      "text/html": [
       "<pre>| 5452         | 15          | 36.12s       |</pre>"
      ],
      "text/plain": [
       "| 5452         | 15          | 36.12s       |"
      ]
     },
     "metadata": {},
     "output_type": "display_data"
    },
    {
     "data": {
      "text/html": [
       "<pre>| 5606         | 15.5        | 37.13s       |</pre>"
      ],
      "text/plain": [
       "| 5606         | 15.5        | 37.13s       |"
      ]
     },
     "metadata": {},
     "output_type": "display_data"
    },
    {
     "data": {
      "text/html": [
       "<pre>| 5777         | 16          | 38.13s       |</pre>"
      ],
      "text/plain": [
       "| 5777         | 16          | 38.13s       |"
      ]
     },
     "metadata": {},
     "output_type": "display_data"
    },
    {
     "data": {
      "text/html": [
       "<pre>| 5959         | 16.5        | 39.13s       |</pre>"
      ],
      "text/plain": [
       "| 5959         | 16.5        | 39.13s       |"
      ]
     },
     "metadata": {},
     "output_type": "display_data"
    },
    {
     "data": {
      "text/html": [
       "<pre>| 6116         | 16.75       | 40.15s       |</pre>"
      ],
      "text/plain": [
       "| 6116         | 16.75       | 40.15s       |"
      ]
     },
     "metadata": {},
     "output_type": "display_data"
    },
    {
     "data": {
      "text/html": [
       "<pre>| 6271         | 17.25       | 41.14s       |</pre>"
      ],
      "text/plain": [
       "| 6271         | 17.25       | 41.14s       |"
      ]
     },
     "metadata": {},
     "output_type": "display_data"
    },
    {
     "data": {
      "text/html": [
       "<pre>| 6419         | 17.75       | 42.15s       |</pre>"
      ],
      "text/plain": [
       "| 6419         | 17.75       | 42.15s       |"
      ]
     },
     "metadata": {},
     "output_type": "display_data"
    },
    {
     "data": {
      "text/html": [
       "<pre>| 6581         | 18.25       | 43.15s       |</pre>"
      ],
      "text/plain": [
       "| 6581         | 18.25       | 43.15s       |"
      ]
     },
     "metadata": {},
     "output_type": "display_data"
    },
    {
     "data": {
      "text/html": [
       "<pre>| 6733         | 18.5        | 44.15s       |</pre>"
      ],
      "text/plain": [
       "| 6733         | 18.5        | 44.15s       |"
      ]
     },
     "metadata": {},
     "output_type": "display_data"
    },
    {
     "data": {
      "text/html": [
       "<pre>| 6891         | 19          | 45.16s       |</pre>"
      ],
      "text/plain": [
       "| 6891         | 19          | 45.16s       |"
      ]
     },
     "metadata": {},
     "output_type": "display_data"
    },
    {
     "data": {
      "text/html": [
       "<pre>| 7044         | 19.5        | 46.17s       |</pre>"
      ],
      "text/plain": [
       "| 7044         | 19.5        | 46.17s       |"
      ]
     },
     "metadata": {},
     "output_type": "display_data"
    },
    {
     "data": {
      "text/html": [
       "<pre>| 7206         | 20          | 47.17s       |</pre>"
      ],
      "text/plain": [
       "| 7206         | 20          | 47.17s       |"
      ]
     },
     "metadata": {},
     "output_type": "display_data"
    },
    {
     "data": {
      "text/html": [
       "<pre>| 7371         | 20.25       | 48.16s       |</pre>"
      ],
      "text/plain": [
       "| 7371         | 20.25       | 48.16s       |"
      ]
     },
     "metadata": {},
     "output_type": "display_data"
    },
    {
     "data": {
      "text/html": [
       "<pre>| 7542         | 20.75       | 49.17s       |</pre>"
      ],
      "text/plain": [
       "| 7542         | 20.75       | 49.17s       |"
      ]
     },
     "metadata": {},
     "output_type": "display_data"
    },
    {
     "data": {
      "text/html": [
       "<pre>| 7692         | 21.25       | 50.17s       |</pre>"
      ],
      "text/plain": [
       "| 7692         | 21.25       | 50.17s       |"
      ]
     },
     "metadata": {},
     "output_type": "display_data"
    },
    {
     "data": {
      "text/html": [
       "<pre>| 7862         | 21.75       | 51.17s       |</pre>"
      ],
      "text/plain": [
       "| 7862         | 21.75       | 51.17s       |"
      ]
     },
     "metadata": {},
     "output_type": "display_data"
    },
    {
     "data": {
      "text/html": [
       "<pre>| 8017         | 22.25       | 52.19s       |</pre>"
      ],
      "text/plain": [
       "| 8017         | 22.25       | 52.19s       |"
      ]
     },
     "metadata": {},
     "output_type": "display_data"
    },
    {
     "data": {
      "text/html": [
       "<pre>| 8178         | 22.5        | 53.18s       |</pre>"
      ],
      "text/plain": [
       "| 8178         | 22.5        | 53.18s       |"
      ]
     },
     "metadata": {},
     "output_type": "display_data"
    },
    {
     "data": {
      "text/html": [
       "<pre>| 8339         | 23          | 54.18s       |</pre>"
      ],
      "text/plain": [
       "| 8339         | 23          | 54.18s       |"
      ]
     },
     "metadata": {},
     "output_type": "display_data"
    },
    {
     "data": {
      "text/html": [
       "<pre>| 8493         | 23.5        | 55.19s       |</pre>"
      ],
      "text/plain": [
       "| 8493         | 23.5        | 55.19s       |"
      ]
     },
     "metadata": {},
     "output_type": "display_data"
    },
    {
     "data": {
      "text/html": [
       "<pre>| 8658         | 24          | 56.19s       |</pre>"
      ],
      "text/plain": [
       "| 8658         | 24          | 56.19s       |"
      ]
     },
     "metadata": {},
     "output_type": "display_data"
    },
    {
     "data": {
      "text/html": [
       "<pre>| 8820         | 24.5        | 57.20s       |</pre>"
      ],
      "text/plain": [
       "| 8820         | 24.5        | 57.20s       |"
      ]
     },
     "metadata": {},
     "output_type": "display_data"
    },
    {
     "data": {
      "text/html": [
       "<pre>| 8981         | 24.75       | 58.20s       |</pre>"
      ],
      "text/plain": [
       "| 8981         | 24.75       | 58.20s       |"
      ]
     },
     "metadata": {},
     "output_type": "display_data"
    },
    {
     "data": {
      "text/html": [
       "<pre>| 9155         | 25.25       | 59.20s       |</pre>"
      ],
      "text/plain": [
       "| 9155         | 25.25       | 59.20s       |"
      ]
     },
     "metadata": {},
     "output_type": "display_data"
    },
    {
     "data": {
      "text/html": [
       "<pre>| 9314         | 25.75       | 1m 0s        |</pre>"
      ],
      "text/plain": [
       "| 9314         | 25.75       | 1m 0s        |"
      ]
     },
     "metadata": {},
     "output_type": "display_data"
    },
    {
     "data": {
      "text/html": [
       "<pre>| 9468         | 26.25       | 1m 1s        |</pre>"
      ],
      "text/plain": [
       "| 9468         | 26.25       | 1m 1s        |"
      ]
     },
     "metadata": {},
     "output_type": "display_data"
    },
    {
     "data": {
      "text/html": [
       "<pre>| 9622         | 26.5        | 1m 2s        |</pre>"
      ],
      "text/plain": [
       "| 9622         | 26.5        | 1m 2s        |"
      ]
     },
     "metadata": {},
     "output_type": "display_data"
    },
    {
     "data": {
      "text/html": [
       "<pre>| 9775         | 27          | 1m 3s        |</pre>"
      ],
      "text/plain": [
       "| 9775         | 27          | 1m 3s        |"
      ]
     },
     "metadata": {},
     "output_type": "display_data"
    },
    {
     "data": {
      "text/html": [
       "<pre>| 9941         | 27.5        | 1m 4s        |</pre>"
      ],
      "text/plain": [
       "| 9941         | 27.5        | 1m 4s        |"
      ]
     },
     "metadata": {},
     "output_type": "display_data"
    },
    {
     "data": {
      "text/html": [
       "<pre>| 10104        | 28          | 1m 5s        |</pre>"
      ],
      "text/plain": [
       "| 10104        | 28          | 1m 5s        |"
      ]
     },
     "metadata": {},
     "output_type": "display_data"
    },
    {
     "data": {
      "text/html": [
       "<pre>| 10255        | 28.25       | 1m 6s        |</pre>"
      ],
      "text/plain": [
       "| 10255        | 28.25       | 1m 6s        |"
      ]
     },
     "metadata": {},
     "output_type": "display_data"
    },
    {
     "data": {
      "text/html": [
       "<pre>| 10405        | 28.75       | 1m 7s        |</pre>"
      ],
      "text/plain": [
       "| 10405        | 28.75       | 1m 7s        |"
      ]
     },
     "metadata": {},
     "output_type": "display_data"
    },
    {
     "data": {
      "text/html": [
       "<pre>| 10550        | 29.25       | 1m 8s        |</pre>"
      ],
      "text/plain": [
       "| 10550        | 29.25       | 1m 8s        |"
      ]
     },
     "metadata": {},
     "output_type": "display_data"
    },
    {
     "data": {
      "text/html": [
       "<pre>| 10711        | 29.75       | 1m 9s        |</pre>"
      ],
      "text/plain": [
       "| 10711        | 29.75       | 1m 9s        |"
      ]
     },
     "metadata": {},
     "output_type": "display_data"
    },
    {
     "data": {
      "text/html": [
       "<pre>| 10864        | 30          | 1m 10s       |</pre>"
      ],
      "text/plain": [
       "| 10864        | 30          | 1m 10s       |"
      ]
     },
     "metadata": {},
     "output_type": "display_data"
    },
    {
     "data": {
      "text/html": [
       "<pre>| 11013        | 30.5        | 1m 11s       |</pre>"
      ],
      "text/plain": [
       "| 11013        | 30.5        | 1m 11s       |"
      ]
     },
     "metadata": {},
     "output_type": "display_data"
    },
    {
     "data": {
      "text/html": [
       "<pre>| 11154        | 30.75       | 1m 12s       |</pre>"
      ],
      "text/plain": [
       "| 11154        | 30.75       | 1m 12s       |"
      ]
     },
     "metadata": {},
     "output_type": "display_data"
    },
    {
     "data": {
      "text/html": [
       "<pre>| 11318        | 31.25       | 1m 13s       |</pre>"
      ],
      "text/plain": [
       "| 11318        | 31.25       | 1m 13s       |"
      ]
     },
     "metadata": {},
     "output_type": "display_data"
    },
    {
     "data": {
      "text/html": [
       "<pre>| 11488        | 31.75       | 1m 14s       |</pre>"
      ],
      "text/plain": [
       "| 11488        | 31.75       | 1m 14s       |"
      ]
     },
     "metadata": {},
     "output_type": "display_data"
    },
    {
     "data": {
      "text/html": [
       "<pre>| 11657        | 32.25       | 1m 15s       |</pre>"
      ],
      "text/plain": [
       "| 11657        | 32.25       | 1m 15s       |"
      ]
     },
     "metadata": {},
     "output_type": "display_data"
    },
    {
     "data": {
      "text/html": [
       "<pre>| 11822        | 32.75       | 1m 16s       |</pre>"
      ],
      "text/plain": [
       "| 11822        | 32.75       | 1m 16s       |"
      ]
     },
     "metadata": {},
     "output_type": "display_data"
    },
    {
     "data": {
      "text/html": [
       "<pre>| 11971        | 33.25       | 1m 17s       |</pre>"
      ],
      "text/plain": [
       "| 11971        | 33.25       | 1m 17s       |"
      ]
     },
     "metadata": {},
     "output_type": "display_data"
    },
    {
     "data": {
      "text/html": [
       "<pre>| 12140        | 33.5        | 1m 18s       |</pre>"
      ],
      "text/plain": [
       "| 12140        | 33.5        | 1m 18s       |"
      ]
     },
     "metadata": {},
     "output_type": "display_data"
    },
    {
     "data": {
      "text/html": [
       "<pre>| 12304        | 34          | 1m 19s       |</pre>"
      ],
      "text/plain": [
       "| 12304        | 34          | 1m 19s       |"
      ]
     },
     "metadata": {},
     "output_type": "display_data"
    },
    {
     "data": {
      "text/html": [
       "<pre>| 12459        | 34.5        | 1m 20s       |</pre>"
      ],
      "text/plain": [
       "| 12459        | 34.5        | 1m 20s       |"
      ]
     },
     "metadata": {},
     "output_type": "display_data"
    },
    {
     "data": {
      "text/html": [
       "<pre>| 12604        | 35          | 1m 21s       |</pre>"
      ],
      "text/plain": [
       "| 12604        | 35          | 1m 21s       |"
      ]
     },
     "metadata": {},
     "output_type": "display_data"
    },
    {
     "data": {
      "text/html": [
       "<pre>| 12751        | 35.25       | 1m 22s       |</pre>"
      ],
      "text/plain": [
       "| 12751        | 35.25       | 1m 22s       |"
      ]
     },
     "metadata": {},
     "output_type": "display_data"
    },
    {
     "data": {
      "text/html": [
       "<pre>| 12884        | 35.75       | 1m 23s       |</pre>"
      ],
      "text/plain": [
       "| 12884        | 35.75       | 1m 23s       |"
      ]
     },
     "metadata": {},
     "output_type": "display_data"
    },
    {
     "data": {
      "text/html": [
       "<pre>| 12987        | 36          | 1m 24s       |</pre>"
      ],
      "text/plain": [
       "| 12987        | 36          | 1m 24s       |"
      ]
     },
     "metadata": {},
     "output_type": "display_data"
    },
    {
     "data": {
      "text/html": [
       "<pre>| 13116        | 36.25       | 1m 25s       |</pre>"
      ],
      "text/plain": [
       "| 13116        | 36.25       | 1m 25s       |"
      ]
     },
     "metadata": {},
     "output_type": "display_data"
    },
    {
     "data": {
      "text/html": [
       "<pre>| 13233        | 36.75       | 1m 26s       |</pre>"
      ],
      "text/plain": [
       "| 13233        | 36.75       | 1m 26s       |"
      ]
     },
     "metadata": {},
     "output_type": "display_data"
    },
    {
     "data": {
      "text/html": [
       "<pre>| 13357        | 37          | 1m 27s       |</pre>"
      ],
      "text/plain": [
       "| 13357        | 37          | 1m 27s       |"
      ]
     },
     "metadata": {},
     "output_type": "display_data"
    },
    {
     "data": {
      "text/html": [
       "<pre>| 13492        | 37.25       | 1m 28s       |</pre>"
      ],
      "text/plain": [
       "| 13492        | 37.25       | 1m 28s       |"
      ]
     },
     "metadata": {},
     "output_type": "display_data"
    },
    {
     "data": {
      "text/html": [
       "<pre>| 13633        | 37.75       | 1m 29s       |</pre>"
      ],
      "text/plain": [
       "| 13633        | 37.75       | 1m 29s       |"
      ]
     },
     "metadata": {},
     "output_type": "display_data"
    },
    {
     "data": {
      "text/html": [
       "<pre>| 13796        | 38.25       | 1m 30s       |</pre>"
      ],
      "text/plain": [
       "| 13796        | 38.25       | 1m 30s       |"
      ]
     },
     "metadata": {},
     "output_type": "display_data"
    },
    {
     "data": {
      "text/html": [
       "<pre>| 13953        | 38.75       | 1m 31s       |</pre>"
      ],
      "text/plain": [
       "| 13953        | 38.75       | 1m 31s       |"
      ]
     },
     "metadata": {},
     "output_type": "display_data"
    },
    {
     "data": {
      "text/html": [
       "<pre>| 14129        | 39.25       | 1m 32s       |</pre>"
      ],
      "text/plain": [
       "| 14129        | 39.25       | 1m 32s       |"
      ]
     },
     "metadata": {},
     "output_type": "display_data"
    },
    {
     "data": {
      "text/html": [
       "<pre>| 14293        | 39.5        | 1m 33s       |</pre>"
      ],
      "text/plain": [
       "| 14293        | 39.5        | 1m 33s       |"
      ]
     },
     "metadata": {},
     "output_type": "display_data"
    },
    {
     "data": {
      "text/html": [
       "<pre>| 14459        | 40          | 1m 34s       |</pre>"
      ],
      "text/plain": [
       "| 14459        | 40          | 1m 34s       |"
      ]
     },
     "metadata": {},
     "output_type": "display_data"
    },
    {
     "data": {
      "text/html": [
       "<pre>| 14594        | 40.5        | 1m 35s       |</pre>"
      ],
      "text/plain": [
       "| 14594        | 40.5        | 1m 35s       |"
      ]
     },
     "metadata": {},
     "output_type": "display_data"
    },
    {
     "data": {
      "text/html": [
       "<pre>| 14739        | 40.75       | 1m 36s       |</pre>"
      ],
      "text/plain": [
       "| 14739        | 40.75       | 1m 36s       |"
      ]
     },
     "metadata": {},
     "output_type": "display_data"
    },
    {
     "data": {
      "text/html": [
       "<pre>| 14878        | 41.25       | 1m 37s       |</pre>"
      ],
      "text/plain": [
       "| 14878        | 41.25       | 1m 37s       |"
      ]
     },
     "metadata": {},
     "output_type": "display_data"
    },
    {
     "data": {
      "text/html": [
       "<pre>| 14991        | 41.5        | 1m 38s       |</pre>"
      ],
      "text/plain": [
       "| 14991        | 41.5        | 1m 38s       |"
      ]
     },
     "metadata": {},
     "output_type": "display_data"
    },
    {
     "data": {
      "text/html": [
       "<pre>| 15115        | 42          | 1m 39s       |</pre>"
      ],
      "text/plain": [
       "| 15115        | 42          | 1m 39s       |"
      ]
     },
     "metadata": {},
     "output_type": "display_data"
    },
    {
     "data": {
      "text/html": [
       "<pre>| 15278        | 42.25       | 1m 40s       |</pre>"
      ],
      "text/plain": [
       "| 15278        | 42.25       | 1m 40s       |"
      ]
     },
     "metadata": {},
     "output_type": "display_data"
    },
    {
     "data": {
      "text/html": [
       "<pre>| 15452        | 42.75       | 1m 41s       |</pre>"
      ],
      "text/plain": [
       "| 15452        | 42.75       | 1m 41s       |"
      ]
     },
     "metadata": {},
     "output_type": "display_data"
    },
    {
     "data": {
      "text/html": [
       "<pre>| 15635        | 43.25       | 1m 42s       |</pre>"
      ],
      "text/plain": [
       "| 15635        | 43.25       | 1m 42s       |"
      ]
     },
     "metadata": {},
     "output_type": "display_data"
    },
    {
     "data": {
      "text/html": [
       "<pre>| 15787        | 43.75       | 1m 43s       |</pre>"
      ],
      "text/plain": [
       "| 15787        | 43.75       | 1m 43s       |"
      ]
     },
     "metadata": {},
     "output_type": "display_data"
    },
    {
     "data": {
      "text/html": [
       "<pre>| 15928        | 44.25       | 1m 44s       |</pre>"
      ],
      "text/plain": [
       "| 15928        | 44.25       | 1m 44s       |"
      ]
     },
     "metadata": {},
     "output_type": "display_data"
    },
    {
     "data": {
      "text/html": [
       "<pre>| 16088        | 44.5        | 1m 45s       |</pre>"
      ],
      "text/plain": [
       "| 16088        | 44.5        | 1m 45s       |"
      ]
     },
     "metadata": {},
     "output_type": "display_data"
    },
    {
     "data": {
      "text/html": [
       "<pre>| 16221        | 45          | 1m 46s       |</pre>"
      ],
      "text/plain": [
       "| 16221        | 45          | 1m 46s       |"
      ]
     },
     "metadata": {},
     "output_type": "display_data"
    },
    {
     "data": {
      "text/html": [
       "<pre>| 16392        | 45.5        | 1m 47s       |</pre>"
      ],
      "text/plain": [
       "| 16392        | 45.5        | 1m 47s       |"
      ]
     },
     "metadata": {},
     "output_type": "display_data"
    },
    {
     "data": {
      "text/html": [
       "<pre>| 16527        | 45.75       | 1m 48s       |</pre>"
      ],
      "text/plain": [
       "| 16527        | 45.75       | 1m 48s       |"
      ]
     },
     "metadata": {},
     "output_type": "display_data"
    },
    {
     "data": {
      "text/html": [
       "<pre>| 16654        | 46.25       | 1m 49s       |</pre>"
      ],
      "text/plain": [
       "| 16654        | 46.25       | 1m 49s       |"
      ]
     },
     "metadata": {},
     "output_type": "display_data"
    },
    {
     "data": {
      "text/html": [
       "<pre>| 16788        | 46.5        | 1m 50s       |</pre>"
      ],
      "text/plain": [
       "| 16788        | 46.5        | 1m 50s       |"
      ]
     },
     "metadata": {},
     "output_type": "display_data"
    },
    {
     "data": {
      "text/html": [
       "<pre>| 16898        | 46.75       | 1m 51s       |</pre>"
      ],
      "text/plain": [
       "| 16898        | 46.75       | 1m 51s       |"
      ]
     },
     "metadata": {},
     "output_type": "display_data"
    },
    {
     "data": {
      "text/html": [
       "<pre>| 17048        | 47.25       | 1m 52s       |</pre>"
      ],
      "text/plain": [
       "| 17048        | 47.25       | 1m 52s       |"
      ]
     },
     "metadata": {},
     "output_type": "display_data"
    },
    {
     "data": {
      "text/html": [
       "<pre>| 17195        | 47.75       | 1m 53s       |</pre>"
      ],
      "text/plain": [
       "| 17195        | 47.75       | 1m 53s       |"
      ]
     },
     "metadata": {},
     "output_type": "display_data"
    },
    {
     "data": {
      "text/html": [
       "<pre>| 17343        | 48          | 1m 54s       |</pre>"
      ],
      "text/plain": [
       "| 17343        | 48          | 1m 54s       |"
      ]
     },
     "metadata": {},
     "output_type": "display_data"
    },
    {
     "data": {
      "text/html": [
       "<pre>| 17479        | 48.5        | 1m 55s       |</pre>"
      ],
      "text/plain": [
       "| 17479        | 48.5        | 1m 55s       |"
      ]
     },
     "metadata": {},
     "output_type": "display_data"
    },
    {
     "data": {
      "text/html": [
       "<pre>| 17628        | 48.75       | 1m 56s       |</pre>"
      ],
      "text/plain": [
       "| 17628        | 48.75       | 1m 56s       |"
      ]
     },
     "metadata": {},
     "output_type": "display_data"
    },
    {
     "data": {
      "text/html": [
       "<pre>| 17781        | 49.25       | 1m 57s       |</pre>"
      ],
      "text/plain": [
       "| 17781        | 49.25       | 1m 57s       |"
      ]
     },
     "metadata": {},
     "output_type": "display_data"
    },
    {
     "data": {
      "text/html": [
       "<pre>| 17949        | 49.75       | 1m 58s       |</pre>"
      ],
      "text/plain": [
       "| 17949        | 49.75       | 1m 58s       |"
      ]
     },
     "metadata": {},
     "output_type": "display_data"
    },
    {
     "data": {
      "text/html": [
       "<pre>| 18100        | 50.25       | 1m 59s       |</pre>"
      ],
      "text/plain": [
       "| 18100        | 50.25       | 1m 59s       |"
      ]
     },
     "metadata": {},
     "output_type": "display_data"
    },
    {
     "data": {
      "text/html": [
       "<pre>| 18264        | 50.75       | 2m 0s        |</pre>"
      ],
      "text/plain": [
       "| 18264        | 50.75       | 2m 0s        |"
      ]
     },
     "metadata": {},
     "output_type": "display_data"
    },
    {
     "data": {
      "text/html": [
       "<pre>| 18410        | 51          | 2m 1s        |</pre>"
      ],
      "text/plain": [
       "| 18410        | 51          | 2m 1s        |"
      ]
     },
     "metadata": {},
     "output_type": "display_data"
    },
    {
     "data": {
      "text/html": [
       "<pre>| 18556        | 51.5        | 2m 2s        |</pre>"
      ],
      "text/plain": [
       "| 18556        | 51.5        | 2m 2s        |"
      ]
     },
     "metadata": {},
     "output_type": "display_data"
    },
    {
     "data": {
      "text/html": [
       "<pre>| 18724        | 52          | 2m 3s        |</pre>"
      ],
      "text/plain": [
       "| 18724        | 52          | 2m 3s        |"
      ]
     },
     "metadata": {},
     "output_type": "display_data"
    },
    {
     "data": {
      "text/html": [
       "<pre>| 18891        | 52.25       | 2m 4s        |</pre>"
      ],
      "text/plain": [
       "| 18891        | 52.25       | 2m 4s        |"
      ]
     },
     "metadata": {},
     "output_type": "display_data"
    },
    {
     "data": {
      "text/html": [
       "<pre>| 19047        | 52.75       | 2m 5s        |</pre>"
      ],
      "text/plain": [
       "| 19047        | 52.75       | 2m 5s        |"
      ]
     },
     "metadata": {},
     "output_type": "display_data"
    },
    {
     "data": {
      "text/html": [
       "<pre>| 19203        | 53.25       | 2m 6s        |</pre>"
      ],
      "text/plain": [
       "| 19203        | 53.25       | 2m 6s        |"
      ]
     },
     "metadata": {},
     "output_type": "display_data"
    },
    {
     "data": {
      "text/html": [
       "<pre>| 19357        | 53.75       | 2m 7s        |</pre>"
      ],
      "text/plain": [
       "| 19357        | 53.75       | 2m 7s        |"
      ]
     },
     "metadata": {},
     "output_type": "display_data"
    },
    {
     "data": {
      "text/html": [
       "<pre>| 19516        | 54          | 2m 8s        |</pre>"
      ],
      "text/plain": [
       "| 19516        | 54          | 2m 8s        |"
      ]
     },
     "metadata": {},
     "output_type": "display_data"
    },
    {
     "data": {
      "text/html": [
       "<pre>| 19658        | 54.5        | 2m 9s        |</pre>"
      ],
      "text/plain": [
       "| 19658        | 54.5        | 2m 9s        |"
      ]
     },
     "metadata": {},
     "output_type": "display_data"
    },
    {
     "data": {
      "text/html": [
       "<pre>| 19830        | 55          | 2m 10s       |</pre>"
      ],
      "text/plain": [
       "| 19830        | 55          | 2m 10s       |"
      ]
     },
     "metadata": {},
     "output_type": "display_data"
    },
    {
     "data": {
      "text/html": [
       "<pre>| 19959        | 55.25       | 2m 11s       |</pre>"
      ],
      "text/plain": [
       "| 19959        | 55.25       | 2m 11s       |"
      ]
     },
     "metadata": {},
     "output_type": "display_data"
    },
    {
     "data": {
      "text/html": [
       "<pre>| 20119        | 55.75       | 2m 12s       |</pre>"
      ],
      "text/plain": [
       "| 20119        | 55.75       | 2m 12s       |"
      ]
     },
     "metadata": {},
     "output_type": "display_data"
    },
    {
     "data": {
      "text/html": [
       "<pre>| 20255        | 56.25       | 2m 13s       |</pre>"
      ],
      "text/plain": [
       "| 20255        | 56.25       | 2m 13s       |"
      ]
     },
     "metadata": {},
     "output_type": "display_data"
    },
    {
     "data": {
      "text/html": [
       "<pre>| 20391        | 56.5        | 2m 14s       |</pre>"
      ],
      "text/plain": [
       "| 20391        | 56.5        | 2m 14s       |"
      ]
     },
     "metadata": {},
     "output_type": "display_data"
    },
    {
     "data": {
      "text/html": [
       "<pre>| 20547        | 57          | 2m 15s       |</pre>"
      ],
      "text/plain": [
       "| 20547        | 57          | 2m 15s       |"
      ]
     },
     "metadata": {},
     "output_type": "display_data"
    },
    {
     "data": {
      "text/html": [
       "<pre>| 20682        | 57.25       | 2m 16s       |</pre>"
      ],
      "text/plain": [
       "| 20682        | 57.25       | 2m 16s       |"
      ]
     },
     "metadata": {},
     "output_type": "display_data"
    },
    {
     "data": {
      "text/html": [
       "<pre>| 20758        | 57.5        | 2m 17s       |</pre>"
      ],
      "text/plain": [
       "| 20758        | 57.5        | 2m 17s       |"
      ]
     },
     "metadata": {},
     "output_type": "display_data"
    },
    {
     "data": {
      "text/html": [
       "<pre>| 20907        | 58          | 2m 18s       |</pre>"
      ],
      "text/plain": [
       "| 20907        | 58          | 2m 18s       |"
      ]
     },
     "metadata": {},
     "output_type": "display_data"
    },
    {
     "data": {
      "text/html": [
       "<pre>| 21051        | 58.25       | 2m 19s       |</pre>"
      ],
      "text/plain": [
       "| 21051        | 58.25       | 2m 19s       |"
      ]
     },
     "metadata": {},
     "output_type": "display_data"
    },
    {
     "data": {
      "text/html": [
       "<pre>| 21196        | 58.75       | 2m 20s       |</pre>"
      ],
      "text/plain": [
       "| 21196        | 58.75       | 2m 20s       |"
      ]
     },
     "metadata": {},
     "output_type": "display_data"
    },
    {
     "data": {
      "text/html": [
       "<pre>| 21307        | 59          | 2m 21s       |</pre>"
      ],
      "text/plain": [
       "| 21307        | 59          | 2m 21s       |"
      ]
     },
     "metadata": {},
     "output_type": "display_data"
    },
    {
     "data": {
      "text/html": [
       "<pre>| 21422        | 59.5        | 2m 22s       |</pre>"
      ],
      "text/plain": [
       "| 21422        | 59.5        | 2m 22s       |"
      ]
     },
     "metadata": {},
     "output_type": "display_data"
    },
    {
     "data": {
      "text/html": [
       "<pre>| 21570        | 59.75       | 2m 23s       |</pre>"
      ],
      "text/plain": [
       "| 21570        | 59.75       | 2m 23s       |"
      ]
     },
     "metadata": {},
     "output_type": "display_data"
    },
    {
     "data": {
      "text/html": [
       "<pre>| 21714        | 60.25       | 2m 24s       |</pre>"
      ],
      "text/plain": [
       "| 21714        | 60.25       | 2m 24s       |"
      ]
     },
     "metadata": {},
     "output_type": "display_data"
    },
    {
     "data": {
      "text/html": [
       "<pre>| 21862        | 60.75       | 2m 25s       |</pre>"
      ],
      "text/plain": [
       "| 21862        | 60.75       | 2m 25s       |"
      ]
     },
     "metadata": {},
     "output_type": "display_data"
    },
    {
     "data": {
      "text/html": [
       "<pre>| 22005        | 61          | 2m 26s       |</pre>"
      ],
      "text/plain": [
       "| 22005        | 61          | 2m 26s       |"
      ]
     },
     "metadata": {},
     "output_type": "display_data"
    },
    {
     "data": {
      "text/html": [
       "<pre>| 22168        | 61.5        | 2m 27s       |</pre>"
      ],
      "text/plain": [
       "| 22168        | 61.5        | 2m 27s       |"
      ]
     },
     "metadata": {},
     "output_type": "display_data"
    },
    {
     "data": {
      "text/html": [
       "<pre>| 22326        | 62          | 2m 28s       |</pre>"
      ],
      "text/plain": [
       "| 22326        | 62          | 2m 28s       |"
      ]
     },
     "metadata": {},
     "output_type": "display_data"
    },
    {
     "data": {
      "text/html": [
       "<pre>| 22486        | 62.25       | 2m 29s       |</pre>"
      ],
      "text/plain": [
       "| 22486        | 62.25       | 2m 29s       |"
      ]
     },
     "metadata": {},
     "output_type": "display_data"
    },
    {
     "data": {
      "text/html": [
       "<pre>| 22651        | 62.75       | 2m 30s       |</pre>"
      ],
      "text/plain": [
       "| 22651        | 62.75       | 2m 30s       |"
      ]
     },
     "metadata": {},
     "output_type": "display_data"
    },
    {
     "data": {
      "text/html": [
       "<pre>| 22819        | 63.25       | 2m 31s       |</pre>"
      ],
      "text/plain": [
       "| 22819        | 63.25       | 2m 31s       |"
      ]
     },
     "metadata": {},
     "output_type": "display_data"
    },
    {
     "data": {
      "text/html": [
       "<pre>| 22974        | 63.75       | 2m 32s       |</pre>"
      ],
      "text/plain": [
       "| 22974        | 63.75       | 2m 32s       |"
      ]
     },
     "metadata": {},
     "output_type": "display_data"
    },
    {
     "data": {
      "text/html": [
       "<pre>| 23134        | 64.25       | 2m 33s       |</pre>"
      ],
      "text/plain": [
       "| 23134        | 64.25       | 2m 33s       |"
      ]
     },
     "metadata": {},
     "output_type": "display_data"
    },
    {
     "data": {
      "text/html": [
       "<pre>| 23282        | 64.5        | 2m 34s       |</pre>"
      ],
      "text/plain": [
       "| 23282        | 64.5        | 2m 34s       |"
      ]
     },
     "metadata": {},
     "output_type": "display_data"
    },
    {
     "data": {
      "text/html": [
       "<pre>| 23447        | 65          | 2m 35s       |</pre>"
      ],
      "text/plain": [
       "| 23447        | 65          | 2m 35s       |"
      ]
     },
     "metadata": {},
     "output_type": "display_data"
    },
    {
     "data": {
      "text/html": [
       "<pre>| 23540        | 65.25       | 2m 36s       |</pre>"
      ],
      "text/plain": [
       "| 23540        | 65.25       | 2m 36s       |"
      ]
     },
     "metadata": {},
     "output_type": "display_data"
    },
    {
     "data": {
      "text/html": [
       "<pre>| 23632        | 65.5        | 2m 37s       |</pre>"
      ],
      "text/plain": [
       "| 23632        | 65.5        | 2m 37s       |"
      ]
     },
     "metadata": {},
     "output_type": "display_data"
    },
    {
     "data": {
      "text/html": [
       "<pre>| 23755        | 66          | 2m 38s       |</pre>"
      ],
      "text/plain": [
       "| 23755        | 66          | 2m 38s       |"
      ]
     },
     "metadata": {},
     "output_type": "display_data"
    },
    {
     "data": {
      "text/html": [
       "<pre>| 23884        | 66.25       | 2m 39s       |</pre>"
      ],
      "text/plain": [
       "| 23884        | 66.25       | 2m 39s       |"
      ]
     },
     "metadata": {},
     "output_type": "display_data"
    },
    {
     "data": {
      "text/html": [
       "<pre>| 23996        | 66.5        | 2m 40s       |</pre>"
      ],
      "text/plain": [
       "| 23996        | 66.5        | 2m 40s       |"
      ]
     },
     "metadata": {},
     "output_type": "display_data"
    },
    {
     "data": {
      "text/html": [
       "<pre>| 24113        | 67          | 2m 41s       |</pre>"
      ],
      "text/plain": [
       "| 24113        | 67          | 2m 41s       |"
      ]
     },
     "metadata": {},
     "output_type": "display_data"
    },
    {
     "data": {
      "text/html": [
       "<pre>| 24227        | 67.25       | 2m 42s       |</pre>"
      ],
      "text/plain": [
       "| 24227        | 67.25       | 2m 42s       |"
      ]
     },
     "metadata": {},
     "output_type": "display_data"
    },
    {
     "data": {
      "text/html": [
       "<pre>| 24390        | 67.75       | 2m 43s       |</pre>"
      ],
      "text/plain": [
       "| 24390        | 67.75       | 2m 43s       |"
      ]
     },
     "metadata": {},
     "output_type": "display_data"
    },
    {
     "data": {
      "text/html": [
       "<pre>| 24496        | 68          | 2m 44s       |</pre>"
      ],
      "text/plain": [
       "| 24496        | 68          | 2m 44s       |"
      ]
     },
     "metadata": {},
     "output_type": "display_data"
    },
    {
     "data": {
      "text/html": [
       "<pre>| 24599        | 68.25       | 2m 45s       |</pre>"
      ],
      "text/plain": [
       "| 24599        | 68.25       | 2m 45s       |"
      ]
     },
     "metadata": {},
     "output_type": "display_data"
    },
    {
     "data": {
      "text/html": [
       "<pre>| 24746        | 68.75       | 2m 46s       |</pre>"
      ],
      "text/plain": [
       "| 24746        | 68.75       | 2m 46s       |"
      ]
     },
     "metadata": {},
     "output_type": "display_data"
    },
    {
     "data": {
      "text/html": [
       "<pre>| 24890        | 69          | 2m 47s       |</pre>"
      ],
      "text/plain": [
       "| 24890        | 69          | 2m 47s       |"
      ]
     },
     "metadata": {},
     "output_type": "display_data"
    },
    {
     "data": {
      "text/html": [
       "<pre>| 25021        | 69.5        | 2m 48s       |</pre>"
      ],
      "text/plain": [
       "| 25021        | 69.5        | 2m 48s       |"
      ]
     },
     "metadata": {},
     "output_type": "display_data"
    },
    {
     "data": {
      "text/html": [
       "<pre>| 25164        | 69.75       | 2m 49s       |</pre>"
      ],
      "text/plain": [
       "| 25164        | 69.75       | 2m 49s       |"
      ]
     },
     "metadata": {},
     "output_type": "display_data"
    },
    {
     "data": {
      "text/html": [
       "<pre>| 25312        | 70.25       | 2m 50s       |</pre>"
      ],
      "text/plain": [
       "| 25312        | 70.25       | 2m 50s       |"
      ]
     },
     "metadata": {},
     "output_type": "display_data"
    },
    {
     "data": {
      "text/html": [
       "<pre>| 25455        | 70.5        | 2m 51s       |</pre>"
      ],
      "text/plain": [
       "| 25455        | 70.5        | 2m 51s       |"
      ]
     },
     "metadata": {},
     "output_type": "display_data"
    },
    {
     "data": {
      "text/html": [
       "<pre>| 25603        | 71          | 2m 52s       |</pre>"
      ],
      "text/plain": [
       "| 25603        | 71          | 2m 52s       |"
      ]
     },
     "metadata": {},
     "output_type": "display_data"
    },
    {
     "data": {
      "text/html": [
       "<pre>| 25757        | 71.5        | 2m 53s       |</pre>"
      ],
      "text/plain": [
       "| 25757        | 71.5        | 2m 53s       |"
      ]
     },
     "metadata": {},
     "output_type": "display_data"
    },
    {
     "data": {
      "text/html": [
       "<pre>| 25908        | 71.75       | 2m 54s       |</pre>"
      ],
      "text/plain": [
       "| 25908        | 71.75       | 2m 54s       |"
      ]
     },
     "metadata": {},
     "output_type": "display_data"
    },
    {
     "data": {
      "text/html": [
       "<pre>| 26057        | 72.25       | 2m 55s       |</pre>"
      ],
      "text/plain": [
       "| 26057        | 72.25       | 2m 55s       |"
      ]
     },
     "metadata": {},
     "output_type": "display_data"
    },
    {
     "data": {
      "text/html": [
       "<pre>| 26196        | 72.75       | 2m 56s       |</pre>"
      ],
      "text/plain": [
       "| 26196        | 72.75       | 2m 56s       |"
      ]
     },
     "metadata": {},
     "output_type": "display_data"
    },
    {
     "data": {
      "text/html": [
       "<pre>| 26351        | 73          | 2m 57s       |</pre>"
      ],
      "text/plain": [
       "| 26351        | 73          | 2m 57s       |"
      ]
     },
     "metadata": {},
     "output_type": "display_data"
    },
    {
     "data": {
      "text/html": [
       "<pre>| 26487        | 73.5        | 2m 58s       |</pre>"
      ],
      "text/plain": [
       "| 26487        | 73.5        | 2m 58s       |"
      ]
     },
     "metadata": {},
     "output_type": "display_data"
    },
    {
     "data": {
      "text/html": [
       "<pre>| 26652        | 74          | 2m 59s       |</pre>"
      ],
      "text/plain": [
       "| 26652        | 74          | 2m 59s       |"
      ]
     },
     "metadata": {},
     "output_type": "display_data"
    },
    {
     "data": {
      "text/html": [
       "<pre>| 26808        | 74.25       | 3m 0s        |</pre>"
      ],
      "text/plain": [
       "| 26808        | 74.25       | 3m 0s        |"
      ]
     },
     "metadata": {},
     "output_type": "display_data"
    },
    {
     "data": {
      "text/html": [
       "<pre>| 26947        | 74.75       | 3m 1s        |</pre>"
      ],
      "text/plain": [
       "| 26947        | 74.75       | 3m 1s        |"
      ]
     },
     "metadata": {},
     "output_type": "display_data"
    },
    {
     "data": {
      "text/html": [
       "<pre>| 27087        | 75.25       | 3m 2s        |</pre>"
      ],
      "text/plain": [
       "| 27087        | 75.25       | 3m 2s        |"
      ]
     },
     "metadata": {},
     "output_type": "display_data"
    },
    {
     "data": {
      "text/html": [
       "<pre>| 27224        | 75.5        | 3m 3s        |</pre>"
      ],
      "text/plain": [
       "| 27224        | 75.5        | 3m 3s        |"
      ]
     },
     "metadata": {},
     "output_type": "display_data"
    },
    {
     "data": {
      "text/html": [
       "<pre>| 27340        | 75.75       | 3m 4s        |</pre>"
      ],
      "text/plain": [
       "| 27340        | 75.75       | 3m 4s        |"
      ]
     },
     "metadata": {},
     "output_type": "display_data"
    },
    {
     "data": {
      "text/html": [
       "<pre>| 27473        | 76.25       | 3m 5s        |</pre>"
      ],
      "text/plain": [
       "| 27473        | 76.25       | 3m 5s        |"
      ]
     },
     "metadata": {},
     "output_type": "display_data"
    },
    {
     "data": {
      "text/html": [
       "<pre>| 27616        | 76.5        | 3m 6s        |</pre>"
      ],
      "text/plain": [
       "| 27616        | 76.5        | 3m 6s        |"
      ]
     },
     "metadata": {},
     "output_type": "display_data"
    },
    {
     "data": {
      "text/html": [
       "<pre>| 27768        | 77          | 3m 7s        |</pre>"
      ],
      "text/plain": [
       "| 27768        | 77          | 3m 7s        |"
      ]
     },
     "metadata": {},
     "output_type": "display_data"
    },
    {
     "data": {
      "text/html": [
       "<pre>| 27930        | 77.5        | 3m 8s        |</pre>"
      ],
      "text/plain": [
       "| 27930        | 77.5        | 3m 8s        |"
      ]
     },
     "metadata": {},
     "output_type": "display_data"
    },
    {
     "data": {
      "text/html": [
       "<pre>| 28076        | 78          | 3m 9s        |</pre>"
      ],
      "text/plain": [
       "| 28076        | 78          | 3m 9s        |"
      ]
     },
     "metadata": {},
     "output_type": "display_data"
    },
    {
     "data": {
      "text/html": [
       "<pre>| 28227        | 78.25       | 3m 10s       |</pre>"
      ],
      "text/plain": [
       "| 28227        | 78.25       | 3m 10s       |"
      ]
     },
     "metadata": {},
     "output_type": "display_data"
    },
    {
     "data": {
      "text/html": [
       "<pre>| 28374        | 78.75       | 3m 11s       |</pre>"
      ],
      "text/plain": [
       "| 28374        | 78.75       | 3m 11s       |"
      ]
     },
     "metadata": {},
     "output_type": "display_data"
    },
    {
     "data": {
      "text/html": [
       "<pre>| 28510        | 79          | 3m 12s       |</pre>"
      ],
      "text/plain": [
       "| 28510        | 79          | 3m 12s       |"
      ]
     },
     "metadata": {},
     "output_type": "display_data"
    },
    {
     "data": {
      "text/html": [
       "<pre>| 28652        | 79.5        | 3m 13s       |</pre>"
      ],
      "text/plain": [
       "| 28652        | 79.5        | 3m 13s       |"
      ]
     },
     "metadata": {},
     "output_type": "display_data"
    },
    {
     "data": {
      "text/html": [
       "<pre>| 28793        | 80          | 3m 14s       |</pre>"
      ],
      "text/plain": [
       "| 28793        | 80          | 3m 14s       |"
      ]
     },
     "metadata": {},
     "output_type": "display_data"
    },
    {
     "data": {
      "text/html": [
       "<pre>| 28949        | 80.25       | 3m 15s       |</pre>"
      ],
      "text/plain": [
       "| 28949        | 80.25       | 3m 15s       |"
      ]
     },
     "metadata": {},
     "output_type": "display_data"
    },
    {
     "data": {
      "text/html": [
       "<pre>| 29085        | 80.75       | 3m 16s       |</pre>"
      ],
      "text/plain": [
       "| 29085        | 80.75       | 3m 16s       |"
      ]
     },
     "metadata": {},
     "output_type": "display_data"
    },
    {
     "data": {
      "text/html": [
       "<pre>| 29245        | 81.25       | 3m 17s       |</pre>"
      ],
      "text/plain": [
       "| 29245        | 81.25       | 3m 17s       |"
      ]
     },
     "metadata": {},
     "output_type": "display_data"
    },
    {
     "data": {
      "text/html": [
       "<pre>| 29418        | 81.75       | 3m 18s       |</pre>"
      ],
      "text/plain": [
       "| 29418        | 81.75       | 3m 18s       |"
      ]
     },
     "metadata": {},
     "output_type": "display_data"
    },
    {
     "data": {
      "text/html": [
       "<pre>| 29579        | 82          | 3m 19s       |</pre>"
      ],
      "text/plain": [
       "| 29579        | 82          | 3m 19s       |"
      ]
     },
     "metadata": {},
     "output_type": "display_data"
    },
    {
     "data": {
      "text/html": [
       "<pre>| 29736        | 82.5        | 3m 20s       |</pre>"
      ],
      "text/plain": [
       "| 29736        | 82.5        | 3m 20s       |"
      ]
     },
     "metadata": {},
     "output_type": "display_data"
    },
    {
     "data": {
      "text/html": [
       "<pre>| 29912        | 83          | 3m 21s       |</pre>"
      ],
      "text/plain": [
       "| 29912        | 83          | 3m 21s       |"
      ]
     },
     "metadata": {},
     "output_type": "display_data"
    },
    {
     "data": {
      "text/html": [
       "<pre>| 30049        | 83.5        | 3m 22s       |</pre>"
      ],
      "text/plain": [
       "| 30049        | 83.5        | 3m 22s       |"
      ]
     },
     "metadata": {},
     "output_type": "display_data"
    },
    {
     "data": {
      "text/html": [
       "<pre>| 30216        | 83.75       | 3m 23s       |</pre>"
      ],
      "text/plain": [
       "| 30216        | 83.75       | 3m 23s       |"
      ]
     },
     "metadata": {},
     "output_type": "display_data"
    },
    {
     "data": {
      "text/html": [
       "<pre>| 30373        | 84.25       | 3m 24s       |</pre>"
      ],
      "text/plain": [
       "| 30373        | 84.25       | 3m 24s       |"
      ]
     },
     "metadata": {},
     "output_type": "display_data"
    },
    {
     "data": {
      "text/html": [
       "<pre>| 30524        | 84.75       | 3m 25s       |</pre>"
      ],
      "text/plain": [
       "| 30524        | 84.75       | 3m 25s       |"
      ]
     },
     "metadata": {},
     "output_type": "display_data"
    },
    {
     "data": {
      "text/html": [
       "<pre>| 30652        | 85          | 3m 26s       |</pre>"
      ],
      "text/plain": [
       "| 30652        | 85          | 3m 26s       |"
      ]
     },
     "metadata": {},
     "output_type": "display_data"
    },
    {
     "data": {
      "text/html": [
       "<pre>| 30777        | 85.5        | 3m 27s       |</pre>"
      ],
      "text/plain": [
       "| 30777        | 85.5        | 3m 27s       |"
      ]
     },
     "metadata": {},
     "output_type": "display_data"
    },
    {
     "data": {
      "text/html": [
       "<pre>| 30895        | 85.75       | 3m 28s       |</pre>"
      ],
      "text/plain": [
       "| 30895        | 85.75       | 3m 28s       |"
      ]
     },
     "metadata": {},
     "output_type": "display_data"
    },
    {
     "data": {
      "text/html": [
       "<pre>| 31022        | 86          | 3m 29s       |</pre>"
      ],
      "text/plain": [
       "| 31022        | 86          | 3m 29s       |"
      ]
     },
     "metadata": {},
     "output_type": "display_data"
    },
    {
     "data": {
      "text/html": [
       "<pre>| 31127        | 86.25       | 3m 30s       |</pre>"
      ],
      "text/plain": [
       "| 31127        | 86.25       | 3m 30s       |"
      ]
     },
     "metadata": {},
     "output_type": "display_data"
    },
    {
     "data": {
      "text/html": [
       "<pre>| 31281        | 86.75       | 3m 31s       |</pre>"
      ],
      "text/plain": [
       "| 31281        | 86.75       | 3m 31s       |"
      ]
     },
     "metadata": {},
     "output_type": "display_data"
    },
    {
     "data": {
      "text/html": [
       "<pre>| 31403        | 87.25       | 3m 32s       |</pre>"
      ],
      "text/plain": [
       "| 31403        | 87.25       | 3m 32s       |"
      ]
     },
     "metadata": {},
     "output_type": "display_data"
    },
    {
     "data": {
      "text/html": [
       "<pre>| 31558        | 87.5        | 3m 33s       |</pre>"
      ],
      "text/plain": [
       "| 31558        | 87.5        | 3m 33s       |"
      ]
     },
     "metadata": {},
     "output_type": "display_data"
    },
    {
     "data": {
      "text/html": [
       "<pre>| 31717        | 88          | 3m 34s       |</pre>"
      ],
      "text/plain": [
       "| 31717        | 88          | 3m 34s       |"
      ]
     },
     "metadata": {},
     "output_type": "display_data"
    },
    {
     "data": {
      "text/html": [
       "<pre>| 31855        | 88.5        | 3m 35s       |</pre>"
      ],
      "text/plain": [
       "| 31855        | 88.5        | 3m 35s       |"
      ]
     },
     "metadata": {},
     "output_type": "display_data"
    },
    {
     "data": {
      "text/html": [
       "<pre>| 32006        | 88.75       | 3m 36s       |</pre>"
      ],
      "text/plain": [
       "| 32006        | 88.75       | 3m 36s       |"
      ]
     },
     "metadata": {},
     "output_type": "display_data"
    },
    {
     "data": {
      "text/html": [
       "<pre>| 32193        | 89.25       | 3m 37s       |</pre>"
      ],
      "text/plain": [
       "| 32193        | 89.25       | 3m 37s       |"
      ]
     },
     "metadata": {},
     "output_type": "display_data"
    },
    {
     "data": {
      "text/html": [
       "<pre>| 32349        | 89.75       | 3m 38s       |</pre>"
      ],
      "text/plain": [
       "| 32349        | 89.75       | 3m 38s       |"
      ]
     },
     "metadata": {},
     "output_type": "display_data"
    },
    {
     "data": {
      "text/html": [
       "<pre>| 32490        | 90.25       | 3m 39s       |</pre>"
      ],
      "text/plain": [
       "| 32490        | 90.25       | 3m 39s       |"
      ]
     },
     "metadata": {},
     "output_type": "display_data"
    },
    {
     "data": {
      "text/html": [
       "<pre>| 32648        | 90.5        | 3m 40s       |</pre>"
      ],
      "text/plain": [
       "| 32648        | 90.5        | 3m 40s       |"
      ]
     },
     "metadata": {},
     "output_type": "display_data"
    },
    {
     "data": {
      "text/html": [
       "<pre>| 32819        | 91          | 3m 41s       |</pre>"
      ],
      "text/plain": [
       "| 32819        | 91          | 3m 41s       |"
      ]
     },
     "metadata": {},
     "output_type": "display_data"
    },
    {
     "data": {
      "text/html": [
       "<pre>| 32992        | 91.5        | 3m 42s       |</pre>"
      ],
      "text/plain": [
       "| 32992        | 91.5        | 3m 42s       |"
      ]
     },
     "metadata": {},
     "output_type": "display_data"
    },
    {
     "data": {
      "text/html": [
       "<pre>| 33145        | 92          | 3m 43s       |</pre>"
      ],
      "text/plain": [
       "| 33145        | 92          | 3m 43s       |"
      ]
     },
     "metadata": {},
     "output_type": "display_data"
    },
    {
     "data": {
      "text/html": [
       "<pre>| 33331        | 92.5        | 3m 44s       |</pre>"
      ],
      "text/plain": [
       "| 33331        | 92.5        | 3m 44s       |"
      ]
     },
     "metadata": {},
     "output_type": "display_data"
    },
    {
     "data": {
      "text/html": [
       "<pre>| 33493        | 93          | 3m 45s       |</pre>"
      ],
      "text/plain": [
       "| 33493        | 93          | 3m 45s       |"
      ]
     },
     "metadata": {},
     "output_type": "display_data"
    },
    {
     "data": {
      "text/html": [
       "<pre>| 33643        | 93.25       | 3m 46s       |</pre>"
      ],
      "text/plain": [
       "| 33643        | 93.25       | 3m 46s       |"
      ]
     },
     "metadata": {},
     "output_type": "display_data"
    },
    {
     "data": {
      "text/html": [
       "<pre>| 33771        | 93.75       | 3m 47s       |</pre>"
      ],
      "text/plain": [
       "| 33771        | 93.75       | 3m 47s       |"
      ]
     },
     "metadata": {},
     "output_type": "display_data"
    },
    {
     "data": {
      "text/html": [
       "<pre>| 33868        | 94          | 3m 48s       |</pre>"
      ],
      "text/plain": [
       "| 33868        | 94          | 3m 48s       |"
      ]
     },
     "metadata": {},
     "output_type": "display_data"
    },
    {
     "data": {
      "text/html": [
       "<pre>| 33987        | 94.25       | 3m 49s       |</pre>"
      ],
      "text/plain": [
       "| 33987        | 94.25       | 3m 49s       |"
      ]
     },
     "metadata": {},
     "output_type": "display_data"
    },
    {
     "data": {
      "text/html": [
       "<pre>| 34123        | 94.75       | 3m 50s       |</pre>"
      ],
      "text/plain": [
       "| 34123        | 94.75       | 3m 50s       |"
      ]
     },
     "metadata": {},
     "output_type": "display_data"
    },
    {
     "data": {
      "text/html": [
       "<pre>| 34271        | 95          | 3m 51s       |</pre>"
      ],
      "text/plain": [
       "| 34271        | 95          | 3m 51s       |"
      ]
     },
     "metadata": {},
     "output_type": "display_data"
    },
    {
     "data": {
      "text/html": [
       "<pre>| 34443        | 95.5        | 3m 52s       |</pre>"
      ],
      "text/plain": [
       "| 34443        | 95.5        | 3m 52s       |"
      ]
     },
     "metadata": {},
     "output_type": "display_data"
    },
    {
     "data": {
      "text/html": [
       "<pre>| 34593        | 96          | 3m 53s       |</pre>"
      ],
      "text/plain": [
       "| 34593        | 96          | 3m 53s       |"
      ]
     },
     "metadata": {},
     "output_type": "display_data"
    },
    {
     "data": {
      "text/html": [
       "<pre>| 34766        | 96.5        | 3m 54s       |</pre>"
      ],
      "text/plain": [
       "| 34766        | 96.5        | 3m 54s       |"
      ]
     },
     "metadata": {},
     "output_type": "display_data"
    },
    {
     "data": {
      "text/html": [
       "<pre>| 34915        | 97          | 3m 55s       |</pre>"
      ],
      "text/plain": [
       "| 34915        | 97          | 3m 55s       |"
      ]
     },
     "metadata": {},
     "output_type": "display_data"
    },
    {
     "data": {
      "text/html": [
       "<pre>| 35090        | 97.5        | 3m 56s       |</pre>"
      ],
      "text/plain": [
       "| 35090        | 97.5        | 3m 56s       |"
      ]
     },
     "metadata": {},
     "output_type": "display_data"
    },
    {
     "data": {
      "text/html": [
       "<pre>| 35259        | 97.75       | 3m 57s       |</pre>"
      ],
      "text/plain": [
       "| 35259        | 97.75       | 3m 57s       |"
      ]
     },
     "metadata": {},
     "output_type": "display_data"
    },
    {
     "data": {
      "text/html": [
       "<pre>| 35442        | 98.25       | 3m 58s       |</pre>"
      ],
      "text/plain": [
       "| 35442        | 98.25       | 3m 58s       |"
      ]
     },
     "metadata": {},
     "output_type": "display_data"
    },
    {
     "data": {
      "text/html": [
       "<pre>| 35614        | 98.75       | 3m 59s       |</pre>"
      ],
      "text/plain": [
       "| 35614        | 98.75       | 3m 59s       |"
      ]
     },
     "metadata": {},
     "output_type": "display_data"
    },
    {
     "data": {
      "text/html": [
       "<pre>| 35774        | 99.25       | 4m 0s        |</pre>"
      ],
      "text/plain": [
       "| 35774        | 99.25       | 4m 0s        |"
      ]
     },
     "metadata": {},
     "output_type": "display_data"
    },
    {
     "data": {
      "text/html": [
       "<pre>| 35930        | 99.75       | 4m 1s        |</pre>"
      ],
      "text/plain": [
       "| 35930        | 99.75       | 4m 1s        |"
      ]
     },
     "metadata": {},
     "output_type": "display_data"
    },
    {
     "data": {
      "text/html": [
       "<pre>| Done         |             | 4m 2s        |</pre>"
      ],
      "text/plain": [
       "| Done         |             | 4m 2s        |"
      ]
     },
     "metadata": {},
     "output_type": "display_data"
    },
    {
     "data": {
      "text/html": [
       "<pre>+--------------+-------------+--------------+</pre>"
      ],
      "text/plain": [
       "+--------------+-------------+--------------+"
      ]
     },
     "metadata": {},
     "output_type": "display_data"
    },
    {
     "data": {
      "text/plain": [
       "{'accuracy': 0.9295261914686676, 'confusion_matrix': Columns:\n",
       " \ttarget_label\tint\n",
       " \tpredicted_label\tint\n",
       " \tcount\tint\n",
       " \n",
       " Rows: 4\n",
       " \n",
       " Data:\n",
       " +--------------+-----------------+-------+\n",
       " | target_label | predicted_label | count |\n",
       " +--------------+-----------------+-------+\n",
       " |      0       |        0        | 33439 |\n",
       " |      1       |        0        |  2505 |\n",
       " |      1       |        1        |   10  |\n",
       " |      0       |        1        |   31  |\n",
       " +--------------+-----------------+-------+\n",
       " [4 rows x 3 columns], 'roc_curve': Columns:\n",
       " \tthreshold\tfloat\n",
       " \tfpr\tfloat\n",
       " \ttpr\tfloat\n",
       " \tp\tint\n",
       " \tn\tint\n",
       " \n",
       " Rows: 100001\n",
       " \n",
       " Data:\n",
       " +-----------+-----+-----+------+-------+\n",
       " | threshold | fpr | tpr |  p   |   n   |\n",
       " +-----------+-----+-----+------+-------+\n",
       " |    0.0    | 1.0 | 1.0 | 2515 | 33470 |\n",
       " |   1e-05   | 1.0 | 1.0 | 2515 | 33470 |\n",
       " |   2e-05   | 1.0 | 1.0 | 2515 | 33470 |\n",
       " |   3e-05   | 1.0 | 1.0 | 2515 | 33470 |\n",
       " |   4e-05   | 1.0 | 1.0 | 2515 | 33470 |\n",
       " |   5e-05   | 1.0 | 1.0 | 2515 | 33470 |\n",
       " |   6e-05   | 1.0 | 1.0 | 2515 | 33470 |\n",
       " |   7e-05   | 1.0 | 1.0 | 2515 | 33470 |\n",
       " |   8e-05   | 1.0 | 1.0 | 2515 | 33470 |\n",
       " |   9e-05   | 1.0 | 1.0 | 2515 | 33470 |\n",
       " +-----------+-----+-----+------+-------+\n",
       " [100001 rows x 5 columns]\n",
       " Note: Only the head of the SFrame is printed.\n",
       " You can use print_rows(num_rows=m, num_columns=n) to print more rows and columns.}"
      ]
     },
     "execution_count": 69,
     "metadata": {},
     "output_type": "execute_result"
    }
   ],
   "source": [
    "nearest_neighbor_model_ext.evaluate(test_data)"
   ]
  },
  {
   "cell_type": "raw",
   "metadata": {},
   "source": [
    "{'accuracy': 0.9295261914686676, 'confusion_matrix': Columns:\n",
    " \ttarget_label\tint\n",
    " \tpredicted_label\tint\n",
    " \tcount\tint\n",
    " \n",
    " Rows: 4\n",
    " \n",
    " Data:\n",
    " +--------------+-----------------+-------+\n",
    " | target_label | predicted_label | count |\n",
    " +--------------+-----------------+-------+\n",
    " |      0       |        0        | 33439 |\n",
    " |      1       |        0        |  2505 |\n",
    " |      1       |        1        |   10  |\n",
    " |      0       |        1        |   31  |\n",
    " +--------------+-----------------+-------+\n",
    " [4 rows x 3 columns], 'roc_curve': Columns:\n",
    " \tthreshold\tfloat\n",
    " \tfpr\tfloat\n",
    " \ttpr\tfloat\n",
    " \tp\tint\n",
    " \tn\tint\n",
    " \n",
    " Rows: 100001\n",
    " \n",
    " Data:\n",
    " +-----------+-----+-----+------+-------+\n",
    " | threshold | fpr | tpr |  p   |   n   |\n",
    " +-----------+-----+-----+------+-------+\n",
    " |    0.0    | 1.0 | 1.0 | 2515 | 33470 |\n",
    " |   1e-05   | 1.0 | 1.0 | 2515 | 33470 |\n",
    " |   2e-05   | 1.0 | 1.0 | 2515 | 33470 |\n",
    " |   3e-05   | 1.0 | 1.0 | 2515 | 33470 |\n",
    " |   4e-05   | 1.0 | 1.0 | 2515 | 33470 |\n",
    " |   5e-05   | 1.0 | 1.0 | 2515 | 33470 |\n",
    " |   6e-05   | 1.0 | 1.0 | 2515 | 33470 |\n",
    " |   7e-05   | 1.0 | 1.0 | 2515 | 33470 |\n",
    " |   8e-05   | 1.0 | 1.0 | 2515 | 33470 |\n",
    " |   9e-05   | 1.0 | 1.0 | 2515 | 33470 |\n",
    " +-----------+-----+-----+------+-------+\n",
    " [100001 rows x 5 columns]\n",
    " Note: Only the head of the SFrame is printed.\n",
    " You can use print_rows(num_rows=m, num_columns=n) to print more rows and columns.}"
   ]
  },
  {
   "cell_type": "markdown",
   "metadata": {},
   "source": [
    "## Logistic Model"
   ]
  },
  {
   "cell_type": "code",
   "execution_count": 105,
   "metadata": {},
   "outputs": [
    {
     "data": {
      "text/html": [
       "<pre>Logistic regression:</pre>"
      ],
      "text/plain": [
       "Logistic regression:"
      ]
     },
     "metadata": {},
     "output_type": "display_data"
    },
    {
     "data": {
      "text/html": [
       "<pre>--------------------------------------------------------</pre>"
      ],
      "text/plain": [
       "--------------------------------------------------------"
      ]
     },
     "metadata": {},
     "output_type": "display_data"
    },
    {
     "data": {
      "text/html": [
       "<pre>Number of examples          : 84284</pre>"
      ],
      "text/plain": [
       "Number of examples          : 84284"
      ]
     },
     "metadata": {},
     "output_type": "display_data"
    },
    {
     "data": {
      "text/html": [
       "<pre>Number of classes           : 2</pre>"
      ],
      "text/plain": [
       "Number of classes           : 2"
      ]
     },
     "metadata": {},
     "output_type": "display_data"
    },
    {
     "data": {
      "text/html": [
       "<pre>Number of feature columns   : 10</pre>"
      ],
      "text/plain": [
       "Number of feature columns   : 10"
      ]
     },
     "metadata": {},
     "output_type": "display_data"
    },
    {
     "data": {
      "text/html": [
       "<pre>Number of unpacked features : 10</pre>"
      ],
      "text/plain": [
       "Number of unpacked features : 10"
      ]
     },
     "metadata": {},
     "output_type": "display_data"
    },
    {
     "data": {
      "text/html": [
       "<pre>Number of coefficients    : 11</pre>"
      ],
      "text/plain": [
       "Number of coefficients    : 11"
      ]
     },
     "metadata": {},
     "output_type": "display_data"
    },
    {
     "data": {
      "text/html": [
       "<pre>Starting Newton Method</pre>"
      ],
      "text/plain": [
       "Starting Newton Method"
      ]
     },
     "metadata": {},
     "output_type": "display_data"
    },
    {
     "data": {
      "text/html": [
       "<pre>--------------------------------------------------------</pre>"
      ],
      "text/plain": [
       "--------------------------------------------------------"
      ]
     },
     "metadata": {},
     "output_type": "display_data"
    },
    {
     "data": {
      "text/html": [
       "<pre>+-----------+----------+--------------+-------------------+</pre>"
      ],
      "text/plain": [
       "+-----------+----------+--------------+-------------------+"
      ]
     },
     "metadata": {},
     "output_type": "display_data"
    },
    {
     "data": {
      "text/html": [
       "<pre>| Iteration | Passes   | Elapsed Time | Training-accuracy |</pre>"
      ],
      "text/plain": [
       "| Iteration | Passes   | Elapsed Time | Training-accuracy |"
      ]
     },
     "metadata": {},
     "output_type": "display_data"
    },
    {
     "data": {
      "text/html": [
       "<pre>+-----------+----------+--------------+-------------------+</pre>"
      ],
      "text/plain": [
       "+-----------+----------+--------------+-------------------+"
      ]
     },
     "metadata": {},
     "output_type": "display_data"
    },
    {
     "data": {
      "text/html": [
       "<pre>| 1         | 2        | 0.148001     | 0.930817          |</pre>"
      ],
      "text/plain": [
       "| 1         | 2        | 0.148001     | 0.930817          |"
      ]
     },
     "metadata": {},
     "output_type": "display_data"
    },
    {
     "data": {
      "text/html": [
       "<pre>| 2         | 3        | 0.254001     | 0.930960          |</pre>"
      ],
      "text/plain": [
       "| 2         | 3        | 0.254001     | 0.930960          |"
      ]
     },
     "metadata": {},
     "output_type": "display_data"
    },
    {
     "data": {
      "text/html": [
       "<pre>| 3         | 4        | 0.353504     | 0.931232          |</pre>"
      ],
      "text/plain": [
       "| 3         | 4        | 0.353504     | 0.931232          |"
      ]
     },
     "metadata": {},
     "output_type": "display_data"
    },
    {
     "data": {
      "text/html": [
       "<pre>| 4         | 5        | 0.471499     | 0.931221          |</pre>"
      ],
      "text/plain": [
       "| 4         | 5        | 0.471499     | 0.931221          |"
      ]
     },
     "metadata": {},
     "output_type": "display_data"
    },
    {
     "data": {
      "text/html": [
       "<pre>| 5         | 6        | 0.557999     | 0.931244          |</pre>"
      ],
      "text/plain": [
       "| 5         | 6        | 0.557999     | 0.931244          |"
      ]
     },
     "metadata": {},
     "output_type": "display_data"
    },
    {
     "data": {
      "text/html": [
       "<pre>| 6         | 7        | 0.656498     | 0.931244          |</pre>"
      ],
      "text/plain": [
       "| 6         | 7        | 0.656498     | 0.931244          |"
      ]
     },
     "metadata": {},
     "output_type": "display_data"
    },
    {
     "data": {
      "text/html": [
       "<pre>+-----------+----------+--------------+-------------------+</pre>"
      ],
      "text/plain": [
       "+-----------+----------+--------------+-------------------+"
      ]
     },
     "metadata": {},
     "output_type": "display_data"
    },
    {
     "data": {
      "text/html": [
       "<pre>SUCCESS: Optimal solution found.</pre>"
      ],
      "text/plain": [
       "SUCCESS: Optimal solution found."
      ]
     },
     "metadata": {},
     "output_type": "display_data"
    },
    {
     "data": {
      "text/html": [
       "<pre></pre>"
      ],
      "text/plain": []
     },
     "metadata": {},
     "output_type": "display_data"
    },
    {
     "data": {
      "text/html": [
       "<pre>Logistic regression:</pre>"
      ],
      "text/plain": [
       "Logistic regression:"
      ]
     },
     "metadata": {},
     "output_type": "display_data"
    },
    {
     "data": {
      "text/html": [
       "<pre>--------------------------------------------------------</pre>"
      ],
      "text/plain": [
       "--------------------------------------------------------"
      ]
     },
     "metadata": {},
     "output_type": "display_data"
    },
    {
     "data": {
      "text/html": [
       "<pre>Number of examples          : 84284</pre>"
      ],
      "text/plain": [
       "Number of examples          : 84284"
      ]
     },
     "metadata": {},
     "output_type": "display_data"
    },
    {
     "data": {
      "text/html": [
       "<pre>Number of classes           : 2</pre>"
      ],
      "text/plain": [
       "Number of classes           : 2"
      ]
     },
     "metadata": {},
     "output_type": "display_data"
    },
    {
     "data": {
      "text/html": [
       "<pre>Number of feature columns   : 13</pre>"
      ],
      "text/plain": [
       "Number of feature columns   : 13"
      ]
     },
     "metadata": {},
     "output_type": "display_data"
    },
    {
     "data": {
      "text/html": [
       "<pre>Number of unpacked features : 13</pre>"
      ],
      "text/plain": [
       "Number of unpacked features : 13"
      ]
     },
     "metadata": {},
     "output_type": "display_data"
    },
    {
     "data": {
      "text/html": [
       "<pre>Number of coefficients    : 14</pre>"
      ],
      "text/plain": [
       "Number of coefficients    : 14"
      ]
     },
     "metadata": {},
     "output_type": "display_data"
    },
    {
     "data": {
      "text/html": [
       "<pre>Starting Newton Method</pre>"
      ],
      "text/plain": [
       "Starting Newton Method"
      ]
     },
     "metadata": {},
     "output_type": "display_data"
    },
    {
     "data": {
      "text/html": [
       "<pre>--------------------------------------------------------</pre>"
      ],
      "text/plain": [
       "--------------------------------------------------------"
      ]
     },
     "metadata": {},
     "output_type": "display_data"
    },
    {
     "data": {
      "text/html": [
       "<pre>+-----------+----------+--------------+-------------------+</pre>"
      ],
      "text/plain": [
       "+-----------+----------+--------------+-------------------+"
      ]
     },
     "metadata": {},
     "output_type": "display_data"
    },
    {
     "data": {
      "text/html": [
       "<pre>| Iteration | Passes   | Elapsed Time | Training-accuracy |</pre>"
      ],
      "text/plain": [
       "| Iteration | Passes   | Elapsed Time | Training-accuracy |"
      ]
     },
     "metadata": {},
     "output_type": "display_data"
    },
    {
     "data": {
      "text/html": [
       "<pre>+-----------+----------+--------------+-------------------+</pre>"
      ],
      "text/plain": [
       "+-----------+----------+--------------+-------------------+"
      ]
     },
     "metadata": {},
     "output_type": "display_data"
    },
    {
     "data": {
      "text/html": [
       "<pre>| 1         | 2        | 0.177501     | 0.930782          |</pre>"
      ],
      "text/plain": [
       "| 1         | 2        | 0.177501     | 0.930782          |"
      ]
     },
     "metadata": {},
     "output_type": "display_data"
    },
    {
     "data": {
      "text/html": [
       "<pre>| 2         | 3        | 0.292503     | 0.931019          |</pre>"
      ],
      "text/plain": [
       "| 2         | 3        | 0.292503     | 0.931019          |"
      ]
     },
     "metadata": {},
     "output_type": "display_data"
    },
    {
     "data": {
      "text/html": [
       "<pre>| 3         | 4        | 0.403500     | 0.931126          |</pre>"
      ],
      "text/plain": [
       "| 3         | 4        | 0.403500     | 0.931126          |"
      ]
     },
     "metadata": {},
     "output_type": "display_data"
    },
    {
     "data": {
      "text/html": [
       "<pre>| 4         | 5        | 0.516004     | 0.931197          |</pre>"
      ],
      "text/plain": [
       "| 4         | 5        | 0.516004     | 0.931197          |"
      ]
     },
     "metadata": {},
     "output_type": "display_data"
    },
    {
     "data": {
      "text/html": [
       "<pre>| 5         | 6        | 0.627501     | 0.931197          |</pre>"
      ],
      "text/plain": [
       "| 5         | 6        | 0.627501     | 0.931197          |"
      ]
     },
     "metadata": {},
     "output_type": "display_data"
    },
    {
     "data": {
      "text/html": [
       "<pre>| 6         | 7        | 0.722999     | 0.931197          |</pre>"
      ],
      "text/plain": [
       "| 6         | 7        | 0.722999     | 0.931197          |"
      ]
     },
     "metadata": {},
     "output_type": "display_data"
    },
    {
     "data": {
      "text/html": [
       "<pre>+-----------+----------+--------------+-------------------+</pre>"
      ],
      "text/plain": [
       "+-----------+----------+--------------+-------------------+"
      ]
     },
     "metadata": {},
     "output_type": "display_data"
    },
    {
     "data": {
      "text/html": [
       "<pre>SUCCESS: Optimal solution found.</pre>"
      ],
      "text/plain": [
       "SUCCESS: Optimal solution found."
      ]
     },
     "metadata": {},
     "output_type": "display_data"
    },
    {
     "data": {
      "text/html": [
       "<pre></pre>"
      ],
      "text/plain": []
     },
     "metadata": {},
     "output_type": "display_data"
    }
   ],
   "source": [
    "logistic_model = graphlab.logistic_classifier.create(train_data, target=target, features=features, validation_set=None)\n",
    "logistic_model_ext = graphlab.logistic_classifier.create(train_data, target=target, features=features_ext, validation_set=None)"
   ]
  },
  {
   "cell_type": "code",
   "execution_count": 106,
   "metadata": {},
   "outputs": [
    {
     "data": {
      "text/plain": [
       "{'accuracy': 0.9311101847992219,\n",
       " 'auc': 0.6896791168139145,\n",
       " 'confusion_matrix': Columns:\n",
       " \ttarget_label\tint\n",
       " \tpredicted_label\tint\n",
       " \tcount\tint\n",
       " \n",
       " Rows: 4\n",
       " \n",
       " Data:\n",
       " +--------------+-----------------+-------+\n",
       " | target_label | predicted_label | count |\n",
       " +--------------+-----------------+-------+\n",
       " |      0       |        1        |   65  |\n",
       " |      1       |        1        |  101  |\n",
       " |      1       |        0        |  2414 |\n",
       " |      0       |        0        | 33405 |\n",
       " +--------------+-----------------+-------+\n",
       " [4 rows x 3 columns],\n",
       " 'f1_score': 0.07534502051473331,\n",
       " 'log_loss': 0.23323328207247054,\n",
       " 'precision': 0.608433734939759,\n",
       " 'recall': 0.040159045725646124,\n",
       " 'roc_curve': Columns:\n",
       " \tthreshold\tfloat\n",
       " \tfpr\tfloat\n",
       " \ttpr\tfloat\n",
       " \tp\tint\n",
       " \tn\tint\n",
       " \n",
       " Rows: 100001\n",
       " \n",
       " Data:\n",
       " +-----------+----------------+-----+------+-------+\n",
       " | threshold |      fpr       | tpr |  p   |   n   |\n",
       " +-----------+----------------+-----+------+-------+\n",
       " |    0.0    |      1.0       | 1.0 | 2515 | 33470 |\n",
       " |   1e-05   | 0.999641469973 | 1.0 | 2515 | 33470 |\n",
       " |   2e-05   | 0.999641469973 | 1.0 | 2515 | 33470 |\n",
       " |   3e-05   | 0.999611592471 | 1.0 | 2515 | 33470 |\n",
       " |   4e-05   | 0.999611592471 | 1.0 | 2515 | 33470 |\n",
       " |   5e-05   | 0.999581714969 | 1.0 | 2515 | 33470 |\n",
       " |   6e-05   | 0.999551837466 | 1.0 | 2515 | 33470 |\n",
       " |   7e-05   | 0.999521959964 | 1.0 | 2515 | 33470 |\n",
       " |   8e-05   | 0.999521959964 | 1.0 | 2515 | 33470 |\n",
       " |   9e-05   | 0.999521959964 | 1.0 | 2515 | 33470 |\n",
       " +-----------+----------------+-----+------+-------+\n",
       " [100001 rows x 5 columns]\n",
       " Note: Only the head of the SFrame is printed.\n",
       " You can use print_rows(num_rows=m, num_columns=n) to print more rows and columns.}"
      ]
     },
     "execution_count": 106,
     "metadata": {},
     "output_type": "execute_result"
    }
   ],
   "source": [
    "logistic_model.evaluate(test_data)"
   ]
  },
  {
   "cell_type": "code",
   "execution_count": 107,
   "metadata": {},
   "outputs": [
    {
     "data": {
      "text/plain": [
       "{'accuracy': 0.9309990273725163,\n",
       " 'auc': 0.6963051449296394,\n",
       " 'confusion_matrix': Columns:\n",
       " \ttarget_label\tint\n",
       " \tpredicted_label\tint\n",
       " \tcount\tint\n",
       " \n",
       " Rows: 4\n",
       " \n",
       " Data:\n",
       " +--------------+-----------------+-------+\n",
       " | target_label | predicted_label | count |\n",
       " +--------------+-----------------+-------+\n",
       " |      0       |        1        |   70  |\n",
       " |      1       |        1        |  102  |\n",
       " |      1       |        0        |  2413 |\n",
       " |      0       |        0        | 33400 |\n",
       " +--------------+-----------------+-------+\n",
       " [4 rows x 3 columns],\n",
       " 'f1_score': 0.07592110160029773,\n",
       " 'log_loss': 0.23239655490835867,\n",
       " 'precision': 0.5930232558139535,\n",
       " 'recall': 0.04055666003976143,\n",
       " 'roc_curve': Columns:\n",
       " \tthreshold\tfloat\n",
       " \tfpr\tfloat\n",
       " \ttpr\tfloat\n",
       " \tp\tint\n",
       " \tn\tint\n",
       " \n",
       " Rows: 100001\n",
       " \n",
       " Data:\n",
       " +-----------+----------------+-----+------+-------+\n",
       " | threshold |      fpr       | tpr |  p   |   n   |\n",
       " +-----------+----------------+-----+------+-------+\n",
       " |    0.0    |      1.0       | 1.0 | 2515 | 33470 |\n",
       " |   1e-05   | 0.99973110248  | 1.0 | 2515 | 33470 |\n",
       " |   2e-05   | 0.99973110248  | 1.0 | 2515 | 33470 |\n",
       " |   3e-05   | 0.99973110248  | 1.0 | 2515 | 33470 |\n",
       " |   4e-05   | 0.99973110248  | 1.0 | 2515 | 33470 |\n",
       " |   5e-05   | 0.999701224978 | 1.0 | 2515 | 33470 |\n",
       " |   6e-05   | 0.999671347475 | 1.0 | 2515 | 33470 |\n",
       " |   7e-05   | 0.999641469973 | 1.0 | 2515 | 33470 |\n",
       " |   8e-05   | 0.999611592471 | 1.0 | 2515 | 33470 |\n",
       " |   9e-05   | 0.999611592471 | 1.0 | 2515 | 33470 |\n",
       " +-----------+----------------+-----+------+-------+\n",
       " [100001 rows x 5 columns]\n",
       " Note: Only the head of the SFrame is printed.\n",
       " You can use print_rows(num_rows=m, num_columns=n) to print more rows and columns.}"
      ]
     },
     "execution_count": 107,
     "metadata": {},
     "output_type": "execute_result"
    }
   ],
   "source": [
    "logistic_model_ext.evaluate(test_data)"
   ]
  },
  {
   "cell_type": "markdown",
   "metadata": {},
   "source": [
    "## CART"
   ]
  },
  {
   "cell_type": "code",
   "execution_count": 102,
   "metadata": {},
   "outputs": [
    {
     "data": {
      "text/html": [
       "<pre>Decision tree classifier:</pre>"
      ],
      "text/plain": [
       "Decision tree classifier:"
      ]
     },
     "metadata": {},
     "output_type": "display_data"
    },
    {
     "data": {
      "text/html": [
       "<pre>--------------------------------------------------------</pre>"
      ],
      "text/plain": [
       "--------------------------------------------------------"
      ]
     },
     "metadata": {},
     "output_type": "display_data"
    },
    {
     "data": {
      "text/html": [
       "<pre>Number of examples          : 84284</pre>"
      ],
      "text/plain": [
       "Number of examples          : 84284"
      ]
     },
     "metadata": {},
     "output_type": "display_data"
    },
    {
     "data": {
      "text/html": [
       "<pre>Number of classes           : 2</pre>"
      ],
      "text/plain": [
       "Number of classes           : 2"
      ]
     },
     "metadata": {},
     "output_type": "display_data"
    },
    {
     "data": {
      "text/html": [
       "<pre>Number of feature columns   : 10</pre>"
      ],
      "text/plain": [
       "Number of feature columns   : 10"
      ]
     },
     "metadata": {},
     "output_type": "display_data"
    },
    {
     "data": {
      "text/html": [
       "<pre>Number of unpacked features : 10</pre>"
      ],
      "text/plain": [
       "Number of unpacked features : 10"
      ]
     },
     "metadata": {},
     "output_type": "display_data"
    },
    {
     "data": {
      "text/html": [
       "<pre>+-----------+--------------+-------------------+-------------------+</pre>"
      ],
      "text/plain": [
       "+-----------+--------------+-------------------+-------------------+"
      ]
     },
     "metadata": {},
     "output_type": "display_data"
    },
    {
     "data": {
      "text/html": [
       "<pre>| Iteration | Elapsed Time | Training-accuracy | Training-log_loss |</pre>"
      ],
      "text/plain": [
       "| Iteration | Elapsed Time | Training-accuracy | Training-log_loss |"
      ]
     },
     "metadata": {},
     "output_type": "display_data"
    },
    {
     "data": {
      "text/html": [
       "<pre>+-----------+--------------+-------------------+-------------------+</pre>"
      ],
      "text/plain": [
       "+-----------+--------------+-------------------+-------------------+"
      ]
     },
     "metadata": {},
     "output_type": "display_data"
    },
    {
     "data": {
      "text/html": [
       "<pre>| 1         | 0.068002     | 0.935860          | 0.490020          |</pre>"
      ],
      "text/plain": [
       "| 1         | 0.068002     | 0.935860          | 0.490020          |"
      ]
     },
     "metadata": {},
     "output_type": "display_data"
    },
    {
     "data": {
      "text/html": [
       "<pre>+-----------+--------------+-------------------+-------------------+</pre>"
      ],
      "text/plain": [
       "+-----------+--------------+-------------------+-------------------+"
      ]
     },
     "metadata": {},
     "output_type": "display_data"
    },
    {
     "data": {
      "text/html": [
       "<pre>Decision tree classifier:</pre>"
      ],
      "text/plain": [
       "Decision tree classifier:"
      ]
     },
     "metadata": {},
     "output_type": "display_data"
    },
    {
     "data": {
      "text/html": [
       "<pre>--------------------------------------------------------</pre>"
      ],
      "text/plain": [
       "--------------------------------------------------------"
      ]
     },
     "metadata": {},
     "output_type": "display_data"
    },
    {
     "data": {
      "text/html": [
       "<pre>Number of examples          : 84284</pre>"
      ],
      "text/plain": [
       "Number of examples          : 84284"
      ]
     },
     "metadata": {},
     "output_type": "display_data"
    },
    {
     "data": {
      "text/html": [
       "<pre>Number of classes           : 2</pre>"
      ],
      "text/plain": [
       "Number of classes           : 2"
      ]
     },
     "metadata": {},
     "output_type": "display_data"
    },
    {
     "data": {
      "text/html": [
       "<pre>Number of feature columns   : 13</pre>"
      ],
      "text/plain": [
       "Number of feature columns   : 13"
      ]
     },
     "metadata": {},
     "output_type": "display_data"
    },
    {
     "data": {
      "text/html": [
       "<pre>Number of unpacked features : 13</pre>"
      ],
      "text/plain": [
       "Number of unpacked features : 13"
      ]
     },
     "metadata": {},
     "output_type": "display_data"
    },
    {
     "data": {
      "text/html": [
       "<pre>+-----------+--------------+-------------------+-------------------+</pre>"
      ],
      "text/plain": [
       "+-----------+--------------+-------------------+-------------------+"
      ]
     },
     "metadata": {},
     "output_type": "display_data"
    },
    {
     "data": {
      "text/html": [
       "<pre>| Iteration | Elapsed Time | Training-accuracy | Training-log_loss |</pre>"
      ],
      "text/plain": [
       "| Iteration | Elapsed Time | Training-accuracy | Training-log_loss |"
      ]
     },
     "metadata": {},
     "output_type": "display_data"
    },
    {
     "data": {
      "text/html": [
       "<pre>+-----------+--------------+-------------------+-------------------+</pre>"
      ],
      "text/plain": [
       "+-----------+--------------+-------------------+-------------------+"
      ]
     },
     "metadata": {},
     "output_type": "display_data"
    },
    {
     "data": {
      "text/html": [
       "<pre>| 1         | 0.086501     | 0.935729          | 0.489999          |</pre>"
      ],
      "text/plain": [
       "| 1         | 0.086501     | 0.935729          | 0.489999          |"
      ]
     },
     "metadata": {},
     "output_type": "display_data"
    },
    {
     "data": {
      "text/html": [
       "<pre>+-----------+--------------+-------------------+-------------------+</pre>"
      ],
      "text/plain": [
       "+-----------+--------------+-------------------+-------------------+"
      ]
     },
     "metadata": {},
     "output_type": "display_data"
    }
   ],
   "source": [
    "decision_tree_model = graphlab.decision_tree_classifier.create(train_data, target=target, features=features, validation_set=None)\n",
    "decision_tree_model_ext = graphlab.decision_tree_classifier.create(train_data, target=target, features=features_ext, validation_set=None)"
   ]
  },
  {
   "cell_type": "code",
   "execution_count": 103,
   "metadata": {},
   "outputs": [
    {
     "data": {
      "text/plain": [
       "{'accuracy': 0.931610393219397,\n",
       " 'auc': 0.8388234679167301,\n",
       " 'confusion_matrix': Columns:\n",
       " \ttarget_label\tint\n",
       " \tpredicted_label\tint\n",
       " \tcount\tint\n",
       " \n",
       " Rows: 4\n",
       " \n",
       " Data:\n",
       " +--------------+-----------------+-------+\n",
       " | target_label | predicted_label | count |\n",
       " +--------------+-----------------+-------+\n",
       " |      1       |        1        |  413  |\n",
       " |      0       |        1        |  359  |\n",
       " |      1       |        0        |  2102 |\n",
       " |      0       |        0        | 33111 |\n",
       " +--------------+-----------------+-------+\n",
       " [4 rows x 3 columns],\n",
       " 'f1_score': 0.251292972315181,\n",
       " 'log_loss': 0.4911777053742578,\n",
       " 'precision': 0.5349740932642487,\n",
       " 'recall': 0.16421471172962226,\n",
       " 'roc_curve': Columns:\n",
       " \tthreshold\tfloat\n",
       " \tfpr\tfloat\n",
       " \ttpr\tfloat\n",
       " \tp\tint\n",
       " \tn\tint\n",
       " \n",
       " Rows: 100001\n",
       " \n",
       " Data:\n",
       " +-----------+-----+-----+------+-------+\n",
       " | threshold | fpr | tpr |  p   |   n   |\n",
       " +-----------+-----+-----+------+-------+\n",
       " |    0.0    | 1.0 | 1.0 | 2515 | 33470 |\n",
       " |   1e-05   | 1.0 | 1.0 | 2515 | 33470 |\n",
       " |   2e-05   | 1.0 | 1.0 | 2515 | 33470 |\n",
       " |   3e-05   | 1.0 | 1.0 | 2515 | 33470 |\n",
       " |   4e-05   | 1.0 | 1.0 | 2515 | 33470 |\n",
       " |   5e-05   | 1.0 | 1.0 | 2515 | 33470 |\n",
       " |   6e-05   | 1.0 | 1.0 | 2515 | 33470 |\n",
       " |   7e-05   | 1.0 | 1.0 | 2515 | 33470 |\n",
       " |   8e-05   | 1.0 | 1.0 | 2515 | 33470 |\n",
       " |   9e-05   | 1.0 | 1.0 | 2515 | 33470 |\n",
       " +-----------+-----+-----+------+-------+\n",
       " [100001 rows x 5 columns]\n",
       " Note: Only the head of the SFrame is printed.\n",
       " You can use print_rows(num_rows=m, num_columns=n) to print more rows and columns.}"
      ]
     },
     "execution_count": 103,
     "metadata": {},
     "output_type": "execute_result"
    }
   ],
   "source": [
    "decision_tree_model.evaluate(test_data)"
   ]
  },
  {
   "cell_type": "code",
   "execution_count": 104,
   "metadata": {},
   "outputs": [
    {
     "data": {
      "text/plain": [
       "{'accuracy': 0.9315270251493678,\n",
       " 'auc': 0.8383202725683546,\n",
       " 'confusion_matrix': Columns:\n",
       " \ttarget_label\tint\n",
       " \tpredicted_label\tint\n",
       " \tcount\tint\n",
       " \n",
       " Rows: 4\n",
       " \n",
       " Data:\n",
       " +--------------+-----------------+-------+\n",
       " | target_label | predicted_label | count |\n",
       " +--------------+-----------------+-------+\n",
       " |      1       |        1        |  458  |\n",
       " |      0       |        1        |  407  |\n",
       " |      1       |        0        |  2057 |\n",
       " |      0       |        0        | 33063 |\n",
       " +--------------+-----------------+-------+\n",
       " [4 rows x 3 columns],\n",
       " 'f1_score': 0.27100591715976335,\n",
       " 'log_loss': 0.4912085931561307,\n",
       " 'precision': 0.5294797687861271,\n",
       " 'recall': 0.18210735586481114,\n",
       " 'roc_curve': Columns:\n",
       " \tthreshold\tfloat\n",
       " \tfpr\tfloat\n",
       " \ttpr\tfloat\n",
       " \tp\tint\n",
       " \tn\tint\n",
       " \n",
       " Rows: 100001\n",
       " \n",
       " Data:\n",
       " +-----------+-----+-----+------+-------+\n",
       " | threshold | fpr | tpr |  p   |   n   |\n",
       " +-----------+-----+-----+------+-------+\n",
       " |    0.0    | 1.0 | 1.0 | 2515 | 33470 |\n",
       " |   1e-05   | 1.0 | 1.0 | 2515 | 33470 |\n",
       " |   2e-05   | 1.0 | 1.0 | 2515 | 33470 |\n",
       " |   3e-05   | 1.0 | 1.0 | 2515 | 33470 |\n",
       " |   4e-05   | 1.0 | 1.0 | 2515 | 33470 |\n",
       " |   5e-05   | 1.0 | 1.0 | 2515 | 33470 |\n",
       " |   6e-05   | 1.0 | 1.0 | 2515 | 33470 |\n",
       " |   7e-05   | 1.0 | 1.0 | 2515 | 33470 |\n",
       " |   8e-05   | 1.0 | 1.0 | 2515 | 33470 |\n",
       " |   9e-05   | 1.0 | 1.0 | 2515 | 33470 |\n",
       " +-----------+-----+-----+------+-------+\n",
       " [100001 rows x 5 columns]\n",
       " Note: Only the head of the SFrame is printed.\n",
       " You can use print_rows(num_rows=m, num_columns=n) to print more rows and columns.}"
      ]
     },
     "execution_count": 104,
     "metadata": {},
     "output_type": "execute_result"
    }
   ],
   "source": [
    "decision_tree_model_ext.evaluate(test_data)"
   ]
  },
  {
   "cell_type": "markdown",
   "metadata": {},
   "source": [
    "## Random Forest Model"
   ]
  },
  {
   "cell_type": "code",
   "execution_count": 108,
   "metadata": {},
   "outputs": [
    {
     "data": {
      "text/html": [
       "<pre>Random forest classifier:</pre>"
      ],
      "text/plain": [
       "Random forest classifier:"
      ]
     },
     "metadata": {},
     "output_type": "display_data"
    },
    {
     "data": {
      "text/html": [
       "<pre>--------------------------------------------------------</pre>"
      ],
      "text/plain": [
       "--------------------------------------------------------"
      ]
     },
     "metadata": {},
     "output_type": "display_data"
    },
    {
     "data": {
      "text/html": [
       "<pre>Number of examples          : 84284</pre>"
      ],
      "text/plain": [
       "Number of examples          : 84284"
      ]
     },
     "metadata": {},
     "output_type": "display_data"
    },
    {
     "data": {
      "text/html": [
       "<pre>Number of classes           : 2</pre>"
      ],
      "text/plain": [
       "Number of classes           : 2"
      ]
     },
     "metadata": {},
     "output_type": "display_data"
    },
    {
     "data": {
      "text/html": [
       "<pre>Number of feature columns   : 10</pre>"
      ],
      "text/plain": [
       "Number of feature columns   : 10"
      ]
     },
     "metadata": {},
     "output_type": "display_data"
    },
    {
     "data": {
      "text/html": [
       "<pre>Number of unpacked features : 10</pre>"
      ],
      "text/plain": [
       "Number of unpacked features : 10"
      ]
     },
     "metadata": {},
     "output_type": "display_data"
    },
    {
     "data": {
      "text/html": [
       "<pre>+-----------+--------------+-------------------+-------------------+</pre>"
      ],
      "text/plain": [
       "+-----------+--------------+-------------------+-------------------+"
      ]
     },
     "metadata": {},
     "output_type": "display_data"
    },
    {
     "data": {
      "text/html": [
       "<pre>| Iteration | Elapsed Time | Training-accuracy | Training-log_loss |</pre>"
      ],
      "text/plain": [
       "| Iteration | Elapsed Time | Training-accuracy | Training-log_loss |"
      ]
     },
     "metadata": {},
     "output_type": "display_data"
    },
    {
     "data": {
      "text/html": [
       "<pre>+-----------+--------------+-------------------+-------------------+</pre>"
      ],
      "text/plain": [
       "+-----------+--------------+-------------------+-------------------+"
      ]
     },
     "metadata": {},
     "output_type": "display_data"
    },
    {
     "data": {
      "text/html": [
       "<pre>| 1         | 0.074996     | 0.933843          | 0.254324          |</pre>"
      ],
      "text/plain": [
       "| 1         | 0.074996     | 0.933843          | 0.254324          |"
      ]
     },
     "metadata": {},
     "output_type": "display_data"
    },
    {
     "data": {
      "text/html": [
       "<pre>| 2         | 0.151997     | 0.934056          | 0.253800          |</pre>"
      ],
      "text/plain": [
       "| 2         | 0.151997     | 0.934056          | 0.253800          |"
      ]
     },
     "metadata": {},
     "output_type": "display_data"
    },
    {
     "data": {
      "text/html": [
       "<pre>| 3         | 0.221496     | 0.934614          | 0.251082          |</pre>"
      ],
      "text/plain": [
       "| 3         | 0.221496     | 0.934614          | 0.251082          |"
      ]
     },
     "metadata": {},
     "output_type": "display_data"
    },
    {
     "data": {
      "text/html": [
       "<pre>| 4         | 0.292995     | 0.935172          | 0.250078          |</pre>"
      ],
      "text/plain": [
       "| 4         | 0.292995     | 0.935172          | 0.250078          |"
      ]
     },
     "metadata": {},
     "output_type": "display_data"
    },
    {
     "data": {
      "text/html": [
       "<pre>| 5         | 0.363497     | 0.935539          | 0.249571          |</pre>"
      ],
      "text/plain": [
       "| 5         | 0.363497     | 0.935539          | 0.249571          |"
      ]
     },
     "metadata": {},
     "output_type": "display_data"
    },
    {
     "data": {
      "text/html": [
       "<pre>| 6         | 0.433496     | 0.935563          | 0.249931          |</pre>"
      ],
      "text/plain": [
       "| 6         | 0.433496     | 0.935563          | 0.249931          |"
      ]
     },
     "metadata": {},
     "output_type": "display_data"
    },
    {
     "data": {
      "text/html": [
       "<pre>+-----------+--------------+-------------------+-------------------+</pre>"
      ],
      "text/plain": [
       "+-----------+--------------+-------------------+-------------------+"
      ]
     },
     "metadata": {},
     "output_type": "display_data"
    },
    {
     "data": {
      "text/html": [
       "<pre>Random forest classifier:</pre>"
      ],
      "text/plain": [
       "Random forest classifier:"
      ]
     },
     "metadata": {},
     "output_type": "display_data"
    },
    {
     "data": {
      "text/html": [
       "<pre>--------------------------------------------------------</pre>"
      ],
      "text/plain": [
       "--------------------------------------------------------"
      ]
     },
     "metadata": {},
     "output_type": "display_data"
    },
    {
     "data": {
      "text/html": [
       "<pre>Number of examples          : 84284</pre>"
      ],
      "text/plain": [
       "Number of examples          : 84284"
      ]
     },
     "metadata": {},
     "output_type": "display_data"
    },
    {
     "data": {
      "text/html": [
       "<pre>Number of classes           : 2</pre>"
      ],
      "text/plain": [
       "Number of classes           : 2"
      ]
     },
     "metadata": {},
     "output_type": "display_data"
    },
    {
     "data": {
      "text/html": [
       "<pre>Number of feature columns   : 13</pre>"
      ],
      "text/plain": [
       "Number of feature columns   : 13"
      ]
     },
     "metadata": {},
     "output_type": "display_data"
    },
    {
     "data": {
      "text/html": [
       "<pre>Number of unpacked features : 13</pre>"
      ],
      "text/plain": [
       "Number of unpacked features : 13"
      ]
     },
     "metadata": {},
     "output_type": "display_data"
    },
    {
     "data": {
      "text/html": [
       "<pre>+-----------+--------------+-------------------+-------------------+</pre>"
      ],
      "text/plain": [
       "+-----------+--------------+-------------------+-------------------+"
      ]
     },
     "metadata": {},
     "output_type": "display_data"
    },
    {
     "data": {
      "text/html": [
       "<pre>| Iteration | Elapsed Time | Training-accuracy | Training-log_loss |</pre>"
      ],
      "text/plain": [
       "| Iteration | Elapsed Time | Training-accuracy | Training-log_loss |"
      ]
     },
     "metadata": {},
     "output_type": "display_data"
    },
    {
     "data": {
      "text/html": [
       "<pre>+-----------+--------------+-------------------+-------------------+</pre>"
      ],
      "text/plain": [
       "+-----------+--------------+-------------------+-------------------+"
      ]
     },
     "metadata": {},
     "output_type": "display_data"
    },
    {
     "data": {
      "text/html": [
       "<pre>| 1         | 0.088495     | 0.935468          | 0.251624          |</pre>"
      ],
      "text/plain": [
       "| 1         | 0.088495     | 0.935468          | 0.251624          |"
      ]
     },
     "metadata": {},
     "output_type": "display_data"
    },
    {
     "data": {
      "text/html": [
       "<pre>| 2         | 0.168495     | 0.935694          | 0.251109          |</pre>"
      ],
      "text/plain": [
       "| 2         | 0.168495     | 0.935694          | 0.251109          |"
      ]
     },
     "metadata": {},
     "output_type": "display_data"
    },
    {
     "data": {
      "text/html": [
       "<pre>| 3         | 0.248994     | 0.936322          | 0.249976          |</pre>"
      ],
      "text/plain": [
       "| 3         | 0.248994     | 0.936322          | 0.249976          |"
      ]
     },
     "metadata": {},
     "output_type": "display_data"
    },
    {
     "data": {
      "text/html": [
       "<pre>| 4         | 0.326495     | 0.936489          | 0.249989          |</pre>"
      ],
      "text/plain": [
       "| 4         | 0.326495     | 0.936489          | 0.249989          |"
      ]
     },
     "metadata": {},
     "output_type": "display_data"
    },
    {
     "data": {
      "text/html": [
       "<pre>| 5         | 0.409995     | 0.936239          | 0.250225          |</pre>"
      ],
      "text/plain": [
       "| 5         | 0.409995     | 0.936239          | 0.250225          |"
      ]
     },
     "metadata": {},
     "output_type": "display_data"
    },
    {
     "data": {
      "text/html": [
       "<pre>| 6         | 0.486995     | 0.936050          | 0.250600          |</pre>"
      ],
      "text/plain": [
       "| 6         | 0.486995     | 0.936050          | 0.250600          |"
      ]
     },
     "metadata": {},
     "output_type": "display_data"
    },
    {
     "data": {
      "text/html": [
       "<pre>+-----------+--------------+-------------------+-------------------+</pre>"
      ],
      "text/plain": [
       "+-----------+--------------+-------------------+-------------------+"
      ]
     },
     "metadata": {},
     "output_type": "display_data"
    }
   ],
   "source": [
    "random_forest_model = graphlab.random_forest_classifier.create(train_data, target=target, features=features, validation_set=None)\n",
    "random_forest_model_ext = graphlab.random_forest_classifier.create(train_data, target=target, features=features_ext, validation_set=None)"
   ]
  },
  {
   "cell_type": "code",
   "execution_count": 109,
   "metadata": {},
   "outputs": [
    {
     "data": {
      "text/plain": [
       "{'accuracy': 0.9338891204668612,\n",
       " 'auc': 0.8513474753510625,\n",
       " 'confusion_matrix': Columns:\n",
       " \ttarget_label\tint\n",
       " \tpredicted_label\tint\n",
       " \tcount\tint\n",
       " \n",
       " Rows: 4\n",
       " \n",
       " Data:\n",
       " +--------------+-----------------+-------+\n",
       " | target_label | predicted_label | count |\n",
       " +--------------+-----------------+-------+\n",
       " |      0       |        1        |  179  |\n",
       " |      1       |        0        |  2200 |\n",
       " |      1       |        1        |  315  |\n",
       " |      0       |        0        | 33291 |\n",
       " +--------------+-----------------+-------+\n",
       " [4 rows x 3 columns],\n",
       " 'f1_score': 0.2093718843469591,\n",
       " 'log_loss': 0.2516434058042047,\n",
       " 'precision': 0.6376518218623481,\n",
       " 'recall': 0.12524850894632206,\n",
       " 'roc_curve': Columns:\n",
       " \tthreshold\tfloat\n",
       " \tfpr\tfloat\n",
       " \ttpr\tfloat\n",
       " \tp\tint\n",
       " \tn\tint\n",
       " \n",
       " Rows: 100001\n",
       " \n",
       " Data:\n",
       " +-----------+-----+-----+------+-------+\n",
       " | threshold | fpr | tpr |  p   |   n   |\n",
       " +-----------+-----+-----+------+-------+\n",
       " |    0.0    | 1.0 | 1.0 | 2515 | 33470 |\n",
       " |   1e-05   | 1.0 | 1.0 | 2515 | 33470 |\n",
       " |   2e-05   | 1.0 | 1.0 | 2515 | 33470 |\n",
       " |   3e-05   | 1.0 | 1.0 | 2515 | 33470 |\n",
       " |   4e-05   | 1.0 | 1.0 | 2515 | 33470 |\n",
       " |   5e-05   | 1.0 | 1.0 | 2515 | 33470 |\n",
       " |   6e-05   | 1.0 | 1.0 | 2515 | 33470 |\n",
       " |   7e-05   | 1.0 | 1.0 | 2515 | 33470 |\n",
       " |   8e-05   | 1.0 | 1.0 | 2515 | 33470 |\n",
       " |   9e-05   | 1.0 | 1.0 | 2515 | 33470 |\n",
       " +-----------+-----+-----+------+-------+\n",
       " [100001 rows x 5 columns]\n",
       " Note: Only the head of the SFrame is printed.\n",
       " You can use print_rows(num_rows=m, num_columns=n) to print more rows and columns.}"
      ]
     },
     "execution_count": 109,
     "metadata": {},
     "output_type": "execute_result"
    }
   ],
   "source": [
    "random_forest_model.evaluate(test_data)"
   ]
  },
  {
   "cell_type": "code",
   "execution_count": 110,
   "metadata": {},
   "outputs": [
    {
     "data": {
      "text/plain": [
       "{'accuracy': 0.9335278588300681,\n",
       " 'auc': 0.8520561780200139,\n",
       " 'confusion_matrix': Columns:\n",
       " \ttarget_label\tint\n",
       " \tpredicted_label\tint\n",
       " \tcount\tint\n",
       " \n",
       " Rows: 4\n",
       " \n",
       " Data:\n",
       " +--------------+-----------------+-------+\n",
       " | target_label | predicted_label | count |\n",
       " +--------------+-----------------+-------+\n",
       " |      0       |        1        |  105  |\n",
       " |      1       |        1        |  228  |\n",
       " |      1       |        0        |  2287 |\n",
       " |      0       |        0        | 33365 |\n",
       " +--------------+-----------------+-------+\n",
       " [4 rows x 3 columns],\n",
       " 'f1_score': 0.1601123595505618,\n",
       " 'log_loss': 0.2536593911902796,\n",
       " 'precision': 0.6846846846846847,\n",
       " 'recall': 0.09065606361829026,\n",
       " 'roc_curve': Columns:\n",
       " \tthreshold\tfloat\n",
       " \tfpr\tfloat\n",
       " \ttpr\tfloat\n",
       " \tp\tint\n",
       " \tn\tint\n",
       " \n",
       " Rows: 100001\n",
       " \n",
       " Data:\n",
       " +-----------+-----+-----+------+-------+\n",
       " | threshold | fpr | tpr |  p   |   n   |\n",
       " +-----------+-----+-----+------+-------+\n",
       " |    0.0    | 1.0 | 1.0 | 2515 | 33470 |\n",
       " |   1e-05   | 1.0 | 1.0 | 2515 | 33470 |\n",
       " |   2e-05   | 1.0 | 1.0 | 2515 | 33470 |\n",
       " |   3e-05   | 1.0 | 1.0 | 2515 | 33470 |\n",
       " |   4e-05   | 1.0 | 1.0 | 2515 | 33470 |\n",
       " |   5e-05   | 1.0 | 1.0 | 2515 | 33470 |\n",
       " |   6e-05   | 1.0 | 1.0 | 2515 | 33470 |\n",
       " |   7e-05   | 1.0 | 1.0 | 2515 | 33470 |\n",
       " |   8e-05   | 1.0 | 1.0 | 2515 | 33470 |\n",
       " |   9e-05   | 1.0 | 1.0 | 2515 | 33470 |\n",
       " +-----------+-----+-----+------+-------+\n",
       " [100001 rows x 5 columns]\n",
       " Note: Only the head of the SFrame is printed.\n",
       " You can use print_rows(num_rows=m, num_columns=n) to print more rows and columns.}"
      ]
     },
     "execution_count": 110,
     "metadata": {},
     "output_type": "execute_result"
    }
   ],
   "source": [
    "random_forest_model_ext.evaluate(test_data)"
   ]
  },
  {
   "cell_type": "markdown",
   "metadata": {},
   "source": [
    "## Gradient Boosted Trees"
   ]
  },
  {
   "cell_type": "code",
   "execution_count": 111,
   "metadata": {},
   "outputs": [
    {
     "data": {
      "text/html": [
       "<pre>Boosted trees classifier:</pre>"
      ],
      "text/plain": [
       "Boosted trees classifier:"
      ]
     },
     "metadata": {},
     "output_type": "display_data"
    },
    {
     "data": {
      "text/html": [
       "<pre>--------------------------------------------------------</pre>"
      ],
      "text/plain": [
       "--------------------------------------------------------"
      ]
     },
     "metadata": {},
     "output_type": "display_data"
    },
    {
     "data": {
      "text/html": [
       "<pre>Number of examples          : 84284</pre>"
      ],
      "text/plain": [
       "Number of examples          : 84284"
      ]
     },
     "metadata": {},
     "output_type": "display_data"
    },
    {
     "data": {
      "text/html": [
       "<pre>Number of classes           : 2</pre>"
      ],
      "text/plain": [
       "Number of classes           : 2"
      ]
     },
     "metadata": {},
     "output_type": "display_data"
    },
    {
     "data": {
      "text/html": [
       "<pre>Number of feature columns   : 10</pre>"
      ],
      "text/plain": [
       "Number of feature columns   : 10"
      ]
     },
     "metadata": {},
     "output_type": "display_data"
    },
    {
     "data": {
      "text/html": [
       "<pre>Number of unpacked features : 10</pre>"
      ],
      "text/plain": [
       "Number of unpacked features : 10"
      ]
     },
     "metadata": {},
     "output_type": "display_data"
    },
    {
     "data": {
      "text/html": [
       "<pre>+-----------+--------------+-------------------+-------------------+</pre>"
      ],
      "text/plain": [
       "+-----------+--------------+-------------------+-------------------+"
      ]
     },
     "metadata": {},
     "output_type": "display_data"
    },
    {
     "data": {
      "text/html": [
       "<pre>| Iteration | Elapsed Time | Training-accuracy | Training-log_loss |</pre>"
      ],
      "text/plain": [
       "| Iteration | Elapsed Time | Training-accuracy | Training-log_loss |"
      ]
     },
     "metadata": {},
     "output_type": "display_data"
    },
    {
     "data": {
      "text/html": [
       "<pre>+-----------+--------------+-------------------+-------------------+</pre>"
      ],
      "text/plain": [
       "+-----------+--------------+-------------------+-------------------+"
      ]
     },
     "metadata": {},
     "output_type": "display_data"
    },
    {
     "data": {
      "text/html": [
       "<pre>| 1         | 0.080999     | 0.935860          | 0.490020          |</pre>"
      ],
      "text/plain": [
       "| 1         | 0.080999     | 0.935860          | 0.490020          |"
      ]
     },
     "metadata": {},
     "output_type": "display_data"
    },
    {
     "data": {
      "text/html": [
       "<pre>| 2         | 0.172496     | 0.936868          | 0.379115          |</pre>"
      ],
      "text/plain": [
       "| 2         | 0.172496     | 0.936868          | 0.379115          |"
      ]
     },
     "metadata": {},
     "output_type": "display_data"
    },
    {
     "data": {
      "text/html": [
       "<pre>| 3         | 0.252997     | 0.937343          | 0.311236          |</pre>"
      ],
      "text/plain": [
       "| 3         | 0.252997     | 0.937343          | 0.311236          |"
      ]
     },
     "metadata": {},
     "output_type": "display_data"
    },
    {
     "data": {
      "text/html": [
       "<pre>| 4         | 0.330998     | 0.937841          | 0.267434          |</pre>"
      ],
      "text/plain": [
       "| 4         | 0.330998     | 0.937841          | 0.267434          |"
      ]
     },
     "metadata": {},
     "output_type": "display_data"
    },
    {
     "data": {
      "text/html": [
       "<pre>| 5         | 0.407996     | 0.938185          | 0.238508          |</pre>"
      ],
      "text/plain": [
       "| 5         | 0.407996     | 0.938185          | 0.238508          |"
      ]
     },
     "metadata": {},
     "output_type": "display_data"
    },
    {
     "data": {
      "text/html": [
       "<pre>| 6         | 0.486997     | 0.938446          | 0.219124          |</pre>"
      ],
      "text/plain": [
       "| 6         | 0.486997     | 0.938446          | 0.219124          |"
      ]
     },
     "metadata": {},
     "output_type": "display_data"
    },
    {
     "data": {
      "text/html": [
       "<pre>+-----------+--------------+-------------------+-------------------+</pre>"
      ],
      "text/plain": [
       "+-----------+--------------+-------------------+-------------------+"
      ]
     },
     "metadata": {},
     "output_type": "display_data"
    },
    {
     "data": {
      "text/html": [
       "<pre>Boosted trees classifier:</pre>"
      ],
      "text/plain": [
       "Boosted trees classifier:"
      ]
     },
     "metadata": {},
     "output_type": "display_data"
    },
    {
     "data": {
      "text/html": [
       "<pre>--------------------------------------------------------</pre>"
      ],
      "text/plain": [
       "--------------------------------------------------------"
      ]
     },
     "metadata": {},
     "output_type": "display_data"
    },
    {
     "data": {
      "text/html": [
       "<pre>Number of examples          : 84284</pre>"
      ],
      "text/plain": [
       "Number of examples          : 84284"
      ]
     },
     "metadata": {},
     "output_type": "display_data"
    },
    {
     "data": {
      "text/html": [
       "<pre>Number of classes           : 2</pre>"
      ],
      "text/plain": [
       "Number of classes           : 2"
      ]
     },
     "metadata": {},
     "output_type": "display_data"
    },
    {
     "data": {
      "text/html": [
       "<pre>Number of feature columns   : 13</pre>"
      ],
      "text/plain": [
       "Number of feature columns   : 13"
      ]
     },
     "metadata": {},
     "output_type": "display_data"
    },
    {
     "data": {
      "text/html": [
       "<pre>Number of unpacked features : 13</pre>"
      ],
      "text/plain": [
       "Number of unpacked features : 13"
      ]
     },
     "metadata": {},
     "output_type": "display_data"
    },
    {
     "data": {
      "text/html": [
       "<pre>+-----------+--------------+-------------------+-------------------+</pre>"
      ],
      "text/plain": [
       "+-----------+--------------+-------------------+-------------------+"
      ]
     },
     "metadata": {},
     "output_type": "display_data"
    },
    {
     "data": {
      "text/html": [
       "<pre>| Iteration | Elapsed Time | Training-accuracy | Training-log_loss |</pre>"
      ],
      "text/plain": [
       "| Iteration | Elapsed Time | Training-accuracy | Training-log_loss |"
      ]
     },
     "metadata": {},
     "output_type": "display_data"
    },
    {
     "data": {
      "text/html": [
       "<pre>+-----------+--------------+-------------------+-------------------+</pre>"
      ],
      "text/plain": [
       "+-----------+--------------+-------------------+-------------------+"
      ]
     },
     "metadata": {},
     "output_type": "display_data"
    },
    {
     "data": {
      "text/html": [
       "<pre>| 1         | 0.099000     | 0.935729          | 0.489999          |</pre>"
      ],
      "text/plain": [
       "| 1         | 0.099000     | 0.935729          | 0.489999          |"
      ]
     },
     "metadata": {},
     "output_type": "display_data"
    },
    {
     "data": {
      "text/html": [
       "<pre>| 2         | 0.191001     | 0.936690          | 0.379080          |</pre>"
      ],
      "text/plain": [
       "| 2         | 0.191001     | 0.936690          | 0.379080          |"
      ]
     },
     "metadata": {},
     "output_type": "display_data"
    },
    {
     "data": {
      "text/html": [
       "<pre>| 3         | 0.281000     | 0.937675          | 0.311159          |</pre>"
      ],
      "text/plain": [
       "| 3         | 0.281000     | 0.937675          | 0.311159          |"
      ]
     },
     "metadata": {},
     "output_type": "display_data"
    },
    {
     "data": {
      "text/html": [
       "<pre>| 4         | 0.373499     | 0.937877          | 0.267299          |</pre>"
      ],
      "text/plain": [
       "| 4         | 0.373499     | 0.937877          | 0.267299          |"
      ]
     },
     "metadata": {},
     "output_type": "display_data"
    },
    {
     "data": {
      "text/html": [
       "<pre>| 5         | 0.465000     | 0.938387          | 0.238272          |</pre>"
      ],
      "text/plain": [
       "| 5         | 0.465000     | 0.938387          | 0.238272          |"
      ]
     },
     "metadata": {},
     "output_type": "display_data"
    },
    {
     "data": {
      "text/html": [
       "<pre>| 6         | 0.539001     | 0.938565          | 0.218905          |</pre>"
      ],
      "text/plain": [
       "| 6         | 0.539001     | 0.938565          | 0.218905          |"
      ]
     },
     "metadata": {},
     "output_type": "display_data"
    },
    {
     "data": {
      "text/html": [
       "<pre>+-----------+--------------+-------------------+-------------------+</pre>"
      ],
      "text/plain": [
       "+-----------+--------------+-------------------+-------------------+"
      ]
     },
     "metadata": {},
     "output_type": "display_data"
    }
   ],
   "source": [
    "gbt_model = graphlab.boosted_trees_classifier.create(train_data, target=target, features=features, validation_set=None)\n",
    "gbt_model_ext = graphlab.boosted_trees_classifier.create(train_data, target=target, features=features_ext, validation_set=None)"
   ]
  },
  {
   "cell_type": "code",
   "execution_count": 112,
   "metadata": {},
   "outputs": [
    {
     "data": {
      "text/plain": [
       "{'accuracy': 0.9338891204668612,\n",
       " 'auc': 0.852362633283061,\n",
       " 'confusion_matrix': Columns:\n",
       " \ttarget_label\tint\n",
       " \tpredicted_label\tint\n",
       " \tcount\tint\n",
       " \n",
       " Rows: 4\n",
       " \n",
       " Data:\n",
       " +--------------+-----------------+-------+\n",
       " | target_label | predicted_label | count |\n",
       " +--------------+-----------------+-------+\n",
       " |      0       |        1        |  284  |\n",
       " |      1       |        0        |  2095 |\n",
       " |      1       |        1        |  420  |\n",
       " |      0       |        0        | 33186 |\n",
       " +--------------+-----------------+-------+\n",
       " [4 rows x 3 columns],\n",
       " 'f1_score': 0.26095060577819196,\n",
       " 'log_loss': 0.1948454767040466,\n",
       " 'precision': 0.5965909090909091,\n",
       " 'recall': 0.16699801192842942,\n",
       " 'roc_curve': Columns:\n",
       " \tthreshold\tfloat\n",
       " \tfpr\tfloat\n",
       " \ttpr\tfloat\n",
       " \tp\tint\n",
       " \tn\tint\n",
       " \n",
       " Rows: 100001\n",
       " \n",
       " Data:\n",
       " +-----------+-----+-----+------+-------+\n",
       " | threshold | fpr | tpr |  p   |   n   |\n",
       " +-----------+-----+-----+------+-------+\n",
       " |    0.0    | 1.0 | 1.0 | 2515 | 33470 |\n",
       " |   1e-05   | 1.0 | 1.0 | 2515 | 33470 |\n",
       " |   2e-05   | 1.0 | 1.0 | 2515 | 33470 |\n",
       " |   3e-05   | 1.0 | 1.0 | 2515 | 33470 |\n",
       " |   4e-05   | 1.0 | 1.0 | 2515 | 33470 |\n",
       " |   5e-05   | 1.0 | 1.0 | 2515 | 33470 |\n",
       " |   6e-05   | 1.0 | 1.0 | 2515 | 33470 |\n",
       " |   7e-05   | 1.0 | 1.0 | 2515 | 33470 |\n",
       " |   8e-05   | 1.0 | 1.0 | 2515 | 33470 |\n",
       " |   9e-05   | 1.0 | 1.0 | 2515 | 33470 |\n",
       " +-----------+-----+-----+------+-------+\n",
       " [100001 rows x 5 columns]\n",
       " Note: Only the head of the SFrame is printed.\n",
       " You can use print_rows(num_rows=m, num_columns=n) to print more rows and columns.}"
      ]
     },
     "execution_count": 112,
     "metadata": {},
     "output_type": "execute_result"
    }
   ],
   "source": [
    "gbt_model.evaluate(test_data)"
   ]
  },
  {
   "cell_type": "code",
   "execution_count": 113,
   "metadata": {},
   "outputs": [
    {
     "data": {
      "text/plain": [
       "{'accuracy': 0.9334167014033625,\n",
       " 'auc': 0.8527018587607859,\n",
       " 'confusion_matrix': Columns:\n",
       " \ttarget_label\tint\n",
       " \tpredicted_label\tint\n",
       " \tcount\tint\n",
       " \n",
       " Rows: 4\n",
       " \n",
       " Data:\n",
       " +--------------+-----------------+-------+\n",
       " | target_label | predicted_label | count |\n",
       " +--------------+-----------------+-------+\n",
       " |      0       |        1        |  297  |\n",
       " |      1       |        0        |  2099 |\n",
       " |      1       |        1        |  416  |\n",
       " |      0       |        0        | 33173 |\n",
       " +--------------+-----------------+-------+\n",
       " [4 rows x 3 columns],\n",
       " 'f1_score': 0.2577447335811648,\n",
       " 'log_loss': 0.19462835758809857,\n",
       " 'precision': 0.5834502103786816,\n",
       " 'recall': 0.1654075546719682,\n",
       " 'roc_curve': Columns:\n",
       " \tthreshold\tfloat\n",
       " \tfpr\tfloat\n",
       " \ttpr\tfloat\n",
       " \tp\tint\n",
       " \tn\tint\n",
       " \n",
       " Rows: 100001\n",
       " \n",
       " Data:\n",
       " +-----------+-----+-----+------+-------+\n",
       " | threshold | fpr | tpr |  p   |   n   |\n",
       " +-----------+-----+-----+------+-------+\n",
       " |    0.0    | 1.0 | 1.0 | 2515 | 33470 |\n",
       " |   1e-05   | 1.0 | 1.0 | 2515 | 33470 |\n",
       " |   2e-05   | 1.0 | 1.0 | 2515 | 33470 |\n",
       " |   3e-05   | 1.0 | 1.0 | 2515 | 33470 |\n",
       " |   4e-05   | 1.0 | 1.0 | 2515 | 33470 |\n",
       " |   5e-05   | 1.0 | 1.0 | 2515 | 33470 |\n",
       " |   6e-05   | 1.0 | 1.0 | 2515 | 33470 |\n",
       " |   7e-05   | 1.0 | 1.0 | 2515 | 33470 |\n",
       " |   8e-05   | 1.0 | 1.0 | 2515 | 33470 |\n",
       " |   9e-05   | 1.0 | 1.0 | 2515 | 33470 |\n",
       " +-----------+-----+-----+------+-------+\n",
       " [100001 rows x 5 columns]\n",
       " Note: Only the head of the SFrame is printed.\n",
       " You can use print_rows(num_rows=m, num_columns=n) to print more rows and columns.}"
      ]
     },
     "execution_count": 113,
     "metadata": {},
     "output_type": "execute_result"
    }
   ],
   "source": [
    "gbt_model_ext.evaluate(test_data)"
   ]
  },
  {
   "cell_type": "markdown",
   "metadata": {},
   "source": [
    "## Support Vector Machine"
   ]
  },
  {
   "cell_type": "code",
   "execution_count": 120,
   "metadata": {},
   "outputs": [
    {
     "data": {
      "text/html": [
       "<pre>SVM:</pre>"
      ],
      "text/plain": [
       "SVM:"
      ]
     },
     "metadata": {},
     "output_type": "display_data"
    },
    {
     "data": {
      "text/html": [
       "<pre>--------------------------------------------------------</pre>"
      ],
      "text/plain": [
       "--------------------------------------------------------"
      ]
     },
     "metadata": {},
     "output_type": "display_data"
    },
    {
     "data": {
      "text/html": [
       "<pre>Number of examples          : 84284</pre>"
      ],
      "text/plain": [
       "Number of examples          : 84284"
      ]
     },
     "metadata": {},
     "output_type": "display_data"
    },
    {
     "data": {
      "text/html": [
       "<pre>Number of classes           : 2</pre>"
      ],
      "text/plain": [
       "Number of classes           : 2"
      ]
     },
     "metadata": {},
     "output_type": "display_data"
    },
    {
     "data": {
      "text/html": [
       "<pre>Number of feature columns   : 10</pre>"
      ],
      "text/plain": [
       "Number of feature columns   : 10"
      ]
     },
     "metadata": {},
     "output_type": "display_data"
    },
    {
     "data": {
      "text/html": [
       "<pre>Number of unpacked features : 10</pre>"
      ],
      "text/plain": [
       "Number of unpacked features : 10"
      ]
     },
     "metadata": {},
     "output_type": "display_data"
    },
    {
     "data": {
      "text/html": [
       "<pre>Number of coefficients    : 11</pre>"
      ],
      "text/plain": [
       "Number of coefficients    : 11"
      ]
     },
     "metadata": {},
     "output_type": "display_data"
    },
    {
     "data": {
      "text/html": [
       "<pre>Starting L-BFGS</pre>"
      ],
      "text/plain": [
       "Starting L-BFGS"
      ]
     },
     "metadata": {},
     "output_type": "display_data"
    },
    {
     "data": {
      "text/html": [
       "<pre>--------------------------------------------------------</pre>"
      ],
      "text/plain": [
       "--------------------------------------------------------"
      ]
     },
     "metadata": {},
     "output_type": "display_data"
    },
    {
     "data": {
      "text/html": [
       "<pre>+-----------+----------+-----------+--------------+-------------------+</pre>"
      ],
      "text/plain": [
       "+-----------+----------+-----------+--------------+-------------------+"
      ]
     },
     "metadata": {},
     "output_type": "display_data"
    },
    {
     "data": {
      "text/html": [
       "<pre>| Iteration | Passes   | Step size | Elapsed Time | Training-accuracy |</pre>"
      ],
      "text/plain": [
       "| Iteration | Passes   | Step size | Elapsed Time | Training-accuracy |"
      ]
     },
     "metadata": {},
     "output_type": "display_data"
    },
    {
     "data": {
      "text/html": [
       "<pre>+-----------+----------+-----------+--------------+-------------------+</pre>"
      ],
      "text/plain": [
       "+-----------+----------+-----------+--------------+-------------------+"
      ]
     },
     "metadata": {},
     "output_type": "display_data"
    },
    {
     "data": {
      "text/html": [
       "<pre>| 1         | 3        | 0.000012  | 0.045501     | 0.930687          |</pre>"
      ],
      "text/plain": [
       "| 1         | 3        | 0.000012  | 0.045501     | 0.930687          |"
      ]
     },
     "metadata": {},
     "output_type": "display_data"
    },
    {
     "data": {
      "text/html": [
       "<pre>| 2         | 6        | 5.000000  | 0.112002     | 0.930758          |</pre>"
      ],
      "text/plain": [
       "| 2         | 6        | 5.000000  | 0.112002     | 0.930758          |"
      ]
     },
     "metadata": {},
     "output_type": "display_data"
    },
    {
     "data": {
      "text/html": [
       "<pre>| 3         | 7        | 5.000000  | 0.140502     | 0.069313          |</pre>"
      ],
      "text/plain": [
       "| 3         | 7        | 5.000000  | 0.140502     | 0.069313          |"
      ]
     },
     "metadata": {},
     "output_type": "display_data"
    },
    {
     "data": {
      "text/html": [
       "<pre>| 4         | 10       | 5.000000  | 0.191015     | 0.930687          |</pre>"
      ],
      "text/plain": [
       "| 4         | 10       | 5.000000  | 0.191015     | 0.930687          |"
      ]
     },
     "metadata": {},
     "output_type": "display_data"
    },
    {
     "data": {
      "text/html": [
       "<pre>| 5         | 11       | 5.000000  | 0.218003     | 0.930758          |</pre>"
      ],
      "text/plain": [
       "| 5         | 11       | 5.000000  | 0.218003     | 0.930758          |"
      ]
     },
     "metadata": {},
     "output_type": "display_data"
    },
    {
     "data": {
      "text/html": [
       "<pre>| 6         | 12       | 5.000000  | 0.246502     | 0.069313          |</pre>"
      ],
      "text/plain": [
       "| 6         | 12       | 5.000000  | 0.246502     | 0.069313          |"
      ]
     },
     "metadata": {},
     "output_type": "display_data"
    },
    {
     "data": {
      "text/html": [
       "<pre>+-----------+----------+-----------+--------------+-------------------+</pre>"
      ],
      "text/plain": [
       "+-----------+----------+-----------+--------------+-------------------+"
      ]
     },
     "metadata": {},
     "output_type": "display_data"
    },
    {
     "data": {
      "text/html": [
       "<pre>TERMINATED: Iteration limit reached.</pre>"
      ],
      "text/plain": [
       "TERMINATED: Iteration limit reached."
      ]
     },
     "metadata": {},
     "output_type": "display_data"
    },
    {
     "data": {
      "text/html": [
       "<pre>This model may not be optimal. To improve it, consider increasing `max_iterations`.</pre>"
      ],
      "text/plain": [
       "This model may not be optimal. To improve it, consider increasing `max_iterations`."
      ]
     },
     "metadata": {},
     "output_type": "display_data"
    },
    {
     "data": {
      "text/html": [
       "<pre>SVM:</pre>"
      ],
      "text/plain": [
       "SVM:"
      ]
     },
     "metadata": {},
     "output_type": "display_data"
    },
    {
     "data": {
      "text/html": [
       "<pre>--------------------------------------------------------</pre>"
      ],
      "text/plain": [
       "--------------------------------------------------------"
      ]
     },
     "metadata": {},
     "output_type": "display_data"
    },
    {
     "data": {
      "text/html": [
       "<pre>Number of examples          : 84284</pre>"
      ],
      "text/plain": [
       "Number of examples          : 84284"
      ]
     },
     "metadata": {},
     "output_type": "display_data"
    },
    {
     "data": {
      "text/html": [
       "<pre>Number of classes           : 2</pre>"
      ],
      "text/plain": [
       "Number of classes           : 2"
      ]
     },
     "metadata": {},
     "output_type": "display_data"
    },
    {
     "data": {
      "text/html": [
       "<pre>Number of feature columns   : 13</pre>"
      ],
      "text/plain": [
       "Number of feature columns   : 13"
      ]
     },
     "metadata": {},
     "output_type": "display_data"
    },
    {
     "data": {
      "text/html": [
       "<pre>Number of unpacked features : 13</pre>"
      ],
      "text/plain": [
       "Number of unpacked features : 13"
      ]
     },
     "metadata": {},
     "output_type": "display_data"
    },
    {
     "data": {
      "text/html": [
       "<pre>Number of coefficients    : 14</pre>"
      ],
      "text/plain": [
       "Number of coefficients    : 14"
      ]
     },
     "metadata": {},
     "output_type": "display_data"
    },
    {
     "data": {
      "text/html": [
       "<pre>Starting L-BFGS</pre>"
      ],
      "text/plain": [
       "Starting L-BFGS"
      ]
     },
     "metadata": {},
     "output_type": "display_data"
    },
    {
     "data": {
      "text/html": [
       "<pre>--------------------------------------------------------</pre>"
      ],
      "text/plain": [
       "--------------------------------------------------------"
      ]
     },
     "metadata": {},
     "output_type": "display_data"
    },
    {
     "data": {
      "text/html": [
       "<pre>+-----------+----------+-----------+--------------+-------------------+</pre>"
      ],
      "text/plain": [
       "+-----------+----------+-----------+--------------+-------------------+"
      ]
     },
     "metadata": {},
     "output_type": "display_data"
    },
    {
     "data": {
      "text/html": [
       "<pre>| Iteration | Passes   | Step size | Elapsed Time | Training-accuracy |</pre>"
      ],
      "text/plain": [
       "| Iteration | Passes   | Step size | Elapsed Time | Training-accuracy |"
      ]
     },
     "metadata": {},
     "output_type": "display_data"
    },
    {
     "data": {
      "text/html": [
       "<pre>+-----------+----------+-----------+--------------+-------------------+</pre>"
      ],
      "text/plain": [
       "+-----------+----------+-----------+--------------+-------------------+"
      ]
     },
     "metadata": {},
     "output_type": "display_data"
    },
    {
     "data": {
      "text/html": [
       "<pre>| 1         | 3        | 0.000012  | 0.074502     | 0.930663          |</pre>"
      ],
      "text/plain": [
       "| 1         | 3        | 0.000012  | 0.074502     | 0.930663          |"
      ]
     },
     "metadata": {},
     "output_type": "display_data"
    },
    {
     "data": {
      "text/html": [
       "<pre>| 2         | 10       | 6.273809  | 0.230000     | 0.930710          |</pre>"
      ],
      "text/plain": [
       "| 2         | 10       | 6.273809  | 0.230000     | 0.930710          |"
      ]
     },
     "metadata": {},
     "output_type": "display_data"
    },
    {
     "data": {
      "text/html": [
       "<pre>| 3         | 11       | 6.273809  | 0.264501     | 0.069325          |</pre>"
      ],
      "text/plain": [
       "| 3         | 11       | 6.273809  | 0.264501     | 0.069325          |"
      ]
     },
     "metadata": {},
     "output_type": "display_data"
    },
    {
     "data": {
      "text/html": [
       "<pre>| 4         | 13       | 1.000000  | 0.334000     | 0.813061          |</pre>"
      ],
      "text/plain": [
       "| 4         | 13       | 1.000000  | 0.334000     | 0.813061          |"
      ]
     },
     "metadata": {},
     "output_type": "display_data"
    },
    {
     "data": {
      "text/html": [
       "<pre>| 5         | 14       | 1.000000  | 0.375003     | 0.930675          |</pre>"
      ],
      "text/plain": [
       "| 5         | 14       | 1.000000  | 0.375003     | 0.930675          |"
      ]
     },
     "metadata": {},
     "output_type": "display_data"
    },
    {
     "data": {
      "text/html": [
       "<pre>| 6         | 20       | 9.000000  | 0.506002     | 0.923687          |</pre>"
      ],
      "text/plain": [
       "| 6         | 20       | 9.000000  | 0.506002     | 0.923687          |"
      ]
     },
     "metadata": {},
     "output_type": "display_data"
    },
    {
     "data": {
      "text/html": [
       "<pre>+-----------+----------+-----------+--------------+-------------------+</pre>"
      ],
      "text/plain": [
       "+-----------+----------+-----------+--------------+-------------------+"
      ]
     },
     "metadata": {},
     "output_type": "display_data"
    },
    {
     "data": {
      "text/html": [
       "<pre>TERMINATED: Iteration limit reached.</pre>"
      ],
      "text/plain": [
       "TERMINATED: Iteration limit reached."
      ]
     },
     "metadata": {},
     "output_type": "display_data"
    },
    {
     "data": {
      "text/html": [
       "<pre>This model may not be optimal. To improve it, consider increasing `max_iterations`.</pre>"
      ],
      "text/plain": [
       "This model may not be optimal. To improve it, consider increasing `max_iterations`."
      ]
     },
     "metadata": {},
     "output_type": "display_data"
    }
   ],
   "source": [
    "svm_model = graphlab.svm_classifier.create(train_data, target=target, features=features, validation_set=None, feature_rescaling=True)\n",
    "svm_model_ext = graphlab.svm_classifier.create(train_data, target=target, features=features_ext, validation_set=None, feature_rescaling=True)"
   ]
  },
  {
   "cell_type": "code",
   "execution_count": 121,
   "metadata": {},
   "outputs": [
    {
     "data": {
      "text/plain": [
       "{'accuracy': 0.9301097679588718, 'confusion_matrix': Columns:\n",
       " \ttarget_label\tint\n",
       " \tpredicted_label\tint\n",
       " \tcount\tint\n",
       " \n",
       " Rows: 2\n",
       " \n",
       " Data:\n",
       " +--------------+-----------------+-------+\n",
       " | target_label | predicted_label | count |\n",
       " +--------------+-----------------+-------+\n",
       " |      1       |        0        |  2515 |\n",
       " |      0       |        0        | 33470 |\n",
       " +--------------+-----------------+-------+\n",
       " [2 rows x 3 columns], 'f1_score': 0.0, 'precision': None, 'recall': 0.0}"
      ]
     },
     "execution_count": 121,
     "metadata": {},
     "output_type": "execute_result"
    }
   ],
   "source": [
    "svm_model.evaluate(test_data)"
   ]
  },
  {
   "cell_type": "code",
   "execution_count": 122,
   "metadata": {},
   "outputs": [
    {
     "data": {
      "text/plain": [
       "{'accuracy': 0.06997360011115743, 'confusion_matrix': Columns:\n",
       " \ttarget_label\tint\n",
       " \tpredicted_label\tint\n",
       " \tcount\tint\n",
       " \n",
       " Rows: 3\n",
       " \n",
       " Data:\n",
       " +--------------+-----------------+-------+\n",
       " | target_label | predicted_label | count |\n",
       " +--------------+-----------------+-------+\n",
       " |      0       |        0        |   3   |\n",
       " |      1       |        1        |  2515 |\n",
       " |      0       |        1        | 33467 |\n",
       " +--------------+-----------------+-------+\n",
       " [3 rows x 3 columns], 'f1_score': 0.13065953191157753, 'precision': 0.06989605914068145, 'recall': 1.0}"
      ]
     },
     "execution_count": 122,
     "metadata": {},
     "output_type": "execute_result"
    }
   ],
   "source": [
    "svm_model_ext.evaluate(test_data)"
   ]
  },
  {
   "cell_type": "markdown",
   "metadata": {},
   "source": [
    "## Neural Network"
   ]
  },
  {
   "cell_type": "code",
   "execution_count": 123,
   "metadata": {},
   "outputs": [
    {
     "name": "stdout",
     "output_type": "stream",
     "text": [
      "Using network:\n",
      "\n",
      "### network layers ###\n",
      "layer[0]: FullConnectionLayer\n",
      "  init_sigma = 0.01\n",
      "  init_random = gaussian\n",
      "  init_bias = 0\n",
      "  num_hidden_units = 10\n",
      "layer[1]: SigmoidLayer\n",
      "layer[2]: FullConnectionLayer\n",
      "  init_sigma = 0.01\n",
      "  init_random = gaussian\n",
      "  init_bias = 0\n",
      "  num_hidden_units = 2\n",
      "layer[3]: SoftmaxLayer\n",
      "### end network layers ###\n",
      "\n",
      "### network parameters ###\n",
      "learning_rate = 0.001\n",
      "momentum = 0.9\n",
      "### end network parameters ###\n",
      "\n"
     ]
    },
    {
     "data": {
      "text/html": [
       "<pre>Creating neuralnet using cpu</pre>"
      ],
      "text/plain": [
       "Creating neuralnet using cpu"
      ]
     },
     "metadata": {},
     "output_type": "display_data"
    },
    {
     "data": {
      "text/html": [
       "<pre>Training with batch size = 100</pre>"
      ],
      "text/plain": [
       "Training with batch size = 100"
      ]
     },
     "metadata": {},
     "output_type": "display_data"
    },
    {
     "data": {
      "text/html": [
       "<pre>+-----------+----------+--------------+-------------------+-----------------+</pre>"
      ],
      "text/plain": [
       "+-----------+----------+--------------+-------------------+-----------------+"
      ]
     },
     "metadata": {},
     "output_type": "display_data"
    },
    {
     "data": {
      "text/html": [
       "<pre>| Iteration | Examples | Elapsed Time | Training-accuracy | Examples/second |</pre>"
      ],
      "text/plain": [
       "| Iteration | Examples | Elapsed Time | Training-accuracy | Examples/second |"
      ]
     },
     "metadata": {},
     "output_type": "display_data"
    },
    {
     "data": {
      "text/html": [
       "<pre>+-----------+----------+--------------+-------------------+-----------------+</pre>"
      ],
      "text/plain": [
       "+-----------+----------+--------------+-------------------+-----------------+"
      ]
     },
     "metadata": {},
     "output_type": "display_data"
    },
    {
     "data": {
      "text/html": [
       "<pre>| 1         | 84300    | 0.150076     | 0.927675          | 561750.250000   |</pre>"
      ],
      "text/plain": [
       "| 1         | 84300    | 0.150076     | 0.927675          | 561750.250000   |"
      ]
     },
     "metadata": {},
     "output_type": "display_data"
    },
    {
     "data": {
      "text/html": [
       "<pre>| 2         | 84300    | 0.262296     | 0.930664          | 751835.625000   |</pre>"
      ],
      "text/plain": [
       "| 2         | 84300    | 0.262296     | 0.930664          | 751835.625000   |"
      ]
     },
     "metadata": {},
     "output_type": "display_data"
    },
    {
     "data": {
      "text/html": [
       "<pre>| 3         | 84300    | 0.364078     | 0.930664          | 829283.687500   |</pre>"
      ],
      "text/plain": [
       "| 3         | 84300    | 0.364078     | 0.930664          | 829283.687500   |"
      ]
     },
     "metadata": {},
     "output_type": "display_data"
    },
    {
     "data": {
      "text/html": [
       "<pre>| 4         | 84300    | 0.465134     | 0.930664          | 835071.437500   |</pre>"
      ],
      "text/plain": [
       "| 4         | 84300    | 0.465134     | 0.930664          | 835071.437500   |"
      ]
     },
     "metadata": {},
     "output_type": "display_data"
    },
    {
     "data": {
      "text/html": [
       "<pre>| 5         | 84300    | 0.566215     | 0.930664          | 834748.687500   |</pre>"
      ],
      "text/plain": [
       "| 5         | 84300    | 0.566215     | 0.930664          | 834748.687500   |"
      ]
     },
     "metadata": {},
     "output_type": "display_data"
    },
    {
     "data": {
      "text/html": [
       "<pre>| 6         | 84300    | 0.667312     | 0.930664          | 834609.750000   |</pre>"
      ],
      "text/plain": [
       "| 6         | 84300    | 0.667312     | 0.930664          | 834609.750000   |"
      ]
     },
     "metadata": {},
     "output_type": "display_data"
    },
    {
     "data": {
      "text/html": [
       "<pre>| 7         | 84300    | 0.770611     | 0.930664          | 816881.562500   |</pre>"
      ],
      "text/plain": [
       "| 7         | 84300    | 0.770611     | 0.930664          | 816881.562500   |"
      ]
     },
     "metadata": {},
     "output_type": "display_data"
    },
    {
     "data": {
      "text/html": [
       "<pre>| 8         | 84300    | 0.873938     | 0.930664          | 816713.500000   |</pre>"
      ],
      "text/plain": [
       "| 8         | 84300    | 0.873938     | 0.930664          | 816713.500000   |"
      ]
     },
     "metadata": {},
     "output_type": "display_data"
    },
    {
     "data": {
      "text/html": [
       "<pre>| 9         | 84300    | 0.977345     | 0.930664          | 815912.562500   |</pre>"
      ],
      "text/plain": [
       "| 9         | 84300    | 0.977345     | 0.930664          | 815912.562500   |"
      ]
     },
     "metadata": {},
     "output_type": "display_data"
    },
    {
     "data": {
      "text/html": [
       "<pre>| 10        | 84300    | 1.078380     | 0.930664          | 835061.000000   |</pre>"
      ],
      "text/plain": [
       "| 10        | 84300    | 1.078380     | 0.930664          | 835061.000000   |"
      ]
     },
     "metadata": {},
     "output_type": "display_data"
    },
    {
     "data": {
      "text/html": [
       "<pre>+-----------+----------+--------------+-------------------+-----------------+</pre>"
      ],
      "text/plain": [
       "+-----------+----------+--------------+-------------------+-----------------+"
      ]
     },
     "metadata": {},
     "output_type": "display_data"
    },
    {
     "name": "stdout",
     "output_type": "stream",
     "text": [
      "Using network:\n",
      "\n",
      "### network layers ###\n",
      "layer[0]: FullConnectionLayer\n",
      "  init_sigma = 0.01\n",
      "  init_random = gaussian\n",
      "  init_bias = 0\n",
      "  num_hidden_units = 10\n",
      "layer[1]: SigmoidLayer\n",
      "layer[2]: FullConnectionLayer\n",
      "  init_sigma = 0.01\n",
      "  init_random = gaussian\n",
      "  init_bias = 0\n",
      "  num_hidden_units = 2\n",
      "layer[3]: SoftmaxLayer\n",
      "### end network layers ###\n",
      "\n",
      "### network parameters ###\n",
      "learning_rate = 0.001\n",
      "momentum = 0.9\n",
      "### end network parameters ###\n",
      "\n"
     ]
    },
    {
     "data": {
      "text/html": [
       "<pre>Creating neuralnet using cpu</pre>"
      ],
      "text/plain": [
       "Creating neuralnet using cpu"
      ]
     },
     "metadata": {},
     "output_type": "display_data"
    },
    {
     "data": {
      "text/html": [
       "<pre>Training with batch size = 100</pre>"
      ],
      "text/plain": [
       "Training with batch size = 100"
      ]
     },
     "metadata": {},
     "output_type": "display_data"
    },
    {
     "data": {
      "text/html": [
       "<pre>+-----------+----------+--------------+-------------------+-----------------+</pre>"
      ],
      "text/plain": [
       "+-----------+----------+--------------+-------------------+-----------------+"
      ]
     },
     "metadata": {},
     "output_type": "display_data"
    },
    {
     "data": {
      "text/html": [
       "<pre>| Iteration | Examples | Elapsed Time | Training-accuracy | Examples/second |</pre>"
      ],
      "text/plain": [
       "| Iteration | Examples | Elapsed Time | Training-accuracy | Examples/second |"
      ]
     },
     "metadata": {},
     "output_type": "display_data"
    },
    {
     "data": {
      "text/html": [
       "<pre>+-----------+----------+--------------+-------------------+-----------------+</pre>"
      ],
      "text/plain": [
       "+-----------+----------+--------------+-------------------+-----------------+"
      ]
     },
     "metadata": {},
     "output_type": "display_data"
    },
    {
     "data": {
      "text/html": [
       "<pre>| 1         | 84300    | 0.124785     | 0.930617          | 675684.125000   |</pre>"
      ],
      "text/plain": [
       "| 1         | 84300    | 0.124785     | 0.930617          | 675684.125000   |"
      ]
     },
     "metadata": {},
     "output_type": "display_data"
    },
    {
     "data": {
      "text/html": [
       "<pre>| 2         | 84300    | 0.234780     | 0.930664          | 767127.187500   |</pre>"
      ],
      "text/plain": [
       "| 2         | 84300    | 0.234780     | 0.930664          | 767127.187500   |"
      ]
     },
     "metadata": {},
     "output_type": "display_data"
    },
    {
     "data": {
      "text/html": [
       "<pre>| 3         | 84300    | 0.351052     | 0.930664          | 725656.000000   |</pre>"
      ],
      "text/plain": [
       "| 3         | 84300    | 0.351052     | 0.930664          | 725656.000000   |"
      ]
     },
     "metadata": {},
     "output_type": "display_data"
    },
    {
     "data": {
      "text/html": [
       "<pre>| 4         | 84300    | 0.488735     | 0.930664          | 612706.062500   |</pre>"
      ],
      "text/plain": [
       "| 4         | 84300    | 0.488735     | 0.930664          | 612706.062500   |"
      ]
     },
     "metadata": {},
     "output_type": "display_data"
    },
    {
     "data": {
      "text/html": [
       "<pre>| 5         | 84300    | 0.600148     | 0.930664          | 757240.000000   |</pre>"
      ],
      "text/plain": [
       "| 5         | 84300    | 0.600148     | 0.930664          | 757240.000000   |"
      ]
     },
     "metadata": {},
     "output_type": "display_data"
    },
    {
     "data": {
      "text/html": [
       "<pre>| 6         | 84300    | 0.710062     | 0.930664          | 767575.437500   |</pre>"
      ],
      "text/plain": [
       "| 6         | 84300    | 0.710062     | 0.930664          | 767575.437500   |"
      ]
     },
     "metadata": {},
     "output_type": "display_data"
    },
    {
     "data": {
      "text/html": [
       "<pre>| 7         | 84300    | 0.805134     | 0.930664          | 887524.875000   |</pre>"
      ],
      "text/plain": [
       "| 7         | 84300    | 0.805134     | 0.930664          | 887524.875000   |"
      ]
     },
     "metadata": {},
     "output_type": "display_data"
    },
    {
     "data": {
      "text/html": [
       "<pre>| 8         | 84300    | 0.952670     | 0.930664          | 571721.562500   |</pre>"
      ],
      "text/plain": [
       "| 8         | 84300    | 0.952670     | 0.930664          | 571721.562500   |"
      ]
     },
     "metadata": {},
     "output_type": "display_data"
    },
    {
     "data": {
      "text/html": [
       "<pre>| 9         | 84300    | 1.062644     | 0.930664          | 767192.812500   |</pre>"
      ],
      "text/plain": [
       "| 9         | 84300    | 1.062644     | 0.930664          | 767192.812500   |"
      ]
     },
     "metadata": {},
     "output_type": "display_data"
    },
    {
     "data": {
      "text/html": [
       "<pre>| 10        | 84300    | 1.158049     | 0.930664          | 884481.625000   |</pre>"
      ],
      "text/plain": [
       "| 10        | 84300    | 1.158049     | 0.930664          | 884481.625000   |"
      ]
     },
     "metadata": {},
     "output_type": "display_data"
    },
    {
     "data": {
      "text/html": [
       "<pre>+-----------+----------+--------------+-------------------+-----------------+</pre>"
      ],
      "text/plain": [
       "+-----------+----------+--------------+-------------------+-----------------+"
      ]
     },
     "metadata": {},
     "output_type": "display_data"
    }
   ],
   "source": [
    "neuralnet_model = graphlab.neuralnet_classifier.create(train_data, target=target, features=features, validation_set=None)\n",
    "neuralnet_model_ext = graphlab.neuralnet_classifier.create(train_data, target=target, features=features_ext, validation_set=None)"
   ]
  },
  {
   "cell_type": "code",
   "execution_count": 124,
   "metadata": {},
   "outputs": [
    {
     "data": {
      "text/plain": [
       "{'accuracy': 0.9301097393035889, 'confusion_matrix': Columns:\n",
       " \ttarget_label\tint\n",
       " \tpredicted_label\tint\n",
       " \tcount\tint\n",
       " \n",
       " Rows: 2\n",
       " \n",
       " Data:\n",
       " +--------------+-----------------+-------+\n",
       " | target_label | predicted_label | count |\n",
       " +--------------+-----------------+-------+\n",
       " |      0       |        0        | 33470 |\n",
       " |      1       |        0        |  2515 |\n",
       " +--------------+-----------------+-------+\n",
       " [2 rows x 3 columns]}"
      ]
     },
     "execution_count": 124,
     "metadata": {},
     "output_type": "execute_result"
    }
   ],
   "source": [
    "neuralnet_model.evaluate(test_data)"
   ]
  },
  {
   "cell_type": "code",
   "execution_count": 128,
   "metadata": {},
   "outputs": [
    {
     "data": {
      "text/plain": [
       "{'accuracy': 0.9301097393035889, 'confusion_matrix': Columns:\n",
       " \ttarget_label\tint\n",
       " \tpredicted_label\tint\n",
       " \tcount\tint\n",
       " \n",
       " Rows: 2\n",
       " \n",
       " Data:\n",
       " +--------------+-----------------+-------+\n",
       " | target_label | predicted_label | count |\n",
       " +--------------+-----------------+-------+\n",
       " |      0       |        0        | 33470 |\n",
       " |      1       |        0        |  2515 |\n",
       " +--------------+-----------------+-------+\n",
       " [2 rows x 3 columns]}"
      ]
     },
     "execution_count": 128,
     "metadata": {},
     "output_type": "execute_result"
    }
   ],
   "source": [
    "neuralnet_model_ext.evaluate(test_data)"
   ]
  },
  {
   "cell_type": "markdown",
   "metadata": {},
   "source": [
    "# Resultados"
   ]
  },
  {
   "cell_type": "markdown",
   "metadata": {},
   "source": [
    "## Apresentação dos Resultados"
   ]
  },
  {
   "cell_type": "markdown",
   "metadata": {},
   "source": [
    "## Interpretação dos resultados"
   ]
  },
  {
   "cell_type": "markdown",
   "metadata": {},
   "source": [
    "# Conclusões"
   ]
  },
  {
   "cell_type": "markdown",
   "metadata": {},
   "source": [
    "# Trabalhos Futuros\n",
    "* Testar para outros datasets como estes que estão [aqui](http://www.rcreditscoring.com/credit-scoring-datasets/)\n",
    "* Evoluir modelos para englobar a análise de crédito para microempresas, ver motivação [aqui](https://bib.irb.hr/datoteka/182478.zekic-sarlija-bensicITI2004_revised.pdf) e [aqui](http://www.rieti.go.jp/jp/publications/dp/10e029.pdf)\n",
    "* Estender os modelos apresentados para abranger a relação entre a microempresa e seu don, ver motivação [aqui](http://www.bci2experian.com/library/LeadingLagStudy.pdf)\n",
    "* Estender os modelos apresentados a fim de considerar a relação entre pessoas físicas e microempresas\n",
    "* Comparamos os métodos tradicionais de Credit Scoring e Small Business Scoring com as abordagens desenvolvidas\n",
    "* Crédito em tempo real\n",
    "* Processamento dos dados de entrada\n",
    "* Métodos para detecção de fraudes nos dados cadastrais de entrada para os algoritmos\n",
    "\n",
    "\n"
   ]
  },
  {
   "cell_type": "code",
   "execution_count": null,
   "metadata": {
    "collapsed": true
   },
   "outputs": [],
   "source": []
  },
  {
   "cell_type": "code",
   "execution_count": null,
   "metadata": {
    "collapsed": true
   },
   "outputs": [],
   "source": []
  }
 ],
 "metadata": {
  "kernelspec": {
   "display_name": "Python 3",
   "language": "python",
   "name": "python3"
  },
  "language_info": {
   "codemirror_mode": {
    "name": "ipython",
    "version": 3
   },
   "file_extension": ".py",
   "mimetype": "text/x-python",
   "name": "python",
   "nbconvert_exporter": "python",
   "pygments_lexer": "ipython3",
   "version": "3.5.3"
  }
 },
 "nbformat": 4,
 "nbformat_minor": 1
}
